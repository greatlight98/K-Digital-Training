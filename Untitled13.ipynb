{
 "cells": [
  {
   "cell_type": "code",
   "execution_count": 2,
   "id": "62766e40",
   "metadata": {},
   "outputs": [
    {
     "name": "stdout",
     "output_type": "stream",
     "text": [
      "hello world\n",
      "hello world\n",
      "hello world\n",
      "hello world\n",
      "hello world\n",
      "hello world\n",
      "hello world\n",
      "hello world\n",
      "hello world\n",
      "hello world\n"
     ]
    }
   ],
   "source": [
    "## 포문 작성 기본 예시\n",
    "\n",
    "n=10\n",
    "for i in range(n):\n",
    "    print(\"hello world\")"
   ]
  },
  {
   "cell_type": "code",
   "execution_count": 18,
   "id": "3b148507",
   "metadata": {},
   "outputs": [
    {
     "name": "stdout",
     "output_type": "stream",
     "text": [
      "\n",
      "*\n",
      "**\n",
      "***\n",
      "****\n",
      "*****\n"
     ]
    }
   ],
   "source": [
    "n=5\n",
    "for i in range(n+1):\n",
    "    print(\"*\"*i)"
   ]
  },
  {
   "cell_type": "code",
   "execution_count": 36,
   "id": "a1f5de29",
   "metadata": {},
   "outputs": [
    {
     "name": "stdout",
     "output_type": "stream",
     "text": [
      "----- \n",
      "----- *\n",
      "----- **\n",
      "----- ***\n",
      "----- ****\n"
     ]
    }
   ],
   "source": [
    "a=5\n",
    "n=4\n",
    "for i in range(a-(4-n)):\n",
    "    print(\"-\"*a,\"*\"*i)"
   ]
  },
  {
   "cell_type": "code",
   "execution_count": 47,
   "id": "af57b032",
   "metadata": {},
   "outputs": [
    {
     "name": "stdout",
     "output_type": "stream",
     "text": [
      "\n",
      "*\n",
      "-**\n",
      "--***\n",
      "---****\n",
      "----*****\n"
     ]
    }
   ],
   "source": [
    "n=6\n",
    "for i in range(n):\n",
    "    print(\"-\"*(i-1)+\"*\"*(i))"
   ]
  },
  {
   "cell_type": "code",
   "execution_count": 41,
   "id": "775bbc91",
   "metadata": {},
   "outputs": [
    {
     "name": "stdout",
     "output_type": "stream",
     "text": [
      "----*\n",
      "---**\n",
      "--***\n",
      "-****\n",
      "*****\n"
     ]
    }
   ],
   "source": [
    "print(\"----*\")\n",
    "print(\"---**\")\n",
    "print(\"--***\")\n",
    "print(\"-****\")\n",
    "print(\"*****\")"
   ]
  },
  {
   "cell_type": "code",
   "execution_count": 56,
   "id": "2787741c",
   "metadata": {},
   "outputs": [
    {
     "name": "stdout",
     "output_type": "stream",
     "text": [
      "\n",
      "\n",
      "-\n",
      "--\n",
      "---\n",
      "\n",
      "*\n",
      "**\n",
      "***\n",
      "****\n",
      "*****\n"
     ]
    }
   ],
   "source": [
    "n=6\n",
    "for i in range(n-1):\n",
    "    b=print(\"-\"*(i-1))\n",
    "for i in range(n):\n",
    "    a=print(\"*\"*(i))"
   ]
  },
  {
   "cell_type": "code",
   "execution_count": 60,
   "id": "3bb4a934",
   "metadata": {},
   "outputs": [],
   "source": [
    "import random\n",
    "\n",
    "def solution(a, b):\n",
    "    a={3,3,5}\n",
    "    b={5,3,5}\n",
    "    answer = 0\n",
    "    return answer(a+b)\n",
    "    print(answer)"
   ]
  },
  {
   "cell_type": "code",
   "execution_count": 80,
   "id": "c30bac04",
   "metadata": {},
   "outputs": [
    {
     "ename": "NameError",
     "evalue": "name 'answer' is not defined",
     "output_type": "error",
     "traceback": [
      "\u001b[1;31m---------------------------------------------------------------------------\u001b[0m",
      "\u001b[1;31mNameError\u001b[0m                                 Traceback (most recent call last)",
      "\u001b[1;32m<ipython-input-80-7f5913d85e78>\u001b[0m in \u001b[0;36m<module>\u001b[1;34m\u001b[0m\n\u001b[0;32m     13\u001b[0m     \u001b[1;32mreturn\u001b[0m \u001b[0manswer\u001b[0m\u001b[1;33m\u001b[0m\u001b[1;33m\u001b[0m\u001b[0m\n\u001b[0;32m     14\u001b[0m \u001b[1;33m\u001b[0m\u001b[0m\n\u001b[1;32m---> 15\u001b[1;33m \u001b[0mprint\u001b[0m\u001b[1;33m(\u001b[0m\u001b[0manswer\u001b[0m\u001b[1;33m)\u001b[0m\u001b[1;33m\u001b[0m\u001b[1;33m\u001b[0m\u001b[0m\n\u001b[0m",
      "\u001b[1;31mNameError\u001b[0m: name 'answer' is not defined"
     ]
    }
   ],
   "source": [
    "def solution(array, commands):\n",
    "    \n",
    "    answer = []\n",
    "    answers = []\n",
    "    for command in commands:\n",
    "        answers = array[command[0]-1:command[1]]\n",
    "        answers.sort()\n",
    "        answer.append(answers[command[2]-1])\n",
    "\n",
    "    return answer"
   ]
  },
  {
   "cell_type": "code",
   "execution_count": 81,
   "id": "3f1c6e33",
   "metadata": {},
   "outputs": [],
   "source": [
    "def solution(array, commands):\n",
    "    \n",
    "    answer = []\n",
    "    \n",
    "    for com in commands:\n",
    "        i=com[0]\n",
    "        j=com[1]\n",
    "        k=com[2]\n",
    "        array2=sort(array[i+1:j])\n",
    "        answer.append(array2[k-1])\n",
    "        \n",
    "    return answer"
   ]
  },
  {
   "cell_type": "code",
   "execution_count": null,
   "id": "fd0596c7",
   "metadata": {},
   "outputs": [],
   "source": []
  }
 ],
 "metadata": {
  "kernelspec": {
   "display_name": "Python 3",
   "language": "python",
   "name": "python3"
  },
  "language_info": {
   "codemirror_mode": {
    "name": "ipython",
    "version": 3
   },
   "file_extension": ".py",
   "mimetype": "text/x-python",
   "name": "python",
   "nbconvert_exporter": "python",
   "pygments_lexer": "ipython3",
   "version": "3.8.8"
  }
 },
 "nbformat": 4,
 "nbformat_minor": 5
}
