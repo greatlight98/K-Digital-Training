{
 "cells": [
  {
   "cell_type": "markdown",
   "id": "ef83f00c",
   "metadata": {},
   "source": [
    "학습목표\n",
    "파이썬을 통해 프로그래밍의 기본 개념들을 이해하고 사용할 수 있다.\n",
    "    변수(variable)\n",
    "    함수(function)\n",
    "    연산자(operator)\n",
    "    제어문(control statements)\n",
    "    자료형(data types)\n",
    "오류 메세지를 읽고 이해할 수 있다.\n",
    "학습한 개념들을 토대로 코드를 이해하고 수정할 수 있다."
   ]
  },
  {
   "cell_type": "markdown",
   "id": "20088edc",
   "metadata": {},
   "source": [
    "수학에서의 함수 = f: x → y 또는 f(x) = y로 표기"
   ]
  },
  {
   "cell_type": "code",
   "execution_count": 2,
   "id": "1ca5e794",
   "metadata": {},
   "outputs": [
    {
     "name": "stdout",
     "output_type": "stream",
     "text": [
      "\n"
     ]
    }
   ],
   "source": [
    "#프로그래밍에서의 함수\n",
    "print()"
   ]
  },
  {
   "cell_type": "code",
   "execution_count": 3,
   "id": "b95510fc",
   "metadata": {},
   "outputs": [
    {
     "name": "stdout",
     "output_type": "stream",
     "text": [
      "1\n"
     ]
    }
   ],
   "source": [
    "print(1)"
   ]
  },
  {
   "cell_type": "code",
   "execution_count": 4,
   "id": "b78c1709",
   "metadata": {},
   "outputs": [
    {
     "name": "stdout",
     "output_type": "stream",
     "text": [
      "2\n"
     ]
    }
   ],
   "source": [
    "print(1+1)"
   ]
  },
  {
   "cell_type": "code",
   "execution_count": 5,
   "id": "0aca4100",
   "metadata": {},
   "outputs": [
    {
     "name": "stdout",
     "output_type": "stream",
     "text": [
      "Hello\n"
     ]
    }
   ],
   "source": [
    "print('Hello')"
   ]
  },
  {
   "cell_type": "code",
   "execution_count": 6,
   "id": "44523b62",
   "metadata": {},
   "outputs": [
    {
     "name": "stdout",
     "output_type": "stream",
     "text": [
      "Hello world!\n"
     ]
    }
   ],
   "source": [
    "print('Hello ' + 'world!')"
   ]
  },
  {
   "cell_type": "code",
   "execution_count": 8,
   "id": "1267286e",
   "metadata": {},
   "outputs": [
    {
     "ename": "TypeError",
     "evalue": "unsupported operand type(s) for -: 'str' and 'str'",
     "output_type": "error",
     "traceback": [
      "\u001b[1;31m---------------------------------------------------------------------------\u001b[0m",
      "\u001b[1;31mTypeError\u001b[0m                                 Traceback (most recent call last)",
      "\u001b[1;32m<ipython-input-8-9114ddb41a73>\u001b[0m in \u001b[0;36m<module>\u001b[1;34m\u001b[0m\n\u001b[1;32m----> 1\u001b[1;33m \u001b[0mprint\u001b[0m\u001b[1;33m(\u001b[0m\u001b[1;34m'Hello'\u001b[0m \u001b[1;33m-\u001b[0m \u001b[1;34m'o'\u001b[0m\u001b[1;33m)\u001b[0m\u001b[1;33m\u001b[0m\u001b[1;33m\u001b[0m\u001b[0m\n\u001b[0m\u001b[0;32m      2\u001b[0m \u001b[1;31m#str 타입과 str 타입 간에 - 연산은 지원하지 않음\u001b[0m\u001b[1;33m\u001b[0m\u001b[1;33m\u001b[0m\u001b[1;33m\u001b[0m\u001b[0m\n",
      "\u001b[1;31mTypeError\u001b[0m: unsupported operand type(s) for -: 'str' and 'str'"
     ]
    }
   ],
   "source": [
    "print('Hello' - 'o')\n",
    "#str 타입과 str 타입 간에 - 연산은 지원하지 않음"
   ]
  },
  {
   "cell_type": "markdown",
   "id": "815a75c4",
   "metadata": {},
   "source": [
    "3-3. 함수와 변수 (2) 변수 사용하기"
   ]
  },
  {
   "cell_type": "code",
   "execution_count": 9,
   "id": "213dc490",
   "metadata": {},
   "outputs": [
    {
     "name": "stdout",
     "output_type": "stream",
     "text": [
      "안녕하세요?\n"
     ]
    }
   ],
   "source": [
    "greeting = '안녕하세요?'\n",
    "#- greeting이라는 변수에 '안녕하세요?'라는 문자열을 저장합니다.\n",
    "print(greeting)\n",
    "#- greeting을 출력합니다.\n"
   ]
  },
  {
   "cell_type": "code",
   "execution_count": 11,
   "id": "3839b451",
   "metadata": {},
   "outputs": [
    {
     "ename": "NameError",
     "evalue": "name 'something' is not defined",
     "output_type": "error",
     "traceback": [
      "\u001b[1;31m---------------------------------------------------------------------------\u001b[0m",
      "\u001b[1;31mNameError\u001b[0m                                 Traceback (most recent call last)",
      "\u001b[1;32m<ipython-input-11-e1fc9cc74edc>\u001b[0m in \u001b[0;36m<module>\u001b[1;34m\u001b[0m\n\u001b[1;32m----> 1\u001b[1;33m \u001b[0mprint\u001b[0m\u001b[1;33m(\u001b[0m\u001b[0msomething\u001b[0m\u001b[1;33m)\u001b[0m\u001b[1;33m\u001b[0m\u001b[1;33m\u001b[0m\u001b[0m\n\u001b[0m\u001b[0;32m      2\u001b[0m \u001b[1;31m# something 이라는 변수명이 정의되지 않아서(not defined) 발생된 오류\u001b[0m\u001b[1;33m\u001b[0m\u001b[1;33m\u001b[0m\u001b[1;33m\u001b[0m\u001b[0m\n",
      "\u001b[1;31mNameError\u001b[0m: name 'something' is not defined"
     ]
    }
   ],
   "source": [
    "print(something)\n",
    "# something 이라는 변수명이 정의되지 않아서(not defined) 발생된 오류"
   ]
  },
  {
   "cell_type": "code",
   "execution_count": 12,
   "id": "2b8904ac",
   "metadata": {},
   "outputs": [
    {
     "name": "stdout",
     "output_type": "stream",
     "text": [
      "안녕!\n"
     ]
    }
   ],
   "source": [
    "greeting = '안녕하세요?'\n",
    "greeting = '안녕!'\n",
    "print(greeting)"
   ]
  },
  {
   "cell_type": "code",
   "execution_count": 13,
   "id": "8c826fea",
   "metadata": {},
   "outputs": [
    {
     "name": "stdout",
     "output_type": "stream",
     "text": [
      "안녕하세요?\n"
     ]
    }
   ],
   "source": [
    "greeting = '안녕하세요?'\n",
    "print(greeting)\n",
    "greeting = '안녕!'\n",
    "#print() 함수가 불리는 시점의 greeting 변수의 값인 안녕하세요?가 출력"
   ]
  },
  {
   "cell_type": "markdown",
   "id": "fa6d7721",
   "metadata": {},
   "source": [
    "3-4. 함수와 변수 (3) 새로운 함수를 정의하기"
   ]
  },
  {
   "cell_type": "code",
   "execution_count": 17,
   "id": "1669f2ce",
   "metadata": {},
   "outputs": [
    {
     "name": "stdout",
     "output_type": "stream",
     "text": [
      "안녕!\n"
     ]
    }
   ],
   "source": [
    "def say_hi():\n",
    "    print('안녕!')\n",
    "#- 부르면 '안녕!'이라고 인사해주는 함수를 정의합니다.\n",
    "say_hi()"
   ]
  },
  {
   "cell_type": "code",
   "execution_count": 20,
   "id": "9c8db0ee",
   "metadata": {},
   "outputs": [
    {
     "ename": "IndentationError",
     "evalue": "expected an indented block (<ipython-input-20-251a65a537cb>, line 2)",
     "output_type": "error",
     "traceback": [
      "\u001b[1;36m  File \u001b[1;32m\"<ipython-input-20-251a65a537cb>\"\u001b[1;36m, line \u001b[1;32m2\u001b[0m\n\u001b[1;33m    print('안녕!')\u001b[0m\n\u001b[1;37m    ^\u001b[0m\n\u001b[1;31mIndentationError\u001b[0m\u001b[1;31m:\u001b[0m expected an indented block\n"
     ]
    }
   ],
   "source": [
    "def say_hi_no_indent():\n",
    "print('안녕!')\n",
    "#- print() 함수 앞에 띄어쓰기 4칸이 빠져있습니다.\n",
    "say_hi_no_indent()\n",
    "#def 줄의 다음 줄부터 함수 정의가 끝날 때까지는 들여쓰기를 유지해야 하며, \n",
    "#이 들여쓰기가 유지되는 구간을 블럭(block)이라고 합니다."
   ]
  },
  {
   "cell_type": "code",
   "execution_count": 22,
   "id": "2c958fa7",
   "metadata": {},
   "outputs": [],
   "source": [
    "def say_hi_nice():\n",
    "    print('안녕!')\n",
    "    print('반가워.')\n",
    "#- 새로운 함수를 정의합니다."
   ]
  },
  {
   "cell_type": "code",
   "execution_count": 23,
   "id": "8b8c6d52",
   "metadata": {},
   "outputs": [
    {
     "name": "stdout",
     "output_type": "stream",
     "text": [
      "안녕!\n",
      "반가워.\n"
     ]
    }
   ],
   "source": [
    "say_hi_nice()\n",
    "#- 함수를 호출합니다."
   ]
  },
  {
   "cell_type": "markdown",
   "id": "38869566",
   "metadata": {},
   "source": [
    "5. 함수와 변수 (4) 스코프: 변수의 유효 범위"
   ]
  },
  {
   "cell_type": "code",
   "execution_count": 25,
   "id": "f621d73a",
   "metadata": {},
   "outputs": [
    {
     "ename": "NameError",
     "evalue": "name 'goodbye' is not defined",
     "output_type": "error",
     "traceback": [
      "\u001b[1;31m---------------------------------------------------------------------------\u001b[0m",
      "\u001b[1;31mNameError\u001b[0m                                 Traceback (most recent call last)",
      "\u001b[1;32m<ipython-input-25-2ab49edead64>\u001b[0m in \u001b[0;36m<module>\u001b[1;34m\u001b[0m\n\u001b[0;32m      1\u001b[0m \u001b[1;32mdef\u001b[0m \u001b[0msay_goodbye\u001b[0m\u001b[1;33m(\u001b[0m\u001b[1;33m)\u001b[0m\u001b[1;33m:\u001b[0m\u001b[1;33m\u001b[0m\u001b[1;33m\u001b[0m\u001b[0m\n\u001b[0;32m      2\u001b[0m     \u001b[0mgoodbye\u001b[0m \u001b[1;33m=\u001b[0m \u001b[1;34m'잘 가!'\u001b[0m\u001b[1;33m\u001b[0m\u001b[1;33m\u001b[0m\u001b[0m\n\u001b[1;32m----> 3\u001b[1;33m \u001b[0mprint\u001b[0m\u001b[1;33m(\u001b[0m\u001b[0mgoodbye\u001b[0m\u001b[1;33m)\u001b[0m\u001b[1;33m\u001b[0m\u001b[1;33m\u001b[0m\u001b[0m\n\u001b[0m",
      "\u001b[1;31mNameError\u001b[0m: name 'goodbye' is not defined"
     ]
    }
   ],
   "source": [
    "def say_goodbye():\n",
    "    goodbye = '잘 가!'\n",
    "print(goodbye)"
   ]
  },
  {
   "cell_type": "code",
   "execution_count": 1,
   "id": "e9c33368",
   "metadata": {},
   "outputs": [
    {
     "name": "stdout",
     "output_type": "stream",
     "text": [
      "하루\n",
      "시우\n"
     ]
    }
   ],
   "source": [
    "name = '하루'\n",
    "#- name이라는 변수는 문자열 '하루'를 가리킵니다.\n",
    "def say_name():\n",
    "    print(name)\n",
    "#- say_name() 함수의 밖에서 정의된 변수(name), 즉 '하루'를 읽어옵니다.\n",
    "say_name()\n",
    "name = '시우'\n",
    "#- 이제, name이라는 변수는 문자열 '시우'를 가리킵니다.\n",
    "say_name()"
   ]
  },
  {
   "cell_type": "code",
   "execution_count": 2,
   "id": "244ee40c",
   "metadata": {},
   "outputs": [
    {
     "name": "stdout",
     "output_type": "stream",
     "text": [
      "하루\n"
     ]
    }
   ],
   "source": [
    "name = '하루'\n",
    "#- name은 문자열 '하루'를 가리키는 변수입니다.\n",
    "def change_name():\n",
    "    name = '시우'\n",
    "#- 여기서 name은 해당 함수 내에서만 문자열 '시우'를 가리킵니다.\n",
    "change_name()\n",
    "#- 함수를 호출해도 아무 일도 일어나지 않습니다.\n",
    "print(name)\n",
    "#- 첫 줄, 즉 함수 바깥에서 정의된 문자열 '하루'가 출력됩니다."
   ]
  },
  {
   "cell_type": "code",
   "execution_count": null,
   "id": "f5a9eaa1",
   "metadata": {},
   "outputs": [],
   "source": []
  }
 ],
 "metadata": {
  "kernelspec": {
   "display_name": "Python 3",
   "language": "python",
   "name": "python3"
  },
  "language_info": {
   "codemirror_mode": {
    "name": "ipython",
    "version": 3
   },
   "file_extension": ".py",
   "mimetype": "text/x-python",
   "name": "python",
   "nbconvert_exporter": "python",
   "pygments_lexer": "ipython3",
   "version": "3.8.8"
  }
 },
 "nbformat": 4,
 "nbformat_minor": 5
}
