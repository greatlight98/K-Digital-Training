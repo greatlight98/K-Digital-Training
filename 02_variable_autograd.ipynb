{
 "cells": [
  {
   "cell_type": "code",
   "execution_count": 1,
   "metadata": {
    "executionInfo": {
     "elapsed": 9,
     "status": "aborted",
     "timestamp": 1622097352008,
     "user": {
      "displayName": "김태욱",
      "photoUrl": "",
      "userId": "17445168126929078750"
     },
     "user_tz": -540
    },
    "id": "5f1kSU7viLBz"
   },
   "outputs": [],
   "source": [
    "import torch\n",
    "from torch.autograd import Variable"
   ]
  },
  {
   "cell_type": "markdown",
   "metadata": {
    "id": "tTCktJUZiLB3"
   },
   "source": [
    "\n",
    "# Tensor VS Variable"
   ]
  },
  {
   "cell_type": "code",
   "execution_count": 2,
   "metadata": {
    "colab": {
     "base_uri": "https://localhost:8080/",
     "height": 222
    },
    "executionInfo": {
     "elapsed": 6,
     "status": "error",
     "timestamp": 1622097352587,
     "user": {
      "displayName": "김태욱",
      "photoUrl": "",
      "userId": "17445168126929078750"
     },
     "user_tz": -540
    },
    "id": "Mg2-aic4iLB3",
    "outputId": "5dace443-0ea2-4b26-f7f0-566952f3d12c"
   },
   "outputs": [
    {
     "data": {
      "text/plain": [
       "(tensor([[0.9469, 0.3753],\n",
       "         [0.3080, 0.3845]]),\n",
       " tensor([[0.9469, 0.3753],\n",
       "         [0.3080, 0.3845]], requires_grad=True))"
      ]
     },
     "execution_count": 2,
     "metadata": {},
     "output_type": "execute_result"
    }
   ],
   "source": [
    "tensor = torch.rand(2,2,)\n",
    "x = Variable(tensor, requires_grad=True)\n",
    "\n",
    "tensor, x"
   ]
  },
  {
   "cell_type": "code",
   "execution_count": 3,
   "metadata": {
    "colab": {
     "base_uri": "https://localhost:8080/",
     "height": 169
    },
    "executionInfo": {
     "elapsed": 7,
     "status": "error",
     "timestamp": 1622097353522,
     "user": {
      "displayName": "김태욱",
      "photoUrl": "",
      "userId": "17445168126929078750"
     },
     "user_tz": -540
    },
    "id": "vhH9_rQJiLB5",
    "outputId": "73a76b0b-4d18-42c8-d4f1-3838518eee7c"
   },
   "outputs": [
    {
     "data": {
      "text/plain": [
       "(tensor(2.0147, grad_fn=<SumBackward0>),\n",
       " tensor([[0.9731, 0.6126],\n",
       "         [0.5550, 0.6201]], grad_fn=<SqrtBackward>),\n",
       " tensor([[0.8966, 0.1408],\n",
       "         [0.0949, 0.1479]], grad_fn=<PowBackward0>),\n",
       " tensor([[0.9469, 0.3753],\n",
       "         [0.3080, 0.3845]], requires_grad=True))"
      ]
     },
     "execution_count": 3,
     "metadata": {},
     "output_type": "execute_result"
    }
   ],
   "source": [
    "x.sum(), x.sqrt(), x**2, x"
   ]
  },
  {
   "cell_type": "markdown",
   "metadata": {
    "id": "VKRmTzLtiLB5"
   },
   "source": [
    "\n",
    "# Variable"
   ]
  },
  {
   "cell_type": "code",
   "execution_count": 4,
   "metadata": {
    "colab": {
     "base_uri": "https://localhost:8080/",
     "height": 169
    },
    "executionInfo": {
     "elapsed": 19,
     "status": "error",
     "timestamp": 1622097352009,
     "user": {
      "displayName": "김태욱",
      "photoUrl": "",
      "userId": "17445168126929078750"
     },
     "user_tz": -540
    },
    "id": "OB78z7hHiLB5",
    "outputId": "da0d501f-c59a-43c9-e7be-32de36828918"
   },
   "outputs": [
    {
     "data": {
      "text/plain": [
       "tensor([[0.9469, 0.3753],\n",
       "        [0.3080, 0.3845]])"
      ]
     },
     "execution_count": 4,
     "metadata": {},
     "output_type": "execute_result"
    }
   ],
   "source": [
    "x.data"
   ]
  },
  {
   "cell_type": "code",
   "execution_count": 5,
   "metadata": {
    "executionInfo": {
     "elapsed": 8,
     "status": "aborted",
     "timestamp": 1622097352006,
     "user": {
      "displayName": "김태욱",
      "photoUrl": "",
      "userId": "17445168126929078750"
     },
     "user_tz": -540
    },
    "id": "6wOAsyTMiLB6"
   },
   "outputs": [
    {
     "data": {
      "text/plain": [
       "(True, None, None)"
      ]
     },
     "execution_count": 5,
     "metadata": {},
     "output_type": "execute_result"
    }
   ],
   "source": [
    "x.requires_grad, x.grad, x.grad_fn  # x.volatile 도 있었으나 없어졌음. 특정 최적화를 못하게 제한하는 변수였음"
   ]
  },
  {
   "cell_type": "code",
   "execution_count": 6,
   "metadata": {
    "executionInfo": {
     "elapsed": 8,
     "status": "aborted",
     "timestamp": 1622097352007,
     "user": {
      "displayName": "김태욱",
      "photoUrl": "",
      "userId": "17445168126929078750"
     },
     "user_tz": -540
    },
    "id": "YK1d66kriLB6"
   },
   "outputs": [
    {
     "data": {
      "text/plain": [
       "(True, True, False, tensor([30.], grad_fn=<AddBackward0>))"
      ]
     },
     "execution_count": 6,
     "metadata": {},
     "output_type": "execute_result"
    }
   ],
   "source": [
    "x = Variable(torch.FloatTensor([3]), requires_grad=True)\n",
    "\n",
    "y = x**3 + 3\n",
    "\n",
    "z  = Variable(torch.FloatTensor([5]))\n",
    "\n",
    "x.requires_grad, y.requires_grad, z.requires_grad, y   # 결과를 보면 y결과가 값과 역전파상 첫번째 미분함수를 표시함"
   ]
  },
  {
   "cell_type": "code",
   "execution_count": 7,
   "metadata": {
    "id": "0eg2x3aQiLB7",
    "outputId": "a5175790-5107-41f2-8999-fbf97a1e04a4"
   },
   "outputs": [
    {
     "data": {
      "text/plain": [
       "<PowBackward0 at 0x1f44f352f10>"
      ]
     },
     "execution_count": 7,
     "metadata": {},
     "output_type": "execute_result"
    }
   ],
   "source": [
    "y.grad_fn.next_functions[0][0]    # [각 역전파될 함수들][각 함수에서의 값]  ; 깊이 볼 필요는 없음"
   ]
  },
  {
   "cell_type": "code",
   "execution_count": 8,
   "metadata": {
    "id": "T2pvPZ5qiLB7",
    "outputId": "ad5e6743-284d-4e54-e3bd-c378b87e12c1"
   },
   "outputs": [
    {
     "data": {
      "text/plain": [
       "((<PowBackward0 at 0x1f44f352f10>, 0), (None, 0))"
      ]
     },
     "execution_count": 8,
     "metadata": {},
     "output_type": "execute_result"
    }
   ],
   "source": [
    "y.grad_fn.next_functions                                                   # 깊이 볼 필요는 없음"
   ]
  },
  {
   "cell_type": "code",
   "execution_count": 9,
   "metadata": {
    "id": "nr3SegeaiLB8",
    "outputId": "eb7d99de-9d09-4fd7-e188-06e7ea3856a4"
   },
   "outputs": [
    {
     "data": {
      "text/plain": [
       "((<PowBackward0 at 0x1f44f352f10>, 0), (None, 0))"
      ]
     },
     "execution_count": 9,
     "metadata": {},
     "output_type": "execute_result"
    }
   ],
   "source": [
    "y.grad_fn.next_functions[0], y.grad_fn.next_functions[1]                   # 깊이 볼 필요는 없음"
   ]
  },
  {
   "cell_type": "code",
   "execution_count": 10,
   "metadata": {
    "id": "kHsgEl3giLB8",
    "outputId": "da6fc3ed-8cdd-4d67-9c83-b3bf994cc358"
   },
   "outputs": [
    {
     "data": {
      "text/plain": [
       "(<PowBackward0 at 0x1f44f352f10>, 0)"
      ]
     },
     "execution_count": 10,
     "metadata": {},
     "output_type": "execute_result"
    }
   ],
   "source": [
    "y.grad_fn.next_functions[0][0], y.grad_fn.next_functions[0][1]             # 깊이 볼 필요는 없음"
   ]
  },
  {
   "cell_type": "code",
   "execution_count": 11,
   "metadata": {
    "id": "6dOIhH3SiLB9",
    "outputId": "428f8637-a1d0-486e-b495-36b523fbbf0f"
   },
   "outputs": [
    {
     "data": {
      "text/plain": [
       "(None, 0)"
      ]
     },
     "execution_count": 11,
     "metadata": {},
     "output_type": "execute_result"
    }
   ],
   "source": [
    "y.grad_fn.next_functions[1][0], y.grad_fn.next_functions[1][1]             # 깊이 볼 필요는 없음"
   ]
  },
  {
   "cell_type": "code",
   "execution_count": 12,
   "metadata": {
    "id": "m5-aIopHiLB9",
    "outputId": "53728297-8219-4155-d9ea-e869f8b45e09"
   },
   "outputs": [
    {
     "data": {
      "text/plain": [
       "<AccumulateGrad at 0x1f43d2e6280>"
      ]
     },
     "execution_count": 12,
     "metadata": {},
     "output_type": "execute_result"
    }
   ],
   "source": [
    "y.grad_fn.next_functions[0][0].next_functions[0][0]                        # 깊이 볼 필요는 없음. 더 내려가면 오류"
   ]
  },
  {
   "cell_type": "code",
   "execution_count": 13,
   "metadata": {
    "id": "irnhoJKOiLB9"
   },
   "outputs": [],
   "source": [
    "y.backward()"
   ]
  },
  {
   "cell_type": "code",
   "execution_count": 14,
   "metadata": {
    "id": "JtyKmcoBiLB-",
    "outputId": "bb629d33-234a-4e72-dc76-556f072424da"
   },
   "outputs": [
    {
     "data": {
      "text/plain": [
       "(tensor([3.], requires_grad=True), tensor([27.]))"
      ]
     },
     "execution_count": 14,
     "metadata": {},
     "output_type": "execute_result"
    }
   ],
   "source": [
    "x, x.grad"
   ]
  },
  {
   "cell_type": "code",
   "execution_count": 15,
   "metadata": {
    "id": "RolxpF_qiLB-",
    "outputId": "d42d9a27-325e-4c65-b85b-65359be80949"
   },
   "outputs": [
    {
     "data": {
      "text/plain": [
       "(tensor([0.]), tensor([0.]))"
      ]
     },
     "execution_count": 15,
     "metadata": {},
     "output_type": "execute_result"
    }
   ],
   "source": [
    "x.grad.data.zero_(), x.grad                    # x=0에서의 기울기"
   ]
  },
  {
   "cell_type": "code",
   "execution_count": 16,
   "metadata": {
    "id": "MbAt5d9-iLB-"
   },
   "outputs": [],
   "source": [
    "x1 = Variable(torch.ones(2), requires_grad = True)\n",
    "x2 = Variable(torch.ones(2))"
   ]
  },
  {
   "cell_type": "code",
   "execution_count": 17,
   "metadata": {
    "id": "XOtxX3TGiLB_",
    "outputId": "35d0f1fa-f0c2-49b8-d2f1-9e9875d7848e"
   },
   "outputs": [
    {
     "data": {
      "text/plain": [
       "tensor([3., 3.], grad_fn=<AddBackward0>)"
      ]
     },
     "execution_count": 17,
     "metadata": {},
     "output_type": "execute_result"
    }
   ],
   "source": [
    "y = x1 * 2 + x2\n",
    "y"
   ]
  },
  {
   "cell_type": "code",
   "execution_count": 18,
   "metadata": {
    "id": "6rGeRiJwiLB_"
   },
   "outputs": [],
   "source": [
    "y.backward(torch.Tensor([1,1]))"
   ]
  },
  {
   "cell_type": "code",
   "execution_count": 19,
   "metadata": {
    "id": "oLxWMup-iLB_",
    "outputId": "49390765-cc43-4ec9-9a49-6679aa0e1d53"
   },
   "outputs": [
    {
     "data": {
      "text/plain": [
       "tensor([2., 2.])"
      ]
     },
     "execution_count": 19,
     "metadata": {},
     "output_type": "execute_result"
    }
   ],
   "source": [
    "x1.grad"
   ]
  },
  {
   "cell_type": "code",
   "execution_count": 20,
   "metadata": {
    "id": "p1yWq-19iLCA"
   },
   "outputs": [],
   "source": [
    "x2.grad"
   ]
  },
  {
   "cell_type": "code",
   "execution_count": 21,
   "metadata": {
    "id": "T9zk_y5IiLCA",
    "outputId": "384a99c1-fa75-4c16-9c04-df611689c3d5"
   },
   "outputs": [
    {
     "data": {
      "text/plain": [
       "tensor([0., 0.])"
      ]
     },
     "execution_count": 21,
     "metadata": {},
     "output_type": "execute_result"
    }
   ],
   "source": [
    "x1.grad.data.zero_()"
   ]
  }
 ],
 "metadata": {
  "accelerator": "GPU",
  "colab": {
   "name": "02_variable_autograd.ipynb",
   "provenance": []
  },
  "kernelspec": {
   "display_name": "Python 3",
   "language": "python",
   "name": "python3"
  },
  "language_info": {
   "codemirror_mode": {
    "name": "ipython",
    "version": 3
   },
   "file_extension": ".py",
   "mimetype": "text/x-python",
   "name": "python",
   "nbconvert_exporter": "python",
   "pygments_lexer": "ipython3",
   "version": "3.8.8"
  },
  "vp": {
   "base_numbering": 1,
   "nav_menu": {},
   "number_sections": true,
   "sideBar": true,
   "title_cell": "VisualPython",
   "title_sidebar": "VisualPython",
   "vpPosition": {
    "height": "calc(100% - 180px)",
    "right": "10px",
    "top": "110px",
    "width": "50%"
   },
   "vp_cell": false,
   "vp_section_display": true,
   "vp_window_display": false
  }
 },
 "nbformat": 4,
 "nbformat_minor": 1
}
