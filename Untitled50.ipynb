{
 "cells": [
  {
   "cell_type": "code",
   "execution_count": 1,
   "id": "5b76388c",
   "metadata": {},
   "outputs": [],
   "source": [
    "#데이터를 불러옵니다.\n",
    "\n",
    "import pandas as pd\n",
    "import warnings\n",
    "warnings.filterwarnings('ignore')\n",
    "train = pd.read_csv('train.csv')\n",
    "test = pd.read_csv('test.csv')"
   ]
  },
  {
   "cell_type": "code",
   "execution_count": 2,
   "id": "3ff74fae",
   "metadata": {},
   "outputs": [],
   "source": [
    "#독립변수와 종속변수를 분리합니다.\n",
    "train_X = train.iloc[:,4:]\n",
    "train_Y = train.iloc[:,0:4]\n",
    "test_X = test.iloc[:,1:]"
   ]
  },
  {
   "cell_type": "code",
   "execution_count": 3,
   "id": "1ab5a7c2",
   "metadata": {},
   "outputs": [],
   "source": [
    "#케라스를 통해 모델 생성을 시작합니다.\n",
    "import keras\n",
    "from keras.models import Sequential\n",
    "from keras.layers import Dense\n",
    "model = Sequential()\n",
    "model.add(Dense(units=160, activation='relu', input_dim=226))\n",
    "model.add(Dense(units=160, activation='relu'))\n",
    "model.add(Dense(units=160, activation='relu'))\n",
    "model.add(Dense(units=4, activation='linear'))"
   ]
  },
  {
   "cell_type": "code",
   "execution_count": 4,
   "id": "8904fca1",
   "metadata": {},
   "outputs": [],
   "source": [
    "#모델을 컴파일합니다.\n",
    "model.compile(loss='mae', optimizer='adam', metrics=['mae'])"
   ]
  },
  {
   "cell_type": "code",
   "execution_count": 5,
   "id": "504bf23d",
   "metadata": {},
   "outputs": [
    {
     "name": "stdout",
     "output_type": "stream",
     "text": [
      "Epoch 1/20\n",
      "77/77 [==============================] - 5s 67ms/step - loss: 96.6256 - mae: 96.6256 - val_loss: 94.8500 - val_mae: 94.8500\n",
      "Epoch 2/20\n",
      "77/77 [==============================] - 4s 58ms/step - loss: 74.7704 - mae: 74.7704 - val_loss: 94.1472 - val_mae: 94.1472\n",
      "Epoch 3/20\n",
      "77/77 [==============================] - 4s 57ms/step - loss: 74.2048 - mae: 74.2048 - val_loss: 93.6415 - val_mae: 93.6415\n",
      "Epoch 4/20\n",
      "77/77 [==============================] - 4s 56ms/step - loss: 72.8015 - mae: 72.8015 - val_loss: 93.4555 - val_mae: 93.4555\n",
      "Epoch 5/20\n",
      "77/77 [==============================] - 4s 53ms/step - loss: 70.3586 - mae: 70.3586 - val_loss: 93.3376 - val_mae: 93.3376\n",
      "Epoch 6/20\n",
      "77/77 [==============================] - 4s 52ms/step - loss: 66.7433 - mae: 66.7433 - val_loss: 91.4868 - val_mae: 91.4868\n",
      "Epoch 7/20\n",
      "77/77 [==============================] - 4s 53ms/step - loss: 63.9188 - mae: 63.9188 - val_loss: 88.3520 - val_mae: 88.3520\n",
      "Epoch 8/20\n",
      "77/77 [==============================] - 4s 54ms/step - loss: 61.9803 - mae: 61.9803 - val_loss: 83.4319 - val_mae: 83.4319\n",
      "Epoch 9/20\n",
      "77/77 [==============================] - 4s 54ms/step - loss: 60.2323 - mae: 60.2323 - val_loss: 79.1225 - val_mae: 79.1225\n",
      "Epoch 10/20\n",
      "77/77 [==============================] - 4s 57ms/step - loss: 58.5947 - mae: 58.5947 - val_loss: 76.2579 - val_mae: 76.2578\n",
      "Epoch 11/20\n",
      "77/77 [==============================] - 4s 55ms/step - loss: 57.5088 - mae: 57.5088 - val_loss: 74.6249 - val_mae: 74.6249\n",
      "Epoch 12/20\n",
      "77/77 [==============================] - 4s 53ms/step - loss: 56.8710 - mae: 56.8710 - val_loss: 73.5696 - val_mae: 73.5696\n",
      "Epoch 13/20\n",
      "77/77 [==============================] - 4s 53ms/step - loss: 56.3400 - mae: 56.3400 - val_loss: 72.8058 - val_mae: 72.8058\n",
      "Epoch 14/20\n",
      "77/77 [==============================] - 4s 53ms/step - loss: 55.8548 - mae: 55.8548 - val_loss: 72.7179 - val_mae: 72.7179\n",
      "Epoch 15/20\n",
      "77/77 [==============================] - 4s 53ms/step - loss: 55.2870 - mae: 55.2870 - val_loss: 72.5139 - val_mae: 72.5139\n",
      "Epoch 16/20\n",
      "77/77 [==============================] - 4s 54ms/step - loss: 54.7558 - mae: 54.7558 - val_loss: 71.4372 - val_mae: 71.4372\n",
      "Epoch 17/20\n",
      "77/77 [==============================] - 4s 57ms/step - loss: 54.2238 - mae: 54.2238 - val_loss: 71.7630 - val_mae: 71.7630\n",
      "Epoch 18/20\n",
      "77/77 [==============================] - 4s 56ms/step - loss: 53.7372 - mae: 53.7372 - val_loss: 70.3483 - val_mae: 70.3483\n",
      "Epoch 19/20\n",
      "77/77 [==============================] - 4s 56ms/step - loss: 53.3482 - mae: 53.3482 - val_loss: 68.9222 - val_mae: 68.9222\n",
      "Epoch 20/20\n",
      "77/77 [==============================] - 4s 54ms/step - loss: 52.9157 - mae: 52.9157 - val_loss: 69.9134 - val_mae: 69.9134\n"
     ]
    },
    {
     "data": {
      "text/plain": [
       "<tensorflow.python.keras.callbacks.History at 0x1ac91e48700>"
      ]
     },
     "execution_count": 5,
     "metadata": {},
     "output_type": "execute_result"
    }
   ],
   "source": [
    "#모델을 학습합니다.\n",
    "model.fit(train_X, train_Y, epochs=20, batch_size=10000, validation_split = 0.05)"
   ]
  },
  {
   "cell_type": "code",
   "execution_count": 6,
   "id": "47bfac39",
   "metadata": {},
   "outputs": [],
   "source": [
    "#예측값을 생성합니다.\n",
    "pred_test = model.predict(test_X)"
   ]
  },
  {
   "cell_type": "code",
   "execution_count": 7,
   "id": "cf45379c",
   "metadata": {},
   "outputs": [],
   "source": [
    "#submission 파일을 생성합니다.\n",
    "sample_sub = pd.read_csv('sample_submission.csv', index_col=0)\n",
    "submission = sample_sub+pred_test\n",
    "submission.to_csv('submission.csv')"
   ]
  },
  {
   "cell_type": "code",
   "execution_count": null,
   "id": "dbf36082",
   "metadata": {},
   "outputs": [],
   "source": []
  }
 ],
 "metadata": {
  "kernelspec": {
   "display_name": "Python 3",
   "language": "python",
   "name": "python3"
  },
  "language_info": {
   "codemirror_mode": {
    "name": "ipython",
    "version": 3
   },
   "file_extension": ".py",
   "mimetype": "text/x-python",
   "name": "python",
   "nbconvert_exporter": "python",
   "pygments_lexer": "ipython3",
   "version": "3.8.8"
  },
  "vp": {
   "base_numbering": 1,
   "nav_menu": {},
   "number_sections": true,
   "sideBar": true,
   "title_cell": "VisualPython",
   "title_sidebar": "VisualPython",
   "vpPosition": {
    "height": "calc(100% - 180px)",
    "right": "10px",
    "top": "110px",
    "width": "50%"
   },
   "vp_cell": false,
   "vp_section_display": true,
   "vp_window_display": false
  }
 },
 "nbformat": 4,
 "nbformat_minor": 5
}
