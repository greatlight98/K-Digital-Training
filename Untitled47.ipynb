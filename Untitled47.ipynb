{
 "cells": [
  {
   "cell_type": "code",
   "execution_count": 1,
   "id": "89f6e65b",
   "metadata": {},
   "outputs": [
    {
     "ename": "ModuleNotFoundError",
     "evalue": "No module named 'RPi'",
     "output_type": "error",
     "traceback": [
      "\u001b[1;31m---------------------------------------------------------------------------\u001b[0m",
      "\u001b[1;31mModuleNotFoundError\u001b[0m                       Traceback (most recent call last)",
      "\u001b[1;32m<ipython-input-1-4bddada5159c>\u001b[0m in \u001b[0;36m<module>\u001b[1;34m\u001b[0m\n\u001b[1;32m----> 1\u001b[1;33m \u001b[1;32mimport\u001b[0m \u001b[0mRPi\u001b[0m\u001b[1;33m.\u001b[0m\u001b[0mGPIO\u001b[0m \u001b[1;32mas\u001b[0m \u001b[0mGPIO\u001b[0m\u001b[1;33m\u001b[0m\u001b[1;33m\u001b[0m\u001b[0m\n\u001b[0m\u001b[0;32m      2\u001b[0m \u001b[1;33m\u001b[0m\u001b[0m\n\u001b[0;32m      3\u001b[0m \u001b[1;32mimport\u001b[0m \u001b[0mtime\u001b[0m\u001b[1;33m\u001b[0m\u001b[1;33m\u001b[0m\u001b[0m\n\u001b[0;32m      4\u001b[0m \u001b[1;33m\u001b[0m\u001b[0m\n\u001b[0;32m      5\u001b[0m \u001b[0mGPIO\u001b[0m\u001b[1;33m.\u001b[0m\u001b[0msetmode\u001b[0m\u001b[1;33m(\u001b[0m\u001b[0mGPIO\u001b[0m\u001b[1;33m.\u001b[0m\u001b[0mBOARD\u001b[0m\u001b[1;33m)\u001b[0m\u001b[1;33m\u001b[0m\u001b[1;33m\u001b[0m\u001b[0m\n",
      "\u001b[1;31mModuleNotFoundError\u001b[0m: No module named 'RPi'"
     ]
    }
   ],
   "source": [
    "import RPi.GPIO as GPIO\n",
    "\n",
    "import time\n",
    "\n",
    "GPIO.setmode(GPIO.BOARD)\n",
    "\n",
    "AIN1=13\n",
    "AIN2=15\n",
    "PWMA=12\n",
    "\n",
    "c_step = 10\n",
    "\n",
    "GPIO.setup(AIN1, GPIO.OUT, initial=GPIO.LOW)\n",
    "GPIO.setup(AIN2, GPIO.OUT, initial=GPIO.LOW)\n",
    "GPIO.setup(PWMA, GPIO.OUT, initial=GPIO.LOW)\n",
    "\n",
    "p=GPIO.PWM(PWMA,100)\n",
    "\n",
    "p.start(0)\n",
    "\n",
    "try:\n",
    "    while 1:\n",
    "        GPIO.output(AIN1, GPIO.HIGH)\n",
    "        \n",
    "        for pw in range(0, 101, c_step):\n",
    "            p.ChangeDutyCycle(pw)\n",
    "            time.sleep(0.5)\n",
    "        \n",
    "        for pw in range(100, -1, c_step * -1):\n",
    "            p.ChangeDutyCycle(pw)\n",
    "            time.sleep(0.5)\n",
    "            \n",
    "        GPIO.output(AIN1, GPIO.LOW)\n",
    "        time.sleep(0.5)\n",
    "        \n",
    "        GPIO.output(AIN1, GPIO.HIGH)\n",
    "        for pw in range(0,101,c_step):\n",
    "            p.ChangeDutyCycle(pw)\n",
    "            \n",
    "            time.sleep(0.5)\n",
    "            \n",
    "        for pw in range(100, -1, c_step * -1):\n",
    "            p.ChangeDutyCycle(pw)\n",
    "            \n",
    "            time.sleep(0.5)\n",
    "    \n",
    "        GPIO.output(AIN2, GPIO.LOW)\n",
    "        time.sleep(0.5)\n",
    "        \n",
    "except KeyboardInterrupt:\n",
    "    pass\n",
    "\n",
    "p.stop()\n",
    "\n",
    "GPIO.cleanup()"
   ]
  },
  {
   "cell_type": "code",
   "execution_count": null,
   "id": "9f2b6de5",
   "metadata": {},
   "outputs": [],
   "source": []
  }
 ],
 "metadata": {
  "kernelspec": {
   "display_name": "Python 3",
   "language": "python",
   "name": "python3"
  },
  "language_info": {
   "codemirror_mode": {
    "name": "ipython",
    "version": 3
   },
   "file_extension": ".py",
   "mimetype": "text/x-python",
   "name": "python",
   "nbconvert_exporter": "python",
   "pygments_lexer": "ipython3",
   "version": "3.8.8"
  },
  "vp": {
   "base_numbering": 1,
   "nav_menu": {},
   "number_sections": true,
   "sideBar": true,
   "title_cell": "VisualPython",
   "title_sidebar": "VisualPython",
   "vpPosition": {
    "height": "calc(100% - 180px)",
    "right": "10px",
    "top": "110px",
    "width": "50%"
   },
   "vp_cell": false,
   "vp_section_display": true,
   "vp_window_display": false
  }
 },
 "nbformat": 4,
 "nbformat_minor": 5
}
