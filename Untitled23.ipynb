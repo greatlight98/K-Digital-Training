{
 "cells": [
  {
   "cell_type": "code",
   "execution_count": null,
   "id": "f9bb2075",
   "metadata": {},
   "outputs": [],
   "source": [
    "import tensorflow as tf\n",
    "import numpy as np\n",
    "import time\n",
    "import cv2\n",
    "\n",
    "# Define the input size of the model\n",
    "input_size = (224, 224)\n",
    "\n",
    "# Open the web cam\n",
    "cap = cv2.VideoCapture(0)  # webcam 불러오기\n",
    "cap.set(cv2.CAP_PROP_BUFFERSIZE, 5)\n",
    "\n",
    "# Load the saved model\n",
    "model = tf.keras.models.load_model(\"test.h5\", compile=False)\n",
    "while cap.isOpened():\n",
    "    # Set time before model inference\n",
    "    start_time = time.time()\n",
    "\n",
    "    # Reading frames from the camera\n",
    "    ret, frame = cap.read()\n",
    "    if not ret:\n",
    "        break\n",
    "\n",
    "    # Resize the frame for the model\n",
    "    model_frame = cv2.resize(frame, input_size, frame)\n",
    "    # Expand Dimension (224, 224, 3) -> (1, 224, 224, 3) and Normalize the data\n",
    "    model_frame = np.expand_dims(model_frame, axis=0) / 255.0\n",
    "\n",
    "    # Predict\n",
    "    is_mask_prob = model.predict(model_frame)[0]\n",
    "    is_mask = np.argmax(is_mask_prob)\n",
    "\n",
    "    # Compute the model inference time\n",
    "    inference_time = time.time() - start_time\n",
    "    fps = 1 / inference_time\n",
    "    fps_msg = \"Time: {:05.1f}ms {:.1f} FPS\".format(inference_time * 1000, fps)\n",
    "\n",
    "    # Add Information on screen\n",
    "    if is_mask == 0:\n",
    "        msg_mask = \"Mask Off\"\n",
    "    else:\n",
    "        msg_mask = \"Mask On\"\n",
    "\n",
    "    msg_mask += \" ({:.1f})%\".format(is_mask_prob[is_mask] * 100)\n",
    "\n",
    "    cv2.putText(frame, fps_msg, (10, 30), cv2.FONT_HERSHEY_SIMPLEX, 1, (255, 0, 0), thickness=1)\n",
    "    cv2.putText(frame, msg_mask, (10, 70), cv2.FONT_HERSHEY_SIMPLEX, 1, (0, 255, 0), thickness=2)\n",
    "\n",
    "    # Show the result and frame\n",
    "    cv2.imshow('face mask detection', frame)\n",
    "\n",
    "    # Press Q on keyboard to  exit\n",
    "    if cv2.waitKey(25) & 0xFF == ord('q'):\n",
    "        break"
   ]
  }
 ],
 "metadata": {
  "kernelspec": {
   "display_name": "Python 3",
   "language": "python",
   "name": "python3"
  },
  "language_info": {
   "codemirror_mode": {
    "name": "ipython",
    "version": 3
   },
   "file_extension": ".py",
   "mimetype": "text/x-python",
   "name": "python",
   "nbconvert_exporter": "python",
   "pygments_lexer": "ipython3",
   "version": "3.8.8"
  },
  "vp": {
   "base_numbering": 1,
   "nav_menu": {},
   "number_sections": true,
   "sideBar": true,
   "title_cell": "VisualPython",
   "title_sidebar": "VisualPython",
   "vpPosition": {
    "height": "calc(100% - 180px)",
    "right": "10px",
    "top": "110px",
    "width": "50%"
   },
   "vp_cell": false,
   "vp_section_display": true,
   "vp_window_display": false
  }
 },
 "nbformat": 4,
 "nbformat_minor": 5
}
