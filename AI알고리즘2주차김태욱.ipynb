{
 "cells": [
  {
   "cell_type": "markdown",
   "id": "c6844b1e",
   "metadata": {},
   "source": [
    "## 2주차 AI알고리즘 김태욱"
   ]
  },
  {
   "cell_type": "code",
   "execution_count": 2,
   "id": "e0d0cc09",
   "metadata": {},
   "outputs": [
    {
     "name": "stdout",
     "output_type": "stream",
     "text": [
      "55\n",
      "5050\n"
     ]
    }
   ],
   "source": [
    "def sum_n(n):\n",
    "    s=0\n",
    "    for i in range(1,n + 1):\n",
    "        s=s+i\n",
    "    return s\n",
    "\n",
    "print(sum_n(10))\n",
    "print(sum_n(100))"
   ]
  },
  {
   "cell_type": "code",
   "execution_count": 3,
   "id": "6404dc3c",
   "metadata": {},
   "outputs": [
    {
     "name": "stdout",
     "output_type": "stream",
     "text": [
      "55\n",
      "5050\n"
     ]
    }
   ],
   "source": [
    "def sum_n(n):\n",
    "    return n * (n+1)//2\n",
    "print(sum_n(10))\n",
    "print(sum_n(100))"
   ]
  },
  {
   "cell_type": "code",
   "execution_count": 4,
   "id": "6d6640b7",
   "metadata": {},
   "outputs": [
    {
     "name": "stdout",
     "output_type": "stream",
     "text": [
      "385\n",
      "338350\n"
     ]
    }
   ],
   "source": [
    "def sum_sq(n):\n",
    "    s=0\n",
    "    for i in range(1,n+1):\n",
    "        s=s+i*i\n",
    "    return s\n",
    "\n",
    "print(sum_sq(10))\n",
    "print(sum_sq(100))"
   ]
  },
  {
   "cell_type": "code",
   "execution_count": 5,
   "id": "5aa4ecb0",
   "metadata": {},
   "outputs": [
    {
     "name": "stdout",
     "output_type": "stream",
     "text": [
      "385\n",
      "338350\n"
     ]
    }
   ],
   "source": [
    "def sum_sq(n):\n",
    "    return n * (n+1) * (2*n+1) // 6\n",
    "\n",
    "print(sum_sq(10))\n",
    "print(sum_sq(100))"
   ]
  },
  {
   "cell_type": "code",
   "execution_count": 7,
   "id": "4d2be96e",
   "metadata": {},
   "outputs": [
    {
     "name": "stdout",
     "output_type": "stream",
     "text": [
      "92\n"
     ]
    }
   ],
   "source": [
    "def find_max(a):\n",
    "    n=len(a)\n",
    "    max_v = a[0]\n",
    "    for i in range (1, n):\n",
    "        if a[i] > max_v:\n",
    "            max_v = a[i]\n",
    "    return max_v\n",
    "\n",
    "v= [17, 92, 18, 33, 58, 7, 33, 42]\n",
    "print(find_max(v))"
   ]
  },
  {
   "cell_type": "code",
   "execution_count": 9,
   "id": "286cddd7",
   "metadata": {},
   "outputs": [
    {
     "name": "stdout",
     "output_type": "stream",
     "text": [
      "1\n"
     ]
    }
   ],
   "source": [
    "def find_max_idx(a):\n",
    "    n = len(a)\n",
    "    max_idx = 0 \n",
    "    for i in range(1, n):\n",
    "        if a[i] > a[max_idx]:\n",
    "            max_idx = i\n",
    "\n",
    "v = [17, 92, 18, 33, 58, 7, 33, 42]\n",
    "print(find_max_idx(v))"
   ]
  },
  {
   "cell_type": "code",
   "execution_count": 12,
   "id": "7e4bc4b8",
   "metadata": {},
   "outputs": [
    {
     "name": "stdout",
     "output_type": "stream",
     "text": [
      "7\n"
     ]
    }
   ],
   "source": [
    "def find_min(a):\n",
    "    n=len(a)\n",
    "    min_v = a[0]\n",
    "    for i in range (1,n):\n",
    "        if a[i] < min_v:\n",
    "            min_v = a[i]\n",
    "    return min_v\n",
    "\n",
    "v = [17, 92, 18, 33, 58, 7, 33, 42]\n",
    "print(find_min(v))"
   ]
  },
  {
   "cell_type": "code",
   "execution_count": 13,
   "id": "4bd129ee",
   "metadata": {},
   "outputs": [
    {
     "name": "stdout",
     "output_type": "stream",
     "text": [
      "{'Tom'}\n",
      "{'Mike', 'Tom'}\n"
     ]
    }
   ],
   "source": [
    "def find_same_name(a):\n",
    "    n=len(a)\n",
    "    result = set()\n",
    "    for i in range(0,n-1):\n",
    "        for j in range(i+1, n):\n",
    "            if a[i]==a[j]:\n",
    "                result.add(a[i])\n",
    "    return result\n",
    "\n",
    "name = [\"Tom\", \"Jerry\", \"Mike\", \"Tom\"]\n",
    "print(find_same_name(name))\n",
    "name2 = [\"Tom\", \"Jerry\", \"Mike\", \"Tom\", \"Mike\"]\n",
    "print(find_same_name(name2))"
   ]
  },
  {
   "cell_type": "code",
   "execution_count": 14,
   "id": "b226959c",
   "metadata": {},
   "outputs": [
    {
     "name": "stdout",
     "output_type": "stream",
     "text": [
      "Tom - Jerry\n",
      "Tom - Mike\n",
      "Jerry - Mike\n",
      "\n",
      "Tom - Jerry\n",
      "Tom - Mike\n",
      "Tom - John\n",
      "Jerry - Mike\n",
      "Jerry - John\n",
      "Mike - John\n"
     ]
    }
   ],
   "source": [
    "def print_pairs(a):\n",
    "    n = len(a)\n",
    "    for i in range(0, n - 1):\n",
    "        for j in range(i + 1, n):\n",
    "            print(a[i], \"-\", a[ j])\n",
    "name = [\"Tom\", \"Jerry\", \"Mike\"]\n",
    "print_pairs(name)\n",
    "print()\n",
    "name2 = [\"Tom\", \"Jerry\", \"Mike\", \"John\"]\n",
    "print_pairs(name2)"
   ]
  },
  {
   "cell_type": "code",
   "execution_count": null,
   "id": "ccd15fce",
   "metadata": {},
   "outputs": [],
   "source": []
  }
 ],
 "metadata": {
  "kernelspec": {
   "display_name": "Python 3",
   "language": "python",
   "name": "python3"
  },
  "language_info": {
   "codemirror_mode": {
    "name": "ipython",
    "version": 3
   },
   "file_extension": ".py",
   "mimetype": "text/x-python",
   "name": "python",
   "nbconvert_exporter": "python",
   "pygments_lexer": "ipython3",
   "version": "3.8.8"
  },
  "vp": {
   "base_numbering": 1,
   "nav_menu": {},
   "number_sections": true,
   "sideBar": true,
   "title_cell": "VisualPython",
   "title_sidebar": "VisualPython",
   "vpPosition": {
    "height": "calc(100% - 180px)",
    "right": "10px",
    "top": "110px",
    "width": "50%"
   },
   "vp_cell": false,
   "vp_section_display": true,
   "vp_window_display": false
  }
 },
 "nbformat": 4,
 "nbformat_minor": 5
}
