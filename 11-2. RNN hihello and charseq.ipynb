{
 "cells": [
  {
   "cell_type": "markdown",
   "metadata": {},
   "source": [
    "# 1. 'hihello' 예제\n",
    " - 'h -> i -> h -> e -> l -> l -> o'를 예측하자."
   ]
  },
  {
   "cell_type": "markdown",
   "metadata": {},
   "source": [
    "# 2. 'hihello'를 데이터로 만들기 1 : 인덱스\n",
    " - 'hihello'를 컴퓨터가 이해할 수 있는 벡터로 만들어 보자.\n",
    " - 벡터화를 위해 단순히 '인덱스 순서'로 벡터를 만든다면? 컴퓨터가 데이터의 순서, 데이터가 나오는 빈도수를 파악하기 어렵다!\n",
    " - 'h' -> 0\n",
    " - 'i' -> 1\n",
    " - 'e' -> 2\n",
    " - 'l' -> 3\n",
    " - 'o' -> 4\n",
    "\n",
    "char_set = ['h', 'i', 'e', 'l', 'o']"
   ]
  },
  {
   "cell_type": "markdown",
   "metadata": {},
   "source": [
    "# 3. 'hihello'를 데이터로 만들기 2 : One-hot encoding\n",
    " - 'hihello'를 컴퓨터가 이해할 수 있는 벡터로 만들어 보자.\n",
    " - 벡터화를 위해 'One-hot encoding'을 이용한다면?\n",
    " - One-hot encoding : 특정 단어를 특정 인덱스로 치환한다. "
   ]
  },
  {
   "cell_type": "markdown",
   "metadata": {},
   "source": [
    "char_set = ['h', 'i', 'e', 'l', 'o'] # 각 문자가 0, 1, 2, 3, 4의 인덱스로 치환된다.\n",
    "\n",
    "# x_data는 문자열에서 맨 마지막 문자만 뺀 데이터이다.\n",
    "x_data = [[0, 1, 0, 2, 3, 3]] # h, i, h, e, l, l\n",
    "x_one_hot = [[[1, 0, 0, 0, 0], # h\n",
    "              [0, 1, 0, 0, 0], # i\n",
    "              [1, 0, 0, 0, 0], # h\n",
    "              [0, 0, 1, 0, 0], # e\n",
    "              [0, 0, 0, 1, 0], # l\n",
    "              [0, 0, 0, 1, 0]]]# l\n",
    "\n",
    "              \n",
    "# y_data는 문자열에서 맨 처음 문자만 뺀 데이터이다.\n",
    "y_data = [[1, 0, 2, 3, 3, 4]] # i, h, e, l, l, o"
   ]
  },
  {
   "cell_type": "markdown",
   "metadata": {},
   "source": [
    "# 4. Cross Entropy Loss\n",
    " - 일반적으로 Categorical한 예측을 해야 하는 경우, softmax를 이용하여 각 클래스가 될 확률을 통해 output을 구하게 된다.\n",
    " - Cross Entropy Loss는 Categorical 한 예측을 하는 모델에 주로 쓰이는 평가 방법이다.\n",
    " - ex) 인풋 x가 4개의 클래스로 분류 될 확률이 각각 [0.1, 0.2, 0.3, 0.4]이면 [0, 0, 0, 1]로 라벨링 되어 분류된다."
   ]
  },
  {
   "cell_type": "markdown",
   "metadata": {},
   "source": [
    "import torch\n",
    "\n",
    "# 사용할 loss 정의\n",
    "criterion = torch.nn.CrossEntropyLoss()\n",
    "# loss 사용\n",
    "loss = criterion(outputs.view(-1, input_size), Y.view(-1)) # 첫 번째 파라미터는 모델의 예측 아웃풋, 두 번째 파라미터는 정답 레이블이다."
   ]
  },
  {
   "cell_type": "markdown",
   "metadata": {},
   "source": [
    "# 5. hihello 데이터 준비하기"
   ]
  },
  {
   "cell_type": "code",
   "execution_count": 1,
   "metadata": {},
   "outputs": [],
   "source": [
    "import torch\n",
    "import numpy as np\n",
    "\n",
    "# 문자 집합\n",
    "char_set = ['h', 'i', 'e', 'l', 'o'] # 0, 1, 2, 3, 4\n",
    "\n",
    "# 하이퍼 파라미터 설정\n",
    "input_size = len(char_set)\n",
    "hidden_size = len(char_set) # 꼭 이렇게 설정해야 하는 것 아님. 그냥 단순하게 input_size와 같게 설정한 것.\n",
    "learning_rate = 0.1\n",
    "\n",
    "# 데이터 정의\n",
    "# x_data는 문자열에서 맨 마지막 문자만 뺀 데이터이다.\n",
    "x_data = [[0, 1, 0, 2, 3, 3]] # h, i, h, e, l, l\n",
    "x_one_hot = [[[1, 0, 0, 0, 0], # h\n",
    "              [0, 1, 0, 0, 0], # i\n",
    "              [1, 0, 0, 0, 0], # h\n",
    "              [0, 0, 1, 0, 0], # e\n",
    "              [0, 0, 0, 1, 0], # l\n",
    "              [0, 0, 0, 1, 0]]]# l\n",
    "              \n",
    "# y_data는 문자열에서 맨 처음 문자만 뺀 데이터이다.              \n",
    "y_data = [[1, 0, 2, 3, 4, 5]] # i, h, e, l, l, o\n",
    "\n",
    "# 텐서화\n",
    "X = torch.FloatTensor(x_one_hot) # 독립변수는 one hot encoding 된 것을 이용한다.\n",
    "Y = torch.LongTensor(y_data) # 종속변수는 one hot encoding 되지 않아도 됨!"
   ]
  },
  {
   "cell_type": "markdown",
   "metadata": {},
   "source": [
    "# 6. Character Sequence(charseq) 데이터 준비하기\n",
    " - hihello 데이터와 크게 다를 바 없지만, 조금 더 일반화 된 코드이다.\n",
    " - sample을 어떤 문자열로 바꾸던 적용 가능한 코드이다! "
   ]
  },
  {
   "cell_type": "code",
   "execution_count": 2,
   "metadata": {},
   "outputs": [
    {
     "name": "stdout",
     "output_type": "stream",
     "text": [
      "tensor([[[0., 0., 0., 0., 0., 0., 0., 1., 0., 0.],\n",
      "         [0., 0., 0., 1., 0., 0., 0., 0., 0., 0.],\n",
      "         [0., 0., 0., 0., 0., 0., 1., 0., 0., 0.],\n",
      "         [0., 0., 0., 0., 0., 0., 0., 1., 0., 0.],\n",
      "         [0., 0., 1., 0., 0., 0., 0., 0., 0., 0.],\n",
      "         [0., 0., 0., 0., 0., 0., 0., 0., 1., 0.],\n",
      "         [0., 0., 0., 0., 1., 0., 0., 0., 0., 0.],\n",
      "         [0., 0., 0., 0., 0., 0., 0., 1., 0., 0.],\n",
      "         [0., 1., 0., 0., 0., 0., 0., 0., 0., 0.],\n",
      "         [0., 0., 0., 0., 0., 1., 0., 0., 0., 0.],\n",
      "         [0., 0., 0., 0., 0., 0., 0., 0., 0., 1.],\n",
      "         [1., 0., 0., 0., 0., 0., 0., 0., 0., 0.],\n",
      "         [0., 0., 0., 0., 0., 0., 0., 1., 0., 0.],\n",
      "         [0., 0., 1., 0., 0., 0., 0., 0., 0., 0.],\n",
      "         [0., 0., 0., 0., 0., 0., 0., 0., 1., 0.]]])\n"
     ]
    }
   ],
   "source": [
    "sample = \" if you want you\"\n",
    "\n",
    "# 문자 집합\n",
    "char_set = list(set(sample)) # char_set은 character의 집합이다. set 함수로 sample에서 중복된 문자를 제거하고 유니크한 문자만 모아서 리스트로 만든다.\n",
    "char_dic = {c: i for i, c in enumerate(char_set)} # char_dic은 특정 문자를 주면 그 인덱스를 찾아준다. enumerate를 쓰면 인덱스와 밸류를 같이 가져올 수 있다.\n",
    "\n",
    "# 하이퍼 파라미터 설정\n",
    "dic_size = len(char_dic)\n",
    "hidden_size = len(char_dic)\n",
    "learning_rate = 0.1\n",
    "\n",
    "# 데이터 정의\n",
    "sample_idx = [char_dic[c] for c in sample] # sample의 문자를 하나씩 가져와서 그 인덱스로 구성된 리스트를 만든다.\n",
    "\n",
    "# x_data는 문자열에서 맨 마지막 문자만 뺀 데이터이다.\n",
    "x_data = [sample_idx[:-1]]\n",
    "x_one_hot = [np.eye(dic_size)[x] for x in x_data] # np.eye는 해당 인덱스의 위치는 1, 나머지는 0으로 만들어 주는 Identity Matrix 함수이다.\n",
    "\n",
    "# y_data는 문자열에서 맨 처음 문자만 뺀 데이터이다.\n",
    "y_data = [sample_idx[1:]]\n",
    "\n",
    "# 텐서화\n",
    "X = torch.FloatTensor(x_one_hot)\n",
    "Y = torch.LongTensor(y_data)\n",
    "\n",
    "input_size = 10   # 왜 10개인지 고민해볼것\n",
    "print(X)"
   ]
  },
  {
   "cell_type": "markdown",
   "metadata": {},
   "source": [
    "# 7. RNN 모델을 만들고 학습하기"
   ]
  },
  {
   "cell_type": "code",
   "execution_count": 3,
   "metadata": {},
   "outputs": [
    {
     "name": "stdout",
     "output_type": "stream",
     "text": [
      "0 loss:  2.360002279281616 prediction:  [[1 6 6 6 6 6 0 6 6 6 6 6 6 6 6]] true Y:  [[3, 6, 7, 2, 8, 4, 7, 1, 5, 9, 0, 7, 2, 8, 4]] prediction str:  wffffftffffffff\n",
      "1 loss:  2.037473440170288 prediction:  [[1 1 1 1 5 1 1 1 5 1 2 7 1 1 1]] true Y:  [[3, 6, 7, 2, 8, 4, 7, 1, 5, 9, 0, 7, 2, 8, 4]] prediction str:  wwwwawwwawy www\n",
      "2 loss:  1.7894713878631592 prediction:  [[2 5 7 2 5 1 7 1 5 6 2 7 2 5 1]] true Y:  [[3, 6, 7, 2, 8, 4, 7, 1, 5, 9, 0, 7, 2, 8, 4]] prediction str:  ya yaw wafy yaw\n",
      "3 loss:  1.6330817937850952 prediction:  [[2 5 7 2 8 4 7 1 5 9 2 7 2 5 4]] true Y:  [[3, 6, 7, 2, 8, 4, 7, 1, 5, 9, 0, 7, 2, 8, 4]] prediction str:  ya you wany yau\n",
      "4 loss:  1.5349061489105225 prediction:  [[2 6 7 2 8 4 7 1 5 9 2 7 2 8 4]] true Y:  [[3, 6, 7, 2, 8, 4, 7, 1, 5, 9, 0, 7, 2, 8, 4]] prediction str:  yf you wany you\n",
      "5 loss:  1.4562580585479736 prediction:  [[2 6 7 2 8 1 7 1 5 9 2 7 2 8 4]] true Y:  [[3, 6, 7, 2, 8, 4, 7, 1, 5, 9, 0, 7, 2, 8, 4]] prediction str:  yf yow wany you\n",
      "6 loss:  1.3796184062957764 prediction:  [[2 6 7 2 8 1 7 1 8 9 0 7 2 8 4]] true Y:  [[3, 6, 7, 2, 8, 4, 7, 1, 5, 9, 0, 7, 2, 8, 4]] prediction str:  yf yow wont you\n",
      "7 loss:  1.314985752105713 prediction:  [[2 6 7 2 8 4 7 1 8 9 0 7 2 8 4]] true Y:  [[3, 6, 7, 2, 8, 4, 7, 1, 5, 9, 0, 7, 2, 8, 4]] prediction str:  yf you wont you\n",
      "8 loss:  1.2453736066818237 prediction:  [[2 6 7 2 8 4 7 1 8 9 0 7 2 8 4]] true Y:  [[3, 6, 7, 2, 8, 4, 7, 1, 5, 9, 0, 7, 2, 8, 4]] prediction str:  yf you wont you\n",
      "9 loss:  1.1778564453125 prediction:  [[2 6 7 2 8 4 7 1 5 9 0 7 2 8 4]] true Y:  [[3, 6, 7, 2, 8, 4, 7, 1, 5, 9, 0, 7, 2, 8, 4]] prediction str:  yf you want you\n",
      "10 loss:  1.1184313297271729 prediction:  [[3 6 7 2 8 4 7 1 5 9 0 7 2 8 4]] true Y:  [[3, 6, 7, 2, 8, 4, 7, 1, 5, 9, 0, 7, 2, 8, 4]] prediction str:  if you want you\n",
      "11 loss:  1.0684887170791626 prediction:  [[3 6 7 2 8 4 7 1 5 9 0 7 2 8 4]] true Y:  [[3, 6, 7, 2, 8, 4, 7, 1, 5, 9, 0, 7, 2, 8, 4]] prediction str:  if you want you\n",
      "12 loss:  1.034552812576294 prediction:  [[3 6 7 2 8 4 7 1 5 9 0 7 2 8 4]] true Y:  [[3, 6, 7, 2, 8, 4, 7, 1, 5, 9, 0, 7, 2, 8, 4]] prediction str:  if you want you\n",
      "13 loss:  1.0146567821502686 prediction:  [[3 6 7 2 8 4 7 1 5 9 0 7 2 8 4]] true Y:  [[3, 6, 7, 2, 8, 4, 7, 1, 5, 9, 0, 7, 2, 8, 4]] prediction str:  if you want you\n",
      "14 loss:  0.9849023222923279 prediction:  [[3 6 7 2 8 4 7 1 5 9 0 7 2 8 4]] true Y:  [[3, 6, 7, 2, 8, 4, 7, 1, 5, 9, 0, 7, 2, 8, 4]] prediction str:  if you want you\n",
      "15 loss:  0.9617686867713928 prediction:  [[3 6 7 2 8 4 7 1 5 9 0 7 2 8 4]] true Y:  [[3, 6, 7, 2, 8, 4, 7, 1, 5, 9, 0, 7, 2, 8, 4]] prediction str:  if you want you\n",
      "16 loss:  0.9386475086212158 prediction:  [[3 6 7 2 8 4 7 1 5 9 0 7 2 8 4]] true Y:  [[3, 6, 7, 2, 8, 4, 7, 1, 5, 9, 0, 7, 2, 8, 4]] prediction str:  if you want you\n",
      "17 loss:  0.9266173839569092 prediction:  [[3 6 7 2 8 4 7 1 5 9 0 7 2 8 4]] true Y:  [[3, 6, 7, 2, 8, 4, 7, 1, 5, 9, 0, 7, 2, 8, 4]] prediction str:  if you want you\n",
      "18 loss:  0.9149165749549866 prediction:  [[3 6 7 2 8 4 7 1 5 9 0 7 2 8 4]] true Y:  [[3, 6, 7, 2, 8, 4, 7, 1, 5, 9, 0, 7, 2, 8, 4]] prediction str:  if you want you\n",
      "19 loss:  0.9047423005104065 prediction:  [[3 6 7 2 8 4 7 1 5 9 0 7 2 8 4]] true Y:  [[3, 6, 7, 2, 8, 4, 7, 1, 5, 9, 0, 7, 2, 8, 4]] prediction str:  if you want you\n",
      "20 loss:  0.8979600071907043 prediction:  [[3 6 7 2 8 4 7 1 5 9 0 7 2 8 4]] true Y:  [[3, 6, 7, 2, 8, 4, 7, 1, 5, 9, 0, 7, 2, 8, 4]] prediction str:  if you want you\n",
      "21 loss:  0.8891304731369019 prediction:  [[3 6 7 2 8 4 7 1 5 9 0 7 2 8 4]] true Y:  [[3, 6, 7, 2, 8, 4, 7, 1, 5, 9, 0, 7, 2, 8, 4]] prediction str:  if you want you\n",
      "22 loss:  0.8809515237808228 prediction:  [[3 6 7 2 8 4 7 1 5 9 0 7 2 8 4]] true Y:  [[3, 6, 7, 2, 8, 4, 7, 1, 5, 9, 0, 7, 2, 8, 4]] prediction str:  if you want you\n",
      "23 loss:  0.8745718598365784 prediction:  [[3 6 7 2 8 4 7 1 5 9 0 7 2 8 4]] true Y:  [[3, 6, 7, 2, 8, 4, 7, 1, 5, 9, 0, 7, 2, 8, 4]] prediction str:  if you want you\n",
      "24 loss:  0.8677746653556824 prediction:  [[3 6 7 2 8 4 7 1 5 9 0 7 2 8 4]] true Y:  [[3, 6, 7, 2, 8, 4, 7, 1, 5, 9, 0, 7, 2, 8, 4]] prediction str:  if you want you\n",
      "25 loss:  0.8616273999214172 prediction:  [[3 6 7 2 8 4 7 1 5 9 0 7 2 8 4]] true Y:  [[3, 6, 7, 2, 8, 4, 7, 1, 5, 9, 0, 7, 2, 8, 4]] prediction str:  if you want you\n",
      "26 loss:  0.8567896485328674 prediction:  [[3 6 7 2 8 4 7 1 5 9 0 7 2 8 4]] true Y:  [[3, 6, 7, 2, 8, 4, 7, 1, 5, 9, 0, 7, 2, 8, 4]] prediction str:  if you want you\n",
      "27 loss:  0.8525286912918091 prediction:  [[3 6 7 2 8 4 7 1 5 9 0 7 2 8 4]] true Y:  [[3, 6, 7, 2, 8, 4, 7, 1, 5, 9, 0, 7, 2, 8, 4]] prediction str:  if you want you\n",
      "28 loss:  0.8484237790107727 prediction:  [[3 6 7 2 8 4 7 1 5 9 0 7 2 8 4]] true Y:  [[3, 6, 7, 2, 8, 4, 7, 1, 5, 9, 0, 7, 2, 8, 4]] prediction str:  if you want you\n",
      "29 loss:  0.8447943329811096 prediction:  [[3 6 7 2 8 4 7 1 5 9 0 7 2 8 4]] true Y:  [[3, 6, 7, 2, 8, 4, 7, 1, 5, 9, 0, 7, 2, 8, 4]] prediction str:  if you want you\n",
      "30 loss:  0.8421029448509216 prediction:  [[3 6 7 2 8 4 7 1 5 9 0 7 2 8 4]] true Y:  [[3, 6, 7, 2, 8, 4, 7, 1, 5, 9, 0, 7, 2, 8, 4]] prediction str:  if you want you\n",
      "31 loss:  0.8402824997901917 prediction:  [[3 6 7 2 8 4 7 1 5 9 0 7 2 8 4]] true Y:  [[3, 6, 7, 2, 8, 4, 7, 1, 5, 9, 0, 7, 2, 8, 4]] prediction str:  if you want you\n",
      "32 loss:  0.8381454348564148 prediction:  [[3 6 7 2 8 4 7 1 5 9 0 7 2 8 4]] true Y:  [[3, 6, 7, 2, 8, 4, 7, 1, 5, 9, 0, 7, 2, 8, 4]] prediction str:  if you want you\n",
      "33 loss:  0.8353740572929382 prediction:  [[3 6 7 2 8 4 7 1 5 9 0 7 2 8 4]] true Y:  [[3, 6, 7, 2, 8, 4, 7, 1, 5, 9, 0, 7, 2, 8, 4]] prediction str:  if you want you\n",
      "34 loss:  0.833199679851532 prediction:  [[3 6 7 2 8 4 7 1 5 9 0 7 2 8 4]] true Y:  [[3, 6, 7, 2, 8, 4, 7, 1, 5, 9, 0, 7, 2, 8, 4]] prediction str:  if you want you\n",
      "35 loss:  0.8317005634307861 prediction:  [[3 6 7 2 8 4 7 1 5 9 0 7 2 8 4]] true Y:  [[3, 6, 7, 2, 8, 4, 7, 1, 5, 9, 0, 7, 2, 8, 4]] prediction str:  if you want you\n",
      "36 loss:  0.8303005695343018 prediction:  [[3 6 7 2 8 4 7 1 5 9 0 7 2 8 4]] true Y:  [[3, 6, 7, 2, 8, 4, 7, 1, 5, 9, 0, 7, 2, 8, 4]] prediction str:  if you want you\n",
      "37 loss:  0.8287547826766968 prediction:  [[3 6 7 2 8 4 7 1 5 9 0 7 2 8 4]] true Y:  [[3, 6, 7, 2, 8, 4, 7, 1, 5, 9, 0, 7, 2, 8, 4]] prediction str:  if you want you\n",
      "38 loss:  0.8273628950119019 prediction:  [[3 6 7 2 8 4 7 1 5 9 0 7 2 8 4]] true Y:  [[3, 6, 7, 2, 8, 4, 7, 1, 5, 9, 0, 7, 2, 8, 4]] prediction str:  if you want you\n",
      "39 loss:  0.8265268206596375 prediction:  [[3 6 7 2 8 4 7 1 5 9 0 7 2 8 4]] true Y:  [[3, 6, 7, 2, 8, 4, 7, 1, 5, 9, 0, 7, 2, 8, 4]] prediction str:  if you want you\n",
      "40 loss:  0.8257758021354675 prediction:  [[3 6 7 2 8 4 7 1 5 9 0 7 2 8 4]] true Y:  [[3, 6, 7, 2, 8, 4, 7, 1, 5, 9, 0, 7, 2, 8, 4]] prediction str:  if you want you\n",
      "41 loss:  0.8246515393257141 prediction:  [[3 6 7 2 8 4 7 1 5 9 0 7 2 8 4]] true Y:  [[3, 6, 7, 2, 8, 4, 7, 1, 5, 9, 0, 7, 2, 8, 4]] prediction str:  if you want you\n",
      "42 loss:  0.8237457871437073 prediction:  [[3 6 7 2 8 4 7 1 5 9 0 7 2 8 4]] true Y:  [[3, 6, 7, 2, 8, 4, 7, 1, 5, 9, 0, 7, 2, 8, 4]] prediction str:  if you want you\n",
      "43 loss:  0.8231438398361206 prediction:  [[3 6 7 2 8 4 7 1 5 9 0 7 2 8 4]] true Y:  [[3, 6, 7, 2, 8, 4, 7, 1, 5, 9, 0, 7, 2, 8, 4]] prediction str:  if you want you\n",
      "44 loss:  0.8224608898162842 prediction:  [[3 6 7 2 8 4 7 1 5 9 0 7 2 8 4]] true Y:  [[3, 6, 7, 2, 8, 4, 7, 1, 5, 9, 0, 7, 2, 8, 4]] prediction str:  if you want you\n",
      "45 loss:  0.8216005563735962 prediction:  [[3 6 7 2 8 4 7 1 5 9 0 7 2 8 4]] true Y:  [[3, 6, 7, 2, 8, 4, 7, 1, 5, 9, 0, 7, 2, 8, 4]] prediction str:  if you want you\n",
      "46 loss:  0.820834219455719 prediction:  [[3 6 7 2 8 4 7 1 5 9 0 7 2 8 4]] true Y:  [[3, 6, 7, 2, 8, 4, 7, 1, 5, 9, 0, 7, 2, 8, 4]] prediction str:  if you want you\n",
      "47 loss:  0.8203582763671875 prediction:  [[3 6 7 2 8 4 7 1 5 9 0 7 2 8 4]] true Y:  [[3, 6, 7, 2, 8, 4, 7, 1, 5, 9, 0, 7, 2, 8, 4]] prediction str:  if you want you\n",
      "48 loss:  0.8198009729385376 prediction:  [[3 6 7 2 8 4 7 1 5 9 0 7 2 8 4]] true Y:  [[3, 6, 7, 2, 8, 4, 7, 1, 5, 9, 0, 7, 2, 8, 4]] prediction str:  if you want you\n",
      "49 loss:  0.8191391229629517 prediction:  [[3 6 7 2 8 4 7 1 5 9 0 7 2 8 4]] true Y:  [[3, 6, 7, 2, 8, 4, 7, 1, 5, 9, 0, 7, 2, 8, 4]] prediction str:  if you want you\n",
      "50 loss:  0.818722665309906 prediction:  [[3 6 7 2 8 4 7 1 5 9 0 7 2 8 4]] true Y:  [[3, 6, 7, 2, 8, 4, 7, 1, 5, 9, 0, 7, 2, 8, 4]] prediction str:  if you want you\n",
      "51 loss:  0.8183634281158447 prediction:  [[3 6 7 2 8 4 7 1 5 9 0 7 2 8 4]] true Y:  [[3, 6, 7, 2, 8, 4, 7, 1, 5, 9, 0, 7, 2, 8, 4]] prediction str:  if you want you\n",
      "52 loss:  0.817887008190155 prediction:  [[3 6 7 2 8 4 7 1 5 9 0 7 2 8 4]] true Y:  [[3, 6, 7, 2, 8, 4, 7, 1, 5, 9, 0, 7, 2, 8, 4]] prediction str:  if you want you\n",
      "53 loss:  0.8174419403076172 prediction:  [[3 6 7 2 8 4 7 1 5 9 0 7 2 8 4]] true Y:  [[3, 6, 7, 2, 8, 4, 7, 1, 5, 9, 0, 7, 2, 8, 4]] prediction str:  if you want you\n",
      "54 loss:  0.8171566128730774 prediction:  [[3 6 7 2 8 4 7 1 5 9 0 7 2 8 4]] true Y:  [[3, 6, 7, 2, 8, 4, 7, 1, 5, 9, 0, 7, 2, 8, 4]] prediction str:  if you want you\n",
      "55 loss:  0.8167814016342163 prediction:  [[3 6 7 2 8 4 7 1 5 9 0 7 2 8 4]] true Y:  [[3, 6, 7, 2, 8, 4, 7, 1, 5, 9, 0, 7, 2, 8, 4]] prediction str:  if you want you\n",
      "56 loss:  0.8163801431655884 prediction:  [[3 6 7 2 8 4 7 1 5 9 0 7 2 8 4]] true Y:  [[3, 6, 7, 2, 8, 4, 7, 1, 5, 9, 0, 7, 2, 8, 4]] prediction str:  if you want you\n",
      "57 loss:  0.8161085844039917 prediction:  [[3 6 7 2 8 4 7 1 5 9 0 7 2 8 4]] true Y:  [[3, 6, 7, 2, 8, 4, 7, 1, 5, 9, 0, 7, 2, 8, 4]] prediction str:  if you want you\n",
      "58 loss:  0.8158122301101685 prediction:  [[3 6 7 2 8 4 7 1 5 9 0 7 2 8 4]] true Y:  [[3, 6, 7, 2, 8, 4, 7, 1, 5, 9, 0, 7, 2, 8, 4]] prediction str:  if you want you\n",
      "59 loss:  0.8154661655426025 prediction:  [[3 6 7 2 8 4 7 1 5 9 0 7 2 8 4]] true Y:  [[3, 6, 7, 2, 8, 4, 7, 1, 5, 9, 0, 7, 2, 8, 4]] prediction str:  if you want you\n",
      "60 loss:  0.815208375453949 prediction:  [[3 6 7 2 8 4 7 1 5 9 0 7 2 8 4]] true Y:  [[3, 6, 7, 2, 8, 4, 7, 1, 5, 9, 0, 7, 2, 8, 4]] prediction str:  if you want you\n",
      "61 loss:  0.8149765133857727 prediction:  [[3 6 7 2 8 4 7 1 5 9 0 7 2 8 4]] true Y:  [[3, 6, 7, 2, 8, 4, 7, 1, 5, 9, 0, 7, 2, 8, 4]] prediction str:  if you want you\n",
      "62 loss:  0.8146826028823853 prediction:  [[3 6 7 2 8 4 7 1 5 9 0 7 2 8 4]] true Y:  [[3, 6, 7, 2, 8, 4, 7, 1, 5, 9, 0, 7, 2, 8, 4]] prediction str:  if you want you\n",
      "63 loss:  0.8144623637199402 prediction:  [[3 6 7 2 8 4 7 1 5 9 0 7 2 8 4]] true Y:  [[3, 6, 7, 2, 8, 4, 7, 1, 5, 9, 0, 7, 2, 8, 4]] prediction str:  if you want you\n",
      "64 loss:  0.814261257648468 prediction:  [[3 6 7 2 8 4 7 1 5 9 0 7 2 8 4]] true Y:  [[3, 6, 7, 2, 8, 4, 7, 1, 5, 9, 0, 7, 2, 8, 4]] prediction str:  if you want you\n",
      "65 loss:  0.814019501209259 prediction:  [[3 6 7 2 8 4 7 1 5 9 0 7 2 8 4]] true Y:  [[3, 6, 7, 2, 8, 4, 7, 1, 5, 9, 0, 7, 2, 8, 4]] prediction str:  if you want you\n",
      "66 loss:  0.8138213753700256 prediction:  [[3 6 7 2 8 4 7 1 5 9 0 7 2 8 4]] true Y:  [[3, 6, 7, 2, 8, 4, 7, 1, 5, 9, 0, 7, 2, 8, 4]] prediction str:  if you want you\n",
      "67 loss:  0.8136475682258606 prediction:  [[3 6 7 2 8 4 7 1 5 9 0 7 2 8 4]] true Y:  [[3, 6, 7, 2, 8, 4, 7, 1, 5, 9, 0, 7, 2, 8, 4]] prediction str:  if you want you\n",
      "68 loss:  0.8134337663650513 prediction:  [[3 6 7 2 8 4 7 1 5 9 0 7 2 8 4]] true Y:  [[3, 6, 7, 2, 8, 4, 7, 1, 5, 9, 0, 7, 2, 8, 4]] prediction str:  if you want you\n",
      "69 loss:  0.8132616877555847 prediction:  [[3 6 7 2 8 4 7 1 5 9 0 7 2 8 4]] true Y:  [[3, 6, 7, 2, 8, 4, 7, 1, 5, 9, 0, 7, 2, 8, 4]] prediction str:  if you want you\n",
      "70 loss:  0.8130964040756226 prediction:  [[3 6 7 2 8 4 7 1 5 9 0 7 2 8 4]] true Y:  [[3, 6, 7, 2, 8, 4, 7, 1, 5, 9, 0, 7, 2, 8, 4]] prediction str:  if you want you\n"
     ]
    },
    {
     "name": "stdout",
     "output_type": "stream",
     "text": [
      "71 loss:  0.8129079341888428 prediction:  [[3 6 7 2 8 4 7 1 5 9 0 7 2 8 4]] true Y:  [[3, 6, 7, 2, 8, 4, 7, 1, 5, 9, 0, 7, 2, 8, 4]] prediction str:  if you want you\n",
      "72 loss:  0.8127524256706238 prediction:  [[3 6 7 2 8 4 7 1 5 9 0 7 2 8 4]] true Y:  [[3, 6, 7, 2, 8, 4, 7, 1, 5, 9, 0, 7, 2, 8, 4]] prediction str:  if you want you\n",
      "73 loss:  0.8125993609428406 prediction:  [[3 6 7 2 8 4 7 1 5 9 0 7 2 8 4]] true Y:  [[3, 6, 7, 2, 8, 4, 7, 1, 5, 9, 0, 7, 2, 8, 4]] prediction str:  if you want you\n",
      "74 loss:  0.8124333620071411 prediction:  [[3 6 7 2 8 4 7 1 5 9 0 7 2 8 4]] true Y:  [[3, 6, 7, 2, 8, 4, 7, 1, 5, 9, 0, 7, 2, 8, 4]] prediction str:  if you want you\n",
      "75 loss:  0.8122977614402771 prediction:  [[3 6 7 2 8 4 7 1 5 9 0 7 2 8 4]] true Y:  [[3, 6, 7, 2, 8, 4, 7, 1, 5, 9, 0, 7, 2, 8, 4]] prediction str:  if you want you\n",
      "76 loss:  0.8121546506881714 prediction:  [[3 6 7 2 8 4 7 1 5 9 0 7 2 8 4]] true Y:  [[3, 6, 7, 2, 8, 4, 7, 1, 5, 9, 0, 7, 2, 8, 4]] prediction str:  if you want you\n",
      "77 loss:  0.8120096325874329 prediction:  [[3 6 7 2 8 4 7 1 5 9 0 7 2 8 4]] true Y:  [[3, 6, 7, 2, 8, 4, 7, 1, 5, 9, 0, 7, 2, 8, 4]] prediction str:  if you want you\n",
      "78 loss:  0.8118862509727478 prediction:  [[3 6 7 2 8 4 7 1 5 9 0 7 2 8 4]] true Y:  [[3, 6, 7, 2, 8, 4, 7, 1, 5, 9, 0, 7, 2, 8, 4]] prediction str:  if you want you\n",
      "79 loss:  0.8117506504058838 prediction:  [[3 6 7 2 8 4 7 1 5 9 0 7 2 8 4]] true Y:  [[3, 6, 7, 2, 8, 4, 7, 1, 5, 9, 0, 7, 2, 8, 4]] prediction str:  if you want you\n",
      "80 loss:  0.8116229772567749 prediction:  [[3 6 7 2 8 4 7 1 5 9 0 7 2 8 4]] true Y:  [[3, 6, 7, 2, 8, 4, 7, 1, 5, 9, 0, 7, 2, 8, 4]] prediction str:  if you want you\n",
      "81 loss:  0.8115053772926331 prediction:  [[3 6 7 2 8 4 7 1 5 9 0 7 2 8 4]] true Y:  [[3, 6, 7, 2, 8, 4, 7, 1, 5, 9, 0, 7, 2, 8, 4]] prediction str:  if you want you\n",
      "82 loss:  0.8113783597946167 prediction:  [[3 6 7 2 8 4 7 1 5 9 0 7 2 8 4]] true Y:  [[3, 6, 7, 2, 8, 4, 7, 1, 5, 9, 0, 7, 2, 8, 4]] prediction str:  if you want you\n",
      "83 loss:  0.8112636208534241 prediction:  [[3 6 7 2 8 4 7 1 5 9 0 7 2 8 4]] true Y:  [[3, 6, 7, 2, 8, 4, 7, 1, 5, 9, 0, 7, 2, 8, 4]] prediction str:  if you want you\n",
      "84 loss:  0.8111503720283508 prediction:  [[3 6 7 2 8 4 7 1 5 9 0 7 2 8 4]] true Y:  [[3, 6, 7, 2, 8, 4, 7, 1, 5, 9, 0, 7, 2, 8, 4]] prediction str:  if you want you\n",
      "85 loss:  0.8110342621803284 prediction:  [[3 6 7 2 8 4 7 1 5 9 0 7 2 8 4]] true Y:  [[3, 6, 7, 2, 8, 4, 7, 1, 5, 9, 0, 7, 2, 8, 4]] prediction str:  if you want you\n",
      "86 loss:  0.8109297156333923 prediction:  [[3 6 7 2 8 4 7 1 5 9 0 7 2 8 4]] true Y:  [[3, 6, 7, 2, 8, 4, 7, 1, 5, 9, 0, 7, 2, 8, 4]] prediction str:  if you want you\n",
      "87 loss:  0.8108209371566772 prediction:  [[3 6 7 2 8 4 7 1 5 9 0 7 2 8 4]] true Y:  [[3, 6, 7, 2, 8, 4, 7, 1, 5, 9, 0, 7, 2, 8, 4]] prediction str:  if you want you\n",
      "88 loss:  0.8107166886329651 prediction:  [[3 6 7 2 8 4 7 1 5 9 0 7 2 8 4]] true Y:  [[3, 6, 7, 2, 8, 4, 7, 1, 5, 9, 0, 7, 2, 8, 4]] prediction str:  if you want you\n",
      "89 loss:  0.810617983341217 prediction:  [[3 6 7 2 8 4 7 1 5 9 0 7 2 8 4]] true Y:  [[3, 6, 7, 2, 8, 4, 7, 1, 5, 9, 0, 7, 2, 8, 4]] prediction str:  if you want you\n",
      "90 loss:  0.8105157017707825 prediction:  [[3 6 7 2 8 4 7 1 5 9 0 7 2 8 4]] true Y:  [[3, 6, 7, 2, 8, 4, 7, 1, 5, 9, 0, 7, 2, 8, 4]] prediction str:  if you want you\n",
      "91 loss:  0.8104210495948792 prediction:  [[3 6 7 2 8 4 7 1 5 9 0 7 2 8 4]] true Y:  [[3, 6, 7, 2, 8, 4, 7, 1, 5, 9, 0, 7, 2, 8, 4]] prediction str:  if you want you\n",
      "92 loss:  0.8103255033493042 prediction:  [[3 6 7 2 8 4 7 1 5 9 0 7 2 8 4]] true Y:  [[3, 6, 7, 2, 8, 4, 7, 1, 5, 9, 0, 7, 2, 8, 4]] prediction str:  if you want you\n",
      "93 loss:  0.8102315068244934 prediction:  [[3 6 7 2 8 4 7 1 5 9 0 7 2 8 4]] true Y:  [[3, 6, 7, 2, 8, 4, 7, 1, 5, 9, 0, 7, 2, 8, 4]] prediction str:  if you want you\n",
      "94 loss:  0.8101422786712646 prediction:  [[3 6 7 2 8 4 7 1 5 9 0 7 2 8 4]] true Y:  [[3, 6, 7, 2, 8, 4, 7, 1, 5, 9, 0, 7, 2, 8, 4]] prediction str:  if you want you\n",
      "95 loss:  0.810050904750824 prediction:  [[3 6 7 2 8 4 7 1 5 9 0 7 2 8 4]] true Y:  [[3, 6, 7, 2, 8, 4, 7, 1, 5, 9, 0, 7, 2, 8, 4]] prediction str:  if you want you\n",
      "96 loss:  0.8099644184112549 prediction:  [[3 6 7 2 8 4 7 1 5 9 0 7 2 8 4]] true Y:  [[3, 6, 7, 2, 8, 4, 7, 1, 5, 9, 0, 7, 2, 8, 4]] prediction str:  if you want you\n",
      "97 loss:  0.8098779916763306 prediction:  [[3 6 7 2 8 4 7 1 5 9 0 7 2 8 4]] true Y:  [[3, 6, 7, 2, 8, 4, 7, 1, 5, 9, 0, 7, 2, 8, 4]] prediction str:  if you want you\n",
      "98 loss:  0.8097927570343018 prediction:  [[3 6 7 2 8 4 7 1 5 9 0 7 2 8 4]] true Y:  [[3, 6, 7, 2, 8, 4, 7, 1, 5, 9, 0, 7, 2, 8, 4]] prediction str:  if you want you\n",
      "99 loss:  0.8097110986709595 prediction:  [[3 6 7 2 8 4 7 1 5 9 0 7 2 8 4]] true Y:  [[3, 6, 7, 2, 8, 4, 7, 1, 5, 9, 0, 7, 2, 8, 4]] prediction str:  if you want you\n"
     ]
    }
   ],
   "source": [
    "# RNN 모델 만들어 두기\n",
    "rnn = torch.nn.RNN(input_size, hidden_size, batch_first = True) # batch_first = True로 지정하면 batch 디멘션이 가장 앞으로 온다.\n",
    "\n",
    "# Loss와 Optimizer 정의\n",
    "criterion = torch.nn.CrossEntropyLoss() # Loss\n",
    "optimizer = torch.optim.Adam(rnn.parameters(), learning_rate) # 최적화\n",
    "\n",
    "# RNN 모델 학습하기!\n",
    "for i in range(100):\n",
    "    outputs, _status = rnn(X) \n",
    "    # outputs : 모델에 독립변수를 넣어 구한 예측값\n",
    "    # _status : rnn 안에서 다음 셀로 넘어갈 때 계산하게 하는 hidden state\n",
    "  \n",
    "    loss = criterion(outputs.view(-1, input_size), Y.view(-1)) # (-1)로 batch dimension이 앞에 오도록 한 후, outputs와 Y로 loss를 구함\n",
    "\n",
    "    optimizer.zero_grad() # 매번 새로 Gradient를 구하게 하기\n",
    "    loss.backward() # BP로 Gradient 값을 구함\n",
    "    optimizer.step() # parameter를 업데이트 함\n",
    "  \n",
    "    result = outputs.data.numpy().argmax(axis = 2) # outputs를 numpy 어레이로 가져 온다. axis = 2는 2번째 디멘션을 뜻하는데, 어떤 문자가 가장 가능성 있는지에 대한 숫자를 갖고 있다. argmax를 통해 그 중 가장 큰 값의 인덱스를 취한다.\n",
    "    result_str = ''.join([char_set[c] for c in np.squeeze(result)]) # 앞에서 취한 인덱스가 어떠한 문자인지 char_set에서 확인한 후, join을 통해 문자열로 만든다. np.squeeze는 디멘션이 1인 축을 없애준다.\n",
    "    print(i, \"loss: \", loss.item(), \"prediction: \", result, \"true Y: \", y_data, \"prediction str: \", result_str)"
   ]
  }
 ],
 "metadata": {
  "kernelspec": {
   "display_name": "Python 3",
   "language": "python",
   "name": "python3"
  },
  "language_info": {
   "codemirror_mode": {
    "name": "ipython",
    "version": 3
   },
   "file_extension": ".py",
   "mimetype": "text/x-python",
   "name": "python",
   "nbconvert_exporter": "python",
   "pygments_lexer": "ipython3",
   "version": "3.6.9"
  }
 },
 "nbformat": 4,
 "nbformat_minor": 2
}
