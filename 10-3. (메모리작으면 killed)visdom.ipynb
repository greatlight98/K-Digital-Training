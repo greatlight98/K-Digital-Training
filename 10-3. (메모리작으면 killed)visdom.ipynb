{
 "cells": [
  {
   "cell_type": "markdown",
   "metadata": {},
   "source": [
    "# 1. Visdom 설치\n",
    " - $ pip3 install visdom --user --upgrade"
   ]
  },
  {
   "cell_type": "markdown",
   "metadata": {},
   "source": [
    "# 2. Visdom 서버 켜기\n",
    " - $ python3 -m visdom.server -> 나온 서버 명 주소창에 입력"
   ]
  },
  {
   "cell_type": "markdown",
   "metadata": {},
   "source": [
    "# 3. Visdom 심플 예제\n",
    " - 쥬피터 노트북과 Visdom 서버를 동시에 켜 놓고 예제를 진행한다.\n",
    " - 코드는 쥬피터 노트북에 작성하고, Visdom 서버를 통해 시각화를 확인한다.\n",
    "\n",
    "### (1) 라이브러리 로드"
   ]
  },
  {
   "cell_type": "code",
   "execution_count": 1,
   "metadata": {},
   "outputs": [],
   "source": [
    "import torch\n",
    "import torch.nn as nn\n",
    "import torchvision\n",
    "import torchvision.datasets as dsets"
   ]
  },
  {
   "cell_type": "markdown",
   "metadata": {},
   "source": [
    "### (2) Visdom 라이브러리 로드\n",
    " - Visdom 서버를 미리 켜 놓고 진행하지 않으면 오류가 발생한다!"
   ]
  },
  {
   "cell_type": "code",
   "execution_count": 2,
   "metadata": {},
   "outputs": [
    {
     "name": "stderr",
     "output_type": "stream",
     "text": [
      "Setting up a new session...\n"
     ]
    }
   ],
   "source": [
    "# 터미널에서 python3 -m visdom.server 실행, 브라우저에서 http://localhost:8097 실행\n",
    "\n",
    "import visdom\n",
    "vis = visdom.Visdom()"
   ]
  },
  {
   "cell_type": "markdown",
   "metadata": {},
   "source": [
    "### (3) Test 예제\n",
    " - env를 설정하면, 같은 env인 것 끼리 한 번에 통제(종료 등) 가능!\n",
    " - Visdom 서버에 Hello, world! 창이 뜬다."
   ]
  },
  {
   "cell_type": "code",
   "execution_count": 3,
   "metadata": {},
   "outputs": [
    {
     "data": {
      "text/plain": [
       "'window_387a6e84e55394'"
      ]
     },
     "execution_count": 3,
     "metadata": {},
     "output_type": "execute_result"
    }
   ],
   "source": [
    "vis.text(\"Hello, world!\", env=\"main\")"
   ]
  },
  {
   "cell_type": "markdown",
   "metadata": {},
   "source": [
    "### (4) 이미지 예제\n",
    " - 이미지를 랜덤으로 생성해 본다. 3(RGB)로 설정하고, 200 * 200의 랜덤 이미지를 생성해 보자.\n",
    " - Visdom 서버에 랜덤 이미지 창이 뜬다.\n",
    " - Visdom 서버에 뜬 이미지 창을, Ctrl로 늘릴 수 있고 창도 조절 가능하다."
   ]
  },
  {
   "cell_type": "code",
   "execution_count": 4,
   "metadata": {},
   "outputs": [
    {
     "data": {
      "text/plain": [
       "'window_387a6e84ec8050'"
      ]
     },
     "execution_count": 4,
     "metadata": {},
     "output_type": "execute_result"
    }
   ],
   "source": [
    "a = torch.randn(3, 200, 200)\n",
    "vis.image(a)"
   ]
  },
  {
   "cell_type": "markdown",
   "metadata": {},
   "source": [
    "### (5) 여러 이미지 예제\n",
    " - 여러 이미지를 랜덤으로 생성해 본다. 3(RGB)를 3개 설정하고, 28 * 28의 랜덤 이미지를 생성하자.\n",
    " - Visdom 서버에 여러 랜덤 이미지 창이 뜬다."
   ]
  },
  {
   "cell_type": "code",
   "execution_count": 5,
   "metadata": {},
   "outputs": [
    {
     "data": {
      "text/plain": [
       "'window_387a6e84ee6084'"
      ]
     },
     "execution_count": 5,
     "metadata": {},
     "output_type": "execute_result"
    }
   ],
   "source": [
    "vis.images(torch.Tensor(3, 3, 28, 28)) "
   ]
  },
  {
   "cell_type": "markdown",
   "metadata": {},
   "source": [
    "# 4. Visdom을 사용한 CIFAR10과 MNIST 예제\n",
    "### (1) 데이터 로드"
   ]
  },
  {
   "cell_type": "code",
   "execution_count": 6,
   "metadata": {},
   "outputs": [
    {
     "name": "stdout",
     "output_type": "stream",
     "text": [
      "Files already downloaded and verified\n",
      "torch.Size([3, 32, 32])\n",
      "torch.Size([1, 28, 28])\n"
     ]
    },
    {
     "data": {
      "text/plain": [
       "'window_387a6e8580c266'"
      ]
     },
     "execution_count": 6,
     "metadata": {},
     "output_type": "execute_result"
    }
   ],
   "source": [
    "# 데이터 로드\n",
    "MNIST = dsets.MNIST(root=\"./MNIST_data\", train = True, transform = torchvision.transforms.ToTensor(), download = True)\n",
    "cifar10 = dsets.CIFAR10(root=\"./cifar10\", train = True, transform = torchvision.transforms.ToTensor(), download = True)\n",
    "\n",
    "# CIFAR10 데이터 하나를 Visdom에 띄워 보기\n",
    "data = cifar10.__getitem__(0) # CIFAR10 데이터를 data에 담는다.\n",
    "print(data[0].shape) # 데이터의 0번째 인덱스 shape 확인\n",
    "vis.images(data[0], env=\"main\") # Visdom에 띄우기\n",
    "\n",
    "# MNIST 데이터 하나를 Visdom에 띄워보기\n",
    "data = MNIST.__getitem__(0) # MNIST 데이터를 data에 담는다.\n",
    "print(data[0].shape) # 데이터의 0번째 인덱스 shape 확인\n",
    "vis.images(data[0], env=\"main\") # Visdom에 띄우기"
   ]
  },
  {
   "cell_type": "markdown",
   "metadata": {},
   "source": [
    "### (2) 데이터 로더 이용하기"
   ]
  },
  {
   "cell_type": "code",
   "execution_count": 7,
   "metadata": {},
   "outputs": [
    {
     "name": "stdout",
     "output_type": "stream",
     "text": [
      "torch.Size([32, 1, 28, 28])\n"
     ]
    },
    {
     "data": {
      "text/plain": [
       "''"
      ]
     },
     "execution_count": 7,
     "metadata": {},
     "output_type": "execute_result"
    }
   ],
   "source": [
    "# 데이터 로더로 만들기\n",
    "data_loader = torch.utils.data.DataLoader(dataset = MNIST, # MNIST 데이터셋\n",
    "                                          batch_size = 32, # batch size 설정\n",
    "                                          shuffle = False)\n",
    "\n",
    "# Visdom에 MNIST 데이터 32개 띄우기\n",
    "for num, value in enumerate(data_loader):\n",
    "    value = value[0]\n",
    "    print(value.shape)\n",
    "    vis.images(value)\n",
    "    break\n",
    "\n",
    "# Visdom에서 env가 main인 것 모두 종료 (직접 손으로 다 꺼도 되긴함!)\n",
    "vis.close(env=\"main\")"
   ]
  },
  {
   "cell_type": "markdown",
   "metadata": {},
   "source": [
    "### (3) Line Plot 그리기"
   ]
  },
  {
   "cell_type": "code",
   "execution_count": 8,
   "metadata": {},
   "outputs": [
    {
     "data": {
      "text/plain": [
       "'window_387a6e8585e328'"
      ]
     },
     "execution_count": 8,
     "metadata": {},
     "output_type": "execute_result"
    }
   ],
   "source": [
    "# Y 데이터 선언\n",
    "Y_data = torch.randn(5) # 5개짜리 랜덤 데이터 만듦\n",
    "plt = vis.line (Y = Y_data) # visdom에 라인을 그림\n",
    "\n",
    "# X 데이터 선언\n",
    "X_data = torch.Tensor([1, 2, 3, 4, 5])\n",
    "plt = vis.line(Y = Y_data, X = X_data)\n",
    "\n",
    "# 라인 업데이트\n",
    "Y_append = torch.randn(1) # 업데이트 할 Y 값\n",
    "X_append = torch.Tensor([6]) # 업데이트 할 X 값\n",
    "\n",
    "vis.line(Y=Y_append, X=X_append, win=plt, update='append') # plt 라인 그래프에 append로 업데이트 가능!"
   ]
  },
  {
   "cell_type": "markdown",
   "metadata": {},
   "source": [
    "### (4) 창 하나에 여러 라인 그리기"
   ]
  },
  {
   "cell_type": "code",
   "execution_count": 9,
   "metadata": {},
   "outputs": [],
   "source": [
    "num = torch.Tensor(list(range(0, 10))) # 10개의 텐서 생성\n",
    "num = num.view(-1, 1)\n",
    "num = torch.cat((num, num), dim=1)\n",
    "\n",
    "plt = vis.line(Y=torch.randn(10, 2), X = num)"
   ]
  },
  {
   "cell_type": "markdown",
   "metadata": {},
   "source": [
    "### (5) Line에 정보 부여하기\n",
    " - Line에 Dictionary 형태로 타이틀 등의 정보를 부여할 수 있다.\n",
    " - showlegend=True : 축에 이름이 보이게 한다.\n",
    " - legend = ['1번'] : 축의 이름을 '1번'으로 설정한다."
   ]
  },
  {
   "cell_type": "code",
   "execution_count": 10,
   "metadata": {},
   "outputs": [],
   "source": [
    "plt = vis.line(Y=Y_data, X=X_data, opts = dict(title='Test', showlegend=True)) # 타이틀을 'Test'로 설정\n",
    "plt = vis.line(Y=Y_data, X=X_data, opts = dict(title='Test', legend = ['1번'], showlegend=True)) # 타이틀을 'Test'로 설정하고, 축의 이름을 '1번'으로 설정\n",
    "plt = vis.line(Y=torch.randn(10, 2), X = num, opts = dict(title='Test', legend=['1번', '2번'], showlegend=True))"
   ]
  },
  {
   "cell_type": "markdown",
   "metadata": {},
   "source": [
    "### (6) loss를 계속 업데이트 해서 라인을 그리게 하기"
   ]
  },
  {
   "cell_type": "code",
   "execution_count": 11,
   "metadata": {},
   "outputs": [],
   "source": [
    "# loss 업데이트 함수 만들기!\n",
    "def loss_tracker(loss_plot, loss_value, num): # 업데이트를 반영할 플롯 이름, loss 값, 몇 번째 인덱스(X축)에 들어갈지 설정. loss_value와 num은 Tensor값이어야 한다.\n",
    "    vis.line(X=num, # 인덱스\n",
    "           Y=loss_value, # loss 값\n",
    "           win = loss_plot, # 플롯 이름\n",
    "           update='append') # 추가\n",
    "           \n",
    "# plt 플롯 하나 만들기\n",
    "plt = vis.line(Y=torch.Tensor(1).zero_())\n",
    "\n",
    "for i in range(500):\n",
    "    loss = torch.randn(1) + i # loss 값을 랜덤으로 만든다.\n",
    "    loss_tracker(plt, loss, torch.Tensor([i])) # plt 플롯에 loss 값을 넣는다. i번째 인덱스의 X축에 반영하는 것!"
   ]
  },
  {
   "cell_type": "markdown",
   "metadata": {},
   "source": [
    "### (7) 창 모두 끄기"
   ]
  },
  {
   "cell_type": "code",
   "execution_count": 12,
   "metadata": {},
   "outputs": [
    {
     "data": {
      "text/plain": [
       "''"
      ]
     },
     "execution_count": 12,
     "metadata": {},
     "output_type": "execute_result"
    }
   ],
   "source": [
    "vis.close(env=\"main\")"
   ]
  },
  {
   "cell_type": "markdown",
   "metadata": {},
   "source": [
    "# 5. MNIST CNN과 Visdom\n",
    " - 다른 부분은 앞에서 배운 MNIST CNN과 완전히 똑같다!\n",
    " - loss를 Visom으로 시각화 해주는 코드들만 추가됨"
   ]
  },
  {
   "cell_type": "code",
   "execution_count": 13,
   "metadata": {},
   "outputs": [],
   "source": [
    "# 1. 라이브러리 로드\n",
    "import torch\n",
    "import torch.nn as nn\n",
    "import torchvision.datasets as dsets\n",
    "import torchvision.transforms as transforms\n",
    "import torch.nn.init"
   ]
  },
  {
   "cell_type": "code",
   "execution_count": 14,
   "metadata": {},
   "outputs": [
    {
     "name": "stderr",
     "output_type": "stream",
     "text": [
      "Setting up a new session...\n"
     ]
    },
    {
     "data": {
      "text/plain": [
       "''"
      ]
     },
     "execution_count": 14,
     "metadata": {},
     "output_type": "execute_result"
    }
   ],
   "source": [
    "# 2. Visdom 라이브러리 로드\n",
    "import visdom\n",
    "\n",
    "vis = visdom.Visdom()\n",
    "vis.close(env=\"main\") # Visdom 서버가 기존에 열려 있다면, 기존의 창들을 닫기 위한 작업"
   ]
  },
  {
   "cell_type": "code",
   "execution_count": 15,
   "metadata": {},
   "outputs": [],
   "source": [
    "# 3. loss 추적 함수 정의\n",
    "def loss_tracker(loss_plot, loss_value, num):\n",
    "    vis.line(X=num,\n",
    "           Y=loss_value,\n",
    "           win = loss_plot,\n",
    "           update='append'\n",
    "           )"
   ]
  },
  {
   "cell_type": "code",
   "execution_count": 16,
   "metadata": {},
   "outputs": [
    {
     "name": "stdout",
     "output_type": "stream",
     "text": [
      "torch.Size([1, 10])\n"
     ]
    }
   ],
   "source": [
    "# 4. CNN 과정 (앞에서 배운 부분과 동일)\n",
    "device = 'cuda' if torch.cuda.is_available() else 'cpu'\n",
    "\n",
    "torch.manual_seed(777)\n",
    "if device == 'cuda':\n",
    "    torch.cuda.manual_seed_all(777)\n",
    "\n",
    "learning_rate = 0.001\n",
    "training_epochs = 15\n",
    "batch_size = 32\n",
    "\n",
    "mnist_train = dsets.MNIST(root='MNIST_data/',\n",
    "                          train = True,\n",
    "                          transform = transforms.ToTensor(),\n",
    "                          download=True)\n",
    "                          \n",
    "mnist_test = dsets.MNIST(root='MNIST_data/',\n",
    "                         train=False,\n",
    "                         transform = transforms.ToTensor(),\n",
    "                         download=True)\n",
    "\n",
    "data_loader = torch.utils.data.DataLoader(dataset=mnist_train,\n",
    "                                          batch_size = batch_size,\n",
    "                                          shuffle = True,\n",
    "                                          drop_last = True)\n",
    "                                          \n",
    "class CNN(nn.Module):\n",
    "    def __init__(self):\n",
    "        super(CNN, self).__init__()\n",
    "        self.layer1 = nn.Sequential(\n",
    "            nn.Conv2d(1, 32, kernel_size=3, stride=1, padding=1),\n",
    "            nn.ReLU(),\n",
    "            nn.MaxPool2d(2)\n",
    "        )\n",
    "    \n",
    "        self.layer2 = nn.Sequential(\n",
    "            nn.Conv2d(32, 64, kernel_size=3, stride=1, padding=1),\n",
    "            nn.ReLU(),\n",
    "            nn.MaxPool2d(2)\n",
    "        )  \n",
    "    \n",
    "        self.layer3 = nn.Sequential(\n",
    "            nn.Conv2d(64, 128, kernel_size=3, stride=1, padding=1),\n",
    "            nn.ReLU(),\n",
    "            nn.MaxPool2d(2)\n",
    "        )\n",
    "    \n",
    "        self.fc1 = nn.Linear(3 * 3 * 128, 625)\n",
    "        self.relu = nn.ReLU()\n",
    "        self.fc2 = nn.Linear(625, 10, bias = True)\n",
    "        torch.nn.init.xavier_uniform_(self.fc1.weight)\n",
    "        torch.nn.init.xavier_uniform_(self.fc2.weight)\n",
    "    \n",
    "    def forward(self, x):\n",
    "        out = self.layer1(x)\n",
    "        out = self.layer2(out)\n",
    "        out = self.layer3(out)\n",
    "    \n",
    "        out = out.view(out.size(0), -1)\n",
    "        out = self.fc1(out)\n",
    "        out = self.relu(out)\n",
    "        out = self.fc2(out)\n",
    "        return out\n",
    "    \n",
    "model = CNN().to(device)\n",
    "value = (torch.Tensor(1, 1, 28, 28)).to(device)\n",
    "print( (model(value)).shape )\n",
    "\n",
    "criterion = nn. CrossEntropyLoss().to(device)\n",
    "optimizer = torch.optim.Adam(model.parameters(), lr = learning_rate)"
   ]
  },
  {
   "cell_type": "code",
   "execution_count": 17,
   "metadata": {},
   "outputs": [],
   "source": [
    "# 5. Plot 만들어 두기 (그릴 그래프와 좌표만 미리 만들어 놓는 것)\n",
    "loss_plt = vis.line(Y=torch.Tensor(1).zero_(), opts=dict(title='loss_tracker', legend=['loss'], showlegend=True)) # line 플롯을 만들며, 0으로 초기화 해둔다. title을 설정해 두고, 라인 이름도 설정해 둔다."
   ]
  },
  {
   "cell_type": "code",
   "execution_count": 18,
   "metadata": {},
   "outputs": [
    {
     "name": "stdout",
     "output_type": "stream",
     "text": [
      "[Epoch:1] cost = 0.12092634290456772\n",
      "[Epoch:2] cost = 0.04079827666282654\n",
      "[Epoch:3] cost = 0.028892338275909424\n",
      "[Epoch:4] cost = 0.022852515801787376\n",
      "[Epoch:5] cost = 0.018422262743115425\n",
      "[Epoch:6] cost = 0.015272214077413082\n",
      "[Epoch:7] cost = 0.010548977181315422\n",
      "[Epoch:8] cost = 0.011325321160256863\n",
      "[Epoch:9] cost = 0.010051216930150986\n",
      "[Epoch:10] cost = 0.010022567585110664\n",
      "[Epoch:11] cost = 0.007933658547699451\n",
      "[Epoch:12] cost = 0.0074660638347268105\n",
      "[Epoch:13] cost = 0.007944252341985703\n",
      "[Epoch:14] cost = 0.007692848797887564\n",
      "[Epoch:15] cost = 0.0052856276743113995\n",
      "Learning Finished!\n"
     ]
    }
   ],
   "source": [
    "# 6. 학습하며 loss값 Plot에 반영하기\n",
    "total_batch = len(data_loader)\n",
    "\n",
    "for epoch in range(training_epochs):\n",
    "    avg_cost = 0\n",
    "  \n",
    "    for X, Y in data_loader:\n",
    "        X = X.to(device)\n",
    "        Y = Y.to(device)\n",
    "    \n",
    "        hypothesis = model(X)\n",
    "        cost = criterion(hypothesis, Y)\n",
    "\n",
    "        optimizer.zero_grad()\n",
    "        cost.backward()\n",
    "        optimizer.step()\n",
    "    \n",
    "        avg_cost += cost / total_batch\n",
    "    # 한 Epoch이 돌 때 까지 Batch 사이즈만큼씩 데이터를 모델에 넣어 학습시키는 과정이다.\n",
    "\n",
    "    print('[Epoch:{}] cost = {}'.format(epoch+1, avg_cost))\n",
    "    loss_tracker(loss_plt, torch.Tensor([avg_cost]), torch.Tensor([epoch])) # 한 epoch이 돌 때 마다의 loss_plt 플롯에 avg_cost를 업데이트 해준다. 플롯의 X축은 Epoch으로 한다.\n",
    "print('Learning Finished!')"
   ]
  },
  {
   "cell_type": "code",
   "execution_count": 19,
   "metadata": {},
   "outputs": [
    {
     "name": "stdout",
     "output_type": "stream",
     "text": [
      "Accuracy: 0.9714999794960022\n"
     ]
    },
    {
     "name": "stderr",
     "output_type": "stream",
     "text": [
      "/home/cloudera/.local/lib/python3.6/site-packages/torchvision/datasets/mnist.py:60: UserWarning: test_data has been renamed data\n",
      "  warnings.warn(\"test_data has been renamed data\")\n",
      "/home/cloudera/.local/lib/python3.6/site-packages/torchvision/datasets/mnist.py:50: UserWarning: test_labels has been renamed targets\n",
      "  warnings.warn(\"test_labels has been renamed targets\")\n"
     ]
    }
   ],
   "source": [
    "# 7. 모델 평가 (앞에서 배운 부분과 동일)\n",
    "with torch.no_grad():\n",
    "    X_test = mnist_test.test_data.view(len(mnist_test), 1, 28, 28).float().to(device)\n",
    "    Y_test = mnist_test.test_labels.to(device)\n",
    "  \n",
    "    prediction = model(X_test)\n",
    "    correct_prediction = torch.argmax(prediction, 1) == Y_test\n",
    "    accuracy = correct_prediction.float().mean()\n",
    "    print('Accuracy:', accuracy.item())"
   ]
  }
 ],
 "metadata": {
  "kernelspec": {
   "display_name": "Python 3",
   "language": "python",
   "name": "python3"
  },
  "language_info": {
   "codemirror_mode": {
    "name": "ipython",
    "version": 3
   },
   "file_extension": ".py",
   "mimetype": "text/x-python",
   "name": "python",
   "nbconvert_exporter": "python",
   "pygments_lexer": "ipython3",
   "version": "3.6.9"
  }
 },
 "nbformat": 4,
 "nbformat_minor": 2
}
