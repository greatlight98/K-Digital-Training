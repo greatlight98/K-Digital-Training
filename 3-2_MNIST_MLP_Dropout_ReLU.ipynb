{
 "cells": [
  {
   "cell_type": "code",
   "execution_count": 1,
   "metadata": {},
   "outputs": [],
   "source": [
    "''' 1. Module Import '''\n",
    "import numpy as np\n",
    "import matplotlib.pyplot as plt\n",
    "\n",
    "import torch\n",
    "import torch.nn as nn\n",
    "import torch.nn.functional as F\n",
    "from torchvision import transforms, datasets"
   ]
  },
  {
   "cell_type": "code",
   "execution_count": 2,
   "metadata": {},
   "outputs": [
    {
     "name": "stdout",
     "output_type": "stream",
     "text": [
      "Using PyTorch version: 1.5.0+cu101  Device: cuda\n"
     ]
    }
   ],
   "source": [
    "''' 2. 딥러닝 모델을 설계할 때 활용하는 장비 확인 '''\n",
    "if torch.cuda.is_available():\n",
    "    DEVICE = torch.device('cuda')\n",
    "else:\n",
    "    DEVICE = torch.device('cpu')\n",
    "print('Using PyTorch version:', torch.__version__, ' Device:', DEVICE)"
   ]
  },
  {
   "cell_type": "code",
   "execution_count": 3,
   "metadata": {},
   "outputs": [],
   "source": [
    "BATCH_SIZE = 32\n",
    "EPOCHS = 10"
   ]
  },
  {
   "cell_type": "code",
   "execution_count": 4,
   "metadata": {},
   "outputs": [],
   "source": [
    "''' 3. MNIST 데이터 다운로드 (Train set, Test set 분리하기) '''\n",
    "train_dataset = datasets.MNIST(root = \"../data/MNIST\",\n",
    "                               train = True,\n",
    "                               download = True,\n",
    "                               transform = transforms.ToTensor())\n",
    "\n",
    "test_dataset = datasets.MNIST(root = \"../data/MNIST\",\n",
    "                              train = False,\n",
    "                              transform = transforms.ToTensor())\n",
    "\n",
    "train_loader = torch.utils.data.DataLoader(dataset = train_dataset,\n",
    "                                           batch_size = BATCH_SIZE,\n",
    "                                           shuffle = True)\n",
    "\n",
    "test_loader = torch.utils.data.DataLoader(dataset = test_dataset,\n",
    "                                          batch_size = BATCH_SIZE,\n",
    "                                          shuffle = False)"
   ]
  },
  {
   "cell_type": "code",
   "execution_count": 5,
   "metadata": {},
   "outputs": [
    {
     "name": "stdout",
     "output_type": "stream",
     "text": [
      "X_train: torch.Size([32, 1, 28, 28]) type: torch.FloatTensor\n",
      "y_train: torch.Size([32]) type: torch.LongTensor\n"
     ]
    }
   ],
   "source": [
    "''' 4. 데이터 확인하기 (1) '''\n",
    "for (X_train, y_train) in train_loader:\n",
    "    print('X_train:', X_train.size(), 'type:', X_train.type())\n",
    "    print('y_train:', y_train.size(), 'type:', y_train.type())\n",
    "    break"
   ]
  },
  {
   "cell_type": "code",
   "execution_count": 6,
   "metadata": {},
   "outputs": [
    {
     "data": {
      "image/png": "[encoded data removed]",
      "text/plain": [
       "<Figure size 720x72 with 10 Axes>"
      ]
     },
     "metadata": {
      "needs_background": "light"
     },
     "output_type": "display_data"
    }
   ],
   "source": [
    "''' 5. 데이터 확인하기 (2) '''\n",
    "pltsize = 1\n",
    "plt.figure(figsize=(10 * pltsize, pltsize))\n",
    "for i in range(10):\n",
    "    plt.subplot(1, 10, i + 1)\n",
    "    plt.axis('off')\n",
    "    plt.imshow(X_train[i, :, :, :].numpy().reshape(28, 28), cmap = \"gray_r\")\n",
    "    plt.title('Class: ' + str(y_train[i].item()))"
   ]
  },
  {
   "cell_type": "code",
   "execution_count": 7,
   "metadata": {},
   "outputs": [],
   "source": [
    "''' 6. Multi Layer Perceptron (MLP) 모델 설계하기 '''\n",
    "class Net(nn.Module):\n",
    "    def __init__(self):\n",
    "        super(Net, self).__init__()\n",
    "        self.fc1 = nn.Linear(28 * 28, 512)\n",
    "        self.fc2 = nn.Linear(512, 256)\n",
    "        self.fc3 = nn.Linear(256, 10)\n",
    "        self.dropout_prob = 0.5\n",
    "\n",
    "    def forward(self, x):\n",
    "        x = x.view(-1, 28 * 28)\n",
    "        x = self.fc1(x)\n",
    "        x = F.relu(x)\n",
    "        x = F.dropout(x, training = self.training, p = self.dropout_prob)\n",
    "        x = self.fc2(x)\n",
    "        x = F.relu(x)\n",
    "        x = F.dropout(x, training = self.training, p = self.dropout_prob)\n",
    "        x = self.fc3(x)\n",
    "        x = F.log_softmax(x, dim = 1)\n",
    "        return x"
   ]
  },
  {
   "cell_type": "code",
   "execution_count": 8,
   "metadata": {},
   "outputs": [
    {
     "name": "stdout",
     "output_type": "stream",
     "text": [
      "Net(\n",
      "  (fc1): Linear(in_features=784, out_features=512, bias=True)\n",
      "  (fc2): Linear(in_features=512, out_features=256, bias=True)\n",
      "  (fc3): Linear(in_features=256, out_features=10, bias=True)\n",
      ")\n"
     ]
    }
   ],
   "source": [
    "''' 7. Optimizer, Objective Function 설정하기 '''\n",
    "model = Net().to(DEVICE)\n",
    "optimizer = torch.optim.SGD(model.parameters(), lr = 0.01, momentum = 0.5)\n",
    "criterion = nn.CrossEntropyLoss()\n",
    "\n",
    "print(model)"
   ]
  },
  {
   "cell_type": "code",
   "execution_count": 9,
   "metadata": {},
   "outputs": [],
   "source": [
    "''' 8. MLP 모델 학습을 진행하며 학습 데이터에 대한 모델 성능을 확인하는 함수 정의 '''\n",
    "def train(model, train_loader, optimizer, log_interval):\n",
    "    model.train()\n",
    "    for batch_idx, (image, label) in enumerate(train_loader):\n",
    "        image = image.to(DEVICE)\n",
    "        label = label.to(DEVICE)\n",
    "        optimizer.zero_grad()\n",
    "        output = model(image)\n",
    "        loss = criterion(output, label)\n",
    "        loss.backward()\n",
    "        optimizer.step()\n",
    "\n",
    "        if batch_idx % log_interval == 0:\n",
    "            print(\"Train Epoch: {} [{}/{} ({:.0f}%)]\\tTrain Loss: {:.6f}\".format(\n",
    "                epoch, batch_idx * len(image), \n",
    "                len(train_loader.dataset), 100. * batch_idx / len(train_loader), \n",
    "                loss.item()))"
   ]
  },
  {
   "cell_type": "code",
   "execution_count": 10,
   "metadata": {},
   "outputs": [],
   "source": [
    "''' 9. 학습되는 과정 속에서 검증 데이터에 대한 모델 성능을 확인하는 함수 정의 '''\n",
    "def evaluate(model, test_loader):\n",
    "    model.eval()\n",
    "    test_loss = 0\n",
    "    correct = 0\n",
    "\n",
    "    with torch.no_grad():\n",
    "        for image, label in test_loader:\n",
    "            image = image.to(DEVICE)\n",
    "            label = label.to(DEVICE)\n",
    "            output = model(image)\n",
    "            test_loss += criterion(output, label).item()\n",
    "            prediction = output.max(1, keepdim = True)[1]\n",
    "            correct += prediction.eq(label.view_as(prediction)).sum().item()\n",
    "    \n",
    "    test_loss /= len(test_loader.dataset)\n",
    "    test_accuracy = 100. * correct / len(test_loader.dataset)\n",
    "    return test_loss, test_accuracy"
   ]
  },
  {
   "cell_type": "code",
   "execution_count": 11,
   "metadata": {},
   "outputs": [
    {
     "name": "stdout",
     "output_type": "stream",
     "text": [
      "Train Epoch: 1 [0/60000 (0%)]\tTrain Loss: 2.303675\n",
      "Train Epoch: 1 [6400/60000 (11%)]\tTrain Loss: 1.997567\n",
      "Train Epoch: 1 [12800/60000 (21%)]\tTrain Loss: 0.985002\n",
      "Train Epoch: 1 [19200/60000 (32%)]\tTrain Loss: 0.861495\n",
      "Train Epoch: 1 [25600/60000 (43%)]\tTrain Loss: 0.389270\n",
      "Train Epoch: 1 [32000/60000 (53%)]\tTrain Loss: 0.532351\n",
      "Train Epoch: 1 [38400/60000 (64%)]\tTrain Loss: 0.464649\n",
      "Train Epoch: 1 [44800/60000 (75%)]\tTrain Loss: 0.453213\n",
      "Train Epoch: 1 [51200/60000 (85%)]\tTrain Loss: 0.452983\n",
      "Train Epoch: 1 [57600/60000 (96%)]\tTrain Loss: 0.600385\n",
      "\n",
      "[EPOCH: 1], \tTest Loss: 0.0098, \tTest Accuracy: 91.03 % \n",
      "\n",
      "Train Epoch: 2 [0/60000 (0%)]\tTrain Loss: 0.199810\n",
      "Train Epoch: 2 [6400/60000 (11%)]\tTrain Loss: 0.291440\n",
      "Train Epoch: 2 [12800/60000 (21%)]\tTrain Loss: 0.390441\n",
      "Train Epoch: 2 [19200/60000 (32%)]\tTrain Loss: 0.443979\n",
      "Train Epoch: 2 [25600/60000 (43%)]\tTrain Loss: 0.365188\n",
      "Train Epoch: 2 [32000/60000 (53%)]\tTrain Loss: 0.390232\n",
      "Train Epoch: 2 [38400/60000 (64%)]\tTrain Loss: 0.747836\n",
      "Train Epoch: 2 [44800/60000 (75%)]\tTrain Loss: 0.179473\n",
      "Train Epoch: 2 [51200/60000 (85%)]\tTrain Loss: 0.364175\n",
      "Train Epoch: 2 [57600/60000 (96%)]\tTrain Loss: 0.138635\n",
      "\n",
      "[EPOCH: 2], \tTest Loss: 0.0070, \tTest Accuracy: 93.32 % \n",
      "\n",
      "Train Epoch: 3 [0/60000 (0%)]\tTrain Loss: 0.327737\n",
      "Train Epoch: 3 [6400/60000 (11%)]\tTrain Loss: 0.239836\n",
      "Train Epoch: 3 [12800/60000 (21%)]\tTrain Loss: 0.216572\n",
      "Train Epoch: 3 [19200/60000 (32%)]\tTrain Loss: 0.205213\n",
      "Train Epoch: 3 [25600/60000 (43%)]\tTrain Loss: 0.234488\n",
      "Train Epoch: 3 [32000/60000 (53%)]\tTrain Loss: 0.195339\n",
      "Train Epoch: 3 [38400/60000 (64%)]\tTrain Loss: 0.223483\n",
      "Train Epoch: 3 [44800/60000 (75%)]\tTrain Loss: 0.212796\n",
      "Train Epoch: 3 [51200/60000 (85%)]\tTrain Loss: 0.164054\n",
      "Train Epoch: 3 [57600/60000 (96%)]\tTrain Loss: 0.053959\n",
      "\n",
      "[EPOCH: 3], \tTest Loss: 0.0054, \tTest Accuracy: 94.81 % \n",
      "\n",
      "Train Epoch: 4 [0/60000 (0%)]\tTrain Loss: 0.233232\n",
      "Train Epoch: 4 [6400/60000 (11%)]\tTrain Loss: 0.568618\n",
      "Train Epoch: 4 [12800/60000 (21%)]\tTrain Loss: 0.125216\n",
      "Train Epoch: 4 [19200/60000 (32%)]\tTrain Loss: 0.187505\n",
      "Train Epoch: 4 [25600/60000 (43%)]\tTrain Loss: 0.521406\n",
      "Train Epoch: 4 [32000/60000 (53%)]\tTrain Loss: 0.263216\n",
      "Train Epoch: 4 [38400/60000 (64%)]\tTrain Loss: 0.188555\n",
      "Train Epoch: 4 [44800/60000 (75%)]\tTrain Loss: 0.287217\n",
      "Train Epoch: 4 [51200/60000 (85%)]\tTrain Loss: 0.290971\n",
      "Train Epoch: 4 [57600/60000 (96%)]\tTrain Loss: 0.094835\n",
      "\n",
      "[EPOCH: 4], \tTest Loss: 0.0045, \tTest Accuracy: 95.65 % \n",
      "\n",
      "Train Epoch: 5 [0/60000 (0%)]\tTrain Loss: 0.284742\n",
      "Train Epoch: 5 [6400/60000 (11%)]\tTrain Loss: 0.109283\n",
      "Train Epoch: 5 [12800/60000 (21%)]\tTrain Loss: 0.229085\n",
      "Train Epoch: 5 [19200/60000 (32%)]\tTrain Loss: 0.281767\n",
      "Train Epoch: 5 [25600/60000 (43%)]\tTrain Loss: 0.545210\n",
      "Train Epoch: 5 [32000/60000 (53%)]\tTrain Loss: 0.056353\n",
      "Train Epoch: 5 [38400/60000 (64%)]\tTrain Loss: 0.234420\n",
      "Train Epoch: 5 [44800/60000 (75%)]\tTrain Loss: 0.368100\n",
      "Train Epoch: 5 [51200/60000 (85%)]\tTrain Loss: 0.161355\n",
      "Train Epoch: 5 [57600/60000 (96%)]\tTrain Loss: 0.140358\n",
      "\n",
      "[EPOCH: 5], \tTest Loss: 0.0039, \tTest Accuracy: 96.09 % \n",
      "\n",
      "Train Epoch: 6 [0/60000 (0%)]\tTrain Loss: 0.102770\n",
      "Train Epoch: 6 [6400/60000 (11%)]\tTrain Loss: 0.104108\n",
      "Train Epoch: 6 [12800/60000 (21%)]\tTrain Loss: 0.195084\n",
      "Train Epoch: 6 [19200/60000 (32%)]\tTrain Loss: 0.219169\n",
      "Train Epoch: 6 [25600/60000 (43%)]\tTrain Loss: 0.216700\n",
      "Train Epoch: 6 [32000/60000 (53%)]\tTrain Loss: 0.166844\n",
      "Train Epoch: 6 [38400/60000 (64%)]\tTrain Loss: 0.126277\n",
      "Train Epoch: 6 [44800/60000 (75%)]\tTrain Loss: 0.208273\n",
      "Train Epoch: 6 [51200/60000 (85%)]\tTrain Loss: 0.193880\n",
      "Train Epoch: 6 [57600/60000 (96%)]\tTrain Loss: 0.055103\n",
      "\n",
      "[EPOCH: 6], \tTest Loss: 0.0035, \tTest Accuracy: 96.49 % \n",
      "\n",
      "Train Epoch: 7 [0/60000 (0%)]\tTrain Loss: 0.226912\n",
      "Train Epoch: 7 [6400/60000 (11%)]\tTrain Loss: 0.182287\n",
      "Train Epoch: 7 [12800/60000 (21%)]\tTrain Loss: 0.104017\n",
      "Train Epoch: 7 [19200/60000 (32%)]\tTrain Loss: 0.118467\n",
      "Train Epoch: 7 [25600/60000 (43%)]\tTrain Loss: 0.103869\n",
      "Train Epoch: 7 [32000/60000 (53%)]\tTrain Loss: 0.060301\n",
      "Train Epoch: 7 [38400/60000 (64%)]\tTrain Loss: 0.016796\n",
      "Train Epoch: 7 [44800/60000 (75%)]\tTrain Loss: 0.057600\n",
      "Train Epoch: 7 [51200/60000 (85%)]\tTrain Loss: 0.140496\n",
      "Train Epoch: 7 [57600/60000 (96%)]\tTrain Loss: 0.129800\n",
      "\n",
      "[EPOCH: 7], \tTest Loss: 0.0032, \tTest Accuracy: 96.82 % \n",
      "\n",
      "Train Epoch: 8 [0/60000 (0%)]\tTrain Loss: 0.072883\n",
      "Train Epoch: 8 [6400/60000 (11%)]\tTrain Loss: 0.265522\n",
      "Train Epoch: 8 [12800/60000 (21%)]\tTrain Loss: 0.045549\n",
      "Train Epoch: 8 [19200/60000 (32%)]\tTrain Loss: 0.226301\n",
      "Train Epoch: 8 [25600/60000 (43%)]\tTrain Loss: 0.064986\n",
      "Train Epoch: 8 [32000/60000 (53%)]\tTrain Loss: 0.272177\n",
      "Train Epoch: 8 [38400/60000 (64%)]\tTrain Loss: 0.057805\n",
      "Train Epoch: 8 [44800/60000 (75%)]\tTrain Loss: 0.037482\n",
      "Train Epoch: 8 [51200/60000 (85%)]\tTrain Loss: 0.120648\n",
      "Train Epoch: 8 [57600/60000 (96%)]\tTrain Loss: 0.358067\n",
      "\n",
      "[EPOCH: 8], \tTest Loss: 0.0029, \tTest Accuracy: 97.07 % \n",
      "\n",
      "Train Epoch: 9 [0/60000 (0%)]\tTrain Loss: 0.159328\n",
      "Train Epoch: 9 [6400/60000 (11%)]\tTrain Loss: 0.485047\n",
      "Train Epoch: 9 [12800/60000 (21%)]\tTrain Loss: 0.024649\n",
      "Train Epoch: 9 [19200/60000 (32%)]\tTrain Loss: 0.025547\n",
      "Train Epoch: 9 [25600/60000 (43%)]\tTrain Loss: 0.098201\n",
      "Train Epoch: 9 [32000/60000 (53%)]\tTrain Loss: 0.219385\n",
      "Train Epoch: 9 [38400/60000 (64%)]\tTrain Loss: 0.065582\n",
      "Train Epoch: 9 [44800/60000 (75%)]\tTrain Loss: 0.277721\n",
      "Train Epoch: 9 [51200/60000 (85%)]\tTrain Loss: 0.040970\n",
      "Train Epoch: 9 [57600/60000 (96%)]\tTrain Loss: 0.082929\n",
      "\n",
      "[EPOCH: 9], \tTest Loss: 0.0028, \tTest Accuracy: 97.18 % \n",
      "\n",
      "Train Epoch: 10 [0/60000 (0%)]\tTrain Loss: 0.038437\n",
      "Train Epoch: 10 [6400/60000 (11%)]\tTrain Loss: 0.038686\n",
      "Train Epoch: 10 [12800/60000 (21%)]\tTrain Loss: 0.240154\n",
      "Train Epoch: 10 [19200/60000 (32%)]\tTrain Loss: 0.084401\n",
      "Train Epoch: 10 [25600/60000 (43%)]\tTrain Loss: 0.026815\n",
      "Train Epoch: 10 [32000/60000 (53%)]\tTrain Loss: 0.168701\n",
      "Train Epoch: 10 [38400/60000 (64%)]\tTrain Loss: 0.081206\n",
      "Train Epoch: 10 [44800/60000 (75%)]\tTrain Loss: 0.092053\n",
      "Train Epoch: 10 [51200/60000 (85%)]\tTrain Loss: 0.083285\n",
      "Train Epoch: 10 [57600/60000 (96%)]\tTrain Loss: 0.046614\n",
      "\n",
      "[EPOCH: 10], \tTest Loss: 0.0027, \tTest Accuracy: 97.23 % \n",
      "\n"
     ]
    }
   ],
   "source": [
    "''' 10. MLP 학습 실행하며 Train, Test set의 Loss 및 Test set Accuracy 확인하기 '''\n",
    "for epoch in range(1, EPOCHS + 1):\n",
    "    train(model, train_loader, optimizer, log_interval = 200)\n",
    "    test_loss, test_accuracy = evaluate(model, test_loader)\n",
    "    print(\"\\n[EPOCH: {}], \\tTest Loss: {:.4f}, \\tTest Accuracy: {:.2f} % \\n\".format(\n",
    "        epoch, test_loss, test_accuracy))"
   ]
  },
  {
   "cell_type": "code",
   "execution_count": null,
   "metadata": {},
   "outputs": [],
   "source": []
  }
 ],
 "metadata": {
  "kernelspec": {
   "display_name": "Python 3",
   "language": "python",
   "name": "python3"
  },
  "language_info": {
   "codemirror_mode": {
    "name": "ipython",
    "version": 3
   },
   "file_extension": ".py",
   "mimetype": "text/x-python",
   "name": "python",
   "nbconvert_exporter": "python",
   "pygments_lexer": "ipython3",
   "version": "3.6.8"
  }
 },
 "nbformat": 4,
 "nbformat_minor": 4
}
