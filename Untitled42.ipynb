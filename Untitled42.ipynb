{
 "cells": [
  {
   "cell_type": "markdown",
   "id": "45045eb1",
   "metadata": {},
   "source": [
    "'''\n",
    "tkinter 는 파이썬 표준 GUI interface입니다.\n",
    "'''"
   ]
  },
  {
   "cell_type": "code",
   "execution_count": 10,
   "id": "dc6acaad",
   "metadata": {},
   "outputs": [
    {
     "data": {
      "text/plain": [
       "''"
      ]
     },
     "execution_count": 10,
     "metadata": {},
     "output_type": "execute_result"
    }
   ],
   "source": [
    "# 모튤 추가\n",
    "#import tkinter\n",
    "from tkinter import * #tk 의 모든 것을 끌어 옴\n",
    "\n",
    "#win = tkinter.Tk() #tk 객체생성 : window 창을 생성\n",
    "\n",
    "win = Tk()\n",
    "win.title(\"윈도우 창 제목\") #window title"
   ]
  },
  {
   "cell_type": "code",
   "execution_count": 11,
   "id": "99d726b8",
   "metadata": {},
   "outputs": [
    {
     "data": {
      "text/plain": [
       "''"
      ]
     },
     "execution_count": 11,
     "metadata": {},
     "output_type": "execute_result"
    }
   ],
   "source": [
    "win.geometry(\"500x300+100+100\") # window 크기 설정 : 가로 x 세로 + X죄표 + Y좌표"
   ]
  },
  {
   "cell_type": "code",
   "execution_count": 12,
   "id": "f1fdbd5e",
   "metadata": {},
   "outputs": [],
   "source": [
    "win.mainloop()"
   ]
  },
  {
   "cell_type": "code",
   "execution_count": null,
   "id": "7748253a",
   "metadata": {},
   "outputs": [],
   "source": []
  }
 ],
 "metadata": {
  "kernelspec": {
   "display_name": "Python 3",
   "language": "python",
   "name": "python3"
  },
  "language_info": {
   "codemirror_mode": {
    "name": "ipython",
    "version": 3
   },
   "file_extension": ".py",
   "mimetype": "text/x-python",
   "name": "python",
   "nbconvert_exporter": "python",
   "pygments_lexer": "ipython3",
   "version": "3.8.8"
  },
  "vp": {
   "base_numbering": 1,
   "nav_menu": {},
   "number_sections": true,
   "sideBar": true,
   "title_cell": "VisualPython",
   "title_sidebar": "VisualPython",
   "vpPosition": {
    "height": "calc(100% - 180px)",
    "right": "10px",
    "top": "110px",
    "width": "50%"
   },
   "vp_cell": false,
   "vp_section_display": true,
   "vp_window_display": false
  }
 },
 "nbformat": 4,
 "nbformat_minor": 5
}
