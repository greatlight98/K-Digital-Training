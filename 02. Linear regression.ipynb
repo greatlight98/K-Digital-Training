{
 "cells": [
  {
   "cell_type": "markdown",
   "metadata": {},
   "source": [
    "# 1. Data definition (데이터)\n",
    " - 공부한 시간과 점수의 상관관계를 학습시켜보자.\n",
    " - 모델을 학습시키기 위한 데이터는 torch.tensor의 형태를 띈다."
   ]
  },
  {
   "cell_type": "code",
   "execution_count": 1,
   "metadata": {},
   "outputs": [],
   "source": [
    "import torch\n",
    "\n",
    "x_train = torch.FloatTensor([[1], [2], [3]]) # 입력\n",
    "y_train = torch.FloatTensor([[2], [4], [6]]) # 출력"
   ]
  },
  {
   "cell_type": "markdown",
   "metadata": {},
   "source": [
    "# 2. Hypothesis (모델 정의)\n",
    " - 우리의 모델이다. Hypothesis 구현하기!\n",
    " - y = Wx + b (W : Weight, b : Bias)\n",
    " - Linear regression : 학습 데이터와 가장 잘 맞는 직선을 찾는 일이다.\n",
    " - requires_grad = True : Pytorch에게 이 변수를 학습시키고 싶다고 명시."
   ]
  },
  {
   "cell_type": "code",
   "execution_count": 2,
   "metadata": {},
   "outputs": [],
   "source": [
    "# Weight와 Bias 0으로 초기화 (어떤 입력이 들어와도 0을 예측하게 초기화!)\n",
    "W = torch.zeros(1, requires_grad = True)\n",
    "b = torch.zeros(1, requires_grad = True)\n",
    "hypothesis = x_train * W + b"
   ]
  },
  {
   "cell_type": "markdown",
   "metadata": {},
   "source": [
    "# 3. Compute loss (학습)\n",
    " - 오류를 통해 지속적으로 모델을 개선시키는데, 이때 loss를 계산하는 것이 필요!\n",
    " ### (1) Cost(Loss) : 학습을 하려면 우리의 모델이 얼마나 정답과 가까운지 계산을 해야 한다.\n",
    "  - Linear regression에서는 Mean Squared Error(MSE)로 loss를 계산한다.\n",
    "  - MSE : 우리의 예측값과 실제 값의 차이의 제곱을 평균냄"
   ]
  },
  {
   "cell_type": "code",
   "execution_count": 3,
   "metadata": {},
   "outputs": [],
   "source": [
    "cost = torch.mean((hypothesis - y_train) ** 2 )"
   ]
  },
  {
   "cell_type": "markdown",
   "metadata": {},
   "source": [
    "# 4. Gradient descent (개선)\n",
    " - 계산한 loss를 통해 모델을 개선한다.\n",
    " 1) Gradient descent 중 SGD의 방법을 써서 오류를 줄여가 보자.\n",
    " 2) 우리의 모델에서 학습시키며 개선되어야 할 부분은 [W, b]이니까, 이 두개를 SGD에 넣자.\n",
    " 3) 적당한 lr(학습율) 설정!\n",
    " 4) zero_grad() : gradient 초기화\n",
    " 5) backward() : gradient 계산\n",
    " 6) step() : [W, b] 개선!"
   ]
  },
  {
   "cell_type": "code",
   "execution_count": 4,
   "metadata": {},
   "outputs": [],
   "source": [
    "optimizer = torch.optim.SGD([W, b], lr = 0.01)\n",
    "\n",
    "optimizer.zero_grad()\n",
    "cost.backward()\n",
    "optimizer.step()"
   ]
  },
  {
   "cell_type": "markdown",
   "metadata": {},
   "source": [
    "# 5. Full training code\n",
    " ### (1) 한 번만 정의!\n",
    "  - 데이터 정의\n",
    "  - Hypothesis 초기화\n",
    "  - Optimizer 정의\n",
    "  \n",
    " ### (2) 반복!\n",
    "  - Hypothesis 예측\n",
    "  - Cost 계산\n",
    "  - Optimizer로 학습"
   ]
  },
  {
   "cell_type": "code",
   "execution_count": 5,
   "metadata": {},
   "outputs": [],
   "source": [
    "x_train = torch.FloatTensor([[1], [2], [3]])\n",
    "y_train = torch.FloatTensor([[2], [4], [6]])\n",
    "\n",
    "W = torch.zeros(1, requires_grad = True)\n",
    "b = torch.zeros(1, requires_grad = True)\n",
    "\n",
    "optimizer = torch.optim.SGD([W, b], lr = 0.01)\n",
    "\n",
    "nb_epochs = 1000 # 원하는 만큼 학습시키기!\n",
    "for epoch in range(1, nb_epochs + 1):\n",
    "    hypothesis = x_train * W + b # 모델로 예측\n",
    "    cost = torch.mean((hypothesis - y_train) ** 2 ) # 오류율 계산\n",
    "\n",
    "    # optimizer로 오류를 줄이기!\n",
    "    optimizer.zero_grad()\n",
    "    cost.backward()\n",
    "    optimizer.step()"
   ]
  }
 ],
 "metadata": {
  "kernelspec": {
   "display_name": "Python 3",
   "language": "python",
   "name": "python3"
  },
  "language_info": {
   "codemirror_mode": {
    "name": "ipython",
    "version": 3
   },
   "file_extension": ".py",
   "mimetype": "text/x-python",
   "name": "python",
   "nbconvert_exporter": "python",
   "pygments_lexer": "ipython3",
   "version": "3.6.9"
  }
 },
 "nbformat": 4,
 "nbformat_minor": 2
}
