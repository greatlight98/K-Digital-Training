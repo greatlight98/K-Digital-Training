{
 "cells": [
  {
   "cell_type": "code",
   "execution_count": 42,
   "metadata": {},
   "outputs": [
    {
     "name": "stdout",
     "output_type": "stream",
     "text": [
      "<class 'str'>\n",
      "<class 'str'>\n",
      "say'hello'\n",
      "say\"hello\"\n",
      "say\"hello\"\n",
      "\\ \\ \\ \\\n",
      "hello\n"
     ]
    },
    {
     "name": "stderr",
     "output_type": "stream",
     "text": [
      "<>:31: SyntaxWarning: str indices must be integers or slices, not tuple; perhaps you missed a comma?\n",
      "<>:31: SyntaxWarning: str indices must be integers or slices, not tuple; perhaps you missed a comma?\n"
     ]
    },
    {
     "ename": "TypeError",
     "evalue": "can only concatenate str (not \"int\") to str",
     "output_type": "error",
     "traceback": [
      "\u001b[1;31m---------------------------------------------------------------------------\u001b[0m",
      "\u001b[1;31mTypeError\u001b[0m                                 Traceback (most recent call last)",
      "\u001b[1;32m<ipython-input-42-991ef99f287d>\u001b[0m in \u001b[0;36m<module>\u001b[1;34m\u001b[0m\n\u001b[0;32m     16\u001b[0m \u001b[0mprint\u001b[0m\u001b[1;33m(\u001b[0m\u001b[1;34m\"he\"\u001b[0m\u001b[1;33m+\u001b[0m\u001b[1;34m\"llo\"\u001b[0m\u001b[1;33m)\u001b[0m\u001b[1;33m\u001b[0m\u001b[1;33m\u001b[0m\u001b[0m\n\u001b[0;32m     17\u001b[0m \u001b[1;33m\u001b[0m\u001b[0m\n\u001b[1;32m---> 18\u001b[1;33m \u001b[0mprint\u001b[0m\u001b[1;33m(\u001b[0m\u001b[1;34m\"hello\"\u001b[0m\u001b[1;33m+\u001b[0m\u001b[1;36m1\u001b[0m\u001b[1;33m)\u001b[0m\u001b[1;33m\u001b[0m\u001b[1;33m\u001b[0m\u001b[0m\n\u001b[0m\u001b[0;32m     19\u001b[0m \u001b[1;33m\u001b[0m\u001b[0m\n\u001b[0;32m     20\u001b[0m \u001b[0mpr\u001b[0m\u001b[1;33m\u001b[0m\u001b[1;33m\u001b[0m\u001b[0m\n",
      "\u001b[1;31mTypeError\u001b[0m: can only concatenate str (not \"int\") to str"
     ]
    }
   ],
   "source": [
    "print(type(\"hello\"))\n",
    "\n",
    "type(\"hello\")\n",
    "\n",
    "print(str)\n",
    "\n",
    "\n",
    "print(\"say'hello'\")\n",
    "\n",
    "print('say\"hello\"')\n",
    "\n",
    "print(\"say\\\"hello\\\"\")\n",
    "\n",
    "print(\"\\\\ \\\\ \\\\ \\\\\")\n",
    "\n",
    "print(\"he\"+\"llo\")\n",
    "\n",
    "print(\"hello\"+1)\n",
    "\n",
    "pr\n",
    "\n",
    "print(\"\"\"동해물과 백두산이 마르고 닳도록 \n",
    "      하느님이 보우하사 우리나라 만세 \n",
    "      무궁화 삼천리 화려강산 대한사람\n",
    "      대한으로 길이 보전하세\"\"\")\n",
    "\n",
    "print(\"hello\"[0])\n",
    "\n",
    "print(\"hello\"[0],[4])\n",
    "\n",
    "print(\"hello\"[0,4])\n",
    "\n",
    "print(\"hello\"[4])\n",
    "\n",
    "print(\"hello\"[0:4])\n",
    "\n",
    "print(\"hello\"[1:5])\n",
    "\n",
    "print(\"hello\"[2:6])\n",
    "\n",
    "print(\"hello\"[0:2])"
   ]
  },
  {
   "cell_type": "code",
   "execution_count": 41,
   "metadata": {
    "scrolled": false
   },
   "outputs": [
    {
     "name": "stdout",
     "output_type": "stream",
     "text": [
      "el\n",
      "ll\n",
      "he\n",
      "5\n",
      "please don't say good bye\n",
      "69\n"
     ]
    }
   ],
   "source": [
    "print(\"hello\"[1:3])\n",
    "print(\"hello\"[2:4])\n",
    "\n",
    "hi=\"hello\"\n",
    "print(hi[0:2])\n",
    "\n",
    "print(len(\"hello\"))\n",
    "\n",
    "print(\"please don\\'t say good bye\")\n",
    "\n",
    "len(\"please don\\'t say good bye\")\n",
    "\n",
    "69\n",
    "\n",
    "print(69)"
   ]
  },
  {
   "cell_type": "markdown",
   "metadata": {},
   "source": []
  },
  {
   "cell_type": "code",
   "execution_count": 44,
   "metadata": {},
   "outputs": [
    {
     "name": "stdout",
     "output_type": "stream",
     "text": [
      "5+7= 12\n"
     ]
    }
   ],
   "source": [
    "print(\"5+7=\",5+7) ##쉼표 필수!"
   ]
  },
  {
   "cell_type": "code",
   "execution_count": 45,
   "metadata": {},
   "outputs": [
    {
     "name": "stdout",
     "output_type": "stream",
     "text": [
      "8\n"
     ]
    }
   ],
   "source": [
    "print(2**3) ##제곱"
   ]
  },
  {
   "cell_type": "code",
   "execution_count": 46,
   "metadata": {},
   "outputs": [
    {
     "name": "stdout",
     "output_type": "stream",
     "text": [
      "0.6666666666666666\n"
     ]
    }
   ],
   "source": [
    "print(2/3) ##나누기 전체 출력"
   ]
  },
  {
   "cell_type": "code",
   "execution_count": 47,
   "metadata": {},
   "outputs": [
    {
     "name": "stdout",
     "output_type": "stream",
     "text": [
      "15\n"
     ]
    }
   ],
   "source": [
    "print(30//2) ##몫 출력"
   ]
  },
  {
   "cell_type": "code",
   "execution_count": 48,
   "metadata": {},
   "outputs": [
    {
     "ename": "NameError",
     "evalue": "name 'pi' is not defined",
     "output_type": "error",
     "traceback": [
      "\u001b[1;31m---------------------------------------------------------------------------\u001b[0m",
      "\u001b[1;31mNameError\u001b[0m                                 Traceback (most recent call last)",
      "\u001b[1;32m<ipython-input-48-f84ab820532c>\u001b[0m in \u001b[0;36m<module>\u001b[1;34m\u001b[0m\n\u001b[1;32m----> 1\u001b[1;33m \u001b[0mpi\u001b[0m\u001b[1;33m\u001b[0m\u001b[1;33m\u001b[0m\u001b[0m\n\u001b[0m",
      "\u001b[1;31mNameError\u001b[0m: name 'pi' is not defined"
     ]
    }
   ],
   "source": [
    "pi"
   ]
  },
  {
   "cell_type": "code",
   "execution_count": 54,
   "metadata": {},
   "outputs": [],
   "source": [
    "pi=3.14159265\n",
    "\n",
    "print(pi)"
   ]
  },
  {
   "cell_type": "code",
   "execution_count": 56,
   "metadata": {},
   "outputs": [
    {
     "data": {
      "text/plain": [
       "-8.85840735"
      ]
     },
     "execution_count": 56,
     "metadata": {},
     "output_type": "execute_result"
    }
   ],
   "source": [
    "pi-12"
   ]
  },
  {
   "cell_type": "code",
   "execution_count": 57,
   "metadata": {},
   "outputs": [
    {
     "ename": "TypeError",
     "evalue": "unsupported operand type(s) for -: 'str' and 'float'",
     "output_type": "error",
     "traceback": [
      "\u001b[1;31m---------------------------------------------------------------------------\u001b[0m",
      "\u001b[1;31mTypeError\u001b[0m                                 Traceback (most recent call last)",
      "\u001b[1;32m<ipython-input-57-f29254c835db>\u001b[0m in \u001b[0;36m<module>\u001b[1;34m\u001b[0m\n\u001b[1;32m----> 1\u001b[1;33m \u001b[0mhi\u001b[0m\u001b[1;33m-\u001b[0m\u001b[0mpi\u001b[0m\u001b[1;33m\u001b[0m\u001b[1;33m\u001b[0m\u001b[0m\n\u001b[0m",
      "\u001b[1;31mTypeError\u001b[0m: unsupported operand type(s) for -: 'str' and 'float'"
     ]
    }
   ],
   "source": [
    "hi-pi"
   ]
  },
  {
   "cell_type": "code",
   "execution_count": 58,
   "metadata": {},
   "outputs": [
    {
     "name": "stdout",
     "output_type": "stream",
     "text": [
      "원 둘레 = 62.831853\n",
      "원 넓이 = 314.159265\n"
     ]
    }
   ],
   "source": [
    "r=10\n",
    "print(\"원 둘레 =\", 2*pi*r)\n",
    "print(\"원 넓이 =\", pi*r*r)"
   ]
  },
  {
   "cell_type": "code",
   "execution_count": 63,
   "metadata": {},
   "outputs": [],
   "source": [
    "둘레=2*pi*r"
   ]
  },
  {
   "cell_type": "code",
   "execution_count": 64,
   "metadata": {},
   "outputs": [],
   "source": [
    "넓이=pi*r**2"
   ]
  },
  {
   "cell_type": "code",
   "execution_count": 65,
   "metadata": {},
   "outputs": [
    {
     "data": {
      "text/plain": [
       "62.831853"
      ]
     },
     "execution_count": 65,
     "metadata": {},
     "output_type": "execute_result"
    }
   ],
   "source": [
    "둘레"
   ]
  },
  {
   "cell_type": "code",
   "execution_count": 66,
   "metadata": {},
   "outputs": [
    {
     "data": {
      "text/plain": [
       "314.159265"
      ]
     },
     "execution_count": 66,
     "metadata": {},
     "output_type": "execute_result"
    }
   ],
   "source": [
    "넓이"
   ]
  },
  {
   "cell_type": "code",
   "execution_count": 67,
   "metadata": {},
   "outputs": [
    {
     "data": {
      "text/plain": [
       "19739.208757068045"
      ]
     },
     "execution_count": 67,
     "metadata": {},
     "output_type": "execute_result"
    }
   ],
   "source": [
    "둘레*넓이"
   ]
  },
  {
   "cell_type": "code",
   "execution_count": 68,
   "metadata": {},
   "outputs": [
    {
     "data": {
      "text/plain": [
       "20"
      ]
     },
     "execution_count": 68,
     "metadata": {},
     "output_type": "execute_result"
    }
   ],
   "source": [
    "a=10\n",
    "a+=10\n",
    "a"
   ]
  },
  {
   "cell_type": "code",
   "execution_count": 69,
   "metadata": {},
   "outputs": [
    {
     "data": {
      "text/plain": [
       "30"
      ]
     },
     "execution_count": 69,
     "metadata": {},
     "output_type": "execute_result"
    }
   ],
   "source": [
    "a=a+10\n",
    "a"
   ]
  },
  {
   "cell_type": "code",
   "execution_count": 71,
   "metadata": {},
   "outputs": [
    {
     "data": {
      "text/plain": [
       "1"
      ]
     },
     "execution_count": 71,
     "metadata": {},
     "output_type": "execute_result"
    }
   ],
   "source": [
    "a=10\n",
    "a-=9\n",
    "a"
   ]
  },
  {
   "cell_type": "code",
   "execution_count": 72,
   "metadata": {},
   "outputs": [
    {
     "data": {
      "text/plain": [
       "7"
      ]
     },
     "execution_count": 72,
     "metadata": {},
     "output_type": "execute_result"
    }
   ],
   "source": [
    "a=10\n",
    "a+=-3\n",
    "a"
   ]
  },
  {
   "cell_type": "code",
   "execution_count": 77,
   "metadata": {},
   "outputs": [
    {
     "data": {
      "text/plain": [
       "3.3333333333333335"
      ]
     },
     "execution_count": 77,
     "metadata": {},
     "output_type": "execute_result"
    }
   ],
   "source": [
    "a=10\n",
    "a/=3 ##나눗셈(소숫점 포함)\n",
    "a"
   ]
  },
  {
   "cell_type": "code",
   "execution_count": 76,
   "metadata": {},
   "outputs": [
    {
     "data": {
      "text/plain": [
       "1"
      ]
     },
     "execution_count": 76,
     "metadata": {},
     "output_type": "execute_result"
    }
   ],
   "source": [
    "a=10\n",
    "a%=3 ##나머지만\n",
    "a"
   ]
  },
  {
   "cell_type": "code",
   "execution_count": 78,
   "metadata": {},
   "outputs": [
    {
     "data": {
      "text/plain": [
       "160"
      ]
     },
     "execution_count": 78,
     "metadata": {},
     "output_type": "execute_result"
    }
   ],
   "source": [
    "num=100\n",
    "num+=10\n",
    "num+=20\n",
    "num+=30\n",
    "num"
   ]
  },
  {
   "cell_type": "code",
   "execution_count": 81,
   "metadata": {},
   "outputs": [
    {
     "name": "stdout",
     "output_type": "stream",
     "text": [
      "insert hello > hi\n"
     ]
    },
    {
     "data": {
      "text/plain": [
       "'hi'"
      ]
     },
     "execution_count": 81,
     "metadata": {},
     "output_type": "execute_result"
    }
   ],
   "source": [
    "input(\"insert hello > \")"
   ]
  },
  {
   "cell_type": "code",
   "execution_count": 82,
   "metadata": {},
   "outputs": [
    {
     "name": "stdout",
     "output_type": "stream",
     "text": [
      "insert number > 123\n"
     ]
    }
   ],
   "source": [
    "num = input(\"insert number > \")"
   ]
  },
  {
   "cell_type": "code",
   "execution_count": 86,
   "metadata": {},
   "outputs": [
    {
     "data": {
      "text/plain": [
       "'123'"
      ]
     },
     "execution_count": 86,
     "metadata": {},
     "output_type": "execute_result"
    }
   ],
   "source": [
    "num"
   ]
  },
  {
   "cell_type": "code",
   "execution_count": 95,
   "metadata": {},
   "outputs": [
    {
     "name": "stdout",
     "output_type": "stream",
     "text": [
      "insert something_a > 852\n",
      "insert something_b > 258\n",
      "문자열 자료 :  852258\n",
      "숫자열 자료 :  1110\n"
     ]
    }
   ],
   "source": [
    "str_a = input(\"insert something_a > \")\n",
    "int_a = int(str_a)\n",
    "\n",
    "str_b = input(\"insert something_b > \")\n",
    "int_b = int(str_b)\n",
    "\n",
    "print(\"문자열 자료 : \", str_a+str_b) ##숫자 입력시 n과 n이 '이어서' 나옴 -> string 문 이용했기 때문\n",
    "print(\"숫자열 자료 : \", int_a+int_b) ##숫자 입력시 n과 n이 '더해서' 나옴 -> int 문 이용했기 때문"
   ]
  },
  {
   "cell_type": "code",
   "execution_count": 102,
   "metadata": {},
   "outputs": [
    {
     "name": "stdout",
     "output_type": "stream",
     "text": [
      "모두의 알고리즘 파이썬, Do it! 자료구조와 함께배우는 알고리즘 입문\n"
     ]
    }
   ],
   "source": [
    "book='모두의 알고리즘 파이썬'\n",
    "book=book+', Do it! 자료구조와 함께배우는 알고리즘 입문'\n",
    "print(book)"
   ]
  },
  {
   "cell_type": "code",
   "execution_count": 105,
   "metadata": {},
   "outputs": [
    {
     "name": "stdout",
     "output_type": "stream",
     "text": [
      "책을 읽고 싶습니까?ㄴ\n",
      "모두의 알고리즘 파이썬, Do it! 자료구조와 함께배우는 알고리즘 입문\n"
     ]
    }
   ],
   "source": [
    "str_a = input(\"책을 읽고 싶습니까?\")\n",
    "print(book)"
   ]
  },
  {
   "cell_type": "code",
   "execution_count": 109,
   "metadata": {},
   "outputs": [
    {
     "name": "stdout",
     "output_type": "stream",
     "text": [
      "<class 'int'> 52\n",
      "<class 'float'> 52.273\n"
     ]
    }
   ],
   "source": [
    "output_a=int(\"52\")\n",
    "output_b=float(\"52.273\")\n",
    "\n",
    "print(type(output_a),output_a)\n",
    "print(type(output_b),output_b)"
   ]
  },
  {
   "cell_type": "code",
   "execution_count": 113,
   "metadata": {},
   "outputs": [
    {
     "data": {
      "text/plain": [
       "int"
      ]
     },
     "execution_count": 113,
     "metadata": {},
     "output_type": "execute_result"
    }
   ],
   "source": [
    "type(output_a)"
   ]
  },
  {
   "cell_type": "code",
   "execution_count": 114,
   "metadata": {},
   "outputs": [
    {
     "data": {
      "text/plain": [
       "float"
      ]
     },
     "execution_count": 114,
     "metadata": {},
     "output_type": "execute_result"
    }
   ],
   "source": [
    "type(output_b)"
   ]
  },
  {
   "cell_type": "code",
   "execution_count": 115,
   "metadata": {},
   "outputs": [
    {
     "data": {
      "text/plain": [
       "52"
      ]
     },
     "execution_count": 115,
     "metadata": {},
     "output_type": "execute_result"
    }
   ],
   "source": [
    "output_a"
   ]
  },
  {
   "cell_type": "code",
   "execution_count": 116,
   "metadata": {},
   "outputs": [
    {
     "data": {
      "text/plain": [
       "52.273"
      ]
     },
     "execution_count": 116,
     "metadata": {},
     "output_type": "execute_result"
    }
   ],
   "source": [
    "output_b"
   ]
  },
  {
   "cell_type": "code",
   "execution_count": 119,
   "metadata": {},
   "outputs": [
    {
     "data": {
      "text/plain": [
       "'1020'"
      ]
     },
     "execution_count": 119,
     "metadata": {},
     "output_type": "execute_result"
    }
   ],
   "source": [
    "\"{}\".format(10)\n",
    "\"{}{}\".format(10,20)"
   ]
  },
  {
   "cell_type": "code",
   "execution_count": 120,
   "metadata": {},
   "outputs": [
    {
     "name": "stdout",
     "output_type": "stream",
     "text": [
      "10\n"
     ]
    },
    {
     "data": {
      "text/plain": [
       "str"
      ]
     },
     "execution_count": 120,
     "metadata": {},
     "output_type": "execute_result"
    }
   ],
   "source": [
    "str_a=\"{}\".format(10)\n",
    "\n",
    "print(str_a)\n",
    "type(str_a)"
   ]
  },
  {
   "cell_type": "code",
   "execution_count": 123,
   "metadata": {},
   "outputs": [],
   "source": [
    "format_a = \"{}만원\".format(5000)\n",
    "format_b = \"파이썬 열공하여 첫 연봉 {}만원 만들기 \".format(5000)\n",
    "format_c = \"{} {} {}\".format(3000,4000,5000)\n",
    "format_d = \"{} {} {}\".format(1,\"문자열\",True)"
   ]
  },
  {
   "cell_type": "code",
   "execution_count": 124,
   "metadata": {},
   "outputs": [
    {
     "name": "stdout",
     "output_type": "stream",
     "text": [
      "5000만원\n",
      "파이썬 열공하여 첫 연봉 5000만원 만들기 \n",
      "3000 4000 5000\n",
      "1 문자열 True\n"
     ]
    }
   ],
   "source": [
    "print(format_a)\n",
    "print(format_b)\n",
    "print(format_c)\n",
    "print(format_d)"
   ]
  },
  {
   "cell_type": "code",
   "execution_count": 128,
   "metadata": {},
   "outputs": [
    {
     "data": {
      "text/plain": [
       "'00052'"
      ]
     },
     "execution_count": 128,
     "metadata": {},
     "output_type": "execute_result"
    }
   ],
   "source": [
    "a=\"{:05d}\".format(52)\n",
    "a"
   ]
  },
  {
   "cell_type": "code",
   "execution_count": null,
   "metadata": {},
   "outputs": [],
   "source": []
  },
  {
   "cell_type": "code",
   "execution_count": 152,
   "metadata": {},
   "outputs": [
    {
     "name": "stdout",
     "output_type": "stream",
     "text": [
      "# 기본\n",
      "52\n",
      "# 특정 칸에 출력하기\n",
      "   52\n",
      "        52\n",
      "# 빈칸 0으로 채우기\n",
      "00052\n",
      "-0052\n"
     ]
    }
   ],
   "source": [
    "# 기본\n",
    "output_h = \"{:d}\".format(52)\n",
    "\n",
    "# 특정 칸에 출력하기\n",
    "output_b=\"{:5d}\".format(52)\n",
    "output_c=\"{:10d}\".format(52)\n",
    "\n",
    "# 빈칸 0으로 채우기\n",
    "output_d=\"{:05d}\".format(52)\n",
    "output_e=\"{:05d}\".format(-52)\n",
    "\n",
    "print(\"# 기본\")\n",
    "print(output_a)\n",
    "print(\"# 특정 칸에 출력하기\")\n",
    "print(output_b)\n",
    "print(output_c)\n",
    "print(\"# 빈칸 0으로 채우기\")\n",
    "print(output_d)\n",
    "print(output_e)"
   ]
  },
  {
   "cell_type": "code",
   "execution_count": 150,
   "metadata": {},
   "outputs": [
    {
     "data": {
      "text/plain": [
       "3600000"
      ]
     },
     "execution_count": 150,
     "metadata": {},
     "output_type": "execute_result"
    }
   ],
   "source": [
    "25000*24*6"
   ]
  },
  {
   "cell_type": "code",
   "execution_count": 153,
   "metadata": {},
   "outputs": [
    {
     "name": "stdout",
     "output_type": "stream",
     "text": [
      "# 조합하기\n",
      "  +52\n",
      "  -52\n",
      "+  52\n",
      "-  52\n",
      "+0052\n",
      "-0052\n"
     ]
    }
   ],
   "source": [
    "output_h=\"{:+5d}\".format(52)\n",
    "output_i=\"{:+5d}\".format(-52)\n",
    "output_j=\"{:=+5d}\".format(52)\n",
    "output_k=\"{:=+5d}\".format(-52)\n",
    "output_l=\"{:+05d}\".format(52)\n",
    "output_m=\"{:+05d}\".format(-52)\n",
    "print(\"# 조합하기\")\n",
    "print(output_h)\n",
    "print(output_i)\n",
    "print(output_j)\n",
    "print(output_k)\n",
    "print(output_l)\n",
    "print(output_m)"
   ]
  },
  {
   "cell_type": "code",
   "execution_count": 159,
   "metadata": {},
   "outputs": [
    {
     "name": "stdout",
     "output_type": "stream",
     "text": [
      "52.273000\n",
      "      52.273000\n",
      "     +52.273000\n",
      "+0000052.273000\n"
     ]
    }
   ],
   "source": [
    "output_a = \"{:f}\".format(52.273)\n",
    "output_b = \"{:15f}\".format(52.273)\n",
    "output_c = \"{:+15f}\".format(52.273)\n",
    "output_d = \"{:+015f}\".format(52.273)\n",
    "\n",
    "print(output_a)\n",
    "print(output_b)\n",
    "print(output_c)\n",
    "print(output_d)"
   ]
  },
  {
   "cell_type": "code",
   "execution_count": 161,
   "metadata": {},
   "outputs": [
    {
     "name": "stdout",
     "output_type": "stream",
     "text": [
      "         52.273\n",
      "          52.27\n",
      "           52.3\n"
     ]
    }
   ],
   "source": [
    "output_a=\"{:15.3f}\".format(52.273)\n",
    "output_b=\"{:15.2f}\".format(52.273)\n",
    "output_c=\"{:15.1f}\".format(52.273)\n",
    "\n",
    "print(output_a)\n",
    "print(output_b)\n",
    "print(output_c)"
   ]
  },
  {
   "cell_type": "code",
   "execution_count": 166,
   "metadata": {},
   "outputs": [
    {
     "data": {
      "text/plain": [
       "'HELLO, EVERYONE'"
      ]
     },
     "execution_count": 166,
     "metadata": {},
     "output_type": "execute_result"
    }
   ],
   "source": [
    "a=\"Hello, Everyone\"\n",
    "a.upper()"
   ]
  },
  {
   "cell_type": "code",
   "execution_count": 167,
   "metadata": {
    "scrolled": true
   },
   "outputs": [
    {
     "data": {
      "text/plain": [
       "'hello, everyone'"
      ]
     },
     "execution_count": 167,
     "metadata": {},
     "output_type": "execute_result"
    }
   ],
   "source": [
    "a.lower()"
   ]
  },
  {
   "cell_type": "code",
   "execution_count": 172,
   "metadata": {},
   "outputs": [
    {
     "name": "stdout",
     "output_type": "stream",
     "text": [
      "\n",
      "       안녕하세요\n",
      "문자열의 함수를 알아봅시다.\n",
      "        THE KIM.\n",
      "\n"
     ]
    }
   ],
   "source": [
    "input_a = \"\"\"\n",
    "       안녕하세요\n",
    "문자열의 함수를 알아봅시다.\n",
    "        THE KIM.\n",
    "\"\"\"\n",
    "print(input_a)"
   ]
  },
  {
   "cell_type": "code",
   "execution_count": 177,
   "metadata": {},
   "outputs": [
    {
     "name": "stdout",
     "output_type": "stream",
     "text": [
      "안녕하세요\n",
      "문자열의 함수를 알아봅시다.\n",
      "        THE KIM.\n"
     ]
    }
   ],
   "source": [
    "print(input_a.strip())"
   ]
  },
  {
   "cell_type": "code",
   "execution_count": 236,
   "metadata": {},
   "outputs": [
    {
     "name": "stdout",
     "output_type": "stream",
     "text": [
      "press any number:1\n",
      "True\n",
      "False\n"
     ]
    },
    {
     "ename": "ValueError",
     "evalue": "Unknown format code 'd' for object of type 'str'",
     "output_type": "error",
     "traceback": [
      "\u001b[1;31m---------------------------------------------------------------------------\u001b[0m",
      "\u001b[1;31mValueError\u001b[0m                                Traceback (most recent call last)",
      "\u001b[1;32m<ipython-input-236-bf99f85d2d41>\u001b[0m in \u001b[0;36m<module>\u001b[1;34m\u001b[0m\n\u001b[0;32m      5\u001b[0m \u001b[0mprint\u001b[0m\u001b[1;33m(\u001b[0m\u001b[0ma\u001b[0m\u001b[1;33m.\u001b[0m\u001b[0misalnum\u001b[0m\u001b[1;33m(\u001b[0m\u001b[1;33m)\u001b[0m\u001b[1;33m)\u001b[0m\u001b[1;33m\u001b[0m\u001b[1;33m\u001b[0m\u001b[0m\n\u001b[0;32m      6\u001b[0m \u001b[0mprint\u001b[0m\u001b[1;33m(\u001b[0m\u001b[0ma\u001b[0m\u001b[1;33m.\u001b[0m\u001b[0misalpha\u001b[0m\u001b[1;33m(\u001b[0m\u001b[1;33m)\u001b[0m\u001b[1;33m)\u001b[0m\u001b[1;33m\u001b[0m\u001b[1;33m\u001b[0m\u001b[0m\n\u001b[1;32m----> 7\u001b[1;33m \u001b[0moutput_a\u001b[0m \u001b[1;33m=\u001b[0m \u001b[1;34m\"{:d}\"\u001b[0m\u001b[1;33m.\u001b[0m\u001b[0mformat\u001b[0m\u001b[1;33m(\u001b[0m\u001b[0ma\u001b[0m\u001b[1;33m)\u001b[0m \u001b[1;31m# int절을 str로 번역할 키워드가 필요\u001b[0m\u001b[1;33m\u001b[0m\u001b[1;33m\u001b[0m\u001b[0m\n\u001b[0m\u001b[0;32m      8\u001b[0m \u001b[0mprint\u001b[0m\u001b[1;33m(\u001b[0m\u001b[0moutput_a\u001b[0m\u001b[1;33m)\u001b[0m\u001b[1;33m\u001b[0m\u001b[1;33m\u001b[0m\u001b[0m\n",
      "\u001b[1;31mValueError\u001b[0m: Unknown format code 'd' for object of type 'str'"
     ]
    }
   ],
   "source": [
    "a=0\n",
    "a =int(a)\n",
    "a = input(\"press any number:\")\n",
    "str(a)\n",
    "print(a.isalnum())\n",
    "print(a.isalpha())\n",
    "output_a = \"{:d}\".format(a) # int절을 str로 번역할 키워드가 필요\n",
    "print(output_a)"
   ]
  },
  {
   "cell_type": "code",
   "execution_count": 183,
   "metadata": {},
   "outputs": [
    {
     "name": "stdout",
     "output_type": "stream",
     "text": [
      "0\n"
     ]
    }
   ],
   "source": [
    "a=\"hihihello\".find(\"hi\")\n",
    "print(a)"
   ]
  },
  {
   "cell_type": "code",
   "execution_count": 184,
   "metadata": {},
   "outputs": [
    {
     "name": "stdout",
     "output_type": "stream",
     "text": [
      "2\n"
     ]
    }
   ],
   "source": [
    "b=\"hihihello\".rfind(\"hi\")\n",
    "print(b)"
   ]
  },
  {
   "cell_type": "code",
   "execution_count": 185,
   "metadata": {},
   "outputs": [
    {
     "name": "stdout",
     "output_type": "stream",
     "text": [
      "False\n"
     ]
    }
   ],
   "source": [
    "print(\"the\"in(\"kim\"))"
   ]
  },
  {
   "cell_type": "code",
   "execution_count": 186,
   "metadata": {},
   "outputs": [
    {
     "name": "stdout",
     "output_type": "stream",
     "text": [
      "True\n"
     ]
    }
   ],
   "source": [
    "print(\"the\"in(\"the kim\")) #in 뒤에 있는 문장에 the 가 포함되어 있으므로 True값 나옴."
   ]
  },
  {
   "cell_type": "code",
   "execution_count": 192,
   "metadata": {},
   "outputs": [
    {
     "name": "stdout",
     "output_type": "stream",
     "text": [
      "['10 20 30 40 50']\n"
     ]
    }
   ],
   "source": [
    "a=\"10 20 30 40 50\".split(\"' '\")\n",
    "print(a)"
   ]
  },
  {
   "cell_type": "code",
   "execution_count": 193,
   "metadata": {},
   "outputs": [
    {
     "name": "stdout",
     "output_type": "stream",
     "text": [
      "['10', '20', '30', '40', '50']\n"
     ]
    }
   ],
   "source": [
    "a=\"10 20 30 40 50\".split(\" \")\n",
    "print(a)"
   ]
  },
  {
   "cell_type": "code",
   "execution_count": 205,
   "metadata": {
    "scrolled": true
   },
   "outputs": [
    {
     "name": "stdout",
     "output_type": "stream",
     "text": [
      "True\n",
      "True\n",
      "True\n",
      "True\n",
      "False\n"
     ]
    }
   ],
   "source": [
    "print(10!=100)\n",
    "print(\"가방\"==\"가방\")\n",
    "print(\"가방\"!=\"하마\")\n",
    "print(\"가방\"<\"하마\") # True 나오는 이유 = 문자열상 '하'가 더 큼 (가나다라마바사...<하)\n",
    "print(\"가방\">\"하마\")"
   ]
  },
  {
   "cell_type": "code",
   "execution_count": 208,
   "metadata": {},
   "outputs": [
    {
     "name": "stdout",
     "output_type": "stream",
     "text": [
      "not under_20: False\n"
     ]
    }
   ],
   "source": [
    "x=10\n",
    "under_20 = x < 20\n",
    "print(\"not under_20:\", not under_20)"
   ]
  },
  {
   "cell_type": "code",
   "execution_count": 212,
   "metadata": {},
   "outputs": [
    {
     "name": "stdout",
     "output_type": "stream",
     "text": [
      "True\n",
      "this is true\n"
     ]
    }
   ],
   "source": [
    "if True:\n",
    "    print(\"True\")\n",
    "    print(\"this is true\")"
   ]
  },
  {
   "cell_type": "code",
   "execution_count": 215,
   "metadata": {},
   "outputs": [
    {
     "name": "stdout",
     "output_type": "stream",
     "text": [
      "insert any number : 0\n",
      "0 입니다.\n"
     ]
    }
   ],
   "source": [
    "#입력을 받습니다.\n",
    "number = input(\"insert any number : \")\n",
    "number = int(number)\n",
    "\n",
    "#양수 조건\n",
    "if number > 0:\n",
    "    print(\"양수입니다.\")\n",
    "    \n",
    "#음수 조건\n",
    "if number < 0:\n",
    "    print(\"음수입니다.\")\n",
    "    \n",
    "#0 조건\n",
    "if number == 0:\n",
    "    print(\"0 입니다.\")"
   ]
  },
  {
   "cell_type": "code",
   "execution_count": 216,
   "metadata": {},
   "outputs": [
    {
     "name": "stdout",
     "output_type": "stream",
     "text": [
      "2021 year\n",
      "4 month\n",
      "1 day\n",
      "14 hour\n",
      "53 minute\n",
      "55 second\n"
     ]
    }
   ],
   "source": [
    "# 날짜/시간과 관련된 기능을 가져옵니다.\n",
    "import datetime\n",
    "\n",
    "#현재 날짜/시간을 구합니다.\n",
    "now = datetime.datetime.now()\n",
    "\n",
    "#출력합니다\n",
    "print(now.year,\"year\")\n",
    "print(now.month,\"month\")\n",
    "print(now.day,\"day\")\n",
    "print(now.hour,\"hour\")\n",
    "print(now.minute,\"minute\")\n",
    "print(now.second,\"second\")"
   ]
  },
  {
   "cell_type": "code",
   "execution_count": null,
   "metadata": {},
   "outputs": [],
   "source": [
    "now #shift + tap 누르면 now문 쓰는 방법 나옴."
   ]
  },
  {
   "cell_type": "code",
   "execution_count": 224,
   "metadata": {},
   "outputs": [],
   "source": [
    "# 날짜/시간과 관련된 기능을 가져옵니다.\n",
    "import datetime\n",
    "\n",
    "#현재 날짜/시간을 구합니다.\n",
    "now = datetime.datetime.now()"
   ]
  },
  {
   "cell_type": "code",
   "execution_count": 220,
   "metadata": {},
   "outputs": [
    {
     "name": "stdout",
     "output_type": "stream",
     "text": [
      "2021year 4month 1day 14hour 54minute 22second\n"
     ]
    }
   ],
   "source": [
    "print(\"{}year {}month {}day {}hour {}minute {}second\".format(\n",
    "    now.year,\n",
    "    now.month,\n",
    "    now.day,\n",
    "    now.hour,\n",
    "    now.minute,\n",
    "    now.second\n",
    "))"
   ]
  },
  {
   "cell_type": "code",
   "execution_count": 221,
   "metadata": {},
   "outputs": [
    {
     "name": "stdout",
     "output_type": "stream",
     "text": [
      "2021/ 4/ 1/ 14/ 54/ 22/\n"
     ]
    }
   ],
   "source": [
    "print(\"{}/ {}/ {}/ {}/ {}/ {}/\".format(\n",
    "    now.year,\n",
    "    now.month,\n",
    "    now.day,\n",
    "    now.hour,\n",
    "    now.minute,\n",
    "    now.second\n",
    "))"
   ]
  },
  {
   "cell_type": "code",
   "execution_count": 225,
   "metadata": {},
   "outputs": [
    {
     "name": "stdout",
     "output_type": "stream",
     "text": [
      "2021year 4month 1day 2minute \n"
     ]
    }
   ],
   "source": [
    "print(\"{}year {}month {}day {}minute \".format(\n",
    "    now.year,\n",
    "    now.month,\n",
    "    now.day,\n",
    "    now.minute,\n",
    "))"
   ]
  },
  {
   "cell_type": "code",
   "execution_count": 226,
   "metadata": {},
   "outputs": [
    {
     "name": "stdout",
     "output_type": "stream",
     "text": [
      "이번 달은 4월로 봄입니다!\n"
     ]
    }
   ],
   "source": [
    "import datetime\n",
    "\n",
    "now = datetime.datetime.now()\n",
    "\n",
    "if 3 <= now.month <= 5:\n",
    "    print(\"이번 달은 {}월로 봄입니다!\".format(now.month))\n",
    "    \n",
    "if 6 <= now.month <= 8:\n",
    "    print(\"이번 달은 {}월로 여름입니다!\".format(now.month))\n",
    "    \n",
    "if 9 <= now.month <= 11:\n",
    "    print(\"이번 달은 {}월로 가을입니다!\".format(now.month))\n",
    "    \n",
    "if 12 <= now.month <= 2:\n",
    "    print(\"이번 달은 {}월로 겨울입니다!\".format(now.month))"
   ]
  },
  {
   "cell_type": "code",
   "execution_count": 237,
   "metadata": {},
   "outputs": [
    {
     "name": "stdout",
     "output_type": "stream",
     "text": [
      "이번 달은 몇월 입니까? : 4\n",
      "이번 달은 4월로 봄입니다!\n"
     ]
    }
   ],
   "source": [
    "now = input(\"이번 달은 몇월 입니까? : \")  ##input문 이용 테스트.\n",
    "now = int(now)  \n",
    "\n",
    "if 1<= now <= 2:\n",
    "    print(\"이번 달은 {}월로 겨울입니다!\".format(now))\n",
    "\n",
    "if 3 <= now<= 5:\n",
    "    print(\"이번 달은 {}월로 봄입니다!\".format(now))\n",
    "    \n",
    "if 6 <= now<= 8:\n",
    "    print(\"이번 달은 {}월로 여름입니다!\".format(now))\n",
    "    \n",
    "if 9 <= now<= 11:\n",
    "    print(\"이번 달은 {}월로 가을입니다!\".format(now))\n",
    "    \n",
    "if 12 <= now:\n",
    "    print(\"이번 달은 {}월로 겨울입니다!\".format(now))"
   ]
  },
  {
   "cell_type": "code",
   "execution_count": 242,
   "metadata": {},
   "outputs": [
    {
     "name": "stdout",
     "output_type": "stream",
     "text": [
      "정수 입력 : 10\n",
      "짝수입니다.\n"
     ]
    }
   ],
   "source": [
    "# 입력을 받습니다.\n",
    "num = input(\"정수 입력 : \")\n",
    "\n",
    "# 마지막 자리 숫자를 추출\n",
    "last_character = num[-1]\n",
    "\n",
    "#숫자로 변환하기\n",
    "last_num=int(last_character)\n",
    "\n",
    "#짝수 확인\n",
    "if last_num == 0 \\\n",
    "    or last_num == 2\\\n",
    "    or last_num == 4\\\n",
    "    or last_num == 6\\\n",
    "    or last_num == 8:\n",
    "    print(\"짝수입니다.\")\n",
    "    \n",
    "#홀수 확인\n",
    "if last_num == 1 \\\n",
    "    or last_num == 3\\\n",
    "    or last_num == 5\\\n",
    "    or last_num == 7\\\n",
    "    or last_num == 9:\n",
    "    print(\"홀수입니다.\")"
   ]
  },
  {
   "cell_type": "code",
   "execution_count": 245,
   "metadata": {},
   "outputs": [
    {
     "name": "stdout",
     "output_type": "stream",
     "text": [
      "정수 입력 : 18\n",
      "짝수\n"
     ]
    }
   ],
   "source": [
    "# 입력을 받습니다.\n",
    "num = input(\"정수 입력 : \")\n",
    "\n",
    "# 마지막 자리 숫자를 추출\n",
    "last_character = num[-1]\n",
    "\n",
    "#숫자로 변환하기\n",
    "last_num=int(last_character)\n",
    "\n",
    "if last_num %2 == 0: #나머지\n",
    "    print(\"짝수\")\n",
    "\n",
    "if last_num %2 == 1:\n",
    "    print(\"홀수\")"
   ]
  },
  {
   "cell_type": "code",
   "execution_count": null,
   "metadata": {},
   "outputs": [],
   "source": [
    "# 입력을 받습니다.\n",
    "num = input(\"정수 입력 : \")\n",
    "\n",
    "# 마지막 자리 숫자를 추출\n",
    "last_char = num[-1] #숫자중 마지막 문자(character)를 추출함.\n",
    "\n",
    "#짝수 조건\n",
    "if last_char > in "
   ]
  },
  {
   "cell_type": "code",
   "execution_count": 248,
   "metadata": {},
   "outputs": [
    {
     "name": "stdout",
     "output_type": "stream",
     "text": [
      "정수 입력 : 19\n",
      "홀수입니다.\n"
     ]
    }
   ],
   "source": [
    "# 입력을 받습니다.\n",
    "num = input(\"정수 입력 : \")\n",
    "num = int(num)\n",
    "\n",
    "#조건문을 사용합니다.\n",
    "if num % 2 == 0:\n",
    "    #조건문이 참일 때, 즉 짝수 조건\n",
    "    print(\"짝수입니다\")\n",
    "else: #조건문이 참일 때, 즉 홀수 조건\n",
    "    print(\"홀수입니다.\")"
   ]
  },
  {
   "cell_type": "code",
   "execution_count": 251,
   "metadata": {},
   "outputs": [
    {
     "name": "stdout",
     "output_type": "stream",
     "text": [
      "이번 달은 봄입니다!\n"
     ]
    }
   ],
   "source": [
    "import datetime\n",
    "\n",
    "now = datetime.datetime.now()\n",
    "month = now.month\n",
    "\n",
    "if 3 <= month <= 5:\n",
    "    print(\"이번 달은 봄입니다!\")\n",
    "    \n",
    "elif 6 <= month <= 8:\n",
    "    print(\"이번 달은 여름입니다!\")\n",
    "    \n",
    "elif 9 <= month <= 11:\n",
    "    print(\"이번 달은 가을입니다!\")\n",
    "    \n",
    "elif 12 <= month <= 2:\n",
    "    print(\"이번 달은 겨울입니다!\")"
   ]
  },
  {
   "cell_type": "code",
   "execution_count": 257,
   "metadata": {},
   "outputs": [
    {
     "name": "stdout",
     "output_type": "stream",
     "text": [
      "학점 입력 : 4.5\n",
      "신\n"
     ]
    }
   ],
   "source": [
    "score = float(input(\"학점 입력 : \"))\n",
    "\n",
    "\n",
    "if score == 4.5:\n",
    "    print(\"신\")\n",
    "elif 4.2 <= score < 4.5:\n",
    "    print(\"교수님의 사랑\")\n",
    "elif 3.5<= score < 4.2:\n",
    "    print(\"현 체제의 수호자\")\n",
    "elif 2.8<= score < 3.5:\n",
    "    print(\"일반인\")\n",
    "elif 2.3<= score < 2.8:\n",
    "    print(\"일탈을 꿈꾸는 소시민\")\n",
    "elif 1.75<=score < 2.3:\n",
    "    print(\"오락문화의 선구자\")\n",
    "elif 1.0<= score < 1.75:\n",
    "    print(\"불가촉천민\")\n",
    "elif 0.5<= score < 1.0:\n",
    "    print(\"자벌레\")\n",
    "elif 0< score < 0.5:\n",
    "    print(\"플랑크톤\")\n",
    "elif score == 0:\n",
    "    print(\"시대를 앞서가는 혁명의 씨앗\")"
   ]
  },
  {
   "cell_type": "code",
   "execution_count": 261,
   "metadata": {},
   "outputs": [
    {
     "data": {
      "text/plain": [
       "list"
      ]
     },
     "execution_count": 261,
     "metadata": {},
     "output_type": "execute_result"
    }
   ],
   "source": [
    "a = [273, 32, 103, \"문자열\", True, False]\n",
    "type(a)"
   ]
  },
  {
   "cell_type": "code",
   "execution_count": 262,
   "metadata": {},
   "outputs": [
    {
     "data": {
      "text/plain": [
       "'문자열'"
      ]
     },
     "execution_count": 262,
     "metadata": {},
     "output_type": "execute_result"
    }
   ],
   "source": [
    "a[3]"
   ]
  },
  {
   "cell_type": "code",
   "execution_count": 263,
   "metadata": {},
   "outputs": [
    {
     "data": {
      "text/plain": [
       "32"
      ]
     },
     "execution_count": 263,
     "metadata": {},
     "output_type": "execute_result"
    }
   ],
   "source": [
    "a[1]"
   ]
  },
  {
   "cell_type": "code",
   "execution_count": 270,
   "metadata": {},
   "outputs": [],
   "source": [
    "a[-2] = \"Verita\"\n",
    "a[5] = \"Falso\""
   ]
  },
  {
   "cell_type": "code",
   "execution_count": 266,
   "metadata": {},
   "outputs": [
    {
     "data": {
      "text/plain": [
       "[32, 103]"
      ]
     },
     "execution_count": 266,
     "metadata": {},
     "output_type": "execute_result"
    }
   ],
   "source": [
    "a[1:3]"
   ]
  },
  {
   "cell_type": "code",
   "execution_count": 272,
   "metadata": {},
   "outputs": [
    {
     "data": {
      "text/plain": [
       "'Verita'"
      ]
     },
     "execution_count": 272,
     "metadata": {},
     "output_type": "execute_result"
    }
   ],
   "source": [
    "a[-2]"
   ]
  },
  {
   "cell_type": "code",
   "execution_count": 273,
   "metadata": {},
   "outputs": [
    {
     "data": {
      "text/plain": [
       "'Falso'"
      ]
     },
     "execution_count": 273,
     "metadata": {},
     "output_type": "execute_result"
    }
   ],
   "source": [
    "a[-1]"
   ]
  },
  {
   "cell_type": "code",
   "execution_count": 275,
   "metadata": {},
   "outputs": [
    {
     "data": {
      "text/plain": [
       "'V'"
      ]
     },
     "execution_count": 275,
     "metadata": {},
     "output_type": "execute_result"
    }
   ],
   "source": [
    "a[-2][0]"
   ]
  },
  {
   "cell_type": "code",
   "execution_count": 279,
   "metadata": {},
   "outputs": [
    {
     "name": "stdout",
     "output_type": "stream",
     "text": [
      "\n",
      "[1, 2, 3, 4, 5, 6]\n",
      "[1, 2, 3, 1, 2, 3]\n",
      "[1, 2, 3, 1, 2, 3, 1, 2, 3]\n"
     ]
    }
   ],
   "source": [
    "list_a=[1,2,3]\n",
    "list_b=[4,5,6]\n",
    "\n",
    "print()\n",
    "\n",
    "print(list_a+list_b)\n",
    "\n",
    "print(list_a+list_a)\n",
    "\n",
    "print(list_a*3)"
   ]
  },
  {
   "cell_type": "code",
   "execution_count": 280,
   "metadata": {},
   "outputs": [
    {
     "data": {
      "text/plain": [
       "3"
      ]
     },
     "execution_count": 280,
     "metadata": {},
     "output_type": "execute_result"
    }
   ],
   "source": [
    "len(list_a)"
   ]
  },
  {
   "cell_type": "code",
   "execution_count": 281,
   "metadata": {},
   "outputs": [
    {
     "data": {
      "text/plain": [
       "[1, 2, 3]"
      ]
     },
     "execution_count": 281,
     "metadata": {},
     "output_type": "execute_result"
    }
   ],
   "source": [
    "list_a"
   ]
  },
  {
   "cell_type": "code",
   "execution_count": 283,
   "metadata": {},
   "outputs": [],
   "source": [
    "list_a.append(4) #append = 뒤에 n 붙인다는 뜻. 현 문장 n=4"
   ]
  },
  {
   "cell_type": "code",
   "execution_count": 284,
   "metadata": {},
   "outputs": [
    {
     "data": {
      "text/plain": [
       "[1, 2, 3, 4]"
      ]
     },
     "execution_count": 284,
     "metadata": {},
     "output_type": "execute_result"
    }
   ],
   "source": [
    "list_a"
   ]
  },
  {
   "cell_type": "code",
   "execution_count": 287,
   "metadata": {},
   "outputs": [],
   "source": [
    "list_a.insert(0,10) #insert = 앞에 n 붙인다는 뜻. 현 문장 n=10"
   ]
  },
  {
   "cell_type": "code",
   "execution_count": 288,
   "metadata": {},
   "outputs": [
    {
     "data": {
      "text/plain": [
       "[10, 1, 2, 3, 4]"
      ]
     },
     "execution_count": 288,
     "metadata": {},
     "output_type": "execute_result"
    }
   ],
   "source": [
    "list_a"
   ]
  },
  {
   "cell_type": "code",
   "execution_count": 289,
   "metadata": {},
   "outputs": [],
   "source": [
    "list_a.extend([4,5,6])"
   ]
  },
  {
   "cell_type": "code",
   "execution_count": 290,
   "metadata": {},
   "outputs": [
    {
     "data": {
      "text/plain": [
       "[10, 1, 2, 3, 4, 4, 5, 6]"
      ]
     },
     "execution_count": 290,
     "metadata": {},
     "output_type": "execute_result"
    }
   ],
   "source": [
    "list_a"
   ]
  },
  {
   "cell_type": "code",
   "execution_count": 291,
   "metadata": {},
   "outputs": [],
   "source": [
    "del list_a"
   ]
  },
  {
   "cell_type": "code",
   "execution_count": 293,
   "metadata": {},
   "outputs": [
    {
     "name": "stdout",
     "output_type": "stream",
     "text": [
      "[4, 5, 6]\n"
     ]
    }
   ],
   "source": [
    "print(list_b)"
   ]
  },
  {
   "cell_type": "code",
   "execution_count": 297,
   "metadata": {},
   "outputs": [
    {
     "data": {
      "text/plain": [
       "6"
      ]
     },
     "execution_count": 297,
     "metadata": {},
     "output_type": "execute_result"
    }
   ],
   "source": [
    "list_b.pop(2)  #list_b 중 3번째 글자기에 2를 입력 ex. 순서 = 0,1,2"
   ]
  },
  {
   "cell_type": "code",
   "execution_count": 299,
   "metadata": {},
   "outputs": [
    {
     "data": {
      "text/plain": [
       "[0, 1, 2, 6]"
      ]
     },
     "execution_count": 299,
     "metadata": {},
     "output_type": "execute_result"
    }
   ],
   "source": [
    "b=[0,1,2,3,4,5,6]\n",
    "del b[3:6]\n",
    "b"
   ]
  },
  {
   "cell_type": "code",
   "execution_count": null,
   "metadata": {},
   "outputs": [],
   "source": []
  }
 ],
 "metadata": {
  "kernelspec": {
   "display_name": "Python 3",
   "language": "python",
   "name": "python3"
  },
  "language_info": {
   "codemirror_mode": {
    "name": "ipython",
    "version": 3
   },
   "file_extension": ".py",
   "mimetype": "text/x-python",
   "name": "python",
   "nbconvert_exporter": "python",
   "pygments_lexer": "ipython3",
   "version": "3.8.5"
  }
 },
 "nbformat": 4,
 "nbformat_minor": 4
}
