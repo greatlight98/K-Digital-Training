{
 "cells": [
  {
   "cell_type": "code",
   "execution_count": 4,
   "id": "99427c96",
   "metadata": {},
   "outputs": [],
   "source": [
    "token=('정부가 발표하는 물가상승률과 소비자가 느끼는 물가상승률은 다르다.')"
   ]
  },
  {
   "cell_type": "code",
   "execution_count": 5,
   "id": "bd35cc9c",
   "metadata": {},
   "outputs": [
    {
     "ename": "NameError",
     "evalue": "name 'okt' is not defined",
     "output_type": "error",
     "traceback": [
      "\u001b[1;31m---------------------------------------------------------------------------\u001b[0m",
      "\u001b[1;31mNameError\u001b[0m                                 Traceback (most recent call last)",
      "\u001b[1;32m<ipython-input-5-f31fd4d13eba>\u001b[0m in \u001b[0;36m<module>\u001b[1;34m\u001b[0m\n\u001b[1;32m----> 1\u001b[1;33m \u001b[0mokt\u001b[0m\u001b[1;33m.\u001b[0m\u001b[0mmorphs\u001b[0m\u001b[1;33m(\u001b[0m\u001b[0mtoken\u001b[0m\u001b[1;33m)\u001b[0m\u001b[1;33m\u001b[0m\u001b[1;33m\u001b[0m\u001b[0m\n\u001b[0m",
      "\u001b[1;31mNameError\u001b[0m: name 'okt' is not defined"
     ]
    }
   ],
   "source": [
    "okt.morphs(token)"
   ]
  },
  {
   "cell_type": "code",
   "execution_count": 6,
   "id": "6405e35c",
   "metadata": {},
   "outputs": [
    {
     "ename": "NameError",
     "evalue": "name 'okt' is not defined",
     "output_type": "error",
     "traceback": [
      "\u001b[1;31m---------------------------------------------------------------------------\u001b[0m",
      "\u001b[1;31mNameError\u001b[0m                                 Traceback (most recent call last)",
      "\u001b[1;32m<ipython-input-6-6801bfb84d18>\u001b[0m in \u001b[0;36m<module>\u001b[1;34m\u001b[0m\n\u001b[1;32m----> 1\u001b[1;33m \u001b[0mtoken\u001b[0m \u001b[1;33m=\u001b[0m \u001b[0mokt\u001b[0m\u001b[1;33m.\u001b[0m\u001b[0mmorphs\u001b[0m\u001b[1;33m(\u001b[0m\u001b[0mtoken\u001b[0m\u001b[1;33m)\u001b[0m\u001b[1;31m#형태소 토큰화한 text 객체로 생성\u001b[0m\u001b[1;33m\u001b[0m\u001b[1;33m\u001b[0m\u001b[0m\n\u001b[0m\u001b[0;32m      2\u001b[0m \u001b[1;33m\u001b[0m\u001b[0m\n\u001b[0;32m      3\u001b[0m \u001b[0mword2idx\u001b[0m \u001b[1;33m=\u001b[0m \u001b[1;33m{\u001b[0m\u001b[1;33m}\u001b[0m\u001b[1;31m#빈 딕셔너리를 생성\u001b[0m\u001b[1;33m\u001b[0m\u001b[1;33m\u001b[0m\u001b[0m\n\u001b[0;32m      4\u001b[0m \u001b[0mbow\u001b[0m \u001b[1;33m=\u001b[0m \u001b[1;33m[\u001b[0m\u001b[1;33m]\u001b[0m\u001b[1;31m#단어 주머니 생성\u001b[0m\u001b[1;33m\u001b[0m\u001b[1;33m\u001b[0m\u001b[0m\n\u001b[0;32m      5\u001b[0m \u001b[1;33m\u001b[0m\u001b[0m\n",
      "\u001b[1;31mNameError\u001b[0m: name 'okt' is not defined"
     ]
    }
   ],
   "source": [
    "token = okt.morphs(token)#형태소 토큰화한 text 객체로 생성\n",
    "\n",
    "word2idx = {}#빈 딕셔너리를 생성\n",
    "bow = []#단어 주머니 생성\n",
    "\n",
    "for voca in token:#토큰화된 단어를 하나씩 불러서 반복\n",
    "    if voca not in word2index.keys():#만약 단어사전에 단어가 없다면\n",
    "        word2index[voca] = len(word2index)# 단어사전 전체크기를 단어사전으로 설정하고\n",
    "        bow.insert(len(word2index)-1,1)\n",
    "        #token화된 단어를 읽으면서, 단어사전에 없는 단어는 추가하고 있는 단어는 남김\n",
    "        #단어집합(bow) 전체에 전부 1 만들어줌(단어의 개수 1개 이상이기 때문)\n",
    "        \n",
    "    else:\n",
    "        index = word2index.get(voca)\n",
    "        bow[index]=bow[index]+1\n",
    "        # 재등장하는 단어의 인덱스를 받아와서 재등장한 단어는 해당 인덱스 위치에 1을 더해줌\n",
    "        \n",
    "        print(word2index)"
   ]
  },
  {
   "cell_type": "code",
   "execution_count": 7,
   "id": "d9f6c7ff",
   "metadata": {},
   "outputs": [
    {
     "ename": "NameError",
     "evalue": "name 'bow' is not defined",
     "output_type": "error",
     "traceback": [
      "\u001b[1;31m---------------------------------------------------------------------------\u001b[0m",
      "\u001b[1;31mNameError\u001b[0m                                 Traceback (most recent call last)",
      "\u001b[1;32m<ipython-input-7-e2efa2fc2000>\u001b[0m in \u001b[0;36m<module>\u001b[1;34m\u001b[0m\n\u001b[1;32m----> 1\u001b[1;33m \u001b[0mprint\u001b[0m\u001b[1;33m(\u001b[0m\u001b[0mbow\u001b[0m\u001b[1;33m)\u001b[0m\u001b[1;33m\u001b[0m\u001b[1;33m\u001b[0m\u001b[0m\n\u001b[0m",
      "\u001b[1;31mNameError\u001b[0m: name 'bow' is not defined"
     ]
    }
   ],
   "source": [
    "print(bow)"
   ]
  },
  {
   "cell_type": "code",
   "execution_count": 10,
   "id": "ade843e5",
   "metadata": {},
   "outputs": [
    {
     "name": "stdout",
     "output_type": "stream",
     "text": [
      "[[1 1 2 1 2 1]]\n",
      "{'you': 4, 'know': 1, 'want': 3, 'your': 5, 'love': 2, 'because': 0}\n"
     ]
    }
   ],
   "source": [
    "#countvectorizer 이용\n",
    "from sklearn.feature_extraction.text import CountVectorizer\n",
    "corpus=['you know I want your love. because I love you']\n",
    "vector = CountVectorizer()\n",
    "print(vector.fit_transform(corpus).toarray()) #단어의 빈도수\n",
    "print(vector.vocabulary_)#각 단어의 인덱스"
   ]
  },
  {
   "cell_type": "code",
   "execution_count": 11,
   "id": "bacb18f7",
   "metadata": {},
   "outputs": [],
   "source": [
    "#TF-IDF matrix\n",
    "\n",
    "import pandas as pd\n",
    "from math import log\n",
    "\n",
    "docs = [\n",
    "  '먹고 싶은 사과',\n",
    "  '먹고 싶은 바나나',\n",
    "  '길고 노란 바나나 바나나',\n",
    "  '저는 과일이 좋아요'\n",
    "]"
   ]
  },
  {
   "cell_type": "code",
   "execution_count": 15,
   "id": "4781a90e",
   "metadata": {},
   "outputs": [
    {
     "data": {
      "text/plain": [
       "['바나나', '싶은', '노란', '사과', '과일이', '길고', '먹고', '좋아요', '저는']"
      ]
     },
     "execution_count": 15,
     "metadata": {},
     "output_type": "execute_result"
    }
   ],
   "source": [
    "list(set(w for doc in docs for w in doc.split()))"
   ]
  },
  {
   "cell_type": "code",
   "execution_count": 16,
   "id": "0f9454f7",
   "metadata": {},
   "outputs": [],
   "source": [
    "voca = list(set(w for doc in docs for w in doc.split()))\n",
    "voca.sort()"
   ]
  },
  {
   "cell_type": "code",
   "execution_count": 17,
   "id": "724cab71",
   "metadata": {},
   "outputs": [
    {
     "name": "stdout",
     "output_type": "stream",
     "text": [
      "None\n"
     ]
    }
   ],
   "source": [
    "print(voca.sort())"
   ]
  },
  {
   "cell_type": "code",
   "execution_count": 18,
   "id": "e67ebfe9",
   "metadata": {},
   "outputs": [
    {
     "data": {
      "text/plain": [
       "4"
      ]
     },
     "execution_count": 18,
     "metadata": {},
     "output_type": "execute_result"
    }
   ],
   "source": [
    "len(docs)"
   ]
  },
  {
   "cell_type": "code",
   "execution_count": 20,
   "id": "c42db2a8",
   "metadata": {},
   "outputs": [],
   "source": [
    "N=len(docs)\n",
    "\n",
    "def tf(t,d): #term frequenct : 단어의 빈도\n",
    "    return d.count(t)\n",
    "\n",
    "def idf(t):#incersed document frequency : 역문서 빈도\n",
    "    df = 0\n",
    "    for doc in docs:\n",
    "        df += t in doc\n",
    "    return log(N/(df+1))\n",
    "\n",
    "def tfidf(t, d):\n",
    "    return tf(t,d) * idf(t)"
   ]
  },
  {
   "cell_type": "code",
   "execution_count": 22,
   "id": "c05f5b12",
   "metadata": {},
   "outputs": [
    {
     "data": {
      "text/html": [
       "<div>\n",
       "<style scoped>\n",
       "    .dataframe tbody tr th:only-of-type {\n",
       "        vertical-align: middle;\n",
       "    }\n",
       "\n",
       "    .dataframe tbody tr th {\n",
       "        vertical-align: top;\n",
       "    }\n",
       "\n",
       "    .dataframe thead th {\n",
       "        text-align: right;\n",
       "    }\n",
       "</style>\n",
       "<table border=\"1\" class=\"dataframe\">\n",
       "  <thead>\n",
       "    <tr style=\"text-align: right;\">\n",
       "      <th></th>\n",
       "      <th>과일이</th>\n",
       "      <th>길고</th>\n",
       "      <th>노란</th>\n",
       "      <th>먹고</th>\n",
       "      <th>바나나</th>\n",
       "      <th>사과</th>\n",
       "      <th>싶은</th>\n",
       "      <th>저는</th>\n",
       "      <th>좋아요</th>\n",
       "    </tr>\n",
       "  </thead>\n",
       "  <tbody>\n",
       "    <tr>\n",
       "      <th>0</th>\n",
       "      <td>0</td>\n",
       "      <td>0</td>\n",
       "      <td>0</td>\n",
       "      <td>1</td>\n",
       "      <td>0</td>\n",
       "      <td>1</td>\n",
       "      <td>1</td>\n",
       "      <td>0</td>\n",
       "      <td>0</td>\n",
       "    </tr>\n",
       "    <tr>\n",
       "      <th>1</th>\n",
       "      <td>0</td>\n",
       "      <td>0</td>\n",
       "      <td>0</td>\n",
       "      <td>1</td>\n",
       "      <td>1</td>\n",
       "      <td>0</td>\n",
       "      <td>1</td>\n",
       "      <td>0</td>\n",
       "      <td>0</td>\n",
       "    </tr>\n",
       "    <tr>\n",
       "      <th>2</th>\n",
       "      <td>0</td>\n",
       "      <td>1</td>\n",
       "      <td>1</td>\n",
       "      <td>0</td>\n",
       "      <td>2</td>\n",
       "      <td>0</td>\n",
       "      <td>0</td>\n",
       "      <td>0</td>\n",
       "      <td>0</td>\n",
       "    </tr>\n",
       "    <tr>\n",
       "      <th>3</th>\n",
       "      <td>1</td>\n",
       "      <td>0</td>\n",
       "      <td>0</td>\n",
       "      <td>0</td>\n",
       "      <td>0</td>\n",
       "      <td>0</td>\n",
       "      <td>0</td>\n",
       "      <td>1</td>\n",
       "      <td>1</td>\n",
       "    </tr>\n",
       "  </tbody>\n",
       "</table>\n",
       "</div>"
      ],
      "text/plain": [
       "   과일이  길고  노란  먹고  바나나  사과  싶은  저는  좋아요\n",
       "0    0   0   0   1    0   1   1   0    0\n",
       "1    0   0   0   1    1   0   1   0    0\n",
       "2    0   1   1   0    2   0   0   0    0\n",
       "3    1   0   0   0    0   0   0   1    1"
      ]
     },
     "execution_count": 22,
     "metadata": {},
     "output_type": "execute_result"
    }
   ],
   "source": [
    "result = []\n",
    "\n",
    "for i in range (N):\n",
    "    result.append([])\n",
    "    d = docs[i]\n",
    "    for j in range(len(voca)):\n",
    "        t=voca[j]\n",
    "        result[-1].append(tf(t,d))\n",
    "        \n",
    "tf_=pd.DataFrame(result, columns=voca)\n",
    "tf_"
   ]
  },
  {
   "cell_type": "code",
   "execution_count": 23,
   "id": "c65666a8",
   "metadata": {},
   "outputs": [
    {
     "data": {
      "text/html": [
       "<div>\n",
       "<style scoped>\n",
       "    .dataframe tbody tr th:only-of-type {\n",
       "        vertical-align: middle;\n",
       "    }\n",
       "\n",
       "    .dataframe tbody tr th {\n",
       "        vertical-align: top;\n",
       "    }\n",
       "\n",
       "    .dataframe thead th {\n",
       "        text-align: right;\n",
       "    }\n",
       "</style>\n",
       "<table border=\"1\" class=\"dataframe\">\n",
       "  <thead>\n",
       "    <tr style=\"text-align: right;\">\n",
       "      <th></th>\n",
       "      <th>IDF</th>\n",
       "    </tr>\n",
       "  </thead>\n",
       "  <tbody>\n",
       "    <tr>\n",
       "      <th>과일이</th>\n",
       "      <td>0.693147</td>\n",
       "    </tr>\n",
       "    <tr>\n",
       "      <th>길고</th>\n",
       "      <td>0.693147</td>\n",
       "    </tr>\n",
       "    <tr>\n",
       "      <th>노란</th>\n",
       "      <td>0.693147</td>\n",
       "    </tr>\n",
       "    <tr>\n",
       "      <th>먹고</th>\n",
       "      <td>0.287682</td>\n",
       "    </tr>\n",
       "    <tr>\n",
       "      <th>바나나</th>\n",
       "      <td>0.287682</td>\n",
       "    </tr>\n",
       "    <tr>\n",
       "      <th>사과</th>\n",
       "      <td>0.693147</td>\n",
       "    </tr>\n",
       "    <tr>\n",
       "      <th>싶은</th>\n",
       "      <td>0.287682</td>\n",
       "    </tr>\n",
       "    <tr>\n",
       "      <th>저는</th>\n",
       "      <td>0.693147</td>\n",
       "    </tr>\n",
       "    <tr>\n",
       "      <th>좋아요</th>\n",
       "      <td>0.693147</td>\n",
       "    </tr>\n",
       "  </tbody>\n",
       "</table>\n",
       "</div>"
      ],
      "text/plain": [
       "          IDF\n",
       "과일이  0.693147\n",
       "길고   0.693147\n",
       "노란   0.693147\n",
       "먹고   0.287682\n",
       "바나나  0.287682\n",
       "사과   0.693147\n",
       "싶은   0.287682\n",
       "저는   0.693147\n",
       "좋아요  0.693147"
      ]
     },
     "execution_count": 23,
     "metadata": {},
     "output_type": "execute_result"
    }
   ],
   "source": [
    "#idf\n",
    "\n",
    "result = []\n",
    "\n",
    "for j in range(len(voca)):\n",
    "    t=voca[j]\n",
    "    result.append(idf(t))\n",
    "    \n",
    "idf_=pd.DataFrame(result, index=voca, columns=[\"IDF\"])\n",
    "\n",
    "idf_"
   ]
  },
  {
   "cell_type": "code",
   "execution_count": 27,
   "id": "2c2cbccd",
   "metadata": {},
   "outputs": [
    {
     "ename": "SyntaxError",
     "evalue": "expression cannot contain assignment, perhaps you meant \"==\"? (<ipython-input-27-85e593a780f0>, line 13)",
     "output_type": "error",
     "traceback": [
      "\u001b[1;36m  File \u001b[1;32m\"<ipython-input-27-85e593a780f0>\"\u001b[1;36m, line \u001b[1;32m13\u001b[0m\n\u001b[1;33m    tfidf_=pd.DataFrame(result. columns=voca)\u001b[0m\n\u001b[1;37m                        ^\u001b[0m\n\u001b[1;31mSyntaxError\u001b[0m\u001b[1;31m:\u001b[0m expression cannot contain assignment, perhaps you meant \"==\"?\n"
     ]
    }
   ],
   "source": [
    "# tf-idf\n",
    "\n",
    "result = []\n",
    "\n",
    "for i in range(N):\n",
    "    result.append([])\n",
    "    d=docs[i]\n",
    "    for j in range(len(voca)):\n",
    "        t=voca[j]\n",
    "        \n",
    "    result[-1].append(tfidf(t,d))\n",
    "    \n",
    "tfidf_=pd.DataFrame(result. columns=voca)\n",
    "\n",
    "tfidf_\n",
    "\n",
    "#특정 단어 빈도에 따라 많이 뜨는것 어떤건지 알기"
   ]
  },
  {
   "cell_type": "code",
   "execution_count": 28,
   "id": "aef0bb5f",
   "metadata": {},
   "outputs": [
    {
     "ename": "NameError",
     "evalue": "name 'Tokenizer' is not defined",
     "output_type": "error",
     "traceback": [
      "\u001b[1;31m---------------------------------------------------------------------------\u001b[0m",
      "\u001b[1;31mNameError\u001b[0m                                 Traceback (most recent call last)",
      "\u001b[1;32m<ipython-input-28-84266eaddf66>\u001b[0m in \u001b[0;36m<module>\u001b[1;34m\u001b[0m\n\u001b[1;32m----> 1\u001b[1;33m \u001b[0mtoken\u001b[0m \u001b[1;33m=\u001b[0m \u001b[0mTokenizer\u001b[0m\u001b[1;33m(\u001b[0m\u001b[1;33m)\u001b[0m\u001b[1;33m\u001b[0m\u001b[1;33m\u001b[0m\u001b[0m\n\u001b[0m",
      "\u001b[1;31mNameError\u001b[0m: name 'Tokenizer' is not defined"
     ]
    }
   ],
   "source": [
    "token = Tokenizer()\n"
   ]
  },
  {
   "cell_type": "code",
   "execution_count": 29,
   "id": "8142f01f",
   "metadata": {},
   "outputs": [
    {
     "ename": "AttributeError",
     "evalue": "'str' object has no attribute 'texts_to_matrix'",
     "output_type": "error",
     "traceback": [
      "\u001b[1;31m---------------------------------------------------------------------------\u001b[0m",
      "\u001b[1;31mAttributeError\u001b[0m                            Traceback (most recent call last)",
      "\u001b[1;32m<ipython-input-29-36d750e0c741>\u001b[0m in \u001b[0;36m<module>\u001b[1;34m\u001b[0m\n\u001b[1;32m----> 1\u001b[1;33m \u001b[0mprint\u001b[0m\u001b[1;33m(\u001b[0m\u001b[0mt\u001b[0m\u001b[1;33m.\u001b[0m\u001b[0mtexts_to_matrix\u001b[0m\u001b[1;33m(\u001b[0m\u001b[0mtexts\u001b[0m\u001b[1;33m,\u001b[0m \u001b[0mmode\u001b[0m \u001b[1;33m=\u001b[0m \u001b[1;34m'count'\u001b[0m\u001b[1;33m)\u001b[0m\u001b[1;33m)\u001b[0m\u001b[1;33m\u001b[0m\u001b[1;33m\u001b[0m\u001b[0m\n\u001b[0m",
      "\u001b[1;31mAttributeError\u001b[0m: 'str' object has no attribute 'texts_to_matrix'"
     ]
    }
   ],
   "source": [
    "print(t.texts_to_matrix(texts, mode = 'count')) "
   ]
  },
  {
   "cell_type": "code",
   "execution_count": null,
   "id": "3bfd6ec3",
   "metadata": {},
   "outputs": [],
   "source": [
    "print(t.texts_to_matrix(texts, mode = 'binary')) "
   ]
  },
  {
   "cell_type": "code",
   "execution_count": 30,
   "id": "8a9a7763",
   "metadata": {},
   "outputs": [],
   "source": [
    "from tensorflow.keras.layers     import Dense\n",
    "from tensorflow.keras.models     import Sequential\n",
    "from tensorflow.keras.callbacks  import ModelCheckpoint\n",
    "from tensorflow.keras.optimizers import Adam"
   ]
  },
  {
   "cell_type": "code",
   "execution_count": 31,
   "id": "608f6ef7",
   "metadata": {},
   "outputs": [],
   "source": [
    "import tensorflow as tf"
   ]
  },
  {
   "cell_type": "code",
   "execution_count": 32,
   "id": "3d055324",
   "metadata": {},
   "outputs": [
    {
     "data": {
      "text/plain": [
       "<tensorflow.python.keras.layers.core.Dense at 0x1f8e0652460>"
      ]
     },
     "execution_count": 32,
     "metadata": {},
     "output_type": "execute_result"
    }
   ],
   "source": [
    "tf.keras.layers.Dense(10)"
   ]
  },
  {
   "cell_type": "code",
   "execution_count": 33,
   "id": "64b22e09",
   "metadata": {},
   "outputs": [
    {
     "data": {
      "text/plain": [
       "<tensorflow.python.keras.layers.core.Dense at 0x1f8e833cd00>"
      ]
     },
     "execution_count": 33,
     "metadata": {},
     "output_type": "execute_result"
    }
   ],
   "source": [
    "from tensorflow.keras.layers import Dense\n",
    "Dense(10)"
   ]
  },
  {
   "cell_type": "code",
   "execution_count": 37,
   "id": "5ca44733",
   "metadata": {},
   "outputs": [],
   "source": [
    "import numpy as np\n",
    "from tensorflow.keras.layers import Dense\n",
    "from tensorflow.keras.models import Sequential"
   ]
  },
  {
   "cell_type": "code",
   "execution_count": 38,
   "id": "5c9e6bcb",
   "metadata": {},
   "outputs": [],
   "source": [
    "xs = np.array([-1.0, 0.0, 1.0, 2.0, 3.0, 4.0], dtype=float)\n",
    "ys = np.array([5.0, 6.0, 7.0, 8.0, 9.0, 10.0], dtype=float)"
   ]
  },
  {
   "cell_type": "code",
   "execution_count": 39,
   "id": "fd2c537a",
   "metadata": {},
   "outputs": [],
   "source": [
    "model = Sequential()"
   ]
  },
  {
   "cell_type": "code",
   "execution_count": 40,
   "id": "8b8f48bc",
   "metadata": {},
   "outputs": [],
   "source": [
    "model.add(Dense(1, input_dim=1, activation='linear'))\n",
    "model.compile(optimizer='sgd', loss='mse')"
   ]
  },
  {
   "cell_type": "code",
   "execution_count": 41,
   "id": "06c16195",
   "metadata": {},
   "outputs": [
    {
     "data": {
      "text/plain": [
       "<tensorflow.python.keras.callbacks.History at 0x1f8e879df10>"
      ]
     },
     "execution_count": 41,
     "metadata": {},
     "output_type": "execute_result"
    }
   ],
   "source": [
    "model.fit(xs,ys, epochs=1200,verbose=0)"
   ]
  },
  {
   "cell_type": "code",
   "execution_count": 42,
   "id": "e4f6f8ce",
   "metadata": {},
   "outputs": [
    {
     "data": {
      "text/plain": [
       "array([[16.000046],\n",
       "       [ 5.999978]], dtype=float32)"
      ]
     },
     "execution_count": 42,
     "metadata": {},
     "output_type": "execute_result"
    }
   ],
   "source": [
    "model.predict([10,0])"
   ]
  },
  {
   "cell_type": "code",
   "execution_count": 44,
   "id": "d4a04e0e",
   "metadata": {},
   "outputs": [],
   "source": [
    "from tensorflow.keras.layers     import Dense\n",
    "from tensorflow.keras.models     import Sequential\n",
    "from tensorflow.keras.callbacks  import ModelCheckpoint\n",
    "from tensorflow.keras.optimizers import Adam\n",
    "import numpy as np"
   ]
  },
  {
   "cell_type": "code",
   "execution_count": 47,
   "id": "e401d41c",
   "metadata": {},
   "outputs": [],
   "source": [
    "from tensorflow.keras.models import Sequential # 케라스의 Sequential()을 임포트\n",
    "from tensorflow.keras.layers import Dense # 케라스의 Dense()를 임포트\n",
    "from tensorflow.keras import optimizers # 케라스의 옵티마이저를 임포트\n",
    "import numpy as np # Numpy를 임포트"
   ]
  },
  {
   "cell_type": "code",
   "execution_count": 48,
   "id": "aa74204f",
   "metadata": {},
   "outputs": [],
   "source": [
    "#선형회기구현\n",
    "X=[1,2,3,4,5,6,7,8,9] # 공부하는 시간\n",
    "y=[11,22,33,44,53,66,77,87,95] # 각 공부하는 시간에 맵핑되는 성적"
   ]
  },
  {
   "cell_type": "code",
   "execution_count": 49,
   "id": "0e2c2712",
   "metadata": {},
   "outputs": [],
   "source": [
    "model = Sequential()\n",
    "model.add(Dense(1,input_dim=1, activation='linear'))\n",
    "sgd=optimizers.SGD(lr=0.01)"
   ]
  },
  {
   "cell_type": "code",
   "execution_count": 50,
   "id": "d83a88e5",
   "metadata": {},
   "outputs": [
    {
     "name": "stdout",
     "output_type": "stream",
     "text": [
      "Epoch 1/300\n",
      "9/9 [==============================] - 0s 998us/step - loss: 292.7571 - accuracy: 0.0000e+00\n",
      "Epoch 2/300\n",
      "9/9 [==============================] - 0s 998us/step - loss: 2.1257 - accuracy: 0.0000e+00\n",
      "Epoch 3/300\n",
      "9/9 [==============================] - 0s 998us/step - loss: 2.1264 - accuracy: 0.0000e+00\n",
      "Epoch 4/300\n",
      "9/9 [==============================] - 0s 776us/step - loss: 2.1270 - accuracy: 0.0000e+00\n",
      "Epoch 5/300\n",
      "9/9 [==============================] - 0s 886us/step - loss: 2.1276 - accuracy: 0.0000e+00\n",
      "Epoch 6/300\n",
      "9/9 [==============================] - 0s 1ms/step - loss: 2.1282 - accuracy: 0.0000e+00\n",
      "Epoch 7/300\n",
      "9/9 [==============================] - 0s 997us/step - loss: 2.1288 - accuracy: 0.0000e+00\n",
      "Epoch 8/300\n",
      "9/9 [==============================] - 0s 776us/step - loss: 2.1294 - accuracy: 0.0000e+00\n",
      "Epoch 9/300\n",
      "9/9 [==============================] - 0s 776us/step - loss: 2.1299 - accuracy: 0.0000e+00\n",
      "Epoch 10/300\n",
      "9/9 [==============================] - 0s 776us/step - loss: 2.1304 - accuracy: 0.0000e+00\n",
      "Epoch 11/300\n",
      "9/9 [==============================] - 0s 886us/step - loss: 2.1309 - accuracy: 0.0000e+00\n",
      "Epoch 12/300\n",
      "9/9 [==============================] - 0s 886us/step - loss: 2.1314 - accuracy: 0.0000e+00\n",
      "Epoch 13/300\n",
      "9/9 [==============================] - 0s 665us/step - loss: 2.1319 - accuracy: 0.0000e+00\n",
      "Epoch 14/300\n",
      "9/9 [==============================] - 0s 776us/step - loss: 2.1324 - accuracy: 0.0000e+00\n",
      "Epoch 15/300\n",
      "9/9 [==============================] - 0s 944us/step - loss: 2.1328 - accuracy: 0.0000e+00\n",
      "Epoch 16/300\n",
      "9/9 [==============================] - 0s 554us/step - loss: 2.1332 - accuracy: 0.0000e+00\n",
      "Epoch 17/300\n",
      "9/9 [==============================] - 0s 776us/step - loss: 2.1336 - accuracy: 0.0000e+00\n",
      "Epoch 18/300\n",
      "9/9 [==============================] - 0s 1ms/step - loss: 2.1340 - accuracy: 0.0000e+00\n",
      "Epoch 19/300\n",
      "9/9 [==============================] - 0s 886us/step - loss: 2.1344 - accuracy: 0.0000e+00\n",
      "Epoch 20/300\n",
      "9/9 [==============================] - 0s 776us/step - loss: 2.1348 - accuracy: 0.0000e+00\n",
      "Epoch 21/300\n",
      "9/9 [==============================] - 0s 886us/step - loss: 2.1352 - accuracy: 0.0000e+00\n",
      "Epoch 22/300\n",
      "9/9 [==============================] - 0s 998us/step - loss: 2.1355 - accuracy: 0.0000e+00\n",
      "Epoch 23/300\n",
      "9/9 [==============================] - 0s 776us/step - loss: 2.1359 - accuracy: 0.0000e+00\n",
      "Epoch 24/300\n",
      "9/9 [==============================] - ETA: 0s - loss: 2.4596 - accuracy: 0.0000e+ - 0s 776us/step - loss: 2.1362 - accuracy: 0.0000e+00\n",
      "Epoch 25/300\n",
      "9/9 [==============================] - 0s 997us/step - loss: 2.1365 - accuracy: 0.0000e+00\n",
      "Epoch 26/300\n",
      "9/9 [==============================] - 0s 997us/step - loss: 2.1368 - accuracy: 0.0000e+00\n",
      "Epoch 27/300\n",
      "9/9 [==============================] - 0s 998us/step - loss: 2.1371 - accuracy: 0.0000e+00\n",
      "Epoch 28/300\n",
      "9/9 [==============================] - 0s 998us/step - loss: 2.1374 - accuracy: 0.0000e+00\n",
      "Epoch 29/300\n",
      "9/9 [==============================] - 0s 776us/step - loss: 2.1377 - accuracy: 0.0000e+00\n",
      "Epoch 30/300\n",
      "9/9 [==============================] - 0s 1ms/step - loss: 2.1380 - accuracy: 0.0000e+00\n",
      "Epoch 31/300\n",
      "9/9 [==============================] - 0s 776us/step - loss: 2.1382 - accuracy: 0.0000e+00\n",
      "Epoch 32/300\n",
      "9/9 [==============================] - 0s 665us/step - loss: 2.1385 - accuracy: 0.0000e+00\n",
      "Epoch 33/300\n",
      "9/9 [==============================] - 0s 665us/step - loss: 2.1387 - accuracy: 0.0000e+00\n",
      "Epoch 34/300\n",
      "9/9 [==============================] - 0s 775us/step - loss: 2.1390 - accuracy: 0.0000e+00\n",
      "Epoch 35/300\n",
      "9/9 [==============================] - 0s 776us/step - loss: 2.1392 - accuracy: 0.0000e+00\n",
      "Epoch 36/300\n",
      "9/9 [==============================] - 0s 665us/step - loss: 2.1394 - accuracy: 0.0000e+00\n",
      "Epoch 37/300\n",
      "9/9 [==============================] - 0s 776us/step - loss: 2.1396 - accuracy: 0.0000e+00\n",
      "Epoch 38/300\n",
      "9/9 [==============================] - 0s 887us/step - loss: 2.1399 - accuracy: 0.0000e+00\n",
      "Epoch 39/300\n",
      "9/9 [==============================] - 0s 776us/step - loss: 2.1401 - accuracy: 0.0000e+00\n",
      "Epoch 40/300\n",
      "9/9 [==============================] - 0s 997us/step - loss: 2.1402 - accuracy: 0.0000e+00\n",
      "Epoch 41/300\n",
      "9/9 [==============================] - 0s 776us/step - loss: 2.1404 - accuracy: 0.0000e+00\n",
      "Epoch 42/300\n",
      "9/9 [==============================] - 0s 775us/step - loss: 2.1406 - accuracy: 0.0000e+00\n",
      "Epoch 43/300\n",
      "9/9 [==============================] - 0s 665us/step - loss: 2.1408 - accuracy: 0.0000e+00\n",
      "Epoch 44/300\n",
      "9/9 [==============================] - 0s 665us/step - loss: 2.1410 - accuracy: 0.0000e+00\n",
      "Epoch 45/300\n",
      "9/9 [==============================] - 0s 775us/step - loss: 2.1411 - accuracy: 0.0000e+00\n",
      "Epoch 46/300\n",
      "9/9 [==============================] - 0s 887us/step - loss: 2.1413 - accuracy: 0.0000e+00\n",
      "Epoch 47/300\n",
      "9/9 [==============================] - 0s 665us/step - loss: 2.1414 - accuracy: 0.0000e+00\n",
      "Epoch 48/300\n",
      "9/9 [==============================] - 0s 886us/step - loss: 2.1416 - accuracy: 0.0000e+00\n",
      "Epoch 49/300\n",
      "9/9 [==============================] - 0s 776us/step - loss: 2.1417 - accuracy: 0.0000e+00\n",
      "Epoch 50/300\n",
      "9/9 [==============================] - 0s 887us/step - loss: 2.1419 - accuracy: 0.0000e+00\n",
      "Epoch 51/300\n",
      "9/9 [==============================] - 0s 776us/step - loss: 2.1420 - accuracy: 0.0000e+00\n",
      "Epoch 52/300\n",
      "9/9 [==============================] - 0s 665us/step - loss: 2.1422 - accuracy: 0.0000e+00\n",
      "Epoch 53/300\n",
      "9/9 [==============================] - 0s 776us/step - loss: 2.1423 - accuracy: 0.0000e+00\n",
      "Epoch 54/300\n",
      "9/9 [==============================] - 0s 665us/step - loss: 2.1424 - accuracy: 0.0000e+00\n",
      "Epoch 55/300\n",
      "9/9 [==============================] - 0s 665us/step - loss: 2.1425 - accuracy: 0.0000e+00\n",
      "Epoch 56/300\n",
      "9/9 [==============================] - 0s 887us/step - loss: 2.1426 - accuracy: 0.0000e+00\n",
      "Epoch 57/300\n",
      "9/9 [==============================] - 0s 773us/step - loss: 2.1428 - accuracy: 0.0000e+00\n",
      "Epoch 58/300\n",
      "9/9 [==============================] - 0s 851us/step - loss: 2.1429 - accuracy: 0.0000e+00\n",
      "Epoch 59/300\n",
      "9/9 [==============================] - 0s 775us/step - loss: 2.1430 - accuracy: 0.0000e+00\n",
      "Epoch 60/300\n",
      "9/9 [==============================] - 0s 2ms/step - loss: 2.1431 - accuracy: 0.0000e+00\n",
      "Epoch 61/300\n",
      "9/9 [==============================] - 0s 776us/step - loss: 2.1432 - accuracy: 0.0000e+00\n",
      "Epoch 62/300\n",
      "9/9 [==============================] - 0s 776us/step - loss: 2.1432 - accuracy: 0.0000e+00\n",
      "Epoch 63/300\n",
      "9/9 [==============================] - 0s 665us/step - loss: 2.1433 - accuracy: 0.0000e+00\n",
      "Epoch 64/300\n",
      "9/9 [==============================] - 0s 776us/step - loss: 2.1434 - accuracy: 0.0000e+00\n",
      "Epoch 65/300\n",
      "9/9 [==============================] - 0s 886us/step - loss: 2.1435 - accuracy: 0.0000e+00\n",
      "Epoch 66/300\n",
      "9/9 [==============================] - 0s 554us/step - loss: 2.1436 - accuracy: 0.0000e+00\n",
      "Epoch 67/300\n",
      "9/9 [==============================] - 0s 665us/step - loss: 2.1437 - accuracy: 0.0000e+00\n",
      "Epoch 68/300\n",
      "9/9 [==============================] - 0s 666us/step - loss: 2.1438 - accuracy: 0.0000e+00\n",
      "Epoch 69/300\n",
      "9/9 [==============================] - 0s 554us/step - loss: 2.1438 - accuracy: 0.0000e+00\n",
      "Epoch 70/300\n",
      "9/9 [==============================] - 0s 665us/step - loss: 2.1439 - accuracy: 0.0000e+00\n",
      "Epoch 71/300\n",
      "9/9 [==============================] - 0s 776us/step - loss: 2.1440 - accuracy: 0.0000e+00\n",
      "Epoch 72/300\n",
      "9/9 [==============================] - 0s 665us/step - loss: 2.1440 - accuracy: 0.0000e+00\n",
      "Epoch 73/300\n",
      "9/9 [==============================] - 0s 776us/step - loss: 2.1441 - accuracy: 0.0000e+00\n",
      "Epoch 74/300\n",
      "9/9 [==============================] - 0s 665us/step - loss: 2.1442 - accuracy: 0.0000e+00\n",
      "Epoch 75/300\n",
      "9/9 [==============================] - 0s 775us/step - loss: 2.1442 - accuracy: 0.0000e+00\n",
      "Epoch 76/300\n",
      "9/9 [==============================] - 0s 775us/step - loss: 2.1443 - accuracy: 0.0000e+00\n",
      "Epoch 77/300\n",
      "9/9 [==============================] - 0s 886us/step - loss: 2.1443 - accuracy: 0.0000e+00\n",
      "Epoch 78/300\n",
      "9/9 [==============================] - 0s 764us/step - loss: 2.1444 - accuracy: 0.0000e+00\n",
      "Epoch 79/300\n"
     ]
    },
    {
     "name": "stdout",
     "output_type": "stream",
     "text": [
      "9/9 [==============================] - 0s 886us/step - loss: 2.1444 - accuracy: 0.0000e+00\n",
      "Epoch 80/300\n",
      "9/9 [==============================] - 0s 886us/step - loss: 2.1445 - accuracy: 0.0000e+00\n",
      "Epoch 81/300\n",
      "9/9 [==============================] - 0s 887us/step - loss: 2.1446 - accuracy: 0.0000e+00\n",
      "Epoch 82/300\n",
      "9/9 [==============================] - 0s 887us/step - loss: 2.1446 - accuracy: 0.0000e+00\n",
      "Epoch 83/300\n",
      "9/9 [==============================] - 0s 665us/step - loss: 2.1447 - accuracy: 0.0000e+00\n",
      "Epoch 84/300\n",
      "9/9 [==============================] - 0s 886us/step - loss: 2.1447 - accuracy: 0.0000e+00\n",
      "Epoch 85/300\n",
      "9/9 [==============================] - 0s 775us/step - loss: 2.1447 - accuracy: 0.0000e+00\n",
      "Epoch 86/300\n",
      "9/9 [==============================] - 0s 994us/step - loss: 2.1448 - accuracy: 0.0000e+00\n",
      "Epoch 87/300\n",
      "9/9 [==============================] - 0s 888us/step - loss: 2.1448 - accuracy: 0.0000e+00\n",
      "Epoch 88/300\n",
      "9/9 [==============================] - 0s 997us/step - loss: 2.1449 - accuracy: 0.0000e+00\n",
      "Epoch 89/300\n",
      "9/9 [==============================] - 0s 668us/step - loss: 2.1449 - accuracy: 0.0000e+00\n",
      "Epoch 90/300\n",
      "9/9 [==============================] - 0s 776us/step - loss: 2.1449 - accuracy: 0.0000e+00\n",
      "Epoch 91/300\n",
      "9/9 [==============================] - 0s 779us/step - loss: 2.1450 - accuracy: 0.0000e+00\n",
      "Epoch 92/300\n",
      "9/9 [==============================] - 0s 664us/step - loss: 2.1450 - accuracy: 0.0000e+00\n",
      "Epoch 93/300\n",
      "9/9 [==============================] - 0s 776us/step - loss: 2.1450 - accuracy: 0.0000e+00\n",
      "Epoch 94/300\n",
      "9/9 [==============================] - 0s 779us/step - loss: 2.1451 - accuracy: 0.0000e+00\n",
      "Epoch 95/300\n",
      "9/9 [==============================] - 0s 665us/step - loss: 2.1451 - accuracy: 0.0000e+00\n",
      "Epoch 96/300\n",
      "9/9 [==============================] - 0s 887us/step - loss: 2.1451 - accuracy: 0.0000e+00\n",
      "Epoch 97/300\n",
      "9/9 [==============================] - 0s 665us/step - loss: 2.1452 - accuracy: 0.0000e+00\n",
      "Epoch 98/300\n",
      "9/9 [==============================] - 0s 776us/step - loss: 2.1452 - accuracy: 0.0000e+00\n",
      "Epoch 99/300\n",
      "9/9 [==============================] - 0s 996us/step - loss: 2.1452 - accuracy: 0.0000e+00\n",
      "Epoch 100/300\n",
      "9/9 [==============================] - 0s 887us/step - loss: 2.1452 - accuracy: 0.0000e+00\n",
      "Epoch 101/300\n",
      "9/9 [==============================] - 0s 668us/step - loss: 2.1453 - accuracy: 0.0000e+00\n",
      "Epoch 102/300\n",
      "9/9 [==============================] - 0s 880us/step - loss: 2.1453 - accuracy: 0.0000e+00\n",
      "Epoch 103/300\n",
      "9/9 [==============================] - 0s 887us/step - loss: 2.1453 - accuracy: 0.0000e+00\n",
      "Epoch 104/300\n",
      "9/9 [==============================] - 0s 1ms/step - loss: 2.1453 - accuracy: 0.0000e+00\n",
      "Epoch 105/300\n",
      "9/9 [==============================] - 0s 1ms/step - loss: 2.1454 - accuracy: 0.0000e+00\n",
      "Epoch 106/300\n",
      "9/9 [==============================] - 0s 887us/step - loss: 2.1454 - accuracy: 0.0000e+00\n",
      "Epoch 107/300\n",
      "9/9 [==============================] - 0s 902us/step - loss: 2.1454 - accuracy: 0.0000e+00\n",
      "Epoch 108/300\n",
      "9/9 [==============================] - 0s 776us/step - loss: 2.1454 - accuracy: 0.0000e+00\n",
      "Epoch 109/300\n",
      "9/9 [==============================] - 0s 886us/step - loss: 2.1454 - accuracy: 0.0000e+00\n",
      "Epoch 110/300\n",
      "9/9 [==============================] - 0s 555us/step - loss: 2.1455 - accuracy: 0.0000e+00\n",
      "Epoch 111/300\n",
      "9/9 [==============================] - 0s 886us/step - loss: 2.1455 - accuracy: 0.0000e+00\n",
      "Epoch 112/300\n",
      "9/9 [==============================] - 0s 666us/step - loss: 2.1455 - accuracy: 0.0000e+00\n",
      "Epoch 113/300\n",
      "9/9 [==============================] - 0s 996us/step - loss: 2.1455 - accuracy: 0.0000e+00\n",
      "Epoch 114/300\n",
      "9/9 [==============================] - 0s 663us/step - loss: 2.1455 - accuracy: 0.0000e+00\n",
      "Epoch 115/300\n",
      "9/9 [==============================] - 0s 664us/step - loss: 2.1455 - accuracy: 0.0000e+00\n",
      "Epoch 116/300\n",
      "9/9 [==============================] - 0s 886us/step - loss: 2.1456 - accuracy: 0.0000e+00\n",
      "Epoch 117/300\n",
      "9/9 [==============================] - 0s 884us/step - loss: 2.1456 - accuracy: 0.0000e+00\n",
      "Epoch 118/300\n",
      "9/9 [==============================] - 0s 885us/step - loss: 2.1456 - accuracy: 0.0000e+00\n",
      "Epoch 119/300\n",
      "9/9 [==============================] - 0s 887us/step - loss: 2.1456 - accuracy: 0.0000e+00\n",
      "Epoch 120/300\n",
      "9/9 [==============================] - 0s 776us/step - loss: 2.1456 - accuracy: 0.0000e+00\n",
      "Epoch 121/300\n",
      "9/9 [==============================] - 0s 755us/step - loss: 2.1456 - accuracy: 0.0000e+00\n",
      "Epoch 122/300\n",
      "9/9 [==============================] - 0s 776us/step - loss: 2.1456 - accuracy: 0.0000e+00\n",
      "Epoch 123/300\n",
      "9/9 [==============================] - 0s 914us/step - loss: 2.1457 - accuracy: 0.0000e+00\n",
      "Epoch 124/300\n",
      "9/9 [==============================] - 0s 887us/step - loss: 2.1457 - accuracy: 0.0000e+00\n",
      "Epoch 125/300\n",
      "9/9 [==============================] - 0s 1ms/step - loss: 2.1457 - accuracy: 0.0000e+00\n",
      "Epoch 126/300\n",
      "9/9 [==============================] - 0s 1ms/step - loss: 2.1457 - accuracy: 0.0000e+00\n",
      "Epoch 127/300\n",
      "9/9 [==============================] - 0s 997us/step - loss: 2.1457 - accuracy: 0.0000e+00\n",
      "Epoch 128/300\n",
      "9/9 [==============================] - 0s 776us/step - loss: 2.1457 - accuracy: 0.0000e+00\n",
      "Epoch 129/300\n",
      "9/9 [==============================] - 0s 776us/step - loss: 2.1457 - accuracy: 0.0000e+00\n",
      "Epoch 130/300\n",
      "9/9 [==============================] - 0s 776us/step - loss: 2.1457 - accuracy: 0.0000e+00\n",
      "Epoch 131/300\n",
      "9/9 [==============================] - 0s 887us/step - loss: 2.1457 - accuracy: 0.0000e+00\n",
      "Epoch 132/300\n",
      "9/9 [==============================] - 0s 776us/step - loss: 2.1458 - accuracy: 0.0000e+00\n",
      "Epoch 133/300\n",
      "9/9 [==============================] - 0s 776us/step - loss: 2.1458 - accuracy: 0.0000e+00\n",
      "Epoch 134/300\n",
      "9/9 [==============================] - 0s 776us/step - loss: 2.1458 - accuracy: 0.0000e+00\n",
      "Epoch 135/300\n",
      "9/9 [==============================] - 0s 777us/step - loss: 2.1458 - accuracy: 0.0000e+00\n",
      "Epoch 136/300\n",
      "9/9 [==============================] - 0s 776us/step - loss: 2.1458 - accuracy: 0.0000e+00\n",
      "Epoch 137/300\n",
      "9/9 [==============================] - 0s 887us/step - loss: 2.1458 - accuracy: 0.0000e+00\n",
      "Epoch 138/300\n",
      "9/9 [==============================] - 0s 887us/step - loss: 2.1458 - accuracy: 0.0000e+00\n",
      "Epoch 139/300\n",
      "9/9 [==============================] - 0s 997us/step - loss: 2.1458 - accuracy: 0.0000e+00\n",
      "Epoch 140/300\n",
      "9/9 [==============================] - 0s 887us/step - loss: 2.1458 - accuracy: 0.0000e+00\n",
      "Epoch 141/300\n",
      "9/9 [==============================] - 0s 887us/step - loss: 2.1458 - accuracy: 0.0000e+00\n",
      "Epoch 142/300\n",
      "9/9 [==============================] - 0s 776us/step - loss: 2.1458 - accuracy: 0.0000e+00\n",
      "Epoch 143/300\n",
      "9/9 [==============================] - 0s 887us/step - loss: 2.1458 - accuracy: 0.0000e+00\n",
      "Epoch 144/300\n",
      "9/9 [==============================] - 0s 886us/step - loss: 2.1458 - accuracy: 0.0000e+00\n",
      "Epoch 145/300\n",
      "9/9 [==============================] - 0s 887us/step - loss: 2.1458 - accuracy: 0.0000e+00\n",
      "Epoch 146/300\n",
      "9/9 [==============================] - 0s 887us/step - loss: 2.1459 - accuracy: 0.0000e+00\n",
      "Epoch 147/300\n",
      "9/9 [==============================] - 0s 776us/step - loss: 2.1459 - accuracy: 0.0000e+00\n",
      "Epoch 148/300\n",
      "9/9 [==============================] - 0s 664us/step - loss: 2.1459 - accuracy: 0.0000e+00\n",
      "Epoch 149/300\n",
      "9/9 [==============================] - 0s 775us/step - loss: 2.1459 - accuracy: 0.0000e+00\n",
      "Epoch 150/300\n",
      "9/9 [==============================] - 0s 776us/step - loss: 2.1459 - accuracy: 0.0000e+00\n",
      "Epoch 151/300\n",
      "9/9 [==============================] - 0s 775us/step - loss: 2.1459 - accuracy: 0.0000e+00\n",
      "Epoch 152/300\n",
      "9/9 [==============================] - 0s 776us/step - loss: 2.1459 - accuracy: 0.0000e+00\n",
      "Epoch 153/300\n",
      "9/9 [==============================] - 0s 665us/step - loss: 2.1459 - accuracy: 0.0000e+00\n",
      "Epoch 154/300\n",
      "9/9 [==============================] - 0s 665us/step - loss: 2.1459 - accuracy: 0.0000e+00\n",
      "Epoch 155/300\n",
      "9/9 [==============================] - 0s 776us/step - loss: 2.1459 - accuracy: 0.0000e+00\n",
      "Epoch 156/300\n",
      "9/9 [==============================] - 0s 776us/step - loss: 2.1459 - accuracy: 0.0000e+00\n",
      "Epoch 157/300\n"
     ]
    },
    {
     "name": "stdout",
     "output_type": "stream",
     "text": [
      "9/9 [==============================] - 0s 887us/step - loss: 2.1459 - accuracy: 0.0000e+00\n",
      "Epoch 158/300\n",
      "9/9 [==============================] - 0s 887us/step - loss: 2.1459 - accuracy: 0.0000e+00\n",
      "Epoch 159/300\n",
      "9/9 [==============================] - 0s 887us/step - loss: 2.1459 - accuracy: 0.0000e+00\n",
      "Epoch 160/300\n",
      "9/9 [==============================] - 0s 2ms/step - loss: 2.1459 - accuracy: 0.0000e+00\n",
      "Epoch 161/300\n",
      "9/9 [==============================] - 0s 887us/step - loss: 2.1459 - accuracy: 0.0000e+00\n",
      "Epoch 162/300\n",
      "9/9 [==============================] - 0s 887us/step - loss: 2.1459 - accuracy: 0.0000e+00\n",
      "Epoch 163/300\n",
      "9/9 [==============================] - 0s 886us/step - loss: 2.1459 - accuracy: 0.0000e+00\n",
      "Epoch 164/300\n",
      "9/9 [==============================] - 0s 775us/step - loss: 2.1459 - accuracy: 0.0000e+00\n",
      "Epoch 165/300\n",
      "9/9 [==============================] - 0s 886us/step - loss: 2.1459 - accuracy: 0.0000e+00\n",
      "Epoch 166/300\n",
      "9/9 [==============================] - 0s 776us/step - loss: 2.1459 - accuracy: 0.0000e+00\n",
      "Epoch 167/300\n",
      "9/9 [==============================] - 0s 997us/step - loss: 2.1459 - accuracy: 0.0000e+00\n",
      "Epoch 168/300\n",
      "9/9 [==============================] - 0s 665us/step - loss: 2.1459 - accuracy: 0.0000e+00\n",
      "Epoch 169/300\n",
      "9/9 [==============================] - 0s 776us/step - loss: 2.1459 - accuracy: 0.0000e+00\n",
      "Epoch 170/300\n",
      "9/9 [==============================] - 0s 665us/step - loss: 2.1459 - accuracy: 0.0000e+00\n",
      "Epoch 171/300\n",
      "9/9 [==============================] - 0s 775us/step - loss: 2.1459 - accuracy: 0.0000e+00\n",
      "Epoch 172/300\n",
      "9/9 [==============================] - 0s 776us/step - loss: 2.1460 - accuracy: 0.0000e+00\n",
      "Epoch 173/300\n",
      "9/9 [==============================] - 0s 665us/step - loss: 2.1459 - accuracy: 0.0000e+00\n",
      "Epoch 174/300\n",
      "9/9 [==============================] - 0s 776us/step - loss: 2.1460 - accuracy: 0.0000e+00\n",
      "Epoch 175/300\n",
      "9/9 [==============================] - 0s 776us/step - loss: 2.1460 - accuracy: 0.0000e+00\n",
      "Epoch 176/300\n",
      "9/9 [==============================] - 0s 772us/step - loss: 2.1460 - accuracy: 0.0000e+00\n",
      "Epoch 177/300\n",
      "9/9 [==============================] - 0s 775us/step - loss: 2.1460 - accuracy: 0.0000e+00\n",
      "Epoch 178/300\n",
      "9/9 [==============================] - 0s 776us/step - loss: 2.1460 - accuracy: 0.0000e+00\n",
      "Epoch 179/300\n",
      "9/9 [==============================] - 0s 775us/step - loss: 2.1460 - accuracy: 0.0000e+00\n",
      "Epoch 180/300\n",
      "9/9 [==============================] - 0s 664us/step - loss: 2.1460 - accuracy: 0.0000e+00\n",
      "Epoch 181/300\n",
      "9/9 [==============================] - 0s 887us/step - loss: 2.1460 - accuracy: 0.0000e+00\n",
      "Epoch 182/300\n",
      "9/9 [==============================] - 0s 779us/step - loss: 2.1460 - accuracy: 0.0000e+00\n",
      "Epoch 183/300\n",
      "9/9 [==============================] - 0s 665us/step - loss: 2.1460 - accuracy: 0.0000e+00\n",
      "Epoch 184/300\n",
      "9/9 [==============================] - 0s 997us/step - loss: 2.1460 - accuracy: 0.0000e+00\n",
      "Epoch 185/300\n",
      "9/9 [==============================] - 0s 665us/step - loss: 2.1460 - accuracy: 0.0000e+00\n",
      "Epoch 186/300\n",
      "9/9 [==============================] - 0s 775us/step - loss: 2.1460 - accuracy: 0.0000e+00\n",
      "Epoch 187/300\n",
      "9/9 [==============================] - 0s 665us/step - loss: 2.1460 - accuracy: 0.0000e+00\n",
      "Epoch 188/300\n",
      "9/9 [==============================] - 0s 665us/step - loss: 2.1460 - accuracy: 0.0000e+00\n",
      "Epoch 189/300\n",
      "9/9 [==============================] - 0s 886us/step - loss: 2.1460 - accuracy: 0.0000e+00\n",
      "Epoch 190/300\n",
      "9/9 [==============================] - 0s 886us/step - loss: 2.1460 - accuracy: 0.0000e+00\n",
      "Epoch 191/300\n",
      "9/9 [==============================] - 0s 890us/step - loss: 2.1460 - accuracy: 0.0000e+00\n",
      "Epoch 192/300\n",
      "9/9 [==============================] - 0s 665us/step - loss: 2.1460 - accuracy: 0.0000e+00\n",
      "Epoch 193/300\n",
      "9/9 [==============================] - 0s 776us/step - loss: 2.1460 - accuracy: 0.0000e+00\n",
      "Epoch 194/300\n",
      "9/9 [==============================] - 0s 665us/step - loss: 2.1460 - accuracy: 0.0000e+00\n",
      "Epoch 195/300\n",
      "9/9 [==============================] - 0s 886us/step - loss: 2.1460 - accuracy: 0.0000e+00\n",
      "Epoch 196/300\n",
      "9/9 [==============================] - 0s 775us/step - loss: 2.1460 - accuracy: 0.0000e+00\n",
      "Epoch 197/300\n",
      "9/9 [==============================] - 0s 665us/step - loss: 2.1460 - accuracy: 0.0000e+00\n",
      "Epoch 198/300\n",
      "9/9 [==============================] - 0s 776us/step - loss: 2.1460 - accuracy: 0.0000e+00\n",
      "Epoch 199/300\n",
      "9/9 [==============================] - 0s 779us/step - loss: 2.1460 - accuracy: 0.0000e+00\n",
      "Epoch 200/300\n",
      "9/9 [==============================] - 0s 555us/step - loss: 2.1460 - accuracy: 0.0000e+00\n",
      "Epoch 201/300\n",
      "9/9 [==============================] - 0s 886us/step - loss: 2.1460 - accuracy: 0.0000e+00\n",
      "Epoch 202/300\n",
      "9/9 [==============================] - 0s 865us/step - loss: 2.1460 - accuracy: 0.0000e+00\n",
      "Epoch 203/300\n",
      "9/9 [==============================] - 0s 776us/step - loss: 2.1460 - accuracy: 0.0000e+00\n",
      "Epoch 204/300\n",
      "9/9 [==============================] - 0s 771us/step - loss: 2.1460 - accuracy: 0.0000e+00\n",
      "Epoch 205/300\n",
      "9/9 [==============================] - 0s 778us/step - loss: 2.1460 - accuracy: 0.0000e+00\n",
      "Epoch 206/300\n",
      "9/9 [==============================] - 0s 997us/step - loss: 2.1460 - accuracy: 0.0000e+00\n",
      "Epoch 207/300\n",
      "9/9 [==============================] - 0s 995us/step - loss: 2.1460 - accuracy: 0.0000e+00\n",
      "Epoch 208/300\n",
      "9/9 [==============================] - 0s 554us/step - loss: 2.1460 - accuracy: 0.0000e+00\n",
      "Epoch 209/300\n",
      "9/9 [==============================] - 0s 886us/step - loss: 2.1460 - accuracy: 0.0000e+00\n",
      "Epoch 210/300\n",
      "9/9 [==============================] - 0s 704us/step - loss: 2.1460 - accuracy: 0.0000e+00\n",
      "Epoch 211/300\n",
      "9/9 [==============================] - 0s 1ms/step - loss: 2.1460 - accuracy: 0.0000e+00\n",
      "Epoch 212/300\n",
      "9/9 [==============================] - 0s 886us/step - loss: 2.1460 - accuracy: 0.0000e+00\n",
      "Epoch 213/300\n",
      "9/9 [==============================] - 0s 887us/step - loss: 2.1460 - accuracy: 0.0000e+00\n",
      "Epoch 214/300\n",
      "9/9 [==============================] - 0s 996us/step - loss: 2.1460 - accuracy: 0.0000e+00\n",
      "Epoch 215/300\n",
      "9/9 [==============================] - 0s 775us/step - loss: 2.1460 - accuracy: 0.0000e+00\n",
      "Epoch 216/300\n",
      "9/9 [==============================] - 0s 781us/step - loss: 2.1460 - accuracy: 0.0000e+00\n",
      "Epoch 217/300\n",
      "9/9 [==============================] - 0s 778us/step - loss: 2.1460 - accuracy: 0.0000e+00\n",
      "Epoch 218/300\n",
      "9/9 [==============================] - 0s 776us/step - loss: 2.1460 - accuracy: 0.0000e+00\n",
      "Epoch 219/300\n",
      "9/9 [==============================] - 0s 1000us/step - loss: 2.1460 - accuracy: 0.0000e+00\n",
      "Epoch 220/300\n",
      "9/9 [==============================] - 0s 1ms/step - loss: 2.1460 - accuracy: 0.0000e+00\n",
      "Epoch 221/300\n",
      "9/9 [==============================] - 0s 776us/step - loss: 2.1460 - accuracy: 0.0000e+00\n",
      "Epoch 222/300\n",
      "9/9 [==============================] - 0s 890us/step - loss: 2.1460 - accuracy: 0.0000e+00\n",
      "Epoch 223/300\n",
      "9/9 [==============================] - 0s 776us/step - loss: 2.1460 - accuracy: 0.0000e+00\n",
      "Epoch 224/300\n",
      "9/9 [==============================] - 0s 1ms/step - loss: 2.1460 - accuracy: 0.0000e+00\n",
      "Epoch 225/300\n",
      "9/9 [==============================] - 0s 776us/step - loss: 2.1460 - accuracy: 0.0000e+00\n",
      "Epoch 226/300\n",
      "9/9 [==============================] - 0s 886us/step - loss: 2.1460 - accuracy: 0.0000e+00\n",
      "Epoch 227/300\n",
      "9/9 [==============================] - 0s 887us/step - loss: 2.1460 - accuracy: 0.0000e+00\n",
      "Epoch 228/300\n",
      "9/9 [==============================] - 0s 668us/step - loss: 2.1460 - accuracy: 0.0000e+00\n",
      "Epoch 229/300\n",
      "9/9 [==============================] - 0s 774us/step - loss: 2.1460 - accuracy: 0.0000e+00\n",
      "Epoch 230/300\n",
      "9/9 [==============================] - 0s 887us/step - loss: 2.1460 - accuracy: 0.0000e+00\n",
      "Epoch 231/300\n",
      "9/9 [==============================] - 0s 1ms/step - loss: 2.1460 - accuracy: 0.0000e+00\n",
      "Epoch 232/300\n",
      "9/9 [==============================] - 0s 776us/step - loss: 2.1460 - accuracy: 0.0000e+00\n",
      "Epoch 233/300\n",
      "9/9 [==============================] - 0s 997us/step - loss: 2.1460 - accuracy: 0.0000e+00\n",
      "Epoch 234/300\n",
      "9/9 [==============================] - 0s 776us/step - loss: 2.1460 - accuracy: 0.0000e+00\n",
      "Epoch 235/300\n"
     ]
    },
    {
     "name": "stdout",
     "output_type": "stream",
     "text": [
      "9/9 [==============================] - 0s 665us/step - loss: 2.1460 - accuracy: 0.0000e+00\n",
      "Epoch 236/300\n",
      "9/9 [==============================] - 0s 886us/step - loss: 2.1460 - accuracy: 0.0000e+00\n",
      "Epoch 237/300\n",
      "9/9 [==============================] - 0s 665us/step - loss: 2.1460 - accuracy: 0.0000e+00\n",
      "Epoch 238/300\n",
      "9/9 [==============================] - 0s 887us/step - loss: 2.1460 - accuracy: 0.0000e+00\n",
      "Epoch 239/300\n",
      "9/9 [==============================] - 0s 665us/step - loss: 2.1460 - accuracy: 0.0000e+00\n",
      "Epoch 240/300\n",
      "9/9 [==============================] - 0s 886us/step - loss: 2.1460 - accuracy: 0.0000e+00\n",
      "Epoch 241/300\n",
      "9/9 [==============================] - 0s 775us/step - loss: 2.1460 - accuracy: 0.0000e+00\n",
      "Epoch 242/300\n",
      "9/9 [==============================] - 0s 776us/step - loss: 2.1460 - accuracy: 0.0000e+00\n",
      "Epoch 243/300\n",
      "9/9 [==============================] - 0s 997us/step - loss: 2.1460 - accuracy: 0.0000e+00\n",
      "Epoch 244/300\n",
      "9/9 [==============================] - 0s 668us/step - loss: 2.1460 - accuracy: 0.0000e+00\n",
      "Epoch 245/300\n",
      "9/9 [==============================] - 0s 999us/step - loss: 2.1460 - accuracy: 0.0000e+00\n",
      "Epoch 246/300\n",
      "9/9 [==============================] - 0s 994us/step - loss: 2.1460 - accuracy: 0.0000e+00\n",
      "Epoch 247/300\n",
      "9/9 [==============================] - 0s 886us/step - loss: 2.1460 - accuracy: 0.0000e+00\n",
      "Epoch 248/300\n",
      "9/9 [==============================] - 0s 998us/step - loss: 2.1460 - accuracy: 0.0000e+00\n",
      "Epoch 249/300\n",
      "9/9 [==============================] - 0s 776us/step - loss: 2.1460 - accuracy: 0.0000e+00\n",
      "Epoch 250/300\n",
      "9/9 [==============================] - 0s 776us/step - loss: 2.1460 - accuracy: 0.0000e+00\n",
      "Epoch 251/300\n",
      "9/9 [==============================] - 0s 665us/step - loss: 2.1460 - accuracy: 0.0000e+00\n",
      "Epoch 252/300\n",
      "9/9 [==============================] - 0s 1ms/step - loss: 2.1460 - accuracy: 0.0000e+00\n",
      "Epoch 253/300\n",
      "9/9 [==============================] - 0s 887us/step - loss: 2.1460 - accuracy: 0.0000e+00\n",
      "Epoch 254/300\n",
      "9/9 [==============================] - 0s 776us/step - loss: 2.1460 - accuracy: 0.0000e+00\n",
      "Epoch 255/300\n",
      "9/9 [==============================] - 0s 554us/step - loss: 2.1460 - accuracy: 0.0000e+00\n",
      "Epoch 256/300\n",
      "9/9 [==============================] - 0s 776us/step - loss: 2.1460 - accuracy: 0.0000e+00\n",
      "Epoch 257/300\n",
      "9/9 [==============================] - 0s 886us/step - loss: 2.1460 - accuracy: 0.0000e+00\n",
      "Epoch 258/300\n",
      "9/9 [==============================] - 0s 776us/step - loss: 2.1460 - accuracy: 0.0000e+00\n",
      "Epoch 259/300\n",
      "9/9 [==============================] - 0s 776us/step - loss: 2.1460 - accuracy: 0.0000e+00\n",
      "Epoch 260/300\n",
      "9/9 [==============================] - 0s 887us/step - loss: 2.1460 - accuracy: 0.0000e+00\n",
      "Epoch 261/300\n",
      "9/9 [==============================] - 0s 665us/step - loss: 2.1460 - accuracy: 0.0000e+00\n",
      "Epoch 262/300\n",
      "9/9 [==============================] - 0s 1ms/step - loss: 2.1460 - accuracy: 0.0000e+00\n",
      "Epoch 263/300\n",
      "9/9 [==============================] - 0s 776us/step - loss: 2.1460 - accuracy: 0.0000e+00\n",
      "Epoch 264/300\n",
      "9/9 [==============================] - 0s 554us/step - loss: 2.1460 - accuracy: 0.0000e+00\n",
      "Epoch 265/300\n",
      "9/9 [==============================] - 0s 776us/step - loss: 2.1460 - accuracy: 0.0000e+00\n",
      "Epoch 266/300\n",
      "9/9 [==============================] - 0s 775us/step - loss: 2.1460 - accuracy: 0.0000e+00\n",
      "Epoch 267/300\n",
      "9/9 [==============================] - 0s 663us/step - loss: 2.1460 - accuracy: 0.0000e+00\n",
      "Epoch 268/300\n",
      "9/9 [==============================] - 0s 776us/step - loss: 2.1460 - accuracy: 0.0000e+00\n",
      "Epoch 269/300\n",
      "9/9 [==============================] - 0s 777us/step - loss: 2.1460 - accuracy: 0.0000e+00\n",
      "Epoch 270/300\n",
      "9/9 [==============================] - 0s 780us/step - loss: 2.1460 - accuracy: 0.0000e+00\n",
      "Epoch 271/300\n",
      "9/9 [==============================] - 0s 887us/step - loss: 2.1460 - accuracy: 0.0000e+00\n",
      "Epoch 272/300\n",
      "9/9 [==============================] - 0s 887us/step - loss: 2.1460 - accuracy: 0.0000e+00\n",
      "Epoch 273/300\n",
      "9/9 [==============================] - 0s 777us/step - loss: 2.1460 - accuracy: 0.0000e+00\n",
      "Epoch 274/300\n",
      "9/9 [==============================] - 0s 776us/step - loss: 2.1460 - accuracy: 0.0000e+00\n",
      "Epoch 275/300\n",
      "9/9 [==============================] - 0s 776us/step - loss: 2.1460 - accuracy: 0.0000e+00\n",
      "Epoch 276/300\n",
      "9/9 [==============================] - 0s 665us/step - loss: 2.1460 - accuracy: 0.0000e+00\n",
      "Epoch 277/300\n",
      "9/9 [==============================] - 0s 776us/step - loss: 2.1460 - accuracy: 0.0000e+00\n",
      "Epoch 278/300\n",
      "9/9 [==============================] - 0s 776us/step - loss: 2.1460 - accuracy: 0.0000e+00\n",
      "Epoch 279/300\n",
      "9/9 [==============================] - 0s 887us/step - loss: 2.1460 - accuracy: 0.0000e+00\n",
      "Epoch 280/300\n",
      "9/9 [==============================] - 0s 996us/step - loss: 2.1460 - accuracy: 0.0000e+00\n",
      "Epoch 281/300\n",
      "9/9 [==============================] - 0s 997us/step - loss: 2.1460 - accuracy: 0.0000e+00\n",
      "Epoch 282/300\n",
      "9/9 [==============================] - 0s 887us/step - loss: 2.1460 - accuracy: 0.0000e+00\n",
      "Epoch 283/300\n",
      "9/9 [==============================] - 0s 886us/step - loss: 2.1460 - accuracy: 0.0000e+00\n",
      "Epoch 284/300\n",
      "9/9 [==============================] - 0s 887us/step - loss: 2.1460 - accuracy: 0.0000e+00\n",
      "Epoch 285/300\n",
      "9/9 [==============================] - 0s 890us/step - loss: 2.1460 - accuracy: 0.0000e+00\n",
      "Epoch 286/300\n",
      "9/9 [==============================] - 0s 997us/step - loss: 2.1460 - accuracy: 0.0000e+00\n",
      "Epoch 287/300\n",
      "9/9 [==============================] - 0s 997us/step - loss: 2.1460 - accuracy: 0.0000e+00\n",
      "Epoch 288/300\n",
      "9/9 [==============================] - 0s 775us/step - loss: 2.1460 - accuracy: 0.0000e+00\n",
      "Epoch 289/300\n",
      "9/9 [==============================] - 0s 1ms/step - loss: 2.1460 - accuracy: 0.0000e+00\n",
      "Epoch 290/300\n",
      "9/9 [==============================] - 0s 887us/step - loss: 2.1460 - accuracy: 0.0000e+00\n",
      "Epoch 291/300\n",
      "9/9 [==============================] - 0s 998us/step - loss: 2.1460 - accuracy: 0.0000e+00\n",
      "Epoch 292/300\n",
      "9/9 [==============================] - 0s 775us/step - loss: 2.1460 - accuracy: 0.0000e+00\n",
      "Epoch 293/300\n",
      "9/9 [==============================] - 0s 665us/step - loss: 2.1460 - accuracy: 0.0000e+00\n",
      "Epoch 294/300\n",
      "9/9 [==============================] - 0s 665us/step - loss: 2.1460 - accuracy: 0.0000e+00\n",
      "Epoch 295/300\n",
      "9/9 [==============================] - 0s 665us/step - loss: 2.1460 - accuracy: 0.0000e+00\n",
      "Epoch 296/300\n",
      "9/9 [==============================] - 0s 665us/step - loss: 2.1460 - accuracy: 0.0000e+00\n",
      "Epoch 297/300\n",
      "9/9 [==============================] - 0s 886us/step - loss: 2.1460 - accuracy: 0.0000e+00\n",
      "Epoch 298/300\n",
      "9/9 [==============================] - 0s 887us/step - loss: 2.1460 - accuracy: 0.0000e+00\n",
      "Epoch 299/300\n",
      "9/9 [==============================] - 0s 887us/step - loss: 2.1460 - accuracy: 0.0000e+00\n",
      "Epoch 300/300\n",
      "9/9 [==============================] - 0s 776us/step - loss: 2.1460 - accuracy: 0.0000e+00\n"
     ]
    },
    {
     "data": {
      "text/plain": [
       "<tensorflow.python.keras.callbacks.History at 0x1f8e9f2c6d0>"
      ]
     },
     "execution_count": 50,
     "metadata": {},
     "output_type": "execute_result"
    }
   ],
   "source": [
    "model.compile(optimizer=sgd, loss='mse', metrics=['accuracy'])\n",
    "\n",
    "model.fit(X,y, batch_size=1, epochs=300, shuffle=False)"
   ]
  },
  {
   "cell_type": "code",
   "execution_count": 51,
   "id": "55e1df90",
   "metadata": {},
   "outputs": [
    {
     "data": {
      "text/plain": [
       "[<matplotlib.lines.Line2D at 0x1f8eb01f8b0>,\n",
       " <matplotlib.lines.Line2D at 0x1f8eb01f970>]"
      ]
     },
     "execution_count": 51,
     "metadata": {},
     "output_type": "execute_result"
    },
    {
     "data": {
      "image/png": "[encoded data removed]",
      "text/plain": [
       "<Figure size 432x288 with 1 Axes>"
      ]
     },
     "metadata": {
      "needs_background": "light"
     },
     "output_type": "display_data"
    }
   ],
   "source": [
    "%matplotlib inline\n",
    "import matplotlib.pyplot as plt\n",
    "plt.plot(X, model.predict(X), 'b', X, y, 'k. ')"
   ]
  },
  {
   "cell_type": "code",
   "execution_count": 52,
   "id": "94f25578",
   "metadata": {},
   "outputs": [],
   "source": [
    "#선형회귀 (tf v2, tape 활용)\n",
    "\n",
    "#자동 미분\n",
    "\n",
    "import tensorflow as tf\n",
    "\n",
    "w = tf.Variable(2.)\n",
    "\n",
    "def f(w):\n",
    "    y=w**2\n",
    "    z=2*y +5\n",
    "    return z"
   ]
  },
  {
   "cell_type": "code",
   "execution_count": 53,
   "id": "10a4899c",
   "metadata": {},
   "outputs": [
    {
     "name": "stdout",
     "output_type": "stream",
     "text": [
      "[<tf.Tensor: shape=(), dtype=float32, numpy=8.0>]\n"
     ]
    }
   ],
   "source": [
    "with tf.GradientTape() as tape:\n",
    "    z=f(w)\n",
    "    \n",
    "gradients = tape.gradient(z,[w])\n",
    "print(gradients)"
   ]
  },
  {
   "cell_type": "code",
   "execution_count": 54,
   "id": "7dd4d072",
   "metadata": {},
   "outputs": [],
   "source": [
    "X=[1,2,3,4,5,6,7,8,9] # 공부하는 시간\n",
    "y=[11,22,33,44,53,66,77,87,95] # 각 공부하는 시간에 맵핑되는 성적"
   ]
  },
  {
   "cell_type": "code",
   "execution_count": 55,
   "id": "3071fff3",
   "metadata": {},
   "outputs": [],
   "source": [
    "W=tf.Variable(4.0)\n",
    "b=tf.Variable(1.0)"
   ]
  },
  {
   "cell_type": "code",
   "execution_count": 56,
   "id": "132c1f6d",
   "metadata": {},
   "outputs": [],
   "source": [
    "@tf.function\n",
    "\n",
    "def hypothesis(x):\n",
    "    return W*x+b"
   ]
  },
  {
   "cell_type": "code",
   "execution_count": 57,
   "id": "308e1c7a",
   "metadata": {},
   "outputs": [
    {
     "name": "stdout",
     "output_type": "stream",
     "text": [
      "<bound method _EagerTensorBase.numpy of <tf.Tensor: shape=(4,), dtype=float32, numpy=array([15., 21., 23., 25.], dtype=float32)>>\n"
     ]
    }
   ],
   "source": [
    "x_test = [3.5, 5, 5.5, 6]\n",
    "\n",
    "print(hypothesis(x_test).numpy)"
   ]
  },
  {
   "cell_type": "code",
   "execution_count": 60,
   "id": "c87e3b3f",
   "metadata": {},
   "outputs": [],
   "source": [
    "@tf.function\n",
    "\n",
    "def mse_loss(y_pred, y):\n",
    "    return tf.reduce_mean(tf.square(y_pred - y))"
   ]
  },
  {
   "cell_type": "code",
   "execution_count": 64,
   "id": "075cde37",
   "metadata": {},
   "outputs": [
    {
     "ename": "IndexError",
     "evalue": "Replacement index 3 out of range for positional args tuple",
     "output_type": "error",
     "traceback": [
      "\u001b[1;31m---------------------------------------------------------------------------\u001b[0m",
      "\u001b[1;31mIndexError\u001b[0m                                Traceback (most recent call last)",
      "\u001b[1;32m<ipython-input-64-7c3d5149b706>\u001b[0m in \u001b[0;36m<module>\u001b[1;34m\u001b[0m\n\u001b[0;32m     10\u001b[0m \u001b[1;33m\u001b[0m\u001b[0m\n\u001b[0;32m     11\u001b[0m     \u001b[1;32mif\u001b[0m \u001b[0mi\u001b[0m \u001b[1;33m%\u001b[0m \u001b[1;36m10\u001b[0m \u001b[1;33m==\u001b[0m \u001b[1;36m0\u001b[0m\u001b[1;33m:\u001b[0m\u001b[1;33m\u001b[0m\u001b[1;33m\u001b[0m\u001b[0m\n\u001b[1;32m---> 12\u001b[1;33m         \u001b[0mprint\u001b[0m\u001b[1;33m(\u001b[0m\u001b[1;34m\"epoch :{:3}, W의 값 :{:5.4f}, b의 값 :{:5.4f}, cost:{:5.4f}\"\u001b[0m\u001b[1;33m.\u001b[0m\u001b[0mformat\u001b[0m\u001b[1;33m(\u001b[0m\u001b[0mi\u001b[0m\u001b[1;33m,\u001b[0m \u001b[0mW\u001b[0m\u001b[1;33m.\u001b[0m\u001b[0mnumpy\u001b[0m\u001b[1;33m(\u001b[0m\u001b[1;33m)\u001b[0m\u001b[1;33m,\u001b[0m \u001b[0mb\u001b[0m\u001b[1;33m.\u001b[0m\u001b[0mnumpy\u001b[0m\u001b[1;33m(\u001b[0m\u001b[1;33m)\u001b[0m\u001b[1;33m)\u001b[0m\u001b[1;33m)\u001b[0m\u001b[1;33m\u001b[0m\u001b[1;33m\u001b[0m\u001b[0m\n\u001b[0m",
      "\u001b[1;31mIndexError\u001b[0m: Replacement index 3 out of range for positional args tuple"
     ]
    }
   ],
   "source": [
    "optimizer = tf.optimizers.SGD(0.01)\n",
    "\n",
    "for i in range(301):\n",
    "    with tf.GradientTape() as tape:\n",
    "        y_pred = hypothesis(X)\n",
    "        cost = mse_loss(y_pred, y)\n",
    "        \n",
    "    gradients = tape.gradient(cost, [W, b])\n",
    "    optimizer.apply_gradients(zip(gradients, [W, b]))\n",
    "    \n",
    "    if i % 10 == 0:\n",
    "        print(\"epoch :{:3}, W의 값 :{:5.4f}, b의 값 :{:5.4f}, cost:{:5.4f}\".format(i, W.numpy(), b.numpy()))"
   ]
  },
  {
   "cell_type": "code",
   "execution_count": 65,
   "id": "bafa3bc7",
   "metadata": {},
   "outputs": [],
   "source": [
    "x_test = [3.5,]"
   ]
  },
  {
   "cell_type": "code",
   "execution_count": 66,
   "id": "c11b4b89",
   "metadata": {},
   "outputs": [
    {
     "ename": "SyntaxError",
     "evalue": "invalid syntax (<ipython-input-66-4303cf5e6929>, line 2)",
     "output_type": "error",
     "traceback": [
      "\u001b[1;36m  File \u001b[1;32m\"<ipython-input-66-4303cf5e6929>\"\u001b[1;36m, line \u001b[1;32m2\u001b[0m\n\u001b[1;33m    import\u001b[0m\n\u001b[1;37m           ^\u001b[0m\n\u001b[1;31mSyntaxError\u001b[0m\u001b[1;31m:\u001b[0m invalid syntax\n"
     ]
    }
   ],
   "source": [
    "%matplotlib inline\n",
    "import "
   ]
  },
  {
   "cell_type": "code",
   "execution_count": 67,
   "id": "4510fe3b",
   "metadata": {},
   "outputs": [],
   "source": [
    "import numpy as np\n",
    "from tensorflow.keras.models import Sequential # 케라스의 Sequential()을 임포트\n",
    "from tensorflow.keras.layers import Dense # 케라스의 Dense()를 임포트\n",
    "from tensorflow.keras import optimizers"
   ]
  },
  {
   "cell_type": "code",
   "execution_count": 68,
   "id": "d2c399fe",
   "metadata": {},
   "outputs": [],
   "source": [
    "X = np.array([-50, -40, -30, -20, -10, -5, 0, 5, 10, 20, 30, 40, 50])\n",
    "y = np.array([0, 0, 0, 0, 0, 0, 0, 0, 1, 1, 1, 1, 1])"
   ]
  },
  {
   "cell_type": "code",
   "execution_count": 70,
   "id": "4bc6f8f0",
   "metadata": {},
   "outputs": [],
   "source": [
    "model = Sequential()\n",
    "model.add(Dense(1, input_dim=1, activation='sigmoid'))\n",
    "sgd = optimizers.SGD(lr=0.01)"
   ]
  },
  {
   "cell_type": "code",
   "execution_count": 71,
   "id": "88715184",
   "metadata": {},
   "outputs": [
    {
     "ename": "TypeError",
     "evalue": "Invalid keyword argument(s) in `compile`: {'lose', 'optimizers'}",
     "output_type": "error",
     "traceback": [
      "\u001b[1;31m---------------------------------------------------------------------------\u001b[0m",
      "\u001b[1;31mTypeError\u001b[0m                                 Traceback (most recent call last)",
      "\u001b[1;32m<ipython-input-71-3dd5dfd10b89>\u001b[0m in \u001b[0;36m<module>\u001b[1;34m\u001b[0m\n\u001b[1;32m----> 1\u001b[1;33m \u001b[0mmodel\u001b[0m\u001b[1;33m.\u001b[0m\u001b[0mcompile\u001b[0m\u001b[1;33m(\u001b[0m\u001b[0moptimizers\u001b[0m \u001b[1;33m=\u001b[0m \u001b[0msgd\u001b[0m\u001b[1;33m,\u001b[0m \u001b[0mlose\u001b[0m \u001b[1;33m=\u001b[0m \u001b[1;34m'binary_crossentropy'\u001b[0m\u001b[1;33m)\u001b[0m\u001b[1;33m\u001b[0m\u001b[1;33m\u001b[0m\u001b[0m\n\u001b[0m",
      "\u001b[1;32m~\\anaconda3\\lib\\site-packages\\tensorflow\\python\\keras\\engine\\training.py\u001b[0m in \u001b[0;36mcompile\u001b[1;34m(self, optimizer, loss, metrics, loss_weights, weighted_metrics, run_eagerly, **kwargs)\u001b[0m\n\u001b[0;32m    536\u001b[0m     \u001b[0m_keras_api_gauge\u001b[0m\u001b[1;33m.\u001b[0m\u001b[0mget_cell\u001b[0m\u001b[1;33m(\u001b[0m\u001b[1;34m'compile'\u001b[0m\u001b[1;33m)\u001b[0m\u001b[1;33m.\u001b[0m\u001b[0mset\u001b[0m\u001b[1;33m(\u001b[0m\u001b[1;32mTrue\u001b[0m\u001b[1;33m)\u001b[0m\u001b[1;33m\u001b[0m\u001b[1;33m\u001b[0m\u001b[0m\n\u001b[0;32m    537\u001b[0m     \u001b[1;32mwith\u001b[0m \u001b[0mself\u001b[0m\u001b[1;33m.\u001b[0m\u001b[0mdistribute_strategy\u001b[0m\u001b[1;33m.\u001b[0m\u001b[0mscope\u001b[0m\u001b[1;33m(\u001b[0m\u001b[1;33m)\u001b[0m\u001b[1;33m:\u001b[0m\u001b[1;33m\u001b[0m\u001b[1;33m\u001b[0m\u001b[0m\n\u001b[1;32m--> 538\u001b[1;33m       \u001b[0mself\u001b[0m\u001b[1;33m.\u001b[0m\u001b[0m_validate_compile\u001b[0m\u001b[1;33m(\u001b[0m\u001b[0moptimizer\u001b[0m\u001b[1;33m,\u001b[0m \u001b[0mmetrics\u001b[0m\u001b[1;33m,\u001b[0m \u001b[1;33m**\u001b[0m\u001b[0mkwargs\u001b[0m\u001b[1;33m)\u001b[0m\u001b[1;33m\u001b[0m\u001b[1;33m\u001b[0m\u001b[0m\n\u001b[0m\u001b[0;32m    539\u001b[0m       \u001b[0mself\u001b[0m\u001b[1;33m.\u001b[0m\u001b[0m_run_eagerly\u001b[0m \u001b[1;33m=\u001b[0m \u001b[0mrun_eagerly\u001b[0m\u001b[1;33m\u001b[0m\u001b[1;33m\u001b[0m\u001b[0m\n\u001b[0;32m    540\u001b[0m \u001b[1;33m\u001b[0m\u001b[0m\n",
      "\u001b[1;32m~\\anaconda3\\lib\\site-packages\\tensorflow\\python\\keras\\engine\\training.py\u001b[0m in \u001b[0;36m_validate_compile\u001b[1;34m(self, optimizer, metrics, **kwargs)\u001b[0m\n\u001b[0;32m   2494\u001b[0m     }\n\u001b[0;32m   2495\u001b[0m     \u001b[1;32mif\u001b[0m \u001b[0minvalid_kwargs\u001b[0m\u001b[1;33m:\u001b[0m\u001b[1;33m\u001b[0m\u001b[1;33m\u001b[0m\u001b[0m\n\u001b[1;32m-> 2496\u001b[1;33m       raise TypeError('Invalid keyword argument(s) in `compile`: %s' %\n\u001b[0m\u001b[0;32m   2497\u001b[0m                       (invalid_kwargs,))\n\u001b[0;32m   2498\u001b[0m \u001b[1;33m\u001b[0m\u001b[0m\n",
      "\u001b[1;31mTypeError\u001b[0m: Invalid keyword argument(s) in `compile`: {'lose', 'optimizers'}"
     ]
    }
   ],
   "source": [
    "model.compile(optimizers = sgd, lose = 'binary_crossentropy')"
   ]
  },
  {
   "cell_type": "code",
   "execution_count": 72,
   "id": "e25b5cd3",
   "metadata": {},
   "outputs": [],
   "source": [
    "import numpy as np\n",
    "from tensorflow.keras.models import Sequential # 케라스의 Sequential()을 임포트\n",
    "from tensorflow.keras.layers import Dense # 케라스의 Dense()를 임포트\n",
    "from tensorflow.keras import optimizers # 케라스의 옵티마이저를 임포트\n",
    "# 입력 벡터의 차원은 3입니다. 즉, input_dim은 3입니다.\n",
    "X = np.array([[70,85,11],[71,89,18],[50,80,20],[99,20,10],[50,10,10]]) # 중간, 기말, 가산점\n",
    "# 출력 벡터의 차원은 1입니다. 즉, output_dim은 1입니다.\n",
    "y = np.array([73,82,72,57,34]) # 최종 성적\n"
   ]
  },
  {
   "cell_type": "code",
   "execution_count": 74,
   "id": "a2ed271b",
   "metadata": {},
   "outputs": [
    {
     "ename": "TypeError",
     "evalue": "Invalid keyword argument(s) in `compile`: {'optimizers'}",
     "output_type": "error",
     "traceback": [
      "\u001b[1;31m---------------------------------------------------------------------------\u001b[0m",
      "\u001b[1;31mTypeError\u001b[0m                                 Traceback (most recent call last)",
      "\u001b[1;32m<ipython-input-74-df0b51fa3b1a>\u001b[0m in \u001b[0;36m<module>\u001b[1;34m\u001b[0m\n\u001b[1;32m----> 1\u001b[1;33m \u001b[0mmodel\u001b[0m\u001b[1;33m.\u001b[0m\u001b[0mcompile\u001b[0m\u001b[1;33m(\u001b[0m\u001b[0moptimizers\u001b[0m\u001b[1;33m=\u001b[0m\u001b[0msgd\u001b[0m\u001b[1;33m,\u001b[0m \u001b[0mloss\u001b[0m\u001b[1;33m=\u001b[0m\u001b[1;34m'mse'\u001b[0m\u001b[1;33m,\u001b[0m \u001b[0mmetrics\u001b[0m\u001b[1;33m=\u001b[0m\u001b[1;33m[\u001b[0m\u001b[1;34m'mse'\u001b[0m\u001b[1;33m]\u001b[0m\u001b[1;33m)\u001b[0m\u001b[1;33m\u001b[0m\u001b[1;33m\u001b[0m\u001b[0m\n\u001b[0m\u001b[0;32m      2\u001b[0m \u001b[0mmodel\u001b[0m\u001b[1;33m.\u001b[0m\u001b[0mfit\u001b[0m\u001b[1;33m(\u001b[0m\u001b[0mX\u001b[0m\u001b[1;33m,\u001b[0m\u001b[0my\u001b[0m\u001b[1;33m,\u001b[0m \u001b[0mbatch_size\u001b[0m\u001b[1;33m=\u001b[0m\u001b[1;36m1\u001b[0m\u001b[1;33m,\u001b[0m \u001b[0mepoches\u001b[0m\u001b[1;33m=\u001b[0m\u001b[1;36m1000\u001b[0m\u001b[1;33m,\u001b[0m \u001b[0mshuffle\u001b[0m \u001b[1;33m=\u001b[0m \u001b[1;32mFalse\u001b[0m\u001b[1;33m)\u001b[0m\u001b[1;33m\u001b[0m\u001b[1;33m\u001b[0m\u001b[0m\n",
      "\u001b[1;32m~\\anaconda3\\lib\\site-packages\\tensorflow\\python\\keras\\engine\\training.py\u001b[0m in \u001b[0;36mcompile\u001b[1;34m(self, optimizer, loss, metrics, loss_weights, weighted_metrics, run_eagerly, **kwargs)\u001b[0m\n\u001b[0;32m    536\u001b[0m     \u001b[0m_keras_api_gauge\u001b[0m\u001b[1;33m.\u001b[0m\u001b[0mget_cell\u001b[0m\u001b[1;33m(\u001b[0m\u001b[1;34m'compile'\u001b[0m\u001b[1;33m)\u001b[0m\u001b[1;33m.\u001b[0m\u001b[0mset\u001b[0m\u001b[1;33m(\u001b[0m\u001b[1;32mTrue\u001b[0m\u001b[1;33m)\u001b[0m\u001b[1;33m\u001b[0m\u001b[1;33m\u001b[0m\u001b[0m\n\u001b[0;32m    537\u001b[0m     \u001b[1;32mwith\u001b[0m \u001b[0mself\u001b[0m\u001b[1;33m.\u001b[0m\u001b[0mdistribute_strategy\u001b[0m\u001b[1;33m.\u001b[0m\u001b[0mscope\u001b[0m\u001b[1;33m(\u001b[0m\u001b[1;33m)\u001b[0m\u001b[1;33m:\u001b[0m\u001b[1;33m\u001b[0m\u001b[1;33m\u001b[0m\u001b[0m\n\u001b[1;32m--> 538\u001b[1;33m       \u001b[0mself\u001b[0m\u001b[1;33m.\u001b[0m\u001b[0m_validate_compile\u001b[0m\u001b[1;33m(\u001b[0m\u001b[0moptimizer\u001b[0m\u001b[1;33m,\u001b[0m \u001b[0mmetrics\u001b[0m\u001b[1;33m,\u001b[0m \u001b[1;33m**\u001b[0m\u001b[0mkwargs\u001b[0m\u001b[1;33m)\u001b[0m\u001b[1;33m\u001b[0m\u001b[1;33m\u001b[0m\u001b[0m\n\u001b[0m\u001b[0;32m    539\u001b[0m       \u001b[0mself\u001b[0m\u001b[1;33m.\u001b[0m\u001b[0m_run_eagerly\u001b[0m \u001b[1;33m=\u001b[0m \u001b[0mrun_eagerly\u001b[0m\u001b[1;33m\u001b[0m\u001b[1;33m\u001b[0m\u001b[0m\n\u001b[0;32m    540\u001b[0m \u001b[1;33m\u001b[0m\u001b[0m\n",
      "\u001b[1;32m~\\anaconda3\\lib\\site-packages\\tensorflow\\python\\keras\\engine\\training.py\u001b[0m in \u001b[0;36m_validate_compile\u001b[1;34m(self, optimizer, metrics, **kwargs)\u001b[0m\n\u001b[0;32m   2494\u001b[0m     }\n\u001b[0;32m   2495\u001b[0m     \u001b[1;32mif\u001b[0m \u001b[0minvalid_kwargs\u001b[0m\u001b[1;33m:\u001b[0m\u001b[1;33m\u001b[0m\u001b[1;33m\u001b[0m\u001b[0m\n\u001b[1;32m-> 2496\u001b[1;33m       raise TypeError('Invalid keyword argument(s) in `compile`: %s' %\n\u001b[0m\u001b[0;32m   2497\u001b[0m                       (invalid_kwargs,))\n\u001b[0;32m   2498\u001b[0m \u001b[1;33m\u001b[0m\u001b[0m\n",
      "\u001b[1;31mTypeError\u001b[0m: Invalid keyword argument(s) in `compile`: {'optimizers'}"
     ]
    }
   ],
   "source": [
    "model.compile(optimizers=sgd, loss='mse', metrics=['mse'])\n",
    "model.fit(X,y, batch_size=1, epoches=1000, shuffle = False)"
   ]
  },
  {
   "cell_type": "code",
   "execution_count": 73,
   "id": "9330f674",
   "metadata": {},
   "outputs": [],
   "source": [
    "X = np.array([[0, 0], [0, 1], [1, 0], [1, 1]])\n",
    "# 출력 벡터의 차원은 1입니다. 즉, output_dim은 1입니다.\n",
    "y = np.array([0, 1, 1, 1])"
   ]
  },
  {
   "cell_type": "code",
   "execution_count": null,
   "id": "66be6047",
   "metadata": {},
   "outputs": [],
   "source": [
    "model=Sequential()\n",
    "model.add(Dense(1, input_dim=2, activation = 'sigmoid'))\n",
    "model.compile(optimizer='sgd', loss)"
   ]
  },
  {
   "cell_type": "code",
   "execution_count": 75,
   "id": "605b1ee2",
   "metadata": {},
   "outputs": [],
   "source": [
    "import tensorflow as tf\n",
    "import numpy as np\n",
    "import pandas as pd\n",
    "import seaborn as sns\n",
    "import matplotlib.pyplot as plt\n",
    "from sklearn.datasets import load_iris"
   ]
  },
  {
   "cell_type": "code",
   "execution_count": 76,
   "id": "6d04051f",
   "metadata": {},
   "outputs": [
    {
     "ename": "AttributeError",
     "evalue": "info",
     "output_type": "error",
     "traceback": [
      "\u001b[1;31m---------------------------------------------------------------------------\u001b[0m",
      "\u001b[1;31mKeyError\u001b[0m                                  Traceback (most recent call last)",
      "\u001b[1;32m~\\anaconda3\\lib\\site-packages\\sklearn\\utils\\__init__.py\u001b[0m in \u001b[0;36m__getattr__\u001b[1;34m(self, key)\u001b[0m\n\u001b[0;32m     93\u001b[0m         \u001b[1;32mtry\u001b[0m\u001b[1;33m:\u001b[0m\u001b[1;33m\u001b[0m\u001b[1;33m\u001b[0m\u001b[0m\n\u001b[1;32m---> 94\u001b[1;33m             \u001b[1;32mreturn\u001b[0m \u001b[0mself\u001b[0m\u001b[1;33m[\u001b[0m\u001b[0mkey\u001b[0m\u001b[1;33m]\u001b[0m\u001b[1;33m\u001b[0m\u001b[1;33m\u001b[0m\u001b[0m\n\u001b[0m\u001b[0;32m     95\u001b[0m         \u001b[1;32mexcept\u001b[0m \u001b[0mKeyError\u001b[0m\u001b[1;33m:\u001b[0m\u001b[1;33m\u001b[0m\u001b[1;33m\u001b[0m\u001b[0m\n",
      "\u001b[1;31mKeyError\u001b[0m: 'info'",
      "\nDuring handling of the above exception, another exception occurred:\n",
      "\u001b[1;31mAttributeError\u001b[0m                            Traceback (most recent call last)",
      "\u001b[1;32m<ipython-input-76-ad6a546b20e1>\u001b[0m in \u001b[0;36m<module>\u001b[1;34m\u001b[0m\n\u001b[0;32m      1\u001b[0m \u001b[0mdf\u001b[0m \u001b[1;33m=\u001b[0m \u001b[0mload_iris\u001b[0m\u001b[1;33m(\u001b[0m\u001b[1;33m)\u001b[0m\u001b[1;33m\u001b[0m\u001b[1;33m\u001b[0m\u001b[0m\n\u001b[1;32m----> 2\u001b[1;33m \u001b[0mdf\u001b[0m\u001b[1;33m.\u001b[0m\u001b[0minfo\u001b[0m\u001b[1;33m(\u001b[0m\u001b[1;33m)\u001b[0m\u001b[1;33m\u001b[0m\u001b[1;33m\u001b[0m\u001b[0m\n\u001b[0m",
      "\u001b[1;32m~\\anaconda3\\lib\\site-packages\\sklearn\\utils\\__init__.py\u001b[0m in \u001b[0;36m__getattr__\u001b[1;34m(self, key)\u001b[0m\n\u001b[0;32m     94\u001b[0m             \u001b[1;32mreturn\u001b[0m \u001b[0mself\u001b[0m\u001b[1;33m[\u001b[0m\u001b[0mkey\u001b[0m\u001b[1;33m]\u001b[0m\u001b[1;33m\u001b[0m\u001b[1;33m\u001b[0m\u001b[0m\n\u001b[0;32m     95\u001b[0m         \u001b[1;32mexcept\u001b[0m \u001b[0mKeyError\u001b[0m\u001b[1;33m:\u001b[0m\u001b[1;33m\u001b[0m\u001b[1;33m\u001b[0m\u001b[0m\n\u001b[1;32m---> 96\u001b[1;33m             \u001b[1;32mraise\u001b[0m \u001b[0mAttributeError\u001b[0m\u001b[1;33m(\u001b[0m\u001b[0mkey\u001b[0m\u001b[1;33m)\u001b[0m\u001b[1;33m\u001b[0m\u001b[1;33m\u001b[0m\u001b[0m\n\u001b[0m\u001b[0;32m     97\u001b[0m \u001b[1;33m\u001b[0m\u001b[0m\n\u001b[0;32m     98\u001b[0m     \u001b[1;32mdef\u001b[0m \u001b[0m__setstate__\u001b[0m\u001b[1;33m(\u001b[0m\u001b[0mself\u001b[0m\u001b[1;33m,\u001b[0m \u001b[0mstate\u001b[0m\u001b[1;33m)\u001b[0m\u001b[1;33m:\u001b[0m\u001b[1;33m\u001b[0m\u001b[1;33m\u001b[0m\u001b[0m\n",
      "\u001b[1;31mAttributeError\u001b[0m: info"
     ]
    }
   ],
   "source": [
    "df = load_iris()\n",
    "df.info()"
   ]
  },
  {
   "cell_type": "code",
   "execution_count": 77,
   "id": "114dbcca",
   "metadata": {},
   "outputs": [
    {
     "data": {
      "text/plain": [
       "dict_keys(['data', 'target', 'frame', 'target_names', 'DESCR', 'feature_names', 'filename'])"
      ]
     },
     "execution_count": 77,
     "metadata": {},
     "output_type": "execute_result"
    }
   ],
   "source": [
    "df.keys()"
   ]
  },
  {
   "cell_type": "code",
   "execution_count": 80,
   "id": "4bda9f96",
   "metadata": {},
   "outputs": [],
   "source": [
    "x_data = np.array(df.data, dtype=np.float32)\n",
    "y_data = np.array(df.target, dtype=np.float32)"
   ]
  },
  {
   "cell_type": "code",
   "execution_count": null,
   "id": "e6af1fd7",
   "metadata": {},
   "outputs": [],
   "source": []
  }
 ],
 "metadata": {
  "kernelspec": {
   "display_name": "Python 3",
   "language": "python",
   "name": "python3"
  },
  "language_info": {
   "codemirror_mode": {
    "name": "ipython",
    "version": 3
   },
   "file_extension": ".py",
   "mimetype": "text/x-python",
   "name": "python",
   "nbconvert_exporter": "python",
   "pygments_lexer": "ipython3",
   "version": "3.8.8"
  },
  "vp": {
   "base_numbering": 1,
   "nav_menu": {},
   "number_sections": true,
   "sideBar": true,
   "title_cell": "VisualPython",
   "title_sidebar": "VisualPython",
   "vpPosition": {
    "height": "calc(100% - 180px)",
    "right": "10px",
    "top": "110px",
    "width": "50%"
   },
   "vp_cell": false,
   "vp_section_display": true,
   "vp_window_display": false
  }
 },
 "nbformat": 4,
 "nbformat_minor": 5
}
