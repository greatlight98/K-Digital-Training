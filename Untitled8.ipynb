{
 "cells": [
  {
   "cell_type": "code",
   "execution_count": 4,
   "id": "d2163023",
   "metadata": {},
   "outputs": [
    {
     "ename": "IndentationError",
     "evalue": "unexpected indent (<ipython-input-4-a11e5a363948>, line 12)",
     "output_type": "error",
     "traceback": [
      "\u001b[1;36m  File \u001b[1;32m\"<ipython-input-4-a11e5a363948>\"\u001b[1;36m, line \u001b[1;32m12\u001b[0m\n\u001b[1;33m    for student in students:\u001b[0m\n\u001b[1;37m    ^\u001b[0m\n\u001b[1;31mIndentationError\u001b[0m\u001b[1;31m:\u001b[0m unexpected indent\n"
     ]
    }
   ],
   "source": [
    "students =[\n",
    "    {\"name\": \"양진욱\", \"korean\": 100, \"math\":70, \"english\": 100, \"science\":80},\n",
    "    {\"name\": \"양선욱\", \"korean\": 90, \"math\":90, \"english\": 100, \"science\":92},\n",
    "    {\"name\": \"양미욱\", \"korean\": 80, \"math\":70, \"english\": 100, \"science\":80},\n",
    "    {\"name\": \"양자욱\", \"korean\": 70, \"math\":80, \"english\": 100, \"science\":80},\n",
    "    {\"name\": \"양정욱\", \"korean\": 60, \"math\":60, \"english\": 100, \"science\":80},\n",
    "    {\"name\": \"양태욱\", \"korean\": 100, \"math\":50, \"english\": 100, \"science\":80}    \n",
    "]\n",
    "\n",
    "print(\"이름\", \"총점\", \"평균\", sep=\"\\t\")\n",
    "     \n",
    "    for student in students:\n",
    "        score_sum = student[\"korean\"]+student[\"math\"]+\\\n",
    "            student[\"english\"]+student[\"science\"]\n",
    "        score_average = score_sum / 4\n",
    "        print(student[\"name\"], score_sum, score_average,sep=\"\\t\")"
   ]
  },
  {
   "cell_type": "code",
   "execution_count": 5,
   "id": "93fbb0c8",
   "metadata": {},
   "outputs": [
    {
     "name": "stdout",
     "output_type": "stream",
     "text": [
      "이름\t총점\t평균\n",
      "윤인성\t368\t92.0\n",
      "연하진\t384\t96.0\n",
      "구지연\t358\t89.5\n",
      "나선주\t378\t94.5\n",
      "윤아린\t389\t97.25\n",
      "윤명월\t336\t84.0\n"
     ]
    }
   ],
   "source": [
    "def creat_student(name, korean, math, english, science):\n",
    "    return{\n",
    "        \"name\":name,\n",
    "        \"korean\":korean,\n",
    "        \"math\":math,\n",
    "        \"english\":english,\n",
    "        \"science\":science\n",
    "    }\n",
    "students = [\n",
    "    creat_student(\"윤인성\", 87,98,88,95),\n",
    "    creat_student(\"연하진\", 92,98,96,98),\n",
    "    creat_student(\"구지연\", 76,96,94,92),\n",
    "    creat_student(\"나선주\", 98,92,96,92),\n",
    "    creat_student(\"윤아린\", 95,98,98,98),\n",
    "    creat_student(\"윤명월\", 64,88,92,92)\n",
    "]\n",
    "\n",
    "print(\"이름\", \"총점\", \"평균\", sep=\"\\t\")\n",
    "for student in students:\n",
    "    score_sum = student[\"korean\"]+student[\"math\"]+\\\n",
    "        student[\"english\"]+student[\"science\"]\n",
    "    score_average = score_sum / 4\n",
    "    \n",
    "    print(student[\"name\"], score_sum, score_average, sep=\"\\t\")"
   ]
  },
  {
   "cell_type": "code",
   "execution_count": 7,
   "id": "a391281f",
   "metadata": {},
   "outputs": [
    {
     "name": "stdout",
     "output_type": "stream",
     "text": [
      "이름\t총점\t평균\n",
      "윤인성\t368\t92.0\n",
      "연하진\t384\t96.0\n",
      "구지연\t356\t89.0\n",
      "나선주\t378\t94.5\n",
      "윤아린\t389\t97.25\n",
      "윤명월\t336\t84.0\n"
     ]
    }
   ],
   "source": [
    "def create_student(name,korean,math, english, science):\n",
    "    return {\n",
    "        \"name\": name,\n",
    "        \"korean\": korean,\n",
    "        \"math\": math,\n",
    "        \"english\": english,\n",
    "        \"science\": science\n",
    "    }\n",
    "\n",
    "def student_get_sum(student):\n",
    "    return student[\"korean\"] + student[\"math\"] +\\\n",
    "        student[\"english\"] + student[\"science\"]\n",
    "\n",
    "def student_get_average(student):\n",
    "    return student_get_sum(student) /4\n",
    "\n",
    "def student_to_string(student):\n",
    "    return \"{}\\t{}\\t{}\".format(\n",
    "        student[\"name\"],\n",
    "        student_get_sum(student),\n",
    "        student_get_average(student))\n",
    "\n",
    "students = [\n",
    "    create_student(\"윤인성\", 87,98,88,95),\n",
    "    create_student(\"연하진\", 92,98,96,98),\n",
    "    create_student(\"구지연\", 76,96,94,90),\n",
    "    create_student(\"나선주\", 98,92,96,92),\n",
    "    create_student(\"윤아린\", 95,98,98,98),\n",
    "    create_student(\"윤명월\", 64,88,92,92),\n",
    "]   \n",
    "print(\"이름\", \"총점\", \"평균\", sep=\"\\t\")\n",
    "for student in students:\n",
    "    print(student_to_string(student))\n"
   ]
  },
  {
   "cell_type": "code",
   "execution_count": 11,
   "id": "493a4120",
   "metadata": {},
   "outputs": [
    {
     "data": {
      "text/plain": [
       "95"
      ]
     },
     "execution_count": 11,
     "metadata": {},
     "output_type": "execute_result"
    }
   ],
   "source": [
    "class student:\n",
    "    def __init__(self, name, korean, math, english, science):\n",
    "        self.name=name\n",
    "        self.korean=korean\n",
    "        self.math=math\n",
    "        self.english=english\n",
    "        self.science=science\n",
    "        \n",
    "students = [\n",
    "    student(\"윤인성\", 87,98,88,95),\n",
    "    student(\"연하진\", 92,98,96,98),\n",
    "    student(\"구지연\", 76,96,94,90),\n",
    "    student(\"나선주\", 98,92,96,92),\n",
    "    student(\"윤아린\", 95,98,98,98),\n",
    "    student(\"윤명월\", 64,88,92,92)\n",
    "]   \n",
    "\n",
    "students[0].name\n",
    "students[0].korean\n",
    "students[0].math\n",
    "students[0].english\n",
    "students[0].science\n"
   ]
  },
  {
   "cell_type": "code",
   "execution_count": 12,
   "id": "1f265b25",
   "metadata": {},
   "outputs": [
    {
     "name": "stdout",
     "output_type": "stream",
     "text": [
      "윤인성\n",
      "87\n",
      "98\n",
      "88\n",
      "95\n"
     ]
    }
   ],
   "source": [
    "print(students[0].name)\n",
    "print(students[0].korean)\n",
    "print(students[0].math)\n",
    "print(students[0].english)\n",
    "print(students[0].science)"
   ]
  },
  {
   "cell_type": "code",
   "execution_count": null,
   "id": "9b113cd9",
   "metadata": {},
   "outputs": [],
   "source": []
  }
 ],
 "metadata": {
  "kernelspec": {
   "display_name": "Python 3",
   "language": "python",
   "name": "python3"
  },
  "language_info": {
   "codemirror_mode": {
    "name": "ipython",
    "version": 3
   },
   "file_extension": ".py",
   "mimetype": "text/x-python",
   "name": "python",
   "nbconvert_exporter": "python",
   "pygments_lexer": "ipython3",
   "version": "3.8.8"
  }
 },
 "nbformat": 4,
 "nbformat_minor": 5
}
