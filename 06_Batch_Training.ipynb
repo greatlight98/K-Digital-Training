{
 "cells": [
  {
   "cell_type": "code",
   "execution_count": 1,
   "metadata": {},
   "outputs": [
    {
     "data": {
      "text/plain": [
       "<torch._C.Generator at 0x7f59b1f9d510>"
      ]
     },
     "execution_count": 1,
     "metadata": {},
     "output_type": "execute_result"
    }
   ],
   "source": [
    "import torch\n",
    "import torch.utils.data as Data\n",
    "\n",
    "torch.manual_seed(6)"
   ]
  },
  {
   "cell_type": "markdown",
   "metadata": {},
   "source": [
    "## Create Dataset"
   ]
  },
  {
   "cell_type": "code",
   "execution_count": 2,
   "metadata": {},
   "outputs": [
    {
     "data": {
      "text/plain": [
       "tensor([[ 1., 10.],\n",
       "        [ 2.,  9.],\n",
       "        [ 3.,  8.],\n",
       "        [ 4.,  7.],\n",
       "        [ 5.,  6.],\n",
       "        [ 6.,  5.],\n",
       "        [ 7.,  4.],\n",
       "        [ 8.,  3.],\n",
       "        [ 9.,  2.],\n",
       "        [10.,  1.]])"
      ]
     },
     "execution_count": 2,
     "metadata": {},
     "output_type": "execute_result"
    }
   ],
   "source": [
    "x = torch.linspace(1,10,10)\n",
    "y = torch.linspace(10,1,10)\n",
    "torch.cat((x.view(len(x),-1),y.view(len(y),-1)),1)"
   ]
  },
  {
   "cell_type": "code",
   "execution_count": 3,
   "metadata": {},
   "outputs": [],
   "source": [
    "dataset = Data.TensorDataset(x, y)"
   ]
  },
  {
   "cell_type": "markdown",
   "metadata": {},
   "source": [
    "## DataLoader"
   ]
  },
  {
   "cell_type": "code",
   "execution_count": 4,
   "metadata": {},
   "outputs": [],
   "source": [
    "BATCH_SIZE =  5\n",
    "\n",
    "loader = Data.DataLoader(\n",
    "    dataset=dataset,\n",
    "    batch_size=BATCH_SIZE,\n",
    "    shuffle=True,\n",
    "    num_workers=1,\n",
    ")"
   ]
  },
  {
   "cell_type": "code",
   "execution_count": 5,
   "metadata": {},
   "outputs": [
    {
     "name": "stdout",
     "output_type": "stream",
     "text": [
      "Epoch :  0 | Step 0 | batch x : [ 4.  1.  5.  2. 10.] | bactch y :  [ 7. 10.  6.  9.  1.]\n",
      "Epoch :  0 | Step 1 | batch x : [7. 6. 8. 3. 9.] | bactch y :  [4. 5. 3. 8. 2.]\n",
      "Epoch :  1 | Step 0 | batch x : [ 6.  9.  5.  3. 10.] | bactch y :  [5. 2. 6. 8. 1.]\n",
      "Epoch :  1 | Step 1 | batch x : [2. 1. 8. 4. 7.] | bactch y :  [ 9. 10.  3.  7.  4.]\n",
      "Epoch :  2 | Step 0 | batch x : [3. 6. 2. 1. 7.] | bactch y :  [ 8.  5.  9. 10.  4.]\n",
      "Epoch :  2 | Step 1 | batch x : [ 8.  4.  9. 10.  5.] | bactch y :  [3. 7. 2. 1. 6.]\n"
     ]
    }
   ],
   "source": [
    "for epoch in range(3):\n",
    "    for step, (batch_x, batch_y) in enumerate(loader):\n",
    "        print('Epoch : ',epoch,'| Step', step, '| batch x :', batch_x.numpy(), \"| bactch y : \",batch_y.numpy())"
   ]
  },
  {
   "cell_type": "code",
   "execution_count": 6,
   "metadata": {},
   "outputs": [
    {
     "name": "stdout",
     "output_type": "stream",
     "text": [
      "Epoch:  0 | Step:  0 | batch x:  [ 1. 10.  8.  2.  4.  3.  6.  9.] | batch y:  [10.  1.  3.  9.  7.  8.  5.  2.]\n",
      "Epoch:  0 | Step:  1 | batch x:  [7. 5.] | batch y:  [4. 6.]\n",
      "Epoch:  1 | Step:  0 | batch x:  [ 5.  8.  6.  2.  9.  3. 10.  7.] | batch y:  [6. 3. 5. 9. 2. 8. 1. 4.]\n",
      "Epoch:  1 | Step:  1 | batch x:  [4. 1.] | batch y:  [ 7. 10.]\n",
      "Epoch:  2 | Step:  0 | batch x:  [5. 3. 2. 6. 7. 1. 9. 4.] | batch y:  [ 6.  8.  9.  5.  4. 10.  2.  7.]\n",
      "Epoch:  2 | Step:  1 | batch x:  [ 8. 10.] | batch y:  [3. 1.]\n"
     ]
    }
   ],
   "source": [
    "BATCH_SIZE = 8\n",
    "\n",
    "loader = Data.DataLoader(\n",
    "    dataset=dataset,      # torch TensorDataset format\n",
    "    batch_size=BATCH_SIZE,      # mini batch size\n",
    "    shuffle=True,               # random shuffle for training\n",
    "    num_workers=1,              # subprocesses for loading data\n",
    ")\n",
    "\n",
    "for epoch in range(3):   # train entire dataset 3 times\n",
    "    for step, (batch_x, batch_y) in enumerate(loader):  # for each training step\n",
    "        \n",
    "        # train your data...\n",
    "        \n",
    "        print('Epoch: ', epoch, '| Step: ', step, '| batch x: ',\n",
    "              batch_x.numpy(), '| batch y: ', batch_y.numpy())"
   ]
  },
  {
   "cell_type": "markdown",
   "metadata": {},
   "source": [
    "## Create dataset from Image"
   ]
  },
  {
   "cell_type": "code",
   "execution_count": 7,
   "metadata": {},
   "outputs": [
    {
     "name": "stdout",
     "output_type": "stream",
     "text": [
      "['bird', 'mountain']\n",
      "{'bird': 0, 'mountain': 1}\n",
      "[('./images/bird/5f708a660eef3c4762c5a4a232f76db0.jpg', 0), ('./images/bird/c012c9fc6a99dcc00cfd89867f22a1c6.jpg', 0), ('./images/mountain/926c079396486b16944a44e6fa395bd6.jpg', 1), ('./images/mountain/b3e291f866f1c8754a5eb7fa51e72a0a.jpg', 1), ('./images/mountain/bd5fdf64757acb56a5c336f1e7bdbbb3.jpg', 1), ('./images/mountain/f7d40a84a44897f83ab8722254bd0551.jpg', 1)]\n"
     ]
    },
    {
     "name": "stderr",
     "output_type": "stream",
     "text": [
      "/home/cloudera/.local/lib/python3.6/site-packages/torchvision/transforms/transforms.py:704: UserWarning: The use of the transforms.RandomSizedCrop transform is deprecated, please use transforms.RandomResizedCrop instead.\n",
      "  \"please use transforms.RandomResizedCrop instead.\")\n"
     ]
    }
   ],
   "source": [
    "import torchvision\n",
    "import torchvision.datasets as dsets\n",
    "import torchvision.transforms as transforms\n",
    "\n",
    "img_dir = \"./images\"        # 여기의 bird, mountain 폴더명을 class로 인식하고, 그 속의 사진들을 학습데이터로 활용\n",
    "img_data = dsets.ImageFolder(img_dir, transforms.Compose([\n",
    "            transforms.RandomSizedCrop(224),\n",
    "            transforms.RandomHorizontalFlip(),\n",
    "            transforms.ToTensor(),\n",
    "            ]))\n",
    "\n",
    "print(img_data.classes)       # ['bird', 'mountain']\n",
    "print(img_data.class_to_idx)  # {'bird': 0, 'mountain': 1}\n",
    "print(img_data.imgs)          # [(이미지명, class), (이미지명, class), ...]"
   ]
  },
  {
   "cell_type": "markdown",
   "metadata": {},
   "source": [
    "## DataLoader"
   ]
  },
  {
   "cell_type": "code",
   "execution_count": 8,
   "metadata": {},
   "outputs": [
    {
     "name": "stdout",
     "output_type": "stream",
     "text": [
      "torch.Size([3, 3, 224, 224])\n",
      "tensor([1, 1, 1])\n",
      "torch.Size([3, 3, 224, 224])\n",
      "tensor([0, 0, 1])\n"
     ]
    }
   ],
   "source": [
    "loader = Data.DataLoader(img_data, batch_size=3,\n",
    "                            shuffle=True, num_workers=1)\n",
    "\n",
    "for img,label in loader:\n",
    "    print(img.size())\n",
    "    print(label)           # batch_size만큼의 class index값들"
   ]
  },
  {
   "cell_type": "markdown",
   "metadata": {},
   "source": [
    "## Defined Dataset"
   ]
  },
  {
   "cell_type": "code",
   "execution_count": 9,
   "metadata": {
    "scrolled": true
   },
   "outputs": [
    {
     "name": "stdout",
     "output_type": "stream",
     "text": [
      "torch.Size([1, 28, 28])\n",
      "5\n"
     ]
    }
   ],
   "source": [
    "# MNIST Dataset \n",
    "train_dataset = dsets.MNIST(root='./data', \n",
    "                            train=True, \n",
    "                            transform=transforms.ToTensor(),  \n",
    "                            download=True)\n",
    "\n",
    "image, label = train_dataset[0]\n",
    "print (image.size())\n",
    "print (label)"
   ]
  },
  {
   "cell_type": "code",
   "execution_count": 10,
   "metadata": {},
   "outputs": [
    {
     "data": {
      "text/plain": [
       "torch.Size([100, 1, 28, 28])"
      ]
     },
     "execution_count": 10,
     "metadata": {},
     "output_type": "execute_result"
    }
   ],
   "source": [
    "train_loader = torch.utils.data.DataLoader(dataset=train_dataset,\n",
    "                                          batch_size=100,\n",
    "                                          shuffle=True,\n",
    "                                          num_workers=2)\n",
    "\n",
    "data_iter = iter(train_loader)\n",
    "\n",
    "images, labels = data_iter.next()\n",
    "\n",
    "for images, labels in train_loader:\n",
    "    pass\n",
    "\n",
    "images.size()"
   ]
  },
  {
   "cell_type": "markdown",
   "metadata": {},
   "source": [
    "# You should build custom dataset as below.\n",
    "\n",
    "# 이 cell을 바로 cell 형태로 바꾸고 수정하면 됨\n",
    "class CustomDataset(Data.Dataset):\n",
    "    def __init__(self):\n",
    "        # TODO\n",
    "        # 1. Initialize file path or list of file names. \n",
    "        pass\n",
    "    def __getitem__(self, index):\n",
    "        # TODO\n",
    "        # 1. Read one data from file (e.g. using numpy.fromfile, PIL.Image.open).\n",
    "        # 2. Preprocess the data (e.g. torchvision.Transform).\n",
    "        # 3. Return a data pair (e.g. image and label).\n",
    "        pass\n",
    "    def __len__(self):\n",
    "        # You should change 0 to the total size of your dataset.\n",
    "        return 0 \n",
    "\n",
    "# Then, you can just use prebuilt torch's data loader. \n",
    "custom_dataset = CustomDataset()\n",
    "train_loader = Data.DataLoader(dataset=custom_dataset,\n",
    "                                           batch_size=100, \n",
    "                                           shuffle=True,\n",
    "                                           num_workers=2)"
   ]
  },
  {
   "cell_type": "code",
   "execution_count": 11,
   "metadata": {
    "scrolled": true
   },
   "outputs": [
    {
     "name": "stderr",
     "output_type": "stream",
     "text": [
      "Downloading: \"https://download.pytorch.org/models/resnet18-5c106cde.pth\" to /home/cloudera/.cache/torch/checkpoints/resnet18-5c106cde.pth\n"
     ]
    },
    {
     "data": {
      "application/vnd.jupyter.widget-view+json": {
       "model_id": "7498d62cbe774e9aa09d75209b2218db",
       "version_major": 2,
       "version_minor": 0
      },
      "text/plain": [
       "HBox(children=(FloatProgress(value=0.0, max=46827520.0), HTML(value='')))"
      ]
     },
     "metadata": {},
     "output_type": "display_data"
    },
    {
     "name": "stdout",
     "output_type": "stream",
     "text": [
      "\n",
      "torch.Size([10, 100])\n"
     ]
    }
   ],
   "source": [
    "#========================== Using pretrained model ==========================#\n",
    "# Download and load pretrained resnet.\n",
    "resnet = torchvision.models.resnet18(pretrained=True)\n",
    "\n",
    "# If you want to finetune only top layer of the model.\n",
    "for param in resnet.parameters():\n",
    "    param.requires_grad = False\n",
    "    \n",
    "# Replace top layer for finetuning.\n",
    "resnet.fc = torch.nn.Linear(resnet.fc.in_features, 100)  # 100 is for example.\n",
    "\n",
    "# For test.\n",
    "images = torch.autograd.Variable(torch.randn(10, 3, 256, 256))\n",
    "outputs = resnet(images)\n",
    "print (outputs.size())   # (10, 100)"
   ]
  }
 ],
 "metadata": {
  "kernelspec": {
   "display_name": "Python 3",
   "language": "python",
   "name": "python3"
  },
  "language_info": {
   "codemirror_mode": {
    "name": "ipython",
    "version": 3
   },
   "file_extension": ".py",
   "mimetype": "text/x-python",
   "name": "python",
   "nbconvert_exporter": "python",
   "pygments_lexer": "ipython3",
   "version": "3.6.9"
  }
 },
 "nbformat": 4,
 "nbformat_minor": 2
}
