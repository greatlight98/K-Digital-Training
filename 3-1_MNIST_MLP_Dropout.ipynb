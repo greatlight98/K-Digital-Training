{
 "cells": [
  {
   "cell_type": "code",
   "execution_count": 1,
   "metadata": {},
   "outputs": [],
   "source": [
    "''' 1. Module Import '''\n",
    "import numpy as np\n",
    "import matplotlib.pyplot as plt\n",
    "\n",
    "import torch\n",
    "import torch.nn as nn\n",
    "import torch.nn.functional as F\n",
    "from torchvision import transforms, datasets"
   ]
  },
  {
   "cell_type": "code",
   "execution_count": 2,
   "metadata": {},
   "outputs": [
    {
     "name": "stdout",
     "output_type": "stream",
     "text": [
      "Using PyTorch version: 1.5.0+cu101  Device: cuda\n"
     ]
    }
   ],
   "source": [
    "''' 2. 딥러닝 모델을 설계할 때 활용하는 장비 확인 '''\n",
    "if torch.cuda.is_available():\n",
    "    DEVICE = torch.device('cuda')\n",
    "else:\n",
    "    DEVICE = torch.device('cpu')\n",
    "print('Using PyTorch version:', torch.__version__, ' Device:', DEVICE)"
   ]
  },
  {
   "cell_type": "code",
   "execution_count": 3,
   "metadata": {},
   "outputs": [],
   "source": [
    "BATCH_SIZE = 32\n",
    "EPOCHS = 10"
   ]
  },
  {
   "cell_type": "code",
   "execution_count": 4,
   "metadata": {},
   "outputs": [],
   "source": [
    "''' 3. MNIST 데이터 다운로드 (Train set, Test set 분리하기) '''\n",
    "train_dataset = datasets.MNIST(root = \"../data/MNIST\",\n",
    "                               train = True,\n",
    "                               download = True,\n",
    "                               transform = transforms.ToTensor())\n",
    "\n",
    "test_dataset = datasets.MNIST(root = \"../data/MNIST\",\n",
    "                              train = False,\n",
    "                              transform = transforms.ToTensor())\n",
    "\n",
    "train_loader = torch.utils.data.DataLoader(dataset = train_dataset,\n",
    "                                           batch_size = BATCH_SIZE,\n",
    "                                           shuffle = True)\n",
    "\n",
    "test_loader = torch.utils.data.DataLoader(dataset = test_dataset,\n",
    "                                          batch_size = BATCH_SIZE,\n",
    "                                          shuffle = False)"
   ]
  },
  {
   "cell_type": "code",
   "execution_count": 5,
   "metadata": {},
   "outputs": [
    {
     "name": "stdout",
     "output_type": "stream",
     "text": [
      "X_train: torch.Size([32, 1, 28, 28]) type: torch.FloatTensor\n",
      "y_train: torch.Size([32]) type: torch.LongTensor\n"
     ]
    }
   ],
   "source": [
    "''' 4. 데이터 확인하기 (1) '''\n",
    "for (X_train, y_train) in train_loader:\n",
    "    print('X_train:', X_train.size(), 'type:', X_train.type())\n",
    "    print('y_train:', y_train.size(), 'type:', y_train.type())\n",
    "    break"
   ]
  },
  {
   "cell_type": "code",
   "execution_count": 6,
   "metadata": {},
   "outputs": [
    {
     "data": {
      "image/png": "[encoded data removed]",
      "text/plain": [
       "<Figure size 720x72 with 10 Axes>"
      ]
     },
     "metadata": {
      "needs_background": "light"
     },
     "output_type": "display_data"
    }
   ],
   "source": [
    "''' 5. 데이터 확인하기 (2) '''\n",
    "pltsize = 1\n",
    "plt.figure(figsize=(10 * pltsize, pltsize))\n",
    "for i in range(10):\n",
    "    plt.subplot(1, 10, i + 1)\n",
    "    plt.axis('off')\n",
    "    plt.imshow(X_train[i, :, :, :].numpy().reshape(28, 28), cmap = \"gray_r\")\n",
    "    plt.title('Class: ' + str(y_train[i].item()))"
   ]
  },
  {
   "cell_type": "code",
   "execution_count": 7,
   "metadata": {},
   "outputs": [],
   "source": [
    "''' 6. Multi Layer Perceptron (MLP) 모델 설계하기 '''\n",
    "class Net(nn.Module):\n",
    "    def __init__(self):\n",
    "        super(Net, self).__init__()\n",
    "        self.fc1 = nn.Linear(28 * 28, 512)\n",
    "        self.fc2 = nn.Linear(512, 256)\n",
    "        self.fc3 = nn.Linear(256, 10)\n",
    "        self.dropout_prob = 0.5\n",
    "\n",
    "    def forward(self, x):\n",
    "        x = x.view(-1, 28 * 28)\n",
    "        x = self.fc1(x)\n",
    "        x = F.sigmoid(x)\n",
    "        x = F.dropout(x, training = self.training, p = self.dropout_prob)\n",
    "        x = self.fc2(x)\n",
    "        x = F.sigmoid(x)\n",
    "        x = F.dropout(x, training = self.training, p = self.dropout_prob)\n",
    "        x = self.fc3(x)\n",
    "        x = F.log_softmax(x, dim = 1)\n",
    "        return x"
   ]
  },
  {
   "cell_type": "code",
   "execution_count": 8,
   "metadata": {},
   "outputs": [
    {
     "name": "stdout",
     "output_type": "stream",
     "text": [
      "Net(\n",
      "  (fc1): Linear(in_features=784, out_features=512, bias=True)\n",
      "  (fc2): Linear(in_features=512, out_features=256, bias=True)\n",
      "  (fc3): Linear(in_features=256, out_features=10, bias=True)\n",
      ")\n"
     ]
    }
   ],
   "source": [
    "''' 7. Optimizer, Objective Function 설정하기 '''\n",
    "model = Net().to(DEVICE)\n",
    "optimizer = torch.optim.SGD(model.parameters(), lr = 0.01, momentum = 0.5)\n",
    "criterion = nn.CrossEntropyLoss()\n",
    "\n",
    "print(model)"
   ]
  },
  {
   "cell_type": "code",
   "execution_count": 9,
   "metadata": {},
   "outputs": [],
   "source": [
    "''' 8. MLP 모델 학습을 진행하며 학습 데이터에 대한 모델 성능을 확인하는 함수 정의 '''\n",
    "def train(model, train_loader, optimizer, log_interval):\n",
    "    model.train()\n",
    "    for batch_idx, (image, label) in enumerate(train_loader):\n",
    "        image = image.to(DEVICE)\n",
    "        label = label.to(DEVICE)\n",
    "        optimizer.zero_grad()\n",
    "        output = model(image)\n",
    "        loss = criterion(output, label)\n",
    "        loss.backward()\n",
    "        optimizer.step()\n",
    "\n",
    "        if batch_idx % log_interval == 0:\n",
    "            print(\"Train Epoch: {} [{}/{} ({:.0f}%)]\\tTrain Loss: {:.6f}\".format(\n",
    "                epoch, batch_idx * len(image), \n",
    "                len(train_loader.dataset), 100. * batch_idx / len(train_loader), \n",
    "                loss.item()))"
   ]
  },
  {
   "cell_type": "code",
   "execution_count": 10,
   "metadata": {},
   "outputs": [],
   "source": [
    "''' 9. 학습되는 과정 속에서 검증 데이터에 대한 모델 성능을 확인하는 함수 정의 '''\n",
    "def evaluate(model, test_loader):\n",
    "    model.eval()\n",
    "    test_loss = 0\n",
    "    correct = 0\n",
    "\n",
    "    with torch.no_grad():\n",
    "        for image, label in test_loader:\n",
    "            image = image.to(DEVICE)\n",
    "            label = label.to(DEVICE)\n",
    "            output = model(image)\n",
    "            test_loss += criterion(output, label).item()\n",
    "            prediction = output.max(1, keepdim = True)[1]\n",
    "            correct += prediction.eq(label.view_as(prediction)).sum().item()\n",
    "    \n",
    "    test_loss /= len(test_loader.dataset)\n",
    "    test_accuracy = 100. * correct / len(test_loader.dataset)\n",
    "    return test_loss, test_accuracy"
   ]
  },
  {
   "cell_type": "code",
   "execution_count": 11,
   "metadata": {},
   "outputs": [
    {
     "name": "stderr",
     "output_type": "stream",
     "text": [
      "c:\\users\\justin\\101\\lib\\site-packages\\torch\\nn\\functional.py:1569: UserWarning: nn.functional.sigmoid is deprecated. Use torch.sigmoid instead.\n",
      "  warnings.warn(\"nn.functional.sigmoid is deprecated. Use torch.sigmoid instead.\")\n"
     ]
    },
    {
     "name": "stdout",
     "output_type": "stream",
     "text": [
      "Train Epoch: 1 [0/60000 (0%)]\tTrain Loss: 2.324434\n",
      "Train Epoch: 1 [6400/60000 (11%)]\tTrain Loss: 2.338529\n",
      "Train Epoch: 1 [12800/60000 (21%)]\tTrain Loss: 2.288512\n",
      "Train Epoch: 1 [19200/60000 (32%)]\tTrain Loss: 2.332522\n",
      "Train Epoch: 1 [25600/60000 (43%)]\tTrain Loss: 2.318685\n",
      "Train Epoch: 1 [32000/60000 (53%)]\tTrain Loss: 2.302085\n",
      "Train Epoch: 1 [38400/60000 (64%)]\tTrain Loss: 2.285868\n",
      "Train Epoch: 1 [44800/60000 (75%)]\tTrain Loss: 2.341634\n",
      "Train Epoch: 1 [51200/60000 (85%)]\tTrain Loss: 2.212806\n",
      "Train Epoch: 1 [57600/60000 (96%)]\tTrain Loss: 2.257275\n",
      "\n",
      "[EPOCH: 1], \tTest Loss: 0.0713, \tTest Accuracy: 9.82 % \n",
      "\n",
      "Train Epoch: 2 [0/60000 (0%)]\tTrain Loss: 2.258337\n",
      "Train Epoch: 2 [6400/60000 (11%)]\tTrain Loss: 2.333026\n",
      "Train Epoch: 2 [12800/60000 (21%)]\tTrain Loss: 2.291945\n",
      "Train Epoch: 2 [19200/60000 (32%)]\tTrain Loss: 2.268289\n",
      "Train Epoch: 2 [25600/60000 (43%)]\tTrain Loss: 2.291559\n",
      "Train Epoch: 2 [32000/60000 (53%)]\tTrain Loss: 2.221249\n",
      "Train Epoch: 2 [38400/60000 (64%)]\tTrain Loss: 2.238463\n",
      "Train Epoch: 2 [44800/60000 (75%)]\tTrain Loss: 2.151609\n",
      "Train Epoch: 2 [51200/60000 (85%)]\tTrain Loss: 2.122333\n",
      "Train Epoch: 2 [57600/60000 (96%)]\tTrain Loss: 2.125557\n",
      "\n",
      "[EPOCH: 2], \tTest Loss: 0.0637, \tTest Accuracy: 41.55 % \n",
      "\n",
      "Train Epoch: 3 [0/60000 (0%)]\tTrain Loss: 2.032844\n",
      "Train Epoch: 3 [6400/60000 (11%)]\tTrain Loss: 1.951005\n",
      "Train Epoch: 3 [12800/60000 (21%)]\tTrain Loss: 1.936269\n",
      "Train Epoch: 3 [19200/60000 (32%)]\tTrain Loss: 2.091372\n",
      "Train Epoch: 3 [25600/60000 (43%)]\tTrain Loss: 1.558741\n",
      "Train Epoch: 3 [32000/60000 (53%)]\tTrain Loss: 1.781546\n",
      "Train Epoch: 3 [38400/60000 (64%)]\tTrain Loss: 1.744651\n",
      "Train Epoch: 3 [44800/60000 (75%)]\tTrain Loss: 1.308294\n",
      "Train Epoch: 3 [51200/60000 (85%)]\tTrain Loss: 1.549780\n",
      "Train Epoch: 3 [57600/60000 (96%)]\tTrain Loss: 1.472562\n",
      "\n",
      "[EPOCH: 3], \tTest Loss: 0.0386, \tTest Accuracy: 60.86 % \n",
      "\n",
      "Train Epoch: 4 [0/60000 (0%)]\tTrain Loss: 1.352135\n",
      "Train Epoch: 4 [6400/60000 (11%)]\tTrain Loss: 0.993987\n",
      "Train Epoch: 4 [12800/60000 (21%)]\tTrain Loss: 1.295737\n",
      "Train Epoch: 4 [19200/60000 (32%)]\tTrain Loss: 1.176830\n",
      "Train Epoch: 4 [25600/60000 (43%)]\tTrain Loss: 1.203141\n",
      "Train Epoch: 4 [32000/60000 (53%)]\tTrain Loss: 1.242458\n",
      "Train Epoch: 4 [38400/60000 (64%)]\tTrain Loss: 1.034703\n",
      "Train Epoch: 4 [44800/60000 (75%)]\tTrain Loss: 1.197548\n",
      "Train Epoch: 4 [51200/60000 (85%)]\tTrain Loss: 0.900540\n",
      "Train Epoch: 4 [57600/60000 (96%)]\tTrain Loss: 1.219590\n",
      "\n",
      "[EPOCH: 4], \tTest Loss: 0.0278, \tTest Accuracy: 70.45 % \n",
      "\n",
      "Train Epoch: 5 [0/60000 (0%)]\tTrain Loss: 0.937945\n",
      "Train Epoch: 5 [6400/60000 (11%)]\tTrain Loss: 1.175873\n",
      "Train Epoch: 5 [12800/60000 (21%)]\tTrain Loss: 0.767598\n",
      "Train Epoch: 5 [19200/60000 (32%)]\tTrain Loss: 0.894763\n",
      "Train Epoch: 5 [25600/60000 (43%)]\tTrain Loss: 0.938130\n",
      "Train Epoch: 5 [32000/60000 (53%)]\tTrain Loss: 0.877489\n",
      "Train Epoch: 5 [38400/60000 (64%)]\tTrain Loss: 0.876306\n",
      "Train Epoch: 5 [44800/60000 (75%)]\tTrain Loss: 1.144778\n",
      "Train Epoch: 5 [51200/60000 (85%)]\tTrain Loss: 0.968826\n",
      "Train Epoch: 5 [57600/60000 (96%)]\tTrain Loss: 0.806779\n",
      "\n",
      "[EPOCH: 5], \tTest Loss: 0.0238, \tTest Accuracy: 75.79 % \n",
      "\n",
      "Train Epoch: 6 [0/60000 (0%)]\tTrain Loss: 0.850637\n",
      "Train Epoch: 6 [6400/60000 (11%)]\tTrain Loss: 0.780680\n",
      "Train Epoch: 6 [12800/60000 (21%)]\tTrain Loss: 0.627178\n",
      "Train Epoch: 6 [19200/60000 (32%)]\tTrain Loss: 0.897009\n",
      "Train Epoch: 6 [25600/60000 (43%)]\tTrain Loss: 0.629132\n",
      "Train Epoch: 6 [32000/60000 (53%)]\tTrain Loss: 0.920290\n",
      "Train Epoch: 6 [38400/60000 (64%)]\tTrain Loss: 0.712031\n",
      "Train Epoch: 6 [44800/60000 (75%)]\tTrain Loss: 0.719193\n",
      "Train Epoch: 6 [51200/60000 (85%)]\tTrain Loss: 0.686446\n",
      "Train Epoch: 6 [57600/60000 (96%)]\tTrain Loss: 0.744999\n",
      "\n",
      "[EPOCH: 6], \tTest Loss: 0.0207, \tTest Accuracy: 79.92 % \n",
      "\n",
      "Train Epoch: 7 [0/60000 (0%)]\tTrain Loss: 0.658721\n",
      "Train Epoch: 7 [6400/60000 (11%)]\tTrain Loss: 0.782523\n",
      "Train Epoch: 7 [12800/60000 (21%)]\tTrain Loss: 0.586627\n",
      "Train Epoch: 7 [19200/60000 (32%)]\tTrain Loss: 0.774048\n",
      "Train Epoch: 7 [25600/60000 (43%)]\tTrain Loss: 0.729373\n",
      "Train Epoch: 7 [32000/60000 (53%)]\tTrain Loss: 0.493582\n",
      "Train Epoch: 7 [38400/60000 (64%)]\tTrain Loss: 0.536831\n",
      "Train Epoch: 7 [44800/60000 (75%)]\tTrain Loss: 0.401144\n",
      "Train Epoch: 7 [51200/60000 (85%)]\tTrain Loss: 0.537556\n",
      "Train Epoch: 7 [57600/60000 (96%)]\tTrain Loss: 0.819655\n",
      "\n",
      "[EPOCH: 7], \tTest Loss: 0.0179, \tTest Accuracy: 83.28 % \n",
      "\n",
      "Train Epoch: 8 [0/60000 (0%)]\tTrain Loss: 0.646168\n",
      "Train Epoch: 8 [6400/60000 (11%)]\tTrain Loss: 0.721677\n",
      "Train Epoch: 8 [12800/60000 (21%)]\tTrain Loss: 0.602421\n",
      "Train Epoch: 8 [19200/60000 (32%)]\tTrain Loss: 0.499107\n",
      "Train Epoch: 8 [25600/60000 (43%)]\tTrain Loss: 0.615745\n",
      "Train Epoch: 8 [32000/60000 (53%)]\tTrain Loss: 0.639834\n",
      "Train Epoch: 8 [38400/60000 (64%)]\tTrain Loss: 0.637229\n",
      "Train Epoch: 8 [44800/60000 (75%)]\tTrain Loss: 0.585085\n",
      "Train Epoch: 8 [51200/60000 (85%)]\tTrain Loss: 0.917617\n",
      "Train Epoch: 8 [57600/60000 (96%)]\tTrain Loss: 0.418883\n",
      "\n",
      "[EPOCH: 8], \tTest Loss: 0.0160, \tTest Accuracy: 84.78 % \n",
      "\n",
      "Train Epoch: 9 [0/60000 (0%)]\tTrain Loss: 0.494160\n",
      "Train Epoch: 9 [6400/60000 (11%)]\tTrain Loss: 0.440416\n",
      "Train Epoch: 9 [12800/60000 (21%)]\tTrain Loss: 0.821933\n",
      "Train Epoch: 9 [19200/60000 (32%)]\tTrain Loss: 0.605580\n",
      "Train Epoch: 9 [25600/60000 (43%)]\tTrain Loss: 0.646261\n",
      "Train Epoch: 9 [32000/60000 (53%)]\tTrain Loss: 0.449263\n",
      "Train Epoch: 9 [38400/60000 (64%)]\tTrain Loss: 0.556921\n",
      "Train Epoch: 9 [44800/60000 (75%)]\tTrain Loss: 0.422072\n",
      "Train Epoch: 9 [51200/60000 (85%)]\tTrain Loss: 0.372938\n",
      "Train Epoch: 9 [57600/60000 (96%)]\tTrain Loss: 0.683000\n",
      "\n",
      "[EPOCH: 9], \tTest Loss: 0.0147, \tTest Accuracy: 85.97 % \n",
      "\n",
      "Train Epoch: 10 [0/60000 (0%)]\tTrain Loss: 0.677408\n",
      "Train Epoch: 10 [6400/60000 (11%)]\tTrain Loss: 0.560270\n",
      "Train Epoch: 10 [12800/60000 (21%)]\tTrain Loss: 0.628580\n",
      "Train Epoch: 10 [19200/60000 (32%)]\tTrain Loss: 0.584149\n",
      "Train Epoch: 10 [25600/60000 (43%)]\tTrain Loss: 0.507241\n",
      "Train Epoch: 10 [32000/60000 (53%)]\tTrain Loss: 0.541122\n",
      "Train Epoch: 10 [38400/60000 (64%)]\tTrain Loss: 0.753416\n",
      "Train Epoch: 10 [44800/60000 (75%)]\tTrain Loss: 0.626985\n",
      "Train Epoch: 10 [51200/60000 (85%)]\tTrain Loss: 0.845128\n",
      "Train Epoch: 10 [57600/60000 (96%)]\tTrain Loss: 0.695977\n",
      "\n",
      "[EPOCH: 10], \tTest Loss: 0.0137, \tTest Accuracy: 87.03 % \n",
      "\n"
     ]
    }
   ],
   "source": [
    "''' 10. MLP 학습 실행하며 Train, Test set의 Loss 및 Test set Accuracy 확인하기 '''\n",
    "for epoch in range(1, EPOCHS + 1):\n",
    "    train(model, train_loader, optimizer, log_interval = 200)\n",
    "    test_loss, test_accuracy = evaluate(model, test_loader)\n",
    "    print(\"\\n[EPOCH: {}], \\tTest Loss: {:.4f}, \\tTest Accuracy: {:.2f} % \\n\".format(\n",
    "        epoch, test_loss, test_accuracy))"
   ]
  },
  {
   "cell_type": "code",
   "execution_count": null,
   "metadata": {},
   "outputs": [],
   "source": []
  }
 ],
 "metadata": {
  "kernelspec": {
   "display_name": "Python 3",
   "language": "python",
   "name": "python3"
  },
  "language_info": {
   "codemirror_mode": {
    "name": "ipython",
    "version": 3
   },
   "file_extension": ".py",
   "mimetype": "text/x-python",
   "name": "python",
   "nbconvert_exporter": "python",
   "pygments_lexer": "ipython3",
   "version": "3.6.8"
  }
 },
 "nbformat": 4,
 "nbformat_minor": 4
}
