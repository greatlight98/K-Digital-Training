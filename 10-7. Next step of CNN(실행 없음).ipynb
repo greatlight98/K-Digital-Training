{
 "cells": [
  {
   "cell_type": "markdown",
   "metadata": {},
   "source": [
    "# 1. 자세히 알기\n",
    "### (1) Classification\n",
    " - 지금까지 수업시간에 배운 것이 Classification이다.\n",
    " - Classification : Input으로 사진이 주어지면, Output으로 사진의 카테고리를 분류해낸다.\n",
    " - ResNet, DenseNet, SENet, MobileNet(이미지의 사이즈를 줄여 모바일 기기 이용에 좋음), SqueezeNet, AutoML(NAS, NASNet) 등\n",
    "\n",
    "<br>\n",
    "\n",
    "### (2) Object Detection\n",
    " - Object Detection : Input으로 사진이 주어지면, Output으로 사진에서 객체가 어디있는지(Bounding Box)와 그 객체의 카테고리를 분류해낸다.\n",
    " - R-CNN, YOLOv3, Mask R-CNN, RetinaNet 등\n",
    "\n",
    "<br>\n",
    "\n",
    "### (3) Object tracking\n",
    " - Object tracking : 영상에서 각 프레임마다 detection을 적용해서 객체를 찾아내(Bounding Box)고 그 객체의 카테고리를 분류 해낸다. 프레임별로 객체를 계속 추적해 나가므로, 프레임간의 연간관계도 찾아낼 수 있다.\n",
    " - MDNet, GOTURN, CFNet, ROLO, Tracking the Untrackable 등\n",
    "\n",
    "<br>\n",
    "\n",
    "### (4) Segmentation\n",
    " - Segmentation : 객체의 아웃라인을 따서 배경과 분류해낸다.\n",
    " - FCN, U-Net, Mask R-CNN 등"
   ]
  },
  {
   "cell_type": "markdown",
   "metadata": {},
   "source": [
    "# 2. 컴퓨터 비젼, 앞으로는 어떤 걸 공부하면 좋을까?\n",
    " - 수업 끝까지 잘 듣고 직접 복습하기\n",
    " - PyTorch가 가지는 다양한 기능들 직접 사용해보기\n",
    " - Custom DataSet 만드는 방법 익히기\n",
    " - PyTorch가 제공하지 않는 데이터셋을 다운받아서 학습해보기(Tiny-ImageNet Challenge 등 추천)\n",
    " - Classification, Detection, Tracking, Segmentation, Image Captioning(이미지 설명), Super Resolution(저해상도 이미지를 고해상도로), Generative Model(Auto Encoder, GAN), OpenPose(사람의 관절 구조) 등\n",
    " \n",
    " "
   ]
  }
 ],
 "metadata": {
  "kernelspec": {
   "display_name": "Python 3",
   "language": "python",
   "name": "python3"
  },
  "language_info": {
   "codemirror_mode": {
    "name": "ipython",
    "version": 3
   },
   "file_extension": ".py",
   "mimetype": "text/x-python",
   "name": "python",
   "nbconvert_exporter": "python",
   "pygments_lexer": "ipython3",
   "version": "3.6.9"
  }
 },
 "nbformat": 4,
 "nbformat_minor": 2
}
