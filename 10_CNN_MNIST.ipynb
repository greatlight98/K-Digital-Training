{
 "cells": [
  {
   "cell_type": "code",
   "execution_count": 1,
   "metadata": {},
   "outputs": [],
   "source": [
    "import torch\n",
    "import torch.nn as nn\n",
    "import torchvision.datasets as dsets\n",
    "import torchvision.transforms as transforms\n",
    "from torch.autograd import Variable\n",
    "import os\n"
   ]
  },
  {
   "cell_type": "code",
   "execution_count": 2,
   "metadata": {},
   "outputs": [],
   "source": [
    "num_epochs = 5\n",
    "batch_size = 100\n",
    "learning_rate = 0.001\n",
    "\n",
    "train_dataset  = dsets.MNIST(root='./data/',\n",
    "                            train=True,\n",
    "                            transform=transforms.ToTensor(),\n",
    "                            download=True)\n",
    "\n",
    "test_dataset = dsets.MNIST(root='./data/',\n",
    "                          train=False,\n",
    "                          transform=transforms.ToTensor())\n",
    "\n",
    "train_loader  = torch.utils.data.DataLoader(dataset=train_dataset,\n",
    "                                           batch_size=batch_size,\n",
    "                                           shuffle=True)\n",
    "\n",
    "test_loader = torch.utils.data.DataLoader(dataset=test_dataset,\n",
    "                                         batch_size=batch_size,\n",
    "                                         shuffle=False)"
   ]
  },
  {
   "cell_type": "code",
   "execution_count": 3,
   "metadata": {},
   "outputs": [],
   "source": [
    "class CNN(nn.Module):\n",
    "    def __init__(self):\n",
    "        super(CNN, self).__init__()\n",
    "        \n",
    "        self.layer1 = nn.Sequential(\n",
    "            nn.Conv2d(1, 16, kernel_size=5, padding=2), #1 * 28 * 28 -> 16 * 28 * 28\n",
    "            nn.BatchNorm2d(16), #16 * 28 * 28\n",
    "            nn.ReLU(),                 #16 * 28 * 28\n",
    "            nn.MaxPool2d(2))       # 16 * 14 * 14\n",
    "        self.layer2  = nn.Sequential(\n",
    "            nn.Conv2d(16, 32, kernel_size=5, padding=2), # 16 * 14 * 14 -> 32 * 14 * 14\n",
    "            nn.BatchNorm2d(32),\n",
    "            nn.ReLU(),\n",
    "            nn.MaxPool2d(2))       # 32 * 7 * 7\n",
    "        self.fc = nn.Linear(32 * 7 * 7, 10)\n",
    "        \n",
    "    def forward(self, x):\n",
    "        out = self.layer1(x)\n",
    "        out = self.layer2(out)\n",
    "        out = out.view(out.size(0), -1)\n",
    "        out = self.fc(out)\n",
    "        return out\n",
    "    \n",
    "cnn = CNN()"
   ]
  },
  {
   "cell_type": "code",
   "execution_count": 4,
   "metadata": {
    "scrolled": true
   },
   "outputs": [
    {
     "name": "stdout",
     "output_type": "stream",
     "text": [
      "Epoch [1/5], lter [100/600] Loss: 0.1962\n",
      "Epoch [1/5], lter [200/600] Loss: 0.1328\n",
      "Epoch [1/5], lter [300/600] Loss: 0.0760\n",
      "Epoch [1/5], lter [400/600] Loss: 0.1075\n",
      "Epoch [1/5], lter [500/600] Loss: 0.2402\n",
      "Epoch [1/5], lter [600/600] Loss: 0.0304\n",
      "Epoch [2/5], lter [100/600] Loss: 0.0564\n",
      "Epoch [2/5], lter [200/600] Loss: 0.0171\n",
      "Epoch [2/5], lter [300/600] Loss: 0.0214\n",
      "Epoch [2/5], lter [400/600] Loss: 0.0145\n",
      "Epoch [2/5], lter [500/600] Loss: 0.0393\n",
      "Epoch [2/5], lter [600/600] Loss: 0.0162\n",
      "Epoch [3/5], lter [100/600] Loss: 0.0066\n",
      "Epoch [3/5], lter [200/600] Loss: 0.0461\n",
      "Epoch [3/5], lter [300/600] Loss: 0.0303\n",
      "Epoch [3/5], lter [400/600] Loss: 0.0459\n",
      "Epoch [3/5], lter [500/600] Loss: 0.0069\n",
      "Epoch [3/5], lter [600/600] Loss: 0.0063\n",
      "Epoch [4/5], lter [100/600] Loss: 0.0094\n",
      "Epoch [4/5], lter [200/600] Loss: 0.0027\n",
      "Epoch [4/5], lter [300/600] Loss: 0.0245\n",
      "Epoch [4/5], lter [400/600] Loss: 0.0058\n",
      "Epoch [4/5], lter [500/600] Loss: 0.0344\n",
      "Epoch [4/5], lter [600/600] Loss: 0.0779\n",
      "Epoch [5/5], lter [100/600] Loss: 0.0061\n",
      "Epoch [5/5], lter [200/600] Loss: 0.0433\n",
      "Epoch [5/5], lter [300/600] Loss: 0.0110\n",
      "Epoch [5/5], lter [400/600] Loss: 0.0029\n",
      "Epoch [5/5], lter [500/600] Loss: 0.0175\n",
      "Epoch [5/5], lter [600/600] Loss: 0.0445\n"
     ]
    }
   ],
   "source": [
    "if os.path.isfile('pkl/cnn.pkl'):\n",
    "    cnn.load_state_dict(torch.load('pkl/cnn.pkl'))\n",
    "\n",
    "else:\n",
    "    criterion = nn.CrossEntropyLoss() # Loss\n",
    "    optimizer = torch.optim.Adam(cnn.parameters(), lr=learning_rate)\n",
    "    \n",
    "    for epoch in range(num_epochs):\n",
    "        for i, (images, labels) in enumerate(train_loader):\n",
    "            images = Variable(images)\n",
    "            labels = Variable(labels)\n",
    "            \n",
    "            optimizer.zero_grad()\n",
    "            outputs = cnn(images)\n",
    "            loss = criterion(outputs, labels)\n",
    "            loss.backward()\n",
    "            optimizer.step()\n",
    "            \n",
    "            if (i+1) % 100 == 0:\n",
    "                print('Epoch [%d/%d], lter [%d/%d] Loss: %.4f'\n",
    "                     %(epoch+1, num_epochs, i+1, len(train_dataset)//batch_size, loss.data))\n",
    "                if not os.path.isfile('pkl/cnn,pkl'):\n",
    "                    torch.save(cnn.state_dict(), 'pkl/cnn.pkl')\n"
   ]
  },
  {
   "cell_type": "code",
   "execution_count": 5,
   "metadata": {},
   "outputs": [
    {
     "name": "stdout",
     "output_type": "stream",
     "text": [
      "test Accuracy 10000 test images  = 98.000000 %\n"
     ]
    }
   ],
   "source": [
    "cnn.eval()\n",
    "correct = 0\n",
    "total = 0\n",
    "for images, labels in test_loader:\n",
    "    images = Variable(images)\n",
    "    outputs = cnn(images)\n",
    "    _, predicted = torch.max(outputs.data, 1)\n",
    "    total += labels.size(0)\n",
    "    correct += (predicted == labels).sum()\n",
    "    \n",
    "print('test Accuracy 10000 test images  = %f %%' % (100 * correct/total))"
   ]
  }
 ],
 "metadata": {
  "kernelspec": {
   "display_name": "Python 3",
   "language": "python",
   "name": "python3"
  },
  "language_info": {
   "codemirror_mode": {
    "name": "ipython",
    "version": 3
   },
   "file_extension": ".py",
   "mimetype": "text/x-python",
   "name": "python",
   "nbconvert_exporter": "python",
   "pygments_lexer": "ipython3",
   "version": "3.6.9"
  }
 },
 "nbformat": 4,
 "nbformat_minor": 2
}
