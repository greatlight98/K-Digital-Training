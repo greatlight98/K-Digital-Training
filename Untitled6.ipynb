{
 "cells": [
  {
   "cell_type": "code",
   "execution_count": null,
   "id": "95aa649c",
   "metadata": {},
   "outputs": [],
   "source": [
    "PI = 3.141592\n",
    "\n",
    "def number_input():\n",
    "    output = input(\"숫자입력 : \")\n",
    "    return float(output) ##아웃풋 값을 float값으로 나오게 강제할 수 있음\n",
    "\n",
    "def get_circumference(radius):\n",
    "    return 2 * PI * radius\n",
    "\n",
    "def get_circle_area(radius):\n",
    "    return PI * radius * radius\n",
    "\n",
    "print(\"get_circumference(10) :\",get_circumference(10))\n",
    "print(\"get_circle_area(10) : \",get_circle_area(10))"
   ]
  },
  {
   "cell_type": "code",
   "execution_count": null,
   "id": "4cba34d7",
   "metadata": {},
   "outputs": [],
   "source": []
  }
 ],
 "metadata": {
  "kernelspec": {
   "display_name": "Python 3",
   "language": "python",
   "name": "python3"
  },
  "language_info": {
   "codemirror_mode": {
    "name": "ipython",
    "version": 3
   },
   "file_extension": ".py",
   "mimetype": "text/x-python",
   "name": "python",
   "nbconvert_exporter": "python",
   "pygments_lexer": "ipython3",
   "version": "3.8.8"
  }
 },
 "nbformat": 4,
 "nbformat_minor": 5
}
