{
 "cells": [
  {
   "cell_type": "code",
   "execution_count": 1,
   "id": "1c95783f",
   "metadata": {},
   "outputs": [],
   "source": [
    "import numpy as np\n",
    "import matplotlib.pyplot as plt\n",
    "\n",
    "import sys\n",
    "import cv2\n",
    "# img = cv2.imread('c:/webcam/cam_DL_opencv/cat.bmp')\n",
    "\n",
    "cap = cv2.VideoCapture(0)\n",
    "\n",
    "\n",
    "if not cap.isOpened():\n",
    "    print('camera open failed')\n",
    "    sys.exit()\n",
    "\n",
    "cv2.namedWindow('image')\n",
    "cv2.namedWindow('image_edge')\n",
    "\n",
    "fourcc = cv2.VideoWriter_fourcc(*'DIVX') # fourcc 값 받아오기\n",
    "fps = 30\n",
    "\n",
    "w = round(cap.get(cv2.CAP_PROP_FRAME_WIDTH))\n",
    "h = round(cap.get(cv2.CAP_PROP_FRAME_HEIGHT))\n",
    "\n",
    "out = cv2.VideoWriter('c:/webcam/cam_DL_opencv/output1.avi', fourcc, fps, (w, h), isColor = True)\n",
    "\n",
    "while True: # 무한 루프\n",
    "    ret, frame = cap.read() # 카메라의 ret, frame 값 받아오기\n",
    "    if not ret: #ret이 False면 중지\n",
    "        break\n",
    "        \n",
    "\n",
    "    #### 작업 구간\n",
    "    \n",
    "    edge = cv2.Canny(frame, 50,150)# 윤곽선\n",
    "    inversed = ~frame # 반전\n",
    "    edge_color = cv2.cvtColor(edge, cv2.COLOR_GRAY2BGR) #컬러 영상으로 변경\n",
    "        \n",
    "    cv2.imshow('image', frame)\n",
    "    cv2.imshow('image_edge', edge)\n",
    "    # cv2.imshow('image_inverse', inversed)\n",
    "    \n",
    "    #out.write(frame)\n",
    "    out.write(edge_color) # 영상 데이터만 저장\n",
    "   \n",
    "    #####\n",
    "    \n",
    "    \n",
    "    if cv2.waitKey(10) == 27:\n",
    "        break\n",
    "out.release()    \n",
    "cap.release()    \n",
    "cv2.destroyAllWindows()"
   ]
  },
  {
   "cell_type": "code",
   "execution_count": null,
   "id": "4e99d6d0",
   "metadata": {},
   "outputs": [],
   "source": []
  }
 ],
 "metadata": {
  "kernelspec": {
   "display_name": "Python 3",
   "language": "python",
   "name": "python3"
  },
  "language_info": {
   "codemirror_mode": {
    "name": "ipython",
    "version": 3
   },
   "file_extension": ".py",
   "mimetype": "text/x-python",
   "name": "python",
   "nbconvert_exporter": "python",
   "pygments_lexer": "ipython3",
   "version": "3.8.8"
  },
  "vp": {
   "base_numbering": 1,
   "nav_menu": {},
   "number_sections": true,
   "sideBar": true,
   "title_cell": "VisualPython",
   "title_sidebar": "VisualPython",
   "vpPosition": {
    "height": "calc(100% - 180px)",
    "right": "10px",
    "top": "110px",
    "width": "50%"
   },
   "vp_cell": false,
   "vp_section_display": true,
   "vp_window_display": false
  }
 },
 "nbformat": 4,
 "nbformat_minor": 5
}
