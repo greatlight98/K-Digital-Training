{
 "cells": [
  {
   "cell_type": "code",
   "execution_count": null,
   "id": "87038072",
   "metadata": {},
   "outputs": [],
   "source": [
    "from PIL import Image\n",
    "import os\n",
    "\n",
    "raw_path = './' # 원본 이미지 경로\n",
    "token_list = os.listdir(raw_path) # 원본 이미지 경로 내 폴더들 list\n",
    "data_path = './'  # 저장할 이미지 경로\n",
    "\n",
    "  # resize 시작 --------------------\n",
    "for token in token_list:\n",
    "#원본 이미지 경로와 저장할 경로 이미지 지정\n",
    "image_path = raw_path + token + '/1'\n",
    "save_path = data_path + token + '/'\n",
    "\n",
    "  # 저장할 경로 없으면 생성\n",
    "if not os.path.exists(save_path):\n",
    "      os.mkdir(save_path)\n",
    "\n",
    "  #원본 이미지 경로의 모든 이미지 list 지정\n",
    "data_list = os.listdir(image_path)\n",
    "print(len(data_list))\n",
    "\n",
    "  # 모든 이미지 resize 후 저장하기\n",
    "for name in data_list:\n",
    "      # 이미지 열기\n",
    "    im = Image.open(image_path + name)\n",
    "\n",
    "      # 이미지 resize\n",
    "    im = im.resize((300, 300))\n",
    "\n",
    "      # 이미지 JPG로 저장\n",
    "    im = im.convert('RGB')\n",
    "    im.save(save_path + name)\n",
    "print('end ::: ' + token)"
   ]
  }
 ],
 "metadata": {
  "kernelspec": {
   "display_name": "Python 3",
   "language": "python",
   "name": "python3"
  },
  "language_info": {
   "codemirror_mode": {
    "name": "ipython",
    "version": 3
   },
   "file_extension": ".py",
   "mimetype": "text/x-python",
   "name": "python",
   "nbconvert_exporter": "python",
   "pygments_lexer": "ipython3",
   "version": "3.8.8"
  },
  "vp": {
   "base_numbering": 1,
   "nav_menu": {},
   "number_sections": true,
   "sideBar": true,
   "title_cell": "VisualPython",
   "title_sidebar": "VisualPython",
   "vpPosition": {
    "height": "calc(100% - 180px)",
    "right": "10px",
    "top": "110px",
    "width": "50%"
   },
   "vp_cell": false,
   "vp_section_display": true,
   "vp_window_display": false
  }
 },
 "nbformat": 4,
 "nbformat_minor": 5
}
