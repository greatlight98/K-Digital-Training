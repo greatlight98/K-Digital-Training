{
 "cells": [
  {
   "cell_type": "code",
   "execution_count": 2,
   "id": "cfd18dd1",
   "metadata": {},
   "outputs": [],
   "source": [
    "import numpy as np\n",
    "import pandas as pd\n",
    "import matplotlib.pyplot as pit\n",
    "import sklearn\n",
    "import tensorflow as tf"
   ]
  },
  {
   "cell_type": "code",
   "execution_count": 3,
   "id": "98c7b9ce",
   "metadata": {},
   "outputs": [
    {
     "data": {
      "text/plain": [
       "array([1, 2, 3, 4])"
      ]
     },
     "execution_count": 3,
     "metadata": {},
     "output_type": "execute_result"
    }
   ],
   "source": [
    "nd1=np.array([1,2,3,4])\n",
    "nd1"
   ]
  },
  {
   "cell_type": "code",
   "execution_count": 5,
   "id": "efe0c8e2",
   "metadata": {},
   "outputs": [
    {
     "data": {
      "text/plain": [
       "array([[1, 2, 3],\n",
       "       [4, 5, 6]])"
      ]
     },
     "execution_count": 5,
     "metadata": {},
     "output_type": "execute_result"
    }
   ],
   "source": [
    "nd2=np.array([[1,2,3],[4,5,6]]) #2차원 (평면)으로 나타내야기에 [[]]로 씀.\n",
    "nd2\n"
   ]
  },
  {
   "cell_type": "code",
   "execution_count": 9,
   "id": "88da6d93",
   "metadata": {},
   "outputs": [
    {
     "data": {
      "text/plain": [
       "2"
      ]
     },
     "execution_count": 9,
     "metadata": {},
     "output_type": "execute_result"
    }
   ],
   "source": [
    "nd2.ndim #number of dimension"
   ]
  },
  {
   "cell_type": "code",
   "execution_count": 6,
   "id": "ca2d7791",
   "metadata": {},
   "outputs": [
    {
     "data": {
      "text/plain": [
       "numpy.ndarray"
      ]
     },
     "execution_count": 6,
     "metadata": {},
     "output_type": "execute_result"
    }
   ],
   "source": [
    "type(nd2)"
   ]
  },
  {
   "cell_type": "code",
   "execution_count": 7,
   "id": "ba6ac20a",
   "metadata": {},
   "outputs": [
    {
     "data": {
      "text/plain": [
       "1"
      ]
     },
     "execution_count": 7,
     "metadata": {},
     "output_type": "execute_result"
    }
   ],
   "source": [
    "nd1.ndim"
   ]
  },
  {
   "cell_type": "code",
   "execution_count": 8,
   "id": "cdf75234",
   "metadata": {},
   "outputs": [
    {
     "data": {
      "text/plain": [
       "numpy.ndarray"
      ]
     },
     "execution_count": 8,
     "metadata": {},
     "output_type": "execute_result"
    }
   ],
   "source": [
    "type(nd1)"
   ]
  },
  {
   "cell_type": "code",
   "execution_count": 10,
   "id": "f3d1779d",
   "metadata": {},
   "outputs": [
    {
     "data": {
      "text/plain": [
       "4"
      ]
     },
     "execution_count": 10,
     "metadata": {},
     "output_type": "execute_result"
    }
   ],
   "source": [
    "nd1.size"
   ]
  },
  {
   "cell_type": "code",
   "execution_count": 11,
   "id": "5c464277",
   "metadata": {},
   "outputs": [
    {
     "data": {
      "text/plain": [
       "6"
      ]
     },
     "execution_count": 11,
     "metadata": {},
     "output_type": "execute_result"
    }
   ],
   "source": [
    "nd2.size"
   ]
  },
  {
   "cell_type": "code",
   "execution_count": 12,
   "id": "2aa4f028",
   "metadata": {},
   "outputs": [
    {
     "data": {
      "text/plain": [
       "array([[0., 0., 0.],\n",
       "       [0., 0., 0.],\n",
       "       [0., 0., 0.],\n",
       "       [0., 0., 0.]])"
      ]
     },
     "execution_count": 12,
     "metadata": {},
     "output_type": "execute_result"
    }
   ],
   "source": [
    "np.zeros((4,3))"
   ]
  },
  {
   "cell_type": "code",
   "execution_count": 13,
   "id": "68bb8b64",
   "metadata": {},
   "outputs": [
    {
     "data": {
      "text/plain": [
       "array([[1., 1., 1., 1.],\n",
       "       [1., 1., 1., 1.],\n",
       "       [1., 1., 1., 1.]])"
      ]
     },
     "execution_count": 13,
     "metadata": {},
     "output_type": "execute_result"
    }
   ],
   "source": [
    "np.ones((3,4))"
   ]
  },
  {
   "cell_type": "code",
   "execution_count": 15,
   "id": "603b7396",
   "metadata": {},
   "outputs": [],
   "source": [
    "a=np.ones((3,4))"
   ]
  },
  {
   "cell_type": "code",
   "execution_count": 16,
   "id": "9e55621a",
   "metadata": {},
   "outputs": [
    {
     "data": {
      "text/plain": [
       "12"
      ]
     },
     "execution_count": 16,
     "metadata": {},
     "output_type": "execute_result"
    }
   ],
   "source": [
    "a.size"
   ]
  },
  {
   "cell_type": "code",
   "execution_count": 17,
   "id": "d222be50",
   "metadata": {},
   "outputs": [
    {
     "data": {
      "text/plain": [
       "array([ 0,  1,  2,  3,  4,  5,  6,  7,  8,  9, 10, 11])"
      ]
     },
     "execution_count": 17,
     "metadata": {},
     "output_type": "execute_result"
    }
   ],
   "source": [
    "np.arange(12)"
   ]
  },
  {
   "cell_type": "code",
   "execution_count": 18,
   "id": "5f71b4cf",
   "metadata": {},
   "outputs": [
    {
     "data": {
      "text/plain": [
       "array([1, 3, 5, 7, 9])"
      ]
     },
     "execution_count": 18,
     "metadata": {},
     "output_type": "execute_result"
    }
   ],
   "source": [
    "np.arange(1,10,2)"
   ]
  },
  {
   "cell_type": "code",
   "execution_count": 19,
   "id": "374a5efd",
   "metadata": {},
   "outputs": [
    {
     "data": {
      "text/plain": [
       "array([0, 2, 4, 6, 8])"
      ]
     },
     "execution_count": 19,
     "metadata": {},
     "output_type": "execute_result"
    }
   ],
   "source": [
    "np.arange(0,10,2)"
   ]
  },
  {
   "cell_type": "code",
   "execution_count": 20,
   "id": "529ea7f1",
   "metadata": {},
   "outputs": [
    {
     "data": {
      "text/plain": [
       "array([[ 0,  1,  2],\n",
       "       [ 3,  4,  5],\n",
       "       [ 6,  7,  8],\n",
       "       [ 9, 10, 11]])"
      ]
     },
     "execution_count": 20,
     "metadata": {},
     "output_type": "execute_result"
    }
   ],
   "source": [
    "np.arange(12).reshape(4,3)"
   ]
  },
  {
   "cell_type": "code",
   "execution_count": 24,
   "id": "6d304cdd",
   "metadata": {},
   "outputs": [
    {
     "data": {
      "text/plain": [
       "array([[ 0,  1,  2],\n",
       "       [ 3,  4,  5],\n",
       "       [ 6,  7,  8],\n",
       "       [ 9, 10, 11]])"
      ]
     },
     "execution_count": 24,
     "metadata": {},
     "output_type": "execute_result"
    }
   ],
   "source": [
    "np.arange(12).reshape(4,-1)#크기를 알아서 계산 해 줌"
   ]
  },
  {
   "cell_type": "code",
   "execution_count": 26,
   "id": "8314ef15",
   "metadata": {},
   "outputs": [
    {
     "data": {
      "text/plain": [
       "array([[   0,    1,    2, ...,  397,  398,  399],\n",
       "       [ 400,  401,  402, ...,  797,  798,  799],\n",
       "       [ 800,  801,  802, ..., 1197, 1198, 1199]])"
      ]
     },
     "execution_count": 26,
     "metadata": {},
     "output_type": "execute_result"
    }
   ],
   "source": [
    "np.arange(1200).reshape(3,400)"
   ]
  },
  {
   "cell_type": "code",
   "execution_count": 27,
   "id": "2c370682",
   "metadata": {},
   "outputs": [
    {
     "name": "stdout",
     "output_type": "stream",
     "text": [
      "도시: 서울\n",
      "날씨: 맑음\n",
      "최저기온: 5\n",
      "최고기온: 16\n",
      "\n",
      "도시: 인천\n",
      "날씨: 맑음\n",
      "최저기온: 6\n",
      "최고기온: 15\n",
      "\n",
      "도시: 수원\n",
      "날씨: 맑음\n",
      "최저기온: 4\n",
      "최고기온: 16\n",
      "\n",
      "도시: 파주\n",
      "날씨: 맑음\n",
      "최저기온: 0\n",
      "최고기온: 16\n",
      "\n",
      "도시: 이천\n",
      "날씨: 맑음\n",
      "최저기온: 2\n",
      "최고기온: 17\n",
      "\n",
      "도시: 평택\n",
      "날씨: 맑음\n",
      "최저기온: 3\n",
      "최고기온: 17\n",
      "\n",
      "도시: 춘천\n",
      "날씨: 맑음\n",
      "최저기온: 2\n",
      "최고기온: 17\n",
      "\n",
      "도시: 원주\n",
      "날씨: 맑음\n",
      "최저기온: 3\n",
      "최고기온: 17\n",
      "\n",
      "도시: 강릉\n",
      "날씨: 맑음\n",
      "최저기온: 5\n",
      "최고기온: 13\n",
      "\n",
      "도시: 대전\n",
      "날씨: 맑음\n",
      "최저기온: 3\n",
      "최고기온: 17\n",
      "\n",
      "도시: 세종\n",
      "날씨: 맑음\n",
      "최저기온: 3\n",
      "최고기온: 17\n",
      "\n",
      "도시: 홍성\n",
      "날씨: 맑음\n",
      "최저기온: 2\n",
      "최고기온: 16\n",
      "\n",
      "도시: 청주\n",
      "날씨: 맑음\n",
      "최저기온: 5\n",
      "최고기온: 17\n",
      "\n",
      "도시: 충주\n",
      "날씨: 맑음\n",
      "최저기온: 2\n",
      "최고기온: 16\n",
      "\n",
      "도시: 영동\n",
      "날씨: 맑음\n",
      "최저기온: 1\n",
      "최고기온: 17\n",
      "\n",
      "도시: 광주\n",
      "날씨: 맑음\n",
      "최저기온: 5\n",
      "최고기온: 18\n",
      "\n",
      "도시: 목포\n",
      "날씨: 맑음\n",
      "최저기온: 7\n",
      "최고기온: 15\n",
      "\n",
      "도시: 여수\n",
      "날씨: 맑음\n",
      "최저기온: 8\n",
      "최고기온: 15\n",
      "\n",
      "도시: 순천\n",
      "날씨: 맑음\n",
      "최저기온: 6\n",
      "최고기온: 17\n",
      "\n",
      "도시: 광양\n",
      "날씨: 맑음\n",
      "최저기온: 6\n",
      "최고기온: 17\n",
      "\n",
      "도시: 나주\n",
      "날씨: 맑음\n",
      "최저기온: 2\n",
      "최고기온: 18\n",
      "\n",
      "도시: 전주\n",
      "날씨: 맑음\n",
      "최저기온: 4\n",
      "최고기온: 17\n",
      "\n",
      "도시: 군산\n",
      "날씨: 맑음\n",
      "최저기온: 3\n",
      "최고기온: 15\n",
      "\n",
      "도시: 정읍\n",
      "날씨: 맑음\n",
      "최저기온: 3\n",
      "최고기온: 17\n",
      "\n",
      "도시: 남원\n",
      "날씨: 맑음\n",
      "최저기온: 2\n",
      "최고기온: 18\n",
      "\n",
      "도시: 고창\n",
      "날씨: 맑음\n",
      "최저기온: 3\n",
      "최고기온: 16\n",
      "\n",
      "도시: 무주\n",
      "날씨: 맑음\n",
      "최저기온: 1\n",
      "최고기온: 16\n",
      "\n",
      "도시: 부산\n",
      "날씨: 맑음\n",
      "최저기온: 8\n",
      "최고기온: 16\n",
      "\n",
      "도시: 울산\n",
      "날씨: 맑음\n",
      "최저기온: 7\n",
      "최고기온: 14\n",
      "\n",
      "도시: 창원\n",
      "날씨: 맑음\n",
      "최저기온: 7\n",
      "최고기온: 17\n",
      "\n",
      "도시: 진주\n",
      "날씨: 맑음\n",
      "최저기온: 4\n",
      "최고기온: 17\n",
      "\n",
      "도시: 거창\n",
      "날씨: 맑음\n",
      "최저기온: 2\n",
      "최고기온: 16\n",
      "\n",
      "도시: 통영\n",
      "날씨: 맑음\n",
      "최저기온: 8\n",
      "최고기온: 17\n",
      "\n",
      "도시: 대구\n",
      "날씨: 맑음\n",
      "최저기온: 4\n",
      "최고기온: 16\n",
      "\n",
      "도시: 안동\n",
      "날씨: 맑음\n",
      "최저기온: 2\n",
      "최고기온: 15\n",
      "\n",
      "도시: 포항\n",
      "날씨: 맑음\n",
      "최저기온: 7\n",
      "최고기온: 13\n",
      "\n",
      "도시: 경주\n",
      "날씨: 맑음\n",
      "최저기온: 4\n",
      "최고기온: 15\n",
      "\n",
      "도시: 울진\n",
      "날씨: 맑음\n",
      "최저기온: 4\n",
      "최고기온: 12\n",
      "\n",
      "도시: 울릉도\n",
      "날씨: 맑음\n",
      "최저기온: 5\n",
      "최고기온: 10\n",
      "\n",
      "도시: 제주\n",
      "날씨: 맑음\n",
      "최저기온: 10\n",
      "최고기온: 16\n",
      "\n",
      "도시: 서귀포\n",
      "날씨: 맑음\n",
      "최저기온: 9\n",
      "최고기온: 18\n",
      "\n"
     ]
    }
   ],
   "source": [
    "from urllib import request\n",
    "from bs4 import BeautifulSoup\n",
    "\n",
    "target = request.urlopen(\"http://www.kma.go.kr/weather/forecast/mid-term-rss3.jsp?stnId=108\")\n",
    "\n",
    "soup = BeautifulSoup(target, \"html.parser\")\n",
    "\n",
    "for location in soup.select(\"location\"):\n",
    "    print(\"도시:\", location.select_one(\"city\").string)\n",
    "    print(\"날씨:\", location.select_one(\"wf\").string)\n",
    "    print(\"최저기온:\", location.select_one(\"tmn\").string)\n",
    "    print(\"최고기온:\", location.select_one(\"tmx\").string)\n",
    "    print()\n"
   ]
  },
  {
   "cell_type": "code",
   "execution_count": 28,
   "id": "cb0f9c45",
   "metadata": {},
   "outputs": [],
   "source": [
    "from flask import Flask\n",
    "\n",
    "app = Flask(__name__)\n",
    "\n",
    "@app.route(\"/\")\n",
    "def hello():\n",
    "    return \"<h1> Hello, </h1>\""
   ]
  },
  {
   "cell_type": "code",
   "execution_count": null,
   "id": "d0a77f60",
   "metadata": {},
   "outputs": [],
   "source": [
    "from math import *  #math에 있는 모든 기능들 다 가져 옴"
   ]
  },
  {
   "cell_type": "code",
   "execution_count": null,
   "id": "bdbc2bde",
   "metadata": {},
   "outputs": [],
   "source": []
  },
  {
   "cell_type": "code",
   "execution_count": null,
   "id": "eebb6129",
   "metadata": {},
   "outputs": [],
   "source": []
  }
 ],
 "metadata": {
  "kernelspec": {
   "display_name": "Python 3",
   "language": "python",
   "name": "python3"
  },
  "language_info": {
   "codemirror_mode": {
    "name": "ipython",
    "version": 3
   },
   "file_extension": ".py",
   "mimetype": "text/x-python",
   "name": "python",
   "nbconvert_exporter": "python",
   "pygments_lexer": "ipython3",
   "version": "3.8.8"
  }
 },
 "nbformat": 4,
 "nbformat_minor": 5
}
