{
 "cells": [
  {
   "cell_type": "code",
   "execution_count": 1,
   "metadata": {},
   "outputs": [],
   "source": [
    "''' 1. Module Import '''\n",
    "import numpy as np\n",
    "import matplotlib.pyplot as plt\n",
    "\n",
    "import torch\n",
    "import torch.nn as nn\n",
    "import torch.nn.functional as F\n",
    "from torchvision import transforms, datasets"
   ]
  },
  {
   "cell_type": "code",
   "execution_count": 2,
   "metadata": {},
   "outputs": [
    {
     "name": "stdout",
     "output_type": "stream",
     "text": [
      "Using PyTorch version: 1.5.0+cu101  Device: cuda\n"
     ]
    }
   ],
   "source": [
    "''' 2. 딥러닝 모델을 설계할 때 활용하는 장비 확인 '''\n",
    "if torch.cuda.is_available():\n",
    "    DEVICE = torch.device('cuda')\n",
    "else:\n",
    "    DEVICE = torch.device('cpu')\n",
    "\n",
    "print('Using PyTorch version:', torch.__version__, ' Device:', DEVICE)"
   ]
  },
  {
   "cell_type": "code",
   "execution_count": 3,
   "metadata": {},
   "outputs": [],
   "source": [
    "BATCH_SIZE = 32\n",
    "EPOCHS = 10"
   ]
  },
  {
   "cell_type": "code",
   "execution_count": 4,
   "metadata": {},
   "outputs": [
    {
     "name": "stdout",
     "output_type": "stream",
     "text": [
      "Downloading http://yann.lecun.com/exdb/mnist/train-images-idx3-ubyte.gz to ../data/MNIST\\MNIST\\raw\\train-images-idx3-ubyte.gz\n"
     ]
    },
    {
     "data": {
      "application/vnd.jupyter.widget-view+json": {
       "model_id": "e6e8d1d9f2fa4e699727d22212c58151",
       "version_major": 2,
       "version_minor": 0
      },
      "text/plain": [
       "HBox(children=(FloatProgress(value=1.0, bar_style='info', max=1.0), HTML(value='')))"
      ]
     },
     "metadata": {},
     "output_type": "display_data"
    },
    {
     "name": "stdout",
     "output_type": "stream",
     "text": [
      "Extracting ../data/MNIST\\MNIST\\raw\\train-images-idx3-ubyte.gz to ../data/MNIST\\MNIST\\raw\n",
      "Downloading http://yann.lecun.com/exdb/mnist/train-labels-idx1-ubyte.gz to ../data/MNIST\\MNIST\\raw\\train-labels-idx1-ubyte.gz\n"
     ]
    },
    {
     "data": {
      "application/vnd.jupyter.widget-view+json": {
       "model_id": "f69d78231ec347f595d9133a041f2f59",
       "version_major": 2,
       "version_minor": 0
      },
      "text/plain": [
       "HBox(children=(FloatProgress(value=1.0, bar_style='info', max=1.0), HTML(value='')))"
      ]
     },
     "metadata": {},
     "output_type": "display_data"
    },
    {
     "name": "stdout",
     "output_type": "stream",
     "text": [
      "Extracting ../data/MNIST\\MNIST\\raw\\train-labels-idx1-ubyte.gz to ../data/MNIST\\MNIST\\raw\n",
      "Downloading http://yann.lecun.com/exdb/mnist/t10k-images-idx3-ubyte.gz to ../data/MNIST\\MNIST\\raw\\t10k-images-idx3-ubyte.gz\n"
     ]
    },
    {
     "data": {
      "application/vnd.jupyter.widget-view+json": {
       "model_id": "8386e38fb1354f8b848f2631f29a4dc2",
       "version_major": 2,
       "version_minor": 0
      },
      "text/plain": [
       "HBox(children=(FloatProgress(value=1.0, bar_style='info', max=1.0), HTML(value='')))"
      ]
     },
     "metadata": {},
     "output_type": "display_data"
    },
    {
     "name": "stdout",
     "output_type": "stream",
     "text": [
      "Extracting ../data/MNIST\\MNIST\\raw\\t10k-images-idx3-ubyte.gz to ../data/MNIST\\MNIST\\raw\n",
      "Downloading http://yann.lecun.com/exdb/mnist/t10k-labels-idx1-ubyte.gz to ../data/MNIST\\MNIST\\raw\\t10k-labels-idx1-ubyte.gz\n"
     ]
    },
    {
     "data": {
      "application/vnd.jupyter.widget-view+json": {
       "model_id": "d7b6b94174db4629869cd3359718a7a2",
       "version_major": 2,
       "version_minor": 0
      },
      "text/plain": [
       "HBox(children=(FloatProgress(value=1.0, bar_style='info', max=1.0), HTML(value='')))"
      ]
     },
     "metadata": {},
     "output_type": "display_data"
    },
    {
     "name": "stdout",
     "output_type": "stream",
     "text": [
      "Extracting ../data/MNIST\\MNIST\\raw\\t10k-labels-idx1-ubyte.gz to ../data/MNIST\\MNIST\\raw\n",
      "Processing...\n"
     ]
    },
    {
     "name": "stderr",
     "output_type": "stream",
     "text": [
      "..\\torch\\csrc\\utils\\tensor_numpy.cpp:141: UserWarning: The given NumPy array is not writeable, and PyTorch does not support non-writeable tensors. This means you can write to the underlying (supposedly non-writeable) NumPy array using the tensor. You may want to copy the array to protect its data or make it writeable before converting it to a tensor. This type of warning will be suppressed for the rest of this program.\n"
     ]
    },
    {
     "name": "stdout",
     "output_type": "stream",
     "text": [
      "Done!\n"
     ]
    }
   ],
   "source": [
    "''' 3. MNIST 데이터 다운로드 (Train set, Test set 분리하기) '''\n",
    "train_dataset = datasets.MNIST(root = \"../data/MNIST\",\n",
    "                               train = True,\n",
    "                               download = True,\n",
    "                               transform = transforms.ToTensor())\n",
    "\n",
    "test_dataset = datasets.MNIST(root = \"../data/MNIST\",\n",
    "                              train = False,\n",
    "                              transform = transforms.ToTensor())\n",
    "\n",
    "train_loader = torch.utils.data.DataLoader(dataset = train_dataset,\n",
    "                                           batch_size = BATCH_SIZE,\n",
    "                                           shuffle = True)\n",
    "\n",
    "test_loader = torch.utils.data.DataLoader(dataset = test_dataset,\n",
    "                                          batch_size = BATCH_SIZE,\n",
    "                                          shuffle = False)"
   ]
  },
  {
   "cell_type": "code",
   "execution_count": 5,
   "metadata": {},
   "outputs": [
    {
     "name": "stdout",
     "output_type": "stream",
     "text": [
      "X_train: torch.Size([32, 1, 28, 28]) type: torch.FloatTensor\n",
      "y_train: torch.Size([32]) type: torch.LongTensor\n"
     ]
    }
   ],
   "source": [
    "''' 4. 데이터 확인하기 (1) '''\n",
    "for (X_train, y_train) in train_loader:\n",
    "    print('X_train:', X_train.size(), 'type:', X_train.type())\n",
    "    print('y_train:', y_train.size(), 'type:', y_train.type())\n",
    "    break"
   ]
  },
  {
   "cell_type": "code",
   "execution_count": 6,
   "metadata": {},
   "outputs": [
    {
     "name": "stdout",
     "output_type": "stream",
     "text": [
      "\n",
      "\n",
      "\n",
      "\n"
     ]
    },
    {
     "data": {
      "image/png": "[encoded data removed]",
      "text/plain": [
       "<Figure size 720x72 with 10 Axes>"
      ]
     },
     "metadata": {
      "needs_background": "light"
     },
     "output_type": "display_data"
    }
   ],
   "source": [
    "''' 5. 데이터 확인하기 (2) '''\n",
    "pltsize = 1\n",
    "plt.figure(figsize=(10 * pltsize, pltsize))\n",
    "for i in range(10):\n",
    "    plt.subplot(1, 10, i + 1)\n",
    "    plt.axis('off')\n",
    "    plt.imshow(X_train[i, :, :, :].numpy().reshape(28, 28), cmap = \"gray_r\")\n",
    "    plt.title('Class: ' + str(y_train[i].item()))"
   ]
  },
  {
   "cell_type": "code",
   "execution_count": 7,
   "metadata": {},
   "outputs": [],
   "source": [
    "''' 6. Multi Layer Perceptron (MLP) 모델 설계하기 '''\n",
    "class Net(nn.Module):\n",
    "    def __init__(self):\n",
    "        super(Net, self).__init__()\n",
    "        self.fc1 = nn.Linear(28 * 28, 512)\n",
    "        self.fc2 = nn.Linear(512, 256)\n",
    "        self.fc3 = nn.Linear(256, 10)\n",
    "\n",
    "    def forward(self, x):\n",
    "        x = x.view(-1, 28 * 28)\n",
    "        x = self.fc1(x)\n",
    "        x = F.sigmoid(x)\n",
    "        x = self.fc2(x)\n",
    "        x = F.sigmoid(x)\n",
    "        x = self.fc3(x)\n",
    "        x = F.log_softmax(x, dim = 1)\n",
    "        return x"
   ]
  },
  {
   "cell_type": "code",
   "execution_count": 8,
   "metadata": {},
   "outputs": [
    {
     "name": "stdout",
     "output_type": "stream",
     "text": [
      "Net(\n",
      "  (fc1): Linear(in_features=784, out_features=512, bias=True)\n",
      "  (fc2): Linear(in_features=512, out_features=256, bias=True)\n",
      "  (fc3): Linear(in_features=256, out_features=10, bias=True)\n",
      ")\n"
     ]
    }
   ],
   "source": [
    "''' 7. Optimizer, Objective Function 설정하기 '''\n",
    "model = Net().to(DEVICE)\n",
    "optimizer = torch.optim.SGD(model.parameters(), lr = 0.01, momentum = 0.5)\n",
    "criterion = nn.CrossEntropyLoss()\n",
    "\n",
    "print(model)"
   ]
  },
  {
   "cell_type": "code",
   "execution_count": 9,
   "metadata": {},
   "outputs": [],
   "source": [
    "''' 8. MLP 모델 학습을 진행하며 학습 데이터에 대한 모델 성능을 확인하는 함수 정의 '''\n",
    "def train(model, train_loader, optimizer, log_interval):\n",
    "    model.train()\n",
    "    for batch_idx, (image, label) in enumerate(train_loader):\n",
    "        image = image.to(DEVICE)\n",
    "        label = label.to(DEVICE)\n",
    "        optimizer.zero_grad()\n",
    "        output = model(image)\n",
    "        loss = criterion(output, label)\n",
    "        loss.backward()\n",
    "        optimizer.step()\n",
    "\n",
    "        if batch_idx % log_interval == 0:\n",
    "            print(\"Train Epoch: {} [{}/{} ({:.0f}%)]\\tTrain Loss: {:.6f}\".format(\n",
    "                epoch, batch_idx * len(image), \n",
    "                len(train_loader.dataset), 100. * batch_idx / len(train_loader), \n",
    "                loss.item()))"
   ]
  },
  {
   "cell_type": "code",
   "execution_count": 10,
   "metadata": {},
   "outputs": [],
   "source": [
    "''' 9. 학습되는 과정 속에서 검증 데이터에 대한 모델 성능을 확인하는 함수 정의 '''\n",
    "def evaluate(model, test_loader):\n",
    "    model.eval()\n",
    "    test_loss = 0\n",
    "    correct = 0\n",
    "\n",
    "    with torch.no_grad():\n",
    "        for image, label in test_loader:\n",
    "            image = image.to(DEVICE)\n",
    "            label = label.to(DEVICE)\n",
    "            output = model(image)\n",
    "            test_loss += criterion(output, label).item()\n",
    "            prediction = output.max(1, keepdim = True)[1]\n",
    "            correct += prediction.eq(label.view_as(prediction)).sum().item()\n",
    "    \n",
    "    test_loss /= len(test_loader.dataset)\n",
    "    test_accuracy = 100. * correct / len(test_loader.dataset)\n",
    "    return test_loss, test_accuracy"
   ]
  },
  {
   "cell_type": "code",
   "execution_count": 11,
   "metadata": {},
   "outputs": [
    {
     "name": "stderr",
     "output_type": "stream",
     "text": [
      "c:\\users\\justin\\101\\lib\\site-packages\\torch\\nn\\functional.py:1569: UserWarning: nn.functional.sigmoid is deprecated. Use torch.sigmoid instead.\n",
      "  warnings.warn(\"nn.functional.sigmoid is deprecated. Use torch.sigmoid instead.\")\n"
     ]
    },
    {
     "name": "stdout",
     "output_type": "stream",
     "text": [
      "Train Epoch: 1 [0/60000 (0%)]\tTrain Loss: 2.305685\n",
      "Train Epoch: 1 [6400/60000 (11%)]\tTrain Loss: 2.293319\n",
      "Train Epoch: 1 [12800/60000 (21%)]\tTrain Loss: 2.272696\n",
      "Train Epoch: 1 [19200/60000 (32%)]\tTrain Loss: 2.320879\n",
      "Train Epoch: 1 [25600/60000 (43%)]\tTrain Loss: 2.260657\n",
      "Train Epoch: 1 [32000/60000 (53%)]\tTrain Loss: 2.299821\n",
      "Train Epoch: 1 [38400/60000 (64%)]\tTrain Loss: 2.282084\n",
      "Train Epoch: 1 [44800/60000 (75%)]\tTrain Loss: 2.250181\n",
      "Train Epoch: 1 [51200/60000 (85%)]\tTrain Loss: 2.253726\n",
      "Train Epoch: 1 [57600/60000 (96%)]\tTrain Loss: 2.197351\n",
      "\n",
      "[EPOCH: 1], \tTest Loss: 0.0700, \tTest Accuracy: 29.93 % \n",
      "\n",
      "Train Epoch: 2 [0/60000 (0%)]\tTrain Loss: 2.248331\n",
      "Train Epoch: 2 [6400/60000 (11%)]\tTrain Loss: 2.149255\n",
      "Train Epoch: 2 [12800/60000 (21%)]\tTrain Loss: 2.168350\n",
      "Train Epoch: 2 [19200/60000 (32%)]\tTrain Loss: 2.114754\n",
      "Train Epoch: 2 [25600/60000 (43%)]\tTrain Loss: 1.899618\n",
      "Train Epoch: 2 [32000/60000 (53%)]\tTrain Loss: 1.647139\n",
      "Train Epoch: 2 [38400/60000 (64%)]\tTrain Loss: 1.561112\n",
      "Train Epoch: 2 [44800/60000 (75%)]\tTrain Loss: 1.579752\n",
      "Train Epoch: 2 [51200/60000 (85%)]\tTrain Loss: 1.423341\n",
      "Train Epoch: 2 [57600/60000 (96%)]\tTrain Loss: 1.229881\n",
      "\n",
      "[EPOCH: 2], \tTest Loss: 0.0389, \tTest Accuracy: 63.76 % \n",
      "\n",
      "Train Epoch: 3 [0/60000 (0%)]\tTrain Loss: 1.264259\n",
      "Train Epoch: 3 [6400/60000 (11%)]\tTrain Loss: 1.104513\n",
      "Train Epoch: 3 [12800/60000 (21%)]\tTrain Loss: 1.172605\n",
      "Train Epoch: 3 [19200/60000 (32%)]\tTrain Loss: 0.869623\n",
      "Train Epoch: 3 [25600/60000 (43%)]\tTrain Loss: 0.958494\n",
      "Train Epoch: 3 [32000/60000 (53%)]\tTrain Loss: 0.788346\n",
      "Train Epoch: 3 [38400/60000 (64%)]\tTrain Loss: 0.876204\n",
      "Train Epoch: 3 [44800/60000 (75%)]\tTrain Loss: 0.817072\n",
      "Train Epoch: 3 [51200/60000 (85%)]\tTrain Loss: 0.812186\n",
      "Train Epoch: 3 [57600/60000 (96%)]\tTrain Loss: 0.707244\n",
      "\n",
      "[EPOCH: 3], \tTest Loss: 0.0234, \tTest Accuracy: 77.96 % \n",
      "\n",
      "Train Epoch: 4 [0/60000 (0%)]\tTrain Loss: 0.798201\n",
      "Train Epoch: 4 [6400/60000 (11%)]\tTrain Loss: 0.826455\n",
      "Train Epoch: 4 [12800/60000 (21%)]\tTrain Loss: 0.656854\n",
      "Train Epoch: 4 [19200/60000 (32%)]\tTrain Loss: 0.639141\n",
      "Train Epoch: 4 [25600/60000 (43%)]\tTrain Loss: 0.581596\n",
      "Train Epoch: 4 [32000/60000 (53%)]\tTrain Loss: 0.906070\n",
      "Train Epoch: 4 [38400/60000 (64%)]\tTrain Loss: 0.674850\n",
      "Train Epoch: 4 [44800/60000 (75%)]\tTrain Loss: 0.425182\n",
      "Train Epoch: 4 [51200/60000 (85%)]\tTrain Loss: 0.513316\n",
      "Train Epoch: 4 [57600/60000 (96%)]\tTrain Loss: 0.496125\n",
      "\n",
      "[EPOCH: 4], \tTest Loss: 0.0175, \tTest Accuracy: 83.98 % \n",
      "\n",
      "Train Epoch: 5 [0/60000 (0%)]\tTrain Loss: 0.723710\n",
      "Train Epoch: 5 [6400/60000 (11%)]\tTrain Loss: 0.385863\n",
      "Train Epoch: 5 [12800/60000 (21%)]\tTrain Loss: 0.492196\n",
      "Train Epoch: 5 [19200/60000 (32%)]\tTrain Loss: 0.603856\n",
      "Train Epoch: 5 [25600/60000 (43%)]\tTrain Loss: 0.406311\n",
      "Train Epoch: 5 [32000/60000 (53%)]\tTrain Loss: 0.638202\n",
      "Train Epoch: 5 [38400/60000 (64%)]\tTrain Loss: 0.265844\n",
      "Train Epoch: 5 [44800/60000 (75%)]\tTrain Loss: 0.360926\n",
      "Train Epoch: 5 [51200/60000 (85%)]\tTrain Loss: 0.801450\n",
      "Train Epoch: 5 [57600/60000 (96%)]\tTrain Loss: 0.497076\n",
      "\n",
      "[EPOCH: 5], \tTest Loss: 0.0145, \tTest Accuracy: 86.52 % \n",
      "\n",
      "Train Epoch: 6 [0/60000 (0%)]\tTrain Loss: 0.395772\n",
      "Train Epoch: 6 [6400/60000 (11%)]\tTrain Loss: 0.337451\n",
      "Train Epoch: 6 [12800/60000 (21%)]\tTrain Loss: 0.754440\n",
      "Train Epoch: 6 [19200/60000 (32%)]\tTrain Loss: 0.849842\n",
      "Train Epoch: 6 [25600/60000 (43%)]\tTrain Loss: 0.295377\n",
      "Train Epoch: 6 [32000/60000 (53%)]\tTrain Loss: 0.395208\n",
      "Train Epoch: 6 [38400/60000 (64%)]\tTrain Loss: 0.397446\n",
      "Train Epoch: 6 [44800/60000 (75%)]\tTrain Loss: 0.614582\n",
      "Train Epoch: 6 [51200/60000 (85%)]\tTrain Loss: 0.349701\n",
      "Train Epoch: 6 [57600/60000 (96%)]\tTrain Loss: 0.397538\n",
      "\n",
      "[EPOCH: 6], \tTest Loss: 0.0130, \tTest Accuracy: 88.00 % \n",
      "\n",
      "Train Epoch: 7 [0/60000 (0%)]\tTrain Loss: 0.538874\n",
      "Train Epoch: 7 [6400/60000 (11%)]\tTrain Loss: 0.446801\n",
      "Train Epoch: 7 [12800/60000 (21%)]\tTrain Loss: 0.234647\n",
      "Train Epoch: 7 [19200/60000 (32%)]\tTrain Loss: 0.564430\n",
      "Train Epoch: 7 [25600/60000 (43%)]\tTrain Loss: 0.223958\n",
      "Train Epoch: 7 [32000/60000 (53%)]\tTrain Loss: 0.333472\n",
      "Train Epoch: 7 [38400/60000 (64%)]\tTrain Loss: 0.474746\n",
      "Train Epoch: 7 [44800/60000 (75%)]\tTrain Loss: 0.377146\n",
      "Train Epoch: 7 [51200/60000 (85%)]\tTrain Loss: 0.458580\n",
      "Train Epoch: 7 [57600/60000 (96%)]\tTrain Loss: 0.209174\n",
      "\n",
      "[EPOCH: 7], \tTest Loss: 0.0121, \tTest Accuracy: 88.66 % \n",
      "\n",
      "Train Epoch: 8 [0/60000 (0%)]\tTrain Loss: 0.830392\n",
      "Train Epoch: 8 [6400/60000 (11%)]\tTrain Loss: 0.195087\n",
      "Train Epoch: 8 [12800/60000 (21%)]\tTrain Loss: 0.503255\n",
      "Train Epoch: 8 [19200/60000 (32%)]\tTrain Loss: 0.364883\n",
      "Train Epoch: 8 [25600/60000 (43%)]\tTrain Loss: 0.452905\n",
      "Train Epoch: 8 [32000/60000 (53%)]\tTrain Loss: 0.420686\n",
      "Train Epoch: 8 [38400/60000 (64%)]\tTrain Loss: 0.338611\n",
      "Train Epoch: 8 [44800/60000 (75%)]\tTrain Loss: 0.517402\n",
      "Train Epoch: 8 [51200/60000 (85%)]\tTrain Loss: 0.187944\n",
      "Train Epoch: 8 [57600/60000 (96%)]\tTrain Loss: 0.863000\n",
      "\n",
      "[EPOCH: 8], \tTest Loss: 0.0114, \tTest Accuracy: 89.62 % \n",
      "\n",
      "Train Epoch: 9 [0/60000 (0%)]\tTrain Loss: 0.229291\n",
      "Train Epoch: 9 [6400/60000 (11%)]\tTrain Loss: 0.263229\n",
      "Train Epoch: 9 [12800/60000 (21%)]\tTrain Loss: 0.339768\n",
      "Train Epoch: 9 [19200/60000 (32%)]\tTrain Loss: 0.839753\n",
      "Train Epoch: 9 [25600/60000 (43%)]\tTrain Loss: 0.273118\n",
      "Train Epoch: 9 [32000/60000 (53%)]\tTrain Loss: 0.229731\n",
      "Train Epoch: 9 [38400/60000 (64%)]\tTrain Loss: 0.482139\n",
      "Train Epoch: 9 [44800/60000 (75%)]\tTrain Loss: 0.141229\n",
      "Train Epoch: 9 [51200/60000 (85%)]\tTrain Loss: 0.252700\n",
      "Train Epoch: 9 [57600/60000 (96%)]\tTrain Loss: 0.163154\n",
      "\n",
      "[EPOCH: 9], \tTest Loss: 0.0110, \tTest Accuracy: 89.68 % \n",
      "\n",
      "Train Epoch: 10 [0/60000 (0%)]\tTrain Loss: 0.376213\n",
      "Train Epoch: 10 [6400/60000 (11%)]\tTrain Loss: 0.309321\n",
      "Train Epoch: 10 [12800/60000 (21%)]\tTrain Loss: 0.296268\n",
      "Train Epoch: 10 [19200/60000 (32%)]\tTrain Loss: 0.169598\n",
      "Train Epoch: 10 [25600/60000 (43%)]\tTrain Loss: 0.380795\n",
      "Train Epoch: 10 [32000/60000 (53%)]\tTrain Loss: 0.528860\n",
      "Train Epoch: 10 [38400/60000 (64%)]\tTrain Loss: 0.182578\n",
      "Train Epoch: 10 [44800/60000 (75%)]\tTrain Loss: 0.265655\n",
      "Train Epoch: 10 [51200/60000 (85%)]\tTrain Loss: 0.304744\n",
      "Train Epoch: 10 [57600/60000 (96%)]\tTrain Loss: 0.562472\n",
      "\n",
      "[EPOCH: 10], \tTest Loss: 0.0106, \tTest Accuracy: 90.20 % \n",
      "\n"
     ]
    }
   ],
   "source": [
    "''' 10. MLP 학습 실행하며 Train, Test set의 Loss 및 Test set Accuracy 확인하기 '''\n",
    "for epoch in range(1, EPOCHS + 1):\n",
    "    train(model, train_loader, optimizer, log_interval = 200)\n",
    "    test_loss, test_accuracy = evaluate(model, test_loader)\n",
    "    print(\"\\n[EPOCH: {}], \\tTest Loss: {:.4f}, \\tTest Accuracy: {:.2f} % \\n\".format(\n",
    "        epoch, test_loss, test_accuracy))"
   ]
  },
  {
   "cell_type": "code",
   "execution_count": null,
   "metadata": {},
   "outputs": [],
   "source": []
  }
 ],
 "metadata": {
  "kernelspec": {
   "display_name": "Python 3",
   "language": "python",
   "name": "python3"
  },
  "language_info": {
   "codemirror_mode": {
    "name": "ipython",
    "version": 3
   },
   "file_extension": ".py",
   "mimetype": "text/x-python",
   "name": "python",
   "nbconvert_exporter": "python",
   "pygments_lexer": "ipython3",
   "version": "3.6.8"
  }
 },
 "nbformat": 4,
 "nbformat_minor": 4
}
