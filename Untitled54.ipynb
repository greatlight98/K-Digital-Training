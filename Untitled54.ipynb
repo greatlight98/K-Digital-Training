{
 "cells": [
  {
   "cell_type": "code",
   "execution_count": 1,
   "id": "8b11af0a",
   "metadata": {},
   "outputs": [
    {
     "name": "stdout",
     "output_type": "stream",
     "text": [
      "tensor([1., 2.]) torch.float32\n",
      "tensor([[1.9290e-37, 6.8912e-34]]) torch.float32\n",
      "torch.float32\n",
      "tensor([1, 2]) torch.int64\n",
      "torch.bool\n"
     ]
    }
   ],
   "source": [
    "import torch\n",
    "print(torch.Tensor([1, 2]), torch.Tensor([1, 2]).dtype) # float32\n",
    "print(torch.Tensor(1, 2), torch.Tensor(1, 2).dtype) # float32\n",
    "print(torch.Tensor([True, False]).dtype) # float32\n",
    "print(torch.tensor([1, 2]), torch.tensor([1, 2]).dtype) # int64\n",
    "print(torch.tensor([True, False]).dtype) # uint8\n",
    "#print(torch.tensor(1, 2).dtype)"
   ]
  },
  {
   "cell_type": "code",
   "execution_count": 3,
   "id": "998c426b",
   "metadata": {},
   "outputs": [
    {
     "name": "stdout",
     "output_type": "stream",
     "text": [
      "tensor([[[[0.3091, 0.4549, 0.6571],\n",
      "          [0.7438, 0.5372, 0.1570],\n",
      "          [0.1711, 0.8040, 0.0286]]]])\n",
      "tensor([[0.3091, 0.4549, 0.6571, 0.7438, 0.5372, 0.1570, 0.1711, 0.8040, 0.0286]])\n"
     ]
    }
   ],
   "source": [
    "import torch\n",
    "import numpy as np\n",
    "x = torch.Tensor(3, 3)\n",
    "r = torch.rand(3,3) # uniform distribution between 0 and 1\n",
    "Int = torch.randint(2,5,size=(2,3)) # 시작과 끝 사이의 정수\n",
    "R = torch.randn(3,3) # 표준정규분포에서 선택\n",
    "a = np.array([1, 2, 3])\n",
    "b = torch.Tensor(a) # numpy to torch\n",
    "c = b.data.numpy() # torch to numpy\n",
    "a = torch.rand(3, 3)\n",
    "b = a.view(1, 1, 3, 3)\n",
    "c = b.view(b.shape[0], -1) # 1*(1*3*3)\n",
    "print(b)\n",
    "print(c)\n"
   ]
  },
  {
   "cell_type": "code",
   "execution_count": null,
   "id": "481e784e",
   "metadata": {},
   "outputs": [],
   "source": []
  }
 ],
 "metadata": {
  "kernelspec": {
   "display_name": "Python 3",
   "language": "python",
   "name": "python3"
  },
  "language_info": {
   "codemirror_mode": {
    "name": "ipython",
    "version": 3
   },
   "file_extension": ".py",
   "mimetype": "text/x-python",
   "name": "python",
   "nbconvert_exporter": "python",
   "pygments_lexer": "ipython3",
   "version": "3.8.8"
  },
  "vp": {
   "base_numbering": 1,
   "nav_menu": {},
   "number_sections": true,
   "sideBar": true,
   "title_cell": "VisualPython",
   "title_sidebar": "VisualPython",
   "vpPosition": {
    "height": "calc(100% - 180px)",
    "right": "10px",
    "top": "110px",
    "width": "50%"
   },
   "vp_cell": false,
   "vp_section_display": true,
   "vp_window_display": false
  }
 },
 "nbformat": 4,
 "nbformat_minor": 5
}
