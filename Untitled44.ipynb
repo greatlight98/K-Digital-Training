{
 "cells": [
  {
   "cell_type": "code",
   "execution_count": 1,
   "id": "fdfa8292",
   "metadata": {},
   "outputs": [
    {
     "ename": "SyntaxError",
     "evalue": "invalid syntax (<ipython-input-1-68db1bd0b457>, line 21)",
     "output_type": "error",
     "traceback": [
      "\u001b[1;36m  File \u001b[1;32m\"<ipython-input-1-68db1bd0b457>\"\u001b[1;36m, line \u001b[1;32m21\u001b[0m\n\u001b[1;33m    def change duty(dc):\u001b[0m\n\u001b[1;37m               ^\u001b[0m\n\u001b[1;31mSyntaxError\u001b[0m\u001b[1;31m:\u001b[0m invalid syntax\n"
     ]
    }
   ],
   "source": [
    "import RPi.GPIO as GPIO\n",
    "\n",
    "import tkinter as tk\n",
    "\n",
    "GPIO.setmode(GPIO.BOARD)\n",
    "\n",
    "LED=11\n",
    "\n",
    "GPIO.setup(LED, GPIO.OUT, initial=GPIO.LOW)\n",
    "\n",
    "p=GPIO.PWM(LED,100)\n",
    "\n",
    "root = tk.TK()\n",
    "\n",
    "led_val = tk.DoubleVar()\n",
    "\n",
    "led_val.set(0)\n",
    "\n",
    "p.start(0)\n",
    "\n",
    "def change duty(dc):\n",
    "    p.ChangeDutyCycle(led_val.get())\n",
    "    \n",
    "s=tk.Scale(root, label = 'LED', orient = 'h',\\\n",
    "          from_ = 0, to=100, variable = led_val,\n",
    "          command = change_duty)\n",
    "\n",
    "s.pack()\n",
    "\n",
    "root.mainloop()\n",
    "\n",
    "p.stop()\n",
    "\n",
    "GPIO.cleanup()"
   ]
  },
  {
   "cell_type": "code",
   "execution_count": null,
   "id": "5f254a75",
   "metadata": {},
   "outputs": [],
   "source": []
  }
 ],
 "metadata": {
  "kernelspec": {
   "display_name": "Python 3",
   "language": "python",
   "name": "python3"
  },
  "language_info": {
   "codemirror_mode": {
    "name": "ipython",
    "version": 3
   },
   "file_extension": ".py",
   "mimetype": "text/x-python",
   "name": "python",
   "nbconvert_exporter": "python",
   "pygments_lexer": "ipython3",
   "version": "3.8.8"
  },
  "vp": {
   "base_numbering": 1,
   "nav_menu": {},
   "number_sections": true,
   "sideBar": true,
   "title_cell": "VisualPython",
   "title_sidebar": "VisualPython",
   "vpPosition": {
    "height": "calc(100% - 180px)",
    "right": "10px",
    "top": "110px",
    "width": "50%"
   },
   "vp_cell": false,
   "vp_section_display": true,
   "vp_window_display": false
  }
 },
 "nbformat": 4,
 "nbformat_minor": 5
}
