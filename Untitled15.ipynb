{
 "cells": [
  {
   "cell_type": "code",
   "execution_count": 1,
   "id": "541febd3",
   "metadata": {},
   "outputs": [
    {
     "name": "stdout",
     "output_type": "stream",
     "text": [
      "응애\n",
      "0\n",
      "응애\n",
      "1\n",
      "응애\n",
      "2\n",
      "응애\n",
      "3번째 return\n",
      "2돌아온다.\n",
      "1돌아온다.\n",
      "0돌아온다.\n"
     ]
    }
   ],
   "source": [
    "def milkis(n,k):\n",
    "    print(\"응애\")\n",
    "    if n == k:\n",
    "        print(f'{k}번째 return')\n",
    "        return\n",
    "    else:\n",
    "        print(k)\n",
    "        milkis(n,k+1)\n",
    "        print(f'{k}돌아온다.')\n",
    "milkis(3,0)"
   ]
  },
  {
   "cell_type": "code",
   "execution_count": null,
   "id": "e17c4701",
   "metadata": {},
   "outputs": [],
   "source": [
    "def triangle_number(n):\n",
    "    if n ==1:\n",
    "        return 1\n",
    "    "
   ]
  }
 ],
 "metadata": {
  "kernelspec": {
   "display_name": "Python 3",
   "language": "python",
   "name": "python3"
  },
  "language_info": {
   "codemirror_mode": {
    "name": "ipython",
    "version": 3
   },
   "file_extension": ".py",
   "mimetype": "text/x-python",
   "name": "python",
   "nbconvert_exporter": "python",
   "pygments_lexer": "ipython3",
   "version": "3.8.8"
  },
  "vp": {
   "base_numbering": 1,
   "nav_menu": {},
   "number_sections": true,
   "sideBar": true,
   "title_cell": "VisualPython",
   "title_sidebar": "VisualPython",
   "vpPosition": {
    "height": "calc(100% - 180px)",
    "right": "10px",
    "top": "110px",
    "width": "50%"
   },
   "vp_cell": false,
   "vp_section_display": true,
   "vp_window_display": false
  }
 },
 "nbformat": 4,
 "nbformat_minor": 5
}
