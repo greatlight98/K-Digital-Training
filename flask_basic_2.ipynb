{
 "cells": [
  {
   "cell_type": "code",
   "execution_count": null,
   "id": "0f4b6561",
   "metadata": {},
   "outputs": [],
   "source": [
    "from flask import Flask\n",
    "from urllib import request\n",
    "from bs4 import BeautifulSoup"
   ]
  },
  {
   "cell_type": "code",
   "execution_count": 3,
   "id": "98d9ba20",
   "metadata": {},
   "outputs": [],
   "source": [
    "from flask import Flask \n",
    "from urllib import request \n",
    "from bs4 import BeautifulSoup\n",
    "\n",
    "app = Flask(__name__)\n",
    "\n",
    "@app.route(\"/\")\n",
    "\n",
    "def hello():\n",
    "    \n",
    "    target = request.urlopen(\"http://www.kma.go.kr/weather/forecast/mid-term-rss3.jsp?stnId=108\")\n",
    "\n",
    "    soup = BeautifulSoup(target, \"html.parser\")\n",
    "    \n",
    "    output =\"\"\n",
    "    for location in soup.select(\"location\"):\n",
    "        output +=\"<h3>{}</h3>\".format(location.select_one(\"city\").string)\n",
    "        output +=\"날씨: <br>{}</br>\".format(location.select_one(\"wf\").string)\n",
    "        output +=\"최저/최고 기온:{}/{}\".format(location.select_one(\"tmn\").string,\n",
    "                                               location.select_one(\"tmx\").string)\n",
    "        output += \"<hr/>\"\n",
    "    return output        "
   ]
  },
  {
   "cell_type": "code",
   "execution_count": null,
   "id": "46621119",
   "metadata": {},
   "outputs": [],
   "source": [
    "from math import *  #math에 있는 모든 기능들 다 가져 옴"
   ]
  },
  {
   "cell_type": "code",
   "execution_count": null,
   "id": "6bad9ac8",
   "metadata": {},
   "outputs": [],
   "source": []
  },
  {
   "cell_type": "code",
   "execution_count": null,
   "id": "bb6a8932",
   "metadata": {},
   "outputs": [],
   "source": []
  }
 ],
 "metadata": {
  "kernelspec": {
   "display_name": "Python 3",
   "language": "python",
   "name": "python3"
  },
  "language_info": {
   "codemirror_mode": {
    "name": "ipython",
    "version": 3
   },
   "file_extension": ".py",
   "mimetype": "text/x-python",
   "name": "python",
   "nbconvert_exporter": "python",
   "pygments_lexer": "ipython3",
   "version": "3.8.8"
  }
 },
 "nbformat": 4,
 "nbformat_minor": 5
}
