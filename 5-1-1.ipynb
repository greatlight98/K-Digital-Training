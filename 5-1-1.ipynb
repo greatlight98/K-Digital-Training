{
 "cells": [
  {
   "cell_type": "code",
   "execution_count": 6,
   "id": "2adaea7f",
   "metadata": {},
   "outputs": [
    {
     "name": "stdout",
     "output_type": "stream",
     "text": [
      "✅\n"
     ]
    }
   ],
   "source": [
    "import numpy as np\n",
    "import os\n",
    "data_path = 'speech_wav_8000.npz'\n",
    "speech_data = np.load(data_path)\n",
    "\n",
    "print(\"✅\")"
   ]
  },
  {
   "cell_type": "code",
   "execution_count": 7,
   "id": "63b856b7",
   "metadata": {},
   "outputs": [
    {
     "name": "stdout",
     "output_type": "stream",
     "text": [
      "Wave data shape :  (50620, 8000)\n",
      "Label data shape :  (50620, 1)\n",
      "✅\n"
     ]
    }
   ],
   "source": [
    "print(\"Wave data shape : \", speech_data[\"wav_vals\"].shape)\n",
    "print(\"Label data shape : \", speech_data[\"label_vals\"].shape)\n",
    "print(\"✅\")"
   ]
  },
  {
   "cell_type": "code",
   "execution_count": 8,
   "id": "f61cebc8",
   "metadata": {},
   "outputs": [
    {
     "name": "stdout",
     "output_type": "stream",
     "text": [
      "rand num :  45529\n",
      "Wave data shape :  (8000,)\n",
      "label :  ['unknown']\n"
     ]
    },
    {
     "data": {
      "text/html": [
       "\n",
       "                <audio  controls=\"controls\" >\n",
       "                    <source src=\"data:audio/wav;base64,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\" type=\"audio/wav\" />\n",
       "                    Your browser does not support the audio element.\n",
       "                </audio>\n",
       "              "
      ],
      "text/plain": [
       "<IPython.lib.display.Audio object>"
      ]
     },
     "execution_count": 8,
     "metadata": {},
     "output_type": "execute_result"
    }
   ],
   "source": [
    "import IPython.display as ipd\n",
    "import random\n",
    "# 데이터 선택 (랜덤하게 선택하고 있으니, 여러번 실행해 보세요)\n",
    "rand = random.randint(0, len(speech_data[\"wav_vals\"]))\n",
    "print(\"rand num : \", rand)\n",
    "sr = 8000 # 1초동안 재생되는 샘플의 갯수\n",
    "data = speech_data[\"wav_vals\"][rand]\n",
    "print(\"Wave data shape : \", data.shape)\n",
    "print(\"label : \", speech_data[\"label_vals\"][rand])\n",
    "ipd.Audio(data, rate=sr)"
   ]
  },
  {
   "cell_type": "code",
   "execution_count": 10,
   "id": "acc5b6bf",
   "metadata": {},
   "outputs": [
    {
     "name": "stdout",
     "output_type": "stream",
     "text": [
      "LABEL :  ['yes', 'no', 'up', 'down', 'left', 'right', 'on', 'off', 'stop', 'go', 'unknown', 'silence']\n",
      "Indexed LABEL :  {'yes': 0, 'no': 1, 'up': 2, 'down': 3, 'left': 4, 'right': 5, 'on': 6, 'off': 7, 'stop': 8, 'go': 9, 'unknown': 10, 'silence': 11}\n"
     ]
    }
   ],
   "source": [
    "target_list = ['yes', 'no', 'up', 'down', 'left', 'right', 'on', 'off', 'stop', 'go']\n",
    "label_value = target_list\n",
    "label_value.append('unknown')\n",
    "label_value.append('silence')\n",
    "\n",
    "print('LABEL : ', label_value)\n",
    "\n",
    "new_label_value = dict()\n",
    "for i, l in enumerate(label_value):\n",
    "    new_label_value[l] = i\n",
    "label_value = new_label_value\n",
    "\n",
    "print('Indexed LABEL : ', new_label_value)"
   ]
  },
  {
   "cell_type": "code",
   "execution_count": 12,
   "id": "11e2ea16",
   "metadata": {},
   "outputs": [
    {
     "data": {
      "text/plain": [
       "array([ 3,  3,  3, ..., 11, 11, 11])"
      ]
     },
     "execution_count": 12,
     "metadata": {},
     "output_type": "execute_result"
    }
   ],
   "source": [
    "temp = []\n",
    "for v in speech_data[\"label_vals\"]:\n",
    "    temp.append(label_value[v[0]])\n",
    "label_data = np.array(temp)\n",
    "label_data"
   ]
  },
  {
   "cell_type": "code",
   "execution_count": 13,
   "id": "378ee23a",
   "metadata": {},
   "outputs": [
    {
     "name": "stdout",
     "output_type": "stream",
     "text": [
      "[[ 3.4168279e-03  5.2273110e-03  5.9024006e-04 ...  2.2987102e-03\n",
      "   1.6717988e-03 -2.3386294e-03]\n",
      " [ 6.2764422e-03  1.4127310e-02  1.0973018e-02 ... -5.4128999e-03\n",
      "  -2.1037154e-03 -4.4694701e-03]\n",
      " [-4.1886424e-06 -1.1775300e-04 -2.3891548e-04 ...  4.3292824e-04\n",
      "   4.8708063e-04  4.8978371e-04]\n",
      " ...\n",
      " [-1.5026439e-04 -1.0790041e-04  1.7209681e-04 ... -2.1528699e-03\n",
      "  -1.5382017e-03  4.7543677e-04]\n",
      " [-6.3443679e-04 -3.1228100e-03 -3.6444440e-03 ... -4.2386455e-03\n",
      "  -5.7402323e-03 -4.2056488e-03]\n",
      " [ 1.5354856e-03  2.0451983e-03  2.5023203e-03 ...  2.5339162e-03\n",
      "   3.6731926e-03  5.1221834e-03]]\n",
      "✅\n"
     ]
    }
   ],
   "source": [
    "from sklearn.model_selection import train_test_split\n",
    "\n",
    "sr = 8000\n",
    "train_wav, test_wav, train_label, test_label = train_test_split(speech_data[\"wav_vals\"],label_data,test_size=0.1,shuffle=True)\n",
    "\n",
    "print(train_wav)\n",
    "\n",
    "train_wav = train_wav.reshape([-1, sr, 1]) # add channel for CNN\n",
    "test_wav = test_wav.reshape([-1, sr, 1])\n",
    "print(\"✅\")\n"
   ]
  },
  {
   "cell_type": "code",
   "execution_count": 14,
   "id": "a5b0ffd2",
   "metadata": {},
   "outputs": [
    {
     "name": "stdout",
     "output_type": "stream",
     "text": [
      "train data :  (45558, 8000, 1)\n",
      "train labels :  (45558,)\n",
      "test data :  (5062, 8000, 1)\n",
      "test labels :  (5062,)\n",
      "✅\n"
     ]
    }
   ],
   "source": [
    "print(\"train data : \", train_wav.shape)\n",
    "print(\"train labels : \", train_label.shape)\n",
    "print(\"test data : \", test_wav.shape)\n",
    "print(\"test labels : \", test_label.shape)\n",
    "print(\"✅\")"
   ]
  },
  {
   "cell_type": "code",
   "execution_count": 15,
   "id": "49a42476",
   "metadata": {},
   "outputs": [
    {
     "data": {
      "text/plain": [
       "'C:/Users/User'"
      ]
     },
     "execution_count": 15,
     "metadata": {},
     "output_type": "execute_result"
    }
   ],
   "source": [
    "batch_size = 32\n",
    "max_epochs = 10\n",
    "# the save point\n",
    "checkpoint_dir = 'C:/Users/User'\n",
    "checkpoint_dir"
   ]
  },
  {
   "cell_type": "code",
   "execution_count": 17,
   "id": "5bc1ab7c",
   "metadata": {},
   "outputs": [
    {
     "name": "stdout",
     "output_type": "stream",
     "text": [
      "✅\n"
     ]
    }
   ],
   "source": [
    "def one_hot_label(wav, label):\n",
    "    label = tf.one_hot(label, depth=12)\n",
    "    return wav, label\n",
    "print(\"✅\")"
   ]
  },
  {
   "cell_type": "code",
   "execution_count": 18,
   "id": "93e9fb9d",
   "metadata": {},
   "outputs": [
    {
     "name": "stdout",
     "output_type": "stream",
     "text": [
      "<BatchDataset shapes: ((None, 8000, 1), (None, 12)), types: (tf.float32, tf.float32)>\n",
      "<BatchDataset shapes: ((None, 8000, 1), (None, 12)), types: (tf.float32, tf.float32)>\n",
      "✅\n"
     ]
    }
   ],
   "source": [
    "import tensorflow as tf\n",
    "# for train\n",
    "train_dataset = tf.data.Dataset.from_tensor_slices((train_wav, train_label))\n",
    "train_dataset = train_dataset.map(one_hot_label)\n",
    "train_dataset = train_dataset.repeat().batch(batch_size=batch_size)\n",
    "print(train_dataset)\n",
    "# for test\n",
    "test_dataset = tf.data.Dataset.from_tensor_slices((test_wav, test_label))\n",
    "test_dataset = test_dataset.map(one_hot_label)\n",
    "test_dataset = test_dataset.batch(batch_size=batch_size)\n",
    "print(test_dataset)\n",
    "print(\"✅\")"
   ]
  },
  {
   "cell_type": "code",
   "execution_count": 20,
   "id": "0880876c",
   "metadata": {},
   "outputs": [
    {
     "name": "stdout",
     "output_type": "stream",
     "text": [
      "Model: \"functional_1\"\n",
      "_________________________________________________________________\n",
      "Layer (type)                 Output Shape              Param #   \n",
      "=================================================================\n",
      "input_2 (InputLayer)         [(None, 8000, 1)]         0         \n",
      "_________________________________________________________________\n",
      "conv1d_8 (Conv1D)            (None, 8000, 32)          320       \n",
      "_________________________________________________________________\n",
      "conv1d_9 (Conv1D)            (None, 8000, 32)          9248      \n",
      "_________________________________________________________________\n",
      "max_pooling1d_3 (MaxPooling1 (None, 4000, 32)          0         \n",
      "_________________________________________________________________\n",
      "conv1d_10 (Conv1D)           (None, 4000, 64)          18496     \n",
      "_________________________________________________________________\n",
      "conv1d_11 (Conv1D)           (None, 4000, 64)          36928     \n",
      "_________________________________________________________________\n",
      "max_pooling1d_4 (MaxPooling1 (None, 2000, 64)          0         \n",
      "_________________________________________________________________\n",
      "conv1d_12 (Conv1D)           (None, 2000, 128)         73856     \n",
      "_________________________________________________________________\n",
      "conv1d_13 (Conv1D)           (None, 2000, 128)         147584    \n",
      "_________________________________________________________________\n",
      "conv1d_14 (Conv1D)           (None, 2000, 128)         147584    \n",
      "_________________________________________________________________\n",
      "max_pooling1d_5 (MaxPooling1 (None, 1000, 128)         0         \n",
      "_________________________________________________________________\n",
      "conv1d_15 (Conv1D)           (None, 1000, 256)         295168    \n",
      "_________________________________________________________________\n",
      "conv1d_16 (Conv1D)           (None, 1000, 256)         590080    \n",
      "_________________________________________________________________\n",
      "conv1d_17 (Conv1D)           (None, 1000, 256)         590080    \n",
      "_________________________________________________________________\n",
      "max_pooling1d_6 (MaxPooling1 (None, 500, 256)          0         \n",
      "_________________________________________________________________\n",
      "dropout (Dropout)            (None, 500, 256)          0         \n",
      "_________________________________________________________________\n",
      "flatten (Flatten)            (None, 128000)            0         \n",
      "_________________________________________________________________\n",
      "dense (Dense)                (None, 256)               32768256  \n",
      "_________________________________________________________________\n",
      "batch_normalization (BatchNo (None, 256)               1024      \n",
      "_________________________________________________________________\n",
      "activation (Activation)      (None, 256)               0         \n",
      "_________________________________________________________________\n",
      "dense_1 (Dense)              (None, 12)                3084      \n",
      "=================================================================\n",
      "Total params: 34,681,708\n",
      "Trainable params: 34,681,196\n",
      "Non-trainable params: 512\n",
      "_________________________________________________________________\n"
     ]
    }
   ],
   "source": [
    "from tensorflow.keras import layers\n",
    "input_tensor = layers.Input(shape=(sr, 1))\n",
    "x = layers.Conv1D(32, 9, padding='same', activation='relu')(input_tensor)\n",
    "x = layers.Conv1D(32, 9, padding='same', activation='relu')(x)\n",
    "x = layers.MaxPool1D()(x)\n",
    "x = layers.Conv1D(64, 9, padding='same', activation='relu')(x)\n",
    "x = layers.Conv1D(64, 9, padding='same', activation='relu')(x)\n",
    "x = layers.MaxPool1D()(x)\n",
    "x = layers.Conv1D(128, 9, padding='same', activation='relu')(x)\n",
    "x = layers.Conv1D(128, 9, padding='same', activation='relu')(x)\n",
    "x = layers.Conv1D(128, 9, padding='same', activation='relu')(x)\n",
    "x = layers.MaxPool1D()(x)\n",
    "x = layers.Conv1D(256, 9, padding='same', activation='relu')(x)\n",
    "x = layers.Conv1D(256, 9, padding='same', activation='relu')(x)\n",
    "x = layers.Conv1D(256, 9, padding='same', activation='relu')(x)\n",
    "x = layers.MaxPool1D()(x)\n",
    "x = layers.Dropout(0.3)(x)\n",
    "x = layers.Flatten()(x)\n",
    "x = layers.Dense(256)(x)\n",
    "x = layers.BatchNormalization()(x)\n",
    "x = layers.Activation('relu')(x)\n",
    "output_tensor = layers.Dense(12)(x)\n",
    "model_wav = tf.keras.Model(input_tensor, output_tensor)\n",
    "model_wav.summary()\n"
   ]
  },
  {
   "cell_type": "code",
   "execution_count": 22,
   "id": "c9ef48ff",
   "metadata": {},
   "outputs": [
    {
     "name": "stdout",
     "output_type": "stream",
     "text": [
      "✅\n"
     ]
    }
   ],
   "source": [
    "optimizer=tf.keras.optimizers.Adam(1e-4)\n",
    "model_wav.compile(loss=tf.keras.losses.CategoricalCrossentropy(from_logits=True),optimizer=optimizer,metrics=['accuracy'])\n",
    "print(\"✅\")"
   ]
  },
  {
   "cell_type": "code",
   "execution_count": 23,
   "id": "e5215c67",
   "metadata": {},
   "outputs": [
    {
     "name": "stdout",
     "output_type": "stream",
     "text": [
      "✅\n"
     ]
    }
   ],
   "source": [
    "cp_callback = tf.keras.callbacks.ModelCheckpoint(checkpoint_dir,save_weights_only=True,monitor='val_loss',mode='auto',save_best_only=True,verbose=1)\n",
    "print(\"✅\")"
   ]
  },
  {
   "cell_type": "code",
   "execution_count": 24,
   "id": "2f5ddca7",
   "metadata": {},
   "outputs": [
    {
     "name": "stdout",
     "output_type": "stream",
     "text": [
      "Epoch 1/10\n",
      " 135/1423 [=>............................] - ETA: 1:37:15 - loss: 2.2824 - accuracy: 0.2053"
     ]
    },
    {
     "ename": "KeyboardInterrupt",
     "evalue": "",
     "output_type": "error",
     "traceback": [
      "\u001b[1;31m---------------------------------------------------------------------------\u001b[0m",
      "\u001b[1;31mKeyboardInterrupt\u001b[0m                         Traceback (most recent call last)",
      "\u001b[1;32m<ipython-input-24-ca8941de2828>\u001b[0m in \u001b[0;36m<module>\u001b[1;34m\u001b[0m\n\u001b[1;32m----> 1\u001b[1;33m \u001b[0mhistory_wav\u001b[0m \u001b[1;33m=\u001b[0m \u001b[0mmodel_wav\u001b[0m\u001b[1;33m.\u001b[0m\u001b[0mfit\u001b[0m\u001b[1;33m(\u001b[0m\u001b[0mtrain_dataset\u001b[0m\u001b[1;33m,\u001b[0m \u001b[0mepochs\u001b[0m\u001b[1;33m=\u001b[0m\u001b[0mmax_epochs\u001b[0m\u001b[1;33m,\u001b[0m\u001b[0msteps_per_epoch\u001b[0m\u001b[1;33m=\u001b[0m\u001b[0mlen\u001b[0m\u001b[1;33m(\u001b[0m\u001b[0mtrain_wav\u001b[0m\u001b[1;33m)\u001b[0m \u001b[1;33m//\u001b[0m \u001b[0mbatch_size\u001b[0m\u001b[1;33m,\u001b[0m\u001b[0mvalidation_data\u001b[0m\u001b[1;33m=\u001b[0m\u001b[0mtest_dataset\u001b[0m\u001b[1;33m,\u001b[0m\u001b[0mvalidation_steps\u001b[0m\u001b[1;33m=\u001b[0m\u001b[0mlen\u001b[0m\u001b[1;33m(\u001b[0m\u001b[0mtest_wav\u001b[0m\u001b[1;33m)\u001b[0m \u001b[1;33m//\u001b[0m \u001b[0mbatch_size\u001b[0m\u001b[1;33m,\u001b[0m\u001b[0mcallbacks\u001b[0m\u001b[1;33m=\u001b[0m\u001b[1;33m[\u001b[0m\u001b[0mcp_callback\u001b[0m\u001b[1;33m]\u001b[0m\u001b[1;33m)\u001b[0m\u001b[1;33m\u001b[0m\u001b[1;33m\u001b[0m\u001b[0m\n\u001b[0m\u001b[0;32m      2\u001b[0m \u001b[0mprint\u001b[0m\u001b[1;33m(\u001b[0m\u001b[1;34m\"✅\"\u001b[0m\u001b[1;33m)\u001b[0m\u001b[1;33m\u001b[0m\u001b[1;33m\u001b[0m\u001b[0m\n",
      "\u001b[1;32m~\\anaconda3\\lib\\site-packages\\tensorflow\\python\\keras\\engine\\training.py\u001b[0m in \u001b[0;36m_method_wrapper\u001b[1;34m(self, *args, **kwargs)\u001b[0m\n\u001b[0;32m    106\u001b[0m   \u001b[1;32mdef\u001b[0m \u001b[0m_method_wrapper\u001b[0m\u001b[1;33m(\u001b[0m\u001b[0mself\u001b[0m\u001b[1;33m,\u001b[0m \u001b[1;33m*\u001b[0m\u001b[0margs\u001b[0m\u001b[1;33m,\u001b[0m \u001b[1;33m**\u001b[0m\u001b[0mkwargs\u001b[0m\u001b[1;33m)\u001b[0m\u001b[1;33m:\u001b[0m\u001b[1;33m\u001b[0m\u001b[1;33m\u001b[0m\u001b[0m\n\u001b[0;32m    107\u001b[0m     \u001b[1;32mif\u001b[0m \u001b[1;32mnot\u001b[0m \u001b[0mself\u001b[0m\u001b[1;33m.\u001b[0m\u001b[0m_in_multi_worker_mode\u001b[0m\u001b[1;33m(\u001b[0m\u001b[1;33m)\u001b[0m\u001b[1;33m:\u001b[0m  \u001b[1;31m# pylint: disable=protected-access\u001b[0m\u001b[1;33m\u001b[0m\u001b[1;33m\u001b[0m\u001b[0m\n\u001b[1;32m--> 108\u001b[1;33m       \u001b[1;32mreturn\u001b[0m \u001b[0mmethod\u001b[0m\u001b[1;33m(\u001b[0m\u001b[0mself\u001b[0m\u001b[1;33m,\u001b[0m \u001b[1;33m*\u001b[0m\u001b[0margs\u001b[0m\u001b[1;33m,\u001b[0m \u001b[1;33m**\u001b[0m\u001b[0mkwargs\u001b[0m\u001b[1;33m)\u001b[0m\u001b[1;33m\u001b[0m\u001b[1;33m\u001b[0m\u001b[0m\n\u001b[0m\u001b[0;32m    109\u001b[0m \u001b[1;33m\u001b[0m\u001b[0m\n\u001b[0;32m    110\u001b[0m     \u001b[1;31m# Running inside `run_distribute_coordinator` already.\u001b[0m\u001b[1;33m\u001b[0m\u001b[1;33m\u001b[0m\u001b[1;33m\u001b[0m\u001b[0m\n",
      "\u001b[1;32m~\\anaconda3\\lib\\site-packages\\tensorflow\\python\\keras\\engine\\training.py\u001b[0m in \u001b[0;36mfit\u001b[1;34m(self, x, y, batch_size, epochs, verbose, callbacks, validation_split, validation_data, shuffle, class_weight, sample_weight, initial_epoch, steps_per_epoch, validation_steps, validation_batch_size, validation_freq, max_queue_size, workers, use_multiprocessing)\u001b[0m\n\u001b[0;32m   1096\u001b[0m                 batch_size=batch_size):\n\u001b[0;32m   1097\u001b[0m               \u001b[0mcallbacks\u001b[0m\u001b[1;33m.\u001b[0m\u001b[0mon_train_batch_begin\u001b[0m\u001b[1;33m(\u001b[0m\u001b[0mstep\u001b[0m\u001b[1;33m)\u001b[0m\u001b[1;33m\u001b[0m\u001b[1;33m\u001b[0m\u001b[0m\n\u001b[1;32m-> 1098\u001b[1;33m               \u001b[0mtmp_logs\u001b[0m \u001b[1;33m=\u001b[0m \u001b[0mtrain_function\u001b[0m\u001b[1;33m(\u001b[0m\u001b[0miterator\u001b[0m\u001b[1;33m)\u001b[0m\u001b[1;33m\u001b[0m\u001b[1;33m\u001b[0m\u001b[0m\n\u001b[0m\u001b[0;32m   1099\u001b[0m               \u001b[1;32mif\u001b[0m \u001b[0mdata_handler\u001b[0m\u001b[1;33m.\u001b[0m\u001b[0mshould_sync\u001b[0m\u001b[1;33m:\u001b[0m\u001b[1;33m\u001b[0m\u001b[1;33m\u001b[0m\u001b[0m\n\u001b[0;32m   1100\u001b[0m                 \u001b[0mcontext\u001b[0m\u001b[1;33m.\u001b[0m\u001b[0masync_wait\u001b[0m\u001b[1;33m(\u001b[0m\u001b[1;33m)\u001b[0m\u001b[1;33m\u001b[0m\u001b[1;33m\u001b[0m\u001b[0m\n",
      "\u001b[1;32m~\\anaconda3\\lib\\site-packages\\tensorflow\\python\\eager\\def_function.py\u001b[0m in \u001b[0;36m__call__\u001b[1;34m(self, *args, **kwds)\u001b[0m\n\u001b[0;32m    778\u001b[0m       \u001b[1;32melse\u001b[0m\u001b[1;33m:\u001b[0m\u001b[1;33m\u001b[0m\u001b[1;33m\u001b[0m\u001b[0m\n\u001b[0;32m    779\u001b[0m         \u001b[0mcompiler\u001b[0m \u001b[1;33m=\u001b[0m \u001b[1;34m\"nonXla\"\u001b[0m\u001b[1;33m\u001b[0m\u001b[1;33m\u001b[0m\u001b[0m\n\u001b[1;32m--> 780\u001b[1;33m         \u001b[0mresult\u001b[0m \u001b[1;33m=\u001b[0m \u001b[0mself\u001b[0m\u001b[1;33m.\u001b[0m\u001b[0m_call\u001b[0m\u001b[1;33m(\u001b[0m\u001b[1;33m*\u001b[0m\u001b[0margs\u001b[0m\u001b[1;33m,\u001b[0m \u001b[1;33m**\u001b[0m\u001b[0mkwds\u001b[0m\u001b[1;33m)\u001b[0m\u001b[1;33m\u001b[0m\u001b[1;33m\u001b[0m\u001b[0m\n\u001b[0m\u001b[0;32m    781\u001b[0m \u001b[1;33m\u001b[0m\u001b[0m\n\u001b[0;32m    782\u001b[0m       \u001b[0mnew_tracing_count\u001b[0m \u001b[1;33m=\u001b[0m \u001b[0mself\u001b[0m\u001b[1;33m.\u001b[0m\u001b[0m_get_tracing_count\u001b[0m\u001b[1;33m(\u001b[0m\u001b[1;33m)\u001b[0m\u001b[1;33m\u001b[0m\u001b[1;33m\u001b[0m\u001b[0m\n",
      "\u001b[1;32m~\\anaconda3\\lib\\site-packages\\tensorflow\\python\\eager\\def_function.py\u001b[0m in \u001b[0;36m_call\u001b[1;34m(self, *args, **kwds)\u001b[0m\n\u001b[0;32m    805\u001b[0m       \u001b[1;31m# In this case we have created variables on the first call, so we run the\u001b[0m\u001b[1;33m\u001b[0m\u001b[1;33m\u001b[0m\u001b[1;33m\u001b[0m\u001b[0m\n\u001b[0;32m    806\u001b[0m       \u001b[1;31m# defunned version which is guaranteed to never create variables.\u001b[0m\u001b[1;33m\u001b[0m\u001b[1;33m\u001b[0m\u001b[1;33m\u001b[0m\u001b[0m\n\u001b[1;32m--> 807\u001b[1;33m       \u001b[1;32mreturn\u001b[0m \u001b[0mself\u001b[0m\u001b[1;33m.\u001b[0m\u001b[0m_stateless_fn\u001b[0m\u001b[1;33m(\u001b[0m\u001b[1;33m*\u001b[0m\u001b[0margs\u001b[0m\u001b[1;33m,\u001b[0m \u001b[1;33m**\u001b[0m\u001b[0mkwds\u001b[0m\u001b[1;33m)\u001b[0m  \u001b[1;31m# pylint: disable=not-callable\u001b[0m\u001b[1;33m\u001b[0m\u001b[1;33m\u001b[0m\u001b[0m\n\u001b[0m\u001b[0;32m    808\u001b[0m     \u001b[1;32melif\u001b[0m \u001b[0mself\u001b[0m\u001b[1;33m.\u001b[0m\u001b[0m_stateful_fn\u001b[0m \u001b[1;32mis\u001b[0m \u001b[1;32mnot\u001b[0m \u001b[1;32mNone\u001b[0m\u001b[1;33m:\u001b[0m\u001b[1;33m\u001b[0m\u001b[1;33m\u001b[0m\u001b[0m\n\u001b[0;32m    809\u001b[0m       \u001b[1;31m# Release the lock early so that multiple threads can perform the call\u001b[0m\u001b[1;33m\u001b[0m\u001b[1;33m\u001b[0m\u001b[1;33m\u001b[0m\u001b[0m\n",
      "\u001b[1;32m~\\anaconda3\\lib\\site-packages\\tensorflow\\python\\eager\\function.py\u001b[0m in \u001b[0;36m__call__\u001b[1;34m(self, *args, **kwargs)\u001b[0m\n\u001b[0;32m   2827\u001b[0m     \u001b[1;32mwith\u001b[0m \u001b[0mself\u001b[0m\u001b[1;33m.\u001b[0m\u001b[0m_lock\u001b[0m\u001b[1;33m:\u001b[0m\u001b[1;33m\u001b[0m\u001b[1;33m\u001b[0m\u001b[0m\n\u001b[0;32m   2828\u001b[0m       \u001b[0mgraph_function\u001b[0m\u001b[1;33m,\u001b[0m \u001b[0margs\u001b[0m\u001b[1;33m,\u001b[0m \u001b[0mkwargs\u001b[0m \u001b[1;33m=\u001b[0m \u001b[0mself\u001b[0m\u001b[1;33m.\u001b[0m\u001b[0m_maybe_define_function\u001b[0m\u001b[1;33m(\u001b[0m\u001b[0margs\u001b[0m\u001b[1;33m,\u001b[0m \u001b[0mkwargs\u001b[0m\u001b[1;33m)\u001b[0m\u001b[1;33m\u001b[0m\u001b[1;33m\u001b[0m\u001b[0m\n\u001b[1;32m-> 2829\u001b[1;33m     \u001b[1;32mreturn\u001b[0m \u001b[0mgraph_function\u001b[0m\u001b[1;33m.\u001b[0m\u001b[0m_filtered_call\u001b[0m\u001b[1;33m(\u001b[0m\u001b[0margs\u001b[0m\u001b[1;33m,\u001b[0m \u001b[0mkwargs\u001b[0m\u001b[1;33m)\u001b[0m  \u001b[1;31m# pylint: disable=protected-access\u001b[0m\u001b[1;33m\u001b[0m\u001b[1;33m\u001b[0m\u001b[0m\n\u001b[0m\u001b[0;32m   2830\u001b[0m \u001b[1;33m\u001b[0m\u001b[0m\n\u001b[0;32m   2831\u001b[0m   \u001b[1;33m@\u001b[0m\u001b[0mproperty\u001b[0m\u001b[1;33m\u001b[0m\u001b[1;33m\u001b[0m\u001b[0m\n",
      "\u001b[1;32m~\\anaconda3\\lib\\site-packages\\tensorflow\\python\\eager\\function.py\u001b[0m in \u001b[0;36m_filtered_call\u001b[1;34m(self, args, kwargs, cancellation_manager)\u001b[0m\n\u001b[0;32m   1841\u001b[0m       \u001b[0;31m`\u001b[0m\u001b[0margs\u001b[0m\u001b[0;31m`\u001b[0m \u001b[1;32mand\u001b[0m\u001b[0;31m \u001b[0m\u001b[0;31m`\u001b[0m\u001b[0mkwargs\u001b[0m\u001b[0;31m`\u001b[0m\u001b[1;33m.\u001b[0m\u001b[1;33m\u001b[0m\u001b[1;33m\u001b[0m\u001b[0m\n\u001b[0;32m   1842\u001b[0m     \"\"\"\n\u001b[1;32m-> 1843\u001b[1;33m     return self._call_flat(\n\u001b[0m\u001b[0;32m   1844\u001b[0m         [t for t in nest.flatten((args, kwargs), expand_composites=True)\n\u001b[0;32m   1845\u001b[0m          if isinstance(t, (ops.Tensor,\n",
      "\u001b[1;32m~\\anaconda3\\lib\\site-packages\\tensorflow\\python\\eager\\function.py\u001b[0m in \u001b[0;36m_call_flat\u001b[1;34m(self, args, captured_inputs, cancellation_manager)\u001b[0m\n\u001b[0;32m   1921\u001b[0m         and executing_eagerly):\n\u001b[0;32m   1922\u001b[0m       \u001b[1;31m# No tape is watching; skip to running the function.\u001b[0m\u001b[1;33m\u001b[0m\u001b[1;33m\u001b[0m\u001b[1;33m\u001b[0m\u001b[0m\n\u001b[1;32m-> 1923\u001b[1;33m       return self._build_call_outputs(self._inference_function.call(\n\u001b[0m\u001b[0;32m   1924\u001b[0m           ctx, args, cancellation_manager=cancellation_manager))\n\u001b[0;32m   1925\u001b[0m     forward_backward = self._select_forward_and_backward_functions(\n",
      "\u001b[1;32m~\\anaconda3\\lib\\site-packages\\tensorflow\\python\\eager\\function.py\u001b[0m in \u001b[0;36mcall\u001b[1;34m(self, ctx, args, cancellation_manager)\u001b[0m\n\u001b[0;32m    543\u001b[0m       \u001b[1;32mwith\u001b[0m \u001b[0m_InterpolateFunctionError\u001b[0m\u001b[1;33m(\u001b[0m\u001b[0mself\u001b[0m\u001b[1;33m)\u001b[0m\u001b[1;33m:\u001b[0m\u001b[1;33m\u001b[0m\u001b[1;33m\u001b[0m\u001b[0m\n\u001b[0;32m    544\u001b[0m         \u001b[1;32mif\u001b[0m \u001b[0mcancellation_manager\u001b[0m \u001b[1;32mis\u001b[0m \u001b[1;32mNone\u001b[0m\u001b[1;33m:\u001b[0m\u001b[1;33m\u001b[0m\u001b[1;33m\u001b[0m\u001b[0m\n\u001b[1;32m--> 545\u001b[1;33m           outputs = execute.execute(\n\u001b[0m\u001b[0;32m    546\u001b[0m               \u001b[0mstr\u001b[0m\u001b[1;33m(\u001b[0m\u001b[0mself\u001b[0m\u001b[1;33m.\u001b[0m\u001b[0msignature\u001b[0m\u001b[1;33m.\u001b[0m\u001b[0mname\u001b[0m\u001b[1;33m)\u001b[0m\u001b[1;33m,\u001b[0m\u001b[1;33m\u001b[0m\u001b[1;33m\u001b[0m\u001b[0m\n\u001b[0;32m    547\u001b[0m               \u001b[0mnum_outputs\u001b[0m\u001b[1;33m=\u001b[0m\u001b[0mself\u001b[0m\u001b[1;33m.\u001b[0m\u001b[0m_num_outputs\u001b[0m\u001b[1;33m,\u001b[0m\u001b[1;33m\u001b[0m\u001b[1;33m\u001b[0m\u001b[0m\n",
      "\u001b[1;32m~\\anaconda3\\lib\\site-packages\\tensorflow\\python\\eager\\execute.py\u001b[0m in \u001b[0;36mquick_execute\u001b[1;34m(op_name, num_outputs, inputs, attrs, ctx, name)\u001b[0m\n\u001b[0;32m     57\u001b[0m   \u001b[1;32mtry\u001b[0m\u001b[1;33m:\u001b[0m\u001b[1;33m\u001b[0m\u001b[1;33m\u001b[0m\u001b[0m\n\u001b[0;32m     58\u001b[0m     \u001b[0mctx\u001b[0m\u001b[1;33m.\u001b[0m\u001b[0mensure_initialized\u001b[0m\u001b[1;33m(\u001b[0m\u001b[1;33m)\u001b[0m\u001b[1;33m\u001b[0m\u001b[1;33m\u001b[0m\u001b[0m\n\u001b[1;32m---> 59\u001b[1;33m     tensors = pywrap_tfe.TFE_Py_Execute(ctx._handle, device_name, op_name,\n\u001b[0m\u001b[0;32m     60\u001b[0m                                         inputs, attrs, num_outputs)\n\u001b[0;32m     61\u001b[0m   \u001b[1;32mexcept\u001b[0m \u001b[0mcore\u001b[0m\u001b[1;33m.\u001b[0m\u001b[0m_NotOkStatusException\u001b[0m \u001b[1;32mas\u001b[0m \u001b[0me\u001b[0m\u001b[1;33m:\u001b[0m\u001b[1;33m\u001b[0m\u001b[1;33m\u001b[0m\u001b[0m\n",
      "\u001b[1;31mKeyboardInterrupt\u001b[0m: "
     ]
    }
   ],
   "source": [
    "history_wav = model_wav.fit(train_dataset, epochs=max_epochs,steps_per_epoch=len(train_wav) // batch_size,validation_data=test_dataset,validation_steps=len(test_wav) // batch_size,callbacks=[cp_callback])\n",
    "print(\"✅\")"
   ]
  },
  {
   "cell_type": "code",
   "execution_count": null,
   "id": "4311a77f",
   "metadata": {},
   "outputs": [],
   "source": []
  },
  {
   "cell_type": "code",
   "execution_count": null,
   "id": "a71bcd6c",
   "metadata": {
    "collapsed": true
   },
   "outputs": [],
   "source": []
  },
  {
   "cell_type": "code",
   "execution_count": null,
   "id": "b89b8c6c",
   "metadata": {},
   "outputs": [],
   "source": []
  }
 ],
 "metadata": {
  "kernelspec": {
   "display_name": "Python 3",
   "language": "python",
   "name": "python3"
  },
  "language_info": {
   "codemirror_mode": {
    "name": "ipython",
    "version": 3
   },
   "file_extension": ".py",
   "mimetype": "text/x-python",
   "name": "python",
   "nbconvert_exporter": "python",
   "pygments_lexer": "ipython3",
   "version": "3.8.8"
  },
  "vp": {
   "base_numbering": 1,
   "nav_menu": {},
   "number_sections": true,
   "sideBar": true,
   "title_cell": "VisualPython",
   "title_sidebar": "VisualPython",
   "vpPosition": {
    "height": "calc(100% - 180px)",
    "right": "10px",
    "top": "110px",
    "width": "50%"
   },
   "vp_cell": false,
   "vp_section_display": true,
   "vp_window_display": false
  }
 },
 "nbformat": 4,
 "nbformat_minor": 5
}
