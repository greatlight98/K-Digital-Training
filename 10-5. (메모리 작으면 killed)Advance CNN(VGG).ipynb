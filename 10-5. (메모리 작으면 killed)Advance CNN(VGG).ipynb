{
 "cells": [
  {
   "cell_type": "markdown",
   "metadata": {},
   "source": [
    "# 1. 오늘 배워볼 것은?\n",
    " - VGG Network 만들기"
   ]
  },
  {
   "cell_type": "markdown",
   "metadata": {},
   "source": [
    "# 2. VGG-net 이란?\n",
    " - 참고 : http://blog.naver.com/PostView.nhn?blogId=laonple&logNo=221259295035\n",
    " - Oxford VGG(Visual Geometry Group)에서 만든 Network이다.\n",
    " - VGGNet은 Network의 깊이가 어떤 영향을 주는지 연구를 하기 위해서 설계된 Network이다. 따라서 Convolution kernel 사이즈를 한 사이즈로 정하고 Convolution의 개수를 늘리는 방식으로 테스트를 진행했다.\n",
    " - VGG-net은 전부 3 * 3 convolution, stride 1, padding 1으로 이루어져 있다.\n",
    " - 이론적으로는 5 * 5 kernel이나 3 * 3 kernel 2개나 성능적으로 동일하지만, VGGNet 팀이 테스트 한 결과 3 * 3 Kernel의 중첩이 더 좋았다. 그 이유는 non-linear 함수인 ReLU가 더 많이 들어가서 decision function이 더 잘 학습되기 때문이다. \n",
    " - 실험 결과 network의 깊이가 깊어질 수록 error가 내려간다. 하지만 19 layer부터는 성능이 나빠지는 것을 알 수 있었다."
   ]
  },
  {
   "cell_type": "markdown",
   "metadata": {},
   "source": [
    "# 3. torchvision.models.vgg\n",
    " - torchvision의 모듈을 통해 vgg11 ~ vgg19까지 만들 수 있다.\n",
    " - 3(RGB) * 224 * 224의 input을 기준으로 만들도록 되어 있다.\n",
    " - 오늘 실습을 통해 input size가 다른 경우에 VGG를 적용해 보자!"
   ]
  },
  {
   "cell_type": "markdown",
   "metadata": {},
   "source": [
    "# 4. VGG Network 만들어 보기!"
   ]
  },
  {
   "cell_type": "code",
   "execution_count": 1,
   "metadata": {},
   "outputs": [],
   "source": [
    "# 1. 라이브러리 로드\n",
    "import torch.nn as nn\n",
    "import torch.utils.model_zoo as model_zoo"
   ]
  },
  {
   "cell_type": "code",
   "execution_count": 2,
   "metadata": {},
   "outputs": [],
   "source": [
    "# 2. 모델 URL 지정하기 (PyTorch에서 ImageNet 챌린지 데이터셋을 기반으로 pretrain 시켜놓은 모델들)\n",
    "# 변수 선언\n",
    "__all__ = [\n",
    "  'VGG', 'vgg11', 'vgg11_bn', 'vgg13', 'vgg13_bn', 'vgg16', 'vgg16_bn', 'vgg19_bn', 'vgg19',\n",
    "]\n",
    "\n",
    "# Pretrain 모델 URL\n",
    "model_urls = {\n",
    "  'vgg11': 'https://download.pytorch.org/models/vgg11-bbd30ac9.pth',\n",
    "  'vgg13': 'https://download.pytorch.org/models/vgg13-c768596a.pth',\n",
    "  'vgg16': 'https://download.pytorch.org/models/vgg16-397923af.pth',\n",
    "  'vgg19': 'https://download.pytorch.org/models/vgg19-dcbb9e9d.pth',\n",
    "  'vgg11_bn': 'https://download.pytorch.org/models/vgg11_bn-6002323d.pth',\n",
    "  'vgg13_bn': 'https://download.pytorch.org/models/vgg13_bn-abd245e5.pth',\n",
    "  'vgg16_bn': 'https://download.pytorch.org/models/vgg16_bn-6c64b313.pth',\n",
    "  'vgg19_bn': 'https://download.pytorch.org/models/vgg19_bn-c79401a0.pth',  \n",
    "}"
   ]
  },
  {
   "cell_type": "code",
   "execution_count": 3,
   "metadata": {},
   "outputs": [],
   "source": [
    "# 3. VGG 네트워크 만들어 놓기\n",
    "class VGG(nn.Module): # nn.Module의 클래스를 상속받아서 이용한다.\n",
    "  def __init__(self, features, num_classes=1000, init_weights=True): # VGG 네트워크를 만들 때 초기 입력 파라미터로 Convolution(features), 분류 클래스 수, weight initialize 여부를 입력한다.\n",
    "    super(VGG, self).__init__()\n",
    "    self.features = features # 파라미터로 받은 값을 self.features로 설정.\n",
    "    self.avgpool = nn.AdaptiveAvgPool2d((7, 7))\n",
    "    \n",
    "    # Classifier : VGG의 Classifier는 fully connected layer 3개로 이루어져 있다.\n",
    "    self.classifier = nn.Sequential(\n",
    "      nn.Linear(512 * 7 * 7, 4096), # FC Layer 1. 512 * 7 * 7은 도큐먼트에 적혀있는 기본 사이즈이다. 이와 Image 사이즈가 다르거나, (custom layer 등을 이용해서) Convolution의 결과 output이 다른 경우 이 부분을 수정해 줘야 한다!\n",
    "      nn.ReLU(True),\n",
    "      nn.Dropout(),\n",
    "      nn.Linear(4096, 4096), # FC Layer 2\n",
    "      nn.ReLU(True),\n",
    "      nn.Dropout(),\n",
    "      nn.Linear(4096, num_classes), # FC Layer 3\n",
    "    )\n",
    "    \n",
    "    # weight initialize\n",
    "    if init_weights:\n",
    "      self._initialize_weights()\n",
    "      \n",
    "  # Forward 정의\n",
    "  def forward(self, x):\n",
    "    x = self.features(x) # Convolution\n",
    "    x = self.avgpool(x) # AvgPool\n",
    "    x = x.view(x.size(0), -1) # 일렬로 펼치기\n",
    "    x = self.classifier(x) # FC Layer\n",
    "    return x\n",
    "    \n",
    "  # 모듈 내용 별로 initialize weights 정의\n",
    "  def _initialize_weights(self):\n",
    "    for m in self.modules(): # 모듈을 하나씩 꺼내 봤을 때,\n",
    "      if isinstance(m, nn.Conv2d): # 만약 m이 Convolution이면\n",
    "        nn.init.kaiming_normal_(m.weight, mode='fan_out', nonlinearity='relu') # kaining_normal_로 filter의 weight를 초기화를 하라\n",
    "        if m.bias is not None: # VGG Net에서는 bias 값이 0이여야 하므로\n",
    "          nn.init.constant_(m.bias, 0) # m.bias를 0으로 초기화\n",
    "      elif isinstance(m, nn.BatchNorm2d): # 만약 m이 BatchNorm이면\n",
    "        nn.init.constant_(m.weight, 1) # weight는 전부 1로, bias는 전부 0으로 초기화\n",
    "        nn.init.constant_(m.bias, 0)\n",
    "      elif isinstance(m, nn.Linear): # 만약 m이 nn.Linear이면\n",
    "        nn.init.normal_(m.weight, 0, 0.01) # 다음과 같이 초기화\n",
    "        nn.init.constant_(m.bias, 0)\n",
    "        \n",
    "  # Convolution Layer(feature)가 쌓이는 구조 정의\n",
    "def make_layers(cfg, batch_norm=False):\n",
    "    layers = [] # 레이어를 쌓을 빈 리스트 선언\n",
    "    in_Channels = 3 # input channel 3\n",
    "    \n",
    "    for v in cfg: # cfg에서 하나씩 빼서 v로 이용\n",
    "      if v == 'M': # cfg에서 빼온 값이 M이면\n",
    "        layers += [nn.MaxPool2d(kernel_size=2, stride=2)] # MaxPool 추가\n",
    "      else: # cfg에서 빼온 값이 M이 아니면\n",
    "        conv2d = nn.Conv2d(in_Channels, v, kernel_size=3, padding=1) # v를 이용해 conv2d 정의\n",
    "        if batch_norm: # batch_norm = True인 경우\n",
    "          layers += [conv2d, nn.BatchNorm2d(v), nn.ReLU(inplace=True)] # 이 레이어를 layers 리스트에 추가!\n",
    "        else: # batch_norm = False인 경우\n",
    "          layers += [conv2d, nn.ReLU(inplace=True)] # 이 레이어를 layers 리스트에 추가!\n",
    "        in_channels = v # 중요! in_channels를 v로 바꿔준다. conv 레이어를 통과하고 나면 채널 수가 바뀌기 때문에, 다음 layer의 input에 들어갈 값을 바꿔줘야 한다.\n",
    "        \n",
    "    return nn.Sequential(*layers)"
   ]
  },
  {
   "cell_type": "code",
   "execution_count": 4,
   "metadata": {},
   "outputs": [],
   "source": [
    "# 4. Convolution Layer 쌓을 내용 선언 (make_layers에 넣을 내용)\n",
    "cfg = { # cfg의 값에 따라 Convolution Layer가 쌓이게 된다.\n",
    "  'A': [64, 'M', 128, 'M', 256, 256, 'M', 512, 512, 'M', 512, 512, 'M'], # 이렇게 레이어를 쌓으면 Convolution 8 + Fully Connecyed 3가 나온다. => 11 => vgg11\n",
    "  'B': [64, 64, 'M', 128, 128, 'M', 256, 256, 'M', 512, 512, 'M', 512, 512, 'M'], # 10 + 3 = vgg 13\n",
    "  'D': [64, 64, 'M', 128, 128, 'M', 256, 256, 256, 'M', 512, 512, 512, 'M', 512, 512, 512, 'M'], #1 3 + 3 = vgg 16\n",
    "  'E': [64, 64, 'M', 128, 128, 'M', 256, 256, 256, 256, 'M', 512, 512, 512, 512, 'M', 512, 512, 512, 512, 'M'], # 16 +3 = vgg 19\n",
    "  'custom' : [64,64,64,'M',128,128,128,'M',256,256,256,'M'] # 그 외 사용자가 임의로 설정 가능!\n",
    "}"
   ]
  },
  {
   "cell_type": "code",
   "execution_count": 5,
   "metadata": {},
   "outputs": [
    {
     "data": {
      "text/plain": [
       "VGG(\n",
       "  (features): Sequential(\n",
       "    (0): Conv2d(3, 64, kernel_size=(3, 3), stride=(1, 1), padding=(1, 1))\n",
       "    (1): ReLU(inplace=True)\n",
       "    (2): Conv2d(3, 64, kernel_size=(3, 3), stride=(1, 1), padding=(1, 1))\n",
       "    (3): ReLU(inplace=True)\n",
       "    (4): Conv2d(3, 64, kernel_size=(3, 3), stride=(1, 1), padding=(1, 1))\n",
       "    (5): ReLU(inplace=True)\n",
       "    (6): MaxPool2d(kernel_size=2, stride=2, padding=0, dilation=1, ceil_mode=False)\n",
       "    (7): Conv2d(3, 128, kernel_size=(3, 3), stride=(1, 1), padding=(1, 1))\n",
       "    (8): ReLU(inplace=True)\n",
       "    (9): Conv2d(3, 128, kernel_size=(3, 3), stride=(1, 1), padding=(1, 1))\n",
       "    (10): ReLU(inplace=True)\n",
       "    (11): Conv2d(3, 128, kernel_size=(3, 3), stride=(1, 1), padding=(1, 1))\n",
       "    (12): ReLU(inplace=True)\n",
       "    (13): MaxPool2d(kernel_size=2, stride=2, padding=0, dilation=1, ceil_mode=False)\n",
       "    (14): Conv2d(3, 256, kernel_size=(3, 3), stride=(1, 1), padding=(1, 1))\n",
       "    (15): ReLU(inplace=True)\n",
       "    (16): Conv2d(3, 256, kernel_size=(3, 3), stride=(1, 1), padding=(1, 1))\n",
       "    (17): ReLU(inplace=True)\n",
       "    (18): Conv2d(3, 256, kernel_size=(3, 3), stride=(1, 1), padding=(1, 1))\n",
       "    (19): ReLU(inplace=True)\n",
       "    (20): MaxPool2d(kernel_size=2, stride=2, padding=0, dilation=1, ceil_mode=False)\n",
       "  )\n",
       "  (avgpool): AdaptiveAvgPool2d(output_size=(7, 7))\n",
       "  (classifier): Sequential(\n",
       "    (0): Linear(in_features=25088, out_features=4096, bias=True)\n",
       "    (1): ReLU(inplace=True)\n",
       "    (2): Dropout(p=0.5, inplace=False)\n",
       "    (3): Linear(in_features=4096, out_features=4096, bias=True)\n",
       "    (4): ReLU(inplace=True)\n",
       "    (5): Dropout(p=0.5, inplace=False)\n",
       "    (6): Linear(in_features=4096, out_features=10, bias=True)\n",
       "  )\n",
       ")"
      ]
     },
     "execution_count": 5,
     "metadata": {},
     "output_type": "execute_result"
    }
   ],
   "source": [
    "# 5. 만들어 놓은 VGG 네트워크 이용하여 모델 만들기\n",
    "# Convolution Layer 만들기\n",
    "#conv = make_layers(cfg['custom'], batch_norm=True) # Convolution layer를 cfg 중 'custom'에 따라 쌓게 한다. batch norm = True로 설정.  => 이 줄이 있는 이유를 모르겠음\n",
    "CNN = VGG(make_layers(cfg['custom']), num_classes=10, init_weights=True) # VGG의 파라미터로 Convolution layer(feature), class 개수, weights initialize를 설정하여 VGG 모델(CNN)을 만든다.\n",
    "CNN"
   ]
  },
  {
   "cell_type": "markdown",
   "metadata": {},
   "source": [
    "# 5. VGG Network를 실제 데이터에 이용하기 전에\n",
    " - 주피터노트북을 Text로 만들어서 이름을 vgg.py로 설정하고, Pytorch 홈페이지의 Torchvision.model에 있는 VGG를 복사해서 붙여 넣는다.\n",
    " - 학습할 위치의 같은 폴더 안에 이 파일이 있어야 VGG를 불러와서 사용할 수 있다!\n",
    " - 위의 방법이 귀찮다면 그냥 import torchvision.models.vgg as vgg로도 사용 가능하다."
   ]
  },
  {
   "cell_type": "markdown",
   "metadata": {},
   "source": [
    "# 6. CIFAR10 데이터에 VGG 적용하기"
   ]
  },
  {
   "cell_type": "code",
   "execution_count": 6,
   "metadata": {},
   "outputs": [],
   "source": [
    "# 1. 라이브러리 로드\n",
    "import torch\n",
    "import torch.nn as nn\n",
    "import torch.optim as optim\n",
    "import torchvision\n",
    "import torchvision.transforms as transforms"
   ]
  },
  {
   "cell_type": "code",
   "execution_count": 7,
   "metadata": {},
   "outputs": [
    {
     "name": "stderr",
     "output_type": "stream",
     "text": [
      "Setting up a new session...\n"
     ]
    },
    {
     "data": {
      "text/plain": [
       "''"
      ]
     },
     "execution_count": 7,
     "metadata": {},
     "output_type": "execute_result"
    }
   ],
   "source": [
    "# 2. 비스돔 이용\n",
    "import visdom\n",
    "\n",
    "vis = visdom.Visdom()\n",
    "vis.close(env=\"main\") # main에 켜져있는게 있다면 다 끈다."
   ]
  },
  {
   "cell_type": "code",
   "execution_count": 8,
   "metadata": {},
   "outputs": [],
   "source": [
    "# 3. loss tracker 정의\n",
    "def loss_tracker(loss_plot, loss_value, num):\n",
    "  vis.line(X=num,\n",
    "           Y=loss_value,\n",
    "           win = loss_plot,\n",
    "           update = 'append'\n",
    "          )"
   ]
  },
  {
   "cell_type": "code",
   "execution_count": 9,
   "metadata": {},
   "outputs": [],
   "source": [
    "# 4. device 및 seed 설정\n",
    "device = 'cuda' if torch.cuda.is_available() else 'cpu'\n",
    "\n",
    "torch.manual_seed(777)\n",
    "if device == 'cuda':\n",
    "    torch.cuda.manual_seed_all(777)"
   ]
  },
  {
   "cell_type": "code",
   "execution_count": 10,
   "metadata": {},
   "outputs": [
    {
     "name": "stdout",
     "output_type": "stream",
     "text": [
      "Files already downloaded and verified\n",
      "Files already downloaded and verified\n"
     ]
    }
   ],
   "source": [
    "# 5. 데이터 정의\n",
    "# transform\n",
    "transform = transforms.Compose(\n",
    "  [transforms.ToTensor(), # tensor 화\n",
    "   transforms.Normalize((0.5, 0.5, 0.5), (0.5, 0.5, 0.5))]) # Normalize\n",
    "\n",
    "# 데이터 셋 불러오기\n",
    "trainset = torchvision.datasets.CIFAR10(root='./cifar10', train=True, download=True, transform=transform)\n",
    "trainloader = torch.utils.data.DataLoader(trainset, batch_size=512, shuffle=True, num_workers=0)\n",
    "testset = torchvision.datasets.CIFAR10(root='./cifar10', train=False, download=True, transform=transform)\n",
    "testloader = torch.utils.data.DataLoader(testset, batch_size=4, shuffle=False, num_workers=0)\n",
    "classes = ('plane', 'car', 'bird', 'cat', 'deer', 'dog', 'frog', 'horse', 'ship', 'truck')"
   ]
  },
  {
   "cell_type": "code",
   "execution_count": 11,
   "metadata": {},
   "outputs": [
    {
     "name": "stdout",
     "output_type": "stream",
     "text": [
      "truck   dog horse truck\n"
     ]
    }
   ],
   "source": [
    "# 6. visdom에서 이미지 확인\n",
    "import matplotlib.pyplot as plt\n",
    "import numpy as np\n",
    "%matplotlib inline\n",
    "\n",
    "def imshow(img):\n",
    "  img = img / 2 + 0.5\n",
    "  npimg = img.numpy()\n",
    "  plt.imshow(np.transpose(npimg, (1, 2, 0)))\n",
    "  plt.show()\n",
    "  \n",
    "dataiter = iter(trainloader)\n",
    "images, labels = dataiter.next()\n",
    "vis.images(images/2 + 0.5) # visdom에 이미지를 띄운다.\n",
    "\n",
    "print(' '.join('%5s' % classes[labels[j]] for j in range(4)))"
   ]
  },
  {
   "cell_type": "code",
   "execution_count": 12,
   "metadata": {},
   "outputs": [],
   "source": [
    "# 7. VGG 네트워크 : 라이브러리 로드\n",
    "#import vgg   # 오타 같음\n",
    "import torchvision.models.vgg as vgg # vgg.py를 만들기 귀찮은 경우 이렇게 라이브러리를 불러서 이용해도 된다."
   ]
  },
  {
   "cell_type": "code",
   "execution_count": 13,
   "metadata": {},
   "outputs": [],
   "source": [
    "# 8. VGG 네트워크 : Convolution Layer 쌓을 내용 선언 (make_layers에 넣을 내용)\n",
    "cfg = [32, 32, 'M', 64, 64, 128, 128, 128, 'M', 256, 256, 256, 512, 512, 512, 'M'] # convolution 13 + FC Layer 3 => vgg16!\n",
    "# 이 네트워크의 아웃풋을 계산해보면, 32 * 32를 MaxPool 3번 하므로 32 => 16 => 8 => 4가 된다. 즉 아웃풋은 4 * 4 이다. "
   ]
  },
  {
   "cell_type": "code",
   "execution_count": 14,
   "metadata": {},
   "outputs": [],
   "source": [
    "# 9. VGG 네트워크 : VGG 네트워크 만들어 놓기\n",
    "class VGG(nn.Module):\n",
    "  def __init__(self, features, num_classes=1000, init_weights=True): # 파라미터로 Convolution(features), class 수(초기값은 1000이지만, 나중에 10으로 넣을 것임), weight initialize 설정.\n",
    "    super(VGG, self).__init__()\n",
    "    self.features = features\n",
    "    self.classifier = nn.Sequential(\n",
    "      nn.Linear(512 * 4 * 4, 4096), # 수정! Conv의 아웃풋을 계산 해 보면 4 * 4 이므로 거기에 맞게 수정했다.\n",
    "      nn.ReLU(True),\n",
    "      nn.Dropout(),\n",
    "      nn.Linear(4096, 4096),\n",
    "      nn.ReLU(True),\n",
    "      nn.Dropout(),\n",
    "      nn.Linear(4096, num_classes),\n",
    "    )\n",
    "    if init_weights:\n",
    "      self._initialize_weights()\n",
    "      \n",
    "  def forward(self, x):\n",
    "    x = self.features(x)\n",
    "    x = x.view(x.size(0), -1)\n",
    "    x = self.classifier(x)\n",
    "    return x\n",
    "    \n",
    "  def _initialize_weights(self):\n",
    "    for m in self.modules():\n",
    "      if isinstance(m, nn.Conv2d):\n",
    "        nn.init.kaiming_normal_(m.weight, mode='fan_out', nonlinearity='relu')\n",
    "        if m.bias is not None:\n",
    "          nn.init.constant_(m.bias, 0)\n",
    "      elif isinstance(m, nn.BatchNorm2d):\n",
    "        nn.init.constant_(m.weight, 1)\n",
    "        nn.init.constant_(m.bias, 0)\n",
    "      elif isinstance(m, nn.Linear):\n",
    "        nn.init.normal_(m.weight, 0, 0.01)\n",
    "        nn.init.constant_(m.bias, 0)"
   ]
  },
  {
   "cell_type": "code",
   "execution_count": 15,
   "metadata": {},
   "outputs": [
    {
     "name": "stdout",
     "output_type": "stream",
     "text": [
      "tensor([[nan, nan, nan, nan, nan, nan, nan, nan, nan, nan]], device='cuda:0',\n",
      "       grad_fn=<AddmmBackward>)\n"
     ]
    }
   ],
   "source": [
    "# 10. VGG 네트워크 : 만들어 놓은 VGG 네트워크 이용하여 모델 만들기\n",
    "vgg16 = VGG(vgg.make_layers(cfg), 10, True).to(device) # Convolution(feature), Class 수, weight initialize를 설정해서 모델 정의. \n",
    "\n",
    "# 만든 VGG 모델에 오류 없나 테스트하기\n",
    "a = torch.Tensor(1, 3, 32, 32).to(device)\n",
    "out = vgg16(a)\n",
    "print(out)"
   ]
  },
  {
   "cell_type": "code",
   "execution_count": 16,
   "metadata": {},
   "outputs": [],
   "source": [
    "# 11. VGG 네트워크 : Loss, Optimizer, Lr 설정\n",
    "criterion = nn.CrossEntropyLoss().to(device)\n",
    "optimizer = torch.optim.SGD(vgg16.parameters(), lr=0.005, momentum=0.9)\n",
    "\n",
    "# NEW! lr을 고정해 놓지 않고 학습에 따라 lr을 조금씩 감소시키며 학습하는 방법이다. 정밀한 학습에 도움이 된다.\n",
    "lr_sche = optim.lr_scheduler.StepLR(optimizer, step_size=5, gamma=0.9) # 5번의 step마다 Optimizer의 lr에 0.9를 곱해 준다.\n",
    "\n",
    "# loss를 plot으로 만들기\n",
    "loss_plt = vis.line(Y=torch.Tensor(1).zero_(), opts=dict(title='loss_tracker', legend=['loss'], showlegend=True))"
   ]
  },
  {
   "cell_type": "code",
   "execution_count": 17,
   "metadata": {},
   "outputs": [
    {
     "name": "stdout",
     "output_type": "stream",
     "text": [
      "98\n"
     ]
    },
    {
     "name": "stderr",
     "output_type": "stream",
     "text": [
      "/home/cloudera/.local/lib/python3.6/site-packages/torch/optim/lr_scheduler.py:122: UserWarning: Detected call of `lr_scheduler.step()` before `optimizer.step()`. In PyTorch 1.1.0 and later, you should call them in the opposite order: `optimizer.step()` before `lr_scheduler.step()`.  Failure to do this will result in PyTorch skipping the first value of the learning rate schedule. See more details at https://pytorch.org/docs/stable/optim.html#how-to-adjust-learning-rate\n",
      "  \"https://pytorch.org/docs/stable/optim.html#how-to-adjust-learning-rate\", UserWarning)\n"
     ]
    },
    {
     "name": "stdout",
     "output_type": "stream",
     "text": [
      "[1,    30] loss:   2\n",
      "[1,    60] loss:   2\n",
      "[1,    90] loss:   2\n",
      "[2,    30] loss:   2\n",
      "[2,    60] loss:   2\n",
      "[2,    90] loss:   2\n",
      "[3,    30] loss:   2\n",
      "[3,    60] loss:   2\n",
      "[3,    90] loss:   2\n",
      "[4,    30] loss:   2\n",
      "[4,    60] loss:   2\n",
      "[4,    90] loss:   2\n",
      "[5,    30] loss:   2\n",
      "[5,    60] loss:   2\n",
      "[5,    90] loss:   2\n",
      "[6,    30] loss:   1\n",
      "[6,    60] loss:   1\n",
      "[6,    90] loss:   1\n",
      "[7,    30] loss:   1\n",
      "[7,    60] loss:   1\n",
      "[7,    90] loss:   1\n",
      "[8,    30] loss:   1\n",
      "[8,    60] loss:   1\n",
      "[8,    90] loss:   1\n",
      "[9,    30] loss:   1\n",
      "[9,    60] loss:   1\n",
      "[9,    90] loss:   1\n",
      "[10,    30] loss:   1\n",
      "[10,    60] loss:   1\n",
      "[10,    90] loss:   1\n",
      "[11,    30] loss:   1\n",
      "[11,    60] loss:   1\n",
      "[11,    90] loss:   1\n",
      "[12,    30] loss:   1\n",
      "[12,    60] loss:   1\n",
      "[12,    90] loss:   1\n",
      "[13,    30] loss:   1\n",
      "[13,    60] loss:   1\n",
      "[13,    90] loss:   1\n",
      "[14,    30] loss:   1\n",
      "[14,    60] loss:   1\n",
      "[14,    90] loss:   1\n",
      "[15,    30] loss:   1\n",
      "[15,    60] loss:   1\n",
      "[15,    90] loss:   1\n",
      "[16,    30] loss:   1\n",
      "[16,    60] loss:   1\n",
      "[16,    90] loss:   1\n",
      "[17,    30] loss:   1\n",
      "[17,    60] loss:   1\n",
      "[17,    90] loss:   1\n",
      "[18,    30] loss:   1\n",
      "[18,    60] loss:   1\n",
      "[18,    90] loss:   1\n",
      "[19,    30] loss:   1\n",
      "[19,    60] loss:   1\n",
      "[19,    90] loss:   1\n",
      "[20,    30] loss:   1\n",
      "[20,    60] loss:   1\n",
      "[20,    90] loss:   1\n",
      "[21,    30] loss:   1\n",
      "[21,    60] loss:   1\n",
      "[21,    90] loss:   1\n",
      "[22,    30] loss:   1\n",
      "[22,    60] loss:   1\n",
      "[22,    90] loss:   1\n",
      "[23,    30] loss:   1\n",
      "[23,    60] loss:   1\n",
      "[23,    90] loss:   1\n",
      "[24,    30] loss:   1\n",
      "[24,    60] loss:   1\n",
      "[24,    90] loss:   1\n",
      "[25,    30] loss:   0\n",
      "[25,    60] loss:   0\n",
      "[25,    90] loss:   0\n",
      "[26,    30] loss:   0\n",
      "[26,    60] loss:   0\n",
      "[26,    90] loss:   0\n",
      "[27,    30] loss:   0\n",
      "[27,    60] loss:   0\n",
      "[27,    90] loss:   0\n",
      "[28,    30] loss:   0\n",
      "[28,    60] loss:   0\n",
      "[28,    90] loss:   0\n",
      "[29,    30] loss:   0\n",
      "[29,    60] loss:   0\n",
      "[29,    90] loss:   0\n",
      "[30,    30] loss:   0\n",
      "[30,    60] loss:   0\n",
      "[30,    90] loss:   0\n",
      "[31,    30] loss:   0\n",
      "[31,    60] loss:   0\n",
      "[31,    90] loss:   0\n",
      "[32,    30] loss:   0\n",
      "[32,    60] loss:   0\n",
      "[32,    90] loss:   0\n",
      "[33,    30] loss:   0\n",
      "[33,    60] loss:   0\n",
      "[33,    90] loss:   0\n",
      "[34,    30] loss:   0\n",
      "[34,    60] loss:   0\n",
      "[34,    90] loss:   0\n",
      "[35,    30] loss:   0\n",
      "[35,    60] loss:   0\n",
      "[35,    90] loss:   0\n",
      "[36,    30] loss:   0\n",
      "[36,    60] loss:   0\n",
      "[36,    90] loss:   0\n",
      "[37,    30] loss:   0\n",
      "[37,    60] loss:   0\n",
      "[37,    90] loss:   0\n",
      "[38,    30] loss:   0\n",
      "[38,    60] loss:   0\n",
      "[38,    90] loss:   0\n",
      "[39,    30] loss:   0\n",
      "[39,    60] loss:   0\n",
      "[39,    90] loss:   0\n",
      "[40,    30] loss:   0\n",
      "[40,    60] loss:   0\n",
      "[40,    90] loss:   0\n",
      "[41,    30] loss:   0\n",
      "[41,    60] loss:   0\n",
      "[41,    90] loss:   0\n",
      "[42,    30] loss:   0\n",
      "[42,    60] loss:   0\n",
      "[42,    90] loss:   0\n",
      "[43,    30] loss:   0\n",
      "[43,    60] loss:   0\n",
      "[43,    90] loss:   0\n",
      "[44,    30] loss:   0\n",
      "[44,    60] loss:   0\n",
      "[44,    90] loss:   0\n",
      "[45,    30] loss:   0\n",
      "[45,    60] loss:   0\n",
      "[45,    90] loss:   0\n",
      "[46,    30] loss:   0\n",
      "[46,    60] loss:   0\n",
      "[46,    90] loss:   0\n",
      "[47,    30] loss:   0\n",
      "[47,    60] loss:   0\n",
      "[47,    90] loss:   0\n",
      "[48,    30] loss:   0\n",
      "[48,    60] loss:   0\n",
      "[48,    90] loss:   0\n",
      "[49,    30] loss:   0\n",
      "[49,    60] loss:   0\n",
      "[49,    90] loss:   0\n",
      "[50,    30] loss:   0\n",
      "[50,    60] loss:   0\n",
      "[50,    90] loss:   0\n",
      "Finished Training\n"
     ]
    }
   ],
   "source": [
    "# 12. VGG 네트워크 : 학습하기\n",
    "print(len(trainloader))\n",
    "epochs = 50\n",
    "\n",
    "for epoch in range(epochs):\n",
    "    running_loss = 0.0\n",
    "    lr_sche.step() # epoch이 5번 돌 때마다 lr이 0.9배씩 줄어든다.\n",
    "    for i, data in enumerate(trainloader, 0):\n",
    "        inputs, labels = data\n",
    "        inputs = inputs.to(device)\n",
    "        labels = labels.to(device)\n",
    "        \n",
    "        outputs = vgg16(inputs)\n",
    "        loss = criterion(outputs, labels)\n",
    "        \n",
    "        optimizer.zero_grad()\n",
    "        loss.backward()\n",
    "        optimizer.step()\n",
    "        \n",
    "        running_loss += loss.item()\n",
    "        if i % 30 == 29: # 30회마다 loss tracker!\n",
    "            loss_tracker(loss_plt, torch.Tensor([running_loss/30]), torch.Tensor([i + epoch * len(trainloader)]))  \n",
    "            print('[%d, %5d] loss: %3.f' %(epoch+1, i+1, running_loss / 30))\n",
    "            running_loss = 0.0\n",
    "\n",
    "print('Finished Training')"
   ]
  },
  {
   "cell_type": "code",
   "execution_count": 18,
   "metadata": {},
   "outputs": [
    {
     "data": {
      "image/png": "[encoded data removed]",
      "text/plain": [
       "<Figure size 432x288 with 1 Axes>"
      ]
     },
     "metadata": {
      "needs_background": "light"
     },
     "output_type": "display_data"
    },
    {
     "name": "stdout",
     "output_type": "stream",
     "text": [
      "GroundTruth:    cat  ship  ship plane\n",
      "Predicted:    cat  ship  ship plane\n"
     ]
    }
   ],
   "source": [
    "# 13. VGG 네트워크 : 시각화를 통해 Test 데이터 잘 맞추나 확인하기\n",
    "dataiter = iter(testloader)\n",
    "images, labels = dataiter.next()\n",
    "\n",
    "# GT 이미지 4개 출력해보기\n",
    "imshow(torchvision.utils.make_grid(images))\n",
    "print('GroundTruth: ', ' '.join('%5s' % classes[labels[j]] for j in range(4)))\n",
    "\n",
    "# GT와 outputs의 결과가 같나 확인하기\n",
    "outputs = vgg16(images.to(device))\n",
    "_, predicted = torch.max(outputs, 1)\n",
    "print('Predicted: ', ' '.join('%5s' % classes[predicted[j]] for j in range(4)))"
   ]
  },
  {
   "cell_type": "code",
   "execution_count": 19,
   "metadata": {},
   "outputs": [
    {
     "name": "stdout",
     "output_type": "stream",
     "text": [
      "Accuracy of the network on the 10000 test images: 9 %\n"
     ]
    }
   ],
   "source": [
    "# 14. VGG 네트워크 : Test 셋으로 모델 평가하기\n",
    "correct = 0\n",
    "total = 0\n",
    "\n",
    "with torch.no_grad():\n",
    "  for data in testloader:\n",
    "    imgaes, labels = data\n",
    "    images = images.to(device)\n",
    "    labels = labels.to(device)\n",
    "    outputs = vgg16(images)\n",
    "    \n",
    "    _, predicted = torch.max(outputs.data, 1)\n",
    "    \n",
    "    total += labels.size(0)\n",
    "    \n",
    "    correct += (predicted == labels).sum().item()\n",
    "\n",
    "print('Accuracy of the network on the 10000 test images: %d %%' %(100*correct / total)) # 정확도 76%"
   ]
  }
 ],
 "metadata": {
  "kernelspec": {
   "display_name": "Python 3",
   "language": "python",
   "name": "python3"
  },
  "language_info": {
   "codemirror_mode": {
    "name": "ipython",
    "version": 3
   },
   "file_extension": ".py",
   "mimetype": "text/x-python",
   "name": "python",
   "nbconvert_exporter": "python",
   "pygments_lexer": "ipython3",
   "version": "3.6.9"
  }
 },
 "nbformat": 4,
 "nbformat_minor": 2
}
