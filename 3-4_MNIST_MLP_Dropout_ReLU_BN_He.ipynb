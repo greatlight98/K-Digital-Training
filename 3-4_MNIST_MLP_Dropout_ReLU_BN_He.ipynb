{
 "cells": [
  {
   "cell_type": "code",
   "execution_count": 1,
   "metadata": {},
   "outputs": [],
   "source": [
    "''' 1. Module Import '''\n",
    "import numpy as np\n",
    "import matplotlib.pyplot as plt\n",
    "\n",
    "import torch\n",
    "import torch.nn as nn\n",
    "import torch.nn.functional as F\n",
    "from torchvision import transforms, datasets"
   ]
  },
  {
   "cell_type": "code",
   "execution_count": 2,
   "metadata": {},
   "outputs": [
    {
     "name": "stdout",
     "output_type": "stream",
     "text": [
      "Using PyTorch version: 1.5.0+cu101  Device: cuda\n"
     ]
    }
   ],
   "source": [
    "''' 2. 딥러닝 모델을 설계할 때 활용하는 장비 확인 '''\n",
    "if torch.cuda.is_available():\n",
    "    DEVICE = torch.device('cuda')\n",
    "else:\n",
    "    DEVICE = torch.device('cpu')\n",
    "print('Using PyTorch version:', torch.__version__, ' Device:', DEVICE)"
   ]
  },
  {
   "cell_type": "code",
   "execution_count": 3,
   "metadata": {},
   "outputs": [],
   "source": [
    "BATCH_SIZE = 32\n",
    "EPOCHS = 10"
   ]
  },
  {
   "cell_type": "code",
   "execution_count": 4,
   "metadata": {},
   "outputs": [],
   "source": [
    "''' 3. MNIST 데이터 다운로드 (Train set, Test set 분리하기) '''\n",
    "train_dataset = datasets.MNIST(root = \"../data/MNIST\",\n",
    "                               train = True,\n",
    "                               download = True,\n",
    "                               transform = transforms.ToTensor())\n",
    "\n",
    "test_dataset = datasets.MNIST(root = \"../data/MNIST\",\n",
    "                              train = False,\n",
    "                              transform = transforms.ToTensor())\n",
    "\n",
    "train_loader = torch.utils.data.DataLoader(dataset = train_dataset,\n",
    "                                           batch_size = BATCH_SIZE,\n",
    "                                           shuffle = True)\n",
    "\n",
    "test_loader = torch.utils.data.DataLoader(dataset = test_dataset,\n",
    "                                          batch_size = BATCH_SIZE,\n",
    "                                          shuffle = False)"
   ]
  },
  {
   "cell_type": "code",
   "execution_count": 5,
   "metadata": {},
   "outputs": [
    {
     "name": "stdout",
     "output_type": "stream",
     "text": [
      "X_train: torch.Size([32, 1, 28, 28]) type: torch.FloatTensor\n",
      "y_train: torch.Size([32]) type: torch.LongTensor\n"
     ]
    }
   ],
   "source": [
    "''' 4. 데이터 확인하기 (1) '''\n",
    "for (X_train, y_train) in train_loader:\n",
    "    print('X_train:', X_train.size(), 'type:', X_train.type())\n",
    "    print('y_train:', y_train.size(), 'type:', y_train.type())\n",
    "    break"
   ]
  },
  {
   "cell_type": "code",
   "execution_count": 6,
   "metadata": {},
   "outputs": [
    {
     "data": {
      "image/png": "[encoded data removed]",
      "text/plain": [
       "<Figure size 720x72 with 10 Axes>"
      ]
     },
     "metadata": {
      "needs_background": "light"
     },
     "output_type": "display_data"
    }
   ],
   "source": [
    "''' 5. 데이터 확인하기 (2) '''\n",
    "pltsize = 1\n",
    "plt.figure(figsize=(10 * pltsize, pltsize))\n",
    "for i in range(10):\n",
    "    plt.subplot(1, 10, i + 1)\n",
    "    plt.axis('off')\n",
    "    plt.imshow(X_train[i, :, :, :].numpy().reshape(28, 28), cmap = \"gray_r\")\n",
    "    plt.title('Class: ' + str(y_train[i].item()))"
   ]
  },
  {
   "cell_type": "code",
   "execution_count": 7,
   "metadata": {},
   "outputs": [],
   "source": [
    "''' 6. Multi Layer Perceptron (MLP) 모델 설계하기 '''\n",
    "class Net(nn.Module):\n",
    "    def __init__(self):\n",
    "        super(Net, self).__init__()\n",
    "        self.fc1 = nn.Linear(28 * 28, 512)\n",
    "        self.fc2 = nn.Linear(512, 256)\n",
    "        self.fc3 = nn.Linear(256, 10)\n",
    "        self.dropout_prob = 0.5\n",
    "        self.batch_norm1 = nn.BatchNorm1d(512)\n",
    "        self.batch_norm2 = nn.BatchNorm1d(256)\n",
    "\n",
    "    def forward(self, x):\n",
    "        x = x.view(-1, 28 * 28)\n",
    "        x = self.fc1(x)\n",
    "        x = self.batch_norm1(x)\n",
    "        x = F.relu(x)\n",
    "        x = F.dropout(x, training = self.training, p = self.dropout_prob)\n",
    "        x = self.fc2(x)\n",
    "        x = self.batch_norm2(x)\n",
    "        x = F.relu(x)\n",
    "        x = F.dropout(x, training = self.training, p = self.dropout_prob)\n",
    "        x = self.fc3(x)\n",
    "        x = F.log_softmax(x, dim = 1)\n",
    "        return x"
   ]
  },
  {
   "cell_type": "code",
   "execution_count": 8,
   "metadata": {},
   "outputs": [
    {
     "name": "stdout",
     "output_type": "stream",
     "text": [
      "Net(\n",
      "  (fc1): Linear(in_features=784, out_features=512, bias=True)\n",
      "  (fc2): Linear(in_features=512, out_features=256, bias=True)\n",
      "  (fc3): Linear(in_features=256, out_features=10, bias=True)\n",
      "  (batch_norm1): BatchNorm1d(512, eps=1e-05, momentum=0.1, affine=True, track_running_stats=True)\n",
      "  (batch_norm2): BatchNorm1d(256, eps=1e-05, momentum=0.1, affine=True, track_running_stats=True)\n",
      ")\n"
     ]
    }
   ],
   "source": [
    "''' 7. Optimizer, Objective Function 설정하기 '''\n",
    "import torch.nn.init as init\n",
    "def weight_init(m):\n",
    "    if isinstance(m, nn.Linear):\n",
    "        init.kaiming_uniform_(m.weight.data)\n",
    "\n",
    "model = Net().to(DEVICE)\n",
    "model.apply(weight_init)\n",
    "optimizer = torch.optim.SGD(model.parameters(), lr = 0.01, momentum = 0.5)\n",
    "criterion = nn.CrossEntropyLoss()\n",
    "\n",
    "print(model)"
   ]
  },
  {
   "cell_type": "code",
   "execution_count": 9,
   "metadata": {},
   "outputs": [],
   "source": [
    "''' 8. MLP 모델 학습을 진행하며 학습 데이터에 대한 모델 성능을 확인하는 함수 정의 '''\n",
    "def train(model, train_loader, optimizer, log_interval):\n",
    "    model.train()\n",
    "    for batch_idx, (image, label) in enumerate(train_loader):\n",
    "        image = image.to(DEVICE)\n",
    "        label = label.to(DEVICE)\n",
    "        optimizer.zero_grad()\n",
    "        output = model(image)\n",
    "        loss = criterion(output, label)\n",
    "        loss.backward()\n",
    "        optimizer.step()\n",
    "\n",
    "        if batch_idx % log_interval == 0:\n",
    "            print(\"Train Epoch: {} [{}/{} ({:.0f}%)]\\tTrain Loss: {:.6f}\".format(\n",
    "                epoch, batch_idx * len(image), \n",
    "                len(train_loader.dataset), 100. * batch_idx / len(train_loader), \n",
    "                loss.item()))"
   ]
  },
  {
   "cell_type": "code",
   "execution_count": 10,
   "metadata": {},
   "outputs": [],
   "source": [
    "''' 9. 학습되는 과정 속에서 검증 데이터에 대한 모델 성능을 확인하는 함수 정의 '''\n",
    "def evaluate(model, test_loader):\n",
    "    model.eval()\n",
    "    test_loss = 0\n",
    "    correct = 0\n",
    "\n",
    "    with torch.no_grad():\n",
    "        for image, label in test_loader:\n",
    "            image = image.to(DEVICE)\n",
    "            label = label.to(DEVICE)\n",
    "            output = model(image)\n",
    "            test_loss += criterion(output, label).item()\n",
    "            prediction = output.max(1, keepdim = True)[1]\n",
    "            correct += prediction.eq(label.view_as(prediction)).sum().item()\n",
    "    \n",
    "    test_loss /= len(test_loader.dataset)\n",
    "    test_accuracy = 100. * correct / len(test_loader.dataset)\n",
    "    return test_loss, test_accuracy"
   ]
  },
  {
   "cell_type": "code",
   "execution_count": 11,
   "metadata": {},
   "outputs": [
    {
     "name": "stdout",
     "output_type": "stream",
     "text": [
      "Train Epoch: 1 [0/60000 (0%)]\tTrain Loss: 2.432729\n",
      "Train Epoch: 1 [6400/60000 (11%)]\tTrain Loss: 0.732581\n",
      "Train Epoch: 1 [12800/60000 (21%)]\tTrain Loss: 0.704685\n",
      "Train Epoch: 1 [19200/60000 (32%)]\tTrain Loss: 0.357084\n",
      "Train Epoch: 1 [25600/60000 (43%)]\tTrain Loss: 0.592294\n",
      "Train Epoch: 1 [32000/60000 (53%)]\tTrain Loss: 0.560289\n",
      "Train Epoch: 1 [38400/60000 (64%)]\tTrain Loss: 0.363788\n",
      "Train Epoch: 1 [44800/60000 (75%)]\tTrain Loss: 0.384375\n",
      "Train Epoch: 1 [51200/60000 (85%)]\tTrain Loss: 0.225220\n",
      "Train Epoch: 1 [57600/60000 (96%)]\tTrain Loss: 0.348265\n",
      "\n",
      "[EPOCH: 1], \tTest Loss: 0.0070, \tTest Accuracy: 93.51 % \n",
      "\n",
      "Train Epoch: 2 [0/60000 (0%)]\tTrain Loss: 0.471041\n",
      "Train Epoch: 2 [6400/60000 (11%)]\tTrain Loss: 0.537107\n",
      "Train Epoch: 2 [12800/60000 (21%)]\tTrain Loss: 0.775234\n",
      "Train Epoch: 2 [19200/60000 (32%)]\tTrain Loss: 0.529438\n",
      "Train Epoch: 2 [25600/60000 (43%)]\tTrain Loss: 0.330343\n",
      "Train Epoch: 2 [32000/60000 (53%)]\tTrain Loss: 0.217890\n",
      "Train Epoch: 2 [38400/60000 (64%)]\tTrain Loss: 0.464729\n",
      "Train Epoch: 2 [44800/60000 (75%)]\tTrain Loss: 0.162886\n",
      "Train Epoch: 2 [51200/60000 (85%)]\tTrain Loss: 0.222905\n",
      "Train Epoch: 2 [57600/60000 (96%)]\tTrain Loss: 0.157731\n",
      "\n",
      "[EPOCH: 2], \tTest Loss: 0.0055, \tTest Accuracy: 94.71 % \n",
      "\n",
      "Train Epoch: 3 [0/60000 (0%)]\tTrain Loss: 0.226318\n",
      "Train Epoch: 3 [6400/60000 (11%)]\tTrain Loss: 0.251497\n",
      "Train Epoch: 3 [12800/60000 (21%)]\tTrain Loss: 0.246836\n",
      "Train Epoch: 3 [19200/60000 (32%)]\tTrain Loss: 0.175720\n",
      "Train Epoch: 3 [25600/60000 (43%)]\tTrain Loss: 0.323143\n",
      "Train Epoch: 3 [32000/60000 (53%)]\tTrain Loss: 0.497575\n",
      "Train Epoch: 3 [38400/60000 (64%)]\tTrain Loss: 0.367303\n",
      "Train Epoch: 3 [44800/60000 (75%)]\tTrain Loss: 0.479755\n",
      "Train Epoch: 3 [51200/60000 (85%)]\tTrain Loss: 0.295133\n",
      "Train Epoch: 3 [57600/60000 (96%)]\tTrain Loss: 0.121491\n",
      "\n",
      "[EPOCH: 3], \tTest Loss: 0.0047, \tTest Accuracy: 95.48 % \n",
      "\n",
      "Train Epoch: 4 [0/60000 (0%)]\tTrain Loss: 0.216876\n",
      "Train Epoch: 4 [6400/60000 (11%)]\tTrain Loss: 0.159179\n",
      "Train Epoch: 4 [12800/60000 (21%)]\tTrain Loss: 0.332066\n",
      "Train Epoch: 4 [19200/60000 (32%)]\tTrain Loss: 0.078400\n",
      "Train Epoch: 4 [25600/60000 (43%)]\tTrain Loss: 0.140377\n",
      "Train Epoch: 4 [32000/60000 (53%)]\tTrain Loss: 0.239242\n",
      "Train Epoch: 4 [38400/60000 (64%)]\tTrain Loss: 0.457741\n",
      "Train Epoch: 4 [44800/60000 (75%)]\tTrain Loss: 0.314293\n",
      "Train Epoch: 4 [51200/60000 (85%)]\tTrain Loss: 0.212792\n",
      "Train Epoch: 4 [57600/60000 (96%)]\tTrain Loss: 0.169657\n",
      "\n",
      "[EPOCH: 4], \tTest Loss: 0.0042, \tTest Accuracy: 95.84 % \n",
      "\n",
      "Train Epoch: 5 [0/60000 (0%)]\tTrain Loss: 0.106518\n",
      "Train Epoch: 5 [6400/60000 (11%)]\tTrain Loss: 0.163552\n",
      "Train Epoch: 5 [12800/60000 (21%)]\tTrain Loss: 0.234605\n",
      "Train Epoch: 5 [19200/60000 (32%)]\tTrain Loss: 0.220045\n",
      "Train Epoch: 5 [25600/60000 (43%)]\tTrain Loss: 0.166870\n",
      "Train Epoch: 5 [32000/60000 (53%)]\tTrain Loss: 0.147652\n",
      "Train Epoch: 5 [38400/60000 (64%)]\tTrain Loss: 0.114723\n",
      "Train Epoch: 5 [44800/60000 (75%)]\tTrain Loss: 0.289918\n",
      "Train Epoch: 5 [51200/60000 (85%)]\tTrain Loss: 0.279738\n",
      "Train Epoch: 5 [57600/60000 (96%)]\tTrain Loss: 0.180089\n",
      "\n",
      "[EPOCH: 5], \tTest Loss: 0.0038, \tTest Accuracy: 96.42 % \n",
      "\n",
      "Train Epoch: 6 [0/60000 (0%)]\tTrain Loss: 0.158709\n",
      "Train Epoch: 6 [6400/60000 (11%)]\tTrain Loss: 0.282791\n",
      "Train Epoch: 6 [12800/60000 (21%)]\tTrain Loss: 0.250028\n",
      "Train Epoch: 6 [19200/60000 (32%)]\tTrain Loss: 0.090382\n",
      "Train Epoch: 6 [25600/60000 (43%)]\tTrain Loss: 0.388106\n",
      "Train Epoch: 6 [32000/60000 (53%)]\tTrain Loss: 0.220443\n",
      "Train Epoch: 6 [38400/60000 (64%)]\tTrain Loss: 0.103405\n",
      "Train Epoch: 6 [44800/60000 (75%)]\tTrain Loss: 0.127749\n",
      "Train Epoch: 6 [51200/60000 (85%)]\tTrain Loss: 0.197713\n",
      "Train Epoch: 6 [57600/60000 (96%)]\tTrain Loss: 0.193134\n",
      "\n",
      "[EPOCH: 6], \tTest Loss: 0.0035, \tTest Accuracy: 96.60 % \n",
      "\n",
      "Train Epoch: 7 [0/60000 (0%)]\tTrain Loss: 0.240790\n",
      "Train Epoch: 7 [6400/60000 (11%)]\tTrain Loss: 0.379684\n",
      "Train Epoch: 7 [12800/60000 (21%)]\tTrain Loss: 0.249575\n",
      "Train Epoch: 7 [19200/60000 (32%)]\tTrain Loss: 0.195324\n",
      "Train Epoch: 7 [25600/60000 (43%)]\tTrain Loss: 0.233790\n",
      "Train Epoch: 7 [32000/60000 (53%)]\tTrain Loss: 0.561484\n",
      "Train Epoch: 7 [38400/60000 (64%)]\tTrain Loss: 0.224812\n",
      "Train Epoch: 7 [44800/60000 (75%)]\tTrain Loss: 0.131403\n",
      "Train Epoch: 7 [51200/60000 (85%)]\tTrain Loss: 0.212593\n",
      "Train Epoch: 7 [57600/60000 (96%)]\tTrain Loss: 0.032778\n",
      "\n",
      "[EPOCH: 7], \tTest Loss: 0.0033, \tTest Accuracy: 96.85 % \n",
      "\n",
      "Train Epoch: 8 [0/60000 (0%)]\tTrain Loss: 0.412717\n",
      "Train Epoch: 8 [6400/60000 (11%)]\tTrain Loss: 0.032554\n",
      "Train Epoch: 8 [12800/60000 (21%)]\tTrain Loss: 0.032625\n",
      "Train Epoch: 8 [19200/60000 (32%)]\tTrain Loss: 0.115202\n",
      "Train Epoch: 8 [25600/60000 (43%)]\tTrain Loss: 0.090667\n",
      "Train Epoch: 8 [32000/60000 (53%)]\tTrain Loss: 0.235674\n",
      "Train Epoch: 8 [38400/60000 (64%)]\tTrain Loss: 0.147381\n",
      "Train Epoch: 8 [44800/60000 (75%)]\tTrain Loss: 0.716247\n",
      "Train Epoch: 8 [51200/60000 (85%)]\tTrain Loss: 0.609692\n",
      "Train Epoch: 8 [57600/60000 (96%)]\tTrain Loss: 0.048298\n",
      "\n",
      "[EPOCH: 8], \tTest Loss: 0.0032, \tTest Accuracy: 96.98 % \n",
      "\n",
      "Train Epoch: 9 [0/60000 (0%)]\tTrain Loss: 0.069521\n",
      "Train Epoch: 9 [6400/60000 (11%)]\tTrain Loss: 0.185111\n",
      "Train Epoch: 9 [12800/60000 (21%)]\tTrain Loss: 0.153763\n",
      "Train Epoch: 9 [19200/60000 (32%)]\tTrain Loss: 0.105416\n",
      "Train Epoch: 9 [25600/60000 (43%)]\tTrain Loss: 0.101998\n",
      "Train Epoch: 9 [32000/60000 (53%)]\tTrain Loss: 0.060735\n",
      "Train Epoch: 9 [38400/60000 (64%)]\tTrain Loss: 0.245696\n",
      "Train Epoch: 9 [44800/60000 (75%)]\tTrain Loss: 0.065663\n",
      "Train Epoch: 9 [51200/60000 (85%)]\tTrain Loss: 0.275728\n",
      "Train Epoch: 9 [57600/60000 (96%)]\tTrain Loss: 0.070666\n",
      "\n",
      "[EPOCH: 9], \tTest Loss: 0.0030, \tTest Accuracy: 97.03 % \n",
      "\n",
      "Train Epoch: 10 [0/60000 (0%)]\tTrain Loss: 0.328764\n",
      "Train Epoch: 10 [6400/60000 (11%)]\tTrain Loss: 0.267840\n",
      "Train Epoch: 10 [12800/60000 (21%)]\tTrain Loss: 0.087226\n",
      "Train Epoch: 10 [19200/60000 (32%)]\tTrain Loss: 0.103022\n",
      "Train Epoch: 10 [25600/60000 (43%)]\tTrain Loss: 0.204520\n",
      "Train Epoch: 10 [32000/60000 (53%)]\tTrain Loss: 0.129256\n",
      "Train Epoch: 10 [38400/60000 (64%)]\tTrain Loss: 0.160114\n",
      "Train Epoch: 10 [44800/60000 (75%)]\tTrain Loss: 0.301382\n",
      "Train Epoch: 10 [51200/60000 (85%)]\tTrain Loss: 0.177630\n",
      "Train Epoch: 10 [57600/60000 (96%)]\tTrain Loss: 0.254407\n",
      "\n",
      "[EPOCH: 10], \tTest Loss: 0.0028, \tTest Accuracy: 97.33 % \n",
      "\n"
     ]
    }
   ],
   "source": [
    "''' 10. MLP 학습 실행하며 Train, Test set의 Loss 및 Test set Accuracy 확인하기 '''\n",
    "for epoch in range(1, EPOCHS + 1):\n",
    "    train(model, train_loader, optimizer, log_interval = 200)\n",
    "    test_loss, test_accuracy = evaluate(model, test_loader)\n",
    "    print(\"\\n[EPOCH: {}], \\tTest Loss: {:.4f}, \\tTest Accuracy: {:.2f} % \\n\".format(\n",
    "        epoch, test_loss, test_accuracy))"
   ]
  },
  {
   "cell_type": "code",
   "execution_count": null,
   "metadata": {},
   "outputs": [],
   "source": []
  }
 ],
 "metadata": {
  "kernelspec": {
   "display_name": "Python 3",
   "language": "python",
   "name": "python3"
  },
  "language_info": {
   "codemirror_mode": {
    "name": "ipython",
    "version": 3
   },
   "file_extension": ".py",
   "mimetype": "text/x-python",
   "name": "python",
   "nbconvert_exporter": "python",
   "pygments_lexer": "ipython3",
   "version": "3.6.8"
  }
 },
 "nbformat": 4,
 "nbformat_minor": 4
}
