{
 "cells": [
  {
   "cell_type": "markdown",
   "id": "ec4a2921",
   "metadata": {},
   "source": [
    "3-1 파이썬으로 코딩 시작하기\n",
    "강의번호 coding 101"
   ]
  },
  {
   "cell_type": "markdown",
   "id": "e78a8fe0",
   "metadata": {},
   "source": [
    "3-2 함수와 변수(1) 함수 불러오기"
   ]
  },
  {
   "cell_type": "code",
   "execution_count": 2,
   "id": "f1ea1f83",
   "metadata": {},
   "outputs": [
    {
     "name": "stdout",
     "output_type": "stream",
     "text": [
      "hi\n"
     ]
    }
   ],
   "source": [
    "greeting = 'hi'\n",
    "# greeting이라는 변수에 'hi'저장\n",
    "\n",
    "print(greeting)"
   ]
  },
  {
   "cell_type": "code",
   "execution_count": 3,
   "id": "a696647d",
   "metadata": {},
   "outputs": [
    {
     "ename": "NameError",
     "evalue": "name 'something' is not defined",
     "output_type": "error",
     "traceback": [
      "\u001b[1;31m---------------------------------------------------------------------------\u001b[0m",
      "\u001b[1;31mNameError\u001b[0m                                 Traceback (most recent call last)",
      "\u001b[1;32m<ipython-input-3-aba354489d61>\u001b[0m in \u001b[0;36m<module>\u001b[1;34m\u001b[0m\n\u001b[1;32m----> 1\u001b[1;33m \u001b[0mprint\u001b[0m\u001b[1;33m(\u001b[0m\u001b[0msomething\u001b[0m\u001b[1;33m)\u001b[0m\u001b[1;33m\u001b[0m\u001b[1;33m\u001b[0m\u001b[0m\n\u001b[0m",
      "\u001b[1;31mNameError\u001b[0m: name 'something' is not defined"
     ]
    }
   ],
   "source": [
    "print(something)"
   ]
  },
  {
   "cell_type": "code",
   "execution_count": 4,
   "id": "1aa21e85",
   "metadata": {},
   "outputs": [
    {
     "name": "stdout",
     "output_type": "stream",
     "text": [
      "hi!\n"
     ]
    }
   ],
   "source": [
    "greeting='hi?'\n",
    "greeting='hi!'\n",
    "print(greeting)"
   ]
  },
  {
   "cell_type": "code",
   "execution_count": 5,
   "id": "f3cb05f8",
   "metadata": {},
   "outputs": [
    {
     "name": "stdout",
     "output_type": "stream",
     "text": [
      "hi?\n"
     ]
    }
   ],
   "source": [
    "greeting='hi?'\n",
    "print(greeting)\n",
    "greeting='hi!'"
   ]
  },
  {
   "cell_type": "markdown",
   "id": "3809ec94",
   "metadata": {},
   "source": [
    "3-3 함수와 변수(2) 함수 불러오기"
   ]
  },
  {
   "cell_type": "code",
   "execution_count": 6,
   "id": "c28919d3",
   "metadata": {},
   "outputs": [
    {
     "name": "stdout",
     "output_type": "stream",
     "text": [
      "hi?\n"
     ]
    }
   ],
   "source": [
    "greeting='hi?'\n",
    "# greeting에 'hi?' 라는 문자열 저장.\n",
    "print(greeting)"
   ]
  },
  {
   "cell_type": "code",
   "execution_count": 10,
   "id": "ef38781f",
   "metadata": {},
   "outputs": [
    {
     "name": "stdout",
     "output_type": "stream",
     "text": [
      "hi!\n"
     ]
    }
   ],
   "source": [
    "greeting='hi?'\n",
    "greeting='hi!'\n",
    "print(greeting)"
   ]
  },
  {
   "cell_type": "code",
   "execution_count": 9,
   "id": "bd4a844e",
   "metadata": {},
   "outputs": [
    {
     "name": "stdout",
     "output_type": "stream",
     "text": [
      "hi?\n"
     ]
    }
   ],
   "source": [
    "greeting='hi?'\n",
    "print(greeting)\n",
    "greeting='hi!'"
   ]
  },
  {
   "cell_type": "markdown",
   "id": "c9e8e962",
   "metadata": {},
   "source": [
    "3-4 함수와 변수 (3) 새로운 함수를 정의하기"
   ]
  },
  {
   "cell_type": "code",
   "execution_count": 12,
   "id": "2290a2fa",
   "metadata": {},
   "outputs": [],
   "source": [
    "def say_hi():\n",
    "    print('hi!')\n",
    "    # 부르면 'hi!'라고 인사하는 함수 정의"
   ]
  },
  {
   "cell_type": "code",
   "execution_count": 14,
   "id": "7d76bec7",
   "metadata": {},
   "outputs": [
    {
     "ename": "IndentationError",
     "evalue": "expected an indented block (<ipython-input-14-e3479f922cda>, line 2)",
     "output_type": "error",
     "traceback": [
      "\u001b[1;36m  File \u001b[1;32m\"<ipython-input-14-e3479f922cda>\"\u001b[1;36m, line \u001b[1;32m2\u001b[0m\n\u001b[1;33m    print('hi!')\u001b[0m\n\u001b[1;37m    ^\u001b[0m\n\u001b[1;31mIndentationError\u001b[0m\u001b[1;31m:\u001b[0m expected an indented block\n"
     ]
    }
   ],
   "source": [
    "def say_hi_no_indent():\n",
    "print('hi!')"
   ]
  },
  {
   "cell_type": "code",
   "execution_count": 15,
   "id": "e266ae62",
   "metadata": {},
   "outputs": [],
   "source": [
    "def say_hi_nice():\n",
    "    print('hi!')\n",
    "    print('nice to meet you')"
   ]
  },
  {
   "cell_type": "code",
   "execution_count": 17,
   "id": "87d15ef2",
   "metadata": {},
   "outputs": [
    {
     "name": "stdout",
     "output_type": "stream",
     "text": [
      "hi!\n",
      "nice to meet you\n"
     ]
    }
   ],
   "source": [
    "say_hi_nice()"
   ]
  },
  {
   "cell_type": "markdown",
   "id": "7b7e38fe",
   "metadata": {},
   "source": [
    "5.함수와 변수(4)스코프 : 변수의 유효범위"
   ]
  },
  {
   "cell_type": "code",
   "execution_count": 18,
   "id": "219c03bd",
   "metadata": {},
   "outputs": [
    {
     "ename": "NameError",
     "evalue": "name 'goodbye' is not defined",
     "output_type": "error",
     "traceback": [
      "\u001b[1;31m---------------------------------------------------------------------------\u001b[0m",
      "\u001b[1;31mNameError\u001b[0m                                 Traceback (most recent call last)",
      "\u001b[1;32m<ipython-input-18-4471d031db75>\u001b[0m in \u001b[0;36m<module>\u001b[1;34m\u001b[0m\n\u001b[0;32m      1\u001b[0m \u001b[1;32mdef\u001b[0m \u001b[0msay_goodbye\u001b[0m\u001b[1;33m(\u001b[0m\u001b[1;33m)\u001b[0m\u001b[1;33m:\u001b[0m\u001b[1;33m\u001b[0m\u001b[1;33m\u001b[0m\u001b[0m\n\u001b[0;32m      2\u001b[0m     \u001b[0mgoodbye\u001b[0m\u001b[1;33m=\u001b[0m\u001b[1;34m'bye!'\u001b[0m\u001b[1;33m\u001b[0m\u001b[1;33m\u001b[0m\u001b[0m\n\u001b[1;32m----> 3\u001b[1;33m \u001b[0mprint\u001b[0m\u001b[1;33m(\u001b[0m\u001b[0mgoodbye\u001b[0m\u001b[1;33m)\u001b[0m\u001b[1;33m\u001b[0m\u001b[1;33m\u001b[0m\u001b[0m\n\u001b[0m",
      "\u001b[1;31mNameError\u001b[0m: name 'goodbye' is not defined"
     ]
    }
   ],
   "source": [
    "def say_goodbye():\n",
    "    goodbye='bye!'\n",
    "print(goodbye)"
   ]
  },
  {
   "cell_type": "code",
   "execution_count": 19,
   "id": "44eb643b",
   "metadata": {},
   "outputs": [
    {
     "name": "stdout",
     "output_type": "stream",
     "text": [
      "one day\n",
      "시우\n"
     ]
    }
   ],
   "source": [
    "name='one day'\n",
    "def say_name():\n",
    "    print(name)\n",
    "    \n",
    "say_name()\n",
    "\n",
    "name = '시우'\n",
    "\n",
    "say_name()"
   ]
  },
  {
   "cell_type": "code",
   "execution_count": 20,
   "id": "8981c034",
   "metadata": {},
   "outputs": [
    {
     "name": "stdout",
     "output_type": "stream",
     "text": [
      "one day\n"
     ]
    }
   ],
   "source": [
    "name='one day'\n",
    "def change_name():\n",
    "    name = '시우'\n",
    "change_name()\n",
    "\n",
    "print(name)"
   ]
  },
  {
   "cell_type": "markdown",
   "id": "04612ec6",
   "metadata": {},
   "source": [
    "3-6 함수와 변수(5) 함수에 인자 전달하기"
   ]
  },
  {
   "cell_type": "code",
   "execution_count": 21,
   "id": "3cf53738",
   "metadata": {},
   "outputs": [],
   "source": [
    "def say_hi_somebody(name):\n",
    "    print(name + ', hi!')"
   ]
  },
  {
   "cell_type": "code",
   "execution_count": 24,
   "id": "91ddd32e",
   "metadata": {},
   "outputs": [
    {
     "name": "stdout",
     "output_type": "stream",
     "text": [
      "준이, hi!\n"
     ]
    }
   ],
   "source": [
    "say_hi_somebody('준이')"
   ]
  },
  {
   "cell_type": "code",
   "execution_count": 25,
   "id": "3c523266",
   "metadata": {},
   "outputs": [
    {
     "ename": "TypeError",
     "evalue": "say_hi_somebody() missing 1 required positional argument: 'name'",
     "output_type": "error",
     "traceback": [
      "\u001b[1;31m---------------------------------------------------------------------------\u001b[0m",
      "\u001b[1;31mTypeError\u001b[0m                                 Traceback (most recent call last)",
      "\u001b[1;32m<ipython-input-25-72761c90f15b>\u001b[0m in \u001b[0;36m<module>\u001b[1;34m\u001b[0m\n\u001b[1;32m----> 1\u001b[1;33m \u001b[0msay_hi_somebody\u001b[0m\u001b[1;33m(\u001b[0m\u001b[1;33m)\u001b[0m\u001b[1;33m\u001b[0m\u001b[1;33m\u001b[0m\u001b[0m\n\u001b[0m",
      "\u001b[1;31mTypeError\u001b[0m: say_hi_somebody() missing 1 required positional argument: 'name'"
     ]
    }
   ],
   "source": [
    "say_hi_somebody()"
   ]
  },
  {
   "cell_type": "code",
   "execution_count": 26,
   "id": "183fe8db",
   "metadata": {},
   "outputs": [],
   "source": [
    "def say_hi_default(name='somebody'):\n",
    "    print('hi, '+ name+ '!')"
   ]
  },
  {
   "cell_type": "code",
   "execution_count": 27,
   "id": "1ac3b7ea",
   "metadata": {},
   "outputs": [
    {
     "name": "stdout",
     "output_type": "stream",
     "text": [
      "hi, 준이!\n"
     ]
    }
   ],
   "source": [
    "say_hi_default('준이')"
   ]
  },
  {
   "cell_type": "markdown",
   "id": "4e7d15c9",
   "metadata": {},
   "source": [
    "3-7. 함수와 변수 (6) 함수에 인자 여러 개 한꺼번에 전달하기"
   ]
  },
  {
   "cell_type": "code",
   "execution_count": 32,
   "id": "6ca607e7",
   "metadata": {},
   "outputs": [
    {
     "name": "stdout",
     "output_type": "stream",
     "text": [
      "그리, 단테 안녕!\n"
     ]
    }
   ],
   "source": [
    "def say_hi_couple(name1, name2):\n",
    "    print(name1 + ', ' + name2 + ' 안녕!')\n",
    "\n",
    "say_hi_couple('그리', '단테')"
   ]
  },
  {
   "cell_type": "code",
   "execution_count": 33,
   "id": "bf0596b8",
   "metadata": {},
   "outputs": [
    {
     "name": "stdout",
     "output_type": "stream",
     "text": [
      "그리, 단테 안녕!\n"
     ]
    }
   ],
   "source": [
    "say_hi_couple(name1='그리', name2='단테')"
   ]
  },
  {
   "cell_type": "code",
   "execution_count": 34,
   "id": "5c631e42",
   "metadata": {},
   "outputs": [
    {
     "name": "stdout",
     "output_type": "stream",
     "text": [
      "단테, 그리 안녕!\n"
     ]
    }
   ],
   "source": [
    "say_hi_couple(name2='그리', name1='단테')"
   ]
  },
  {
   "cell_type": "code",
   "execution_count": 35,
   "id": "06cf5cba",
   "metadata": {},
   "outputs": [
    {
     "ename": "TypeError",
     "evalue": "say_hi_couple() got an unexpected keyword argument 'name'",
     "output_type": "error",
     "traceback": [
      "\u001b[1;31m---------------------------------------------------------------------------\u001b[0m",
      "\u001b[1;31mTypeError\u001b[0m                                 Traceback (most recent call last)",
      "\u001b[1;32m<ipython-input-35-ee173f4dcb75>\u001b[0m in \u001b[0;36m<module>\u001b[1;34m\u001b[0m\n\u001b[1;32m----> 1\u001b[1;33m \u001b[0msay_hi_couple\u001b[0m\u001b[1;33m(\u001b[0m\u001b[0mname\u001b[0m\u001b[1;33m=\u001b[0m\u001b[1;34m'그리'\u001b[0m\u001b[1;33m,\u001b[0m \u001b[0mname2\u001b[0m\u001b[1;33m=\u001b[0m\u001b[1;34m'단테'\u001b[0m\u001b[1;33m)\u001b[0m\u001b[1;33m\u001b[0m\u001b[1;33m\u001b[0m\u001b[0m\n\u001b[0m",
      "\u001b[1;31mTypeError\u001b[0m: say_hi_couple() got an unexpected keyword argument 'name'"
     ]
    }
   ],
   "source": [
    "say_hi_couple(name='그리', name2='단테')"
   ]
  },
  {
   "cell_type": "code",
   "execution_count": 37,
   "id": "7f0136da",
   "metadata": {},
   "outputs": [],
   "source": [
    "def say_hi_couple_default(name1, name2='nobody'):\n",
    "    print(name1 + ', ' + name2 + ' 안녕!')"
   ]
  },
  {
   "cell_type": "code",
   "execution_count": 39,
   "id": "2e4f0e78",
   "metadata": {},
   "outputs": [
    {
     "ename": "SyntaxError",
     "evalue": "non-default argument follows default argument (<ipython-input-39-81cc47e47273>, line 1)",
     "output_type": "error",
     "traceback": [
      "\u001b[1;36m  File \u001b[1;32m\"<ipython-input-39-81cc47e47273>\"\u001b[1;36m, line \u001b[1;32m1\u001b[0m\n\u001b[1;33m    def say_hi_couple_default_wrong(name1='nobody', name2):\u001b[0m\n\u001b[1;37m                                    ^\u001b[0m\n\u001b[1;31mSyntaxError\u001b[0m\u001b[1;31m:\u001b[0m non-default argument follows default argument\n"
     ]
    }
   ],
   "source": [
    "def say_hi_couple_default_wrong(name1='nobody', name2):\n",
    "    print(name1 + ', ' + name2 + ' 안녕!')"
   ]
  },
  {
   "cell_type": "markdown",
   "id": "15f25f94",
   "metadata": {},
   "source": [
    "3-8. 함수와 변수 (7) 함수의 결과로 값을 반환하기"
   ]
  },
  {
   "cell_type": "code",
   "execution_count": 40,
   "id": "6cf17b4d",
   "metadata": {},
   "outputs": [],
   "source": [
    "def add(number1, number2):\n",
    "    print(number1 + number2)"
   ]
  },
  {
   "cell_type": "code",
   "execution_count": 42,
   "id": "afad82ee",
   "metadata": {},
   "outputs": [
    {
     "name": "stdout",
     "output_type": "stream",
     "text": [
      "3\n"
     ]
    },
    {
     "ename": "TypeError",
     "evalue": "unsupported operand type(s) for +: 'NoneType' and 'int'",
     "output_type": "error",
     "traceback": [
      "\u001b[1;31m---------------------------------------------------------------------------\u001b[0m",
      "\u001b[1;31mTypeError\u001b[0m                                 Traceback (most recent call last)",
      "\u001b[1;32m<ipython-input-42-0db165430b34>\u001b[0m in \u001b[0;36m<module>\u001b[1;34m\u001b[0m\n\u001b[1;32m----> 1\u001b[1;33m \u001b[0mprint\u001b[0m\u001b[1;33m(\u001b[0m\u001b[0madd\u001b[0m\u001b[1;33m(\u001b[0m\u001b[1;36m1\u001b[0m\u001b[1;33m,\u001b[0m \u001b[1;36m2\u001b[0m\u001b[1;33m)\u001b[0m \u001b[1;33m+\u001b[0m \u001b[1;36m3\u001b[0m\u001b[1;33m)\u001b[0m\u001b[1;33m\u001b[0m\u001b[1;33m\u001b[0m\u001b[0m\n\u001b[0m",
      "\u001b[1;31mTypeError\u001b[0m: unsupported operand type(s) for +: 'NoneType' and 'int'"
     ]
    }
   ],
   "source": [
    "    print(add(1, 2) + 3)"
   ]
  },
  {
   "cell_type": "code",
   "execution_count": 43,
   "id": "290de601",
   "metadata": {},
   "outputs": [
    {
     "name": "stdout",
     "output_type": "stream",
     "text": [
      "3\n",
      "6\n"
     ]
    }
   ],
   "source": [
    "def add_and_return(number1, number2):\n",
    "    print(number1 + number2)\n",
    "    return number1 + number2\n",
    "print(add_and_return(1, 2) + 3)"
   ]
  },
  {
   "cell_type": "code",
   "execution_count": 46,
   "id": "3bdd4afd",
   "metadata": {},
   "outputs": [
    {
     "name": "stdout",
     "output_type": "stream",
     "text": [
      "3\n",
      "6\n"
     ]
    }
   ],
   "source": [
    "print(add_and_return(1, 2) + 3)"
   ]
  },
  {
   "cell_type": "code",
   "execution_count": 47,
   "id": "1d70850d",
   "metadata": {},
   "outputs": [],
   "source": [
    "def add_and_return(number1, number2):\n",
    "    print(number1 + number2)\n",
    "    return number1 + number2"
   ]
  },
  {
   "cell_type": "code",
   "execution_count": 48,
   "id": "3e4ca3b0",
   "metadata": {},
   "outputs": [
    {
     "name": "stdout",
     "output_type": "stream",
     "text": [
      "D\n",
      "C\n",
      "A\n",
      "B\n"
     ]
    }
   ],
   "source": [
    "def print_two(word1, word2):\n",
    "    print(word1)\n",
    "    print(word2)\n",
    "def print_and_return(word1, word2, word3):\n",
    "    print_two(word3, word2)\n",
    "    return word1\n",
    "print_two('A', print_and_return('B', 'C', 'D'))"
   ]
  },
  {
   "cell_type": "code",
   "execution_count": null,
   "id": "711cc510",
   "metadata": {},
   "outputs": [],
   "source": []
  }
 ],
 "metadata": {
  "kernelspec": {
   "display_name": "Python 3",
   "language": "python",
   "name": "python3"
  },
  "language_info": {
   "codemirror_mode": {
    "name": "ipython",
    "version": 3
   },
   "file_extension": ".py",
   "mimetype": "text/x-python",
   "name": "python",
   "nbconvert_exporter": "python",
   "pygments_lexer": "ipython3",
   "version": "3.8.8"
  },
  "vp": {
   "base_numbering": 1,
   "nav_menu": {},
   "number_sections": true,
   "sideBar": true,
   "title_cell": "VisualPython",
   "title_sidebar": "VisualPython",
   "vpPosition": {
    "height": "calc(100% - 180px)",
    "right": "10px",
    "top": "110px",
    "width": "50%"
   },
   "vp_cell": false,
   "vp_section_display": true,
   "vp_window_display": false
  }
 },
 "nbformat": 4,
 "nbformat_minor": 5
}
