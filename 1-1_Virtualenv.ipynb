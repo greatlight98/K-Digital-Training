{
 "cells": [
  {
   "cell_type": "markdown",
   "metadata": {},
   "source": [
    "# Python Virtualenv - Windows"
   ]
  },
  {
   "cell_type": "markdown",
   "metadata": {},
   "source": [
    "- pip install virtualenv                          \n",
    "- virtualenv [name of virtualenv]                 \n",
    "- virtualenv [name of virtualenv] --python=3.6    \n",
    "- call [name of virtualenv]/scripts/activate      \n",
    "- deactivate                                     "
   ]
  },
  {
   "cell_type": "markdown",
   "metadata": {},
   "source": [
    "# Python Virtualenv - Linux"
   ]
  },
  {
   "cell_type": "markdown",
   "metadata": {},
   "source": [
    "- pip install virtualenv                         \n",
    "- virtualenv [name of virtualenv]                \n",
    "- virtualenv [name of virtualenv] --python=3.6   \n",
    "- source [name of virtualenv]/bin/activate       \n",
    "- deactivate                                     "
   ]
  },
  {
   "cell_type": "markdown",
   "metadata": {},
   "source": [
    "# Anaconda Virtualenv - Windows"
   ]
  },
  {
   "cell_type": "markdown",
   "metadata": {},
   "source": [
    "- conda create [name of virtualenv]                \n",
    "- conda create [name of virtualenv] pandas torch   \n",
    "- conda create [name of virtualenv] python=3.6     \n",
    "- activate [name of virtualenv]                    \n",
    "- deactivate                                       "
   ]
  },
  {
   "cell_type": "markdown",
   "metadata": {},
   "source": [
    "# Anaconda Virtualenv - Linux"
   ]
  },
  {
   "cell_type": "markdown",
   "metadata": {},
   "source": [
    "- conda create [name of virtualenv]                \n",
    "- conda create [name of virtualenv] pandas torch   \n",
    "- conda create [name of virtualenv] python=3.6     \n",
    "- source activate [name of virtualenv]             \n",
    "- source deactivate                                "
   ]
  }
 ],
 "metadata": {
  "kernelspec": {
   "display_name": "Python 3",
   "language": "python",
   "name": "python3"
  },
  "language_info": {
   "codemirror_mode": {
    "name": "ipython",
    "version": 3
   },
   "file_extension": ".py",
   "mimetype": "text/x-python",
   "name": "python",
   "nbconvert_exporter": "python",
   "pygments_lexer": "ipython3",
   "version": "3.6.8"
  }
 },
 "nbformat": 4,
 "nbformat_minor": 4
}