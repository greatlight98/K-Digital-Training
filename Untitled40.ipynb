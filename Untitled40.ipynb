{
 "cells": [
  {
   "cell_type": "code",
   "execution_count": 3,
   "id": "42d5d7d4",
   "metadata": {},
   "outputs": [
    {
     "name": "stdout",
     "output_type": "stream",
     "text": [
      "['https://github.com/search?p=1&q=Core+Developer&type=Repositories', 'https://github.com/search?p=2&q=Core+Developer&type=Repositories', 'https://github.com/search?p=3&q=Core+Developer&type=Repositories', 'https://github.com/search?p=4&q=Core+Developer&type=Repositories', 'https://github.com/search?p=5&q=Core+Developer&type=Repositories', 'https://github.com/search?p=6&q=Core+Developer&type=Repositories', 'https://github.com/search?p=7&q=Core+Developer&type=Repositories', 'https://github.com/search?p=8&q=Core+Developer&type=Repositories', 'https://github.com/search?p=9&q=Core+Developer&type=Repositories', 'https://github.com/search?p=10&q=Core+Developer&type=Repositories', 'https://github.com/search?p=11&q=Core+Developer&type=Repositories', 'https://github.com/search?p=12&q=Core+Developer&type=Repositories', 'https://github.com/search?p=13&q=Core+Developer&type=Repositories', 'https://github.com/search?p=14&q=Core+Developer&type=Repositories', 'https://github.com/search?p=15&q=Core+Developer&type=Repositories', 'https://github.com/search?p=16&q=Core+Developer&type=Repositories', 'https://github.com/search?p=17&q=Core+Developer&type=Repositories', 'https://github.com/search?p=18&q=Core+Developer&type=Repositories', 'https://github.com/search?p=19&q=Core+Developer&type=Repositories', 'https://github.com/search?p=20&q=Core+Developer&type=Repositories']\n"
     ]
    }
   ],
   "source": [
    "import requests\n",
    "import pandas as pd\n",
    "from bs4 import BeautifulSoup\n",
    "\n",
    "ran = range(1,21)\n",
    "url = \"https://github.com/search\"\n",
    "url_list = []\n",
    "for r in ran:\n",
    "     url_list.append(url+'?p='+str(r)+ '&q=Core+Developer&type=Repositories')\n",
    "print(url_list)\n",
    "\n"
   ]
  },
  {
   "cell_type": "code",
   "execution_count": null,
   "id": "2c6cee2a",
   "metadata": {},
   "outputs": [],
   "source": []
  }
 ],
 "metadata": {
  "kernelspec": {
   "display_name": "Python 3",
   "language": "python",
   "name": "python3"
  },
  "language_info": {
   "codemirror_mode": {
    "name": "ipython",
    "version": 3
   },
   "file_extension": ".py",
   "mimetype": "text/x-python",
   "name": "python",
   "nbconvert_exporter": "python",
   "pygments_lexer": "ipython3",
   "version": "3.8.8"
  },
  "vp": {
   "base_numbering": 1,
   "nav_menu": {},
   "number_sections": true,
   "sideBar": true,
   "title_cell": "VisualPython",
   "title_sidebar": "VisualPython",
   "vpPosition": {
    "height": "calc(100% - 180px)",
    "right": "10px",
    "top": "110px",
    "width": "50%"
   },
   "vp_cell": false,
   "vp_section_display": true,
   "vp_window_display": false
  }
 },
 "nbformat": 4,
 "nbformat_minor": 5
}
