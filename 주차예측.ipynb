{
 "cells": [
  {
   "cell_type": "code",
   "execution_count": 1,
   "metadata": {
    "executionInfo": {
     "elapsed": 314,
     "status": "ok",
     "timestamp": 1628478263839,
     "user": {
      "displayName": "정재환",
      "photoUrl": "",
      "userId": "00289451058434735723"
     },
     "user_tz": -540
    },
    "id": "L1g3YMYaXJiV"
   },
   "outputs": [],
   "source": [
    "import pandas as pd\n",
    "import numpy as np\n",
    "import seaborn as sns\n",
    "import matplotlib.pyplot as plt\n",
    "\n",
    "plt.rc('font', family='NanumBarunGothic') \n",
    "\n",
    "\n",
    "import warnings\n",
    "warnings.filterwarnings(\"ignore\")"
   ]
  },
  {
   "cell_type": "markdown",
   "metadata": {
    "id": "SYDMpy07eKDb"
   },
   "source": [
    "# 1. 데이터 탐색\n",
    "\n",
    "## 1.1 데이터 불러오기 & 간단한 탐색"
   ]
  },
  {
   "cell_type": "code",
   "execution_count": 2,
   "metadata": {
    "executionInfo": {
     "elapsed": 353,
     "status": "ok",
     "timestamp": 1628478265165,
     "user": {
      "displayName": "정재환",
      "photoUrl": "",
      "userId": "00289451058434735723"
     },
     "user_tz": -540
    },
    "id": "Zm-s81xQXMpv"
   },
   "outputs": [],
   "source": [
    "PATH = '/content/drive/MyDrive/dacon_data' # 구글 드라이브내 데이터에 연결루트"
   ]
  },
  {
   "cell_type": "code",
   "execution_count": 3,
   "metadata": {
    "executionInfo": {
     "elapsed": 687,
     "status": "ok",
     "timestamp": 1628478265849,
     "user": {
      "displayName": "정재환",
      "photoUrl": "",
      "userId": "00289451058434735723"
     },
     "user_tz": -540
    },
    "id": "rCs7P06UXSbY"
   },
   "outputs": [],
   "source": [
    "# 구글 드라이브 연결루트에 각각의 파일들을 연결\n",
    "age_gender = pd.read_csv(PATH + '/age_gender_info.csv')\n",
    "train = pd.read_csv(PATH + '/train.csv')\n",
    "test = pd.read_csv(PATH + '/test.csv')"
   ]
  },
  {
   "cell_type": "code",
   "execution_count": 4,
   "metadata": {
    "executionInfo": {
     "elapsed": 30,
     "status": "ok",
     "timestamp": 1628478265849,
     "user": {
      "displayName": "정재환",
      "photoUrl": "",
      "userId": "00289451058434735723"
     },
     "user_tz": -540
    },
    "id": "ZpxWilIhvmee"
   },
   "outputs": [],
   "source": [
    "submission = pd.read_csv(PATH + '/sample_submission.csv')"
   ]
  },
  {
   "cell_type": "code",
   "execution_count": 5,
   "metadata": {
    "colab": {
     "base_uri": "https://localhost:8080/"
    },
    "executionInfo": {
     "elapsed": 28,
     "status": "ok",
     "timestamp": 1628478265850,
     "user": {
      "displayName": "정재환",
      "photoUrl": "",
      "userId": "00289451058434735723"
     },
     "user_tz": -540
    },
    "id": "o2D6f5ITXaHr",
    "outputId": "c09c7600-0058-4668-8bc3-b5010ce14a70"
   },
   "outputs": [
    {
     "name": "stdout",
     "output_type": "stream",
     "text": [
      "<class 'pandas.core.frame.DataFrame'>\n",
      "RangeIndex: 2952 entries, 0 to 2951\n",
      "Data columns (total 15 columns):\n",
      " #   Column                        Non-Null Count  Dtype  \n",
      "---  ------                        --------------  -----  \n",
      " 0   단지코드                          2952 non-null   object \n",
      " 1   총세대수                          2952 non-null   int64  \n",
      " 2   임대건물구분                        2952 non-null   object \n",
      " 3   지역                            2952 non-null   object \n",
      " 4   공급유형                          2952 non-null   object \n",
      " 5   전용면적                          2952 non-null   float64\n",
      " 6   전용면적별세대수                      2952 non-null   int64  \n",
      " 7   공가수                           2952 non-null   float64\n",
      " 8   자격유형                          2952 non-null   object \n",
      " 9   임대보증금                         2383 non-null   object \n",
      " 10  임대료                           2383 non-null   object \n",
      " 11  도보 10분거리 내 지하철역 수(환승노선 수 반영)  2741 non-null   float64\n",
      " 12  도보 10분거리 내 버스정류장 수            2948 non-null   float64\n",
      " 13  단지내주차면수                       2952 non-null   float64\n",
      " 14  등록차량수                         2952 non-null   float64\n",
      "dtypes: float64(6), int64(2), object(7)\n",
      "memory usage: 346.1+ KB\n"
     ]
    }
   ],
   "source": [
    "train.info()"
   ]
  },
  {
   "cell_type": "markdown",
   "metadata": {
    "id": "2NyxagX8gdha"
   },
   "source": [
    "- train 데이터에서 임대보증금, 임대료, 도보 10분거리 내 지하철역 수(환승노선 수 반영), 도보10분거리 내 버스정류장 수에 NULL값 존재"
   ]
  },
  {
   "cell_type": "code",
   "execution_count": 6,
   "metadata": {
    "colab": {
     "base_uri": "https://localhost:8080/"
    },
    "executionInfo": {
     "elapsed": 13,
     "status": "ok",
     "timestamp": 1628478265851,
     "user": {
      "displayName": "정재환",
      "photoUrl": "",
      "userId": "00289451058434735723"
     },
     "user_tz": -540
    },
    "id": "w6fA9ojQfoGe",
    "outputId": "dc1ed260-a758-42ec-c46a-127a8b214558"
   },
   "outputs": [
    {
     "name": "stdout",
     "output_type": "stream",
     "text": [
      "<class 'pandas.core.frame.DataFrame'>\n",
      "RangeIndex: 1022 entries, 0 to 1021\n",
      "Data columns (total 14 columns):\n",
      " #   Column                        Non-Null Count  Dtype  \n",
      "---  ------                        --------------  -----  \n",
      " 0   단지코드                          1022 non-null   object \n",
      " 1   총세대수                          1022 non-null   int64  \n",
      " 2   임대건물구분                        1022 non-null   object \n",
      " 3   지역                            1022 non-null   object \n",
      " 4   공급유형                          1022 non-null   object \n",
      " 5   전용면적                          1022 non-null   float64\n",
      " 6   전용면적별세대수                      1022 non-null   int64  \n",
      " 7   공가수                           1022 non-null   float64\n",
      " 8   자격유형                          1020 non-null   object \n",
      " 9   임대보증금                         842 non-null    object \n",
      " 10  임대료                           842 non-null    object \n",
      " 11  도보 10분거리 내 지하철역 수(환승노선 수 반영)  980 non-null    float64\n",
      " 12  도보 10분거리 내 버스정류장 수            1022 non-null   float64\n",
      " 13  단지내주차면수                       1022 non-null   float64\n",
      "dtypes: float64(5), int64(2), object(7)\n",
      "memory usage: 111.9+ KB\n"
     ]
    }
   ],
   "source": [
    "test.info()"
   ]
  },
  {
   "cell_type": "markdown",
   "metadata": {
    "id": "cw6LLz7OinST"
   },
   "source": [
    "- test데이터에서는 자격유형, 임대보증금, 임대료, 도보 10분거리 내 지하철역 수(호나승노선수 반영)에 NULL값 존재"
   ]
  },
  {
   "cell_type": "code",
   "execution_count": 7,
   "metadata": {
    "executionInfo": {
     "elapsed": 715,
     "status": "ok",
     "timestamp": 1628478266561,
     "user": {
      "displayName": "정재환",
      "photoUrl": "",
      "userId": "00289451058434735723"
     },
     "user_tz": -540
    },
    "id": "9TlkhuZtgray"
   },
   "outputs": [],
   "source": [
    "# 임대보증금과 임대료의 '-'을 null로 바꾼 후 float로 타입 변경\n",
    "train.loc[train.임대보증금=='-', '임대보증금'] = np.nan\n",
    "test.loc[test.임대보증금=='-', '임대보증금'] = np.nan\n",
    "train['임대보증금'] = train['임대보증금'].astype(float)\n",
    "test['임대보증금'] = test['임대보증금'].astype(float)\n",
    "\n",
    "train.loc[train.임대료=='-', '임대료'] = np.nan\n",
    "test.loc[test.임대료=='-', '임대료'] = np.nan\n",
    "train['임대료'] = train['임대료'].astype(float)\n",
    "test['임대료'] = test['임대료'].astype(float)"
   ]
  },
  {
   "cell_type": "markdown",
   "metadata": {
    "id": "SGhySVzHpRPI"
   },
   "source": [
    "## 1.2 NULL 값이 있는 변수 탐색\n",
    "\n",
    "#### (1) 임대보증금, 임대료"
   ]
  },
  {
   "cell_type": "code",
   "execution_count": 8,
   "metadata": {
    "colab": {
     "base_uri": "https://localhost:8080/"
    },
    "executionInfo": {
     "elapsed": 59,
     "status": "ok",
     "timestamp": 1628478266561,
     "user": {
      "displayName": "정재환",
      "photoUrl": "",
      "userId": "00289451058434735723"
     },
     "user_tz": -540
    },
    "id": "aQ5a3rUZn232",
    "outputId": "3edf6869-791a-43a6-88e2-e28d0a763940"
   },
   "outputs": [
    {
     "data": {
      "text/plain": [
       "임대상가    562\n",
       "국민임대      8\n",
       "공공분양      7\n",
       "행복주택      4\n",
       "Name: 공급유형, dtype: int64"
      ]
     },
     "execution_count": 8,
     "metadata": {
      "tags": []
     },
     "output_type": "execute_result"
    }
   ],
   "source": [
    "train[train.임대보증금.isnull()].공급유형.value_counts()"
   ]
  },
  {
   "cell_type": "code",
   "execution_count": 9,
   "metadata": {
    "colab": {
     "base_uri": "https://localhost:8080/"
    },
    "executionInfo": {
     "elapsed": 54,
     "status": "ok",
     "timestamp": 1628478266562,
     "user": {
      "displayName": "정재환",
      "photoUrl": "",
      "userId": "00289451058434735723"
     },
     "user_tz": -540
    },
    "id": "dIP7EaN5tiZM",
    "outputId": "c86fd15d-34ab-490e-cc06-55725ba5d0d8"
   },
   "outputs": [
    {
     "data": {
      "text/plain": [
       "임대상가    177\n",
       "영구임대      5\n",
       "행복주택      4\n",
       "Name: 공급유형, dtype: int64"
      ]
     },
     "execution_count": 9,
     "metadata": {
      "tags": []
     },
     "output_type": "execute_result"
    }
   ],
   "source": [
    "test[test.임대보증금.isnull()].공급유형.value_counts()"
   ]
  },
  {
   "cell_type": "code",
   "execution_count": 10,
   "metadata": {
    "colab": {
     "base_uri": "https://localhost:8080/"
    },
    "executionInfo": {
     "elapsed": 50,
     "status": "ok",
     "timestamp": 1628478266562,
     "user": {
      "displayName": "정재환",
      "photoUrl": "",
      "userId": "00289451058434735723"
     },
     "user_tz": -540
    },
    "id": "UNGGeRFxB3y5",
    "outputId": "c0db5e17-fed7-4631-d6fd-38c74de4a0e3"
   },
   "outputs": [
    {
     "data": {
      "text/plain": [
       "D    569\n",
       "H      8\n",
       "K      4\n",
       "Name: 자격유형, dtype: int64"
      ]
     },
     "execution_count": 10,
     "metadata": {
      "tags": []
     },
     "output_type": "execute_result"
    }
   ],
   "source": [
    "train[train.임대보증금.isnull()].자격유형.value_counts()"
   ]
  },
  {
   "cell_type": "code",
   "execution_count": 11,
   "metadata": {
    "colab": {
     "base_uri": "https://localhost:8080/"
    },
    "executionInfo": {
     "elapsed": 47,
     "status": "ok",
     "timestamp": 1628478266563,
     "user": {
      "displayName": "정재환",
      "photoUrl": "",
      "userId": "00289451058434735723"
     },
     "user_tz": -540
    },
    "id": "0wVAIsW6B_0J",
    "outputId": "fafaeff6-077f-44dd-f366-d8d9bc51c74b"
   },
   "outputs": [
    {
     "data": {
      "text/plain": [
       "D    180\n",
       "L      4\n",
       "C      2\n",
       "Name: 자격유형, dtype: int64"
      ]
     },
     "execution_count": 11,
     "metadata": {
      "tags": []
     },
     "output_type": "execute_result"
    }
   ],
   "source": [
    "test[test.임대보증금.isnull()].자격유형.value_counts()"
   ]
  },
  {
   "cell_type": "code",
   "execution_count": 12,
   "metadata": {
    "colab": {
     "base_uri": "https://localhost:8080/"
    },
    "executionInfo": {
     "elapsed": 43,
     "status": "ok",
     "timestamp": 1628478266563,
     "user": {
      "displayName": "정재환",
      "photoUrl": "",
      "userId": "00289451058434735723"
     },
     "user_tz": -540
    },
    "id": "WDWPS04oCCYo",
    "outputId": "9588c50e-aad2-4e18-962c-3b8c504936b4"
   },
   "outputs": [
    {
     "name": "stdout",
     "output_type": "stream",
     "text": [
      "<class 'pandas.core.frame.DataFrame'>\n",
      "Int64Index: 757 entries, 88 to 2919\n",
      "Data columns (total 15 columns):\n",
      " #   Column                        Non-Null Count  Dtype  \n",
      "---  ------                        --------------  -----  \n",
      " 0   단지코드                          757 non-null    object \n",
      " 1   총세대수                          757 non-null    int64  \n",
      " 2   임대건물구분                        757 non-null    object \n",
      " 3   지역                            757 non-null    object \n",
      " 4   공급유형                          757 non-null    object \n",
      " 5   전용면적                          757 non-null    float64\n",
      " 6   전용면적별세대수                      757 non-null    int64  \n",
      " 7   공가수                           757 non-null    float64\n",
      " 8   자격유형                          757 non-null    object \n",
      " 9   임대보증금                         176 non-null    float64\n",
      " 10  임대료                           176 non-null    float64\n",
      " 11  도보 10분거리 내 지하철역 수(환승노선 수 반영)  623 non-null    float64\n",
      " 12  도보 10분거리 내 버스정류장 수            757 non-null    float64\n",
      " 13  단지내주차면수                       757 non-null    float64\n",
      " 14  등록차량수                         757 non-null    float64\n",
      "dtypes: float64(8), int64(2), object(5)\n",
      "memory usage: 94.6+ KB\n"
     ]
    }
   ],
   "source": [
    "train[train.자격유형.isin(['D', 'H', 'K'])].info() \n",
    "# isin은 열의 list안의 값들을 포함하고 있는 것을 골라낼때 사용"
   ]
  },
  {
   "cell_type": "code",
   "execution_count": 13,
   "metadata": {
    "colab": {
     "base_uri": "https://localhost:8080/"
    },
    "executionInfo": {
     "elapsed": 40,
     "status": "ok",
     "timestamp": 1628478266564,
     "user": {
      "displayName": "정재환",
      "photoUrl": "",
      "userId": "00289451058434735723"
     },
     "user_tz": -540
    },
    "id": "jm8DGVvGu4hT",
    "outputId": "2b6430b7-f62c-477c-9f69-a245f1e8c1c0"
   },
   "outputs": [
    {
     "name": "stdout",
     "output_type": "stream",
     "text": [
      "<class 'pandas.core.frame.DataFrame'>\n",
      "Int64Index: 226 entries, 73 to 1017\n",
      "Data columns (total 14 columns):\n",
      " #   Column                        Non-Null Count  Dtype  \n",
      "---  ------                        --------------  -----  \n",
      " 0   단지코드                          226 non-null    object \n",
      " 1   총세대수                          226 non-null    int64  \n",
      " 2   임대건물구분                        226 non-null    object \n",
      " 3   지역                            226 non-null    object \n",
      " 4   공급유형                          226 non-null    object \n",
      " 5   전용면적                          226 non-null    float64\n",
      " 6   전용면적별세대수                      226 non-null    int64  \n",
      " 7   공가수                           226 non-null    float64\n",
      " 8   자격유형                          226 non-null    object \n",
      " 9   임대보증금                         40 non-null     float64\n",
      " 10  임대료                           40 non-null     float64\n",
      " 11  도보 10분거리 내 지하철역 수(환승노선 수 반영)  201 non-null    float64\n",
      " 12  도보 10분거리 내 버스정류장 수            226 non-null    float64\n",
      " 13  단지내주차면수                       226 non-null    float64\n",
      "dtypes: float64(7), int64(2), object(5)\n",
      "memory usage: 26.5+ KB\n"
     ]
    }
   ],
   "source": [
    "test[test.자격유형.isin(['D','L','C'])].info()"
   ]
  },
  {
   "cell_type": "code",
   "execution_count": 14,
   "metadata": {
    "executionInfo": {
     "elapsed": 37,
     "status": "ok",
     "timestamp": 1628478266565,
     "user": {
      "displayName": "정재환",
      "photoUrl": "",
      "userId": "00289451058434735723"
     },
     "user_tz": -540
    },
    "id": "wiQw9_dZ6cA3"
   },
   "outputs": [],
   "source": [
    "# 임대보증금과 임대료가 NULL인경우 0으로 대체하는것이 좋아보인다\n",
    "train[['임대보증금', '임대료']] = train[['임대보증금', '임대료']].fillna(0)\n",
    "test[['임대보증금', '임대료']] = test[['임대보증금', '임대료']].fillna(0)"
   ]
  },
  {
   "cell_type": "markdown",
   "metadata": {
    "id": "bI8RnHnt6st3"
   },
   "source": [
    "#### 도보 10분거리 내 지하철역 수(환승노선 수 반영), 도보 10분거리 내 버스정류장 수\n",
    "\n",
    "- NULL값을 0으로 대체"
   ]
  },
  {
   "cell_type": "code",
   "execution_count": 15,
   "metadata": {
    "colab": {
     "base_uri": "https://localhost:8080/"
    },
    "executionInfo": {
     "elapsed": 37,
     "status": "ok",
     "timestamp": 1628478266565,
     "user": {
      "displayName": "정재환",
      "photoUrl": "",
      "userId": "00289451058434735723"
     },
     "user_tz": -540
    },
    "id": "gFRTyxDO6sKH",
    "outputId": "a28fa80d-058c-4709-9fc4-ed769f6f2a47"
   },
   "outputs": [
    {
     "data": {
      "text/plain": [
       "NaN    211\n",
       "Name: 도보 10분거리 내 지하철역 수(환승노선 수 반영), dtype: int64"
      ]
     },
     "execution_count": 15,
     "metadata": {
      "tags": []
     },
     "output_type": "execute_result"
    }
   ],
   "source": [
    "subway_null_codes = train[train['도보 10분거리 내 지하철역 수(환승노선 수 반영)'].isnull()].단지코드.unique()\n",
    "train.loc[train.단지코드.isin(subway_null_codes), '도보 10분거리 내 지하철역 수(환승노선 수 반영)'].value_counts(dropna=False)"
   ]
  },
  {
   "cell_type": "code",
   "execution_count": 16,
   "metadata": {
    "colab": {
     "base_uri": "https://localhost:8080/"
    },
    "executionInfo": {
     "elapsed": 33,
     "status": "ok",
     "timestamp": 1628478266565,
     "user": {
      "displayName": "정재환",
      "photoUrl": "",
      "userId": "00289451058434735723"
     },
     "user_tz": -540
    },
    "id": "1Qm3a0QX7OeH",
    "outputId": "3cbe454d-855b-4972-f826-7fbffeb2f4be"
   },
   "outputs": [
    {
     "data": {
      "text/plain": [
       "NaN    42\n",
       "Name: 도보 10분거리 내 지하철역 수(환승노선 수 반영), dtype: int64"
      ]
     },
     "execution_count": 16,
     "metadata": {
      "tags": []
     },
     "output_type": "execute_result"
    }
   ],
   "source": [
    "subway_null_codes = test[test['도보 10분거리 내 지하철역 수(환승노선 수 반영)'].isnull()].단지코드.unique()\n",
    "test.loc[test.단지코드.isin(subway_null_codes), '도보 10분거리 내 지하철역 수(환승노선 수 반영)'].value_counts(dropna=False)"
   ]
  },
  {
   "cell_type": "code",
   "execution_count": 17,
   "metadata": {
    "colab": {
     "base_uri": "https://localhost:8080/"
    },
    "executionInfo": {
     "elapsed": 33,
     "status": "ok",
     "timestamp": 1628478266566,
     "user": {
      "displayName": "정재환",
      "photoUrl": "",
      "userId": "00289451058434735723"
     },
     "user_tz": -540
    },
    "id": "IDq8dy9Y7WAO",
    "outputId": "0f4c5ebc-5c82-45e9-8875-b0f84ac56855"
   },
   "outputs": [
    {
     "data": {
      "text/plain": [
       "NaN    4\n",
       "Name: 도보 10분거리 내 버스정류장 수, dtype: int64"
      ]
     },
     "execution_count": 17,
     "metadata": {
      "tags": []
     },
     "output_type": "execute_result"
    }
   ],
   "source": [
    "bus_null_codes = train[train['도보 10분거리 내 버스정류장 수'].isnull()].단지코드.unique()\n",
    "train.loc[train.단지코드.isin(bus_null_codes), '도보 10분거리 내 버스정류장 수'].value_counts(dropna=False)"
   ]
  },
  {
   "cell_type": "code",
   "execution_count": 18,
   "metadata": {
    "colab": {
     "base_uri": "https://localhost:8080/"
    },
    "executionInfo": {
     "elapsed": 33,
     "status": "ok",
     "timestamp": 1628478266566,
     "user": {
      "displayName": "정재환",
      "photoUrl": "",
      "userId": "00289451058434735723"
     },
     "user_tz": -540
    },
    "id": "53dw3DFV7ZXg",
    "outputId": "34c24035-5cce-4dde-bf6d-0a7e3ff29fac"
   },
   "outputs": [
    {
     "data": {
      "text/plain": [
       "Series([], Name: 도보 10분거리 내 버스정류장 수, dtype: int64)"
      ]
     },
     "execution_count": 18,
     "metadata": {
      "tags": []
     },
     "output_type": "execute_result"
    }
   ],
   "source": [
    "bus_null_codes = test[test['도보 10분거리 내 버스정류장 수'].isnull()].단지코드.unique()\n",
    "test.loc[train.단지코드.isin(bus_null_codes), '도보 10분거리 내 버스정류장 수'].value_counts(dropna=False)"
   ]
  },
  {
   "cell_type": "markdown",
   "metadata": {
    "id": "900w2hmm7g7H"
   },
   "source": [
    "#### (3) 자격유형"
   ]
  },
  {
   "cell_type": "code",
   "execution_count": 19,
   "metadata": {
    "colab": {
     "base_uri": "https://localhost:8080/",
     "height": 534
    },
    "executionInfo": {
     "elapsed": 33,
     "status": "ok",
     "timestamp": 1628478266567,
     "user": {
      "displayName": "정재환",
      "photoUrl": "",
      "userId": "00289451058434735723"
     },
     "user_tz": -540
    },
    "id": "L0XSInt97emh",
    "outputId": "711f181d-46f3-48fa-a212-6dc5e1c6b96c"
   },
   "outputs": [
    {
     "data": {
      "text/html": [
       "<div>\n",
       "<style scoped>\n",
       "    .dataframe tbody tr th:only-of-type {\n",
       "        vertical-align: middle;\n",
       "    }\n",
       "\n",
       "    .dataframe tbody tr th {\n",
       "        vertical-align: top;\n",
       "    }\n",
       "\n",
       "    .dataframe thead th {\n",
       "        text-align: right;\n",
       "    }\n",
       "</style>\n",
       "<table border=\"1\" class=\"dataframe\">\n",
       "  <thead>\n",
       "    <tr style=\"text-align: right;\">\n",
       "      <th></th>\n",
       "      <th>단지코드</th>\n",
       "      <th>총세대수</th>\n",
       "      <th>임대건물구분</th>\n",
       "      <th>지역</th>\n",
       "      <th>공급유형</th>\n",
       "      <th>전용면적</th>\n",
       "      <th>전용면적별세대수</th>\n",
       "      <th>공가수</th>\n",
       "      <th>자격유형</th>\n",
       "      <th>임대보증금</th>\n",
       "      <th>임대료</th>\n",
       "      <th>도보 10분거리 내 지하철역 수(환승노선 수 반영)</th>\n",
       "      <th>도보 10분거리 내 버스정류장 수</th>\n",
       "      <th>단지내주차면수</th>\n",
       "    </tr>\n",
       "  </thead>\n",
       "  <tbody>\n",
       "    <tr>\n",
       "      <th>196</th>\n",
       "      <td>C2411</td>\n",
       "      <td>962</td>\n",
       "      <td>아파트</td>\n",
       "      <td>경상남도</td>\n",
       "      <td>국민임대</td>\n",
       "      <td>46.90</td>\n",
       "      <td>240</td>\n",
       "      <td>25.0</td>\n",
       "      <td>NaN</td>\n",
       "      <td>71950000.0</td>\n",
       "      <td>37470.0</td>\n",
       "      <td>0.0</td>\n",
       "      <td>2.0</td>\n",
       "      <td>840.0</td>\n",
       "    </tr>\n",
       "    <tr>\n",
       "      <th>258</th>\n",
       "      <td>C2253</td>\n",
       "      <td>1161</td>\n",
       "      <td>아파트</td>\n",
       "      <td>강원도</td>\n",
       "      <td>영구임대</td>\n",
       "      <td>26.37</td>\n",
       "      <td>745</td>\n",
       "      <td>0.0</td>\n",
       "      <td>NaN</td>\n",
       "      <td>2249000.0</td>\n",
       "      <td>44770.0</td>\n",
       "      <td>0.0</td>\n",
       "      <td>2.0</td>\n",
       "      <td>173.0</td>\n",
       "    </tr>\n",
       "  </tbody>\n",
       "</table>\n",
       "</div>"
      ],
      "text/plain": [
       "      단지코드  총세대수  ... 도보 10분거리 내 버스정류장 수 단지내주차면수\n",
       "196  C2411   962  ...                2.0   840.0\n",
       "258  C2253  1161  ...                2.0   173.0\n",
       "\n",
       "[2 rows x 14 columns]"
      ]
     },
     "execution_count": 19,
     "metadata": {
      "tags": []
     },
     "output_type": "execute_result"
    }
   ],
   "source": [
    "test[test.자격유형.isnull()]"
   ]
  },
  {
   "cell_type": "code",
   "execution_count": 20,
   "metadata": {
    "colab": {
     "base_uri": "https://localhost:8080/",
     "height": 778
    },
    "executionInfo": {
     "elapsed": 32,
     "status": "ok",
     "timestamp": 1628478266568,
     "user": {
      "displayName": "정재환",
      "photoUrl": "",
      "userId": "00289451058434735723"
     },
     "user_tz": -540
    },
    "id": "S7NgEjEd7k5y",
    "outputId": "e38ee8c2-d48a-423b-d46a-07fdf1a3a2f3"
   },
   "outputs": [
    {
     "data": {
      "text/html": [
       "<div>\n",
       "<style scoped>\n",
       "    .dataframe tbody tr th:only-of-type {\n",
       "        vertical-align: middle;\n",
       "    }\n",
       "\n",
       "    .dataframe tbody tr th {\n",
       "        vertical-align: top;\n",
       "    }\n",
       "\n",
       "    .dataframe thead th {\n",
       "        text-align: right;\n",
       "    }\n",
       "</style>\n",
       "<table border=\"1\" class=\"dataframe\">\n",
       "  <thead>\n",
       "    <tr style=\"text-align: right;\">\n",
       "      <th></th>\n",
       "      <th>단지코드</th>\n",
       "      <th>총세대수</th>\n",
       "      <th>임대건물구분</th>\n",
       "      <th>지역</th>\n",
       "      <th>공급유형</th>\n",
       "      <th>전용면적</th>\n",
       "      <th>전용면적별세대수</th>\n",
       "      <th>공가수</th>\n",
       "      <th>자격유형</th>\n",
       "      <th>임대보증금</th>\n",
       "      <th>임대료</th>\n",
       "      <th>도보 10분거리 내 지하철역 수(환승노선 수 반영)</th>\n",
       "      <th>도보 10분거리 내 버스정류장 수</th>\n",
       "      <th>단지내주차면수</th>\n",
       "    </tr>\n",
       "  </thead>\n",
       "  <tbody>\n",
       "    <tr>\n",
       "      <th>193</th>\n",
       "      <td>C2411</td>\n",
       "      <td>962</td>\n",
       "      <td>아파트</td>\n",
       "      <td>경상남도</td>\n",
       "      <td>국민임대</td>\n",
       "      <td>39.43</td>\n",
       "      <td>56</td>\n",
       "      <td>25.0</td>\n",
       "      <td>A</td>\n",
       "      <td>11992000.0</td>\n",
       "      <td>100720.0</td>\n",
       "      <td>0.0</td>\n",
       "      <td>2.0</td>\n",
       "      <td>840.0</td>\n",
       "    </tr>\n",
       "    <tr>\n",
       "      <th>194</th>\n",
       "      <td>C2411</td>\n",
       "      <td>962</td>\n",
       "      <td>아파트</td>\n",
       "      <td>경상남도</td>\n",
       "      <td>국민임대</td>\n",
       "      <td>39.72</td>\n",
       "      <td>336</td>\n",
       "      <td>25.0</td>\n",
       "      <td>A</td>\n",
       "      <td>11992000.0</td>\n",
       "      <td>100720.0</td>\n",
       "      <td>0.0</td>\n",
       "      <td>2.0</td>\n",
       "      <td>840.0</td>\n",
       "    </tr>\n",
       "    <tr>\n",
       "      <th>195</th>\n",
       "      <td>C2411</td>\n",
       "      <td>962</td>\n",
       "      <td>아파트</td>\n",
       "      <td>경상남도</td>\n",
       "      <td>국민임대</td>\n",
       "      <td>39.82</td>\n",
       "      <td>179</td>\n",
       "      <td>25.0</td>\n",
       "      <td>A</td>\n",
       "      <td>11992000.0</td>\n",
       "      <td>100720.0</td>\n",
       "      <td>0.0</td>\n",
       "      <td>2.0</td>\n",
       "      <td>840.0</td>\n",
       "    </tr>\n",
       "    <tr>\n",
       "      <th>196</th>\n",
       "      <td>C2411</td>\n",
       "      <td>962</td>\n",
       "      <td>아파트</td>\n",
       "      <td>경상남도</td>\n",
       "      <td>국민임대</td>\n",
       "      <td>46.90</td>\n",
       "      <td>240</td>\n",
       "      <td>25.0</td>\n",
       "      <td>NaN</td>\n",
       "      <td>71950000.0</td>\n",
       "      <td>37470.0</td>\n",
       "      <td>0.0</td>\n",
       "      <td>2.0</td>\n",
       "      <td>840.0</td>\n",
       "    </tr>\n",
       "    <tr>\n",
       "      <th>197</th>\n",
       "      <td>C2411</td>\n",
       "      <td>962</td>\n",
       "      <td>아파트</td>\n",
       "      <td>경상남도</td>\n",
       "      <td>국민임대</td>\n",
       "      <td>51.93</td>\n",
       "      <td>150</td>\n",
       "      <td>25.0</td>\n",
       "      <td>A</td>\n",
       "      <td>21586000.0</td>\n",
       "      <td>171480.0</td>\n",
       "      <td>0.0</td>\n",
       "      <td>2.0</td>\n",
       "      <td>840.0</td>\n",
       "    </tr>\n",
       "  </tbody>\n",
       "</table>\n",
       "</div>"
      ],
      "text/plain": [
       "      단지코드  총세대수  ... 도보 10분거리 내 버스정류장 수 단지내주차면수\n",
       "193  C2411   962  ...                2.0   840.0\n",
       "194  C2411   962  ...                2.0   840.0\n",
       "195  C2411   962  ...                2.0   840.0\n",
       "196  C2411   962  ...                2.0   840.0\n",
       "197  C2411   962  ...                2.0   840.0\n",
       "\n",
       "[5 rows x 14 columns]"
      ]
     },
     "execution_count": 20,
     "metadata": {
      "tags": []
     },
     "output_type": "execute_result"
    }
   ],
   "source": [
    "test[test.단지코드=='C2411']"
   ]
  },
  {
   "cell_type": "markdown",
   "metadata": {
    "id": "WhRE_AZE8Mom"
   },
   "source": [
    "NaN값은 A로 채우면 될 것으로 보인다"
   ]
  },
  {
   "cell_type": "code",
   "execution_count": 21,
   "metadata": {
    "executionInfo": {
     "elapsed": 31,
     "status": "ok",
     "timestamp": 1628478266568,
     "user": {
      "displayName": "정재환",
      "photoUrl": "",
      "userId": "00289451058434735723"
     },
     "user_tz": -540
    },
    "id": "grnhej2N8LbL"
   },
   "outputs": [],
   "source": [
    "test.loc[test.단지코드.isin(['C2411']) & test.자격유형.isnull(), '자격유형'] = 'A'"
   ]
  },
  {
   "cell_type": "code",
   "execution_count": 22,
   "metadata": {
    "colab": {
     "base_uri": "https://localhost:8080/",
     "height": 1000
    },
    "executionInfo": {
     "elapsed": 31,
     "status": "ok",
     "timestamp": 1628478266568,
     "user": {
      "displayName": "정재환",
      "photoUrl": "",
      "userId": "00289451058434735723"
     },
     "user_tz": -540
    },
    "id": "qF15lIGN8twk",
    "outputId": "8e77b324-9962-469d-f1b1-06d0ad0418c3"
   },
   "outputs": [
    {
     "data": {
      "text/html": [
       "<div>\n",
       "<style scoped>\n",
       "    .dataframe tbody tr th:only-of-type {\n",
       "        vertical-align: middle;\n",
       "    }\n",
       "\n",
       "    .dataframe tbody tr th {\n",
       "        vertical-align: top;\n",
       "    }\n",
       "\n",
       "    .dataframe thead th {\n",
       "        text-align: right;\n",
       "    }\n",
       "</style>\n",
       "<table border=\"1\" class=\"dataframe\">\n",
       "  <thead>\n",
       "    <tr style=\"text-align: right;\">\n",
       "      <th></th>\n",
       "      <th>단지코드</th>\n",
       "      <th>총세대수</th>\n",
       "      <th>임대건물구분</th>\n",
       "      <th>지역</th>\n",
       "      <th>공급유형</th>\n",
       "      <th>전용면적</th>\n",
       "      <th>전용면적별세대수</th>\n",
       "      <th>공가수</th>\n",
       "      <th>자격유형</th>\n",
       "      <th>임대보증금</th>\n",
       "      <th>임대료</th>\n",
       "      <th>도보 10분거리 내 지하철역 수(환승노선 수 반영)</th>\n",
       "      <th>도보 10분거리 내 버스정류장 수</th>\n",
       "      <th>단지내주차면수</th>\n",
       "    </tr>\n",
       "  </thead>\n",
       "  <tbody>\n",
       "    <tr>\n",
       "      <th>258</th>\n",
       "      <td>C2253</td>\n",
       "      <td>1161</td>\n",
       "      <td>아파트</td>\n",
       "      <td>강원도</td>\n",
       "      <td>영구임대</td>\n",
       "      <td>26.37</td>\n",
       "      <td>745</td>\n",
       "      <td>0.0</td>\n",
       "      <td>NaN</td>\n",
       "      <td>2249000.0</td>\n",
       "      <td>44770.0</td>\n",
       "      <td>0.0</td>\n",
       "      <td>2.0</td>\n",
       "      <td>173.0</td>\n",
       "    </tr>\n",
       "    <tr>\n",
       "      <th>259</th>\n",
       "      <td>C2253</td>\n",
       "      <td>1161</td>\n",
       "      <td>아파트</td>\n",
       "      <td>강원도</td>\n",
       "      <td>영구임대</td>\n",
       "      <td>31.32</td>\n",
       "      <td>239</td>\n",
       "      <td>0.0</td>\n",
       "      <td>C</td>\n",
       "      <td>3731000.0</td>\n",
       "      <td>83020.0</td>\n",
       "      <td>0.0</td>\n",
       "      <td>2.0</td>\n",
       "      <td>173.0</td>\n",
       "    </tr>\n",
       "    <tr>\n",
       "      <th>260</th>\n",
       "      <td>C2253</td>\n",
       "      <td>1161</td>\n",
       "      <td>아파트</td>\n",
       "      <td>강원도</td>\n",
       "      <td>영구임대</td>\n",
       "      <td>31.32</td>\n",
       "      <td>149</td>\n",
       "      <td>0.0</td>\n",
       "      <td>C</td>\n",
       "      <td>3731000.0</td>\n",
       "      <td>83020.0</td>\n",
       "      <td>0.0</td>\n",
       "      <td>2.0</td>\n",
       "      <td>173.0</td>\n",
       "    </tr>\n",
       "    <tr>\n",
       "      <th>261</th>\n",
       "      <td>C2253</td>\n",
       "      <td>1161</td>\n",
       "      <td>상가</td>\n",
       "      <td>강원도</td>\n",
       "      <td>임대상가</td>\n",
       "      <td>13.77</td>\n",
       "      <td>1</td>\n",
       "      <td>0.0</td>\n",
       "      <td>D</td>\n",
       "      <td>0.0</td>\n",
       "      <td>0.0</td>\n",
       "      <td>0.0</td>\n",
       "      <td>2.0</td>\n",
       "      <td>173.0</td>\n",
       "    </tr>\n",
       "    <tr>\n",
       "      <th>262</th>\n",
       "      <td>C2253</td>\n",
       "      <td>1161</td>\n",
       "      <td>상가</td>\n",
       "      <td>강원도</td>\n",
       "      <td>임대상가</td>\n",
       "      <td>22.89</td>\n",
       "      <td>1</td>\n",
       "      <td>0.0</td>\n",
       "      <td>D</td>\n",
       "      <td>0.0</td>\n",
       "      <td>0.0</td>\n",
       "      <td>0.0</td>\n",
       "      <td>2.0</td>\n",
       "      <td>173.0</td>\n",
       "    </tr>\n",
       "    <tr>\n",
       "      <th>263</th>\n",
       "      <td>C2253</td>\n",
       "      <td>1161</td>\n",
       "      <td>상가</td>\n",
       "      <td>강원도</td>\n",
       "      <td>임대상가</td>\n",
       "      <td>22.91</td>\n",
       "      <td>1</td>\n",
       "      <td>0.0</td>\n",
       "      <td>D</td>\n",
       "      <td>0.0</td>\n",
       "      <td>0.0</td>\n",
       "      <td>0.0</td>\n",
       "      <td>2.0</td>\n",
       "      <td>173.0</td>\n",
       "    </tr>\n",
       "    <tr>\n",
       "      <th>264</th>\n",
       "      <td>C2253</td>\n",
       "      <td>1161</td>\n",
       "      <td>상가</td>\n",
       "      <td>강원도</td>\n",
       "      <td>임대상가</td>\n",
       "      <td>23.79</td>\n",
       "      <td>1</td>\n",
       "      <td>0.0</td>\n",
       "      <td>D</td>\n",
       "      <td>0.0</td>\n",
       "      <td>0.0</td>\n",
       "      <td>0.0</td>\n",
       "      <td>2.0</td>\n",
       "      <td>173.0</td>\n",
       "    </tr>\n",
       "    <tr>\n",
       "      <th>265</th>\n",
       "      <td>C2253</td>\n",
       "      <td>1161</td>\n",
       "      <td>상가</td>\n",
       "      <td>강원도</td>\n",
       "      <td>임대상가</td>\n",
       "      <td>23.79</td>\n",
       "      <td>1</td>\n",
       "      <td>0.0</td>\n",
       "      <td>D</td>\n",
       "      <td>0.0</td>\n",
       "      <td>0.0</td>\n",
       "      <td>0.0</td>\n",
       "      <td>2.0</td>\n",
       "      <td>173.0</td>\n",
       "    </tr>\n",
       "    <tr>\n",
       "      <th>266</th>\n",
       "      <td>C2253</td>\n",
       "      <td>1161</td>\n",
       "      <td>상가</td>\n",
       "      <td>강원도</td>\n",
       "      <td>임대상가</td>\n",
       "      <td>23.86</td>\n",
       "      <td>1</td>\n",
       "      <td>0.0</td>\n",
       "      <td>D</td>\n",
       "      <td>0.0</td>\n",
       "      <td>0.0</td>\n",
       "      <td>0.0</td>\n",
       "      <td>2.0</td>\n",
       "      <td>173.0</td>\n",
       "    </tr>\n",
       "    <tr>\n",
       "      <th>267</th>\n",
       "      <td>C2253</td>\n",
       "      <td>1161</td>\n",
       "      <td>상가</td>\n",
       "      <td>강원도</td>\n",
       "      <td>임대상가</td>\n",
       "      <td>23.86</td>\n",
       "      <td>1</td>\n",
       "      <td>0.0</td>\n",
       "      <td>D</td>\n",
       "      <td>0.0</td>\n",
       "      <td>0.0</td>\n",
       "      <td>0.0</td>\n",
       "      <td>2.0</td>\n",
       "      <td>173.0</td>\n",
       "    </tr>\n",
       "    <tr>\n",
       "      <th>268</th>\n",
       "      <td>C2253</td>\n",
       "      <td>1161</td>\n",
       "      <td>상가</td>\n",
       "      <td>강원도</td>\n",
       "      <td>임대상가</td>\n",
       "      <td>24.19</td>\n",
       "      <td>1</td>\n",
       "      <td>0.0</td>\n",
       "      <td>D</td>\n",
       "      <td>0.0</td>\n",
       "      <td>0.0</td>\n",
       "      <td>0.0</td>\n",
       "      <td>2.0</td>\n",
       "      <td>173.0</td>\n",
       "    </tr>\n",
       "    <tr>\n",
       "      <th>269</th>\n",
       "      <td>C2253</td>\n",
       "      <td>1161</td>\n",
       "      <td>상가</td>\n",
       "      <td>강원도</td>\n",
       "      <td>임대상가</td>\n",
       "      <td>27.75</td>\n",
       "      <td>1</td>\n",
       "      <td>0.0</td>\n",
       "      <td>D</td>\n",
       "      <td>0.0</td>\n",
       "      <td>0.0</td>\n",
       "      <td>0.0</td>\n",
       "      <td>2.0</td>\n",
       "      <td>173.0</td>\n",
       "    </tr>\n",
       "    <tr>\n",
       "      <th>270</th>\n",
       "      <td>C2253</td>\n",
       "      <td>1161</td>\n",
       "      <td>상가</td>\n",
       "      <td>강원도</td>\n",
       "      <td>임대상가</td>\n",
       "      <td>27.75</td>\n",
       "      <td>1</td>\n",
       "      <td>0.0</td>\n",
       "      <td>D</td>\n",
       "      <td>0.0</td>\n",
       "      <td>0.0</td>\n",
       "      <td>0.0</td>\n",
       "      <td>2.0</td>\n",
       "      <td>173.0</td>\n",
       "    </tr>\n",
       "    <tr>\n",
       "      <th>271</th>\n",
       "      <td>C2253</td>\n",
       "      <td>1161</td>\n",
       "      <td>상가</td>\n",
       "      <td>강원도</td>\n",
       "      <td>임대상가</td>\n",
       "      <td>27.75</td>\n",
       "      <td>1</td>\n",
       "      <td>0.0</td>\n",
       "      <td>D</td>\n",
       "      <td>0.0</td>\n",
       "      <td>0.0</td>\n",
       "      <td>0.0</td>\n",
       "      <td>2.0</td>\n",
       "      <td>173.0</td>\n",
       "    </tr>\n",
       "    <tr>\n",
       "      <th>272</th>\n",
       "      <td>C2253</td>\n",
       "      <td>1161</td>\n",
       "      <td>상가</td>\n",
       "      <td>강원도</td>\n",
       "      <td>임대상가</td>\n",
       "      <td>27.75</td>\n",
       "      <td>1</td>\n",
       "      <td>0.0</td>\n",
       "      <td>D</td>\n",
       "      <td>0.0</td>\n",
       "      <td>0.0</td>\n",
       "      <td>0.0</td>\n",
       "      <td>2.0</td>\n",
       "      <td>173.0</td>\n",
       "    </tr>\n",
       "    <tr>\n",
       "      <th>273</th>\n",
       "      <td>C2253</td>\n",
       "      <td>1161</td>\n",
       "      <td>상가</td>\n",
       "      <td>강원도</td>\n",
       "      <td>임대상가</td>\n",
       "      <td>27.75</td>\n",
       "      <td>1</td>\n",
       "      <td>0.0</td>\n",
       "      <td>D</td>\n",
       "      <td>0.0</td>\n",
       "      <td>0.0</td>\n",
       "      <td>0.0</td>\n",
       "      <td>2.0</td>\n",
       "      <td>173.0</td>\n",
       "    </tr>\n",
       "    <tr>\n",
       "      <th>274</th>\n",
       "      <td>C2253</td>\n",
       "      <td>1161</td>\n",
       "      <td>상가</td>\n",
       "      <td>강원도</td>\n",
       "      <td>임대상가</td>\n",
       "      <td>27.75</td>\n",
       "      <td>1</td>\n",
       "      <td>0.0</td>\n",
       "      <td>D</td>\n",
       "      <td>0.0</td>\n",
       "      <td>0.0</td>\n",
       "      <td>0.0</td>\n",
       "      <td>2.0</td>\n",
       "      <td>173.0</td>\n",
       "    </tr>\n",
       "    <tr>\n",
       "      <th>275</th>\n",
       "      <td>C2253</td>\n",
       "      <td>1161</td>\n",
       "      <td>상가</td>\n",
       "      <td>강원도</td>\n",
       "      <td>임대상가</td>\n",
       "      <td>28.19</td>\n",
       "      <td>1</td>\n",
       "      <td>0.0</td>\n",
       "      <td>D</td>\n",
       "      <td>0.0</td>\n",
       "      <td>0.0</td>\n",
       "      <td>0.0</td>\n",
       "      <td>2.0</td>\n",
       "      <td>173.0</td>\n",
       "    </tr>\n",
       "    <tr>\n",
       "      <th>276</th>\n",
       "      <td>C2253</td>\n",
       "      <td>1161</td>\n",
       "      <td>상가</td>\n",
       "      <td>강원도</td>\n",
       "      <td>임대상가</td>\n",
       "      <td>28.69</td>\n",
       "      <td>1</td>\n",
       "      <td>0.0</td>\n",
       "      <td>D</td>\n",
       "      <td>0.0</td>\n",
       "      <td>0.0</td>\n",
       "      <td>0.0</td>\n",
       "      <td>2.0</td>\n",
       "      <td>173.0</td>\n",
       "    </tr>\n",
       "    <tr>\n",
       "      <th>277</th>\n",
       "      <td>C2253</td>\n",
       "      <td>1161</td>\n",
       "      <td>상가</td>\n",
       "      <td>강원도</td>\n",
       "      <td>임대상가</td>\n",
       "      <td>28.69</td>\n",
       "      <td>1</td>\n",
       "      <td>0.0</td>\n",
       "      <td>D</td>\n",
       "      <td>0.0</td>\n",
       "      <td>0.0</td>\n",
       "      <td>0.0</td>\n",
       "      <td>2.0</td>\n",
       "      <td>173.0</td>\n",
       "    </tr>\n",
       "    <tr>\n",
       "      <th>278</th>\n",
       "      <td>C2253</td>\n",
       "      <td>1161</td>\n",
       "      <td>상가</td>\n",
       "      <td>강원도</td>\n",
       "      <td>임대상가</td>\n",
       "      <td>28.69</td>\n",
       "      <td>1</td>\n",
       "      <td>0.0</td>\n",
       "      <td>D</td>\n",
       "      <td>0.0</td>\n",
       "      <td>0.0</td>\n",
       "      <td>0.0</td>\n",
       "      <td>2.0</td>\n",
       "      <td>173.0</td>\n",
       "    </tr>\n",
       "    <tr>\n",
       "      <th>279</th>\n",
       "      <td>C2253</td>\n",
       "      <td>1161</td>\n",
       "      <td>상가</td>\n",
       "      <td>강원도</td>\n",
       "      <td>임대상가</td>\n",
       "      <td>28.69</td>\n",
       "      <td>1</td>\n",
       "      <td>0.0</td>\n",
       "      <td>D</td>\n",
       "      <td>0.0</td>\n",
       "      <td>0.0</td>\n",
       "      <td>0.0</td>\n",
       "      <td>2.0</td>\n",
       "      <td>173.0</td>\n",
       "    </tr>\n",
       "    <tr>\n",
       "      <th>280</th>\n",
       "      <td>C2253</td>\n",
       "      <td>1161</td>\n",
       "      <td>상가</td>\n",
       "      <td>강원도</td>\n",
       "      <td>임대상가</td>\n",
       "      <td>28.69</td>\n",
       "      <td>1</td>\n",
       "      <td>0.0</td>\n",
       "      <td>D</td>\n",
       "      <td>0.0</td>\n",
       "      <td>0.0</td>\n",
       "      <td>0.0</td>\n",
       "      <td>2.0</td>\n",
       "      <td>173.0</td>\n",
       "    </tr>\n",
       "    <tr>\n",
       "      <th>281</th>\n",
       "      <td>C2253</td>\n",
       "      <td>1161</td>\n",
       "      <td>상가</td>\n",
       "      <td>강원도</td>\n",
       "      <td>임대상가</td>\n",
       "      <td>28.93</td>\n",
       "      <td>1</td>\n",
       "      <td>0.0</td>\n",
       "      <td>D</td>\n",
       "      <td>0.0</td>\n",
       "      <td>0.0</td>\n",
       "      <td>0.0</td>\n",
       "      <td>2.0</td>\n",
       "      <td>173.0</td>\n",
       "    </tr>\n",
       "    <tr>\n",
       "      <th>282</th>\n",
       "      <td>C2253</td>\n",
       "      <td>1161</td>\n",
       "      <td>상가</td>\n",
       "      <td>강원도</td>\n",
       "      <td>임대상가</td>\n",
       "      <td>28.93</td>\n",
       "      <td>1</td>\n",
       "      <td>0.0</td>\n",
       "      <td>D</td>\n",
       "      <td>0.0</td>\n",
       "      <td>0.0</td>\n",
       "      <td>0.0</td>\n",
       "      <td>2.0</td>\n",
       "      <td>173.0</td>\n",
       "    </tr>\n",
       "    <tr>\n",
       "      <th>283</th>\n",
       "      <td>C2253</td>\n",
       "      <td>1161</td>\n",
       "      <td>상가</td>\n",
       "      <td>강원도</td>\n",
       "      <td>임대상가</td>\n",
       "      <td>42.35</td>\n",
       "      <td>1</td>\n",
       "      <td>0.0</td>\n",
       "      <td>D</td>\n",
       "      <td>0.0</td>\n",
       "      <td>0.0</td>\n",
       "      <td>0.0</td>\n",
       "      <td>2.0</td>\n",
       "      <td>173.0</td>\n",
       "    </tr>\n",
       "    <tr>\n",
       "      <th>284</th>\n",
       "      <td>C2253</td>\n",
       "      <td>1161</td>\n",
       "      <td>상가</td>\n",
       "      <td>강원도</td>\n",
       "      <td>임대상가</td>\n",
       "      <td>42.40</td>\n",
       "      <td>1</td>\n",
       "      <td>0.0</td>\n",
       "      <td>D</td>\n",
       "      <td>0.0</td>\n",
       "      <td>0.0</td>\n",
       "      <td>0.0</td>\n",
       "      <td>2.0</td>\n",
       "      <td>173.0</td>\n",
       "    </tr>\n",
       "    <tr>\n",
       "      <th>285</th>\n",
       "      <td>C2253</td>\n",
       "      <td>1161</td>\n",
       "      <td>상가</td>\n",
       "      <td>강원도</td>\n",
       "      <td>임대상가</td>\n",
       "      <td>55.17</td>\n",
       "      <td>1</td>\n",
       "      <td>0.0</td>\n",
       "      <td>D</td>\n",
       "      <td>0.0</td>\n",
       "      <td>0.0</td>\n",
       "      <td>0.0</td>\n",
       "      <td>2.0</td>\n",
       "      <td>173.0</td>\n",
       "    </tr>\n",
       "    <tr>\n",
       "      <th>286</th>\n",
       "      <td>C2253</td>\n",
       "      <td>1161</td>\n",
       "      <td>상가</td>\n",
       "      <td>강원도</td>\n",
       "      <td>임대상가</td>\n",
       "      <td>55.50</td>\n",
       "      <td>1</td>\n",
       "      <td>0.0</td>\n",
       "      <td>D</td>\n",
       "      <td>0.0</td>\n",
       "      <td>0.0</td>\n",
       "      <td>0.0</td>\n",
       "      <td>2.0</td>\n",
       "      <td>173.0</td>\n",
       "    </tr>\n",
       "    <tr>\n",
       "      <th>287</th>\n",
       "      <td>C2253</td>\n",
       "      <td>1161</td>\n",
       "      <td>상가</td>\n",
       "      <td>강원도</td>\n",
       "      <td>임대상가</td>\n",
       "      <td>82.92</td>\n",
       "      <td>1</td>\n",
       "      <td>0.0</td>\n",
       "      <td>D</td>\n",
       "      <td>0.0</td>\n",
       "      <td>0.0</td>\n",
       "      <td>0.0</td>\n",
       "      <td>2.0</td>\n",
       "      <td>173.0</td>\n",
       "    </tr>\n",
       "    <tr>\n",
       "      <th>288</th>\n",
       "      <td>C2253</td>\n",
       "      <td>1161</td>\n",
       "      <td>상가</td>\n",
       "      <td>강원도</td>\n",
       "      <td>임대상가</td>\n",
       "      <td>248.56</td>\n",
       "      <td>1</td>\n",
       "      <td>0.0</td>\n",
       "      <td>D</td>\n",
       "      <td>0.0</td>\n",
       "      <td>0.0</td>\n",
       "      <td>0.0</td>\n",
       "      <td>2.0</td>\n",
       "      <td>173.0</td>\n",
       "    </tr>\n",
       "  </tbody>\n",
       "</table>\n",
       "</div>"
      ],
      "text/plain": [
       "      단지코드  총세대수  ... 도보 10분거리 내 버스정류장 수 단지내주차면수\n",
       "258  C2253  1161  ...                2.0   173.0\n",
       "259  C2253  1161  ...                2.0   173.0\n",
       "260  C2253  1161  ...                2.0   173.0\n",
       "261  C2253  1161  ...                2.0   173.0\n",
       "262  C2253  1161  ...                2.0   173.0\n",
       "263  C2253  1161  ...                2.0   173.0\n",
       "264  C2253  1161  ...                2.0   173.0\n",
       "265  C2253  1161  ...                2.0   173.0\n",
       "266  C2253  1161  ...                2.0   173.0\n",
       "267  C2253  1161  ...                2.0   173.0\n",
       "268  C2253  1161  ...                2.0   173.0\n",
       "269  C2253  1161  ...                2.0   173.0\n",
       "270  C2253  1161  ...                2.0   173.0\n",
       "271  C2253  1161  ...                2.0   173.0\n",
       "272  C2253  1161  ...                2.0   173.0\n",
       "273  C2253  1161  ...                2.0   173.0\n",
       "274  C2253  1161  ...                2.0   173.0\n",
       "275  C2253  1161  ...                2.0   173.0\n",
       "276  C2253  1161  ...                2.0   173.0\n",
       "277  C2253  1161  ...                2.0   173.0\n",
       "278  C2253  1161  ...                2.0   173.0\n",
       "279  C2253  1161  ...                2.0   173.0\n",
       "280  C2253  1161  ...                2.0   173.0\n",
       "281  C2253  1161  ...                2.0   173.0\n",
       "282  C2253  1161  ...                2.0   173.0\n",
       "283  C2253  1161  ...                2.0   173.0\n",
       "284  C2253  1161  ...                2.0   173.0\n",
       "285  C2253  1161  ...                2.0   173.0\n",
       "286  C2253  1161  ...                2.0   173.0\n",
       "287  C2253  1161  ...                2.0   173.0\n",
       "288  C2253  1161  ...                2.0   173.0\n",
       "\n",
       "[31 rows x 14 columns]"
      ]
     },
     "execution_count": 22,
     "metadata": {
      "tags": []
     },
     "output_type": "execute_result"
    }
   ],
   "source": [
    "test[test.단지코드=='C2253']"
   ]
  },
  {
   "cell_type": "markdown",
   "metadata": {
    "id": "tfX16aSB8x4_"
   },
   "source": [
    "임대료와 임대보증금이 존재하는 경우 자격유형이 C이므로 NaN값은 C로 한다"
   ]
  },
  {
   "cell_type": "code",
   "execution_count": 23,
   "metadata": {
    "executionInfo": {
     "elapsed": 31,
     "status": "ok",
     "timestamp": 1628478266569,
     "user": {
      "displayName": "정재환",
      "photoUrl": "",
      "userId": "00289451058434735723"
     },
     "user_tz": -540
    },
    "id": "wI_OGFWz8wiq"
   },
   "outputs": [],
   "source": [
    "test.loc[test.단지코드.isin(['C2253']) & test.자격유형.isnull(), '자격유형'] = 'C'"
   ]
  },
  {
   "cell_type": "markdown",
   "metadata": {
    "id": "NKZZXLrT9LaO"
   },
   "source": [
    "#### 1.3. 중복확인"
   ]
  },
  {
   "cell_type": "code",
   "execution_count": 24,
   "metadata": {
    "colab": {
     "base_uri": "https://localhost:8080/"
    },
    "executionInfo": {
     "elapsed": 31,
     "status": "ok",
     "timestamp": 1628478266569,
     "user": {
      "displayName": "정재환",
      "photoUrl": "",
      "userId": "00289451058434735723"
     },
     "user_tz": -540
    },
    "id": "qknZzLHp9KkC",
    "outputId": "1d41be08-e6bb-448f-c404-595883557c86"
   },
   "outputs": [
    {
     "data": {
      "text/plain": [
       "((2952, 15), (2632, 15))"
      ]
     },
     "execution_count": 24,
     "metadata": {
      "tags": []
     },
     "output_type": "execute_result"
    }
   ],
   "source": [
    "train.shape, train.drop_duplicates().shape # 중복존재 확인"
   ]
  },
  {
   "cell_type": "code",
   "execution_count": 25,
   "metadata": {
    "colab": {
     "base_uri": "https://localhost:8080/"
    },
    "executionInfo": {
     "elapsed": 31,
     "status": "ok",
     "timestamp": 1628478266570,
     "user": {
      "displayName": "정재환",
      "photoUrl": "",
      "userId": "00289451058434735723"
     },
     "user_tz": -540
    },
    "id": "K3WKZ8Eh9TRM",
    "outputId": "4547e061-69a1-497b-9434-2094cf5b8081"
   },
   "outputs": [
    {
     "data": {
      "text/plain": [
       "((1022, 14), (949, 14))"
      ]
     },
     "execution_count": 25,
     "metadata": {
      "tags": []
     },
     "output_type": "execute_result"
    }
   ],
   "source": [
    "test.shape, test.drop_duplicates().shape"
   ]
  },
  {
   "cell_type": "markdown",
   "metadata": {
    "id": "7CJwWoUd9ZHu"
   },
   "source": [
    "- 중복 데이터는 제거하고 분석을 진행하는 것이 좋아보인다"
   ]
  },
  {
   "cell_type": "code",
   "execution_count": 26,
   "metadata": {
    "executionInfo": {
     "elapsed": 30,
     "status": "ok",
     "timestamp": 1628478266570,
     "user": {
      "displayName": "정재환",
      "photoUrl": "",
      "userId": "00289451058434735723"
     },
     "user_tz": -540
    },
    "id": "5UDzaFhS9Xv7"
   },
   "outputs": [],
   "source": [
    "train = train.drop_duplicates()\n",
    "test = test.drop_duplicates()"
   ]
  },
  {
   "cell_type": "code",
   "execution_count": 27,
   "metadata": {
    "colab": {
     "base_uri": "https://localhost:8080/",
     "height": 1000
    },
    "executionInfo": {
     "elapsed": 31,
     "status": "ok",
     "timestamp": 1628478266571,
     "user": {
      "displayName": "정재환",
      "photoUrl": "",
      "userId": "00289451058434735723"
     },
     "user_tz": -540
    },
    "id": "NUuS6O0g9ypB",
    "outputId": "858d04d6-bbaa-49b5-dd03-a515e22072b0"
   },
   "outputs": [
    {
     "data": {
      "text/html": [
       "<div>\n",
       "<style scoped>\n",
       "    .dataframe tbody tr th:only-of-type {\n",
       "        vertical-align: middle;\n",
       "    }\n",
       "\n",
       "    .dataframe tbody tr th {\n",
       "        vertical-align: top;\n",
       "    }\n",
       "\n",
       "    .dataframe thead th {\n",
       "        text-align: right;\n",
       "    }\n",
       "</style>\n",
       "<table border=\"1\" class=\"dataframe\">\n",
       "  <thead>\n",
       "    <tr style=\"text-align: right;\">\n",
       "      <th></th>\n",
       "      <th>단지코드</th>\n",
       "      <th>총세대수</th>\n",
       "      <th>임대건물구분</th>\n",
       "      <th>지역</th>\n",
       "      <th>공급유형</th>\n",
       "      <th>전용면적</th>\n",
       "      <th>전용면적별세대수</th>\n",
       "      <th>공가수</th>\n",
       "      <th>자격유형</th>\n",
       "      <th>임대보증금</th>\n",
       "      <th>임대료</th>\n",
       "      <th>도보 10분거리 내 지하철역 수(환승노선 수 반영)</th>\n",
       "      <th>도보 10분거리 내 버스정류장 수</th>\n",
       "      <th>단지내주차면수</th>\n",
       "      <th>등록차량수</th>\n",
       "    </tr>\n",
       "  </thead>\n",
       "  <tbody>\n",
       "    <tr>\n",
       "      <th>0</th>\n",
       "      <td>C2483</td>\n",
       "      <td>900</td>\n",
       "      <td>아파트</td>\n",
       "      <td>경상북도</td>\n",
       "      <td>국민임대</td>\n",
       "      <td>39.72</td>\n",
       "      <td>134</td>\n",
       "      <td>38.0</td>\n",
       "      <td>A</td>\n",
       "      <td>15667000.0</td>\n",
       "      <td>103680.0</td>\n",
       "      <td>0.0</td>\n",
       "      <td>3.0</td>\n",
       "      <td>1425.0</td>\n",
       "      <td>1015.0</td>\n",
       "    </tr>\n",
       "    <tr>\n",
       "      <th>1</th>\n",
       "      <td>C2483</td>\n",
       "      <td>900</td>\n",
       "      <td>아파트</td>\n",
       "      <td>경상북도</td>\n",
       "      <td>국민임대</td>\n",
       "      <td>39.72</td>\n",
       "      <td>15</td>\n",
       "      <td>38.0</td>\n",
       "      <td>A</td>\n",
       "      <td>15667000.0</td>\n",
       "      <td>103680.0</td>\n",
       "      <td>0.0</td>\n",
       "      <td>3.0</td>\n",
       "      <td>1425.0</td>\n",
       "      <td>1015.0</td>\n",
       "    </tr>\n",
       "    <tr>\n",
       "      <th>2</th>\n",
       "      <td>C2483</td>\n",
       "      <td>900</td>\n",
       "      <td>아파트</td>\n",
       "      <td>경상북도</td>\n",
       "      <td>국민임대</td>\n",
       "      <td>51.93</td>\n",
       "      <td>385</td>\n",
       "      <td>38.0</td>\n",
       "      <td>A</td>\n",
       "      <td>27304000.0</td>\n",
       "      <td>184330.0</td>\n",
       "      <td>0.0</td>\n",
       "      <td>3.0</td>\n",
       "      <td>1425.0</td>\n",
       "      <td>1015.0</td>\n",
       "    </tr>\n",
       "    <tr>\n",
       "      <th>3</th>\n",
       "      <td>C2483</td>\n",
       "      <td>900</td>\n",
       "      <td>아파트</td>\n",
       "      <td>경상북도</td>\n",
       "      <td>국민임대</td>\n",
       "      <td>51.93</td>\n",
       "      <td>15</td>\n",
       "      <td>38.0</td>\n",
       "      <td>A</td>\n",
       "      <td>27304000.0</td>\n",
       "      <td>184330.0</td>\n",
       "      <td>0.0</td>\n",
       "      <td>3.0</td>\n",
       "      <td>1425.0</td>\n",
       "      <td>1015.0</td>\n",
       "    </tr>\n",
       "    <tr>\n",
       "      <th>4</th>\n",
       "      <td>C2483</td>\n",
       "      <td>900</td>\n",
       "      <td>아파트</td>\n",
       "      <td>경상북도</td>\n",
       "      <td>국민임대</td>\n",
       "      <td>51.93</td>\n",
       "      <td>41</td>\n",
       "      <td>38.0</td>\n",
       "      <td>A</td>\n",
       "      <td>27304000.0</td>\n",
       "      <td>184330.0</td>\n",
       "      <td>0.0</td>\n",
       "      <td>3.0</td>\n",
       "      <td>1425.0</td>\n",
       "      <td>1015.0</td>\n",
       "    </tr>\n",
       "    <tr>\n",
       "      <th>5</th>\n",
       "      <td>C2483</td>\n",
       "      <td>900</td>\n",
       "      <td>아파트</td>\n",
       "      <td>경상북도</td>\n",
       "      <td>국민임대</td>\n",
       "      <td>51.95</td>\n",
       "      <td>89</td>\n",
       "      <td>38.0</td>\n",
       "      <td>A</td>\n",
       "      <td>27304000.0</td>\n",
       "      <td>184330.0</td>\n",
       "      <td>0.0</td>\n",
       "      <td>3.0</td>\n",
       "      <td>1425.0</td>\n",
       "      <td>1015.0</td>\n",
       "    </tr>\n",
       "    <tr>\n",
       "      <th>6</th>\n",
       "      <td>C2483</td>\n",
       "      <td>900</td>\n",
       "      <td>아파트</td>\n",
       "      <td>경상북도</td>\n",
       "      <td>국민임대</td>\n",
       "      <td>51.95</td>\n",
       "      <td>135</td>\n",
       "      <td>38.0</td>\n",
       "      <td>A</td>\n",
       "      <td>27304000.0</td>\n",
       "      <td>184330.0</td>\n",
       "      <td>0.0</td>\n",
       "      <td>3.0</td>\n",
       "      <td>1425.0</td>\n",
       "      <td>1015.0</td>\n",
       "    </tr>\n",
       "    <tr>\n",
       "      <th>7</th>\n",
       "      <td>C2483</td>\n",
       "      <td>900</td>\n",
       "      <td>아파트</td>\n",
       "      <td>경상북도</td>\n",
       "      <td>국민임대</td>\n",
       "      <td>59.88</td>\n",
       "      <td>86</td>\n",
       "      <td>38.0</td>\n",
       "      <td>A</td>\n",
       "      <td>30357000.0</td>\n",
       "      <td>214270.0</td>\n",
       "      <td>0.0</td>\n",
       "      <td>3.0</td>\n",
       "      <td>1425.0</td>\n",
       "      <td>1015.0</td>\n",
       "    </tr>\n",
       "  </tbody>\n",
       "</table>\n",
       "</div>"
      ],
      "text/plain": [
       "    단지코드  총세대수 임대건물구분  ... 도보 10분거리 내 버스정류장 수 단지내주차면수   등록차량수\n",
       "0  C2483   900    아파트  ...                3.0  1425.0  1015.0\n",
       "1  C2483   900    아파트  ...                3.0  1425.0  1015.0\n",
       "2  C2483   900    아파트  ...                3.0  1425.0  1015.0\n",
       "3  C2483   900    아파트  ...                3.0  1425.0  1015.0\n",
       "4  C2483   900    아파트  ...                3.0  1425.0  1015.0\n",
       "5  C2483   900    아파트  ...                3.0  1425.0  1015.0\n",
       "6  C2483   900    아파트  ...                3.0  1425.0  1015.0\n",
       "7  C2483   900    아파트  ...                3.0  1425.0  1015.0\n",
       "\n",
       "[8 rows x 15 columns]"
      ]
     },
     "execution_count": 27,
     "metadata": {
      "tags": []
     },
     "output_type": "execute_result"
    }
   ],
   "source": [
    "train[train.단지코드=='C2483']"
   ]
  },
  {
   "cell_type": "code",
   "execution_count": 28,
   "metadata": {
    "colab": {
     "base_uri": "https://localhost:8080/"
    },
    "executionInfo": {
     "elapsed": 30,
     "status": "ok",
     "timestamp": 1628478266571,
     "user": {
      "displayName": "정재환",
      "photoUrl": "",
      "userId": "00289451058434735723"
     },
     "user_tz": -540
    },
    "id": "dbTbA7c1923c",
    "outputId": "97c92e74-50b0-4455-d928-c9289cf30cd9"
   },
   "outputs": [
    {
     "name": "stdout",
     "output_type": "stream",
     "text": [
      "단지코드 C2483에서 유일한 값을 가지는 변수들:\n",
      "['단지코드', '총세대수', '임대건물구분', '지역', '공급유형', '공가수', '자격유형', '도보 10분거리 내 지하철역 수(환승노선 수 반영)', '도보 10분거리 내 버스정류장 수', '단지내주차면수', '등록차량수']\n"
     ]
    }
   ],
   "source": [
    "print(f\"단지코드 C2483에서 유일한 값을 가지는 변수들:\\n{list(train.columns[train[train.단지코드=='C2483'].nunique()==1])}\")"
   ]
  },
  {
   "cell_type": "code",
   "execution_count": 29,
   "metadata": {
    "colab": {
     "base_uri": "https://localhost:8080/",
     "height": 565
    },
    "executionInfo": {
     "elapsed": 29,
     "status": "ok",
     "timestamp": 1628478266571,
     "user": {
      "displayName": "정재환",
      "photoUrl": "",
      "userId": "00289451058434735723"
     },
     "user_tz": -540
    },
    "id": "m5WthKNj-nGm",
    "outputId": "55cb9ede-1c17-4582-911d-aae96d0fa5b8"
   },
   "outputs": [
    {
     "data": {
      "text/html": [
       "<div>\n",
       "<style scoped>\n",
       "    .dataframe tbody tr th:only-of-type {\n",
       "        vertical-align: middle;\n",
       "    }\n",
       "\n",
       "    .dataframe tbody tr th {\n",
       "        vertical-align: top;\n",
       "    }\n",
       "\n",
       "    .dataframe thead th {\n",
       "        text-align: right;\n",
       "    }\n",
       "</style>\n",
       "<table border=\"1\" class=\"dataframe\">\n",
       "  <thead>\n",
       "    <tr style=\"text-align: right;\">\n",
       "      <th></th>\n",
       "      <th>총세대수</th>\n",
       "      <th>임대건물구분</th>\n",
       "      <th>지역</th>\n",
       "      <th>공급유형</th>\n",
       "      <th>전용면적</th>\n",
       "      <th>전용면적별세대수</th>\n",
       "      <th>공가수</th>\n",
       "      <th>자격유형</th>\n",
       "      <th>임대보증금</th>\n",
       "      <th>임대료</th>\n",
       "      <th>도보 10분거리 내 지하철역 수(환승노선 수 반영)</th>\n",
       "      <th>도보 10분거리 내 버스정류장 수</th>\n",
       "      <th>단지내주차면수</th>\n",
       "      <th>등록차량수</th>\n",
       "    </tr>\n",
       "    <tr>\n",
       "      <th>단지코드</th>\n",
       "      <th></th>\n",
       "      <th></th>\n",
       "      <th></th>\n",
       "      <th></th>\n",
       "      <th></th>\n",
       "      <th></th>\n",
       "      <th></th>\n",
       "      <th></th>\n",
       "      <th></th>\n",
       "      <th></th>\n",
       "      <th></th>\n",
       "      <th></th>\n",
       "      <th></th>\n",
       "      <th></th>\n",
       "    </tr>\n",
       "  </thead>\n",
       "  <tbody>\n",
       "    <tr>\n",
       "      <th>C1000</th>\n",
       "      <td>1</td>\n",
       "      <td>1</td>\n",
       "      <td>1</td>\n",
       "      <td>1</td>\n",
       "      <td>5</td>\n",
       "      <td>6</td>\n",
       "      <td>1</td>\n",
       "      <td>1</td>\n",
       "      <td>3</td>\n",
       "      <td>3</td>\n",
       "      <td>1</td>\n",
       "      <td>1</td>\n",
       "      <td>1</td>\n",
       "      <td>1</td>\n",
       "    </tr>\n",
       "    <tr>\n",
       "      <th>C1004</th>\n",
       "      <td>1</td>\n",
       "      <td>2</td>\n",
       "      <td>1</td>\n",
       "      <td>2</td>\n",
       "      <td>15</td>\n",
       "      <td>3</td>\n",
       "      <td>1</td>\n",
       "      <td>2</td>\n",
       "      <td>3</td>\n",
       "      <td>3</td>\n",
       "      <td>1</td>\n",
       "      <td>1</td>\n",
       "      <td>1</td>\n",
       "      <td>1</td>\n",
       "    </tr>\n",
       "    <tr>\n",
       "      <th>C1005</th>\n",
       "      <td>1</td>\n",
       "      <td>1</td>\n",
       "      <td>1</td>\n",
       "      <td>1</td>\n",
       "      <td>3</td>\n",
       "      <td>3</td>\n",
       "      <td>1</td>\n",
       "      <td>1</td>\n",
       "      <td>3</td>\n",
       "      <td>3</td>\n",
       "      <td>1</td>\n",
       "      <td>1</td>\n",
       "      <td>1</td>\n",
       "      <td>1</td>\n",
       "    </tr>\n",
       "    <tr>\n",
       "      <th>C1013</th>\n",
       "      <td>1</td>\n",
       "      <td>1</td>\n",
       "      <td>1</td>\n",
       "      <td>1</td>\n",
       "      <td>4</td>\n",
       "      <td>5</td>\n",
       "      <td>1</td>\n",
       "      <td>1</td>\n",
       "      <td>3</td>\n",
       "      <td>3</td>\n",
       "      <td>1</td>\n",
       "      <td>1</td>\n",
       "      <td>1</td>\n",
       "      <td>1</td>\n",
       "    </tr>\n",
       "    <tr>\n",
       "      <th>C1014</th>\n",
       "      <td>1</td>\n",
       "      <td>1</td>\n",
       "      <td>1</td>\n",
       "      <td>1</td>\n",
       "      <td>6</td>\n",
       "      <td>7</td>\n",
       "      <td>1</td>\n",
       "      <td>1</td>\n",
       "      <td>4</td>\n",
       "      <td>4</td>\n",
       "      <td>1</td>\n",
       "      <td>1</td>\n",
       "      <td>1</td>\n",
       "      <td>1</td>\n",
       "    </tr>\n",
       "    <tr>\n",
       "      <th>...</th>\n",
       "      <td>...</td>\n",
       "      <td>...</td>\n",
       "      <td>...</td>\n",
       "      <td>...</td>\n",
       "      <td>...</td>\n",
       "      <td>...</td>\n",
       "      <td>...</td>\n",
       "      <td>...</td>\n",
       "      <td>...</td>\n",
       "      <td>...</td>\n",
       "      <td>...</td>\n",
       "      <td>...</td>\n",
       "      <td>...</td>\n",
       "      <td>...</td>\n",
       "    </tr>\n",
       "    <tr>\n",
       "      <th>C2663</th>\n",
       "      <td>1</td>\n",
       "      <td>1</td>\n",
       "      <td>1</td>\n",
       "      <td>1</td>\n",
       "      <td>5</td>\n",
       "      <td>6</td>\n",
       "      <td>1</td>\n",
       "      <td>1</td>\n",
       "      <td>4</td>\n",
       "      <td>4</td>\n",
       "      <td>1</td>\n",
       "      <td>1</td>\n",
       "      <td>1</td>\n",
       "      <td>1</td>\n",
       "    </tr>\n",
       "    <tr>\n",
       "      <th>C2666</th>\n",
       "      <td>1</td>\n",
       "      <td>1</td>\n",
       "      <td>1</td>\n",
       "      <td>1</td>\n",
       "      <td>4</td>\n",
       "      <td>6</td>\n",
       "      <td>1</td>\n",
       "      <td>1</td>\n",
       "      <td>2</td>\n",
       "      <td>2</td>\n",
       "      <td>1</td>\n",
       "      <td>1</td>\n",
       "      <td>1</td>\n",
       "      <td>1</td>\n",
       "    </tr>\n",
       "    <tr>\n",
       "      <th>C2670</th>\n",
       "      <td>1</td>\n",
       "      <td>1</td>\n",
       "      <td>1</td>\n",
       "      <td>1</td>\n",
       "      <td>4</td>\n",
       "      <td>3</td>\n",
       "      <td>1</td>\n",
       "      <td>1</td>\n",
       "      <td>3</td>\n",
       "      <td>3</td>\n",
       "      <td>1</td>\n",
       "      <td>1</td>\n",
       "      <td>1</td>\n",
       "      <td>1</td>\n",
       "    </tr>\n",
       "    <tr>\n",
       "      <th>C2680</th>\n",
       "      <td>1</td>\n",
       "      <td>1</td>\n",
       "      <td>1</td>\n",
       "      <td>1</td>\n",
       "      <td>2</td>\n",
       "      <td>3</td>\n",
       "      <td>1</td>\n",
       "      <td>1</td>\n",
       "      <td>2</td>\n",
       "      <td>2</td>\n",
       "      <td>1</td>\n",
       "      <td>1</td>\n",
       "      <td>1</td>\n",
       "      <td>1</td>\n",
       "    </tr>\n",
       "    <tr>\n",
       "      <th>C2692</th>\n",
       "      <td>1</td>\n",
       "      <td>1</td>\n",
       "      <td>1</td>\n",
       "      <td>1</td>\n",
       "      <td>3</td>\n",
       "      <td>4</td>\n",
       "      <td>1</td>\n",
       "      <td>1</td>\n",
       "      <td>3</td>\n",
       "      <td>3</td>\n",
       "      <td>1</td>\n",
       "      <td>1</td>\n",
       "      <td>1</td>\n",
       "      <td>1</td>\n",
       "    </tr>\n",
       "  </tbody>\n",
       "</table>\n",
       "<p>423 rows × 14 columns</p>\n",
       "</div>"
      ],
      "text/plain": [
       "       총세대수  임대건물구분  지역  ...  도보 10분거리 내 버스정류장 수  단지내주차면수  등록차량수\n",
       "단지코드                     ...                                    \n",
       "C1000     1       1   1  ...                   1        1      1\n",
       "C1004     1       2   1  ...                   1        1      1\n",
       "C1005     1       1   1  ...                   1        1      1\n",
       "C1013     1       1   1  ...                   1        1      1\n",
       "C1014     1       1   1  ...                   1        1      1\n",
       "...     ...     ...  ..  ...                 ...      ...    ...\n",
       "C2663     1       1   1  ...                   1        1      1\n",
       "C2666     1       1   1  ...                   1        1      1\n",
       "C2670     1       1   1  ...                   1        1      1\n",
       "C2680     1       1   1  ...                   1        1      1\n",
       "C2692     1       1   1  ...                   1        1      1\n",
       "\n",
       "[423 rows x 14 columns]"
      ]
     },
     "execution_count": 29,
     "metadata": {
      "tags": []
     },
     "output_type": "execute_result"
    }
   ],
   "source": [
    "train.groupby(['단지코드']).nunique(dropna=False)"
   ]
  },
  {
   "cell_type": "code",
   "execution_count": 30,
   "metadata": {
    "colab": {
     "base_uri": "https://localhost:8080/"
    },
    "executionInfo": {
     "elapsed": 29,
     "status": "ok",
     "timestamp": 1628478266572,
     "user": {
      "displayName": "정재환",
      "photoUrl": "",
      "userId": "00289451058434735723"
     },
     "user_tz": -540
    },
    "id": "LvZ5phBH_caA",
    "outputId": "6cd75209-ef52-4d81-8c57-0b5e7803b331"
   },
   "outputs": [
    {
     "data": {
      "text/plain": [
       "총세대수                             423\n",
       "임대건물구분                           456\n",
       "지역                               423\n",
       "공급유형                             488\n",
       "전용면적                            1898\n",
       "전용면적별세대수                        2230\n",
       "공가수                              423\n",
       "자격유형                             510\n",
       "임대보증금                           1277\n",
       "임대료                             1289\n",
       "도보 10분거리 내 지하철역 수(환승노선 수 반영)     423\n",
       "도보 10분거리 내 버스정류장 수               423\n",
       "단지내주차면수                          423\n",
       "등록차량수                            423\n",
       "dtype: int64"
      ]
     },
     "execution_count": 30,
     "metadata": {
      "tags": []
     },
     "output_type": "execute_result"
    }
   ],
   "source": [
    "train.groupby(['단지코드']).nunique(dropna=False).sum(axis=0)"
   ]
  },
  {
   "cell_type": "markdown",
   "metadata": {
    "id": "jVrSQF8Z_kll"
   },
   "source": [
    "- 위의 값을 보아 값이 423이 넘는 경우 하나의 단지코드에 둘 이상의 항목이 존재한다는 것을 보여준다\n",
    "- 임대건물구분, 공급유형, 전용면적, 전용면적별세대수, 자격유형, 임대보증금, 임대료는 하나의 단지코드에 둘 이상의 항목이 존재함을 보여준다.\n",
    "- 단지코드별 집계시 총세대수, 지역, 공가수, 도보 10분거리 내지하철역 수(환긍노선 수 반영), 도보 10분거리 내 버스정류장 수, 단지내주차면수, 등록차량수는 그대로 사용하고, 나머지 변수들은 각 항목들을 변수로 만들어 사용하는 것이 좋아보인다."
   ]
  },
  {
   "cell_type": "markdown",
   "metadata": {
    "id": "5Grsz51GE7-5"
   },
   "source": [
    "### 1.4 단지코드 별 집계\n",
    "\n",
    "#### (1) 하나의 단지코드에 하나의 값만 존재하는 변수들\n",
    "- 총세대수, 지역, 공가수, 도보 10분거리 내 지하철역 수(환승노선 수 반영), 도보 10분거리 내 버스정류장 수, 단지내주차면수, 등록차량수"
   ]
  },
  {
   "cell_type": "code",
   "execution_count": 31,
   "metadata": {
    "executionInfo": {
     "elapsed": 28,
     "status": "ok",
     "timestamp": 1628478266572,
     "user": {
      "displayName": "정재환",
      "photoUrl": "",
      "userId": "00289451058434735723"
     },
     "user_tz": -540
    },
    "id": "IRa6y_Fe_jjh"
   },
   "outputs": [],
   "source": [
    "unique_cols = ['총세대수','지역', '공가수',\n",
    "               '도보 10분거리 내 지하철역 수(환승노선 수 반영)',\n",
    "               '도보 10분거리 내 버스정류장 수',\n",
    "               '단지내주차면수', '등록차량수']\n",
    "train_agg = train.set_index('단지코드')[unique_cols].drop_duplicates()\n",
    "test_agg = test.set_index('단지코드')[[col for col in unique_cols if col !='등록차량수']].drop_duplicates()"
   ]
  },
  {
   "cell_type": "code",
   "execution_count": 32,
   "metadata": {
    "colab": {
     "base_uri": "https://localhost:8080/",
     "height": 632
    },
    "executionInfo": {
     "elapsed": 29,
     "status": "ok",
     "timestamp": 1628478266573,
     "user": {
      "displayName": "정재환",
      "photoUrl": "",
      "userId": "00289451058434735723"
     },
     "user_tz": -540
    },
    "id": "bGj6GLWfGL3-",
    "outputId": "8fc575c4-f582-4d3c-bffb-a707d6f0431c"
   },
   "outputs": [
    {
     "data": {
      "text/html": [
       "<div>\n",
       "<style scoped>\n",
       "    .dataframe tbody tr th:only-of-type {\n",
       "        vertical-align: middle;\n",
       "    }\n",
       "\n",
       "    .dataframe tbody tr th {\n",
       "        vertical-align: top;\n",
       "    }\n",
       "\n",
       "    .dataframe thead th {\n",
       "        text-align: right;\n",
       "    }\n",
       "</style>\n",
       "<table border=\"1\" class=\"dataframe\">\n",
       "  <thead>\n",
       "    <tr style=\"text-align: right;\">\n",
       "      <th></th>\n",
       "      <th>총세대수</th>\n",
       "      <th>지역</th>\n",
       "      <th>공가수</th>\n",
       "      <th>도보 10분거리 내 지하철역 수(환승노선 수 반영)</th>\n",
       "      <th>도보 10분거리 내 버스정류장 수</th>\n",
       "      <th>단지내주차면수</th>\n",
       "      <th>등록차량수</th>\n",
       "    </tr>\n",
       "    <tr>\n",
       "      <th>단지코드</th>\n",
       "      <th></th>\n",
       "      <th></th>\n",
       "      <th></th>\n",
       "      <th></th>\n",
       "      <th></th>\n",
       "      <th></th>\n",
       "      <th></th>\n",
       "    </tr>\n",
       "  </thead>\n",
       "  <tbody>\n",
       "    <tr>\n",
       "      <th>C2483</th>\n",
       "      <td>900</td>\n",
       "      <td>경상북도</td>\n",
       "      <td>38.0</td>\n",
       "      <td>0.0</td>\n",
       "      <td>3.0</td>\n",
       "      <td>1425.0</td>\n",
       "      <td>1015.0</td>\n",
       "    </tr>\n",
       "    <tr>\n",
       "      <th>C2515</th>\n",
       "      <td>545</td>\n",
       "      <td>경상남도</td>\n",
       "      <td>17.0</td>\n",
       "      <td>0.0</td>\n",
       "      <td>3.0</td>\n",
       "      <td>624.0</td>\n",
       "      <td>205.0</td>\n",
       "    </tr>\n",
       "    <tr>\n",
       "      <th>C1407</th>\n",
       "      <td>1216</td>\n",
       "      <td>대전광역시</td>\n",
       "      <td>13.0</td>\n",
       "      <td>1.0</td>\n",
       "      <td>1.0</td>\n",
       "      <td>1285.0</td>\n",
       "      <td>1064.0</td>\n",
       "    </tr>\n",
       "    <tr>\n",
       "      <th>C1945</th>\n",
       "      <td>755</td>\n",
       "      <td>경기도</td>\n",
       "      <td>6.0</td>\n",
       "      <td>1.0</td>\n",
       "      <td>3.0</td>\n",
       "      <td>734.0</td>\n",
       "      <td>730.0</td>\n",
       "    </tr>\n",
       "    <tr>\n",
       "      <th>C1470</th>\n",
       "      <td>696</td>\n",
       "      <td>전라북도</td>\n",
       "      <td>14.0</td>\n",
       "      <td>0.0</td>\n",
       "      <td>2.0</td>\n",
       "      <td>645.0</td>\n",
       "      <td>553.0</td>\n",
       "    </tr>\n",
       "    <tr>\n",
       "      <th>...</th>\n",
       "      <td>...</td>\n",
       "      <td>...</td>\n",
       "      <td>...</td>\n",
       "      <td>...</td>\n",
       "      <td>...</td>\n",
       "      <td>...</td>\n",
       "      <td>...</td>\n",
       "    </tr>\n",
       "    <tr>\n",
       "      <th>C2586</th>\n",
       "      <td>90</td>\n",
       "      <td>제주특별자치도</td>\n",
       "      <td>7.0</td>\n",
       "      <td>0.0</td>\n",
       "      <td>3.0</td>\n",
       "      <td>66.0</td>\n",
       "      <td>57.0</td>\n",
       "    </tr>\n",
       "    <tr>\n",
       "      <th>C2035</th>\n",
       "      <td>492</td>\n",
       "      <td>강원도</td>\n",
       "      <td>24.0</td>\n",
       "      <td>0.0</td>\n",
       "      <td>1.0</td>\n",
       "      <td>521.0</td>\n",
       "      <td>246.0</td>\n",
       "    </tr>\n",
       "    <tr>\n",
       "      <th>C2020</th>\n",
       "      <td>40</td>\n",
       "      <td>부산광역시</td>\n",
       "      <td>7.0</td>\n",
       "      <td>1.0</td>\n",
       "      <td>2.0</td>\n",
       "      <td>25.0</td>\n",
       "      <td>19.0</td>\n",
       "    </tr>\n",
       "    <tr>\n",
       "      <th>C2437</th>\n",
       "      <td>90</td>\n",
       "      <td>충청북도</td>\n",
       "      <td>12.0</td>\n",
       "      <td>0.0</td>\n",
       "      <td>1.0</td>\n",
       "      <td>30.0</td>\n",
       "      <td>16.0</td>\n",
       "    </tr>\n",
       "    <tr>\n",
       "      <th>C2532</th>\n",
       "      <td>239</td>\n",
       "      <td>강원도</td>\n",
       "      <td>7.0</td>\n",
       "      <td>0.0</td>\n",
       "      <td>1.0</td>\n",
       "      <td>166.0</td>\n",
       "      <td>146.0</td>\n",
       "    </tr>\n",
       "  </tbody>\n",
       "</table>\n",
       "<p>423 rows × 7 columns</p>\n",
       "</div>"
      ],
      "text/plain": [
       "       총세대수       지역   공가수  ...  도보 10분거리 내 버스정류장 수  단지내주차면수   등록차량수\n",
       "단지코드                        ...                                     \n",
       "C2483   900     경상북도  38.0  ...                 3.0   1425.0  1015.0\n",
       "C2515   545     경상남도  17.0  ...                 3.0    624.0   205.0\n",
       "C1407  1216    대전광역시  13.0  ...                 1.0   1285.0  1064.0\n",
       "C1945   755      경기도   6.0  ...                 3.0    734.0   730.0\n",
       "C1470   696     전라북도  14.0  ...                 2.0    645.0   553.0\n",
       "...     ...      ...   ...  ...                 ...      ...     ...\n",
       "C2586    90  제주특별자치도   7.0  ...                 3.0     66.0    57.0\n",
       "C2035   492      강원도  24.0  ...                 1.0    521.0   246.0\n",
       "C2020    40    부산광역시   7.0  ...                 2.0     25.0    19.0\n",
       "C2437    90     충청북도  12.0  ...                 1.0     30.0    16.0\n",
       "C2532   239      강원도   7.0  ...                 1.0    166.0   146.0\n",
       "\n",
       "[423 rows x 7 columns]"
      ]
     },
     "execution_count": 32,
     "metadata": {
      "tags": []
     },
     "output_type": "execute_result"
    }
   ],
   "source": [
    "train_agg"
   ]
  },
  {
   "cell_type": "code",
   "execution_count": 33,
   "metadata": {
    "colab": {
     "base_uri": "https://localhost:8080/",
     "height": 598
    },
    "executionInfo": {
     "elapsed": 679,
     "status": "ok",
     "timestamp": 1628478267224,
     "user": {
      "displayName": "정재환",
      "photoUrl": "",
      "userId": "00289451058434735723"
     },
     "user_tz": -540
    },
    "id": "OnDnaGIzGXVt",
    "outputId": "4e99d230-26b8-4e3c-9713-3279abfaf6ce"
   },
   "outputs": [
    {
     "data": {
      "text/html": [
       "<div>\n",
       "<style scoped>\n",
       "    .dataframe tbody tr th:only-of-type {\n",
       "        vertical-align: middle;\n",
       "    }\n",
       "\n",
       "    .dataframe tbody tr th {\n",
       "        vertical-align: top;\n",
       "    }\n",
       "\n",
       "    .dataframe thead th {\n",
       "        text-align: right;\n",
       "    }\n",
       "</style>\n",
       "<table border=\"1\" class=\"dataframe\">\n",
       "  <thead>\n",
       "    <tr style=\"text-align: right;\">\n",
       "      <th></th>\n",
       "      <th>총세대수</th>\n",
       "      <th>지역</th>\n",
       "      <th>공가수</th>\n",
       "      <th>도보 10분거리 내 지하철역 수(환승노선 수 반영)</th>\n",
       "      <th>도보 10분거리 내 버스정류장 수</th>\n",
       "      <th>단지내주차면수</th>\n",
       "    </tr>\n",
       "    <tr>\n",
       "      <th>단지코드</th>\n",
       "      <th></th>\n",
       "      <th></th>\n",
       "      <th></th>\n",
       "      <th></th>\n",
       "      <th></th>\n",
       "      <th></th>\n",
       "    </tr>\n",
       "  </thead>\n",
       "  <tbody>\n",
       "    <tr>\n",
       "      <th>C1072</th>\n",
       "      <td>754</td>\n",
       "      <td>경기도</td>\n",
       "      <td>14.0</td>\n",
       "      <td>0.0</td>\n",
       "      <td>2.0</td>\n",
       "      <td>683.0</td>\n",
       "    </tr>\n",
       "    <tr>\n",
       "      <th>C1128</th>\n",
       "      <td>1354</td>\n",
       "      <td>경기도</td>\n",
       "      <td>9.0</td>\n",
       "      <td>0.0</td>\n",
       "      <td>3.0</td>\n",
       "      <td>1216.0</td>\n",
       "    </tr>\n",
       "    <tr>\n",
       "      <th>C1456</th>\n",
       "      <td>619</td>\n",
       "      <td>부산광역시</td>\n",
       "      <td>18.0</td>\n",
       "      <td>0.0</td>\n",
       "      <td>16.0</td>\n",
       "      <td>547.0</td>\n",
       "    </tr>\n",
       "    <tr>\n",
       "      <th>C1840</th>\n",
       "      <td>593</td>\n",
       "      <td>전라북도</td>\n",
       "      <td>7.0</td>\n",
       "      <td>0.0</td>\n",
       "      <td>3.0</td>\n",
       "      <td>543.0</td>\n",
       "    </tr>\n",
       "    <tr>\n",
       "      <th>C1332</th>\n",
       "      <td>1297</td>\n",
       "      <td>경기도</td>\n",
       "      <td>11.0</td>\n",
       "      <td>0.0</td>\n",
       "      <td>2.0</td>\n",
       "      <td>1112.0</td>\n",
       "    </tr>\n",
       "    <tr>\n",
       "      <th>...</th>\n",
       "      <td>...</td>\n",
       "      <td>...</td>\n",
       "      <td>...</td>\n",
       "      <td>...</td>\n",
       "      <td>...</td>\n",
       "      <td>...</td>\n",
       "    </tr>\n",
       "    <tr>\n",
       "      <th>C2456</th>\n",
       "      <td>349</td>\n",
       "      <td>제주특별자치도</td>\n",
       "      <td>17.0</td>\n",
       "      <td>0.0</td>\n",
       "      <td>4.0</td>\n",
       "      <td>270.0</td>\n",
       "    </tr>\n",
       "    <tr>\n",
       "      <th>C1266</th>\n",
       "      <td>596</td>\n",
       "      <td>충청북도</td>\n",
       "      <td>35.0</td>\n",
       "      <td>0.0</td>\n",
       "      <td>1.0</td>\n",
       "      <td>593.0</td>\n",
       "    </tr>\n",
       "    <tr>\n",
       "      <th>C2152</th>\n",
       "      <td>120</td>\n",
       "      <td>강원도</td>\n",
       "      <td>9.0</td>\n",
       "      <td>0.0</td>\n",
       "      <td>1.0</td>\n",
       "      <td>40.0</td>\n",
       "    </tr>\n",
       "    <tr>\n",
       "      <th>C1267</th>\n",
       "      <td>675</td>\n",
       "      <td>경상남도</td>\n",
       "      <td>38.0</td>\n",
       "      <td>0.0</td>\n",
       "      <td>1.0</td>\n",
       "      <td>467.0</td>\n",
       "    </tr>\n",
       "    <tr>\n",
       "      <th>C2189</th>\n",
       "      <td>382</td>\n",
       "      <td>전라북도</td>\n",
       "      <td>45.0</td>\n",
       "      <td>0.0</td>\n",
       "      <td>2.0</td>\n",
       "      <td>300.0</td>\n",
       "    </tr>\n",
       "  </tbody>\n",
       "</table>\n",
       "<p>150 rows × 6 columns</p>\n",
       "</div>"
      ],
      "text/plain": [
       "       총세대수       지역  ...  도보 10분거리 내 버스정류장 수  단지내주차면수\n",
       "단지코드                  ...                             \n",
       "C1072   754      경기도  ...                 2.0    683.0\n",
       "C1128  1354      경기도  ...                 3.0   1216.0\n",
       "C1456   619    부산광역시  ...                16.0    547.0\n",
       "C1840   593     전라북도  ...                 3.0    543.0\n",
       "C1332  1297      경기도  ...                 2.0   1112.0\n",
       "...     ...      ...  ...                 ...      ...\n",
       "C2456   349  제주특별자치도  ...                 4.0    270.0\n",
       "C1266   596     충청북도  ...                 1.0    593.0\n",
       "C2152   120      강원도  ...                 1.0     40.0\n",
       "C1267   675     경상남도  ...                 1.0    467.0\n",
       "C2189   382     전라북도  ...                 2.0    300.0\n",
       "\n",
       "[150 rows x 6 columns]"
      ]
     },
     "execution_count": 33,
     "metadata": {
      "tags": []
     },
     "output_type": "execute_result"
    }
   ],
   "source": [
    "test_agg"
   ]
  },
  {
   "cell_type": "markdown",
   "metadata": {
    "id": "ei8esOj_GhpD"
   },
   "source": [
    "#### (2) 하나의 단지코드에 둘 이상의 값이 존재하는 변수들\n",
    "- 임대건물구분, 공급유형, 전용면적, 전용면적별세대수, 자격유형, 임대보증금, 임대료"
   ]
  },
  {
   "cell_type": "code",
   "execution_count": 34,
   "metadata": {
    "executionInfo": {
     "elapsed": 42,
     "status": "ok",
     "timestamp": 1628478267242,
     "user": {
      "displayName": "정재환",
      "photoUrl": "",
      "userId": "00289451058434735723"
     },
     "user_tz": -540
    },
    "id": "owWvRB5PGdvg"
   },
   "outputs": [],
   "source": [
    "def reshape_cat_features(data, cast_col, value_col):\n",
    "    res = data.drop_duplicates(['단지코드', cast_col]).assign(counter=1).pivot(index='단지코드', columns=cast_col, values=value_col).fillna(0)\n",
    "    res.columns.name = None\n",
    "    res = res.rename(columns={col:cast_col+'_'+col for col in res.columns})\n",
    "    return res"
   ]
  },
  {
   "cell_type": "markdown",
   "metadata": {
    "id": "nVRfQVlZHrlU"
   },
   "source": [
    "#### 1) 임대건물구분: 아파트/상가\n",
    "- 주상복합인 경우 주차수요가 주거인경우보다 많지 ㅇ낳을까? ==> 상가 직원들도 차량 등록이 가능다면 상가 당 주차수요는 일반 가구보다 높을 수 있다.\n",
    "- 상가의 전용면적별세대수는 모두 1\n",
    "- 우선 임대건물구분을 열로 올려서 단지가 주상복합인지 아닌지 구분할 수 있게 만들어야 한다."
   ]
  },
  {
   "cell_type": "code",
   "execution_count": 35,
   "metadata": {
    "colab": {
     "base_uri": "https://localhost:8080/",
     "height": 0
    },
    "executionInfo": {
     "elapsed": 41,
     "status": "ok",
     "timestamp": 1628478267242,
     "user": {
      "displayName": "정재환",
      "photoUrl": "",
      "userId": "00289451058434735723"
     },
     "user_tz": -540
    },
    "id": "8PYcqth9HqUQ",
    "outputId": "4e814f82-4657-471c-a87d-1af1cee87d82"
   },
   "outputs": [
    {
     "data": {
      "text/html": [
       "<div>\n",
       "<style scoped>\n",
       "    .dataframe tbody tr th:only-of-type {\n",
       "        vertical-align: middle;\n",
       "    }\n",
       "\n",
       "    .dataframe tbody tr th {\n",
       "        vertical-align: top;\n",
       "    }\n",
       "\n",
       "    .dataframe thead th {\n",
       "        text-align: right;\n",
       "    }\n",
       "</style>\n",
       "<table border=\"1\" class=\"dataframe\">\n",
       "  <thead>\n",
       "    <tr style=\"text-align: right;\">\n",
       "      <th></th>\n",
       "      <th>임대건물구분_상가</th>\n",
       "      <th>임대건물구분_아파트</th>\n",
       "    </tr>\n",
       "    <tr>\n",
       "      <th>단지코드</th>\n",
       "      <th></th>\n",
       "      <th></th>\n",
       "    </tr>\n",
       "  </thead>\n",
       "  <tbody>\n",
       "    <tr>\n",
       "      <th>C1000</th>\n",
       "      <td>0.0</td>\n",
       "      <td>1.0</td>\n",
       "    </tr>\n",
       "    <tr>\n",
       "      <th>C1004</th>\n",
       "      <td>1.0</td>\n",
       "      <td>1.0</td>\n",
       "    </tr>\n",
       "    <tr>\n",
       "      <th>C1005</th>\n",
       "      <td>0.0</td>\n",
       "      <td>1.0</td>\n",
       "    </tr>\n",
       "    <tr>\n",
       "      <th>C1013</th>\n",
       "      <td>0.0</td>\n",
       "      <td>1.0</td>\n",
       "    </tr>\n",
       "    <tr>\n",
       "      <th>C1014</th>\n",
       "      <td>0.0</td>\n",
       "      <td>1.0</td>\n",
       "    </tr>\n",
       "    <tr>\n",
       "      <th>...</th>\n",
       "      <td>...</td>\n",
       "      <td>...</td>\n",
       "    </tr>\n",
       "    <tr>\n",
       "      <th>C2663</th>\n",
       "      <td>0.0</td>\n",
       "      <td>1.0</td>\n",
       "    </tr>\n",
       "    <tr>\n",
       "      <th>C2666</th>\n",
       "      <td>0.0</td>\n",
       "      <td>1.0</td>\n",
       "    </tr>\n",
       "    <tr>\n",
       "      <th>C2670</th>\n",
       "      <td>0.0</td>\n",
       "      <td>1.0</td>\n",
       "    </tr>\n",
       "    <tr>\n",
       "      <th>C2680</th>\n",
       "      <td>0.0</td>\n",
       "      <td>1.0</td>\n",
       "    </tr>\n",
       "    <tr>\n",
       "      <th>C2692</th>\n",
       "      <td>0.0</td>\n",
       "      <td>1.0</td>\n",
       "    </tr>\n",
       "  </tbody>\n",
       "</table>\n",
       "<p>423 rows × 2 columns</p>\n",
       "</div>"
      ],
      "text/plain": [
       "       임대건물구분_상가  임대건물구분_아파트\n",
       "단지코드                        \n",
       "C1000        0.0         1.0\n",
       "C1004        1.0         1.0\n",
       "C1005        0.0         1.0\n",
       "C1013        0.0         1.0\n",
       "C1014        0.0         1.0\n",
       "...          ...         ...\n",
       "C2663        0.0         1.0\n",
       "C2666        0.0         1.0\n",
       "C2670        0.0         1.0\n",
       "C2680        0.0         1.0\n",
       "C2692        0.0         1.0\n",
       "\n",
       "[423 rows x 2 columns]"
      ]
     },
     "execution_count": 35,
     "metadata": {
      "tags": []
     },
     "output_type": "execute_result"
    }
   ],
   "source": [
    "reshape_cat_features(data=train, cast_col='임대건물구분', value_col='counter')"
   ]
  },
  {
   "cell_type": "markdown",
   "metadata": {
    "id": "eEqkG6ZCJPdS"
   },
   "source": [
    "#### 공급유형\n"
   ]
  },
  {
   "cell_type": "code",
   "execution_count": 36,
   "metadata": {
    "colab": {
     "base_uri": "https://localhost:8080/",
     "height": 0
    },
    "executionInfo": {
     "elapsed": 41,
     "status": "ok",
     "timestamp": 1628478267243,
     "user": {
      "displayName": "정재환",
      "photoUrl": "",
      "userId": "00289451058434735723"
     },
     "user_tz": -540
    },
    "id": "LNxwyT3oILyt",
    "outputId": "bdde186a-342c-46db-b19a-7deb2c38d764"
   },
   "outputs": [
    {
     "data": {
      "text/html": [
       "<div>\n",
       "<style scoped>\n",
       "    .dataframe tbody tr th:only-of-type {\n",
       "        vertical-align: middle;\n",
       "    }\n",
       "\n",
       "    .dataframe tbody tr th {\n",
       "        vertical-align: top;\n",
       "    }\n",
       "\n",
       "    .dataframe thead th {\n",
       "        text-align: right;\n",
       "    }\n",
       "</style>\n",
       "<table border=\"1\" class=\"dataframe\">\n",
       "  <thead>\n",
       "    <tr style=\"text-align: right;\">\n",
       "      <th></th>\n",
       "      <th>공급유형</th>\n",
       "      <th>공급유형</th>\n",
       "    </tr>\n",
       "  </thead>\n",
       "  <tbody>\n",
       "    <tr>\n",
       "      <th>국민임대</th>\n",
       "      <td>1730</td>\n",
       "      <td>619.0</td>\n",
       "    </tr>\n",
       "    <tr>\n",
       "      <th>임대상가</th>\n",
       "      <td>285</td>\n",
       "      <td>112.0</td>\n",
       "    </tr>\n",
       "    <tr>\n",
       "      <th>행복주택</th>\n",
       "      <td>203</td>\n",
       "      <td>121.0</td>\n",
       "    </tr>\n",
       "    <tr>\n",
       "      <th>공공임대(10년)</th>\n",
       "      <td>203</td>\n",
       "      <td>34.0</td>\n",
       "    </tr>\n",
       "    <tr>\n",
       "      <th>영구임대</th>\n",
       "      <td>149</td>\n",
       "      <td>44.0</td>\n",
       "    </tr>\n",
       "    <tr>\n",
       "      <th>공공임대(50년)</th>\n",
       "      <td>31</td>\n",
       "      <td>13.0</td>\n",
       "    </tr>\n",
       "    <tr>\n",
       "      <th>공공임대(분납)</th>\n",
       "      <td>12</td>\n",
       "      <td>6.0</td>\n",
       "    </tr>\n",
       "    <tr>\n",
       "      <th>장기전세</th>\n",
       "      <td>9</td>\n",
       "      <td>NaN</td>\n",
       "    </tr>\n",
       "    <tr>\n",
       "      <th>공공분양</th>\n",
       "      <td>7</td>\n",
       "      <td>NaN</td>\n",
       "    </tr>\n",
       "    <tr>\n",
       "      <th>공공임대(5년)</th>\n",
       "      <td>3</td>\n",
       "      <td>NaN</td>\n",
       "    </tr>\n",
       "  </tbody>\n",
       "</table>\n",
       "</div>"
      ],
      "text/plain": [
       "           공급유형   공급유형\n",
       "국민임대       1730  619.0\n",
       "임대상가        285  112.0\n",
       "행복주택        203  121.0\n",
       "공공임대(10년)   203   34.0\n",
       "영구임대        149   44.0\n",
       "공공임대(50년)    31   13.0\n",
       "공공임대(분납)     12    6.0\n",
       "장기전세          9    NaN\n",
       "공공분양          7    NaN\n",
       "공공임대(5년)      3    NaN"
      ]
     },
     "execution_count": 36,
     "metadata": {
      "tags": []
     },
     "output_type": "execute_result"
    }
   ],
   "source": [
    "pd.concat([train.공급유형.value_counts(), test.공급유형.value_counts()], axis=1)"
   ]
  },
  {
   "cell_type": "code",
   "execution_count": 37,
   "metadata": {
    "executionInfo": {
     "elapsed": 40,
     "status": "ok",
     "timestamp": 1628478267243,
     "user": {
      "displayName": "정재환",
      "photoUrl": "",
      "userId": "00289451058434735723"
     },
     "user_tz": -540
    },
    "id": "4G9g3Bx3J981"
   },
   "outputs": [],
   "source": [
    "train.loc[train.공급유형.isin(['공공임대(5년)', '공공분양', '공공임대(10년)', '공공임대(분납)']), '공급유형'] = '공공임대(5년/10년/분납/분양)'\n",
    "test.loc[test.공급유형.isin(['공공임대(5년)', '공공분양', '공공임대(10년)', '공공임대(분납)']), '공급유형'] = '공공임대(5년/10년/분납/분양)'\n",
    "train.loc[train.공급유형.isin(['장기전세', '국민임대']), '공급유형'] = '국민임대/장기전세'\n",
    "test.loc[test.공급유형.isin(['장기전세', '국민임대']), '공급유형'] = '국민임대/장기전세'"
   ]
  },
  {
   "cell_type": "code",
   "execution_count": 38,
   "metadata": {
    "colab": {
     "base_uri": "https://localhost:8080/"
    },
    "executionInfo": {
     "elapsed": 40,
     "status": "ok",
     "timestamp": 1628478267244,
     "user": {
      "displayName": "정재환",
      "photoUrl": "",
      "userId": "00289451058434735723"
     },
     "user_tz": -540
    },
    "id": "JKiNoHxQKMvE",
    "outputId": "920e2ae5-e1d7-420b-e7ec-8ca5b8da27b8"
   },
   "outputs": [
    {
     "data": {
      "text/plain": [
       "{'공공임대(50년)', '공공임대(5년/10년/분납/분양)', '국민임대/장기전세', '영구임대', '임대상가', '행복주택'}"
      ]
     },
     "execution_count": 38,
     "metadata": {
      "tags": []
     },
     "output_type": "execute_result"
    }
   ],
   "source": [
    "set(train.공급유형)"
   ]
  },
  {
   "cell_type": "code",
   "execution_count": 39,
   "metadata": {
    "colab": {
     "base_uri": "https://localhost:8080/"
    },
    "executionInfo": {
     "elapsed": 39,
     "status": "ok",
     "timestamp": 1628478267244,
     "user": {
      "displayName": "정재환",
      "photoUrl": "",
      "userId": "00289451058434735723"
     },
     "user_tz": -540
    },
    "id": "uMIkuEcNKSAI",
    "outputId": "9301e069-065f-430e-9f0b-aef2d946c512"
   },
   "outputs": [
    {
     "data": {
      "text/plain": [
       "{'공공임대(50년)', '공공임대(5년/10년/분납/분양)', '국민임대/장기전세', '영구임대', '임대상가', '행복주택'}"
      ]
     },
     "execution_count": 39,
     "metadata": {
      "tags": []
     },
     "output_type": "execute_result"
    }
   ],
   "source": [
    "set(test.공급유형)"
   ]
  },
  {
   "cell_type": "code",
   "execution_count": 40,
   "metadata": {
    "colab": {
     "base_uri": "https://localhost:8080/",
     "height": 0
    },
    "executionInfo": {
     "elapsed": 39,
     "status": "ok",
     "timestamp": 1628478267245,
     "user": {
      "displayName": "정재환",
      "photoUrl": "",
      "userId": "00289451058434735723"
     },
     "user_tz": -540
    },
    "id": "SVl1miS6KVDi",
    "outputId": "c59342ce-01e6-4b9e-b77e-599d00c5aed8"
   },
   "outputs": [
    {
     "data": {
      "text/html": [
       "<div>\n",
       "<style scoped>\n",
       "    .dataframe tbody tr th:only-of-type {\n",
       "        vertical-align: middle;\n",
       "    }\n",
       "\n",
       "    .dataframe tbody tr th {\n",
       "        vertical-align: top;\n",
       "    }\n",
       "\n",
       "    .dataframe thead th {\n",
       "        text-align: right;\n",
       "    }\n",
       "</style>\n",
       "<table border=\"1\" class=\"dataframe\">\n",
       "  <thead>\n",
       "    <tr style=\"text-align: right;\">\n",
       "      <th></th>\n",
       "      <th>공급유형_공공임대(50년)</th>\n",
       "      <th>공급유형_공공임대(5년/10년/분납/분양)</th>\n",
       "      <th>공급유형_국민임대/장기전세</th>\n",
       "      <th>공급유형_영구임대</th>\n",
       "      <th>공급유형_임대상가</th>\n",
       "      <th>공급유형_행복주택</th>\n",
       "    </tr>\n",
       "    <tr>\n",
       "      <th>단지코드</th>\n",
       "      <th></th>\n",
       "      <th></th>\n",
       "      <th></th>\n",
       "      <th></th>\n",
       "      <th></th>\n",
       "      <th></th>\n",
       "    </tr>\n",
       "  </thead>\n",
       "  <tbody>\n",
       "    <tr>\n",
       "      <th>C1000</th>\n",
       "      <td>0.0</td>\n",
       "      <td>0.0</td>\n",
       "      <td>1.0</td>\n",
       "      <td>0.0</td>\n",
       "      <td>0.0</td>\n",
       "      <td>0.0</td>\n",
       "    </tr>\n",
       "    <tr>\n",
       "      <th>C1004</th>\n",
       "      <td>0.0</td>\n",
       "      <td>0.0</td>\n",
       "      <td>0.0</td>\n",
       "      <td>1.0</td>\n",
       "      <td>1.0</td>\n",
       "      <td>0.0</td>\n",
       "    </tr>\n",
       "    <tr>\n",
       "      <th>C1005</th>\n",
       "      <td>0.0</td>\n",
       "      <td>0.0</td>\n",
       "      <td>1.0</td>\n",
       "      <td>0.0</td>\n",
       "      <td>0.0</td>\n",
       "      <td>0.0</td>\n",
       "    </tr>\n",
       "    <tr>\n",
       "      <th>C1013</th>\n",
       "      <td>0.0</td>\n",
       "      <td>0.0</td>\n",
       "      <td>1.0</td>\n",
       "      <td>0.0</td>\n",
       "      <td>0.0</td>\n",
       "      <td>0.0</td>\n",
       "    </tr>\n",
       "    <tr>\n",
       "      <th>C1014</th>\n",
       "      <td>0.0</td>\n",
       "      <td>0.0</td>\n",
       "      <td>1.0</td>\n",
       "      <td>0.0</td>\n",
       "      <td>0.0</td>\n",
       "      <td>0.0</td>\n",
       "    </tr>\n",
       "    <tr>\n",
       "      <th>...</th>\n",
       "      <td>...</td>\n",
       "      <td>...</td>\n",
       "      <td>...</td>\n",
       "      <td>...</td>\n",
       "      <td>...</td>\n",
       "      <td>...</td>\n",
       "    </tr>\n",
       "    <tr>\n",
       "      <th>C2663</th>\n",
       "      <td>0.0</td>\n",
       "      <td>0.0</td>\n",
       "      <td>1.0</td>\n",
       "      <td>0.0</td>\n",
       "      <td>0.0</td>\n",
       "      <td>0.0</td>\n",
       "    </tr>\n",
       "    <tr>\n",
       "      <th>C2666</th>\n",
       "      <td>0.0</td>\n",
       "      <td>0.0</td>\n",
       "      <td>1.0</td>\n",
       "      <td>0.0</td>\n",
       "      <td>0.0</td>\n",
       "      <td>0.0</td>\n",
       "    </tr>\n",
       "    <tr>\n",
       "      <th>C2670</th>\n",
       "      <td>0.0</td>\n",
       "      <td>0.0</td>\n",
       "      <td>1.0</td>\n",
       "      <td>0.0</td>\n",
       "      <td>0.0</td>\n",
       "      <td>0.0</td>\n",
       "    </tr>\n",
       "    <tr>\n",
       "      <th>C2680</th>\n",
       "      <td>0.0</td>\n",
       "      <td>0.0</td>\n",
       "      <td>1.0</td>\n",
       "      <td>0.0</td>\n",
       "      <td>0.0</td>\n",
       "      <td>0.0</td>\n",
       "    </tr>\n",
       "    <tr>\n",
       "      <th>C2692</th>\n",
       "      <td>0.0</td>\n",
       "      <td>0.0</td>\n",
       "      <td>1.0</td>\n",
       "      <td>0.0</td>\n",
       "      <td>0.0</td>\n",
       "      <td>0.0</td>\n",
       "    </tr>\n",
       "  </tbody>\n",
       "</table>\n",
       "<p>423 rows × 6 columns</p>\n",
       "</div>"
      ],
      "text/plain": [
       "       공급유형_공공임대(50년)  공급유형_공공임대(5년/10년/분납/분양)  ...  공급유형_임대상가  공급유형_행복주택\n",
       "단지코드                                            ...                      \n",
       "C1000             0.0                      0.0  ...        0.0        0.0\n",
       "C1004             0.0                      0.0  ...        1.0        0.0\n",
       "C1005             0.0                      0.0  ...        0.0        0.0\n",
       "C1013             0.0                      0.0  ...        0.0        0.0\n",
       "C1014             0.0                      0.0  ...        0.0        0.0\n",
       "...               ...                      ...  ...        ...        ...\n",
       "C2663             0.0                      0.0  ...        0.0        0.0\n",
       "C2666             0.0                      0.0  ...        0.0        0.0\n",
       "C2670             0.0                      0.0  ...        0.0        0.0\n",
       "C2680             0.0                      0.0  ...        0.0        0.0\n",
       "C2692             0.0                      0.0  ...        0.0        0.0\n",
       "\n",
       "[423 rows x 6 columns]"
      ]
     },
     "execution_count": 40,
     "metadata": {
      "tags": []
     },
     "output_type": "execute_result"
    }
   ],
   "source": [
    "reshape_cat_features(data=train, cast_col='공급유형', value_col='counter')"
   ]
  },
  {
   "cell_type": "code",
   "execution_count": 41,
   "metadata": {
    "colab": {
     "base_uri": "https://localhost:8080/",
     "height": 0
    },
    "executionInfo": {
     "elapsed": 38,
     "status": "ok",
     "timestamp": 1628478267245,
     "user": {
      "displayName": "정재환",
      "photoUrl": "",
      "userId": "00289451058434735723"
     },
     "user_tz": -540
    },
    "id": "KXbeS2jTLRxr",
    "outputId": "dab9acf8-066c-4e5d-ba38-48658c729209"
   },
   "outputs": [
    {
     "data": {
      "text/html": [
       "<div>\n",
       "<style scoped>\n",
       "    .dataframe tbody tr th:only-of-type {\n",
       "        vertical-align: middle;\n",
       "    }\n",
       "\n",
       "    .dataframe tbody tr th {\n",
       "        vertical-align: top;\n",
       "    }\n",
       "\n",
       "    .dataframe thead th {\n",
       "        text-align: right;\n",
       "    }\n",
       "</style>\n",
       "<table border=\"1\" class=\"dataframe\">\n",
       "  <thead>\n",
       "    <tr style=\"text-align: right;\">\n",
       "      <th></th>\n",
       "      <th>공급유형_공공임대(50년)</th>\n",
       "      <th>공급유형_공공임대(5년/10년/분납/분양)</th>\n",
       "      <th>공급유형_국민임대/장기전세</th>\n",
       "      <th>공급유형_영구임대</th>\n",
       "      <th>공급유형_임대상가</th>\n",
       "      <th>공급유형_행복주택</th>\n",
       "    </tr>\n",
       "    <tr>\n",
       "      <th>단지코드</th>\n",
       "      <th></th>\n",
       "      <th></th>\n",
       "      <th></th>\n",
       "      <th></th>\n",
       "      <th></th>\n",
       "      <th></th>\n",
       "    </tr>\n",
       "  </thead>\n",
       "  <tbody>\n",
       "    <tr>\n",
       "      <th>C1003</th>\n",
       "      <td>0.0</td>\n",
       "      <td>0.0</td>\n",
       "      <td>0.0</td>\n",
       "      <td>0.0</td>\n",
       "      <td>0.0</td>\n",
       "      <td>1.0</td>\n",
       "    </tr>\n",
       "    <tr>\n",
       "      <th>C1006</th>\n",
       "      <td>0.0</td>\n",
       "      <td>0.0</td>\n",
       "      <td>0.0</td>\n",
       "      <td>1.0</td>\n",
       "      <td>1.0</td>\n",
       "      <td>0.0</td>\n",
       "    </tr>\n",
       "    <tr>\n",
       "      <th>C1016</th>\n",
       "      <td>0.0</td>\n",
       "      <td>0.0</td>\n",
       "      <td>1.0</td>\n",
       "      <td>0.0</td>\n",
       "      <td>0.0</td>\n",
       "      <td>0.0</td>\n",
       "    </tr>\n",
       "    <tr>\n",
       "      <th>C1019</th>\n",
       "      <td>0.0</td>\n",
       "      <td>0.0</td>\n",
       "      <td>1.0</td>\n",
       "      <td>0.0</td>\n",
       "      <td>0.0</td>\n",
       "      <td>0.0</td>\n",
       "    </tr>\n",
       "    <tr>\n",
       "      <th>C1030</th>\n",
       "      <td>0.0</td>\n",
       "      <td>0.0</td>\n",
       "      <td>0.0</td>\n",
       "      <td>0.0</td>\n",
       "      <td>0.0</td>\n",
       "      <td>1.0</td>\n",
       "    </tr>\n",
       "    <tr>\n",
       "      <th>...</th>\n",
       "      <td>...</td>\n",
       "      <td>...</td>\n",
       "      <td>...</td>\n",
       "      <td>...</td>\n",
       "      <td>...</td>\n",
       "      <td>...</td>\n",
       "    </tr>\n",
       "    <tr>\n",
       "      <th>C2653</th>\n",
       "      <td>0.0</td>\n",
       "      <td>0.0</td>\n",
       "      <td>1.0</td>\n",
       "      <td>0.0</td>\n",
       "      <td>0.0</td>\n",
       "      <td>0.0</td>\n",
       "    </tr>\n",
       "    <tr>\n",
       "      <th>C2675</th>\n",
       "      <td>0.0</td>\n",
       "      <td>0.0</td>\n",
       "      <td>1.0</td>\n",
       "      <td>0.0</td>\n",
       "      <td>0.0</td>\n",
       "      <td>0.0</td>\n",
       "    </tr>\n",
       "    <tr>\n",
       "      <th>C2676</th>\n",
       "      <td>0.0</td>\n",
       "      <td>0.0</td>\n",
       "      <td>0.0</td>\n",
       "      <td>1.0</td>\n",
       "      <td>1.0</td>\n",
       "      <td>0.0</td>\n",
       "    </tr>\n",
       "    <tr>\n",
       "      <th>C2688</th>\n",
       "      <td>0.0</td>\n",
       "      <td>0.0</td>\n",
       "      <td>1.0</td>\n",
       "      <td>1.0</td>\n",
       "      <td>0.0</td>\n",
       "      <td>0.0</td>\n",
       "    </tr>\n",
       "    <tr>\n",
       "      <th>C2691</th>\n",
       "      <td>0.0</td>\n",
       "      <td>1.0</td>\n",
       "      <td>0.0</td>\n",
       "      <td>0.0</td>\n",
       "      <td>0.0</td>\n",
       "      <td>0.0</td>\n",
       "    </tr>\n",
       "  </tbody>\n",
       "</table>\n",
       "<p>150 rows × 6 columns</p>\n",
       "</div>"
      ],
      "text/plain": [
       "       공급유형_공공임대(50년)  공급유형_공공임대(5년/10년/분납/분양)  ...  공급유형_임대상가  공급유형_행복주택\n",
       "단지코드                                            ...                      \n",
       "C1003             0.0                      0.0  ...        0.0        1.0\n",
       "C1006             0.0                      0.0  ...        1.0        0.0\n",
       "C1016             0.0                      0.0  ...        0.0        0.0\n",
       "C1019             0.0                      0.0  ...        0.0        0.0\n",
       "C1030             0.0                      0.0  ...        0.0        1.0\n",
       "...               ...                      ...  ...        ...        ...\n",
       "C2653             0.0                      0.0  ...        0.0        0.0\n",
       "C2675             0.0                      0.0  ...        0.0        0.0\n",
       "C2676             0.0                      0.0  ...        1.0        0.0\n",
       "C2688             0.0                      0.0  ...        0.0        0.0\n",
       "C2691             0.0                      1.0  ...        0.0        0.0\n",
       "\n",
       "[150 rows x 6 columns]"
      ]
     },
     "execution_count": 41,
     "metadata": {
      "tags": []
     },
     "output_type": "execute_result"
    }
   ],
   "source": [
    "reshape_cat_features(data=test, cast_col='공급유형', value_col='counter')"
   ]
  },
  {
   "cell_type": "markdown",
   "metadata": {
    "id": "jfrh9fnULec4"
   },
   "source": [
    "#### 자격유형\n",
    "- 변수생성 컨셉: 특정자격 유형이 많으면 그 단지는 등록차량수가 적을 것이다.\n",
    "- 문제는 특성이 비슷한 항목끼리 묶여야 의미가 있을 것이나, 비식별화 되어 있어서 각 코드값이 무엇인지 정확히 알 수 없다는 점이다.\n",
    "- 단지코드별 자격유형별 세대수를 알 수 있으면 좋으나, 이 데이터에서는 확인이 불가능\n",
    "- 자격유형별 소득수준을 간접적으로 파악하기 위해 자격유형별 임대보증금의 평균, 임대료의 평균을 변수로 사용해 볼 수 있을듯 하다."
   ]
  },
  {
   "cell_type": "code",
   "execution_count": 42,
   "metadata": {
    "colab": {
     "base_uri": "https://localhost:8080/",
     "height": 0
    },
    "executionInfo": {
     "elapsed": 37,
     "status": "ok",
     "timestamp": 1628478267245,
     "user": {
      "displayName": "정재환",
      "photoUrl": "",
      "userId": "00289451058434735723"
     },
     "user_tz": -540
    },
    "id": "ekojnOHMLZS2",
    "outputId": "34fd9183-718b-4159-fc56-ca26f5a7a3ad"
   },
   "outputs": [
    {
     "data": {
      "text/html": [
       "<div>\n",
       "<style scoped>\n",
       "    .dataframe tbody tr th:only-of-type {\n",
       "        vertical-align: middle;\n",
       "    }\n",
       "\n",
       "    .dataframe tbody tr th {\n",
       "        vertical-align: top;\n",
       "    }\n",
       "\n",
       "    .dataframe thead th {\n",
       "        text-align: right;\n",
       "    }\n",
       "</style>\n",
       "<table border=\"1\" class=\"dataframe\">\n",
       "  <thead>\n",
       "    <tr style=\"text-align: right;\">\n",
       "      <th></th>\n",
       "      <th>자격유형</th>\n",
       "      <th>자격유형</th>\n",
       "    </tr>\n",
       "  </thead>\n",
       "  <tbody>\n",
       "    <tr>\n",
       "      <th>A</th>\n",
       "      <td>1775</td>\n",
       "      <td>569.0</td>\n",
       "    </tr>\n",
       "    <tr>\n",
       "      <th>D</th>\n",
       "      <td>292</td>\n",
       "      <td>114.0</td>\n",
       "    </tr>\n",
       "    <tr>\n",
       "      <th>H</th>\n",
       "      <td>154</td>\n",
       "      <td>92.0</td>\n",
       "    </tr>\n",
       "    <tr>\n",
       "      <th>J</th>\n",
       "      <td>105</td>\n",
       "      <td>81.0</td>\n",
       "    </tr>\n",
       "    <tr>\n",
       "      <th>C</th>\n",
       "      <td>92</td>\n",
       "      <td>35.0</td>\n",
       "    </tr>\n",
       "    <tr>\n",
       "      <th>I</th>\n",
       "      <td>49</td>\n",
       "      <td>7.0</td>\n",
       "    </tr>\n",
       "    <tr>\n",
       "      <th>E</th>\n",
       "      <td>37</td>\n",
       "      <td>10.0</td>\n",
       "    </tr>\n",
       "    <tr>\n",
       "      <th>K</th>\n",
       "      <td>33</td>\n",
       "      <td>16.0</td>\n",
       "    </tr>\n",
       "    <tr>\n",
       "      <th>L</th>\n",
       "      <td>33</td>\n",
       "      <td>12.0</td>\n",
       "    </tr>\n",
       "    <tr>\n",
       "      <th>N</th>\n",
       "      <td>29</td>\n",
       "      <td>10.0</td>\n",
       "    </tr>\n",
       "    <tr>\n",
       "      <th>B</th>\n",
       "      <td>18</td>\n",
       "      <td>NaN</td>\n",
       "    </tr>\n",
       "    <tr>\n",
       "      <th>G</th>\n",
       "      <td>9</td>\n",
       "      <td>1.0</td>\n",
       "    </tr>\n",
       "    <tr>\n",
       "      <th>F</th>\n",
       "      <td>3</td>\n",
       "      <td>NaN</td>\n",
       "    </tr>\n",
       "    <tr>\n",
       "      <th>M</th>\n",
       "      <td>2</td>\n",
       "      <td>2.0</td>\n",
       "    </tr>\n",
       "    <tr>\n",
       "      <th>O</th>\n",
       "      <td>1</td>\n",
       "      <td>NaN</td>\n",
       "    </tr>\n",
       "  </tbody>\n",
       "</table>\n",
       "</div>"
      ],
      "text/plain": [
       "   자격유형   자격유형\n",
       "A  1775  569.0\n",
       "D   292  114.0\n",
       "H   154   92.0\n",
       "J   105   81.0\n",
       "C    92   35.0\n",
       "I    49    7.0\n",
       "E    37   10.0\n",
       "K    33   16.0\n",
       "L    33   12.0\n",
       "N    29   10.0\n",
       "B    18    NaN\n",
       "G     9    1.0\n",
       "F     3    NaN\n",
       "M     2    2.0\n",
       "O     1    NaN"
      ]
     },
     "execution_count": 42,
     "metadata": {
      "tags": []
     },
     "output_type": "execute_result"
    }
   ],
   "source": [
    "pd.concat([train.자격유형.value_counts(),\n",
    "           test.자격유형.value_counts()], axis=1)"
   ]
  },
  {
   "cell_type": "markdown",
   "metadata": {
    "id": "KqteYXKnP_gv"
   },
   "source": [
    "- B, F, O가 train에만 있고, test에는 존재하지 않는다\n",
    "\n",
    "\n",
    "*   공공임대주택 공급대상\n",
    "\n",
    "> 영구임대: 소득 1분위 - 1\n",
    "\n",
    "> 국민인대: 소득 2~4분위 - 3\n",
    "\n",
    "> 장기전세: 소득 3~4분위 - 2\n",
    "\n",
    "> 공공임대(5년/10년/분납): 소득 3~5분위 - 3\n",
    "\n",
    "> 행복주택: 소득 2~5분위 - 4\n",
    "\n",
    "이렇게 나눌시 13개 항목이나, 자격유형의 항목수는 15개\n",
    "\n",
    "\n",
    "\n",
    "\n",
    "\n",
    "\n",
    "\n",
    "\n",
    "\n",
    "\n",
    "\n",
    "\n",
    "\n",
    "\n",
    "\n"
   ]
  },
  {
   "cell_type": "code",
   "execution_count": 43,
   "metadata": {
    "colab": {
     "base_uri": "https://localhost:8080/",
     "height": 0
    },
    "executionInfo": {
     "elapsed": 38,
     "status": "ok",
     "timestamp": 1628478267246,
     "user": {
      "displayName": "정재환",
      "photoUrl": "",
      "userId": "00289451058434735723"
     },
     "user_tz": -540
    },
    "id": "FhDXvivwP1lD",
    "outputId": "e249d570-eb1f-4683-c045-d6821ecef5e5"
   },
   "outputs": [
    {
     "data": {
      "text/html": [
       "<div>\n",
       "<style scoped>\n",
       "    .dataframe tbody tr th:only-of-type {\n",
       "        vertical-align: middle;\n",
       "    }\n",
       "\n",
       "    .dataframe tbody tr th {\n",
       "        vertical-align: top;\n",
       "    }\n",
       "\n",
       "    .dataframe thead th {\n",
       "        text-align: right;\n",
       "    }\n",
       "</style>\n",
       "<table border=\"1\" class=\"dataframe\">\n",
       "  <thead>\n",
       "    <tr style=\"text-align: right;\">\n",
       "      <th></th>\n",
       "      <th>임대건물구분</th>\n",
       "      <th>공급유형</th>\n",
       "    </tr>\n",
       "  </thead>\n",
       "  <tbody>\n",
       "    <tr>\n",
       "      <th>26</th>\n",
       "      <td>아파트</td>\n",
       "      <td>국민임대/장기전세</td>\n",
       "    </tr>\n",
       "  </tbody>\n",
       "</table>\n",
       "</div>"
      ],
      "text/plain": [
       "   임대건물구분       공급유형\n",
       "26    아파트  국민임대/장기전세"
      ]
     },
     "execution_count": 43,
     "metadata": {
      "tags": []
     },
     "output_type": "execute_result"
    }
   ],
   "source": [
    "train.loc[train.자격유형=='B',['임대건물구분', '공급유형']].drop_duplicates()\n",
    "# 자격유형 B는 공급유형이 모두 국민임대/장기전세, 공급유형이 국민임대/장기전세 일 때 자격유형이 어떤것이 있는지 확인하는 것이 좋을 것으로 보인다"
   ]
  },
  {
   "cell_type": "code",
   "execution_count": 44,
   "metadata": {
    "colab": {
     "base_uri": "https://localhost:8080/"
    },
    "executionInfo": {
     "elapsed": 37,
     "status": "ok",
     "timestamp": 1628478267246,
     "user": {
      "displayName": "정재환",
      "photoUrl": "",
      "userId": "00289451058434735723"
     },
     "user_tz": -540
    },
    "id": "y5YIJNH6S5HJ",
    "outputId": "02f2aca5-0d3f-4d87-d371-2ea1827a8314"
   },
   "outputs": [
    {
     "data": {
      "text/plain": [
       "A    1524\n",
       "H     154\n",
       "E      34\n",
       "B      18\n",
       "G       9\n",
       "Name: 자격유형, dtype: int64"
      ]
     },
     "execution_count": 44,
     "metadata": {
      "tags": []
     },
     "output_type": "execute_result"
    }
   ],
   "source": [
    "train.loc[train.공급유형.isin(['국민임대/장기전세']), '자격유형'].value_counts()"
   ]
  },
  {
   "cell_type": "markdown",
   "metadata": {
    "id": "LuPpJUkyVDz1"
   },
   "source": [
    "국민임대/장기전세\n",
    "- (일반)해당지역 거주 무주택세대구성원\n",
    "- (특별/우선)3자녀 이상 가구\n",
    "- (특별/우선)국가유공자\n",
    "- (특별/우선)영구임대 입주자\n",
    "- (특별/우선)비닐간이공작물 거주자\n",
    "- (특별/우선)신혼부부(혼인기간 5년이내)\n",
    "- (특별/우선)사업지구 철거민\n",
    "- (특별/우선)기타 공급대상(고령자, 노부모부양자, 장애인, 파독근로자 등)\n",
    "- 건수가 가장 많은 A는 해당지역 거주 무주택세대구성원으로 예상됨"
   ]
  },
  {
   "cell_type": "code",
   "execution_count": 45,
   "metadata": {
    "colab": {
     "base_uri": "https://localhost:8080/"
    },
    "executionInfo": {
     "elapsed": 37,
     "status": "ok",
     "timestamp": 1628478267247,
     "user": {
      "displayName": "정재환",
      "photoUrl": "",
      "userId": "00289451058434735723"
     },
     "user_tz": -540
    },
    "id": "H8XQ3eVxTEIf",
    "outputId": "2dc7f7a4-0791-49cc-aa32-377f44174b33"
   },
   "outputs": [
    {
     "data": {
      "text/plain": [
       "C    92\n",
       "I    49\n",
       "F     3\n",
       "E     3\n",
       "A     2\n",
       "Name: 자격유형, dtype: int64"
      ]
     },
     "execution_count": 45,
     "metadata": {
      "tags": []
     },
     "output_type": "execute_result"
    }
   ],
   "source": [
    "# 다른 공급유형별 자격유형도 살펴본다\n",
    "train.loc[train.공급유형.isin(['영구임대']), '자격유형'].value_counts()"
   ]
  },
  {
   "cell_type": "markdown",
   "metadata": {
    "id": "WxWMIlXgYo72"
   },
   "source": [
    "영구임대\n",
    "- (일반)생계급여 또는 의료급여 수급자\n",
    "- (일반)국가유공자\n",
    "- (특별/우선)수급자 선정기준의 소득인정액 이하인 국가유공자\n",
    "- (특별/우선)귀환국군포로\n",
    "- (특별/우선)수급자 신혼부부"
   ]
  },
  {
   "cell_type": "code",
   "execution_count": 46,
   "metadata": {
    "colab": {
     "base_uri": "https://localhost:8080/"
    },
    "executionInfo": {
     "elapsed": 37,
     "status": "ok",
     "timestamp": 1628478267247,
     "user": {
      "displayName": "정재환",
      "photoUrl": "",
      "userId": "00289451058434735723"
     },
     "user_tz": -540
    },
    "id": "mjmYvrHXYlpk",
    "outputId": "895b0c6c-c026-4729-b3df-0f1913b4a11f"
   },
   "outputs": [
    {
     "data": {
      "text/plain": [
       "A    218\n",
       "D      7\n",
       "Name: 자격유형, dtype: int64"
      ]
     },
     "execution_count": 46,
     "metadata": {
      "tags": []
     },
     "output_type": "execute_result"
    }
   ],
   "source": [
    "train.loc[train.공급유형.isin(['공공임대(5년/10년/분납/분양)']), '자격유형'].value_counts()"
   ]
  },
  {
   "cell_type": "markdown",
   "metadata": {
    "id": "Uw4Sr-1TZW1l"
   },
   "source": [
    "공공임대(5년/10년/분납/분양)\n",
    "- (일반)해당지역 거주무주택세대구성원\n",
    "- (특별/우선)다자녀 특별\n",
    "- (특별/우선)신혼부부 특별\n",
    "- (특별/우선)생애최초 특별\n",
    "- (특별/우선)노부모부양 특별\n",
    "- (특별/우선)국가유공자 특별\n",
    "- (특별/우선)기타 특별(장애인, 철거민 등)\n",
    "- A는 '(일반)해당지역 거주무주택세대구성원'으로 추정됨"
   ]
  },
  {
   "cell_type": "code",
   "execution_count": 47,
   "metadata": {
    "colab": {
     "base_uri": "https://localhost:8080/"
    },
    "executionInfo": {
     "elapsed": 37,
     "status": "ok",
     "timestamp": 1628478267248,
     "user": {
      "displayName": "정재환",
      "photoUrl": "",
      "userId": "00289451058434735723"
     },
     "user_tz": -540
    },
    "id": "mG8KKDx5Y4Kk",
    "outputId": "4f51440c-a13a-4f5a-c3d1-39a14968a7bd"
   },
   "outputs": [
    {
     "data": {
      "text/plain": [
       "J    105\n",
       "K     33\n",
       "L     33\n",
       "N     29\n",
       "M      2\n",
       "O      1\n",
       "Name: 자격유형, dtype: int64"
      ]
     },
     "execution_count": 47,
     "metadata": {
      "tags": []
     },
     "output_type": "execute_result"
    }
   ],
   "source": [
    "train.loc[train.공급유형.isin(['행복주택']), '자격유형'].value_counts()"
   ]
  },
  {
   "cell_type": "markdown",
   "metadata": {
    "id": "_qZwifyZbEdT"
   },
   "source": [
    "행복주택\n",
    "-대학생(취준생 포함), 사회초년생(제취준생 포함), 신혼부부(예비신혼부부, 대학생, 취준생 신혼부부 포함), 고령자, 주거급여수급자, 산업단지 근로자\n",
    "- 이렇게 6개 항목이랑 매핑 될듯으로 보인다"
   ]
  },
  {
   "cell_type": "code",
   "execution_count": 48,
   "metadata": {
    "colab": {
     "base_uri": "https://localhost:8080/"
    },
    "executionInfo": {
     "elapsed": 36,
     "status": "ok",
     "timestamp": 1628478267248,
     "user": {
      "displayName": "정재환",
      "photoUrl": "",
      "userId": "00289451058434735723"
     },
     "user_tz": -540
    },
    "id": "TxuGnzUVZf6F",
    "outputId": "1019acb8-dc82-471a-ad65-31d2693328e3"
   },
   "outputs": [
    {
     "data": {
      "text/plain": [
       "행복주택    203\n",
       "Name: 공급유형, dtype: int64"
      ]
     },
     "execution_count": 48,
     "metadata": {
      "tags": []
     },
     "output_type": "execute_result"
    }
   ],
   "source": [
    "train.loc[train.자격유형.isin(['J','L','K','N','M','O']), '공급유형'].value_counts()\n",
    "# 'J', 'L', 'K', 'N', 'M', 'O' 는 공급유형이 행복주택인 경우에서만 나타난다\n",
    "# 이것만 따로 묶는게 좋을듯"
   ]
  },
  {
   "cell_type": "code",
   "execution_count": 49,
   "metadata": {
    "executionInfo": {
     "elapsed": 36,
     "status": "ok",
     "timestamp": 1628478267249,
     "user": {
      "displayName": "정재환",
      "photoUrl": "",
      "userId": "00289451058434735723"
     },
     "user_tz": -540
    },
    "id": "1MBGRVUXbVC-"
   },
   "outputs": [],
   "source": [
    "train.loc[train.자격유형.isin(['J', 'L', 'K', 'N', 'M', 'O']), '자격유형'] = '행복주택_공급대상'\n",
    "test.loc[test.자격유형.isin(['J', 'L', 'K', 'N', 'M', 'O']), '자격유형'] = '행복주택_공급대상'"
   ]
  },
  {
   "cell_type": "code",
   "execution_count": 50,
   "metadata": {
    "colab": {
     "base_uri": "https://localhost:8080/"
    },
    "executionInfo": {
     "elapsed": 36,
     "status": "ok",
     "timestamp": 1628478267249,
     "user": {
      "displayName": "정재환",
      "photoUrl": "",
      "userId": "00289451058434735723"
     },
     "user_tz": -540
    },
    "id": "pYjWE78Lcozf",
    "outputId": "5d15583b-286c-428f-e55a-03aa59efa116"
   },
   "outputs": [
    {
     "data": {
      "text/plain": [
       "국민임대/장기전세             1524\n",
       "공공임대(5년/10년/분납/분양)     218\n",
       "공공임대(50년)               31\n",
       "영구임대                     2\n",
       "Name: 공급유형, dtype: int64"
      ]
     },
     "execution_count": 50,
     "metadata": {
      "tags": []
     },
     "output_type": "execute_result"
    }
   ],
   "source": [
    "train.loc[train.자격유형.isin(['A']), '공급유형'].value_counts()"
   ]
  },
  {
   "cell_type": "code",
   "execution_count": 51,
   "metadata": {
    "colab": {
     "base_uri": "https://localhost:8080/"
    },
    "executionInfo": {
     "elapsed": 36,
     "status": "ok",
     "timestamp": 1628478267250,
     "user": {
      "displayName": "정재환",
      "photoUrl": "",
      "userId": "00289451058434735723"
     },
     "user_tz": -540
    },
    "id": "1kR6tHeZcxWX",
    "outputId": "cdc84127-ef47-4eb1-e9f7-069a624c1fe8"
   },
   "outputs": [
    {
     "data": {
      "text/plain": [
       "임대상가                  285\n",
       "공공임대(5년/10년/분납/분양)      7\n",
       "Name: 공급유형, dtype: int64"
      ]
     },
     "execution_count": 51,
     "metadata": {
      "tags": []
     },
     "output_type": "execute_result"
    }
   ],
   "source": [
    "train.loc[train.자격유형.isin(['D']), '공급유형'].value_counts()"
   ]
  },
  {
   "cell_type": "code",
   "execution_count": 52,
   "metadata": {
    "colab": {
     "base_uri": "https://localhost:8080/"
    },
    "executionInfo": {
     "elapsed": 35,
     "status": "ok",
     "timestamp": 1628478267250,
     "user": {
      "displayName": "정재환",
      "photoUrl": "",
      "userId": "00289451058434735723"
     },
     "user_tz": -540
    },
    "id": "7kQo7tE6c5Gq",
    "outputId": "efb5270a-efef-4fa8-c4b0-02423ce47893"
   },
   "outputs": [
    {
     "data": {
      "text/plain": [
       "국민임대/장기전세    154\n",
       "Name: 공급유형, dtype: int64"
      ]
     },
     "execution_count": 52,
     "metadata": {
      "tags": []
     },
     "output_type": "execute_result"
    }
   ],
   "source": [
    "train.loc[train.자격유형.isin(['H']), '공급유형'].value_counts()"
   ]
  },
  {
   "cell_type": "code",
   "execution_count": 53,
   "metadata": {
    "colab": {
     "base_uri": "https://localhost:8080/"
    },
    "executionInfo": {
     "elapsed": 35,
     "status": "ok",
     "timestamp": 1628478267250,
     "user": {
      "displayName": "정재환",
      "photoUrl": "",
      "userId": "00289451058434735723"
     },
     "user_tz": -540
    },
    "id": "vFDZK-xfdE60",
    "outputId": "66111157-c147-4be5-85e7-0ceae39b54e8"
   },
   "outputs": [
    {
     "data": {
      "text/plain": [
       "영구임대    92\n",
       "Name: 공급유형, dtype: int64"
      ]
     },
     "execution_count": 53,
     "metadata": {
      "tags": []
     },
     "output_type": "execute_result"
    }
   ],
   "source": [
    "train.loc[train.자격유형.isin(['C']), '공급유형'].value_counts()"
   ]
  },
  {
   "cell_type": "code",
   "execution_count": 54,
   "metadata": {
    "colab": {
     "base_uri": "https://localhost:8080/"
    },
    "executionInfo": {
     "elapsed": 35,
     "status": "ok",
     "timestamp": 1628478267251,
     "user": {
      "displayName": "정재환",
      "photoUrl": "",
      "userId": "00289451058434735723"
     },
     "user_tz": -540
    },
    "id": "0dzJaw_idGFL",
    "outputId": "81a98aeb-5a91-4d15-c4ce-d0b1c5a514ce"
   },
   "outputs": [
    {
     "data": {
      "text/plain": [
       "영구임대    49\n",
       "Name: 공급유형, dtype: int64"
      ]
     },
     "execution_count": 54,
     "metadata": {
      "tags": []
     },
     "output_type": "execute_result"
    }
   ],
   "source": [
    "train.loc[train.자격유형.isin(['I']), '공급유형'].value_counts()"
   ]
  },
  {
   "cell_type": "code",
   "execution_count": 55,
   "metadata": {
    "colab": {
     "base_uri": "https://localhost:8080/"
    },
    "executionInfo": {
     "elapsed": 35,
     "status": "ok",
     "timestamp": 1628478267251,
     "user": {
      "displayName": "정재환",
      "photoUrl": "",
      "userId": "00289451058434735723"
     },
     "user_tz": -540
    },
    "id": "6H9f4a9XdHyc",
    "outputId": "55aab98f-2240-45d1-8262-2185de9d5b9b"
   },
   "outputs": [
    {
     "data": {
      "text/plain": [
       "국민임대/장기전세    34\n",
       "영구임대          3\n",
       "Name: 공급유형, dtype: int64"
      ]
     },
     "execution_count": 55,
     "metadata": {
      "tags": []
     },
     "output_type": "execute_result"
    }
   ],
   "source": [
    "train.loc[train.자격유형.isin(['E']), '공급유형'].value_counts()"
   ]
  },
  {
   "cell_type": "code",
   "execution_count": 56,
   "metadata": {
    "colab": {
     "base_uri": "https://localhost:8080/"
    },
    "executionInfo": {
     "elapsed": 35,
     "status": "ok",
     "timestamp": 1628478267252,
     "user": {
      "displayName": "정재환",
      "photoUrl": "",
      "userId": "00289451058434735723"
     },
     "user_tz": -540
    },
    "id": "ZRs4pDdjdI9q",
    "outputId": "792751a1-a110-4d5b-b72c-291b15240d40"
   },
   "outputs": [
    {
     "data": {
      "text/plain": [
       "국민임대/장기전세    18\n",
       "Name: 공급유형, dtype: int64"
      ]
     },
     "execution_count": 56,
     "metadata": {
      "tags": []
     },
     "output_type": "execute_result"
    }
   ],
   "source": [
    "train.loc[train.자격유형.isin(['B']), '공급유형'].value_counts()"
   ]
  },
  {
   "cell_type": "code",
   "execution_count": 57,
   "metadata": {
    "colab": {
     "base_uri": "https://localhost:8080/"
    },
    "executionInfo": {
     "elapsed": 35,
     "status": "ok",
     "timestamp": 1628478267252,
     "user": {
      "displayName": "정재환",
      "photoUrl": "",
      "userId": "00289451058434735723"
     },
     "user_tz": -540
    },
    "id": "hQKNUjOMdJ9R",
    "outputId": "ee32a5ed-dca0-4518-9aaf-f137821a2546"
   },
   "outputs": [
    {
     "data": {
      "text/plain": [
       "국민임대/장기전세    9\n",
       "Name: 공급유형, dtype: int64"
      ]
     },
     "execution_count": 57,
     "metadata": {
      "tags": []
     },
     "output_type": "execute_result"
    }
   ],
   "source": [
    "train.loc[train.자격유형.isin(['G']), '공급유형'].value_counts()"
   ]
  },
  {
   "cell_type": "code",
   "execution_count": 58,
   "metadata": {
    "colab": {
     "base_uri": "https://localhost:8080/"
    },
    "executionInfo": {
     "elapsed": 34,
     "status": "ok",
     "timestamp": 1628478267252,
     "user": {
      "displayName": "정재환",
      "photoUrl": "",
      "userId": "00289451058434735723"
     },
     "user_tz": -540
    },
    "id": "gYLiHd9QdK5Y",
    "outputId": "fa59ce1f-66b5-46f8-9c9c-2703734b7b2b"
   },
   "outputs": [
    {
     "data": {
      "text/plain": [
       "영구임대    3\n",
       "Name: 공급유형, dtype: int64"
      ]
     },
     "execution_count": 58,
     "metadata": {
      "tags": []
     },
     "output_type": "execute_result"
    }
   ],
   "source": [
    "train.loc[train.자격유형.isin(['F']), '공급유형'].value_counts()"
   ]
  },
  {
   "cell_type": "markdown",
   "metadata": {
    "id": "M6i48sGcdMkD"
   },
   "source": [
    "- 'H','B','E','G'는 국민임대/장기전세 공급대상(E는 영구임대인 경우도 있으나 국민임대/장기전세인 경우가 많아 여기에 포함시켰다.)\n",
    "- 'C','I','F','G'는 영구임대 공급대상으로 묶어 보았다"
   ]
  },
  {
   "cell_type": "code",
   "execution_count": 59,
   "metadata": {
    "executionInfo": {
     "elapsed": 34,
     "status": "ok",
     "timestamp": 1628478267253,
     "user": {
      "displayName": "정재환",
      "photoUrl": "",
      "userId": "00289451058434735723"
     },
     "user_tz": -540
    },
    "id": "ZLeuQW9HdL9G"
   },
   "outputs": [],
   "source": [
    "train.loc[train.자격유형.isin(['H', 'B', 'E', 'G']), '자격유형'] = '국민임대/장기전세_공급대상'\n",
    "test.loc[test.자격유형.isin(['H', 'B', 'E', 'G']), '자격유형'] = '국민임대/장기전세_공급대상'\n",
    "\n",
    "train.loc[train.자격유형.isin(['C', 'I', 'F']), '자격유형'] = '영구임대_공급대상'\n",
    "test.loc[test.자격유형.isin(['C', 'I', 'F']), '자격유형'] = '영구임대_공급대상'"
   ]
  },
  {
   "cell_type": "code",
   "execution_count": 60,
   "metadata": {
    "colab": {
     "base_uri": "https://localhost:8080/",
     "height": 0
    },
    "executionInfo": {
     "elapsed": 35,
     "status": "ok",
     "timestamp": 1628478267254,
     "user": {
      "displayName": "정재환",
      "photoUrl": "",
      "userId": "00289451058434735723"
     },
     "user_tz": -540
    },
    "id": "QujPTxh0dhG7",
    "outputId": "0380ad82-cb20-465b-ed83-2534d7133f9c"
   },
   "outputs": [
    {
     "data": {
      "text/html": [
       "<div>\n",
       "<style scoped>\n",
       "    .dataframe tbody tr th:only-of-type {\n",
       "        vertical-align: middle;\n",
       "    }\n",
       "\n",
       "    .dataframe tbody tr th {\n",
       "        vertical-align: top;\n",
       "    }\n",
       "\n",
       "    .dataframe thead th {\n",
       "        text-align: right;\n",
       "    }\n",
       "</style>\n",
       "<table border=\"1\" class=\"dataframe\">\n",
       "  <thead>\n",
       "    <tr style=\"text-align: right;\">\n",
       "      <th></th>\n",
       "      <th>자격유형</th>\n",
       "      <th>자격유형</th>\n",
       "    </tr>\n",
       "  </thead>\n",
       "  <tbody>\n",
       "    <tr>\n",
       "      <th>A</th>\n",
       "      <td>1775</td>\n",
       "      <td>569</td>\n",
       "    </tr>\n",
       "    <tr>\n",
       "      <th>D</th>\n",
       "      <td>292</td>\n",
       "      <td>114</td>\n",
       "    </tr>\n",
       "    <tr>\n",
       "      <th>국민임대/장기전세_공급대상</th>\n",
       "      <td>218</td>\n",
       "      <td>103</td>\n",
       "    </tr>\n",
       "    <tr>\n",
       "      <th>행복주택_공급대상</th>\n",
       "      <td>203</td>\n",
       "      <td>121</td>\n",
       "    </tr>\n",
       "    <tr>\n",
       "      <th>영구임대_공급대상</th>\n",
       "      <td>144</td>\n",
       "      <td>42</td>\n",
       "    </tr>\n",
       "  </tbody>\n",
       "</table>\n",
       "</div>"
      ],
      "text/plain": [
       "                자격유형  자격유형\n",
       "A               1775   569\n",
       "D                292   114\n",
       "국민임대/장기전세_공급대상   218   103\n",
       "행복주택_공급대상        203   121\n",
       "영구임대_공급대상        144    42"
      ]
     },
     "execution_count": 60,
     "metadata": {
      "tags": []
     },
     "output_type": "execute_result"
    }
   ],
   "source": [
    "pd.concat([train.자격유형.value_counts(), \n",
    "           test.자격유형.value_counts()], axis=1)"
   ]
  },
  {
   "cell_type": "code",
   "execution_count": 61,
   "metadata": {
    "colab": {
     "base_uri": "https://localhost:8080/",
     "height": 0
    },
    "executionInfo": {
     "elapsed": 34,
     "status": "ok",
     "timestamp": 1628478267254,
     "user": {
      "displayName": "정재환",
      "photoUrl": "",
      "userId": "00289451058434735723"
     },
     "user_tz": -540
    },
    "id": "5cYljtGYdig0",
    "outputId": "982585a2-651b-4927-9561-5a0abd9afc08"
   },
   "outputs": [
    {
     "data": {
      "text/html": [
       "<div>\n",
       "<style scoped>\n",
       "    .dataframe tbody tr th:only-of-type {\n",
       "        vertical-align: middle;\n",
       "    }\n",
       "\n",
       "    .dataframe tbody tr th {\n",
       "        vertical-align: top;\n",
       "    }\n",
       "\n",
       "    .dataframe thead th {\n",
       "        text-align: right;\n",
       "    }\n",
       "</style>\n",
       "<table border=\"1\" class=\"dataframe\">\n",
       "  <thead>\n",
       "    <tr style=\"text-align: right;\">\n",
       "      <th></th>\n",
       "      <th>자격유형_A</th>\n",
       "      <th>자격유형_D</th>\n",
       "      <th>자격유형_국민임대/장기전세_공급대상</th>\n",
       "      <th>자격유형_영구임대_공급대상</th>\n",
       "      <th>자격유형_행복주택_공급대상</th>\n",
       "    </tr>\n",
       "    <tr>\n",
       "      <th>단지코드</th>\n",
       "      <th></th>\n",
       "      <th></th>\n",
       "      <th></th>\n",
       "      <th></th>\n",
       "      <th></th>\n",
       "    </tr>\n",
       "  </thead>\n",
       "  <tbody>\n",
       "    <tr>\n",
       "      <th>C1000</th>\n",
       "      <td>1.0</td>\n",
       "      <td>0.0</td>\n",
       "      <td>0.0</td>\n",
       "      <td>0.0</td>\n",
       "      <td>0.0</td>\n",
       "    </tr>\n",
       "    <tr>\n",
       "      <th>C1004</th>\n",
       "      <td>0.0</td>\n",
       "      <td>1.0</td>\n",
       "      <td>0.0</td>\n",
       "      <td>1.0</td>\n",
       "      <td>0.0</td>\n",
       "    </tr>\n",
       "    <tr>\n",
       "      <th>C1005</th>\n",
       "      <td>1.0</td>\n",
       "      <td>0.0</td>\n",
       "      <td>0.0</td>\n",
       "      <td>0.0</td>\n",
       "      <td>0.0</td>\n",
       "    </tr>\n",
       "    <tr>\n",
       "      <th>C1013</th>\n",
       "      <td>1.0</td>\n",
       "      <td>0.0</td>\n",
       "      <td>0.0</td>\n",
       "      <td>0.0</td>\n",
       "      <td>0.0</td>\n",
       "    </tr>\n",
       "    <tr>\n",
       "      <th>C1014</th>\n",
       "      <td>1.0</td>\n",
       "      <td>0.0</td>\n",
       "      <td>0.0</td>\n",
       "      <td>0.0</td>\n",
       "      <td>0.0</td>\n",
       "    </tr>\n",
       "    <tr>\n",
       "      <th>...</th>\n",
       "      <td>...</td>\n",
       "      <td>...</td>\n",
       "      <td>...</td>\n",
       "      <td>...</td>\n",
       "      <td>...</td>\n",
       "    </tr>\n",
       "    <tr>\n",
       "      <th>C2663</th>\n",
       "      <td>0.0</td>\n",
       "      <td>0.0</td>\n",
       "      <td>1.0</td>\n",
       "      <td>0.0</td>\n",
       "      <td>0.0</td>\n",
       "    </tr>\n",
       "    <tr>\n",
       "      <th>C2666</th>\n",
       "      <td>1.0</td>\n",
       "      <td>0.0</td>\n",
       "      <td>0.0</td>\n",
       "      <td>0.0</td>\n",
       "      <td>0.0</td>\n",
       "    </tr>\n",
       "    <tr>\n",
       "      <th>C2670</th>\n",
       "      <td>1.0</td>\n",
       "      <td>0.0</td>\n",
       "      <td>0.0</td>\n",
       "      <td>0.0</td>\n",
       "      <td>0.0</td>\n",
       "    </tr>\n",
       "    <tr>\n",
       "      <th>C2680</th>\n",
       "      <td>1.0</td>\n",
       "      <td>0.0</td>\n",
       "      <td>0.0</td>\n",
       "      <td>0.0</td>\n",
       "      <td>0.0</td>\n",
       "    </tr>\n",
       "    <tr>\n",
       "      <th>C2692</th>\n",
       "      <td>1.0</td>\n",
       "      <td>0.0</td>\n",
       "      <td>0.0</td>\n",
       "      <td>0.0</td>\n",
       "      <td>0.0</td>\n",
       "    </tr>\n",
       "  </tbody>\n",
       "</table>\n",
       "<p>423 rows × 5 columns</p>\n",
       "</div>"
      ],
      "text/plain": [
       "       자격유형_A  자격유형_D  자격유형_국민임대/장기전세_공급대상  자격유형_영구임대_공급대상  자격유형_행복주택_공급대상\n",
       "단지코드                                                                      \n",
       "C1000     1.0     0.0                  0.0             0.0             0.0\n",
       "C1004     0.0     1.0                  0.0             1.0             0.0\n",
       "C1005     1.0     0.0                  0.0             0.0             0.0\n",
       "C1013     1.0     0.0                  0.0             0.0             0.0\n",
       "C1014     1.0     0.0                  0.0             0.0             0.0\n",
       "...       ...     ...                  ...             ...             ...\n",
       "C2663     0.0     0.0                  1.0             0.0             0.0\n",
       "C2666     1.0     0.0                  0.0             0.0             0.0\n",
       "C2670     1.0     0.0                  0.0             0.0             0.0\n",
       "C2680     1.0     0.0                  0.0             0.0             0.0\n",
       "C2692     1.0     0.0                  0.0             0.0             0.0\n",
       "\n",
       "[423 rows x 5 columns]"
      ]
     },
     "execution_count": 61,
     "metadata": {
      "tags": []
     },
     "output_type": "execute_result"
    }
   ],
   "source": [
    "reshape_cat_features(data=train, cast_col='자격유형', value_col='counter')"
   ]
  },
  {
   "cell_type": "code",
   "execution_count": 62,
   "metadata": {
    "colab": {
     "base_uri": "https://localhost:8080/",
     "height": 0
    },
    "executionInfo": {
     "elapsed": 34,
     "status": "ok",
     "timestamp": 1628478267255,
     "user": {
      "displayName": "정재환",
      "photoUrl": "",
      "userId": "00289451058434735723"
     },
     "user_tz": -540
    },
    "id": "iNtQVCwTdjuz",
    "outputId": "af1ca9e7-262c-4519-fa0e-0e69f049633e"
   },
   "outputs": [
    {
     "data": {
      "text/html": [
       "<div>\n",
       "<style scoped>\n",
       "    .dataframe tbody tr th:only-of-type {\n",
       "        vertical-align: middle;\n",
       "    }\n",
       "\n",
       "    .dataframe tbody tr th {\n",
       "        vertical-align: top;\n",
       "    }\n",
       "\n",
       "    .dataframe thead th {\n",
       "        text-align: right;\n",
       "    }\n",
       "</style>\n",
       "<table border=\"1\" class=\"dataframe\">\n",
       "  <thead>\n",
       "    <tr style=\"text-align: right;\">\n",
       "      <th></th>\n",
       "      <th>자격유형_A</th>\n",
       "      <th>자격유형_D</th>\n",
       "      <th>자격유형_국민임대/장기전세_공급대상</th>\n",
       "      <th>자격유형_영구임대_공급대상</th>\n",
       "      <th>자격유형_행복주택_공급대상</th>\n",
       "    </tr>\n",
       "    <tr>\n",
       "      <th>단지코드</th>\n",
       "      <th></th>\n",
       "      <th></th>\n",
       "      <th></th>\n",
       "      <th></th>\n",
       "      <th></th>\n",
       "    </tr>\n",
       "  </thead>\n",
       "  <tbody>\n",
       "    <tr>\n",
       "      <th>C1003</th>\n",
       "      <td>0.0</td>\n",
       "      <td>0.0</td>\n",
       "      <td>0.0</td>\n",
       "      <td>0.0</td>\n",
       "      <td>1.0</td>\n",
       "    </tr>\n",
       "    <tr>\n",
       "      <th>C1006</th>\n",
       "      <td>0.0</td>\n",
       "      <td>1.0</td>\n",
       "      <td>0.0</td>\n",
       "      <td>1.0</td>\n",
       "      <td>0.0</td>\n",
       "    </tr>\n",
       "    <tr>\n",
       "      <th>C1016</th>\n",
       "      <td>1.0</td>\n",
       "      <td>0.0</td>\n",
       "      <td>0.0</td>\n",
       "      <td>0.0</td>\n",
       "      <td>0.0</td>\n",
       "    </tr>\n",
       "    <tr>\n",
       "      <th>C1019</th>\n",
       "      <td>1.0</td>\n",
       "      <td>0.0</td>\n",
       "      <td>0.0</td>\n",
       "      <td>0.0</td>\n",
       "      <td>0.0</td>\n",
       "    </tr>\n",
       "    <tr>\n",
       "      <th>C1030</th>\n",
       "      <td>0.0</td>\n",
       "      <td>0.0</td>\n",
       "      <td>0.0</td>\n",
       "      <td>0.0</td>\n",
       "      <td>1.0</td>\n",
       "    </tr>\n",
       "    <tr>\n",
       "      <th>...</th>\n",
       "      <td>...</td>\n",
       "      <td>...</td>\n",
       "      <td>...</td>\n",
       "      <td>...</td>\n",
       "      <td>...</td>\n",
       "    </tr>\n",
       "    <tr>\n",
       "      <th>C2653</th>\n",
       "      <td>1.0</td>\n",
       "      <td>0.0</td>\n",
       "      <td>0.0</td>\n",
       "      <td>0.0</td>\n",
       "      <td>0.0</td>\n",
       "    </tr>\n",
       "    <tr>\n",
       "      <th>C2675</th>\n",
       "      <td>1.0</td>\n",
       "      <td>0.0</td>\n",
       "      <td>0.0</td>\n",
       "      <td>0.0</td>\n",
       "      <td>0.0</td>\n",
       "    </tr>\n",
       "    <tr>\n",
       "      <th>C2676</th>\n",
       "      <td>0.0</td>\n",
       "      <td>1.0</td>\n",
       "      <td>0.0</td>\n",
       "      <td>1.0</td>\n",
       "      <td>0.0</td>\n",
       "    </tr>\n",
       "    <tr>\n",
       "      <th>C2688</th>\n",
       "      <td>0.0</td>\n",
       "      <td>0.0</td>\n",
       "      <td>1.0</td>\n",
       "      <td>1.0</td>\n",
       "      <td>0.0</td>\n",
       "    </tr>\n",
       "    <tr>\n",
       "      <th>C2691</th>\n",
       "      <td>1.0</td>\n",
       "      <td>0.0</td>\n",
       "      <td>0.0</td>\n",
       "      <td>0.0</td>\n",
       "      <td>0.0</td>\n",
       "    </tr>\n",
       "  </tbody>\n",
       "</table>\n",
       "<p>150 rows × 5 columns</p>\n",
       "</div>"
      ],
      "text/plain": [
       "       자격유형_A  자격유형_D  자격유형_국민임대/장기전세_공급대상  자격유형_영구임대_공급대상  자격유형_행복주택_공급대상\n",
       "단지코드                                                                      \n",
       "C1003     0.0     0.0                  0.0             0.0             1.0\n",
       "C1006     0.0     1.0                  0.0             1.0             0.0\n",
       "C1016     1.0     0.0                  0.0             0.0             0.0\n",
       "C1019     1.0     0.0                  0.0             0.0             0.0\n",
       "C1030     0.0     0.0                  0.0             0.0             1.0\n",
       "...       ...     ...                  ...             ...             ...\n",
       "C2653     1.0     0.0                  0.0             0.0             0.0\n",
       "C2675     1.0     0.0                  0.0             0.0             0.0\n",
       "C2676     0.0     1.0                  0.0             1.0             0.0\n",
       "C2688     0.0     0.0                  1.0             1.0             0.0\n",
       "C2691     1.0     0.0                  0.0             0.0             0.0\n",
       "\n",
       "[150 rows x 5 columns]"
      ]
     },
     "execution_count": 62,
     "metadata": {
      "tags": []
     },
     "output_type": "execute_result"
    }
   ],
   "source": [
    "reshape_cat_features(data=test, cast_col='자격유형', value_col='counter')"
   ]
  },
  {
   "cell_type": "code",
   "execution_count": 63,
   "metadata": {
    "executionInfo": {
     "elapsed": 34,
     "status": "ok",
     "timestamp": 1628478267256,
     "user": {
      "displayName": "정재환",
      "photoUrl": "",
      "userId": "00289451058434735723"
     },
     "user_tz": -540
    },
    "id": "-VcuAKozdpcq"
   },
   "outputs": [],
   "source": [
    "train_agg = pd.concat([train_agg,\n",
    "                       reshape_cat_features(data=train, cast_col='임대건물구분', value_col='counter'),\n",
    "                       reshape_cat_features(data=train, cast_col='공급유형', value_col='counter'),\n",
    "                       reshape_cat_features(data=train, cast_col='자격유형', value_col='counter')], axis=1)\n",
    "\n",
    "test_agg = pd.concat([test_agg,\n",
    "                       reshape_cat_features(data=test, cast_col='임대건물구분', value_col='counter'),\n",
    "                       reshape_cat_features(data=test, cast_col='공급유형', value_col='counter'),\n",
    "                       reshape_cat_features(data=test, cast_col='자격유형', value_col='counter')], axis=1)"
   ]
  },
  {
   "cell_type": "code",
   "execution_count": 64,
   "metadata": {
    "colab": {
     "base_uri": "https://localhost:8080/"
    },
    "executionInfo": {
     "elapsed": 33,
     "status": "ok",
     "timestamp": 1628478267256,
     "user": {
      "displayName": "정재환",
      "photoUrl": "",
      "userId": "00289451058434735723"
     },
     "user_tz": -540
    },
    "id": "GsYDNc0zdscf",
    "outputId": "bdbb356e-db10-4476-dcfd-5181b94cbcaf"
   },
   "outputs": [
    {
     "data": {
      "text/plain": [
       "((423, 20), (150, 19))"
      ]
     },
     "execution_count": 64,
     "metadata": {
      "tags": []
     },
     "output_type": "execute_result"
    }
   ],
   "source": [
    "train_agg.shape, test_agg.shape"
   ]
  },
  {
   "cell_type": "code",
   "execution_count": 65,
   "metadata": {
    "colab": {
     "base_uri": "https://localhost:8080/",
     "height": 0
    },
    "executionInfo": {
     "elapsed": 15,
     "status": "ok",
     "timestamp": 1628478267566,
     "user": {
      "displayName": "정재환",
      "photoUrl": "",
      "userId": "00289451058434735723"
     },
     "user_tz": -540
    },
    "id": "Au2qLigydxvy",
    "outputId": "2139d26a-db69-4933-d4bf-fad8820d4859"
   },
   "outputs": [
    {
     "data": {
      "text/html": [
       "<div>\n",
       "<style scoped>\n",
       "    .dataframe tbody tr th:only-of-type {\n",
       "        vertical-align: middle;\n",
       "    }\n",
       "\n",
       "    .dataframe tbody tr th {\n",
       "        vertical-align: top;\n",
       "    }\n",
       "\n",
       "    .dataframe thead th {\n",
       "        text-align: right;\n",
       "    }\n",
       "</style>\n",
       "<table border=\"1\" class=\"dataframe\">\n",
       "  <thead>\n",
       "    <tr style=\"text-align: right;\">\n",
       "      <th></th>\n",
       "      <th>총세대수</th>\n",
       "      <th>지역</th>\n",
       "      <th>공가수</th>\n",
       "      <th>도보 10분거리 내 지하철역 수(환승노선 수 반영)</th>\n",
       "      <th>도보 10분거리 내 버스정류장 수</th>\n",
       "      <th>단지내주차면수</th>\n",
       "      <th>등록차량수</th>\n",
       "      <th>임대건물구분_상가</th>\n",
       "      <th>임대건물구분_아파트</th>\n",
       "      <th>공급유형_공공임대(50년)</th>\n",
       "      <th>공급유형_공공임대(5년/10년/분납/분양)</th>\n",
       "      <th>공급유형_국민임대/장기전세</th>\n",
       "      <th>공급유형_영구임대</th>\n",
       "      <th>공급유형_임대상가</th>\n",
       "      <th>공급유형_행복주택</th>\n",
       "      <th>자격유형_A</th>\n",
       "      <th>자격유형_D</th>\n",
       "      <th>자격유형_국민임대/장기전세_공급대상</th>\n",
       "      <th>자격유형_영구임대_공급대상</th>\n",
       "      <th>자격유형_행복주택_공급대상</th>\n",
       "    </tr>\n",
       "  </thead>\n",
       "  <tbody>\n",
       "    <tr>\n",
       "      <th>C2483</th>\n",
       "      <td>900</td>\n",
       "      <td>경상북도</td>\n",
       "      <td>38.0</td>\n",
       "      <td>0.0</td>\n",
       "      <td>3.0</td>\n",
       "      <td>1425.0</td>\n",
       "      <td>1015.0</td>\n",
       "      <td>0.0</td>\n",
       "      <td>1.0</td>\n",
       "      <td>0.0</td>\n",
       "      <td>0.0</td>\n",
       "      <td>1.0</td>\n",
       "      <td>0.0</td>\n",
       "      <td>0.0</td>\n",
       "      <td>0.0</td>\n",
       "      <td>1.0</td>\n",
       "      <td>0.0</td>\n",
       "      <td>0.0</td>\n",
       "      <td>0.0</td>\n",
       "      <td>0.0</td>\n",
       "    </tr>\n",
       "    <tr>\n",
       "      <th>C2515</th>\n",
       "      <td>545</td>\n",
       "      <td>경상남도</td>\n",
       "      <td>17.0</td>\n",
       "      <td>0.0</td>\n",
       "      <td>3.0</td>\n",
       "      <td>624.0</td>\n",
       "      <td>205.0</td>\n",
       "      <td>0.0</td>\n",
       "      <td>1.0</td>\n",
       "      <td>0.0</td>\n",
       "      <td>0.0</td>\n",
       "      <td>1.0</td>\n",
       "      <td>0.0</td>\n",
       "      <td>0.0</td>\n",
       "      <td>0.0</td>\n",
       "      <td>1.0</td>\n",
       "      <td>0.0</td>\n",
       "      <td>0.0</td>\n",
       "      <td>0.0</td>\n",
       "      <td>0.0</td>\n",
       "    </tr>\n",
       "    <tr>\n",
       "      <th>C1407</th>\n",
       "      <td>1216</td>\n",
       "      <td>대전광역시</td>\n",
       "      <td>13.0</td>\n",
       "      <td>1.0</td>\n",
       "      <td>1.0</td>\n",
       "      <td>1285.0</td>\n",
       "      <td>1064.0</td>\n",
       "      <td>0.0</td>\n",
       "      <td>1.0</td>\n",
       "      <td>0.0</td>\n",
       "      <td>0.0</td>\n",
       "      <td>1.0</td>\n",
       "      <td>0.0</td>\n",
       "      <td>0.0</td>\n",
       "      <td>0.0</td>\n",
       "      <td>1.0</td>\n",
       "      <td>0.0</td>\n",
       "      <td>0.0</td>\n",
       "      <td>0.0</td>\n",
       "      <td>0.0</td>\n",
       "    </tr>\n",
       "    <tr>\n",
       "      <th>C1945</th>\n",
       "      <td>755</td>\n",
       "      <td>경기도</td>\n",
       "      <td>6.0</td>\n",
       "      <td>1.0</td>\n",
       "      <td>3.0</td>\n",
       "      <td>734.0</td>\n",
       "      <td>730.0</td>\n",
       "      <td>0.0</td>\n",
       "      <td>1.0</td>\n",
       "      <td>0.0</td>\n",
       "      <td>0.0</td>\n",
       "      <td>1.0</td>\n",
       "      <td>0.0</td>\n",
       "      <td>0.0</td>\n",
       "      <td>0.0</td>\n",
       "      <td>0.0</td>\n",
       "      <td>0.0</td>\n",
       "      <td>1.0</td>\n",
       "      <td>0.0</td>\n",
       "      <td>0.0</td>\n",
       "    </tr>\n",
       "    <tr>\n",
       "      <th>C1470</th>\n",
       "      <td>696</td>\n",
       "      <td>전라북도</td>\n",
       "      <td>14.0</td>\n",
       "      <td>0.0</td>\n",
       "      <td>2.0</td>\n",
       "      <td>645.0</td>\n",
       "      <td>553.0</td>\n",
       "      <td>0.0</td>\n",
       "      <td>1.0</td>\n",
       "      <td>0.0</td>\n",
       "      <td>0.0</td>\n",
       "      <td>1.0</td>\n",
       "      <td>0.0</td>\n",
       "      <td>0.0</td>\n",
       "      <td>0.0</td>\n",
       "      <td>1.0</td>\n",
       "      <td>0.0</td>\n",
       "      <td>0.0</td>\n",
       "      <td>0.0</td>\n",
       "      <td>0.0</td>\n",
       "    </tr>\n",
       "    <tr>\n",
       "      <th>...</th>\n",
       "      <td>...</td>\n",
       "      <td>...</td>\n",
       "      <td>...</td>\n",
       "      <td>...</td>\n",
       "      <td>...</td>\n",
       "      <td>...</td>\n",
       "      <td>...</td>\n",
       "      <td>...</td>\n",
       "      <td>...</td>\n",
       "      <td>...</td>\n",
       "      <td>...</td>\n",
       "      <td>...</td>\n",
       "      <td>...</td>\n",
       "      <td>...</td>\n",
       "      <td>...</td>\n",
       "      <td>...</td>\n",
       "      <td>...</td>\n",
       "      <td>...</td>\n",
       "      <td>...</td>\n",
       "      <td>...</td>\n",
       "    </tr>\n",
       "    <tr>\n",
       "      <th>C2586</th>\n",
       "      <td>90</td>\n",
       "      <td>제주특별자치도</td>\n",
       "      <td>7.0</td>\n",
       "      <td>0.0</td>\n",
       "      <td>3.0</td>\n",
       "      <td>66.0</td>\n",
       "      <td>57.0</td>\n",
       "      <td>0.0</td>\n",
       "      <td>1.0</td>\n",
       "      <td>0.0</td>\n",
       "      <td>0.0</td>\n",
       "      <td>0.0</td>\n",
       "      <td>0.0</td>\n",
       "      <td>0.0</td>\n",
       "      <td>1.0</td>\n",
       "      <td>0.0</td>\n",
       "      <td>0.0</td>\n",
       "      <td>0.0</td>\n",
       "      <td>0.0</td>\n",
       "      <td>1.0</td>\n",
       "    </tr>\n",
       "    <tr>\n",
       "      <th>C2035</th>\n",
       "      <td>492</td>\n",
       "      <td>강원도</td>\n",
       "      <td>24.0</td>\n",
       "      <td>0.0</td>\n",
       "      <td>1.0</td>\n",
       "      <td>521.0</td>\n",
       "      <td>246.0</td>\n",
       "      <td>0.0</td>\n",
       "      <td>1.0</td>\n",
       "      <td>0.0</td>\n",
       "      <td>0.0</td>\n",
       "      <td>1.0</td>\n",
       "      <td>0.0</td>\n",
       "      <td>0.0</td>\n",
       "      <td>0.0</td>\n",
       "      <td>1.0</td>\n",
       "      <td>0.0</td>\n",
       "      <td>0.0</td>\n",
       "      <td>0.0</td>\n",
       "      <td>0.0</td>\n",
       "    </tr>\n",
       "    <tr>\n",
       "      <th>C2020</th>\n",
       "      <td>40</td>\n",
       "      <td>부산광역시</td>\n",
       "      <td>7.0</td>\n",
       "      <td>1.0</td>\n",
       "      <td>2.0</td>\n",
       "      <td>25.0</td>\n",
       "      <td>19.0</td>\n",
       "      <td>0.0</td>\n",
       "      <td>1.0</td>\n",
       "      <td>0.0</td>\n",
       "      <td>0.0</td>\n",
       "      <td>0.0</td>\n",
       "      <td>0.0</td>\n",
       "      <td>0.0</td>\n",
       "      <td>1.0</td>\n",
       "      <td>0.0</td>\n",
       "      <td>0.0</td>\n",
       "      <td>0.0</td>\n",
       "      <td>0.0</td>\n",
       "      <td>1.0</td>\n",
       "    </tr>\n",
       "    <tr>\n",
       "      <th>C2437</th>\n",
       "      <td>90</td>\n",
       "      <td>충청북도</td>\n",
       "      <td>12.0</td>\n",
       "      <td>0.0</td>\n",
       "      <td>1.0</td>\n",
       "      <td>30.0</td>\n",
       "      <td>16.0</td>\n",
       "      <td>0.0</td>\n",
       "      <td>1.0</td>\n",
       "      <td>0.0</td>\n",
       "      <td>0.0</td>\n",
       "      <td>0.0</td>\n",
       "      <td>1.0</td>\n",
       "      <td>0.0</td>\n",
       "      <td>0.0</td>\n",
       "      <td>0.0</td>\n",
       "      <td>0.0</td>\n",
       "      <td>0.0</td>\n",
       "      <td>1.0</td>\n",
       "      <td>0.0</td>\n",
       "    </tr>\n",
       "    <tr>\n",
       "      <th>C2532</th>\n",
       "      <td>239</td>\n",
       "      <td>강원도</td>\n",
       "      <td>7.0</td>\n",
       "      <td>0.0</td>\n",
       "      <td>1.0</td>\n",
       "      <td>166.0</td>\n",
       "      <td>146.0</td>\n",
       "      <td>0.0</td>\n",
       "      <td>1.0</td>\n",
       "      <td>0.0</td>\n",
       "      <td>0.0</td>\n",
       "      <td>1.0</td>\n",
       "      <td>0.0</td>\n",
       "      <td>0.0</td>\n",
       "      <td>0.0</td>\n",
       "      <td>1.0</td>\n",
       "      <td>0.0</td>\n",
       "      <td>0.0</td>\n",
       "      <td>0.0</td>\n",
       "      <td>0.0</td>\n",
       "    </tr>\n",
       "  </tbody>\n",
       "</table>\n",
       "<p>423 rows × 20 columns</p>\n",
       "</div>"
      ],
      "text/plain": [
       "       총세대수       지역   공가수  ...  자격유형_국민임대/장기전세_공급대상  자격유형_영구임대_공급대상  자격유형_행복주택_공급대상\n",
       "C2483   900     경상북도  38.0  ...                  0.0             0.0             0.0\n",
       "C2515   545     경상남도  17.0  ...                  0.0             0.0             0.0\n",
       "C1407  1216    대전광역시  13.0  ...                  0.0             0.0             0.0\n",
       "C1945   755      경기도   6.0  ...                  1.0             0.0             0.0\n",
       "C1470   696     전라북도  14.0  ...                  0.0             0.0             0.0\n",
       "...     ...      ...   ...  ...                  ...             ...             ...\n",
       "C2586    90  제주특별자치도   7.0  ...                  0.0             0.0             1.0\n",
       "C2035   492      강원도  24.0  ...                  0.0             0.0             0.0\n",
       "C2020    40    부산광역시   7.0  ...                  0.0             0.0             1.0\n",
       "C2437    90     충청북도  12.0  ...                  0.0             1.0             0.0\n",
       "C2532   239      강원도   7.0  ...                  0.0             0.0             0.0\n",
       "\n",
       "[423 rows x 20 columns]"
      ]
     },
     "execution_count": 65,
     "metadata": {
      "tags": []
     },
     "output_type": "execute_result"
    }
   ],
   "source": [
    "train_agg"
   ]
  },
  {
   "cell_type": "code",
   "execution_count": 66,
   "metadata": {
    "colab": {
     "base_uri": "https://localhost:8080/",
     "height": 0
    },
    "executionInfo": {
     "elapsed": 14,
     "status": "ok",
     "timestamp": 1628478267567,
     "user": {
      "displayName": "정재환",
      "photoUrl": "",
      "userId": "00289451058434735723"
     },
     "user_tz": -540
    },
    "id": "Bhgo7vT0d1AD",
    "outputId": "28b50ac9-bc34-49b6-f615-9f0269852186"
   },
   "outputs": [
    {
     "data": {
      "text/html": [
       "<div>\n",
       "<style scoped>\n",
       "    .dataframe tbody tr th:only-of-type {\n",
       "        vertical-align: middle;\n",
       "    }\n",
       "\n",
       "    .dataframe tbody tr th {\n",
       "        vertical-align: top;\n",
       "    }\n",
       "\n",
       "    .dataframe thead th {\n",
       "        text-align: right;\n",
       "    }\n",
       "</style>\n",
       "<table border=\"1\" class=\"dataframe\">\n",
       "  <thead>\n",
       "    <tr style=\"text-align: right;\">\n",
       "      <th></th>\n",
       "      <th>총세대수</th>\n",
       "      <th>지역</th>\n",
       "      <th>공가수</th>\n",
       "      <th>도보 10분거리 내 지하철역 수(환승노선 수 반영)</th>\n",
       "      <th>도보 10분거리 내 버스정류장 수</th>\n",
       "      <th>단지내주차면수</th>\n",
       "      <th>임대건물구분_상가</th>\n",
       "      <th>임대건물구분_아파트</th>\n",
       "      <th>공급유형_공공임대(50년)</th>\n",
       "      <th>공급유형_공공임대(5년/10년/분납/분양)</th>\n",
       "      <th>공급유형_국민임대/장기전세</th>\n",
       "      <th>공급유형_영구임대</th>\n",
       "      <th>공급유형_임대상가</th>\n",
       "      <th>공급유형_행복주택</th>\n",
       "      <th>자격유형_A</th>\n",
       "      <th>자격유형_D</th>\n",
       "      <th>자격유형_국민임대/장기전세_공급대상</th>\n",
       "      <th>자격유형_영구임대_공급대상</th>\n",
       "      <th>자격유형_행복주택_공급대상</th>\n",
       "    </tr>\n",
       "  </thead>\n",
       "  <tbody>\n",
       "    <tr>\n",
       "      <th>C1072</th>\n",
       "      <td>754</td>\n",
       "      <td>경기도</td>\n",
       "      <td>14.0</td>\n",
       "      <td>0.0</td>\n",
       "      <td>2.0</td>\n",
       "      <td>683.0</td>\n",
       "      <td>0.0</td>\n",
       "      <td>1.0</td>\n",
       "      <td>0.0</td>\n",
       "      <td>0.0</td>\n",
       "      <td>1.0</td>\n",
       "      <td>0.0</td>\n",
       "      <td>0.0</td>\n",
       "      <td>0.0</td>\n",
       "      <td>1.0</td>\n",
       "      <td>0.0</td>\n",
       "      <td>1.0</td>\n",
       "      <td>0.0</td>\n",
       "      <td>0.0</td>\n",
       "    </tr>\n",
       "    <tr>\n",
       "      <th>C1128</th>\n",
       "      <td>1354</td>\n",
       "      <td>경기도</td>\n",
       "      <td>9.0</td>\n",
       "      <td>0.0</td>\n",
       "      <td>3.0</td>\n",
       "      <td>1216.0</td>\n",
       "      <td>0.0</td>\n",
       "      <td>1.0</td>\n",
       "      <td>0.0</td>\n",
       "      <td>0.0</td>\n",
       "      <td>1.0</td>\n",
       "      <td>0.0</td>\n",
       "      <td>0.0</td>\n",
       "      <td>0.0</td>\n",
       "      <td>1.0</td>\n",
       "      <td>0.0</td>\n",
       "      <td>1.0</td>\n",
       "      <td>0.0</td>\n",
       "      <td>0.0</td>\n",
       "    </tr>\n",
       "    <tr>\n",
       "      <th>C1456</th>\n",
       "      <td>619</td>\n",
       "      <td>부산광역시</td>\n",
       "      <td>18.0</td>\n",
       "      <td>0.0</td>\n",
       "      <td>16.0</td>\n",
       "      <td>547.0</td>\n",
       "      <td>0.0</td>\n",
       "      <td>1.0</td>\n",
       "      <td>0.0</td>\n",
       "      <td>0.0</td>\n",
       "      <td>1.0</td>\n",
       "      <td>0.0</td>\n",
       "      <td>0.0</td>\n",
       "      <td>0.0</td>\n",
       "      <td>1.0</td>\n",
       "      <td>0.0</td>\n",
       "      <td>0.0</td>\n",
       "      <td>0.0</td>\n",
       "      <td>0.0</td>\n",
       "    </tr>\n",
       "    <tr>\n",
       "      <th>C1840</th>\n",
       "      <td>593</td>\n",
       "      <td>전라북도</td>\n",
       "      <td>7.0</td>\n",
       "      <td>0.0</td>\n",
       "      <td>3.0</td>\n",
       "      <td>543.0</td>\n",
       "      <td>0.0</td>\n",
       "      <td>1.0</td>\n",
       "      <td>0.0</td>\n",
       "      <td>0.0</td>\n",
       "      <td>1.0</td>\n",
       "      <td>0.0</td>\n",
       "      <td>0.0</td>\n",
       "      <td>0.0</td>\n",
       "      <td>1.0</td>\n",
       "      <td>0.0</td>\n",
       "      <td>0.0</td>\n",
       "      <td>0.0</td>\n",
       "      <td>0.0</td>\n",
       "    </tr>\n",
       "    <tr>\n",
       "      <th>C1332</th>\n",
       "      <td>1297</td>\n",
       "      <td>경기도</td>\n",
       "      <td>11.0</td>\n",
       "      <td>0.0</td>\n",
       "      <td>2.0</td>\n",
       "      <td>1112.0</td>\n",
       "      <td>0.0</td>\n",
       "      <td>1.0</td>\n",
       "      <td>0.0</td>\n",
       "      <td>0.0</td>\n",
       "      <td>1.0</td>\n",
       "      <td>0.0</td>\n",
       "      <td>0.0</td>\n",
       "      <td>0.0</td>\n",
       "      <td>0.0</td>\n",
       "      <td>0.0</td>\n",
       "      <td>1.0</td>\n",
       "      <td>0.0</td>\n",
       "      <td>0.0</td>\n",
       "    </tr>\n",
       "    <tr>\n",
       "      <th>...</th>\n",
       "      <td>...</td>\n",
       "      <td>...</td>\n",
       "      <td>...</td>\n",
       "      <td>...</td>\n",
       "      <td>...</td>\n",
       "      <td>...</td>\n",
       "      <td>...</td>\n",
       "      <td>...</td>\n",
       "      <td>...</td>\n",
       "      <td>...</td>\n",
       "      <td>...</td>\n",
       "      <td>...</td>\n",
       "      <td>...</td>\n",
       "      <td>...</td>\n",
       "      <td>...</td>\n",
       "      <td>...</td>\n",
       "      <td>...</td>\n",
       "      <td>...</td>\n",
       "      <td>...</td>\n",
       "    </tr>\n",
       "    <tr>\n",
       "      <th>C2456</th>\n",
       "      <td>349</td>\n",
       "      <td>제주특별자치도</td>\n",
       "      <td>17.0</td>\n",
       "      <td>0.0</td>\n",
       "      <td>4.0</td>\n",
       "      <td>270.0</td>\n",
       "      <td>0.0</td>\n",
       "      <td>1.0</td>\n",
       "      <td>0.0</td>\n",
       "      <td>0.0</td>\n",
       "      <td>1.0</td>\n",
       "      <td>0.0</td>\n",
       "      <td>0.0</td>\n",
       "      <td>0.0</td>\n",
       "      <td>0.0</td>\n",
       "      <td>0.0</td>\n",
       "      <td>1.0</td>\n",
       "      <td>0.0</td>\n",
       "      <td>0.0</td>\n",
       "    </tr>\n",
       "    <tr>\n",
       "      <th>C1266</th>\n",
       "      <td>596</td>\n",
       "      <td>충청북도</td>\n",
       "      <td>35.0</td>\n",
       "      <td>0.0</td>\n",
       "      <td>1.0</td>\n",
       "      <td>593.0</td>\n",
       "      <td>0.0</td>\n",
       "      <td>1.0</td>\n",
       "      <td>0.0</td>\n",
       "      <td>0.0</td>\n",
       "      <td>1.0</td>\n",
       "      <td>0.0</td>\n",
       "      <td>0.0</td>\n",
       "      <td>0.0</td>\n",
       "      <td>0.0</td>\n",
       "      <td>0.0</td>\n",
       "      <td>1.0</td>\n",
       "      <td>0.0</td>\n",
       "      <td>0.0</td>\n",
       "    </tr>\n",
       "    <tr>\n",
       "      <th>C2152</th>\n",
       "      <td>120</td>\n",
       "      <td>강원도</td>\n",
       "      <td>9.0</td>\n",
       "      <td>0.0</td>\n",
       "      <td>1.0</td>\n",
       "      <td>40.0</td>\n",
       "      <td>0.0</td>\n",
       "      <td>1.0</td>\n",
       "      <td>0.0</td>\n",
       "      <td>0.0</td>\n",
       "      <td>0.0</td>\n",
       "      <td>1.0</td>\n",
       "      <td>0.0</td>\n",
       "      <td>0.0</td>\n",
       "      <td>0.0</td>\n",
       "      <td>0.0</td>\n",
       "      <td>0.0</td>\n",
       "      <td>1.0</td>\n",
       "      <td>0.0</td>\n",
       "    </tr>\n",
       "    <tr>\n",
       "      <th>C1267</th>\n",
       "      <td>675</td>\n",
       "      <td>경상남도</td>\n",
       "      <td>38.0</td>\n",
       "      <td>0.0</td>\n",
       "      <td>1.0</td>\n",
       "      <td>467.0</td>\n",
       "      <td>0.0</td>\n",
       "      <td>1.0</td>\n",
       "      <td>0.0</td>\n",
       "      <td>0.0</td>\n",
       "      <td>1.0</td>\n",
       "      <td>1.0</td>\n",
       "      <td>0.0</td>\n",
       "      <td>1.0</td>\n",
       "      <td>0.0</td>\n",
       "      <td>0.0</td>\n",
       "      <td>1.0</td>\n",
       "      <td>1.0</td>\n",
       "      <td>1.0</td>\n",
       "    </tr>\n",
       "    <tr>\n",
       "      <th>C2189</th>\n",
       "      <td>382</td>\n",
       "      <td>전라북도</td>\n",
       "      <td>45.0</td>\n",
       "      <td>0.0</td>\n",
       "      <td>2.0</td>\n",
       "      <td>300.0</td>\n",
       "      <td>0.0</td>\n",
       "      <td>1.0</td>\n",
       "      <td>0.0</td>\n",
       "      <td>0.0</td>\n",
       "      <td>1.0</td>\n",
       "      <td>0.0</td>\n",
       "      <td>0.0</td>\n",
       "      <td>0.0</td>\n",
       "      <td>0.0</td>\n",
       "      <td>0.0</td>\n",
       "      <td>1.0</td>\n",
       "      <td>0.0</td>\n",
       "      <td>0.0</td>\n",
       "    </tr>\n",
       "  </tbody>\n",
       "</table>\n",
       "<p>150 rows × 19 columns</p>\n",
       "</div>"
      ],
      "text/plain": [
       "       총세대수       지역   공가수  ...  자격유형_국민임대/장기전세_공급대상  자격유형_영구임대_공급대상  자격유형_행복주택_공급대상\n",
       "C1072   754      경기도  14.0  ...                  1.0             0.0             0.0\n",
       "C1128  1354      경기도   9.0  ...                  1.0             0.0             0.0\n",
       "C1456   619    부산광역시  18.0  ...                  0.0             0.0             0.0\n",
       "C1840   593     전라북도   7.0  ...                  0.0             0.0             0.0\n",
       "C1332  1297      경기도  11.0  ...                  1.0             0.0             0.0\n",
       "...     ...      ...   ...  ...                  ...             ...             ...\n",
       "C2456   349  제주특별자치도  17.0  ...                  1.0             0.0             0.0\n",
       "C1266   596     충청북도  35.0  ...                  1.0             0.0             0.0\n",
       "C2152   120      강원도   9.0  ...                  0.0             1.0             0.0\n",
       "C1267   675     경상남도  38.0  ...                  1.0             1.0             1.0\n",
       "C2189   382     전라북도  45.0  ...                  1.0             0.0             0.0\n",
       "\n",
       "[150 rows x 19 columns]"
      ]
     },
     "execution_count": 66,
     "metadata": {
      "tags": []
     },
     "output_type": "execute_result"
    }
   ],
   "source": [
    "test_agg"
   ]
  },
  {
   "cell_type": "markdown",
   "metadata": {
    "id": "uLNNYOTJiOqn"
   },
   "source": [
    "### 문자형 데이터 숫자로 매핑"
   ]
  },
  {
   "cell_type": "code",
   "execution_count": 67,
   "metadata": {
    "executionInfo": {
     "elapsed": 13,
     "status": "ok",
     "timestamp": 1628478267568,
     "user": {
      "displayName": "정재환",
      "photoUrl": "",
      "userId": "00289451058434735723"
     },
     "user_tz": -540
    },
    "id": "2Fc1w7jDiOSj"
   },
   "outputs": [],
   "source": [
    "local_map={}\n",
    "for i, loc in enumerate(train_agg['지역'].unique()):\n",
    "  local_map[loc]=i\n",
    "\n",
    "train_agg['지역'] = train_agg['지역'].map(local_map)\n",
    "test_agg['지역'] = test_agg['지역'].map(local_map)"
   ]
  },
  {
   "cell_type": "code",
   "execution_count": 68,
   "metadata": {
    "colab": {
     "base_uri": "https://localhost:8080/"
    },
    "executionInfo": {
     "elapsed": 12,
     "status": "ok",
     "timestamp": 1628478267568,
     "user": {
      "displayName": "정재환",
      "photoUrl": "",
      "userId": "00289451058434735723"
     },
     "user_tz": -540
    },
    "id": "Xb-zqd14i5iZ",
    "outputId": "00e93189-d740-4604-d000-fe1e32dcbd77"
   },
   "outputs": [
    {
     "data": {
      "text/plain": [
       "(       총세대수  지역   공가수  ...  자격유형_국민임대/장기전세_공급대상  자격유형_영구임대_공급대상  자격유형_행복주택_공급대상\n",
       " C2483   900   0  38.0  ...                  0.0             0.0             0.0\n",
       " C2515   545   1  17.0  ...                  0.0             0.0             0.0\n",
       " C1407  1216   2  13.0  ...                  0.0             0.0             0.0\n",
       " C1945   755   3   6.0  ...                  1.0             0.0             0.0\n",
       " C1470   696   4  14.0  ...                  0.0             0.0             0.0\n",
       " ...     ...  ..   ...  ...                  ...             ...             ...\n",
       " C2586    90   9   7.0  ...                  0.0             0.0             1.0\n",
       " C2035   492   5  24.0  ...                  0.0             0.0             0.0\n",
       " C2020    40   8   7.0  ...                  0.0             0.0             1.0\n",
       " C2437    90  11  12.0  ...                  0.0             1.0             0.0\n",
       " C2532   239   5   7.0  ...                  0.0             0.0             0.0\n",
       " \n",
       " [423 rows x 20 columns],\n",
       "        총세대수  지역   공가수  ...  자격유형_국민임대/장기전세_공급대상  자격유형_영구임대_공급대상  자격유형_행복주택_공급대상\n",
       " C1072   754   3  14.0  ...                  1.0             0.0             0.0\n",
       " C1128  1354   3   9.0  ...                  1.0             0.0             0.0\n",
       " C1456   619   8  18.0  ...                  0.0             0.0             0.0\n",
       " C1840   593   4   7.0  ...                  0.0             0.0             0.0\n",
       " C1332  1297   3  11.0  ...                  1.0             0.0             0.0\n",
       " ...     ...  ..   ...  ...                  ...             ...             ...\n",
       " C2456   349   9  17.0  ...                  1.0             0.0             0.0\n",
       " C1266   596  11  35.0  ...                  1.0             0.0             0.0\n",
       " C2152   120   5   9.0  ...                  0.0             1.0             0.0\n",
       " C1267   675   1  38.0  ...                  1.0             1.0             1.0\n",
       " C2189   382   4  45.0  ...                  1.0             0.0             0.0\n",
       " \n",
       " [150 rows x 19 columns])"
      ]
     },
     "execution_count": 68,
     "metadata": {
      "tags": []
     },
     "output_type": "execute_result"
    }
   ],
   "source": [
    "train_agg, test_agg"
   ]
  },
  {
   "cell_type": "markdown",
   "metadata": {
    "id": "cCJJ_En-eAcz"
   },
   "source": [
    "# 2. Catboost 모델링"
   ]
  },
  {
   "cell_type": "code",
   "execution_count": 136,
   "metadata": {
    "executionInfo": {
     "elapsed": 321,
     "status": "ok",
     "timestamp": 1628481469255,
     "user": {
      "displayName": "정재환",
      "photoUrl": "",
      "userId": "00289451058434735723"
     },
     "user_tz": -540
    },
    "id": "DoGn3hgRd6md"
   },
   "outputs": [],
   "source": [
    "cat_features = ['지역']\n",
    "target_col = '등록차량수'"
   ]
  },
  {
   "cell_type": "code",
   "execution_count": 70,
   "metadata": {
    "colab": {
     "base_uri": "https://localhost:8080/"
    },
    "executionInfo": {
     "elapsed": 12673,
     "status": "ok",
     "timestamp": 1628478280232,
     "user": {
      "displayName": "정재환",
      "photoUrl": "",
      "userId": "00289451058434735723"
     },
     "user_tz": -540
    },
    "id": "3FbFXcSxejzl",
    "outputId": "b1d1de57-2d31-49d3-f7c0-f502704589b1"
   },
   "outputs": [
    {
     "name": "stdout",
     "output_type": "stream",
     "text": [
      "Collecting catboost\n",
      "  Downloading catboost-0.26.1-cp37-none-manylinux1_x86_64.whl (67.4 MB)\n",
      "\u001b[K     |████████████████████████████████| 67.4 MB 26 kB/s \n",
      "\u001b[?25hRequirement already satisfied: graphviz in /usr/local/lib/python3.7/dist-packages (from catboost) (0.10.1)\n",
      "Requirement already satisfied: six in /usr/local/lib/python3.7/dist-packages (from catboost) (1.15.0)\n",
      "Requirement already satisfied: pandas>=0.24.0 in /usr/local/lib/python3.7/dist-packages (from catboost) (1.1.5)\n",
      "Requirement already satisfied: matplotlib in /usr/local/lib/python3.7/dist-packages (from catboost) (3.2.2)\n",
      "Requirement already satisfied: numpy>=1.16.0 in /usr/local/lib/python3.7/dist-packages (from catboost) (1.19.5)\n",
      "Requirement already satisfied: plotly in /usr/local/lib/python3.7/dist-packages (from catboost) (4.4.1)\n",
      "Requirement already satisfied: scipy in /usr/local/lib/python3.7/dist-packages (from catboost) (1.4.1)\n",
      "Requirement already satisfied: pytz>=2017.2 in /usr/local/lib/python3.7/dist-packages (from pandas>=0.24.0->catboost) (2018.9)\n",
      "Requirement already satisfied: python-dateutil>=2.7.3 in /usr/local/lib/python3.7/dist-packages (from pandas>=0.24.0->catboost) (2.8.1)\n",
      "Requirement already satisfied: kiwisolver>=1.0.1 in /usr/local/lib/python3.7/dist-packages (from matplotlib->catboost) (1.3.1)\n",
      "Requirement already satisfied: pyparsing!=2.0.4,!=2.1.2,!=2.1.6,>=2.0.1 in /usr/local/lib/python3.7/dist-packages (from matplotlib->catboost) (2.4.7)\n",
      "Requirement already satisfied: cycler>=0.10 in /usr/local/lib/python3.7/dist-packages (from matplotlib->catboost) (0.10.0)\n",
      "Requirement already satisfied: retrying>=1.3.3 in /usr/local/lib/python3.7/dist-packages (from plotly->catboost) (1.3.3)\n",
      "Installing collected packages: catboost\n",
      "Successfully installed catboost-0.26.1\n"
     ]
    }
   ],
   "source": [
    "!pip install catboost\n"
   ]
  },
  {
   "cell_type": "code",
   "execution_count": 155,
   "metadata": {
    "colab": {
     "base_uri": "https://localhost:8080/"
    },
    "executionInfo": {
     "elapsed": 1388,
     "status": "ok",
     "timestamp": 1628483587579,
     "user": {
      "displayName": "정재환",
      "photoUrl": "",
      "userId": "00289451058434735723"
     },
     "user_tz": -540
    },
    "id": "8qNFsU_zeEjy",
    "outputId": "386954e7-41ae-4f46-9567-040f78d3c4b1"
   },
   "outputs": [
    {
     "name": "stdout",
     "output_type": "stream",
     "text": [
      "0:\tlearn: 277.4118196\ttest: 235.2392934\tbest: 235.2392934 (0)\ttotal: 2.14ms\tremaining: 1.07s\n",
      "1:\tlearn: 266.4298379\ttest: 224.0178113\tbest: 224.0178113 (1)\ttotal: 4.07ms\tremaining: 1.01s\n",
      "2:\tlearn: 257.8292417\ttest: 215.3368427\tbest: 215.3368427 (2)\ttotal: 5.95ms\tremaining: 985ms\n",
      "3:\tlearn: 247.1759720\ttest: 205.9418052\tbest: 205.9418052 (3)\ttotal: 8.06ms\tremaining: 1000ms\n",
      "4:\tlearn: 239.3176483\ttest: 197.9013684\tbest: 197.9013684 (4)\ttotal: 10.2ms\tremaining: 1s\n",
      "5:\tlearn: 232.1573703\ttest: 189.5980473\tbest: 189.5980473 (5)\ttotal: 12.2ms\tremaining: 1.01s\n",
      "6:\tlearn: 224.9485614\ttest: 183.0866966\tbest: 183.0866966 (6)\ttotal: 14.7ms\tremaining: 1.03s\n",
      "7:\tlearn: 217.3364841\ttest: 177.4263119\tbest: 177.4263119 (7)\ttotal: 16.7ms\tremaining: 1.03s\n",
      "8:\tlearn: 210.9650769\ttest: 171.9356024\tbest: 171.9356024 (8)\ttotal: 18.7ms\tremaining: 1.02s\n",
      "9:\tlearn: 205.7324996\ttest: 167.7201681\tbest: 167.7201681 (9)\ttotal: 20.9ms\tremaining: 1.02s\n",
      "10:\tlearn: 199.5489605\ttest: 163.0527807\tbest: 163.0527807 (10)\ttotal: 22.9ms\tremaining: 1.02s\n",
      "11:\tlearn: 193.6559827\ttest: 158.9715618\tbest: 158.9715618 (11)\ttotal: 24.9ms\tremaining: 1.01s\n",
      "12:\tlearn: 188.7168138\ttest: 155.6135229\tbest: 155.6135229 (12)\ttotal: 27ms\tremaining: 1.01s\n",
      "13:\tlearn: 182.9429046\ttest: 151.7049019\tbest: 151.7049019 (13)\ttotal: 29ms\tremaining: 1.01s\n",
      "14:\tlearn: 177.3669128\ttest: 147.6177201\tbest: 147.6177201 (14)\ttotal: 31.1ms\tremaining: 1s\n",
      "15:\tlearn: 173.7283276\ttest: 144.9155846\tbest: 144.9155846 (15)\ttotal: 33.1ms\tremaining: 1s\n",
      "16:\tlearn: 170.7903843\ttest: 142.6634268\tbest: 142.6634268 (16)\ttotal: 35.2ms\tremaining: 1000ms\n",
      "17:\tlearn: 166.3319233\ttest: 139.4226745\tbest: 139.4226745 (17)\ttotal: 37.3ms\tremaining: 998ms\n",
      "18:\tlearn: 164.0785773\ttest: 137.7787316\tbest: 137.7787316 (18)\ttotal: 39.3ms\tremaining: 994ms\n",
      "19:\tlearn: 161.8593207\ttest: 136.3524437\tbest: 136.3524437 (19)\ttotal: 41.3ms\tremaining: 990ms\n",
      "20:\tlearn: 159.3060314\ttest: 135.2403276\tbest: 135.2403276 (20)\ttotal: 43.3ms\tremaining: 987ms\n",
      "21:\tlearn: 156.7643183\ttest: 133.6485036\tbest: 133.6485036 (21)\ttotal: 45.3ms\tremaining: 985ms\n",
      "22:\tlearn: 154.3704000\ttest: 131.7660313\tbest: 131.7660313 (22)\ttotal: 47.3ms\tremaining: 982ms\n",
      "23:\tlearn: 151.2917550\ttest: 130.4165861\tbest: 130.4165861 (23)\ttotal: 49.3ms\tremaining: 979ms\n",
      "24:\tlearn: 149.5582076\ttest: 129.4985758\tbest: 129.4985758 (24)\ttotal: 51.4ms\tremaining: 976ms\n",
      "25:\tlearn: 146.8372911\ttest: 128.0141150\tbest: 128.0141150 (25)\ttotal: 53.4ms\tremaining: 973ms\n",
      "26:\tlearn: 144.4850387\ttest: 126.8016779\tbest: 126.8016779 (26)\ttotal: 55.3ms\tremaining: 969ms\n",
      "27:\tlearn: 142.9674146\ttest: 125.8682788\tbest: 125.8682788 (27)\ttotal: 57.4ms\tremaining: 967ms\n",
      "28:\tlearn: 140.9117964\ttest: 125.1784237\tbest: 125.1784237 (28)\ttotal: 59.5ms\tremaining: 967ms\n",
      "29:\tlearn: 139.2924691\ttest: 124.3252116\tbest: 124.3252116 (29)\ttotal: 61.7ms\tremaining: 966ms\n",
      "30:\tlearn: 137.0796383\ttest: 122.8157854\tbest: 122.8157854 (30)\ttotal: 63.8ms\tremaining: 965ms\n",
      "31:\tlearn: 135.7282865\ttest: 122.2334213\tbest: 122.2334213 (31)\ttotal: 65.9ms\tremaining: 964ms\n",
      "32:\tlearn: 133.7242740\ttest: 121.3974832\tbest: 121.3974832 (32)\ttotal: 68.1ms\tremaining: 963ms\n",
      "33:\tlearn: 132.8078512\ttest: 120.8961461\tbest: 120.8961461 (33)\ttotal: 70.1ms\tremaining: 960ms\n",
      "34:\tlearn: 131.8061191\ttest: 120.3115932\tbest: 120.3115932 (34)\ttotal: 71.5ms\tremaining: 950ms\n",
      "35:\tlearn: 130.9381627\ttest: 119.5670090\tbest: 119.5670090 (35)\ttotal: 73.5ms\tremaining: 947ms\n",
      "36:\tlearn: 129.3185522\ttest: 118.4166282\tbest: 118.4166282 (36)\ttotal: 75.5ms\tremaining: 945ms\n",
      "37:\tlearn: 128.4820368\ttest: 118.2210797\tbest: 118.2210797 (37)\ttotal: 76.6ms\tremaining: 932ms\n",
      "38:\tlearn: 128.1322758\ttest: 117.9576488\tbest: 117.9576488 (38)\ttotal: 77.3ms\tremaining: 914ms\n",
      "39:\tlearn: 126.8059024\ttest: 117.5093837\tbest: 117.5093837 (39)\ttotal: 79.3ms\tremaining: 912ms\n",
      "40:\tlearn: 125.5338750\ttest: 117.2569121\tbest: 117.2569121 (40)\ttotal: 81.3ms\tremaining: 911ms\n",
      "41:\tlearn: 124.0987920\ttest: 116.6498892\tbest: 116.6498892 (41)\ttotal: 83.4ms\tremaining: 909ms\n",
      "42:\tlearn: 123.0618906\ttest: 115.7950522\tbest: 115.7950522 (42)\ttotal: 85.4ms\tremaining: 908ms\n",
      "43:\tlearn: 121.7272288\ttest: 115.5102754\tbest: 115.5102754 (43)\ttotal: 87.6ms\tremaining: 907ms\n",
      "44:\tlearn: 120.2876812\ttest: 115.0157542\tbest: 115.0157542 (44)\ttotal: 89.6ms\tremaining: 906ms\n",
      "45:\tlearn: 119.4256778\ttest: 114.7328562\tbest: 114.7328562 (45)\ttotal: 91.7ms\tremaining: 905ms\n",
      "46:\tlearn: 118.3704992\ttest: 114.3454178\tbest: 114.3454178 (46)\ttotal: 93.7ms\tremaining: 903ms\n",
      "47:\tlearn: 117.2665438\ttest: 113.8167811\tbest: 113.8167811 (47)\ttotal: 95.8ms\tremaining: 902ms\n",
      "48:\tlearn: 116.1458990\ttest: 113.2024552\tbest: 113.2024552 (48)\ttotal: 97.8ms\tremaining: 900ms\n",
      "49:\tlearn: 115.4158589\ttest: 113.0380956\tbest: 113.0380956 (49)\ttotal: 99.8ms\tremaining: 898ms\n",
      "50:\tlearn: 115.1057153\ttest: 112.8334761\tbest: 112.8334761 (50)\ttotal: 102ms\tremaining: 896ms\n",
      "51:\tlearn: 114.4351588\ttest: 112.7642135\tbest: 112.7642135 (51)\ttotal: 104ms\tremaining: 894ms\n",
      "52:\tlearn: 113.3377115\ttest: 111.9625734\tbest: 111.9625734 (52)\ttotal: 106ms\tremaining: 894ms\n",
      "53:\tlearn: 112.6724317\ttest: 111.8733187\tbest: 111.8733187 (53)\ttotal: 108ms\tremaining: 893ms\n",
      "54:\tlearn: 112.0386355\ttest: 111.6283834\tbest: 111.6283834 (54)\ttotal: 110ms\tremaining: 891ms\n",
      "55:\tlearn: 111.5942330\ttest: 111.5812641\tbest: 111.5812641 (55)\ttotal: 112ms\tremaining: 890ms\n",
      "56:\tlearn: 111.5028492\ttest: 111.5222066\tbest: 111.5222066 (56)\ttotal: 113ms\tremaining: 881ms\n",
      "57:\tlearn: 111.4146852\ttest: 111.4922192\tbest: 111.4922192 (57)\ttotal: 114ms\tremaining: 869ms\n",
      "58:\tlearn: 110.9532102\ttest: 110.4348369\tbest: 110.4348369 (58)\ttotal: 116ms\tremaining: 868ms\n",
      "59:\tlearn: 110.4277742\ttest: 109.9620974\tbest: 109.9620974 (59)\ttotal: 118ms\tremaining: 866ms\n",
      "60:\tlearn: 109.7360472\ttest: 109.7892532\tbest: 109.7892532 (60)\ttotal: 120ms\tremaining: 865ms\n",
      "61:\tlearn: 109.1210498\ttest: 109.4971868\tbest: 109.4971868 (61)\ttotal: 122ms\tremaining: 864ms\n",
      "62:\tlearn: 108.6034599\ttest: 109.3469890\tbest: 109.3469890 (62)\ttotal: 126ms\tremaining: 874ms\n",
      "63:\tlearn: 108.2019298\ttest: 109.1544557\tbest: 109.1544557 (63)\ttotal: 128ms\tremaining: 872ms\n",
      "64:\tlearn: 107.5040527\ttest: 108.8846549\tbest: 108.8846549 (64)\ttotal: 130ms\tremaining: 872ms\n",
      "65:\tlearn: 107.1167070\ttest: 108.7391878\tbest: 108.7391878 (65)\ttotal: 132ms\tremaining: 870ms\n",
      "66:\tlearn: 107.0491485\ttest: 108.7920011\tbest: 108.7391878 (65)\ttotal: 133ms\tremaining: 862ms\n",
      "67:\tlearn: 106.7967446\ttest: 108.4641836\tbest: 108.4641836 (67)\ttotal: 135ms\tremaining: 860ms\n",
      "68:\tlearn: 106.4013138\ttest: 108.2988889\tbest: 108.2988889 (68)\ttotal: 137ms\tremaining: 858ms\n",
      "69:\tlearn: 105.9722593\ttest: 107.7877421\tbest: 107.7877421 (69)\ttotal: 139ms\tremaining: 857ms\n",
      "70:\tlearn: 105.4944209\ttest: 107.5724105\tbest: 107.5724105 (70)\ttotal: 141ms\tremaining: 855ms\n",
      "71:\tlearn: 104.7514038\ttest: 107.8596300\tbest: 107.5724105 (70)\ttotal: 143ms\tremaining: 853ms\n",
      "72:\tlearn: 104.4266806\ttest: 107.6913304\tbest: 107.5724105 (70)\ttotal: 146ms\tremaining: 851ms\n",
      "73:\tlearn: 103.6381788\ttest: 107.4510389\tbest: 107.4510389 (73)\ttotal: 148ms\tremaining: 849ms\n",
      "74:\tlearn: 103.3153266\ttest: 107.3697040\tbest: 107.3697040 (74)\ttotal: 150ms\tremaining: 847ms\n",
      "75:\tlearn: 103.0882710\ttest: 107.2845371\tbest: 107.2845371 (75)\ttotal: 152ms\tremaining: 845ms\n",
      "76:\tlearn: 102.1676480\ttest: 106.8792555\tbest: 106.8792555 (76)\ttotal: 154ms\tremaining: 844ms\n",
      "77:\tlearn: 101.5587415\ttest: 106.9666029\tbest: 106.8792555 (76)\ttotal: 156ms\tremaining: 842ms\n",
      "78:\tlearn: 100.8929592\ttest: 106.5406483\tbest: 106.5406483 (78)\ttotal: 158ms\tremaining: 841ms\n",
      "79:\tlearn: 100.5733453\ttest: 106.3140578\tbest: 106.3140578 (79)\ttotal: 160ms\tremaining: 839ms\n",
      "80:\tlearn: 100.1736365\ttest: 105.8037401\tbest: 105.8037401 (80)\ttotal: 162ms\tremaining: 837ms\n",
      "81:\tlearn: 99.4886055\ttest: 105.6272948\tbest: 105.6272948 (81)\ttotal: 164ms\tremaining: 835ms\n",
      "82:\tlearn: 99.1319978\ttest: 105.4760135\tbest: 105.4760135 (82)\ttotal: 166ms\tremaining: 833ms\n",
      "83:\tlearn: 98.5281263\ttest: 105.2722901\tbest: 105.2722901 (83)\ttotal: 168ms\tremaining: 830ms\n",
      "84:\tlearn: 97.6999463\ttest: 105.2100007\tbest: 105.2100007 (84)\ttotal: 170ms\tremaining: 828ms\n",
      "85:\tlearn: 97.5013846\ttest: 105.0706082\tbest: 105.0706082 (85)\ttotal: 172ms\tremaining: 827ms\n",
      "86:\tlearn: 97.1265062\ttest: 105.0564636\tbest: 105.0564636 (86)\ttotal: 174ms\tremaining: 825ms\n",
      "87:\tlearn: 96.4533267\ttest: 104.9254604\tbest: 104.9254604 (87)\ttotal: 176ms\tremaining: 823ms\n",
      "88:\tlearn: 96.2375084\ttest: 104.8403562\tbest: 104.8403562 (88)\ttotal: 178ms\tremaining: 820ms\n",
      "89:\tlearn: 95.5228490\ttest: 104.2148828\tbest: 104.2148828 (89)\ttotal: 180ms\tremaining: 819ms\n",
      "90:\tlearn: 95.1952079\ttest: 103.8597526\tbest: 103.8597526 (90)\ttotal: 182ms\tremaining: 816ms\n",
      "91:\tlearn: 94.7591992\ttest: 103.6621699\tbest: 103.6621699 (91)\ttotal: 184ms\tremaining: 814ms\n",
      "92:\tlearn: 94.6655287\ttest: 103.6147631\tbest: 103.6147631 (92)\ttotal: 185ms\tremaining: 810ms\n",
      "93:\tlearn: 94.5101514\ttest: 103.2895115\tbest: 103.2895115 (93)\ttotal: 186ms\tremaining: 804ms\n",
      "94:\tlearn: 94.1729089\ttest: 103.2305173\tbest: 103.2305173 (94)\ttotal: 190ms\tremaining: 810ms\n",
      "95:\tlearn: 93.9863711\ttest: 103.0921499\tbest: 103.0921499 (95)\ttotal: 194ms\tremaining: 815ms\n",
      "96:\tlearn: 93.6144355\ttest: 102.7331898\tbest: 102.7331898 (96)\ttotal: 200ms\tremaining: 832ms\n",
      "97:\tlearn: 92.7901301\ttest: 102.2965915\tbest: 102.2965915 (97)\ttotal: 203ms\tremaining: 833ms\n",
      "98:\tlearn: 92.6138082\ttest: 102.1134898\tbest: 102.1134898 (98)\ttotal: 206ms\tremaining: 834ms\n",
      "99:\tlearn: 92.5200904\ttest: 102.0379537\tbest: 102.0379537 (99)\ttotal: 208ms\tremaining: 832ms\n",
      "100:\tlearn: 92.0008574\ttest: 101.9993688\tbest: 101.9993688 (100)\ttotal: 210ms\tremaining: 830ms\n",
      "101:\tlearn: 91.6377017\ttest: 101.9515996\tbest: 101.9515996 (101)\ttotal: 212ms\tremaining: 828ms\n",
      "102:\tlearn: 91.3122986\ttest: 101.8439974\tbest: 101.8439974 (102)\ttotal: 215ms\tremaining: 827ms\n",
      "103:\tlearn: 91.0717866\ttest: 101.5540236\tbest: 101.5540236 (103)\ttotal: 217ms\tremaining: 826ms\n",
      "104:\tlearn: 90.5903333\ttest: 100.8814301\tbest: 100.8814301 (104)\ttotal: 219ms\tremaining: 824ms\n",
      "105:\tlearn: 90.4424284\ttest: 100.7308700\tbest: 100.7308700 (105)\ttotal: 221ms\tremaining: 822ms\n",
      "106:\tlearn: 90.1727777\ttest: 100.5583219\tbest: 100.5583219 (106)\ttotal: 224ms\tremaining: 821ms\n",
      "107:\tlearn: 89.8493149\ttest: 100.2397324\tbest: 100.2397324 (107)\ttotal: 226ms\tremaining: 819ms\n",
      "108:\tlearn: 89.6921570\ttest: 100.1180603\tbest: 100.1180603 (108)\ttotal: 228ms\tremaining: 818ms\n",
      "109:\tlearn: 89.4197954\ttest: 99.6763479\tbest: 99.6763479 (109)\ttotal: 230ms\tremaining: 816ms\n",
      "110:\tlearn: 89.3033568\ttest: 99.5533955\tbest: 99.5533955 (110)\ttotal: 232ms\tremaining: 814ms\n",
      "111:\tlearn: 89.1866634\ttest: 99.2228612\tbest: 99.2228612 (111)\ttotal: 235ms\tremaining: 812ms\n",
      "112:\tlearn: 88.8184755\ttest: 99.2201941\tbest: 99.2201941 (112)\ttotal: 237ms\tremaining: 810ms\n",
      "113:\tlearn: 88.4184181\ttest: 99.0745889\tbest: 99.0745889 (113)\ttotal: 239ms\tremaining: 808ms\n",
      "114:\tlearn: 88.2369647\ttest: 98.9767163\tbest: 98.9767163 (114)\ttotal: 241ms\tremaining: 806ms\n",
      "115:\tlearn: 88.0020105\ttest: 98.2628584\tbest: 98.2628584 (115)\ttotal: 243ms\tremaining: 804ms\n",
      "116:\tlearn: 87.5910631\ttest: 98.1721215\tbest: 98.1721215 (116)\ttotal: 247ms\tremaining: 807ms\n",
      "117:\tlearn: 87.4591214\ttest: 98.0502449\tbest: 98.0502449 (117)\ttotal: 249ms\tremaining: 806ms\n",
      "118:\tlearn: 87.2953849\ttest: 97.8202045\tbest: 97.8202045 (118)\ttotal: 251ms\tremaining: 804ms\n",
      "119:\tlearn: 86.9307129\ttest: 97.7503517\tbest: 97.7503517 (119)\ttotal: 253ms\tremaining: 802ms\n",
      "120:\tlearn: 86.5496134\ttest: 97.5416542\tbest: 97.5416542 (120)\ttotal: 255ms\tremaining: 799ms\n",
      "121:\tlearn: 85.9869023\ttest: 97.0934064\tbest: 97.0934064 (121)\ttotal: 257ms\tremaining: 797ms\n",
      "122:\tlearn: 85.9479762\ttest: 97.0696551\tbest: 97.0696551 (122)\ttotal: 259ms\tremaining: 794ms\n",
      "123:\tlearn: 85.6197929\ttest: 96.8776482\tbest: 96.8776482 (123)\ttotal: 264ms\tremaining: 800ms\n",
      "124:\tlearn: 85.0379122\ttest: 96.5206951\tbest: 96.5206951 (124)\ttotal: 266ms\tremaining: 798ms\n",
      "125:\tlearn: 84.7769078\ttest: 96.2146768\tbest: 96.2146768 (125)\ttotal: 268ms\tremaining: 795ms\n",
      "126:\tlearn: 84.6755813\ttest: 96.2688518\tbest: 96.2146768 (125)\ttotal: 270ms\tremaining: 792ms\n",
      "127:\tlearn: 84.3225422\ttest: 96.3266856\tbest: 96.2146768 (125)\ttotal: 272ms\tremaining: 790ms\n",
      "128:\tlearn: 83.9941474\ttest: 96.1083462\tbest: 96.1083462 (128)\ttotal: 274ms\tremaining: 788ms\n",
      "129:\tlearn: 83.6514062\ttest: 95.9873535\tbest: 95.9873535 (129)\ttotal: 276ms\tremaining: 785ms\n",
      "130:\tlearn: 83.4058627\ttest: 95.9498986\tbest: 95.9498986 (130)\ttotal: 278ms\tremaining: 783ms\n",
      "131:\tlearn: 83.2560396\ttest: 95.9100611\tbest: 95.9100611 (131)\ttotal: 280ms\tremaining: 780ms\n",
      "132:\tlearn: 83.1078782\ttest: 95.7583910\tbest: 95.7583910 (132)\ttotal: 282ms\tremaining: 778ms\n",
      "133:\tlearn: 82.7263056\ttest: 95.4698559\tbest: 95.4698559 (133)\ttotal: 284ms\tremaining: 776ms\n",
      "134:\tlearn: 82.5292923\ttest: 95.4871059\tbest: 95.4698559 (133)\ttotal: 286ms\tremaining: 773ms\n",
      "135:\tlearn: 82.2306306\ttest: 95.2485748\tbest: 95.2485748 (135)\ttotal: 288ms\tremaining: 771ms\n",
      "136:\tlearn: 82.0039794\ttest: 95.0444893\tbest: 95.0444893 (136)\ttotal: 290ms\tremaining: 768ms\n",
      "137:\tlearn: 81.8296388\ttest: 94.9147845\tbest: 94.9147845 (137)\ttotal: 292ms\tremaining: 766ms\n",
      "138:\tlearn: 81.7251349\ttest: 94.8168634\tbest: 94.8168634 (138)\ttotal: 294ms\tremaining: 764ms\n",
      "139:\tlearn: 81.3325119\ttest: 94.7289536\tbest: 94.7289536 (139)\ttotal: 296ms\tremaining: 762ms\n",
      "140:\tlearn: 81.1643291\ttest: 94.5243295\tbest: 94.5243295 (140)\ttotal: 298ms\tremaining: 760ms\n",
      "141:\tlearn: 80.9373250\ttest: 94.5641275\tbest: 94.5243295 (140)\ttotal: 301ms\tremaining: 758ms\n",
      "142:\tlearn: 80.7796930\ttest: 94.5032286\tbest: 94.5032286 (142)\ttotal: 303ms\tremaining: 755ms\n",
      "143:\tlearn: 80.5312769\ttest: 94.6652835\tbest: 94.5032286 (142)\ttotal: 305ms\tremaining: 753ms\n",
      "144:\tlearn: 80.3667694\ttest: 94.5038013\tbest: 94.5032286 (142)\ttotal: 307ms\tremaining: 751ms\n",
      "145:\tlearn: 80.1632308\ttest: 94.4638265\tbest: 94.4638265 (145)\ttotal: 309ms\tremaining: 749ms\n",
      "146:\tlearn: 79.8050285\ttest: 94.2225946\tbest: 94.2225946 (146)\ttotal: 311ms\tremaining: 747ms\n",
      "147:\tlearn: 79.2281428\ttest: 93.9495065\tbest: 93.9495065 (147)\ttotal: 313ms\tremaining: 744ms\n",
      "148:\tlearn: 78.9295498\ttest: 93.7851981\tbest: 93.7851981 (148)\ttotal: 315ms\tremaining: 742ms\n",
      "149:\tlearn: 78.6520585\ttest: 93.7041666\tbest: 93.7041666 (149)\ttotal: 317ms\tremaining: 739ms\n",
      "150:\tlearn: 78.4078941\ttest: 93.5309483\tbest: 93.5309483 (150)\ttotal: 319ms\tremaining: 737ms\n",
      "151:\tlearn: 77.9068184\ttest: 93.7604447\tbest: 93.5309483 (150)\ttotal: 321ms\tremaining: 735ms\n",
      "152:\tlearn: 77.5065395\ttest: 93.3588801\tbest: 93.3588801 (152)\ttotal: 323ms\tremaining: 732ms\n",
      "153:\tlearn: 77.0435354\ttest: 93.0954711\tbest: 93.0954711 (153)\ttotal: 325ms\tremaining: 730ms\n",
      "154:\tlearn: 76.8019194\ttest: 92.6978644\tbest: 92.6978644 (154)\ttotal: 327ms\tremaining: 728ms\n",
      "155:\tlearn: 76.6924384\ttest: 92.4947197\tbest: 92.4947197 (155)\ttotal: 329ms\tremaining: 725ms\n",
      "156:\tlearn: 76.5046276\ttest: 92.5316447\tbest: 92.4947197 (155)\ttotal: 331ms\tremaining: 723ms\n",
      "157:\tlearn: 76.2477840\ttest: 92.4875877\tbest: 92.4875877 (157)\ttotal: 333ms\tremaining: 721ms\n",
      "158:\tlearn: 76.0236315\ttest: 92.4762152\tbest: 92.4762152 (158)\ttotal: 335ms\tremaining: 719ms\n",
      "159:\tlearn: 75.7496606\ttest: 92.2878757\tbest: 92.2878757 (159)\ttotal: 337ms\tremaining: 717ms\n",
      "160:\tlearn: 75.5837270\ttest: 92.0282521\tbest: 92.0282521 (160)\ttotal: 339ms\tremaining: 715ms\n",
      "161:\tlearn: 75.4115807\ttest: 91.9412621\tbest: 91.9412621 (161)\ttotal: 341ms\tremaining: 712ms\n",
      "162:\tlearn: 75.1762274\ttest: 91.6721317\tbest: 91.6721317 (162)\ttotal: 344ms\tremaining: 710ms\n",
      "163:\tlearn: 75.0468272\ttest: 91.4944158\tbest: 91.4944158 (163)\ttotal: 346ms\tremaining: 708ms\n",
      "164:\tlearn: 75.0069619\ttest: 91.4100674\tbest: 91.4100674 (164)\ttotal: 348ms\tremaining: 706ms\n",
      "165:\tlearn: 74.8614075\ttest: 91.3225323\tbest: 91.3225323 (165)\ttotal: 350ms\tremaining: 703ms\n",
      "166:\tlearn: 74.4294138\ttest: 91.0302376\tbest: 91.0302376 (166)\ttotal: 352ms\tremaining: 701ms\n",
      "167:\tlearn: 74.2859447\ttest: 90.9320176\tbest: 90.9320176 (167)\ttotal: 354ms\tremaining: 699ms\n",
      "168:\tlearn: 74.1153676\ttest: 90.6114406\tbest: 90.6114406 (168)\ttotal: 356ms\tremaining: 696ms\n",
      "169:\tlearn: 73.7766862\ttest: 90.3987069\tbest: 90.3987069 (169)\ttotal: 358ms\tremaining: 694ms\n",
      "170:\tlearn: 73.5284116\ttest: 90.3387268\tbest: 90.3387268 (170)\ttotal: 360ms\tremaining: 692ms\n",
      "171:\tlearn: 73.3556931\ttest: 90.1610438\tbest: 90.1610438 (171)\ttotal: 362ms\tremaining: 689ms\n",
      "172:\tlearn: 73.2446769\ttest: 90.1355510\tbest: 90.1355510 (172)\ttotal: 364ms\tremaining: 687ms\n",
      "173:\tlearn: 72.9367644\ttest: 89.9028276\tbest: 89.9028276 (173)\ttotal: 366ms\tremaining: 685ms\n",
      "174:\tlearn: 72.6685424\ttest: 89.9993572\tbest: 89.9028276 (173)\ttotal: 368ms\tremaining: 683ms\n",
      "175:\tlearn: 72.4103942\ttest: 89.8053620\tbest: 89.8053620 (175)\ttotal: 370ms\tremaining: 681ms\n",
      "176:\tlearn: 72.2151465\ttest: 89.7687198\tbest: 89.7687198 (176)\ttotal: 372ms\tremaining: 678ms\n",
      "177:\tlearn: 72.0940357\ttest: 89.7396555\tbest: 89.7396555 (177)\ttotal: 374ms\tremaining: 676ms\n",
      "178:\tlearn: 71.9585245\ttest: 89.5741483\tbest: 89.5741483 (178)\ttotal: 376ms\tremaining: 674ms\n",
      "179:\tlearn: 71.7182302\ttest: 89.3417045\tbest: 89.3417045 (179)\ttotal: 378ms\tremaining: 671ms\n",
      "180:\tlearn: 71.4968742\ttest: 88.8303161\tbest: 88.8303161 (180)\ttotal: 382ms\tremaining: 673ms\n",
      "181:\tlearn: 71.3366572\ttest: 88.7875412\tbest: 88.7875412 (181)\ttotal: 385ms\tremaining: 673ms\n",
      "182:\tlearn: 71.0729956\ttest: 88.4947153\tbest: 88.4947153 (182)\ttotal: 389ms\tremaining: 674ms\n",
      "183:\tlearn: 70.9935944\ttest: 88.4522520\tbest: 88.4522520 (183)\ttotal: 391ms\tremaining: 671ms\n",
      "184:\tlearn: 70.6977410\ttest: 88.0190122\tbest: 88.0190122 (184)\ttotal: 393ms\tremaining: 669ms\n",
      "185:\tlearn: 70.3621901\ttest: 87.7248223\tbest: 87.7248223 (185)\ttotal: 395ms\tremaining: 667ms\n",
      "186:\tlearn: 70.0845588\ttest: 87.4482845\tbest: 87.4482845 (186)\ttotal: 397ms\tremaining: 664ms\n",
      "187:\tlearn: 69.9969472\ttest: 87.3592607\tbest: 87.3592607 (187)\ttotal: 399ms\tremaining: 662ms\n",
      "188:\tlearn: 69.8320591\ttest: 87.2534780\tbest: 87.2534780 (188)\ttotal: 401ms\tremaining: 660ms\n",
      "189:\tlearn: 69.7175279\ttest: 87.2019482\tbest: 87.2019482 (189)\ttotal: 403ms\tremaining: 658ms\n",
      "190:\tlearn: 69.6017563\ttest: 87.1601766\tbest: 87.1601766 (190)\ttotal: 405ms\tremaining: 655ms\n",
      "191:\tlearn: 69.3911303\ttest: 87.1593160\tbest: 87.1593160 (191)\ttotal: 407ms\tremaining: 654ms\n",
      "192:\tlearn: 69.2398192\ttest: 87.0785785\tbest: 87.0785785 (192)\ttotal: 412ms\tremaining: 655ms\n",
      "193:\tlearn: 69.0803660\ttest: 86.8658687\tbest: 86.8658687 (193)\ttotal: 415ms\tremaining: 655ms\n",
      "194:\tlearn: 68.9797906\ttest: 86.7820168\tbest: 86.7820168 (194)\ttotal: 419ms\tremaining: 655ms\n",
      "195:\tlearn: 68.8907712\ttest: 86.6937529\tbest: 86.6937529 (195)\ttotal: 424ms\tremaining: 658ms\n",
      "196:\tlearn: 68.7583316\ttest: 86.5132183\tbest: 86.5132183 (196)\ttotal: 426ms\tremaining: 656ms\n",
      "197:\tlearn: 68.4226108\ttest: 86.0986098\tbest: 86.0986098 (197)\ttotal: 428ms\tremaining: 653ms\n",
      "198:\tlearn: 68.3448149\ttest: 86.0862736\tbest: 86.0862736 (198)\ttotal: 431ms\tremaining: 651ms\n",
      "199:\tlearn: 68.2422608\ttest: 86.0479802\tbest: 86.0479802 (199)\ttotal: 433ms\tremaining: 649ms\n",
      "200:\tlearn: 68.2158432\ttest: 86.0475641\tbest: 86.0475641 (200)\ttotal: 435ms\tremaining: 647ms\n",
      "201:\tlearn: 68.0774783\ttest: 86.1308792\tbest: 86.0475641 (200)\ttotal: 437ms\tremaining: 644ms\n",
      "202:\tlearn: 68.0420991\ttest: 86.1332929\tbest: 86.0475641 (200)\ttotal: 439ms\tremaining: 642ms\n",
      "203:\tlearn: 67.8206113\ttest: 86.0482745\tbest: 86.0475641 (200)\ttotal: 441ms\tremaining: 640ms\n",
      "204:\tlearn: 67.5231458\ttest: 85.7629861\tbest: 85.7629861 (204)\ttotal: 443ms\tremaining: 638ms\n",
      "205:\tlearn: 67.2457078\ttest: 85.6121756\tbest: 85.6121756 (205)\ttotal: 445ms\tremaining: 635ms\n",
      "206:\tlearn: 67.1060344\ttest: 85.5290312\tbest: 85.5290312 (206)\ttotal: 447ms\tremaining: 633ms\n",
      "207:\tlearn: 66.9779339\ttest: 85.3092167\tbest: 85.3092167 (207)\ttotal: 449ms\tremaining: 631ms\n",
      "208:\tlearn: 66.8671228\ttest: 85.2673849\tbest: 85.2673849 (208)\ttotal: 451ms\tremaining: 628ms\n",
      "209:\tlearn: 66.6269041\ttest: 84.9467473\tbest: 84.9467473 (209)\ttotal: 453ms\tremaining: 626ms\n",
      "210:\tlearn: 66.4548949\ttest: 85.0507508\tbest: 84.9467473 (209)\ttotal: 455ms\tremaining: 623ms\n",
      "211:\tlearn: 66.2377657\ttest: 84.7085285\tbest: 84.7085285 (211)\ttotal: 457ms\tremaining: 621ms\n",
      "212:\tlearn: 66.1967772\ttest: 84.6512445\tbest: 84.6512445 (212)\ttotal: 459ms\tremaining: 619ms\n",
      "213:\tlearn: 66.1291642\ttest: 84.6758829\tbest: 84.6512445 (212)\ttotal: 461ms\tremaining: 617ms\n",
      "214:\tlearn: 66.0702283\ttest: 84.6594765\tbest: 84.6512445 (212)\ttotal: 463ms\tremaining: 614ms\n",
      "215:\tlearn: 65.8075090\ttest: 84.4969348\tbest: 84.4969348 (215)\ttotal: 465ms\tremaining: 612ms\n",
      "216:\tlearn: 65.7242831\ttest: 84.5412470\tbest: 84.4969348 (215)\ttotal: 468ms\tremaining: 610ms\n",
      "217:\tlearn: 65.5815190\ttest: 84.4122598\tbest: 84.4122598 (217)\ttotal: 470ms\tremaining: 608ms\n",
      "218:\tlearn: 65.4592786\ttest: 84.4165682\tbest: 84.4122598 (217)\ttotal: 472ms\tremaining: 606ms\n",
      "219:\tlearn: 65.3755158\ttest: 84.4164983\tbest: 84.4122598 (217)\ttotal: 474ms\tremaining: 603ms\n",
      "220:\tlearn: 65.1765050\ttest: 84.0739217\tbest: 84.0739217 (220)\ttotal: 476ms\tremaining: 601ms\n",
      "221:\tlearn: 65.0961514\ttest: 83.9579712\tbest: 83.9579712 (221)\ttotal: 478ms\tremaining: 599ms\n",
      "222:\tlearn: 65.0496642\ttest: 83.9568953\tbest: 83.9568953 (222)\ttotal: 480ms\tremaining: 596ms\n",
      "223:\tlearn: 64.9599907\ttest: 83.9245277\tbest: 83.9245277 (223)\ttotal: 482ms\tremaining: 594ms\n",
      "224:\tlearn: 64.8697953\ttest: 83.9125268\tbest: 83.9125268 (224)\ttotal: 484ms\tremaining: 592ms\n",
      "225:\tlearn: 64.7331208\ttest: 83.9277759\tbest: 83.9125268 (224)\ttotal: 486ms\tremaining: 589ms\n",
      "226:\tlearn: 64.6332237\ttest: 83.8493087\tbest: 83.8493087 (226)\ttotal: 488ms\tremaining: 587ms\n",
      "227:\tlearn: 64.5118103\ttest: 83.8425552\tbest: 83.8425552 (227)\ttotal: 490ms\tremaining: 585ms\n",
      "228:\tlearn: 64.2772895\ttest: 83.8824165\tbest: 83.8425552 (227)\ttotal: 492ms\tremaining: 583ms\n",
      "229:\tlearn: 64.1412557\ttest: 83.8056544\tbest: 83.8056544 (229)\ttotal: 494ms\tremaining: 580ms\n",
      "230:\tlearn: 63.8162660\ttest: 83.4914043\tbest: 83.4914043 (230)\ttotal: 497ms\tremaining: 578ms\n",
      "231:\tlearn: 63.7292697\ttest: 83.4383715\tbest: 83.4383715 (231)\ttotal: 499ms\tremaining: 576ms\n",
      "232:\tlearn: 63.6983243\ttest: 83.3870838\tbest: 83.3870838 (232)\ttotal: 501ms\tremaining: 574ms\n",
      "233:\tlearn: 63.6627317\ttest: 83.3609223\tbest: 83.3609223 (233)\ttotal: 503ms\tremaining: 572ms\n",
      "234:\tlearn: 63.6518218\ttest: 83.3550132\tbest: 83.3550132 (234)\ttotal: 505ms\tremaining: 569ms\n",
      "235:\tlearn: 63.5873981\ttest: 83.4026457\tbest: 83.3550132 (234)\ttotal: 507ms\tremaining: 567ms\n",
      "236:\tlearn: 63.5300445\ttest: 83.3008235\tbest: 83.3008235 (236)\ttotal: 509ms\tremaining: 565ms\n",
      "237:\tlearn: 63.1969847\ttest: 82.9039818\tbest: 82.9039818 (237)\ttotal: 511ms\tremaining: 563ms\n",
      "238:\tlearn: 63.1201978\ttest: 82.8603353\tbest: 82.8603353 (238)\ttotal: 513ms\tremaining: 560ms\n",
      "239:\tlearn: 63.0685907\ttest: 82.8423890\tbest: 82.8423890 (239)\ttotal: 515ms\tremaining: 558ms\n",
      "240:\tlearn: 62.9741543\ttest: 82.9108557\tbest: 82.8423890 (239)\ttotal: 517ms\tremaining: 556ms\n",
      "241:\tlearn: 62.8778057\ttest: 82.7978628\tbest: 82.7978628 (241)\ttotal: 519ms\tremaining: 554ms\n",
      "242:\tlearn: 62.7664236\ttest: 82.7711156\tbest: 82.7711156 (242)\ttotal: 521ms\tremaining: 551ms\n",
      "243:\tlearn: 62.6957422\ttest: 82.6921539\tbest: 82.6921539 (243)\ttotal: 523ms\tremaining: 549ms\n",
      "244:\tlearn: 62.5149881\ttest: 82.2922112\tbest: 82.2922112 (244)\ttotal: 525ms\tremaining: 547ms\n",
      "245:\tlearn: 62.4089402\ttest: 82.2816615\tbest: 82.2816615 (245)\ttotal: 527ms\tremaining: 545ms\n",
      "246:\tlearn: 62.2480122\ttest: 82.1121405\tbest: 82.1121405 (246)\ttotal: 529ms\tremaining: 542ms\n",
      "247:\tlearn: 62.2401700\ttest: 82.1259049\tbest: 82.1121405 (246)\ttotal: 531ms\tremaining: 540ms\n",
      "248:\tlearn: 62.1563228\ttest: 82.0747883\tbest: 82.0747883 (248)\ttotal: 534ms\tremaining: 539ms\n",
      "249:\tlearn: 61.9795925\ttest: 82.1711277\tbest: 82.0747883 (248)\ttotal: 538ms\tremaining: 538ms\n",
      "250:\tlearn: 61.6273135\ttest: 81.8047539\tbest: 81.8047539 (250)\ttotal: 541ms\tremaining: 537ms\n",
      "251:\tlearn: 61.5285673\ttest: 81.6464734\tbest: 81.6464734 (251)\ttotal: 543ms\tremaining: 534ms\n",
      "252:\tlearn: 61.3961364\ttest: 81.6018096\tbest: 81.6018096 (252)\ttotal: 545ms\tremaining: 532ms\n",
      "253:\tlearn: 61.2960316\ttest: 81.5578438\tbest: 81.5578438 (253)\ttotal: 547ms\tremaining: 530ms\n",
      "254:\tlearn: 61.0265568\ttest: 81.2377734\tbest: 81.2377734 (254)\ttotal: 550ms\tremaining: 528ms\n",
      "255:\tlearn: 60.9308258\ttest: 81.1414033\tbest: 81.1414033 (255)\ttotal: 552ms\tremaining: 526ms\n",
      "256:\tlearn: 60.7856572\ttest: 81.0928126\tbest: 81.0928126 (256)\ttotal: 554ms\tremaining: 524ms\n",
      "257:\tlearn: 60.6840459\ttest: 81.0762013\tbest: 81.0762013 (257)\ttotal: 556ms\tremaining: 521ms\n",
      "258:\tlearn: 60.2927782\ttest: 80.5870616\tbest: 80.5870616 (258)\ttotal: 558ms\tremaining: 519ms\n",
      "259:\tlearn: 60.2348152\ttest: 80.5175579\tbest: 80.5175579 (259)\ttotal: 560ms\tremaining: 517ms\n",
      "260:\tlearn: 60.1990422\ttest: 80.4594167\tbest: 80.4594167 (260)\ttotal: 562ms\tremaining: 515ms\n",
      "261:\tlearn: 60.0124402\ttest: 80.2808583\tbest: 80.2808583 (261)\ttotal: 564ms\tremaining: 512ms\n",
      "262:\tlearn: 59.8943366\ttest: 80.2139103\tbest: 80.2139103 (262)\ttotal: 566ms\tremaining: 510ms\n",
      "263:\tlearn: 59.8011900\ttest: 80.1689289\tbest: 80.1689289 (263)\ttotal: 568ms\tremaining: 508ms\n",
      "264:\tlearn: 59.7749113\ttest: 80.1540623\tbest: 80.1540623 (264)\ttotal: 570ms\tremaining: 505ms\n",
      "265:\tlearn: 59.7139145\ttest: 80.1508012\tbest: 80.1508012 (265)\ttotal: 573ms\tremaining: 504ms\n",
      "266:\tlearn: 59.5752467\ttest: 80.0598646\tbest: 80.0598646 (266)\ttotal: 576ms\tremaining: 503ms\n",
      "267:\tlearn: 59.5256957\ttest: 80.1717669\tbest: 80.0598646 (266)\ttotal: 579ms\tremaining: 502ms\n",
      "268:\tlearn: 59.4776085\ttest: 80.1132670\tbest: 80.0598646 (266)\ttotal: 583ms\tremaining: 500ms\n",
      "269:\tlearn: 59.2147486\ttest: 79.5094572\tbest: 79.5094572 (269)\ttotal: 585ms\tremaining: 498ms\n",
      "270:\tlearn: 59.1720564\ttest: 79.5039205\tbest: 79.5039205 (270)\ttotal: 587ms\tremaining: 496ms\n",
      "271:\tlearn: 59.1535890\ttest: 79.4762251\tbest: 79.4762251 (271)\ttotal: 589ms\tremaining: 494ms\n",
      "272:\tlearn: 59.0858685\ttest: 79.4671733\tbest: 79.4671733 (272)\ttotal: 591ms\tremaining: 492ms\n",
      "273:\tlearn: 59.0516988\ttest: 79.4421406\tbest: 79.4421406 (273)\ttotal: 593ms\tremaining: 489ms\n",
      "274:\tlearn: 58.9741838\ttest: 79.4220709\tbest: 79.4220709 (274)\ttotal: 596ms\tremaining: 487ms\n",
      "275:\tlearn: 58.7507143\ttest: 78.8853338\tbest: 78.8853338 (275)\ttotal: 598ms\tremaining: 485ms\n",
      "276:\tlearn: 58.5427111\ttest: 78.7062336\tbest: 78.7062336 (276)\ttotal: 600ms\tremaining: 483ms\n",
      "277:\tlearn: 58.4902431\ttest: 78.7011999\tbest: 78.7011999 (277)\ttotal: 602ms\tremaining: 480ms\n",
      "278:\tlearn: 58.2320684\ttest: 78.4465845\tbest: 78.4465845 (278)\ttotal: 604ms\tremaining: 478ms\n",
      "279:\tlearn: 58.1302551\ttest: 78.3090980\tbest: 78.3090980 (279)\ttotal: 606ms\tremaining: 476ms\n",
      "280:\tlearn: 57.7654368\ttest: 77.9594115\tbest: 77.9594115 (280)\ttotal: 608ms\tremaining: 474ms\n",
      "281:\tlearn: 57.7147426\ttest: 77.9416596\tbest: 77.9416596 (281)\ttotal: 610ms\tremaining: 471ms\n",
      "282:\tlearn: 57.6383962\ttest: 77.9003082\tbest: 77.9003082 (282)\ttotal: 612ms\tremaining: 469ms\n",
      "283:\tlearn: 57.5424934\ttest: 77.7331786\tbest: 77.7331786 (283)\ttotal: 614ms\tremaining: 467ms\n",
      "284:\tlearn: 57.4259682\ttest: 77.7220790\tbest: 77.7220790 (284)\ttotal: 616ms\tremaining: 464ms\n",
      "285:\tlearn: 57.2338178\ttest: 77.4313802\tbest: 77.4313802 (285)\ttotal: 618ms\tremaining: 462ms\n",
      "286:\tlearn: 57.1649354\ttest: 77.4087326\tbest: 77.4087326 (286)\ttotal: 620ms\tremaining: 460ms\n",
      "287:\tlearn: 57.0237911\ttest: 76.9246411\tbest: 76.9246411 (287)\ttotal: 622ms\tremaining: 458ms\n",
      "288:\tlearn: 56.9025648\ttest: 76.8632621\tbest: 76.8632621 (288)\ttotal: 624ms\tremaining: 455ms\n",
      "289:\tlearn: 56.8468637\ttest: 76.8564465\tbest: 76.8564465 (289)\ttotal: 626ms\tremaining: 453ms\n",
      "290:\tlearn: 56.7903188\ttest: 76.7407974\tbest: 76.7407974 (290)\ttotal: 628ms\tremaining: 451ms\n",
      "291:\tlearn: 56.7129934\ttest: 76.6730234\tbest: 76.6730234 (291)\ttotal: 630ms\tremaining: 449ms\n",
      "292:\tlearn: 56.6501809\ttest: 76.6345079\tbest: 76.6345079 (292)\ttotal: 632ms\tremaining: 446ms\n",
      "293:\tlearn: 56.5640487\ttest: 76.4014020\tbest: 76.4014020 (293)\ttotal: 634ms\tremaining: 444ms\n",
      "294:\tlearn: 56.5013700\ttest: 76.3603126\tbest: 76.3603126 (294)\ttotal: 636ms\tremaining: 442ms\n",
      "295:\tlearn: 56.4113144\ttest: 76.2027273\tbest: 76.2027273 (295)\ttotal: 638ms\tremaining: 440ms\n",
      "296:\tlearn: 56.2707703\ttest: 76.0772269\tbest: 76.0772269 (296)\ttotal: 640ms\tremaining: 437ms\n",
      "297:\tlearn: 56.1208172\ttest: 76.1995947\tbest: 76.0772269 (296)\ttotal: 642ms\tremaining: 435ms\n",
      "298:\tlearn: 56.0737918\ttest: 76.0790840\tbest: 76.0772269 (296)\ttotal: 644ms\tremaining: 433ms\n",
      "299:\tlearn: 55.8814329\ttest: 75.9790002\tbest: 75.9790002 (299)\ttotal: 646ms\tremaining: 430ms\n",
      "300:\tlearn: 55.8410141\ttest: 75.9606187\tbest: 75.9606187 (300)\ttotal: 648ms\tremaining: 428ms\n",
      "301:\tlearn: 55.8072392\ttest: 75.9405850\tbest: 75.9405850 (301)\ttotal: 650ms\tremaining: 426ms\n",
      "302:\tlearn: 55.7872704\ttest: 75.9929173\tbest: 75.9405850 (301)\ttotal: 652ms\tremaining: 424ms\n",
      "303:\tlearn: 55.7591112\ttest: 75.9304727\tbest: 75.9304727 (303)\ttotal: 653ms\tremaining: 421ms\n",
      "304:\tlearn: 55.5916906\ttest: 75.7808626\tbest: 75.7808626 (304)\ttotal: 655ms\tremaining: 419ms\n",
      "305:\tlearn: 55.4797917\ttest: 75.7905635\tbest: 75.7808626 (304)\ttotal: 657ms\tremaining: 417ms\n",
      "306:\tlearn: 55.4101342\ttest: 75.6623745\tbest: 75.6623745 (306)\ttotal: 659ms\tremaining: 415ms\n",
      "307:\tlearn: 55.3424463\ttest: 75.6330717\tbest: 75.6330717 (307)\ttotal: 661ms\tremaining: 412ms\n",
      "308:\tlearn: 55.3052295\ttest: 75.6371647\tbest: 75.6330717 (307)\ttotal: 663ms\tremaining: 410ms\n",
      "309:\tlearn: 55.2774378\ttest: 75.6317935\tbest: 75.6317935 (309)\ttotal: 665ms\tremaining: 408ms\n",
      "310:\tlearn: 55.1620845\ttest: 75.5791129\tbest: 75.5791129 (310)\ttotal: 667ms\tremaining: 406ms\n",
      "311:\tlearn: 55.1392128\ttest: 75.5640440\tbest: 75.5640440 (311)\ttotal: 669ms\tremaining: 403ms\n",
      "312:\tlearn: 55.0886463\ttest: 75.5555181\tbest: 75.5555181 (312)\ttotal: 671ms\tremaining: 401ms\n",
      "313:\tlearn: 55.0671232\ttest: 75.5591920\tbest: 75.5555181 (312)\ttotal: 673ms\tremaining: 399ms\n",
      "314:\tlearn: 54.9958124\ttest: 75.2767815\tbest: 75.2767815 (314)\ttotal: 675ms\tremaining: 397ms\n",
      "315:\tlearn: 54.9731847\ttest: 75.2589050\tbest: 75.2589050 (315)\ttotal: 677ms\tremaining: 394ms\n",
      "316:\tlearn: 54.8601610\ttest: 75.1700427\tbest: 75.1700427 (316)\ttotal: 679ms\tremaining: 392ms\n",
      "317:\tlearn: 54.7990191\ttest: 75.1082401\tbest: 75.1082401 (317)\ttotal: 681ms\tremaining: 390ms\n",
      "318:\tlearn: 54.6510209\ttest: 75.0799029\tbest: 75.0799029 (318)\ttotal: 684ms\tremaining: 388ms\n",
      "319:\tlearn: 54.5942980\ttest: 75.0750593\tbest: 75.0750593 (319)\ttotal: 686ms\tremaining: 386ms\n",
      "320:\tlearn: 54.5331904\ttest: 74.9938899\tbest: 74.9938899 (320)\ttotal: 688ms\tremaining: 384ms\n",
      "321:\tlearn: 54.4164926\ttest: 74.9314164\tbest: 74.9314164 (321)\ttotal: 690ms\tremaining: 381ms\n",
      "322:\tlearn: 54.3770734\ttest: 74.9128899\tbest: 74.9128899 (322)\ttotal: 692ms\tremaining: 379ms\n",
      "323:\tlearn: 54.2812983\ttest: 75.0137149\tbest: 74.9128899 (322)\ttotal: 694ms\tremaining: 377ms\n",
      "324:\tlearn: 54.2437512\ttest: 74.9545290\tbest: 74.9128899 (322)\ttotal: 696ms\tremaining: 375ms\n",
      "325:\tlearn: 54.2078332\ttest: 74.9442081\tbest: 74.9128899 (322)\ttotal: 698ms\tremaining: 372ms\n",
      "326:\tlearn: 54.0513992\ttest: 74.7562804\tbest: 74.7562804 (326)\ttotal: 700ms\tremaining: 370ms\n",
      "327:\tlearn: 53.9213768\ttest: 74.6356011\tbest: 74.6356011 (327)\ttotal: 702ms\tremaining: 368ms\n",
      "328:\tlearn: 53.8535219\ttest: 74.8966479\tbest: 74.6356011 (327)\ttotal: 704ms\tremaining: 366ms\n",
      "329:\tlearn: 53.7303668\ttest: 74.7256773\tbest: 74.6356011 (327)\ttotal: 706ms\tremaining: 364ms\n",
      "330:\tlearn: 53.6958899\ttest: 74.6979440\tbest: 74.6356011 (327)\ttotal: 708ms\tremaining: 362ms\n",
      "331:\tlearn: 53.6702067\ttest: 74.6982973\tbest: 74.6356011 (327)\ttotal: 713ms\tremaining: 361ms\n",
      "332:\tlearn: 53.6639348\ttest: 74.6965631\tbest: 74.6356011 (327)\ttotal: 717ms\tremaining: 359ms\n",
      "333:\tlearn: 53.5564654\ttest: 74.6785941\tbest: 74.6356011 (327)\ttotal: 720ms\tremaining: 358ms\n",
      "334:\tlearn: 53.5551696\ttest: 74.6741552\tbest: 74.6356011 (327)\ttotal: 722ms\tremaining: 356ms\n",
      "335:\tlearn: 53.5101049\ttest: 74.6142330\tbest: 74.6142330 (335)\ttotal: 724ms\tremaining: 354ms\n",
      "336:\tlearn: 53.4875569\ttest: 74.6154507\tbest: 74.6142330 (335)\ttotal: 727ms\tremaining: 351ms\n",
      "337:\tlearn: 53.4407218\ttest: 74.6109140\tbest: 74.6109140 (337)\ttotal: 729ms\tremaining: 349ms\n",
      "338:\tlearn: 53.4101111\ttest: 74.5660999\tbest: 74.5660999 (338)\ttotal: 731ms\tremaining: 347ms\n",
      "339:\tlearn: 53.3662929\ttest: 74.5644004\tbest: 74.5644004 (339)\ttotal: 733ms\tremaining: 345ms\n",
      "340:\tlearn: 53.3076226\ttest: 74.5239037\tbest: 74.5239037 (340)\ttotal: 735ms\tremaining: 343ms\n",
      "341:\tlearn: 53.2788971\ttest: 74.5017912\tbest: 74.5017912 (341)\ttotal: 737ms\tremaining: 341ms\n",
      "342:\tlearn: 53.1899235\ttest: 74.4031292\tbest: 74.4031292 (342)\ttotal: 739ms\tremaining: 338ms\n",
      "343:\tlearn: 53.1169653\ttest: 74.3944430\tbest: 74.3944430 (343)\ttotal: 742ms\tremaining: 336ms\n",
      "344:\tlearn: 53.0935582\ttest: 74.4143557\tbest: 74.3944430 (343)\ttotal: 744ms\tremaining: 334ms\n",
      "345:\tlearn: 52.8906458\ttest: 73.9726211\tbest: 73.9726211 (345)\ttotal: 746ms\tremaining: 332ms\n",
      "346:\tlearn: 52.7972215\ttest: 73.9632394\tbest: 73.9632394 (346)\ttotal: 748ms\tremaining: 330ms\n",
      "347:\tlearn: 52.6854393\ttest: 73.9432050\tbest: 73.9432050 (347)\ttotal: 750ms\tremaining: 328ms\n",
      "348:\tlearn: 52.6617751\ttest: 73.9205033\tbest: 73.9205033 (348)\ttotal: 752ms\tremaining: 326ms\n",
      "349:\tlearn: 52.6175679\ttest: 73.8679150\tbest: 73.8679150 (349)\ttotal: 754ms\tremaining: 323ms\n",
      "350:\tlearn: 52.5302188\ttest: 73.8619410\tbest: 73.8619410 (350)\ttotal: 757ms\tremaining: 321ms\n",
      "351:\tlearn: 52.5204082\ttest: 73.8541885\tbest: 73.8541885 (351)\ttotal: 759ms\tremaining: 319ms\n",
      "352:\tlearn: 52.5049195\ttest: 73.8984932\tbest: 73.8541885 (351)\ttotal: 761ms\tremaining: 317ms\n",
      "353:\tlearn: 52.4327341\ttest: 73.8424826\tbest: 73.8424826 (353)\ttotal: 764ms\tremaining: 315ms\n",
      "354:\tlearn: 52.3459371\ttest: 73.7558230\tbest: 73.7558230 (354)\ttotal: 768ms\tremaining: 313ms\n",
      "355:\tlearn: 52.2991589\ttest: 73.7787249\tbest: 73.7558230 (354)\ttotal: 771ms\tremaining: 312ms\n",
      "356:\tlearn: 52.2275424\ttest: 73.7450578\tbest: 73.7450578 (356)\ttotal: 775ms\tremaining: 310ms\n",
      "357:\tlearn: 52.2089456\ttest: 73.7632189\tbest: 73.7450578 (356)\ttotal: 777ms\tremaining: 308ms\n",
      "358:\tlearn: 52.1413205\ttest: 73.7484602\tbest: 73.7450578 (356)\ttotal: 779ms\tremaining: 306ms\n",
      "359:\tlearn: 52.1080327\ttest: 73.7354565\tbest: 73.7354565 (359)\ttotal: 781ms\tremaining: 304ms\n",
      "360:\tlearn: 51.9823126\ttest: 73.4529302\tbest: 73.4529302 (360)\ttotal: 783ms\tremaining: 302ms\n",
      "361:\tlearn: 51.9394662\ttest: 73.4504511\tbest: 73.4504511 (361)\ttotal: 785ms\tremaining: 299ms\n",
      "362:\tlearn: 51.9065395\ttest: 73.3904354\tbest: 73.3904354 (362)\ttotal: 787ms\tremaining: 297ms\n",
      "363:\tlearn: 51.8325173\ttest: 73.2651345\tbest: 73.2651345 (363)\ttotal: 789ms\tremaining: 295ms\n",
      "364:\tlearn: 51.7867575\ttest: 73.2083827\tbest: 73.2083827 (364)\ttotal: 791ms\tremaining: 293ms\n",
      "365:\tlearn: 51.6885227\ttest: 73.1960829\tbest: 73.1960829 (365)\ttotal: 793ms\tremaining: 290ms\n",
      "366:\tlearn: 51.6545635\ttest: 73.1330212\tbest: 73.1330212 (366)\ttotal: 795ms\tremaining: 288ms\n",
      "367:\tlearn: 51.5890318\ttest: 73.0544981\tbest: 73.0544981 (367)\ttotal: 797ms\tremaining: 286ms\n",
      "368:\tlearn: 51.5716903\ttest: 73.0372487\tbest: 73.0372487 (368)\ttotal: 799ms\tremaining: 284ms\n",
      "369:\tlearn: 51.5411751\ttest: 73.0421186\tbest: 73.0372487 (368)\ttotal: 801ms\tremaining: 282ms\n",
      "370:\tlearn: 51.5022776\ttest: 73.0476987\tbest: 73.0372487 (368)\ttotal: 804ms\tremaining: 279ms\n",
      "371:\tlearn: 51.4731975\ttest: 72.8822795\tbest: 72.8822795 (371)\ttotal: 806ms\tremaining: 277ms\n",
      "372:\tlearn: 51.4502058\ttest: 72.8629837\tbest: 72.8629837 (372)\ttotal: 808ms\tremaining: 275ms\n",
      "373:\tlearn: 51.3426728\ttest: 72.7671942\tbest: 72.7671942 (373)\ttotal: 810ms\tremaining: 273ms\n",
      "374:\tlearn: 51.2068642\ttest: 72.8928597\tbest: 72.7671942 (373)\ttotal: 814ms\tremaining: 271ms\n",
      "375:\tlearn: 51.1146183\ttest: 72.8114769\tbest: 72.7671942 (373)\ttotal: 818ms\tremaining: 270ms\n",
      "376:\tlearn: 51.0695698\ttest: 72.7368437\tbest: 72.7368437 (376)\ttotal: 820ms\tremaining: 268ms\n",
      "377:\tlearn: 50.9110646\ttest: 72.7099959\tbest: 72.7099959 (377)\ttotal: 823ms\tremaining: 265ms\n",
      "378:\tlearn: 50.8728475\ttest: 72.7087120\tbest: 72.7087120 (378)\ttotal: 825ms\tremaining: 263ms\n",
      "379:\tlearn: 50.7874103\ttest: 72.7317167\tbest: 72.7087120 (378)\ttotal: 827ms\tremaining: 261ms\n",
      "380:\tlearn: 50.6903185\ttest: 72.7218371\tbest: 72.7087120 (378)\ttotal: 829ms\tremaining: 259ms\n",
      "381:\tlearn: 50.6335348\ttest: 72.7046528\tbest: 72.7046528 (381)\ttotal: 831ms\tremaining: 257ms\n",
      "382:\tlearn: 50.5846484\ttest: 72.6656272\tbest: 72.6656272 (382)\ttotal: 834ms\tremaining: 255ms\n",
      "383:\tlearn: 50.5422628\ttest: 72.6511461\tbest: 72.6511461 (383)\ttotal: 836ms\tremaining: 253ms\n",
      "384:\tlearn: 50.4655054\ttest: 72.6462140\tbest: 72.6462140 (384)\ttotal: 838ms\tremaining: 250ms\n",
      "385:\tlearn: 50.3708480\ttest: 72.6608366\tbest: 72.6462140 (384)\ttotal: 840ms\tremaining: 248ms\n",
      "386:\tlearn: 50.3166306\ttest: 72.6546773\tbest: 72.6462140 (384)\ttotal: 842ms\tremaining: 246ms\n",
      "387:\tlearn: 50.2379904\ttest: 72.6688917\tbest: 72.6462140 (384)\ttotal: 844ms\tremaining: 244ms\n",
      "388:\tlearn: 50.2134475\ttest: 72.6502614\tbest: 72.6462140 (384)\ttotal: 846ms\tremaining: 241ms\n",
      "389:\tlearn: 50.1780763\ttest: 72.6255086\tbest: 72.6255086 (389)\ttotal: 848ms\tremaining: 239ms\n",
      "390:\tlearn: 50.1470096\ttest: 72.5775041\tbest: 72.5775041 (390)\ttotal: 850ms\tremaining: 237ms\n",
      "391:\tlearn: 49.9378801\ttest: 72.5376832\tbest: 72.5376832 (391)\ttotal: 852ms\tremaining: 235ms\n",
      "392:\tlearn: 49.8127818\ttest: 72.5136183\tbest: 72.5136183 (392)\ttotal: 854ms\tremaining: 233ms\n",
      "393:\tlearn: 49.7668479\ttest: 72.5125586\tbest: 72.5125586 (393)\ttotal: 856ms\tremaining: 230ms\n",
      "394:\tlearn: 49.7425069\ttest: 72.5016992\tbest: 72.5016992 (394)\ttotal: 859ms\tremaining: 228ms\n",
      "395:\tlearn: 49.7073195\ttest: 72.5155268\tbest: 72.5016992 (394)\ttotal: 861ms\tremaining: 226ms\n",
      "396:\tlearn: 49.6952484\ttest: 72.3827265\tbest: 72.3827265 (396)\ttotal: 863ms\tremaining: 224ms\n",
      "397:\tlearn: 49.6040786\ttest: 72.3198491\tbest: 72.3198491 (397)\ttotal: 865ms\tremaining: 222ms\n",
      "398:\tlearn: 49.4831593\ttest: 72.2149903\tbest: 72.2149903 (398)\ttotal: 867ms\tremaining: 219ms\n",
      "399:\tlearn: 49.4121082\ttest: 72.1842624\tbest: 72.1842624 (399)\ttotal: 869ms\tremaining: 217ms\n",
      "400:\tlearn: 49.3441427\ttest: 72.1399718\tbest: 72.1399718 (400)\ttotal: 871ms\tremaining: 215ms\n",
      "401:\tlearn: 49.2760492\ttest: 72.0466737\tbest: 72.0466737 (401)\ttotal: 873ms\tremaining: 213ms\n",
      "402:\tlearn: 49.2204230\ttest: 72.0242080\tbest: 72.0242080 (402)\ttotal: 875ms\tremaining: 211ms\n",
      "403:\tlearn: 49.1927035\ttest: 71.9947602\tbest: 71.9947602 (403)\ttotal: 877ms\tremaining: 208ms\n",
      "404:\tlearn: 49.1664257\ttest: 71.9574653\tbest: 71.9574653 (404)\ttotal: 880ms\tremaining: 206ms\n",
      "405:\tlearn: 49.1172140\ttest: 71.8328057\tbest: 71.8328057 (405)\ttotal: 882ms\tremaining: 204ms\n",
      "406:\tlearn: 49.1051104\ttest: 71.8375624\tbest: 71.8328057 (405)\ttotal: 884ms\tremaining: 202ms\n",
      "407:\tlearn: 49.0863204\ttest: 71.8228244\tbest: 71.8228244 (407)\ttotal: 887ms\tremaining: 200ms\n",
      "408:\tlearn: 48.9655798\ttest: 71.7775715\tbest: 71.7775715 (408)\ttotal: 889ms\tremaining: 198ms\n",
      "409:\tlearn: 48.9017638\ttest: 71.7271086\tbest: 71.7271086 (409)\ttotal: 891ms\tremaining: 195ms\n",
      "410:\tlearn: 48.8907974\ttest: 71.7419510\tbest: 71.7271086 (409)\ttotal: 893ms\tremaining: 193ms\n",
      "411:\tlearn: 48.8411178\ttest: 71.6875428\tbest: 71.6875428 (411)\ttotal: 895ms\tremaining: 191ms\n",
      "412:\tlearn: 48.8284358\ttest: 71.6764597\tbest: 71.6764597 (412)\ttotal: 897ms\tremaining: 189ms\n",
      "413:\tlearn: 48.7524086\ttest: 71.5571834\tbest: 71.5571834 (413)\ttotal: 899ms\tremaining: 187ms\n",
      "414:\tlearn: 48.7008137\ttest: 71.5741985\tbest: 71.5571834 (413)\ttotal: 901ms\tremaining: 185ms\n",
      "415:\tlearn: 48.6340465\ttest: 71.5579904\tbest: 71.5571834 (413)\ttotal: 903ms\tremaining: 182ms\n",
      "416:\tlearn: 48.5781279\ttest: 71.5400423\tbest: 71.5400423 (416)\ttotal: 905ms\tremaining: 180ms\n",
      "417:\tlearn: 48.5446380\ttest: 71.5155018\tbest: 71.5155018 (417)\ttotal: 907ms\tremaining: 178ms\n",
      "418:\tlearn: 48.3943061\ttest: 71.4892857\tbest: 71.4892857 (418)\ttotal: 909ms\tremaining: 176ms\n",
      "419:\tlearn: 48.3528105\ttest: 71.5050584\tbest: 71.4892857 (418)\ttotal: 911ms\tremaining: 173ms\n",
      "420:\tlearn: 48.3498258\ttest: 71.5043344\tbest: 71.4892857 (418)\ttotal: 913ms\tremaining: 171ms\n",
      "421:\tlearn: 48.2773709\ttest: 71.5403108\tbest: 71.4892857 (418)\ttotal: 915ms\tremaining: 169ms\n",
      "422:\tlearn: 48.2397551\ttest: 71.5115983\tbest: 71.4892857 (418)\ttotal: 917ms\tremaining: 167ms\n",
      "423:\tlearn: 48.1756352\ttest: 71.5021257\tbest: 71.4892857 (418)\ttotal: 919ms\tremaining: 165ms\n",
      "424:\tlearn: 48.1474410\ttest: 71.4790957\tbest: 71.4790957 (424)\ttotal: 921ms\tremaining: 163ms\n",
      "425:\tlearn: 48.1165324\ttest: 71.4392079\tbest: 71.4392079 (425)\ttotal: 923ms\tremaining: 160ms\n",
      "426:\tlearn: 48.0932007\ttest: 71.4232015\tbest: 71.4232015 (426)\ttotal: 925ms\tremaining: 158ms\n",
      "427:\tlearn: 48.0580407\ttest: 71.3989908\tbest: 71.3989908 (427)\ttotal: 927ms\tremaining: 156ms\n",
      "428:\tlearn: 48.0192895\ttest: 71.3488364\tbest: 71.3488364 (428)\ttotal: 929ms\tremaining: 154ms\n",
      "429:\tlearn: 47.9389375\ttest: 71.3296414\tbest: 71.3296414 (429)\ttotal: 931ms\tremaining: 152ms\n",
      "430:\tlearn: 47.9068217\ttest: 71.2097826\tbest: 71.2097826 (430)\ttotal: 934ms\tremaining: 149ms\n",
      "431:\tlearn: 47.8994242\ttest: 71.2117571\tbest: 71.2097826 (430)\ttotal: 935ms\tremaining: 147ms\n",
      "432:\tlearn: 47.7513867\ttest: 70.9147897\tbest: 70.9147897 (432)\ttotal: 938ms\tremaining: 145ms\n",
      "433:\tlearn: 47.7362300\ttest: 70.9039874\tbest: 70.9039874 (433)\ttotal: 940ms\tremaining: 143ms\n",
      "434:\tlearn: 47.7149582\ttest: 70.8923950\tbest: 70.8923950 (434)\ttotal: 942ms\tremaining: 141ms\n",
      "435:\tlearn: 47.7081946\ttest: 70.8846312\tbest: 70.8846312 (435)\ttotal: 944ms\tremaining: 139ms\n",
      "436:\tlearn: 47.6400278\ttest: 70.9009947\tbest: 70.8846312 (435)\ttotal: 946ms\tremaining: 136ms\n",
      "437:\tlearn: 47.5882931\ttest: 70.8677685\tbest: 70.8677685 (437)\ttotal: 948ms\tremaining: 134ms\n",
      "438:\tlearn: 47.5341922\ttest: 70.8080309\tbest: 70.8080309 (438)\ttotal: 950ms\tremaining: 132ms\n",
      "439:\tlearn: 47.4590969\ttest: 70.6524541\tbest: 70.6524541 (439)\ttotal: 953ms\tremaining: 130ms\n",
      "440:\tlearn: 47.4405795\ttest: 70.6515564\tbest: 70.6515564 (440)\ttotal: 955ms\tremaining: 128ms\n",
      "441:\tlearn: 47.4228528\ttest: 70.6604696\tbest: 70.6515564 (440)\ttotal: 957ms\tremaining: 126ms\n",
      "442:\tlearn: 47.3867229\ttest: 70.5288412\tbest: 70.5288412 (442)\ttotal: 961ms\tremaining: 124ms\n",
      "443:\tlearn: 47.3606552\ttest: 70.5130644\tbest: 70.5130644 (443)\ttotal: 967ms\tremaining: 122ms\n",
      "444:\tlearn: 47.3253975\ttest: 70.4755773\tbest: 70.4755773 (444)\ttotal: 971ms\tremaining: 120ms\n",
      "445:\tlearn: 47.2318121\ttest: 70.4899352\tbest: 70.4755773 (444)\ttotal: 977ms\tremaining: 118ms\n",
      "446:\tlearn: 47.2178623\ttest: 70.4604756\tbest: 70.4604756 (446)\ttotal: 979ms\tremaining: 116ms\n",
      "447:\tlearn: 47.1830582\ttest: 70.4252893\tbest: 70.4252893 (447)\ttotal: 981ms\tremaining: 114ms\n",
      "448:\tlearn: 47.1178148\ttest: 70.3759075\tbest: 70.3759075 (448)\ttotal: 983ms\tremaining: 112ms\n",
      "449:\tlearn: 47.0671636\ttest: 70.2252030\tbest: 70.2252030 (449)\ttotal: 985ms\tremaining: 109ms\n",
      "450:\tlearn: 46.9960622\ttest: 70.0958679\tbest: 70.0958679 (450)\ttotal: 987ms\tremaining: 107ms\n",
      "451:\tlearn: 46.9853495\ttest: 70.0698820\tbest: 70.0698820 (451)\ttotal: 989ms\tremaining: 105ms\n",
      "452:\tlearn: 46.8706080\ttest: 70.0058380\tbest: 70.0058380 (452)\ttotal: 992ms\tremaining: 103ms\n",
      "453:\tlearn: 46.8001721\ttest: 70.0005381\tbest: 70.0005381 (453)\ttotal: 994ms\tremaining: 101ms\n",
      "454:\tlearn: 46.7419246\ttest: 69.9464890\tbest: 69.9464890 (454)\ttotal: 996ms\tremaining: 98.5ms\n",
      "455:\tlearn: 46.6223333\ttest: 69.9207822\tbest: 69.9207822 (455)\ttotal: 998ms\tremaining: 96.3ms\n",
      "456:\tlearn: 46.5581412\ttest: 69.8226559\tbest: 69.8226559 (456)\ttotal: 1000ms\tremaining: 94.1ms\n",
      "457:\tlearn: 46.5013721\ttest: 69.8340362\tbest: 69.8226559 (456)\ttotal: 1s\tremaining: 91.9ms\n",
      "458:\tlearn: 46.4955319\ttest: 69.8245961\tbest: 69.8226559 (456)\ttotal: 1s\tremaining: 89.7ms\n",
      "459:\tlearn: 46.4896472\ttest: 69.8115863\tbest: 69.8115863 (459)\ttotal: 1.01s\tremaining: 87.5ms\n",
      "460:\tlearn: 46.4376172\ttest: 69.7859631\tbest: 69.7859631 (460)\ttotal: 1.01s\tremaining: 85.3ms\n",
      "461:\tlearn: 46.4001820\ttest: 69.7737606\tbest: 69.7737606 (461)\ttotal: 1.01s\tremaining: 83.1ms\n",
      "462:\tlearn: 46.3535560\ttest: 69.5220597\tbest: 69.5220597 (462)\ttotal: 1.01s\tremaining: 81ms\n",
      "463:\tlearn: 46.3472541\ttest: 69.5199962\tbest: 69.5199962 (463)\ttotal: 1.01s\tremaining: 78.8ms\n",
      "464:\tlearn: 46.3299027\ttest: 69.5361534\tbest: 69.5199962 (463)\ttotal: 1.02s\tremaining: 76.6ms\n",
      "465:\tlearn: 46.2866189\ttest: 69.4850668\tbest: 69.4850668 (465)\ttotal: 1.02s\tremaining: 74.4ms\n",
      "466:\tlearn: 46.2575982\ttest: 69.4487126\tbest: 69.4487126 (466)\ttotal: 1.02s\tremaining: 72.2ms\n",
      "467:\tlearn: 46.2183920\ttest: 69.4422071\tbest: 69.4422071 (467)\ttotal: 1.02s\tremaining: 70ms\n",
      "468:\tlearn: 46.1587337\ttest: 69.3924785\tbest: 69.3924785 (468)\ttotal: 1.02s\tremaining: 67.8ms\n",
      "469:\tlearn: 46.1514170\ttest: 69.3717359\tbest: 69.3717359 (469)\ttotal: 1.03s\tremaining: 65.6ms\n",
      "470:\tlearn: 46.1417773\ttest: 69.3710970\tbest: 69.3710970 (470)\ttotal: 1.03s\tremaining: 63.4ms\n",
      "471:\tlearn: 46.1101902\ttest: 69.3383062\tbest: 69.3383062 (471)\ttotal: 1.03s\tremaining: 61.2ms\n",
      "472:\tlearn: 46.0851916\ttest: 69.2872267\tbest: 69.2872267 (472)\ttotal: 1.03s\tremaining: 59ms\n",
      "473:\tlearn: 46.0648775\ttest: 69.2540935\tbest: 69.2540935 (473)\ttotal: 1.04s\tremaining: 56.8ms\n",
      "474:\tlearn: 46.0432882\ttest: 69.2381985\tbest: 69.2381985 (474)\ttotal: 1.04s\tremaining: 54.6ms\n",
      "475:\tlearn: 45.9869080\ttest: 69.1540749\tbest: 69.1540749 (475)\ttotal: 1.04s\tremaining: 52.4ms\n",
      "476:\tlearn: 45.9378040\ttest: 69.1378215\tbest: 69.1378215 (476)\ttotal: 1.04s\tremaining: 50.3ms\n",
      "477:\tlearn: 45.9114471\ttest: 69.1100384\tbest: 69.1100384 (477)\ttotal: 1.04s\tremaining: 48.1ms\n",
      "478:\tlearn: 45.8299291\ttest: 69.0303985\tbest: 69.0303985 (478)\ttotal: 1.05s\tremaining: 45.9ms\n",
      "479:\tlearn: 45.7433951\ttest: 68.9774386\tbest: 68.9774386 (479)\ttotal: 1.05s\tremaining: 43.7ms\n",
      "480:\tlearn: 45.6774008\ttest: 68.9265604\tbest: 68.9265604 (480)\ttotal: 1.05s\tremaining: 41.5ms\n",
      "481:\tlearn: 45.6518078\ttest: 68.9115244\tbest: 68.9115244 (481)\ttotal: 1.05s\tremaining: 39.4ms\n",
      "482:\tlearn: 45.6120247\ttest: 68.8360324\tbest: 68.8360324 (482)\ttotal: 1.05s\tremaining: 37.2ms\n",
      "483:\tlearn: 45.5774647\ttest: 68.8304026\tbest: 68.8304026 (483)\ttotal: 1.06s\tremaining: 35ms\n",
      "484:\tlearn: 45.5311975\ttest: 68.7732632\tbest: 68.7732632 (484)\ttotal: 1.06s\tremaining: 32.8ms\n",
      "485:\tlearn: 45.5226693\ttest: 68.7382801\tbest: 68.7382801 (485)\ttotal: 1.06s\tremaining: 30.6ms\n",
      "486:\tlearn: 45.4542293\ttest: 68.6094945\tbest: 68.6094945 (486)\ttotal: 1.06s\tremaining: 28.4ms\n",
      "487:\tlearn: 45.4029260\ttest: 68.8106440\tbest: 68.6094945 (486)\ttotal: 1.06s\tremaining: 26.2ms\n",
      "488:\tlearn: 45.3253627\ttest: 68.7565232\tbest: 68.6094945 (486)\ttotal: 1.07s\tremaining: 24ms\n",
      "489:\tlearn: 45.2768316\ttest: 68.6386409\tbest: 68.6094945 (486)\ttotal: 1.07s\tremaining: 21.8ms\n",
      "490:\tlearn: 45.2405356\ttest: 68.5946158\tbest: 68.5946158 (490)\ttotal: 1.07s\tremaining: 19.6ms\n",
      "491:\tlearn: 45.2207571\ttest: 68.5837268\tbest: 68.5837268 (491)\ttotal: 1.07s\tremaining: 17.5ms\n",
      "492:\tlearn: 45.1575592\ttest: 68.5272920\tbest: 68.5272920 (492)\ttotal: 1.07s\tremaining: 15.3ms\n",
      "493:\tlearn: 45.1301719\ttest: 68.5022135\tbest: 68.5022135 (493)\ttotal: 1.08s\tremaining: 13.1ms\n",
      "494:\tlearn: 45.1108550\ttest: 68.5642497\tbest: 68.5022135 (493)\ttotal: 1.08s\tremaining: 10.9ms\n",
      "495:\tlearn: 45.0830562\ttest: 68.5373961\tbest: 68.5022135 (493)\ttotal: 1.08s\tremaining: 8.72ms\n",
      "496:\tlearn: 45.0134252\ttest: 68.5155855\tbest: 68.5022135 (493)\ttotal: 1.08s\tremaining: 6.54ms\n",
      "497:\tlearn: 44.9597459\ttest: 68.5947587\tbest: 68.5022135 (493)\ttotal: 1.09s\tremaining: 4.36ms\n",
      "498:\tlearn: 44.9462189\ttest: 68.5936330\tbest: 68.5022135 (493)\ttotal: 1.09s\tremaining: 2.18ms\n",
      "499:\tlearn: 44.8688486\ttest: 68.7961304\tbest: 68.5022135 (493)\ttotal: 1.09s\tremaining: 0us\n",
      "\n",
      "bestTest = 68.50221347\n",
      "bestIteration = 493\n",
      "\n",
      "Shrink model to first 494 iterations.\n"
     ]
    },
    {
     "data": {
      "text/plain": [
       "<catboost.core.CatBoostRegressor at 0x7f09ace95850>"
      ]
     },
     "execution_count": 155,
     "metadata": {
      "tags": []
     },
     "output_type": "execute_result"
    }
   ],
   "source": [
    "from catboost import CatBoostRegressor\n",
    "from sklearn.model_selection import train_test_split\n",
    "X=train_agg.drop(columns=[target_col])\n",
    "y=train_agg[target_col]\n",
    "X_train, X_test, y_train, y_test = train_test_split(X, y, test_size=0.2, random_state=100)\n",
    "\n",
    "catb = CatBoostRegressor(\n",
    "         cat_features=cat_features,\n",
    "         loss_function='MAE',\n",
    "         n_estimators=500, \n",
    "         learning_rate=0.06, \n",
    "         random_state=42\n",
    "    )\n",
    "    \n",
    "history=catb.fit(X, y, eval_set=(X_test,y_test))\n",
    "history\n"
   ]
  },
  {
   "cell_type": "code",
   "execution_count": 160,
   "metadata": {
    "colab": {
     "base_uri": "https://localhost:8080/",
     "height": 239
    },
    "executionInfo": {
     "elapsed": 295,
     "status": "error",
     "timestamp": 1628485117719,
     "user": {
      "displayName": "정재환",
      "photoUrl": "",
      "userId": "00289451058434735723"
     },
     "user_tz": -540
    },
    "id": "yBHdU0M5RU4I",
    "outputId": "955b8ded-3b5a-43ef-9948-733da91110c3"
   },
   "outputs": [
    {
     "ename": "AttributeError",
     "evalue": "ignored",
     "output_type": "error",
     "traceback": [
      "\u001b[0;31m---------------------------------------------------------------------------\u001b[0m",
      "\u001b[0;31mAttributeError\u001b[0m                            Traceback (most recent call last)",
      "\u001b[0;32m<ipython-input-160-02dfb539d4ea>\u001b[0m in \u001b[0;36m<module>\u001b[0;34m()\u001b[0m\n\u001b[1;32m      2\u001b[0m \u001b[0;34m\u001b[0m\u001b[0m\n\u001b[1;32m      3\u001b[0m \u001b[0;31m# list all data in history\u001b[0m\u001b[0;34m\u001b[0m\u001b[0;34m\u001b[0m\u001b[0;34m\u001b[0m\u001b[0m\n\u001b[0;32m----> 4\u001b[0;31m \u001b[0mprint\u001b[0m\u001b[0;34m(\u001b[0m\u001b[0mhistory\u001b[0m\u001b[0;34m.\u001b[0m\u001b[0mhistory\u001b[0m\u001b[0;34m.\u001b[0m\u001b[0mkeys\u001b[0m\u001b[0;34m(\u001b[0m\u001b[0;34m)\u001b[0m\u001b[0;34m)\u001b[0m\u001b[0;34m\u001b[0m\u001b[0;34m\u001b[0m\u001b[0m\n\u001b[0m\u001b[1;32m      5\u001b[0m \u001b[0;31m# summarize history for accuracy\u001b[0m\u001b[0;34m\u001b[0m\u001b[0;34m\u001b[0m\u001b[0;34m\u001b[0m\u001b[0m\n\u001b[1;32m      6\u001b[0m \u001b[0mplt\u001b[0m\u001b[0;34m.\u001b[0m\u001b[0mplot\u001b[0m\u001b[0;34m(\u001b[0m\u001b[0mhistory\u001b[0m\u001b[0;34m.\u001b[0m\u001b[0mhistory\u001b[0m\u001b[0;34m[\u001b[0m\u001b[0;34m'acc'\u001b[0m\u001b[0;34m]\u001b[0m\u001b[0;34m)\u001b[0m\u001b[0;34m\u001b[0m\u001b[0;34m\u001b[0m\u001b[0m\n",
      "\u001b[0;31mAttributeError\u001b[0m: 'CatBoostRegressor' object has no attribute 'history'"
     ]
    }
   ],
   "source": [
    "import matplotlib.pyplot as plt\n",
    "\n",
    "# list all data in history\n",
    "print(history.history.keys())\n",
    "# summarize history for accuracy\n",
    "plt.plot(history.history['acc'])\n",
    "plt.plot(history.history['val_acc'])\n",
    "plt.title('model accuracy')\n",
    "plt.ylabel('accuracy')\n",
    "plt.xlabel('epoch')\n",
    "plt.legend(['X', 'y'], loc='upper left')\n",
    "plt.show()\n",
    "# summarize history for loss\n",
    "plt.plot(results.history['loss'])\n",
    "plt.plot(results.history['val_loss'])\n",
    "plt.title('model loss')\n",
    "plt.ylabel('loss')\n",
    "plt.xlabel('epoch')\n",
    "plt.legend(['X', 'y'], loc='upper left')\n",
    "plt.show()"
   ]
  },
  {
   "cell_type": "code",
   "execution_count": 156,
   "metadata": {
    "executionInfo": {
     "elapsed": 444,
     "status": "ok",
     "timestamp": 1628483676411,
     "user": {
      "displayName": "정재환",
      "photoUrl": "",
      "userId": "00289451058434735723"
     },
     "user_tz": -540
    },
    "id": "KpJKL_dREmMY"
   },
   "outputs": [],
   "source": [
    "import matplotlib.pyplot as plt\n",
    "# loss그래프\n",
    "def loss_plot(history):\n",
    "  plt.plot(history.history['loss'], label='Train loss')\n",
    "  plt.plot(history.history['val_loss'], label='Validation loss')\n",
    "  plt.title('Loss')\n",
    "  plt.xlabel('Epoch')\n",
    "  plt.ylabel('Loss')\n",
    "  plt.legend()\n",
    "  plt.show()"
   ]
  },
  {
   "cell_type": "code",
   "execution_count": 157,
   "metadata": {
    "executionInfo": {
     "elapsed": 292,
     "status": "ok",
     "timestamp": 1628483764588,
     "user": {
      "displayName": "정재환",
      "photoUrl": "",
      "userId": "00289451058434735723"
     },
     "user_tz": -540
    },
    "id": "4TWl0pyJMSP8"
   },
   "outputs": [],
   "source": [
    "def accuracy_plot(history):\n",
    "  plt.plot(history.history['accuracy'], label='Train accuracy')\n",
    "  plt.plot(history.history['val_accuracy'], label='Validation accuracy')\n",
    "  plt.title('accuracy')\n",
    "  plt.xlabel('Epoch')\n",
    "  plt.ylabel('accuracy')\n",
    "  plt.legend()\n",
    "  plt.show()"
   ]
  },
  {
   "cell_type": "code",
   "execution_count": 159,
   "metadata": {
    "colab": {
     "base_uri": "https://localhost:8080/",
     "height": 292
    },
    "executionInfo": {
     "elapsed": 435,
     "status": "error",
     "timestamp": 1628483793403,
     "user": {
      "displayName": "정재환",
      "photoUrl": "",
      "userId": "00289451058434735723"
     },
     "user_tz": -540
    },
    "id": "pdP1ZwJj2_IB",
    "outputId": "fcdc2c28-65bf-4792-8e58-a74e868f3b83"
   },
   "outputs": [
    {
     "ename": "AttributeError",
     "evalue": "ignored",
     "output_type": "error",
     "traceback": [
      "\u001b[0;31m---------------------------------------------------------------------------\u001b[0m",
      "\u001b[0;31mAttributeError\u001b[0m                            Traceback (most recent call last)",
      "\u001b[0;32m<ipython-input-159-0ef4422dedcc>\u001b[0m in \u001b[0;36m<module>\u001b[0;34m()\u001b[0m\n\u001b[0;32m----> 1\u001b[0;31m \u001b[0mloss_plot\u001b[0m\u001b[0;34m(\u001b[0m\u001b[0mhistory\u001b[0m\u001b[0;34m)\u001b[0m\u001b[0;34m\u001b[0m\u001b[0;34m\u001b[0m\u001b[0m\n\u001b[0m",
      "\u001b[0;32m<ipython-input-156-3a93fc764ecd>\u001b[0m in \u001b[0;36mloss_plot\u001b[0;34m(history)\u001b[0m\n\u001b[1;32m      2\u001b[0m \u001b[0;34m\u001b[0m\u001b[0m\n\u001b[1;32m      3\u001b[0m \u001b[0;32mdef\u001b[0m \u001b[0mloss_plot\u001b[0m\u001b[0;34m(\u001b[0m\u001b[0mhistory\u001b[0m\u001b[0;34m)\u001b[0m\u001b[0;34m:\u001b[0m\u001b[0;34m\u001b[0m\u001b[0;34m\u001b[0m\u001b[0m\n\u001b[0;32m----> 4\u001b[0;31m   \u001b[0mplt\u001b[0m\u001b[0;34m.\u001b[0m\u001b[0mplot\u001b[0m\u001b[0;34m(\u001b[0m\u001b[0mhistory\u001b[0m\u001b[0;34m.\u001b[0m\u001b[0mhistory\u001b[0m\u001b[0;34m[\u001b[0m\u001b[0;34m'loss'\u001b[0m\u001b[0;34m]\u001b[0m\u001b[0;34m,\u001b[0m \u001b[0mlabel\u001b[0m\u001b[0;34m=\u001b[0m\u001b[0;34m'Train loss'\u001b[0m\u001b[0;34m)\u001b[0m\u001b[0;34m\u001b[0m\u001b[0;34m\u001b[0m\u001b[0m\n\u001b[0m\u001b[1;32m      5\u001b[0m   \u001b[0mplt\u001b[0m\u001b[0;34m.\u001b[0m\u001b[0mplot\u001b[0m\u001b[0;34m(\u001b[0m\u001b[0mhistory\u001b[0m\u001b[0;34m.\u001b[0m\u001b[0mhistory\u001b[0m\u001b[0;34m[\u001b[0m\u001b[0;34m'val_loss'\u001b[0m\u001b[0;34m]\u001b[0m\u001b[0;34m,\u001b[0m \u001b[0mlabel\u001b[0m\u001b[0;34m=\u001b[0m\u001b[0;34m'Validation loss'\u001b[0m\u001b[0;34m)\u001b[0m\u001b[0;34m\u001b[0m\u001b[0;34m\u001b[0m\u001b[0m\n\u001b[1;32m      6\u001b[0m   \u001b[0mplt\u001b[0m\u001b[0;34m.\u001b[0m\u001b[0mtitle\u001b[0m\u001b[0;34m(\u001b[0m\u001b[0;34m'Loss'\u001b[0m\u001b[0;34m)\u001b[0m\u001b[0;34m\u001b[0m\u001b[0;34m\u001b[0m\u001b[0m\n",
      "\u001b[0;31mAttributeError\u001b[0m: 'CatBoostRegressor' object has no attribute 'history'"
     ]
    }
   ],
   "source": [
    "loss_plot(history)"
   ]
  },
  {
   "cell_type": "code",
   "execution_count": 71,
   "metadata": {
    "executionInfo": {
     "elapsed": 17,
     "status": "ok",
     "timestamp": 1628478281555,
     "user": {
      "displayName": "정재환",
      "photoUrl": "",
      "userId": "00289451058434735723"
     },
     "user_tz": -540
    },
    "id": "BkZeVELqrV1w"
   },
   "outputs": [],
   "source": []
  },
  {
   "cell_type": "code",
   "execution_count": 72,
   "metadata": {
    "executionInfo": {
     "elapsed": 17,
     "status": "ok",
     "timestamp": 1628478281556,
     "user": {
      "displayName": "정재환",
      "photoUrl": "",
      "userId": "00289451058434735723"
     },
     "user_tz": -540
    },
    "id": "qEV6Eqyjfbsb"
   },
   "outputs": [],
   "source": [
    "# sample_submission = pd.read_csv(PATH + '/sample_submission.csv')\n",
    "# sample_submission.head()"
   ]
  },
  {
   "cell_type": "code",
   "execution_count": 73,
   "metadata": {
    "executionInfo": {
     "elapsed": 17,
     "status": "ok",
     "timestamp": 1628478281557,
     "user": {
      "displayName": "정재환",
      "photoUrl": "",
      "userId": "00289451058434735723"
     },
     "user_tz": -540
    },
    "id": "aqhSUitLf5kK"
   },
   "outputs": [],
   "source": [
    "submission['num'] = catb.predict(test_agg)"
   ]
  },
  {
   "cell_type": "code",
   "execution_count": 74,
   "metadata": {
    "colab": {
     "base_uri": "https://localhost:8080/",
     "height": 417
    },
    "executionInfo": {
     "elapsed": 18,
     "status": "ok",
     "timestamp": 1628478281558,
     "user": {
      "displayName": "정재환",
      "photoUrl": "",
      "userId": "00289451058434735723"
     },
     "user_tz": -540
    },
    "id": "CkNOXFqSf6wl",
    "outputId": "d5ba4a8a-a25b-4d0f-847b-b593e163fdf3"
   },
   "outputs": [
    {
     "data": {
      "text/html": [
       "<div>\n",
       "<style scoped>\n",
       "    .dataframe tbody tr th:only-of-type {\n",
       "        vertical-align: middle;\n",
       "    }\n",
       "\n",
       "    .dataframe tbody tr th {\n",
       "        vertical-align: top;\n",
       "    }\n",
       "\n",
       "    .dataframe thead th {\n",
       "        text-align: right;\n",
       "    }\n",
       "</style>\n",
       "<table border=\"1\" class=\"dataframe\">\n",
       "  <thead>\n",
       "    <tr style=\"text-align: right;\">\n",
       "      <th></th>\n",
       "      <th>code</th>\n",
       "      <th>num</th>\n",
       "    </tr>\n",
       "  </thead>\n",
       "  <tbody>\n",
       "    <tr>\n",
       "      <th>0</th>\n",
       "      <td>C1072</td>\n",
       "      <td>692.018928</td>\n",
       "    </tr>\n",
       "    <tr>\n",
       "      <th>1</th>\n",
       "      <td>C1128</td>\n",
       "      <td>1207.614076</td>\n",
       "    </tr>\n",
       "    <tr>\n",
       "      <th>2</th>\n",
       "      <td>C1456</td>\n",
       "      <td>576.899856</td>\n",
       "    </tr>\n",
       "    <tr>\n",
       "      <th>3</th>\n",
       "      <td>C1840</td>\n",
       "      <td>510.826965</td>\n",
       "    </tr>\n",
       "    <tr>\n",
       "      <th>4</th>\n",
       "      <td>C1332</td>\n",
       "      <td>1053.763038</td>\n",
       "    </tr>\n",
       "    <tr>\n",
       "      <th>...</th>\n",
       "      <td>...</td>\n",
       "      <td>...</td>\n",
       "    </tr>\n",
       "    <tr>\n",
       "      <th>145</th>\n",
       "      <td>C2456</td>\n",
       "      <td>245.798299</td>\n",
       "    </tr>\n",
       "    <tr>\n",
       "      <th>146</th>\n",
       "      <td>C1266</td>\n",
       "      <td>404.620669</td>\n",
       "    </tr>\n",
       "    <tr>\n",
       "      <th>147</th>\n",
       "      <td>C2152</td>\n",
       "      <td>36.391768</td>\n",
       "    </tr>\n",
       "    <tr>\n",
       "      <th>148</th>\n",
       "      <td>C1267</td>\n",
       "      <td>218.635146</td>\n",
       "    </tr>\n",
       "    <tr>\n",
       "      <th>149</th>\n",
       "      <td>C2189</td>\n",
       "      <td>118.371589</td>\n",
       "    </tr>\n",
       "  </tbody>\n",
       "</table>\n",
       "<p>150 rows × 2 columns</p>\n",
       "</div>"
      ],
      "text/plain": [
       "      code          num\n",
       "0    C1072   692.018928\n",
       "1    C1128  1207.614076\n",
       "2    C1456   576.899856\n",
       "3    C1840   510.826965\n",
       "4    C1332  1053.763038\n",
       "..     ...          ...\n",
       "145  C2456   245.798299\n",
       "146  C1266   404.620669\n",
       "147  C2152    36.391768\n",
       "148  C1267   218.635146\n",
       "149  C2189   118.371589\n",
       "\n",
       "[150 rows x 2 columns]"
      ]
     },
     "execution_count": 74,
     "metadata": {
      "tags": []
     },
     "output_type": "execute_result"
    }
   ],
   "source": [
    "submission"
   ]
  },
  {
   "cell_type": "code",
   "execution_count": 75,
   "metadata": {
    "executionInfo": {
     "elapsed": 17,
     "status": "ok",
     "timestamp": 1628478281559,
     "user": {
      "displayName": "정재환",
      "photoUrl": "",
      "userId": "00289451058434735723"
     },
     "user_tz": -540
    },
    "id": "IUET5T3af8AK"
   },
   "outputs": [],
   "source": [
    "submission.to_csv('submission_catb_baseline_20210730.csv', index=False)"
   ]
  },
  {
   "cell_type": "markdown",
   "metadata": {
    "id": "16D80fc6BYLj"
   },
   "source": [
    "# 3.랜덤포레스트 학습"
   ]
  },
  {
   "cell_type": "code",
   "execution_count": 174,
   "metadata": {
    "executionInfo": {
     "elapsed": 299,
     "status": "ok",
     "timestamp": 1628488784920,
     "user": {
      "displayName": "정재환",
      "photoUrl": "",
      "userId": "00289451058434735723"
     },
     "user_tz": -540
    },
    "id": "YSwsrL0zF-Z2"
   },
   "outputs": [],
   "source": [
    "train_agg1 = train_agg.reset_index()\n",
    "test_agg1 = test_agg.reset_index()"
   ]
  },
  {
   "cell_type": "code",
   "execution_count": 175,
   "metadata": {
    "executionInfo": {
     "elapsed": 2,
     "status": "ok",
     "timestamp": 1628488786332,
     "user": {
      "displayName": "정재환",
      "photoUrl": "",
      "userId": "00289451058434735723"
     },
     "user_tz": -540
    },
    "id": "Lx61W2Y7GaFB"
   },
   "outputs": [],
   "source": [
    "train_agg1 = train_agg1.fillna(-1)\n",
    "test_agg1 = test_agg1.fillna(-1)"
   ]
  },
  {
   "cell_type": "code",
   "execution_count": 176,
   "metadata": {
    "executionInfo": {
     "elapsed": 501,
     "status": "ok",
     "timestamp": 1628488787317,
     "user": {
      "displayName": "정재환",
      "photoUrl": "",
      "userId": "00289451058434735723"
     },
     "user_tz": -540
    },
    "id": "Rg4MhKI_Gz0m"
   },
   "outputs": [],
   "source": [
    "# test_agg1"
   ]
  },
  {
   "cell_type": "code",
   "execution_count": 177,
   "metadata": {
    "executionInfo": {
     "elapsed": 2,
     "status": "ok",
     "timestamp": 1628488787680,
     "user": {
      "displayName": "정재환",
      "photoUrl": "",
      "userId": "00289451058434735723"
     },
     "user_tz": -540
    },
    "id": "TnihZJ3gBagg"
   },
   "outputs": [],
   "source": [
    "x_train = train_agg1.iloc[:, 3:-1]\n",
    "y_train = train_agg1.iloc[:,6]\n",
    "x_test = test_agg1.iloc[:,1:]"
   ]
  },
  {
   "cell_type": "code",
   "execution_count": 178,
   "metadata": {
    "executionInfo": {
     "elapsed": 3,
     "status": "ok",
     "timestamp": 1628488788869,
     "user": {
      "displayName": "정재환",
      "photoUrl": "",
      "userId": "00289451058434735723"
     },
     "user_tz": -540
    },
    "id": "RFzboC_lB-ZU"
   },
   "outputs": [],
   "source": [
    "from sklearn.ensemble import RandomForestRegressor\n",
    "from tqdm import tqdm"
   ]
  },
  {
   "cell_type": "code",
   "execution_count": 179,
   "metadata": {
    "executionInfo": {
     "elapsed": 2,
     "status": "ok",
     "timestamp": 1628488789822,
     "user": {
      "displayName": "정재환",
      "photoUrl": "",
      "userId": "00289451058434735723"
     },
     "user_tz": -540
    },
    "id": "n9gv4n6rB33J"
   },
   "outputs": [],
   "source": [
    "model = RandomForestRegressor(n_jobs=-1, random_state=42)"
   ]
  },
  {
   "cell_type": "code",
   "execution_count": 82,
   "metadata": {
    "executionInfo": {
     "elapsed": 12,
     "status": "ok",
     "timestamp": 1628478282030,
     "user": {
      "displayName": "정재환",
      "photoUrl": "",
      "userId": "00289451058434735723"
     },
     "user_tz": -540
    },
    "id": "utCZvTZGCYCD"
   },
   "outputs": [],
   "source": [
    "# x_train"
   ]
  },
  {
   "cell_type": "code",
   "execution_count": 83,
   "metadata": {
    "executionInfo": {
     "elapsed": 13,
     "status": "ok",
     "timestamp": 1628478282031,
     "user": {
      "displayName": "정재환",
      "photoUrl": "",
      "userId": "00289451058434735723"
     },
     "user_tz": -540
    },
    "id": "IPGyINZbCba8"
   },
   "outputs": [],
   "source": [
    "# y_train"
   ]
  },
  {
   "cell_type": "code",
   "execution_count": 84,
   "metadata": {
    "executionInfo": {
     "elapsed": 13,
     "status": "ok",
     "timestamp": 1628478282031,
     "user": {
      "displayName": "정재환",
      "photoUrl": "",
      "userId": "00289451058434735723"
     },
     "user_tz": -540
    },
    "id": "-teuU4VPGrVV"
   },
   "outputs": [],
   "source": [
    "# x_test"
   ]
  },
  {
   "cell_type": "code",
   "execution_count": 180,
   "metadata": {
    "colab": {
     "base_uri": "https://localhost:8080/"
    },
    "executionInfo": {
     "elapsed": 574,
     "status": "ok",
     "timestamp": 1628488793132,
     "user": {
      "displayName": "정재환",
      "photoUrl": "",
      "userId": "00289451058434735723"
     },
     "user_tz": -540
    },
    "id": "jBMhAJ8zCGr3",
    "outputId": "d8bd3fd3-9d75-4ed3-dd76-427a598d7596"
   },
   "outputs": [
    {
     "data": {
      "text/plain": [
       "RandomForestRegressor(bootstrap=True, ccp_alpha=0.0, criterion='mse',\n",
       "                      max_depth=None, max_features='auto', max_leaf_nodes=None,\n",
       "                      max_samples=None, min_impurity_decrease=0.0,\n",
       "                      min_impurity_split=None, min_samples_leaf=1,\n",
       "                      min_samples_split=2, min_weight_fraction_leaf=0.0,\n",
       "                      n_estimators=100, n_jobs=-1, oob_score=False,\n",
       "                      random_state=42, verbose=0, warm_start=False)"
      ]
     },
     "execution_count": 180,
     "metadata": {
      "tags": []
     },
     "output_type": "execute_result"
    }
   ],
   "source": [
    "history = model.fit(x_train, y_train)\n",
    "history"
   ]
  },
  {
   "cell_type": "code",
   "execution_count": 181,
   "metadata": {
    "executionInfo": {
     "elapsed": 303,
     "status": "ok",
     "timestamp": 1628488796973,
     "user": {
      "displayName": "정재환",
      "photoUrl": "",
      "userId": "00289451058434735723"
     },
     "user_tz": -540
    },
    "id": "s3Ktoa8GwDpl"
   },
   "outputs": [],
   "source": [
    "x_test = x_test.drop(['총세대수', '지역'], axis=1)"
   ]
  },
  {
   "cell_type": "code",
   "execution_count": 87,
   "metadata": {
    "executionInfo": {
     "elapsed": 7,
     "status": "ok",
     "timestamp": 1628478282032,
     "user": {
      "displayName": "정재환",
      "photoUrl": "",
      "userId": "00289451058434735723"
     },
     "user_tz": -540
    },
    "id": "hdFWPAzgwo7P"
   },
   "outputs": [],
   "source": [
    "# x_test"
   ]
  },
  {
   "cell_type": "code",
   "execution_count": 173,
   "metadata": {
    "executionInfo": {
     "elapsed": 320,
     "status": "ok",
     "timestamp": 1628486279949,
     "user": {
      "displayName": "정재환",
      "photoUrl": "",
      "userId": "00289451058434735723"
     },
     "user_tz": -540
    },
    "id": "xKppd8blCJiF"
   },
   "outputs": [],
   "source": [
    "pred=model.predict(x_test)"
   ]
  },
  {
   "cell_type": "code",
   "execution_count": null,
   "metadata": {
    "id": "R4rSHL2lgJmm"
   },
   "outputs": [],
   "source": []
  },
  {
   "cell_type": "code",
   "execution_count": 182,
   "metadata": {
    "colab": {
     "base_uri": "https://localhost:8080/",
     "height": 239
    },
    "executionInfo": {
     "elapsed": 300,
     "status": "error",
     "timestamp": 1628488804544,
     "user": {
      "displayName": "정재환",
      "photoUrl": "",
      "userId": "00289451058434735723"
     },
     "user_tz": -540
    },
    "id": "r2euknq-V7i2",
    "outputId": "7c90161d-5259-40e6-fc93-8db50f682a21"
   },
   "outputs": [
    {
     "ename": "AttributeError",
     "evalue": "ignored",
     "output_type": "error",
     "traceback": [
      "\u001b[0;31m---------------------------------------------------------------------------\u001b[0m",
      "\u001b[0;31mAttributeError\u001b[0m                            Traceback (most recent call last)",
      "\u001b[0;32m<ipython-input-182-b34d005eec83>\u001b[0m in \u001b[0;36m<module>\u001b[0;34m()\u001b[0m\n\u001b[1;32m      2\u001b[0m \u001b[0;34m\u001b[0m\u001b[0m\n\u001b[1;32m      3\u001b[0m \u001b[0;31m# list all data in history\u001b[0m\u001b[0;34m\u001b[0m\u001b[0;34m\u001b[0m\u001b[0;34m\u001b[0m\u001b[0m\n\u001b[0;32m----> 4\u001b[0;31m \u001b[0mprint\u001b[0m\u001b[0;34m(\u001b[0m\u001b[0mhistory\u001b[0m\u001b[0;34m.\u001b[0m\u001b[0mhistory\u001b[0m\u001b[0;34m.\u001b[0m\u001b[0mkeys\u001b[0m\u001b[0;34m(\u001b[0m\u001b[0;34m)\u001b[0m\u001b[0;34m)\u001b[0m\u001b[0;34m\u001b[0m\u001b[0;34m\u001b[0m\u001b[0m\n\u001b[0m\u001b[1;32m      5\u001b[0m \u001b[0;31m# summarize history for accuracy\u001b[0m\u001b[0;34m\u001b[0m\u001b[0;34m\u001b[0m\u001b[0;34m\u001b[0m\u001b[0m\n\u001b[1;32m      6\u001b[0m \u001b[0mplt\u001b[0m\u001b[0;34m.\u001b[0m\u001b[0mplot\u001b[0m\u001b[0;34m(\u001b[0m\u001b[0mhistory\u001b[0m\u001b[0;34m.\u001b[0m\u001b[0mhistory\u001b[0m\u001b[0;34m[\u001b[0m\u001b[0;34m'acc'\u001b[0m\u001b[0;34m]\u001b[0m\u001b[0;34m)\u001b[0m\u001b[0;34m\u001b[0m\u001b[0;34m\u001b[0m\u001b[0m\n",
      "\u001b[0;31mAttributeError\u001b[0m: 'RandomForestRegressor' object has no attribute 'history'"
     ]
    }
   ],
   "source": [
    "import matplotlib.pyplot as plt\n",
    "\n",
    "# list all data in history\n",
    "print(history.history.keys())\n",
    "# summarize history for accuracy\n",
    "plt.plot(history.history['acc'])\n",
    "plt.plot(history.history['val_acc'])\n",
    "plt.title('model accuracy')\n",
    "plt.ylabel('accuracy')\n",
    "plt.xlabel('epoch')\n",
    "plt.legend(['x_trian', 'y_train'], loc='upper left')\n",
    "plt.show()\n",
    "# summarize history for loss\n",
    "plt.plot(results.history['loss'])\n",
    "plt.plot(results.history['val_loss'])\n",
    "plt.title('model loss')\n",
    "plt.ylabel('loss')\n",
    "plt.xlabel('epoch')\n",
    "plt.legend(['x_train', 'y_train'], loc='upper left')\n",
    "plt.show()"
   ]
  },
  {
   "cell_type": "code",
   "execution_count": null,
   "metadata": {
    "id": "tVUIWrCOfidX"
   },
   "outputs": [],
   "source": []
  },
  {
   "cell_type": "code",
   "execution_count": null,
   "metadata": {
    "id": "1MgGu6M6fibT"
   },
   "outputs": [],
   "source": []
  },
  {
   "cell_type": "code",
   "execution_count": null,
   "metadata": {
    "id": "p1KCXH1nfiYw"
   },
   "outputs": [],
   "source": []
  },
  {
   "cell_type": "code",
   "execution_count": 89,
   "metadata": {
    "executionInfo": {
     "elapsed": 16,
     "status": "ok",
     "timestamp": 1628478282528,
     "user": {
      "displayName": "정재환",
      "photoUrl": "",
      "userId": "00289451058434735723"
     },
     "user_tz": -540
    },
    "id": "nj1PYKvcHitm"
   },
   "outputs": [],
   "source": [
    "submission['num'] = pred"
   ]
  },
  {
   "cell_type": "code",
   "execution_count": 90,
   "metadata": {
    "executionInfo": {
     "elapsed": 17,
     "status": "ok",
     "timestamp": 1628478282529,
     "user": {
      "displayName": "정재환",
      "photoUrl": "",
      "userId": "00289451058434735723"
     },
     "user_tz": -540
    },
    "id": "ppXIusbtwyhv"
   },
   "outputs": [],
   "source": [
    "submission.to_csv('submission_randomforest_20210801.csv', index=False)"
   ]
  },
  {
   "cell_type": "markdown",
   "metadata": {
    "id": "Zezsjgc-ER0I"
   },
   "source": [
    "# 4. GradientBoosting"
   ]
  },
  {
   "cell_type": "code",
   "execution_count": 91,
   "metadata": {
    "executionInfo": {
     "elapsed": 16,
     "status": "ok",
     "timestamp": 1628478282529,
     "user": {
      "displayName": "정재환",
      "photoUrl": "",
      "userId": "00289451058434735723"
     },
     "user_tz": -540
    },
    "id": "9xWQJExpEaCY"
   },
   "outputs": [],
   "source": [
    "x_train = train_agg.iloc[:,1:-1]\n",
    "y_train = train_agg.iloc[:,6]\n",
    "x_test = test_agg.iloc[:,1:]"
   ]
  },
  {
   "cell_type": "code",
   "execution_count": 92,
   "metadata": {
    "colab": {
     "base_uri": "https://localhost:8080/",
     "height": 739
    },
    "executionInfo": {
     "elapsed": 17,
     "status": "ok",
     "timestamp": 1628478282530,
     "user": {
      "displayName": "정재환",
      "photoUrl": "",
      "userId": "00289451058434735723"
     },
     "user_tz": -540
    },
    "id": "K9mep5J5EaAE",
    "outputId": "7b17daa4-794c-4696-e5a2-b037befcfdcb"
   },
   "outputs": [
    {
     "data": {
      "text/html": [
       "<div>\n",
       "<style scoped>\n",
       "    .dataframe tbody tr th:only-of-type {\n",
       "        vertical-align: middle;\n",
       "    }\n",
       "\n",
       "    .dataframe tbody tr th {\n",
       "        vertical-align: top;\n",
       "    }\n",
       "\n",
       "    .dataframe thead th {\n",
       "        text-align: right;\n",
       "    }\n",
       "</style>\n",
       "<table border=\"1\" class=\"dataframe\">\n",
       "  <thead>\n",
       "    <tr style=\"text-align: right;\">\n",
       "      <th></th>\n",
       "      <th>지역</th>\n",
       "      <th>공가수</th>\n",
       "      <th>도보 10분거리 내 지하철역 수(환승노선 수 반영)</th>\n",
       "      <th>도보 10분거리 내 버스정류장 수</th>\n",
       "      <th>단지내주차면수</th>\n",
       "      <th>등록차량수</th>\n",
       "      <th>임대건물구분_상가</th>\n",
       "      <th>임대건물구분_아파트</th>\n",
       "      <th>공급유형_공공임대(50년)</th>\n",
       "      <th>공급유형_공공임대(5년/10년/분납/분양)</th>\n",
       "      <th>공급유형_국민임대/장기전세</th>\n",
       "      <th>공급유형_영구임대</th>\n",
       "      <th>공급유형_임대상가</th>\n",
       "      <th>공급유형_행복주택</th>\n",
       "      <th>자격유형_A</th>\n",
       "      <th>자격유형_D</th>\n",
       "      <th>자격유형_국민임대/장기전세_공급대상</th>\n",
       "      <th>자격유형_영구임대_공급대상</th>\n",
       "    </tr>\n",
       "  </thead>\n",
       "  <tbody>\n",
       "    <tr>\n",
       "      <th>C2483</th>\n",
       "      <td>0</td>\n",
       "      <td>38.0</td>\n",
       "      <td>0.0</td>\n",
       "      <td>3.0</td>\n",
       "      <td>1425.0</td>\n",
       "      <td>1015.0</td>\n",
       "      <td>0.0</td>\n",
       "      <td>1.0</td>\n",
       "      <td>0.0</td>\n",
       "      <td>0.0</td>\n",
       "      <td>1.0</td>\n",
       "      <td>0.0</td>\n",
       "      <td>0.0</td>\n",
       "      <td>0.0</td>\n",
       "      <td>1.0</td>\n",
       "      <td>0.0</td>\n",
       "      <td>0.0</td>\n",
       "      <td>0.0</td>\n",
       "    </tr>\n",
       "    <tr>\n",
       "      <th>C2515</th>\n",
       "      <td>1</td>\n",
       "      <td>17.0</td>\n",
       "      <td>0.0</td>\n",
       "      <td>3.0</td>\n",
       "      <td>624.0</td>\n",
       "      <td>205.0</td>\n",
       "      <td>0.0</td>\n",
       "      <td>1.0</td>\n",
       "      <td>0.0</td>\n",
       "      <td>0.0</td>\n",
       "      <td>1.0</td>\n",
       "      <td>0.0</td>\n",
       "      <td>0.0</td>\n",
       "      <td>0.0</td>\n",
       "      <td>1.0</td>\n",
       "      <td>0.0</td>\n",
       "      <td>0.0</td>\n",
       "      <td>0.0</td>\n",
       "    </tr>\n",
       "    <tr>\n",
       "      <th>C1407</th>\n",
       "      <td>2</td>\n",
       "      <td>13.0</td>\n",
       "      <td>1.0</td>\n",
       "      <td>1.0</td>\n",
       "      <td>1285.0</td>\n",
       "      <td>1064.0</td>\n",
       "      <td>0.0</td>\n",
       "      <td>1.0</td>\n",
       "      <td>0.0</td>\n",
       "      <td>0.0</td>\n",
       "      <td>1.0</td>\n",
       "      <td>0.0</td>\n",
       "      <td>0.0</td>\n",
       "      <td>0.0</td>\n",
       "      <td>1.0</td>\n",
       "      <td>0.0</td>\n",
       "      <td>0.0</td>\n",
       "      <td>0.0</td>\n",
       "    </tr>\n",
       "    <tr>\n",
       "      <th>C1945</th>\n",
       "      <td>3</td>\n",
       "      <td>6.0</td>\n",
       "      <td>1.0</td>\n",
       "      <td>3.0</td>\n",
       "      <td>734.0</td>\n",
       "      <td>730.0</td>\n",
       "      <td>0.0</td>\n",
       "      <td>1.0</td>\n",
       "      <td>0.0</td>\n",
       "      <td>0.0</td>\n",
       "      <td>1.0</td>\n",
       "      <td>0.0</td>\n",
       "      <td>0.0</td>\n",
       "      <td>0.0</td>\n",
       "      <td>0.0</td>\n",
       "      <td>0.0</td>\n",
       "      <td>1.0</td>\n",
       "      <td>0.0</td>\n",
       "    </tr>\n",
       "    <tr>\n",
       "      <th>C1470</th>\n",
       "      <td>4</td>\n",
       "      <td>14.0</td>\n",
       "      <td>0.0</td>\n",
       "      <td>2.0</td>\n",
       "      <td>645.0</td>\n",
       "      <td>553.0</td>\n",
       "      <td>0.0</td>\n",
       "      <td>1.0</td>\n",
       "      <td>0.0</td>\n",
       "      <td>0.0</td>\n",
       "      <td>1.0</td>\n",
       "      <td>0.0</td>\n",
       "      <td>0.0</td>\n",
       "      <td>0.0</td>\n",
       "      <td>1.0</td>\n",
       "      <td>0.0</td>\n",
       "      <td>0.0</td>\n",
       "      <td>0.0</td>\n",
       "    </tr>\n",
       "    <tr>\n",
       "      <th>...</th>\n",
       "      <td>...</td>\n",
       "      <td>...</td>\n",
       "      <td>...</td>\n",
       "      <td>...</td>\n",
       "      <td>...</td>\n",
       "      <td>...</td>\n",
       "      <td>...</td>\n",
       "      <td>...</td>\n",
       "      <td>...</td>\n",
       "      <td>...</td>\n",
       "      <td>...</td>\n",
       "      <td>...</td>\n",
       "      <td>...</td>\n",
       "      <td>...</td>\n",
       "      <td>...</td>\n",
       "      <td>...</td>\n",
       "      <td>...</td>\n",
       "      <td>...</td>\n",
       "    </tr>\n",
       "    <tr>\n",
       "      <th>C2586</th>\n",
       "      <td>9</td>\n",
       "      <td>7.0</td>\n",
       "      <td>0.0</td>\n",
       "      <td>3.0</td>\n",
       "      <td>66.0</td>\n",
       "      <td>57.0</td>\n",
       "      <td>0.0</td>\n",
       "      <td>1.0</td>\n",
       "      <td>0.0</td>\n",
       "      <td>0.0</td>\n",
       "      <td>0.0</td>\n",
       "      <td>0.0</td>\n",
       "      <td>0.0</td>\n",
       "      <td>1.0</td>\n",
       "      <td>0.0</td>\n",
       "      <td>0.0</td>\n",
       "      <td>0.0</td>\n",
       "      <td>0.0</td>\n",
       "    </tr>\n",
       "    <tr>\n",
       "      <th>C2035</th>\n",
       "      <td>5</td>\n",
       "      <td>24.0</td>\n",
       "      <td>0.0</td>\n",
       "      <td>1.0</td>\n",
       "      <td>521.0</td>\n",
       "      <td>246.0</td>\n",
       "      <td>0.0</td>\n",
       "      <td>1.0</td>\n",
       "      <td>0.0</td>\n",
       "      <td>0.0</td>\n",
       "      <td>1.0</td>\n",
       "      <td>0.0</td>\n",
       "      <td>0.0</td>\n",
       "      <td>0.0</td>\n",
       "      <td>1.0</td>\n",
       "      <td>0.0</td>\n",
       "      <td>0.0</td>\n",
       "      <td>0.0</td>\n",
       "    </tr>\n",
       "    <tr>\n",
       "      <th>C2020</th>\n",
       "      <td>8</td>\n",
       "      <td>7.0</td>\n",
       "      <td>1.0</td>\n",
       "      <td>2.0</td>\n",
       "      <td>25.0</td>\n",
       "      <td>19.0</td>\n",
       "      <td>0.0</td>\n",
       "      <td>1.0</td>\n",
       "      <td>0.0</td>\n",
       "      <td>0.0</td>\n",
       "      <td>0.0</td>\n",
       "      <td>0.0</td>\n",
       "      <td>0.0</td>\n",
       "      <td>1.0</td>\n",
       "      <td>0.0</td>\n",
       "      <td>0.0</td>\n",
       "      <td>0.0</td>\n",
       "      <td>0.0</td>\n",
       "    </tr>\n",
       "    <tr>\n",
       "      <th>C2437</th>\n",
       "      <td>11</td>\n",
       "      <td>12.0</td>\n",
       "      <td>0.0</td>\n",
       "      <td>1.0</td>\n",
       "      <td>30.0</td>\n",
       "      <td>16.0</td>\n",
       "      <td>0.0</td>\n",
       "      <td>1.0</td>\n",
       "      <td>0.0</td>\n",
       "      <td>0.0</td>\n",
       "      <td>0.0</td>\n",
       "      <td>1.0</td>\n",
       "      <td>0.0</td>\n",
       "      <td>0.0</td>\n",
       "      <td>0.0</td>\n",
       "      <td>0.0</td>\n",
       "      <td>0.0</td>\n",
       "      <td>1.0</td>\n",
       "    </tr>\n",
       "    <tr>\n",
       "      <th>C2532</th>\n",
       "      <td>5</td>\n",
       "      <td>7.0</td>\n",
       "      <td>0.0</td>\n",
       "      <td>1.0</td>\n",
       "      <td>166.0</td>\n",
       "      <td>146.0</td>\n",
       "      <td>0.0</td>\n",
       "      <td>1.0</td>\n",
       "      <td>0.0</td>\n",
       "      <td>0.0</td>\n",
       "      <td>1.0</td>\n",
       "      <td>0.0</td>\n",
       "      <td>0.0</td>\n",
       "      <td>0.0</td>\n",
       "      <td>1.0</td>\n",
       "      <td>0.0</td>\n",
       "      <td>0.0</td>\n",
       "      <td>0.0</td>\n",
       "    </tr>\n",
       "  </tbody>\n",
       "</table>\n",
       "<p>423 rows × 18 columns</p>\n",
       "</div>"
      ],
      "text/plain": [
       "       지역   공가수  ...  자격유형_국민임대/장기전세_공급대상  자격유형_영구임대_공급대상\n",
       "C2483   0  38.0  ...                  0.0             0.0\n",
       "C2515   1  17.0  ...                  0.0             0.0\n",
       "C1407   2  13.0  ...                  0.0             0.0\n",
       "C1945   3   6.0  ...                  1.0             0.0\n",
       "C1470   4  14.0  ...                  0.0             0.0\n",
       "...    ..   ...  ...                  ...             ...\n",
       "C2586   9   7.0  ...                  0.0             0.0\n",
       "C2035   5  24.0  ...                  0.0             0.0\n",
       "C2020   8   7.0  ...                  0.0             0.0\n",
       "C2437  11  12.0  ...                  0.0             1.0\n",
       "C2532   5   7.0  ...                  0.0             0.0\n",
       "\n",
       "[423 rows x 18 columns]"
      ]
     },
     "execution_count": 92,
     "metadata": {
      "tags": []
     },
     "output_type": "execute_result"
    }
   ],
   "source": [
    "x_train"
   ]
  },
  {
   "cell_type": "code",
   "execution_count": 93,
   "metadata": {
    "colab": {
     "base_uri": "https://localhost:8080/"
    },
    "executionInfo": {
     "elapsed": 16,
     "status": "ok",
     "timestamp": 1628478282530,
     "user": {
      "displayName": "정재환",
      "photoUrl": "",
      "userId": "00289451058434735723"
     },
     "user_tz": -540
    },
    "id": "7BgYp1pYEZ96",
    "outputId": "8dd7c085-9dbc-40c0-bb58-ebf764e1accf"
   },
   "outputs": [
    {
     "data": {
      "text/plain": [
       "C2483    1015.0\n",
       "C2515     205.0\n",
       "C1407    1064.0\n",
       "C1945     730.0\n",
       "C1470     553.0\n",
       "          ...  \n",
       "C2586      57.0\n",
       "C2035     246.0\n",
       "C2020      19.0\n",
       "C2437      16.0\n",
       "C2532     146.0\n",
       "Name: 등록차량수, Length: 423, dtype: float64"
      ]
     },
     "execution_count": 93,
     "metadata": {
      "tags": []
     },
     "output_type": "execute_result"
    }
   ],
   "source": [
    "y_train"
   ]
  },
  {
   "cell_type": "code",
   "execution_count": 94,
   "metadata": {
    "executionInfo": {
     "elapsed": 8,
     "status": "ok",
     "timestamp": 1628478282531,
     "user": {
      "displayName": "정재환",
      "photoUrl": "",
      "userId": "00289451058434735723"
     },
     "user_tz": -540
    },
    "id": "VWtI034PVmgo"
   },
   "outputs": [],
   "source": [
    "x_train = x_train.fillna(-1)\n",
    "y_train = y_train.fillna(-1)\n",
    "x_test = x_test.fillna(-1)"
   ]
  },
  {
   "cell_type": "code",
   "execution_count": 95,
   "metadata": {
    "colab": {
     "base_uri": "https://localhost:8080/"
    },
    "executionInfo": {
     "elapsed": 70629,
     "status": "ok",
     "timestamp": 1628478353153,
     "user": {
      "displayName": "정재환",
      "photoUrl": "",
      "userId": "00289451058434735723"
     },
     "user_tz": -540
    },
    "id": "grJnb3sGEZ7p",
    "outputId": "260f806a-bc8b-4918-ef5b-a1c310e12327"
   },
   "outputs": [
    {
     "data": {
      "text/plain": [
       "{'max_depth': 3, 'random_state': 70}"
      ]
     },
     "execution_count": 95,
     "metadata": {
      "tags": []
     },
     "output_type": "execute_result"
    }
   ],
   "source": [
    "from sklearn.metrics import make_scorer\n",
    "def rmse(p,a):\n",
    "    difference = p-a\n",
    "    squared = difference ** 2\n",
    "    mean = squared.mean()\n",
    "    score = np.sqrt(mean)\n",
    "    return score\n",
    "rmse_scorer = make_scorer(rmse, greater_is_better=False)\n",
    "rmse_scorer\n",
    "\n",
    "from sklearn.ensemble import GradientBoostingRegressor\n",
    "\n",
    "model = GradientBoostingRegressor()\n",
    "\n",
    "from sklearn.model_selection import GridSearchCV\n",
    "parameters = {\n",
    "    'max_depth':[1,2,3,4,5,6,7],\n",
    "    'random_state':[10,30,50,70,90],\n",
    "}\n",
    "GS = GridSearchCV(model, param_grid=parameters, cv=20, scoring=rmse_scorer)\n",
    "GS.fit(x_train,y_train)\n",
    "\n",
    "GS.best_params_"
   ]
  },
  {
   "cell_type": "markdown",
   "metadata": {
    "id": "tPakrp6YWW2S"
   },
   "source": [
    "#### 추론"
   ]
  },
  {
   "cell_type": "code",
   "execution_count": 96,
   "metadata": {
    "executionInfo": {
     "elapsed": 33,
     "status": "ok",
     "timestamp": 1628478353154,
     "user": {
      "displayName": "정재환",
      "photoUrl": "",
      "userId": "00289451058434735723"
     },
     "user_tz": -540
    },
    "id": "w4EvDczQEZ42"
   },
   "outputs": [],
   "source": [
    "# from sklearn.ensemble import GradientBoostingRegressor\n",
    "# from sklearn.pipeline import make_pipeline\n",
    "# from sklearn.preprocessing import RobustScaler\n",
    "# from sklearn.metrics import mean_absolute_error\n",
    "\n",
    "# model_GBoost = GradientBoostingRegressor(n_estimators=1000, \n",
    "#                                          learning_rate=0.05, \n",
    "#                                          max_depth=3,\n",
    "#                                          max_features='sqrt', \n",
    "#                                          min_samples_leaf=10,\n",
    "#                                          min_samples_split=5,\n",
    "#                                          loss='huber',\n",
    "#                                          random_state=70)\n",
    "# model_GBoost.fit(x_train, y_train)\n",
    "# GBoost_predictions=model_GBoost.predict(x_test)\n",
    "# train_GBoost=model_GBoost.predict(x_train)"
   ]
  },
  {
   "cell_type": "code",
   "execution_count": 97,
   "metadata": {
    "executionInfo": {
     "elapsed": 30,
     "status": "ok",
     "timestamp": 1628478353155,
     "user": {
      "displayName": "정재환",
      "photoUrl": "",
      "userId": "00289451058434735723"
     },
     "user_tz": -540
    },
    "id": "XrffkiK1W_z3"
   },
   "outputs": [],
   "source": [
    "# GBoost_predictions"
   ]
  },
  {
   "cell_type": "code",
   "execution_count": 98,
   "metadata": {
    "executionInfo": {
     "elapsed": 28,
     "status": "ok",
     "timestamp": 1628478353155,
     "user": {
      "displayName": "정재환",
      "photoUrl": "",
      "userId": "00289451058434735723"
     },
     "user_tz": -540
    },
    "id": "3b2s4hCYEZ2g"
   },
   "outputs": [],
   "source": [
    "# predictions=GBoost_predictions\n",
    "\n",
    "# submission['num'] = predictions\n",
    "# submission.to_csv('GBoost_model.csv', index=False)"
   ]
  },
  {
   "cell_type": "markdown",
   "metadata": {
    "id": "WsU1SzcOsV6H"
   },
   "source": [
    "### ElasticNet, Lasoo"
   ]
  },
  {
   "cell_type": "code",
   "execution_count": 99,
   "metadata": {
    "executionInfo": {
     "elapsed": 26,
     "status": "ok",
     "timestamp": 1628478353155,
     "user": {
      "displayName": "정재환",
      "photoUrl": "",
      "userId": "00289451058434735723"
     },
     "user_tz": -540
    },
    "id": "NZShG1AAEZzN"
   },
   "outputs": [],
   "source": [
    "# from sklearn.linear_model import ElasticNet, Lasso\n",
    "\n",
    "# model_Lasso = make_pipeline(RobustScaler(), Lasso(alpha=0.1, random_state=20))\n",
    "# model_ENet = make_pipeline(RobustScaler(), ElasticNet(alpha=0.1, l1_ratio=0.7, random_state=20))\n",
    "\n",
    "# model_Lasso.fit(x_train, y_train)\n",
    "# Lasso_predictions=model_Lasso.predict(x_test)\n",
    "# train_Lasso=model_Lasso.predict(x_train)\n",
    "\n",
    "# model_ENet.fit(x_train, y_train)\n",
    "# ENet_predictions=model_ENet.predict(x_test)\n",
    "# train_ENet=model_ENet.predict(x_train)"
   ]
  },
  {
   "cell_type": "code",
   "execution_count": 100,
   "metadata": {
    "executionInfo": {
     "elapsed": 25,
     "status": "ok",
     "timestamp": 1628478353156,
     "user": {
      "displayName": "정재환",
      "photoUrl": "",
      "userId": "00289451058434735723"
     },
     "user_tz": -540
    },
    "id": "ZaS0SduvvA3A"
   },
   "outputs": [],
   "source": [
    "# Lasso_predictions"
   ]
  },
  {
   "cell_type": "code",
   "execution_count": 101,
   "metadata": {
    "executionInfo": {
     "elapsed": 24,
     "status": "ok",
     "timestamp": 1628478353156,
     "user": {
      "displayName": "정재환",
      "photoUrl": "",
      "userId": "00289451058434735723"
     },
     "user_tz": -540
    },
    "id": "HN89ZRtqvN5R"
   },
   "outputs": [],
   "source": [
    "# ENet_predictions"
   ]
  },
  {
   "cell_type": "code",
   "execution_count": 102,
   "metadata": {
    "executionInfo": {
     "elapsed": 15482,
     "status": "ok",
     "timestamp": 1628478368616,
     "user": {
      "displayName": "정재환",
      "photoUrl": "",
      "userId": "00289451058434735723"
     },
     "user_tz": -540
    },
    "id": "v6Zg2U1SzLrP"
   },
   "outputs": [],
   "source": [
    "from sklearn.linear_model import ElasticNet, Lasso\n",
    "from sklearn.ensemble import GradientBoostingRegressor\n",
    "from sklearn.pipeline import make_pipeline\n",
    "from sklearn.preprocessing import RobustScaler\n",
    "from sklearn.metrics import mean_absolute_error\n",
    "\n",
    "model_Lasso = make_pipeline(RobustScaler(), Lasso(alpha=0.1, random_state=20))\n",
    "model_ENet = make_pipeline(RobustScaler(), ElasticNet(alpha=0.1, l1_ratio=0.7, random_state=20))\n",
    "model_GBoost = GradientBoostingRegressor(n_estimators=10000, learning_rate=0.05, max_depth=3,max_features='sqrt', min_samples_leaf=10,min_samples_split=5,loss='huber',random_state=70)\n",
    "\n",
    "model_Lasso.fit(x_train, y_train)\n",
    "Lasso_predictions=model_Lasso.predict(x_test)\n",
    "train_Lasso=model_Lasso.predict(x_train)\n",
    "\n",
    "model_ENet.fit(x_train, y_train)\n",
    "ENet_predictions=model_ENet.predict(x_test)\n",
    "train_ENet=model_ENet.predict(x_train)\n",
    "\n",
    "model_GBoost.fit(x_train, y_train)\n",
    "GBoost_predictions=model_GBoost.predict(x_test)\n",
    "train_GBoost=model_GBoost.predict(x_train)"
   ]
  },
  {
   "cell_type": "code",
   "execution_count": 103,
   "metadata": {
    "executionInfo": {
     "elapsed": 21,
     "status": "ok",
     "timestamp": 1628478368616,
     "user": {
      "displayName": "정재환",
      "photoUrl": "",
      "userId": "00289451058434735723"
     },
     "user_tz": -540
    },
    "id": "yJq_asB0yyEu"
   },
   "outputs": [],
   "source": [
    "# predictions=ENet_predictions\n",
    "\n",
    "# submission['num'] = predictions\n",
    "# submission.to_csv('ENet_model.csv', index=False)"
   ]
  },
  {
   "cell_type": "code",
   "execution_count": 104,
   "metadata": {
    "executionInfo": {
     "elapsed": 20,
     "status": "ok",
     "timestamp": 1628478368617,
     "user": {
      "displayName": "정재환",
      "photoUrl": "",
      "userId": "00289451058434735723"
     },
     "user_tz": -540
    },
    "id": "5NiKto2tywfg"
   },
   "outputs": [],
   "source": [
    "predictions=(Lasso_predictions + ENet_predictions + GBoost_predictions) / 3\n",
    "\n",
    "submission['num'] = predictions\n",
    "submission.to_csv('include_supply_type_3_model.csv', index=False)"
   ]
  },
  {
   "cell_type": "markdown",
   "metadata": {
    "id": "Je2GEnM3dZ6i"
   },
   "source": [
    "# 5. XGBOOST STACKING 학습\n"
   ]
  },
  {
   "cell_type": "code",
   "execution_count": 105,
   "metadata": {
    "executionInfo": {
     "elapsed": 19,
     "status": "ok",
     "timestamp": 1628478368617,
     "user": {
      "displayName": "정재환",
      "photoUrl": "",
      "userId": "00289451058434735723"
     },
     "user_tz": -540
    },
    "id": "PJddfIoGcxTf"
   },
   "outputs": [],
   "source": [
    "import xgboost as xgb\n",
    "from xgboost import XGBRegressor\n",
    "from sklearn.model_selection import train_test_split\n",
    "from xgboost import XGBClassifier"
   ]
  },
  {
   "cell_type": "code",
   "execution_count": 106,
   "metadata": {
    "executionInfo": {
     "elapsed": 26,
     "status": "ok",
     "timestamp": 1628478369260,
     "user": {
      "displayName": "정재환",
      "photoUrl": "",
      "userId": "00289451058434735723"
     },
     "user_tz": -540
    },
    "id": "dnhv7mwwoXK_"
   },
   "outputs": [],
   "source": [
    "X=train_agg.drop(columns=[target_col])\n",
    "y=train_agg[target_col]\n",
    "X_train, X_test, y_train, y_test = train_test_split(X, y, test_size=0.354, random_state=100)\n"
   ]
  },
  {
   "cell_type": "code",
   "execution_count": 107,
   "metadata": {
    "colab": {
     "base_uri": "https://localhost:8080/",
     "height": 739
    },
    "executionInfo": {
     "elapsed": 26,
     "status": "ok",
     "timestamp": 1628478369261,
     "user": {
      "displayName": "정재환",
      "photoUrl": "",
      "userId": "00289451058434735723"
     },
     "user_tz": -540
    },
    "id": "54P00Q158u6K",
    "outputId": "cb0ef9e5-15cd-4639-9ce7-e417e2420801"
   },
   "outputs": [
    {
     "data": {
      "text/html": [
       "<div>\n",
       "<style scoped>\n",
       "    .dataframe tbody tr th:only-of-type {\n",
       "        vertical-align: middle;\n",
       "    }\n",
       "\n",
       "    .dataframe tbody tr th {\n",
       "        vertical-align: top;\n",
       "    }\n",
       "\n",
       "    .dataframe thead th {\n",
       "        text-align: right;\n",
       "    }\n",
       "</style>\n",
       "<table border=\"1\" class=\"dataframe\">\n",
       "  <thead>\n",
       "    <tr style=\"text-align: right;\">\n",
       "      <th></th>\n",
       "      <th>총세대수</th>\n",
       "      <th>지역</th>\n",
       "      <th>공가수</th>\n",
       "      <th>도보 10분거리 내 지하철역 수(환승노선 수 반영)</th>\n",
       "      <th>도보 10분거리 내 버스정류장 수</th>\n",
       "      <th>단지내주차면수</th>\n",
       "      <th>임대건물구분_상가</th>\n",
       "      <th>임대건물구분_아파트</th>\n",
       "      <th>공급유형_공공임대(50년)</th>\n",
       "      <th>공급유형_공공임대(5년/10년/분납/분양)</th>\n",
       "      <th>공급유형_국민임대/장기전세</th>\n",
       "      <th>공급유형_영구임대</th>\n",
       "      <th>공급유형_임대상가</th>\n",
       "      <th>공급유형_행복주택</th>\n",
       "      <th>자격유형_A</th>\n",
       "      <th>자격유형_D</th>\n",
       "      <th>자격유형_국민임대/장기전세_공급대상</th>\n",
       "      <th>자격유형_영구임대_공급대상</th>\n",
       "      <th>자격유형_행복주택_공급대상</th>\n",
       "    </tr>\n",
       "  </thead>\n",
       "  <tbody>\n",
       "    <tr>\n",
       "      <th>C2483</th>\n",
       "      <td>900</td>\n",
       "      <td>0</td>\n",
       "      <td>38.0</td>\n",
       "      <td>0.0</td>\n",
       "      <td>3.0</td>\n",
       "      <td>1425.0</td>\n",
       "      <td>0.0</td>\n",
       "      <td>1.0</td>\n",
       "      <td>0.0</td>\n",
       "      <td>0.0</td>\n",
       "      <td>1.0</td>\n",
       "      <td>0.0</td>\n",
       "      <td>0.0</td>\n",
       "      <td>0.0</td>\n",
       "      <td>1.0</td>\n",
       "      <td>0.0</td>\n",
       "      <td>0.0</td>\n",
       "      <td>0.0</td>\n",
       "      <td>0.0</td>\n",
       "    </tr>\n",
       "    <tr>\n",
       "      <th>C2515</th>\n",
       "      <td>545</td>\n",
       "      <td>1</td>\n",
       "      <td>17.0</td>\n",
       "      <td>0.0</td>\n",
       "      <td>3.0</td>\n",
       "      <td>624.0</td>\n",
       "      <td>0.0</td>\n",
       "      <td>1.0</td>\n",
       "      <td>0.0</td>\n",
       "      <td>0.0</td>\n",
       "      <td>1.0</td>\n",
       "      <td>0.0</td>\n",
       "      <td>0.0</td>\n",
       "      <td>0.0</td>\n",
       "      <td>1.0</td>\n",
       "      <td>0.0</td>\n",
       "      <td>0.0</td>\n",
       "      <td>0.0</td>\n",
       "      <td>0.0</td>\n",
       "    </tr>\n",
       "    <tr>\n",
       "      <th>C1407</th>\n",
       "      <td>1216</td>\n",
       "      <td>2</td>\n",
       "      <td>13.0</td>\n",
       "      <td>1.0</td>\n",
       "      <td>1.0</td>\n",
       "      <td>1285.0</td>\n",
       "      <td>0.0</td>\n",
       "      <td>1.0</td>\n",
       "      <td>0.0</td>\n",
       "      <td>0.0</td>\n",
       "      <td>1.0</td>\n",
       "      <td>0.0</td>\n",
       "      <td>0.0</td>\n",
       "      <td>0.0</td>\n",
       "      <td>1.0</td>\n",
       "      <td>0.0</td>\n",
       "      <td>0.0</td>\n",
       "      <td>0.0</td>\n",
       "      <td>0.0</td>\n",
       "    </tr>\n",
       "    <tr>\n",
       "      <th>C1945</th>\n",
       "      <td>755</td>\n",
       "      <td>3</td>\n",
       "      <td>6.0</td>\n",
       "      <td>1.0</td>\n",
       "      <td>3.0</td>\n",
       "      <td>734.0</td>\n",
       "      <td>0.0</td>\n",
       "      <td>1.0</td>\n",
       "      <td>0.0</td>\n",
       "      <td>0.0</td>\n",
       "      <td>1.0</td>\n",
       "      <td>0.0</td>\n",
       "      <td>0.0</td>\n",
       "      <td>0.0</td>\n",
       "      <td>0.0</td>\n",
       "      <td>0.0</td>\n",
       "      <td>1.0</td>\n",
       "      <td>0.0</td>\n",
       "      <td>0.0</td>\n",
       "    </tr>\n",
       "    <tr>\n",
       "      <th>C1470</th>\n",
       "      <td>696</td>\n",
       "      <td>4</td>\n",
       "      <td>14.0</td>\n",
       "      <td>0.0</td>\n",
       "      <td>2.0</td>\n",
       "      <td>645.0</td>\n",
       "      <td>0.0</td>\n",
       "      <td>1.0</td>\n",
       "      <td>0.0</td>\n",
       "      <td>0.0</td>\n",
       "      <td>1.0</td>\n",
       "      <td>0.0</td>\n",
       "      <td>0.0</td>\n",
       "      <td>0.0</td>\n",
       "      <td>1.0</td>\n",
       "      <td>0.0</td>\n",
       "      <td>0.0</td>\n",
       "      <td>0.0</td>\n",
       "      <td>0.0</td>\n",
       "    </tr>\n",
       "    <tr>\n",
       "      <th>...</th>\n",
       "      <td>...</td>\n",
       "      <td>...</td>\n",
       "      <td>...</td>\n",
       "      <td>...</td>\n",
       "      <td>...</td>\n",
       "      <td>...</td>\n",
       "      <td>...</td>\n",
       "      <td>...</td>\n",
       "      <td>...</td>\n",
       "      <td>...</td>\n",
       "      <td>...</td>\n",
       "      <td>...</td>\n",
       "      <td>...</td>\n",
       "      <td>...</td>\n",
       "      <td>...</td>\n",
       "      <td>...</td>\n",
       "      <td>...</td>\n",
       "      <td>...</td>\n",
       "      <td>...</td>\n",
       "    </tr>\n",
       "    <tr>\n",
       "      <th>C2586</th>\n",
       "      <td>90</td>\n",
       "      <td>9</td>\n",
       "      <td>7.0</td>\n",
       "      <td>0.0</td>\n",
       "      <td>3.0</td>\n",
       "      <td>66.0</td>\n",
       "      <td>0.0</td>\n",
       "      <td>1.0</td>\n",
       "      <td>0.0</td>\n",
       "      <td>0.0</td>\n",
       "      <td>0.0</td>\n",
       "      <td>0.0</td>\n",
       "      <td>0.0</td>\n",
       "      <td>1.0</td>\n",
       "      <td>0.0</td>\n",
       "      <td>0.0</td>\n",
       "      <td>0.0</td>\n",
       "      <td>0.0</td>\n",
       "      <td>1.0</td>\n",
       "    </tr>\n",
       "    <tr>\n",
       "      <th>C2035</th>\n",
       "      <td>492</td>\n",
       "      <td>5</td>\n",
       "      <td>24.0</td>\n",
       "      <td>0.0</td>\n",
       "      <td>1.0</td>\n",
       "      <td>521.0</td>\n",
       "      <td>0.0</td>\n",
       "      <td>1.0</td>\n",
       "      <td>0.0</td>\n",
       "      <td>0.0</td>\n",
       "      <td>1.0</td>\n",
       "      <td>0.0</td>\n",
       "      <td>0.0</td>\n",
       "      <td>0.0</td>\n",
       "      <td>1.0</td>\n",
       "      <td>0.0</td>\n",
       "      <td>0.0</td>\n",
       "      <td>0.0</td>\n",
       "      <td>0.0</td>\n",
       "    </tr>\n",
       "    <tr>\n",
       "      <th>C2020</th>\n",
       "      <td>40</td>\n",
       "      <td>8</td>\n",
       "      <td>7.0</td>\n",
       "      <td>1.0</td>\n",
       "      <td>2.0</td>\n",
       "      <td>25.0</td>\n",
       "      <td>0.0</td>\n",
       "      <td>1.0</td>\n",
       "      <td>0.0</td>\n",
       "      <td>0.0</td>\n",
       "      <td>0.0</td>\n",
       "      <td>0.0</td>\n",
       "      <td>0.0</td>\n",
       "      <td>1.0</td>\n",
       "      <td>0.0</td>\n",
       "      <td>0.0</td>\n",
       "      <td>0.0</td>\n",
       "      <td>0.0</td>\n",
       "      <td>1.0</td>\n",
       "    </tr>\n",
       "    <tr>\n",
       "      <th>C2437</th>\n",
       "      <td>90</td>\n",
       "      <td>11</td>\n",
       "      <td>12.0</td>\n",
       "      <td>0.0</td>\n",
       "      <td>1.0</td>\n",
       "      <td>30.0</td>\n",
       "      <td>0.0</td>\n",
       "      <td>1.0</td>\n",
       "      <td>0.0</td>\n",
       "      <td>0.0</td>\n",
       "      <td>0.0</td>\n",
       "      <td>1.0</td>\n",
       "      <td>0.0</td>\n",
       "      <td>0.0</td>\n",
       "      <td>0.0</td>\n",
       "      <td>0.0</td>\n",
       "      <td>0.0</td>\n",
       "      <td>1.0</td>\n",
       "      <td>0.0</td>\n",
       "    </tr>\n",
       "    <tr>\n",
       "      <th>C2532</th>\n",
       "      <td>239</td>\n",
       "      <td>5</td>\n",
       "      <td>7.0</td>\n",
       "      <td>0.0</td>\n",
       "      <td>1.0</td>\n",
       "      <td>166.0</td>\n",
       "      <td>0.0</td>\n",
       "      <td>1.0</td>\n",
       "      <td>0.0</td>\n",
       "      <td>0.0</td>\n",
       "      <td>1.0</td>\n",
       "      <td>0.0</td>\n",
       "      <td>0.0</td>\n",
       "      <td>0.0</td>\n",
       "      <td>1.0</td>\n",
       "      <td>0.0</td>\n",
       "      <td>0.0</td>\n",
       "      <td>0.0</td>\n",
       "      <td>0.0</td>\n",
       "    </tr>\n",
       "  </tbody>\n",
       "</table>\n",
       "<p>423 rows × 19 columns</p>\n",
       "</div>"
      ],
      "text/plain": [
       "       총세대수  지역   공가수  ...  자격유형_국민임대/장기전세_공급대상  자격유형_영구임대_공급대상  자격유형_행복주택_공급대상\n",
       "C2483   900   0  38.0  ...                  0.0             0.0             0.0\n",
       "C2515   545   1  17.0  ...                  0.0             0.0             0.0\n",
       "C1407  1216   2  13.0  ...                  0.0             0.0             0.0\n",
       "C1945   755   3   6.0  ...                  1.0             0.0             0.0\n",
       "C1470   696   4  14.0  ...                  0.0             0.0             0.0\n",
       "...     ...  ..   ...  ...                  ...             ...             ...\n",
       "C2586    90   9   7.0  ...                  0.0             0.0             1.0\n",
       "C2035   492   5  24.0  ...                  0.0             0.0             0.0\n",
       "C2020    40   8   7.0  ...                  0.0             0.0             1.0\n",
       "C2437    90  11  12.0  ...                  0.0             1.0             0.0\n",
       "C2532   239   5   7.0  ...                  0.0             0.0             0.0\n",
       "\n",
       "[423 rows x 19 columns]"
      ]
     },
     "execution_count": 107,
     "metadata": {
      "tags": []
     },
     "output_type": "execute_result"
    }
   ],
   "source": [
    "X"
   ]
  },
  {
   "cell_type": "code",
   "execution_count": 108,
   "metadata": {
    "colab": {
     "base_uri": "https://localhost:8080/",
     "height": 739
    },
    "executionInfo": {
     "elapsed": 25,
     "status": "ok",
     "timestamp": 1628478369261,
     "user": {
      "displayName": "정재환",
      "photoUrl": "",
      "userId": "00289451058434735723"
     },
     "user_tz": -540
    },
    "id": "eeu4Yspz1qqB",
    "outputId": "6c371635-af30-412c-a053-c210c72080a3"
   },
   "outputs": [
    {
     "data": {
      "text/html": [
       "<div>\n",
       "<style scoped>\n",
       "    .dataframe tbody tr th:only-of-type {\n",
       "        vertical-align: middle;\n",
       "    }\n",
       "\n",
       "    .dataframe tbody tr th {\n",
       "        vertical-align: top;\n",
       "    }\n",
       "\n",
       "    .dataframe thead th {\n",
       "        text-align: right;\n",
       "    }\n",
       "</style>\n",
       "<table border=\"1\" class=\"dataframe\">\n",
       "  <thead>\n",
       "    <tr style=\"text-align: right;\">\n",
       "      <th></th>\n",
       "      <th>총세대수</th>\n",
       "      <th>지역</th>\n",
       "      <th>공가수</th>\n",
       "      <th>도보 10분거리 내 지하철역 수(환승노선 수 반영)</th>\n",
       "      <th>도보 10분거리 내 버스정류장 수</th>\n",
       "      <th>단지내주차면수</th>\n",
       "      <th>임대건물구분_상가</th>\n",
       "      <th>임대건물구분_아파트</th>\n",
       "      <th>공급유형_공공임대(50년)</th>\n",
       "      <th>공급유형_공공임대(5년/10년/분납/분양)</th>\n",
       "      <th>공급유형_국민임대/장기전세</th>\n",
       "      <th>공급유형_영구임대</th>\n",
       "      <th>공급유형_임대상가</th>\n",
       "      <th>공급유형_행복주택</th>\n",
       "      <th>자격유형_A</th>\n",
       "      <th>자격유형_D</th>\n",
       "      <th>자격유형_국민임대/장기전세_공급대상</th>\n",
       "      <th>자격유형_영구임대_공급대상</th>\n",
       "      <th>자격유형_행복주택_공급대상</th>\n",
       "    </tr>\n",
       "  </thead>\n",
       "  <tbody>\n",
       "    <tr>\n",
       "      <th>C1936</th>\n",
       "      <td>240</td>\n",
       "      <td>6</td>\n",
       "      <td>8.0</td>\n",
       "      <td>0.0</td>\n",
       "      <td>10.0</td>\n",
       "      <td>168.0</td>\n",
       "      <td>0.0</td>\n",
       "      <td>1.0</td>\n",
       "      <td>0.0</td>\n",
       "      <td>0.0</td>\n",
       "      <td>1.0</td>\n",
       "      <td>0.0</td>\n",
       "      <td>0.0</td>\n",
       "      <td>0.0</td>\n",
       "      <td>1.0</td>\n",
       "      <td>0.0</td>\n",
       "      <td>0.0</td>\n",
       "      <td>0.0</td>\n",
       "      <td>0.0</td>\n",
       "    </tr>\n",
       "    <tr>\n",
       "      <th>C2192</th>\n",
       "      <td>514</td>\n",
       "      <td>11</td>\n",
       "      <td>16.0</td>\n",
       "      <td>0.0</td>\n",
       "      <td>2.0</td>\n",
       "      <td>442.0</td>\n",
       "      <td>0.0</td>\n",
       "      <td>1.0</td>\n",
       "      <td>0.0</td>\n",
       "      <td>0.0</td>\n",
       "      <td>1.0</td>\n",
       "      <td>0.0</td>\n",
       "      <td>0.0</td>\n",
       "      <td>0.0</td>\n",
       "      <td>1.0</td>\n",
       "      <td>0.0</td>\n",
       "      <td>0.0</td>\n",
       "      <td>0.0</td>\n",
       "      <td>0.0</td>\n",
       "    </tr>\n",
       "    <tr>\n",
       "      <th>C1039</th>\n",
       "      <td>790</td>\n",
       "      <td>14</td>\n",
       "      <td>13.0</td>\n",
       "      <td>0.0</td>\n",
       "      <td>3.0</td>\n",
       "      <td>673.0</td>\n",
       "      <td>0.0</td>\n",
       "      <td>1.0</td>\n",
       "      <td>0.0</td>\n",
       "      <td>0.0</td>\n",
       "      <td>1.0</td>\n",
       "      <td>1.0</td>\n",
       "      <td>0.0</td>\n",
       "      <td>0.0</td>\n",
       "      <td>1.0</td>\n",
       "      <td>0.0</td>\n",
       "      <td>0.0</td>\n",
       "      <td>1.0</td>\n",
       "      <td>0.0</td>\n",
       "    </tr>\n",
       "    <tr>\n",
       "      <th>C1084</th>\n",
       "      <td>280</td>\n",
       "      <td>0</td>\n",
       "      <td>2.0</td>\n",
       "      <td>0.0</td>\n",
       "      <td>2.0</td>\n",
       "      <td>280.0</td>\n",
       "      <td>0.0</td>\n",
       "      <td>1.0</td>\n",
       "      <td>0.0</td>\n",
       "      <td>0.0</td>\n",
       "      <td>1.0</td>\n",
       "      <td>0.0</td>\n",
       "      <td>0.0</td>\n",
       "      <td>0.0</td>\n",
       "      <td>1.0</td>\n",
       "      <td>0.0</td>\n",
       "      <td>0.0</td>\n",
       "      <td>0.0</td>\n",
       "      <td>0.0</td>\n",
       "    </tr>\n",
       "    <tr>\n",
       "      <th>C1024</th>\n",
       "      <td>680</td>\n",
       "      <td>14</td>\n",
       "      <td>2.0</td>\n",
       "      <td>0.0</td>\n",
       "      <td>3.0</td>\n",
       "      <td>877.0</td>\n",
       "      <td>0.0</td>\n",
       "      <td>1.0</td>\n",
       "      <td>0.0</td>\n",
       "      <td>1.0</td>\n",
       "      <td>0.0</td>\n",
       "      <td>0.0</td>\n",
       "      <td>0.0</td>\n",
       "      <td>0.0</td>\n",
       "      <td>1.0</td>\n",
       "      <td>0.0</td>\n",
       "      <td>0.0</td>\n",
       "      <td>0.0</td>\n",
       "      <td>0.0</td>\n",
       "    </tr>\n",
       "    <tr>\n",
       "      <th>...</th>\n",
       "      <td>...</td>\n",
       "      <td>...</td>\n",
       "      <td>...</td>\n",
       "      <td>...</td>\n",
       "      <td>...</td>\n",
       "      <td>...</td>\n",
       "      <td>...</td>\n",
       "      <td>...</td>\n",
       "      <td>...</td>\n",
       "      <td>...</td>\n",
       "      <td>...</td>\n",
       "      <td>...</td>\n",
       "      <td>...</td>\n",
       "      <td>...</td>\n",
       "      <td>...</td>\n",
       "      <td>...</td>\n",
       "      <td>...</td>\n",
       "      <td>...</td>\n",
       "      <td>...</td>\n",
       "    </tr>\n",
       "    <tr>\n",
       "      <th>C2612</th>\n",
       "      <td>1684</td>\n",
       "      <td>15</td>\n",
       "      <td>27.0</td>\n",
       "      <td>0.0</td>\n",
       "      <td>2.0</td>\n",
       "      <td>1689.0</td>\n",
       "      <td>0.0</td>\n",
       "      <td>1.0</td>\n",
       "      <td>0.0</td>\n",
       "      <td>0.0</td>\n",
       "      <td>1.0</td>\n",
       "      <td>0.0</td>\n",
       "      <td>0.0</td>\n",
       "      <td>0.0</td>\n",
       "      <td>1.0</td>\n",
       "      <td>0.0</td>\n",
       "      <td>0.0</td>\n",
       "      <td>0.0</td>\n",
       "      <td>0.0</td>\n",
       "    </tr>\n",
       "    <tr>\n",
       "      <th>C1685</th>\n",
       "      <td>295</td>\n",
       "      <td>11</td>\n",
       "      <td>28.0</td>\n",
       "      <td>0.0</td>\n",
       "      <td>1.0</td>\n",
       "      <td>167.0</td>\n",
       "      <td>0.0</td>\n",
       "      <td>1.0</td>\n",
       "      <td>0.0</td>\n",
       "      <td>0.0</td>\n",
       "      <td>0.0</td>\n",
       "      <td>0.0</td>\n",
       "      <td>0.0</td>\n",
       "      <td>1.0</td>\n",
       "      <td>0.0</td>\n",
       "      <td>0.0</td>\n",
       "      <td>0.0</td>\n",
       "      <td>0.0</td>\n",
       "      <td>1.0</td>\n",
       "    </tr>\n",
       "    <tr>\n",
       "      <th>C1103</th>\n",
       "      <td>935</td>\n",
       "      <td>5</td>\n",
       "      <td>31.0</td>\n",
       "      <td>0.0</td>\n",
       "      <td>2.0</td>\n",
       "      <td>939.0</td>\n",
       "      <td>0.0</td>\n",
       "      <td>1.0</td>\n",
       "      <td>0.0</td>\n",
       "      <td>0.0</td>\n",
       "      <td>1.0</td>\n",
       "      <td>0.0</td>\n",
       "      <td>0.0</td>\n",
       "      <td>0.0</td>\n",
       "      <td>1.0</td>\n",
       "      <td>0.0</td>\n",
       "      <td>0.0</td>\n",
       "      <td>0.0</td>\n",
       "      <td>0.0</td>\n",
       "    </tr>\n",
       "    <tr>\n",
       "      <th>C1310</th>\n",
       "      <td>1037</td>\n",
       "      <td>5</td>\n",
       "      <td>17.0</td>\n",
       "      <td>0.0</td>\n",
       "      <td>6.0</td>\n",
       "      <td>936.0</td>\n",
       "      <td>0.0</td>\n",
       "      <td>1.0</td>\n",
       "      <td>0.0</td>\n",
       "      <td>0.0</td>\n",
       "      <td>1.0</td>\n",
       "      <td>0.0</td>\n",
       "      <td>0.0</td>\n",
       "      <td>0.0</td>\n",
       "      <td>1.0</td>\n",
       "      <td>0.0</td>\n",
       "      <td>0.0</td>\n",
       "      <td>0.0</td>\n",
       "      <td>0.0</td>\n",
       "    </tr>\n",
       "    <tr>\n",
       "      <th>C2073</th>\n",
       "      <td>361</td>\n",
       "      <td>5</td>\n",
       "      <td>13.0</td>\n",
       "      <td>0.0</td>\n",
       "      <td>5.0</td>\n",
       "      <td>288.0</td>\n",
       "      <td>0.0</td>\n",
       "      <td>1.0</td>\n",
       "      <td>0.0</td>\n",
       "      <td>0.0</td>\n",
       "      <td>1.0</td>\n",
       "      <td>0.0</td>\n",
       "      <td>0.0</td>\n",
       "      <td>0.0</td>\n",
       "      <td>1.0</td>\n",
       "      <td>0.0</td>\n",
       "      <td>0.0</td>\n",
       "      <td>0.0</td>\n",
       "      <td>0.0</td>\n",
       "    </tr>\n",
       "  </tbody>\n",
       "</table>\n",
       "<p>273 rows × 19 columns</p>\n",
       "</div>"
      ],
      "text/plain": [
       "       총세대수  지역   공가수  ...  자격유형_국민임대/장기전세_공급대상  자격유형_영구임대_공급대상  자격유형_행복주택_공급대상\n",
       "C1936   240   6   8.0  ...                  0.0             0.0             0.0\n",
       "C2192   514  11  16.0  ...                  0.0             0.0             0.0\n",
       "C1039   790  14  13.0  ...                  0.0             1.0             0.0\n",
       "C1084   280   0   2.0  ...                  0.0             0.0             0.0\n",
       "C1024   680  14   2.0  ...                  0.0             0.0             0.0\n",
       "...     ...  ..   ...  ...                  ...             ...             ...\n",
       "C2612  1684  15  27.0  ...                  0.0             0.0             0.0\n",
       "C1685   295  11  28.0  ...                  0.0             0.0             1.0\n",
       "C1103   935   5  31.0  ...                  0.0             0.0             0.0\n",
       "C1310  1037   5  17.0  ...                  0.0             0.0             0.0\n",
       "C2073   361   5  13.0  ...                  0.0             0.0             0.0\n",
       "\n",
       "[273 rows x 19 columns]"
      ]
     },
     "execution_count": 108,
     "metadata": {
      "tags": []
     },
     "output_type": "execute_result"
    }
   ],
   "source": [
    "X_train"
   ]
  },
  {
   "cell_type": "code",
   "execution_count": 109,
   "metadata": {
    "colab": {
     "base_uri": "https://localhost:8080/"
    },
    "executionInfo": {
     "elapsed": 23,
     "status": "ok",
     "timestamp": 1628478369262,
     "user": {
      "displayName": "정재환",
      "photoUrl": "",
      "userId": "00289451058434735723"
     },
     "user_tz": -540
    },
    "id": "OfnVxxGn1tsI",
    "outputId": "962462a7-27e1-4f98-da5c-8475f0437fe3"
   },
   "outputs": [
    {
     "data": {
      "text/plain": [
       "C1936     234.0\n",
       "C2192     324.0\n",
       "C1039     645.0\n",
       "C1084     226.0\n",
       "C1024     957.0\n",
       "          ...  \n",
       "C2612    1832.0\n",
       "C1685     164.0\n",
       "C1103     787.0\n",
       "C1310    1084.0\n",
       "C2073     301.0\n",
       "Name: 등록차량수, Length: 273, dtype: float64"
      ]
     },
     "execution_count": 109,
     "metadata": {
      "tags": []
     },
     "output_type": "execute_result"
    }
   ],
   "source": [
    "y_train"
   ]
  },
  {
   "cell_type": "code",
   "execution_count": 110,
   "metadata": {
    "colab": {
     "base_uri": "https://localhost:8080/"
    },
    "executionInfo": {
     "elapsed": 17,
     "status": "ok",
     "timestamp": 1628478369263,
     "user": {
      "displayName": "정재환",
      "photoUrl": "",
      "userId": "00289451058434735723"
     },
     "user_tz": -540
    },
    "id": "gjVLqEH52px3",
    "outputId": "9c37a2d8-5897-44a5-ff37-f09e339bc7b0"
   },
   "outputs": [
    {
     "name": "stdout",
     "output_type": "stream",
     "text": [
      "[03:06:10] WARNING: /workspace/src/objective/regression_obj.cu:152: reg:linear is now deprecated in favor of reg:squarederror.\n"
     ]
    },
    {
     "data": {
      "text/plain": [
       "XGBRegressor(base_score=0.5, booster='gbtree', colsample_bylevel=1,\n",
       "             colsample_bynode=1, colsample_bytree=1, gamma=0,\n",
       "             importance_type='gain', learning_rate=0.1, max_delta_step=0,\n",
       "             max_depth=3, min_child_weight=1, missing=None, n_estimators=100,\n",
       "             n_jobs=1, nthread=None, objective='reg:linear', random_state=0,\n",
       "             reg_alpha=0, reg_lambda=1, scale_pos_weight=1, seed=None,\n",
       "             silent=None, subsample=1, verbosity=1)"
      ]
     },
     "execution_count": 110,
     "metadata": {
      "tags": []
     },
     "output_type": "execute_result"
    }
   ],
   "source": [
    "xgb_model = xgb.XGBRegressor(max_depth=3, learning_rate=0.1, n_estimators=100, verbosity=1, silent=None, objective='reg:linear', booster='gbtree', n_jobs=1, nthread=None, gamma=0, min_child_weight=1, max_delta_step=0, subsample=1, colsample_bytree=1, colsample_bylevel=1, colsample_bynode=1, reg_alpha=0, reg_lambda=1, scale_pos_weight=1, base_score=0.5, random_state=0, seed=None, missing=None, importance_type='gain')\n",
    "\n",
    "xgb_model.fit(X_train, y_train)"
   ]
  },
  {
   "cell_type": "code",
   "execution_count": 111,
   "metadata": {
    "colab": {
     "base_uri": "https://localhost:8080/",
     "height": 350
    },
    "executionInfo": {
     "elapsed": 768,
     "status": "ok",
     "timestamp": 1628478370017,
     "user": {
      "displayName": "정재환",
      "photoUrl": "",
      "userId": "00289451058434735723"
     },
     "user_tz": -540
    },
    "id": "SiG7CCB03fU9",
    "outputId": "5b31cd09-164d-41ba-aed8-4589eee98b49"
   },
   "outputs": [
    {
     "data": {
      "text/plain": [
       "<matplotlib.axes._subplots.AxesSubplot at 0x7f099a467b10>"
      ]
     },
     "execution_count": 111,
     "metadata": {
      "tags": []
     },
     "output_type": "execute_result"
    },
    {
     "name": "stderr",
     "output_type": "stream",
     "text": [
      "findfont: Font family ['NanumBarunGothic'] not found. Falling back to DejaVu Sans.\n",
      "findfont: Font family ['NanumBarunGothic'] not found. Falling back to DejaVu Sans.\n"
     ]
    },
    {
     "data": {
      "image/png": "[encoded data removed]",
      "text/plain": [
       "<Figure size 432x288 with 1 Axes>"
      ]
     },
     "metadata": {
      "needs_background": "light",
      "tags": []
     },
     "output_type": "display_data"
    }
   ],
   "source": [
    "xgb.plot_importance(xgb_model)"
   ]
  },
  {
   "cell_type": "code",
   "execution_count": 112,
   "metadata": {
    "colab": {
     "base_uri": "https://localhost:8080/"
    },
    "executionInfo": {
     "elapsed": 48,
     "status": "ok",
     "timestamp": 1628478370018,
     "user": {
      "displayName": "정재환",
      "photoUrl": "",
      "userId": "00289451058434735723"
     },
     "user_tz": -540
    },
    "id": "58IHwwLe70Zu",
    "outputId": "f575f495-32de-4dca-a198-f0dc951818cb"
   },
   "outputs": [
    {
     "data": {
      "text/plain": [
       "C1962    401.0\n",
       "C1565    588.0\n",
       "C1516    475.0\n",
       "C1911    831.0\n",
       "C2520    386.0\n",
       "         ...  \n",
       "C1077    236.0\n",
       "C2143    719.0\n",
       "C2034    132.0\n",
       "C1316     22.0\n",
       "C2362    196.0\n",
       "Name: 등록차량수, Length: 150, dtype: float64"
      ]
     },
     "execution_count": 112,
     "metadata": {
      "tags": []
     },
     "output_type": "execute_result"
    }
   ],
   "source": [
    "y_test"
   ]
  },
  {
   "cell_type": "code",
   "execution_count": 113,
   "metadata": {
    "colab": {
     "base_uri": "https://localhost:8080/"
    },
    "executionInfo": {
     "elapsed": 36,
     "status": "ok",
     "timestamp": 1628478370019,
     "user": {
      "displayName": "정재환",
      "photoUrl": "",
      "userId": "00289451058434735723"
     },
     "user_tz": -540
    },
    "id": "BdWXw4KFz79n",
    "outputId": "134b6ae6-ff30-437b-bfda-6c4894bfa9da"
   },
   "outputs": [
    {
     "data": {
      "text/plain": [
       "array([ 277.0732  ,  482.37656 ,  355.55502 ,  871.18475 ,  394.03116 ,\n",
       "        407.63684 ,  569.31726 ,  290.01132 ,  282.80014 ,  113.022964,\n",
       "        870.8344  , 1222.034   ,  262.57413 ,  467.95834 ,  344.56696 ,\n",
       "        647.9425  , 1128.4954  ,  500.13226 ,  378.5233  ,  858.12256 ,\n",
       "         54.027767, 1206.277   ,  826.36566 ,  437.46112 ,  647.9425  ,\n",
       "        277.7303  ,  744.3805  ,  864.68176 , 1343.7732  ,  437.54453 ,\n",
       "        201.45512 ,  280.50803 , 1234.9764  ,  678.4609  ,  811.9528  ,\n",
       "        484.49402 ,  516.12787 ,  458.53812 ,  476.6031  ,  182.70421 ,\n",
       "        572.68756 ,  275.63544 , 1332.9845  ,  565.14374 ,  711.3758  ,\n",
       "        641.66296 ,  858.5115  ,  394.34207 ,  647.9425  ,  402.64014 ,\n",
       "        211.0626  ,   94.8915  ,  617.44635 ,  420.1083  ,  244.32082 ,\n",
       "        856.4349  ,  254.76372 ,  371.9541  ,  423.6303  ,  858.59155 ,\n",
       "       1244.9521  ,  192.23946 ,  339.40927 ,  277.7303  ,  565.4193  ,\n",
       "       1671.497   ,  622.5171  ,  484.0406  ,  408.81143 ,  128.2356  ,\n",
       "        838.7077  ,  265.7069  ,  617.3533  ,  718.31085 ,  802.8921  ,\n",
       "        651.3927  ,  540.4143  ,  258.7733  ,  290.2112  ,  246.28444 ,\n",
       "        791.2481  ,  618.3603  ,  419.63184 ,  788.6343  ,  779.43085 ,\n",
       "       1801.5946  , 1018.6232  , 1185.3207  ,  677.4035  ,   93.55564 ,\n",
       "       1209.5084  ,  396.63632 ,  575.9856  ,   61.79429 ,  287.52258 ,\n",
       "        498.1865  ,  989.49994 ,  466.00082 ,  681.6178  ,  851.2712  ,\n",
       "        273.06363 ,   55.817562,  180.75502 ,  594.47217 ,  556.162   ,\n",
       "        527.47437 ,  600.7304  , 1220.2922  ,  420.7715  ,  392.9953  ,\n",
       "       1553.4316  ,  543.6297  ,  442.4222  , 2011.9844  ,  412.70993 ,\n",
       "        376.65854 ,  680.35596 ,  473.11697 ,  559.51196 ,  639.8847  ,\n",
       "        451.18958 ,  705.16455 ,  503.51868 ,  585.49005 ,  374.1034  ,\n",
       "        465.2671  ,  465.4518  , 1627.1437  ,  418.39227 ,  476.28668 ,\n",
       "        839.6147  ,  813.45166 ,  267.93875 , 1933.4285  ,  123.06599 ,\n",
       "        487.75183 ,  144.22205 ,  421.87155 ,  883.77277 , 1449.0503  ,\n",
       "       1140.0277  ,  394.34018 ,  436.9972  ,   28.454971,  769.4824  ,\n",
       "        605.30774 ,  578.38477 ,  252.094   ,   99.98408 , 1002.9745  ],\n",
       "      dtype=float32)"
      ]
     },
     "execution_count": 113,
     "metadata": {
      "tags": []
     },
     "output_type": "execute_result"
    }
   ],
   "source": [
    "predictions_xgb = xgb_model.predict(X_test)\n",
    "predictions_xgb"
   ]
  },
  {
   "cell_type": "code",
   "execution_count": 114,
   "metadata": {
    "colab": {
     "base_uri": "https://localhost:8080/"
    },
    "executionInfo": {
     "elapsed": 28,
     "status": "ok",
     "timestamp": 1628478370019,
     "user": {
      "displayName": "정재환",
      "photoUrl": "",
      "userId": "00289451058434735723"
     },
     "user_tz": -540
    },
    "id": "2jIxEnNn5NnS",
    "outputId": "1ccc5395-0a49-40bf-f51d-1f2086b7bac3"
   },
   "outputs": [
    {
     "name": "stdout",
     "output_type": "stream",
     "text": [
      "0.9574627089283709\n",
      "0.6966534478912529\n"
     ]
    }
   ],
   "source": [
    "from sklearn.metrics import explained_variance_score\n",
    "r_sq = xgb_model.score(X_train, y_train)\n",
    "print(r_sq)\n",
    "print(explained_variance_score(predictions_xgb, y_test))"
   ]
  },
  {
   "cell_type": "code",
   "execution_count": 114,
   "metadata": {
    "executionInfo": {
     "elapsed": 23,
     "status": "ok",
     "timestamp": 1628478370019,
     "user": {
      "displayName": "정재환",
      "photoUrl": "",
      "userId": "00289451058434735723"
     },
     "user_tz": -540
    },
    "id": "xxeX_-ND3tGm"
   },
   "outputs": [],
   "source": []
  },
  {
   "cell_type": "code",
   "execution_count": 115,
   "metadata": {
    "colab": {
     "base_uri": "https://localhost:8080/"
    },
    "executionInfo": {
     "elapsed": 23,
     "status": "ok",
     "timestamp": 1628478370020,
     "user": {
      "displayName": "정재환",
      "photoUrl": "",
      "userId": "00289451058434735723"
     },
     "user_tz": -540
    },
    "id": "aliRJ-MC50Ou",
    "outputId": "24c430cc-b48e-4c92-e9ee-134778077f6e"
   },
   "outputs": [
    {
     "data": {
      "text/plain": [
       "150"
      ]
     },
     "execution_count": 115,
     "metadata": {
      "tags": []
     },
     "output_type": "execute_result"
    }
   ],
   "source": [
    "len(predictions_xgb)"
   ]
  },
  {
   "cell_type": "code",
   "execution_count": 116,
   "metadata": {
    "executionInfo": {
     "elapsed": 19,
     "status": "ok",
     "timestamp": 1628478370020,
     "user": {
      "displayName": "정재환",
      "photoUrl": "",
      "userId": "00289451058434735723"
     },
     "user_tz": -540
    },
    "id": "u4lsh-fm32JU"
   },
   "outputs": [],
   "source": [
    "submission['num'] = predictions_xgb\n",
    "submission.to_csv('xgboost_ver.csv', index=False)"
   ]
  },
  {
   "cell_type": "code",
   "execution_count": null,
   "metadata": {
    "id": "KHinlnxRSRTW"
   },
   "outputs": [],
   "source": []
  },
  {
   "cell_type": "code",
   "execution_count": null,
   "metadata": {
    "id": "mm5E0dWYSRQk"
   },
   "outputs": [],
   "source": []
  },
  {
   "cell_type": "code",
   "execution_count": 117,
   "metadata": {
    "executionInfo": {
     "elapsed": 20,
     "status": "ok",
     "timestamp": 1628478370021,
     "user": {
      "displayName": "정재환",
      "photoUrl": "",
      "userId": "00289451058434735723"
     },
     "user_tz": -540
    },
    "id": "L9mDT54_2PB8"
   },
   "outputs": [],
   "source": [
    "# xgb_reg = XGBRegressor(max_depth=3, learning_rate=0.1, n_estimators=100, verbosity=1, silent=None, objective='binary:logistic', booster='gbtree', n_jobs=1, nthread=None, gamma=0, min_child_weight=1, max_delta_step=0, subsample=1, colsample_bytree=1, colsample_bylevel=1, colsample_bynode=1, reg_alpha=0, reg_lambda=1, scale_pos_weight=1, base_score=0.5, random_state=0, seed=None, missing=None)\n",
    "# xgb_reg.fit(X_train, y_train)\n",
    "# xgb_pred = xgb_reg.predict(X_test)\n",
    "# xgb_pred_proba=xgb_reg.predict_proba(X_test)[:,1]"
   ]
  },
  {
   "cell_type": "code",
   "execution_count": 118,
   "metadata": {
    "executionInfo": {
     "elapsed": 19,
     "status": "ok",
     "timestamp": 1628478370021,
     "user": {
      "displayName": "정재환",
      "photoUrl": "",
      "userId": "00289451058434735723"
     },
     "user_tz": -540
    },
    "id": "Wf0pIxL5jqqN"
   },
   "outputs": [],
   "source": [
    "# train_agg1 = train_agg.reset_index()\n",
    "# test_agg1 = test_agg.reset_index()\n",
    "# train_agg1 = train_agg1.fillna(-1)\n",
    "# test_agg1 = test_agg1.fillna(-1)"
   ]
  },
  {
   "cell_type": "code",
   "execution_count": 119,
   "metadata": {
    "executionInfo": {
     "elapsed": 20,
     "status": "ok",
     "timestamp": 1628478370022,
     "user": {
      "displayName": "정재환",
      "photoUrl": "",
      "userId": "00289451058434735723"
     },
     "user_tz": -540
    },
    "id": "cDaBAUypzLwt"
   },
   "outputs": [],
   "source": [
    "# train_agg1"
   ]
  },
  {
   "cell_type": "code",
   "execution_count": 120,
   "metadata": {
    "executionInfo": {
     "elapsed": 19,
     "status": "ok",
     "timestamp": 1628478370022,
     "user": {
      "displayName": "정재환",
      "photoUrl": "",
      "userId": "00289451058434735723"
     },
     "user_tz": -540
    },
    "id": "c3L7hpA-6Jtz"
   },
   "outputs": [],
   "source": [
    "# x_train = train_agg1.iloc[:, 3:-1]\n",
    "# y_train = train_agg1.iloc[:,6]\n",
    "# x_test = test_agg1.iloc[:,1:]"
   ]
  },
  {
   "cell_type": "code",
   "execution_count": 121,
   "metadata": {
    "executionInfo": {
     "elapsed": 20,
     "status": "ok",
     "timestamp": 1628478370023,
     "user": {
      "displayName": "정재환",
      "photoUrl": "",
      "userId": "00289451058434735723"
     },
     "user_tz": -540
    },
    "id": "XoXkF57qy_wZ"
   },
   "outputs": [],
   "source": [
    "# y_train"
   ]
  },
  {
   "cell_type": "code",
   "execution_count": 122,
   "metadata": {
    "executionInfo": {
     "elapsed": 20,
     "status": "ok",
     "timestamp": 1628478370023,
     "user": {
      "displayName": "정재환",
      "photoUrl": "",
      "userId": "00289451058434735723"
     },
     "user_tz": -540
    },
    "id": "s2u27SkOC3e6"
   },
   "outputs": [],
   "source": [
    "# x_test"
   ]
  },
  {
   "cell_type": "code",
   "execution_count": 123,
   "metadata": {
    "executionInfo": {
     "elapsed": 20,
     "status": "ok",
     "timestamp": 1628478370024,
     "user": {
      "displayName": "정재환",
      "photoUrl": "",
      "userId": "00289451058434735723"
     },
     "user_tz": -540
    },
    "id": "_Fti0eNAOnhJ"
   },
   "outputs": [],
   "source": [
    "from sklearn.model_selection import train_test_split\n",
    "from xgboost import XGBClassifier"
   ]
  },
  {
   "cell_type": "code",
   "execution_count": 124,
   "metadata": {
    "executionInfo": {
     "elapsed": 20,
     "status": "ok",
     "timestamp": 1628478370024,
     "user": {
      "displayName": "정재환",
      "photoUrl": "",
      "userId": "00289451058434735723"
     },
     "user_tz": -540
    },
    "id": "Gey3QGwm8JTB"
   },
   "outputs": [],
   "source": [
    "# target_col = '등록차량수'"
   ]
  },
  {
   "cell_type": "code",
   "execution_count": 125,
   "metadata": {
    "executionInfo": {
     "elapsed": 20,
     "status": "ok",
     "timestamp": 1628478370024,
     "user": {
      "displayName": "정재환",
      "photoUrl": "",
      "userId": "00289451058434735723"
     },
     "user_tz": -540
    },
    "id": "-9iFblLA8CFP"
   },
   "outputs": [],
   "source": [
    "# X=train_agg1.drop(columns=[target_col])\n",
    "# y=train_agg1[target_col]\n",
    "# X_train, X_test, y_train, y_test = train_test_split(X, y, test_size=0.2, random_state=100)"
   ]
  },
  {
   "cell_type": "code",
   "execution_count": 126,
   "metadata": {
    "executionInfo": {
     "elapsed": 20,
     "status": "ok",
     "timestamp": 1628478370025,
     "user": {
      "displayName": "정재환",
      "photoUrl": "",
      "userId": "00289451058434735723"
     },
     "user_tz": -540
    },
    "id": "A8-IysgRZaZn"
   },
   "outputs": [],
   "source": [
    "# X_train = train_agg1.iloc[:, 3:-1]\n",
    "# y_train = train_agg1.iloc[:,6]\n",
    "# X_test = test_agg1.iloc[:,1:]"
   ]
  },
  {
   "cell_type": "code",
   "execution_count": 127,
   "metadata": {
    "executionInfo": {
     "elapsed": 20,
     "status": "ok",
     "timestamp": 1628478370025,
     "user": {
      "displayName": "정재환",
      "photoUrl": "",
      "userId": "00289451058434735723"
     },
     "user_tz": -540
    },
    "id": "P-2tqjHNUcfC"
   },
   "outputs": [],
   "source": [
    "# X_train"
   ]
  },
  {
   "cell_type": "code",
   "execution_count": 128,
   "metadata": {
    "executionInfo": {
     "elapsed": 19,
     "status": "ok",
     "timestamp": 1628478370025,
     "user": {
      "displayName": "정재환",
      "photoUrl": "",
      "userId": "00289451058434735723"
     },
     "user_tz": -540
    },
    "id": "7IE9HqVCUjcK"
   },
   "outputs": [],
   "source": [
    "# y_train"
   ]
  },
  {
   "cell_type": "code",
   "execution_count": 129,
   "metadata": {
    "executionInfo": {
     "elapsed": 20,
     "status": "ok",
     "timestamp": 1628478370026,
     "user": {
      "displayName": "정재환",
      "photoUrl": "",
      "userId": "00289451058434735723"
     },
     "user_tz": -540
    },
    "id": "1GOGKUwLlVOl"
   },
   "outputs": [],
   "source": [
    "# X_test"
   ]
  },
  {
   "cell_type": "code",
   "execution_count": 130,
   "metadata": {
    "executionInfo": {
     "elapsed": 20,
     "status": "ok",
     "timestamp": 1628478370026,
     "user": {
      "displayName": "정재환",
      "photoUrl": "",
      "userId": "00289451058434735723"
     },
     "user_tz": -540
    },
    "id": "JSUgU2o8YSh2"
   },
   "outputs": [],
   "source": [
    "# X_train = np.asarray(X_train, dtype = int)\n",
    "# y_train = np.asarray(y_train, dtype = int)"
   ]
  },
  {
   "cell_type": "code",
   "execution_count": 131,
   "metadata": {
    "executionInfo": {
     "elapsed": 20,
     "status": "ok",
     "timestamp": 1628478370027,
     "user": {
      "displayName": "정재환",
      "photoUrl": "",
      "userId": "00289451058434735723"
     },
     "user_tz": -540
    },
    "id": "SFJKByvfjy6c"
   },
   "outputs": [],
   "source": [
    "# xgb_stk = XGBClassifier(max_depth=3, learning_rate=0.1, n_estimators=100, verbosity=1, silent=None, objective='binary:logistic', booster='gbtree', n_jobs=1, nthread=None, gamma=0, min_child_weight=1, max_delta_step=0, subsample=1, colsample_bytree=1, colsample_bylevel=1, colsample_bynode=1, reg_alpha=0, reg_lambda=1, scale_pos_weight=1, base_score=0.5, random_state=0, seed=None, missing=None)\n",
    "# xgb_stk.fit(X_train, y_train)\n",
    "# xgb_pred = xgb_stk.predict(X_test)\n",
    "# xgb_pred_proba=xgb_stk.predict_proba(X_test)[:,1]"
   ]
  },
  {
   "cell_type": "code",
   "execution_count": 131,
   "metadata": {
    "executionInfo": {
     "elapsed": 19,
     "status": "ok",
     "timestamp": 1628478370027,
     "user": {
      "displayName": "정재환",
      "photoUrl": "",
      "userId": "00289451058434735723"
     },
     "user_tz": -540
    },
    "id": "5HtH2ucGjy4I"
   },
   "outputs": [],
   "source": []
  },
  {
   "cell_type": "code",
   "execution_count": 131,
   "metadata": {
    "executionInfo": {
     "elapsed": 20,
     "status": "ok",
     "timestamp": 1628478370028,
     "user": {
      "displayName": "정재환",
      "photoUrl": "",
      "userId": "00289451058434735723"
     },
     "user_tz": -540
    },
    "id": "fTAuSaqKjy1w"
   },
   "outputs": [],
   "source": []
  },
  {
   "cell_type": "code",
   "execution_count": 131,
   "metadata": {
    "executionInfo": {
     "elapsed": 20,
     "status": "ok",
     "timestamp": 1628478370029,
     "user": {
      "displayName": "정재환",
      "photoUrl": "",
      "userId": "00289451058434735723"
     },
     "user_tz": -540
    },
    "id": "-pmvgGxgjyzR"
   },
   "outputs": [],
   "source": []
  },
  {
   "cell_type": "code",
   "execution_count": 131,
   "metadata": {
    "executionInfo": {
     "elapsed": 20,
     "status": "ok",
     "timestamp": 1628478370029,
     "user": {
      "displayName": "정재환",
      "photoUrl": "",
      "userId": "00289451058434735723"
     },
     "user_tz": -540
    },
    "id": "59rFaehYjypw"
   },
   "outputs": [],
   "source": []
  },
  {
   "cell_type": "code",
   "execution_count": 132,
   "metadata": {
    "executionInfo": {
     "elapsed": 21,
     "status": "ok",
     "timestamp": 1628478370030,
     "user": {
      "displayName": "정재환",
      "photoUrl": "",
      "userId": "00289451058434735723"
     },
     "user_tz": -540
    },
    "id": "Gm27g3XtIBqH"
   },
   "outputs": [],
   "source": [
    "# from sklearn.model_selection import RandomizedSearchCV\n",
    "# model = XGBRegressor(tree_method='auto')\n",
    "# param_lst = {\n",
    "#     'learning_rate' : [0.01, 0.1, 0.15, 0.3, 0.5],#0.1\n",
    "#     'n_estimators' : [100,200],#10\n",
    "#     'max_depth' : [3, 6, 9],#5\n",
    "#     'min_child_weight' : [1, 5, 10, 20],#1\n",
    "#     'reg_alpha' : [0.001, 0.01, 0.1],#0\n",
    "#     'reg_lambda' : [0.001, 0.01, 0.1]#1\n",
    "# }\n",
    "\n",
    "# model.fit(x_train, y_train)\n",
    "# xgb_predictions = model.predict(x_test)\n",
    "# train_XGB = model_XGB.predict(x_train)"
   ]
  },
  {
   "cell_type": "code",
   "execution_count": 133,
   "metadata": {
    "executionInfo": {
     "elapsed": 23,
     "status": "ok",
     "timestamp": 1628478370032,
     "user": {
      "displayName": "정재환",
      "photoUrl": "",
      "userId": "00289451058434735723"
     },
     "user_tz": -540
    },
    "id": "H1rtoD9G8Mdt"
   },
   "outputs": [],
   "source": [
    "# from sklearn.model_selection import GridSearchCV\n",
    "# from sklearn.model_selection import RandomizedSearchCV\n",
    "# model = XGBRegressor(tree_method='auto')\n",
    "# param_lst = {\n",
    "#     'learning_rate' : [0.01, 0.1, 0.15, 0.3, 0.5],#0.1\n",
    "#     'n_estimators' : [100,200],#10\n",
    "#     'max_depth' : [3, 6, 9],#5\n",
    "#     'min_child_weight' : [1, 5, 10, 20],#1\n",
    "#     'reg_alpha' : [0.001, 0.01, 0.1],#0\n",
    "#     'reg_lambda' : [0.001, 0.01, 0.1]#1\n",
    "# }\n",
    "\n",
    "# xgb_reg = xgb.XGBRegressor(objective ='reg:linear', colsample_bytree = 0.3, \n",
    "#                           learning_rate = 0.1, max_depth = 5, \n",
    "#                           alpha = 10, n_estimators = 10)\n",
    "       \n",
    "# xgb_search = xgb_reg.fit(X_train, y_train)\n",
    "# print(\"dd\")\n",
    "# print(xgb_search)\n",
    "# # XGB with tune hyperparameters\n",
    "# # best_param = xgb_search.param_list\n",
    "# # model = XGBRegressor(best_param)\n",
    "# # print(best_param)"
   ]
  },
  {
   "cell_type": "code",
   "execution_count": 134,
   "metadata": {
    "colab": {
     "base_uri": "https://localhost:8080/",
     "height": 334
    },
    "executionInfo": {
     "elapsed": 1067,
     "status": "error",
     "timestamp": 1628478371077,
     "user": {
      "displayName": "정재환",
      "photoUrl": "",
      "userId": "00289451058434735723"
     },
     "user_tz": -540
    },
    "id": "tVT7vGg88CCw",
    "outputId": "1709a492-af10-4b16-b3b6-e1ef65ea3f05"
   },
   "outputs": [
    {
     "ename": "ValueError",
     "evalue": "ignored",
     "output_type": "error",
     "traceback": [
      "\u001b[0;31m---------------------------------------------------------------------------\u001b[0m",
      "\u001b[0;31mValueError\u001b[0m                                Traceback (most recent call last)",
      "\u001b[0;32m<ipython-input-134-d768f88d541e>\u001b[0m in \u001b[0;36m<module>\u001b[0;34m()\u001b[0m\n\u001b[0;32m----> 1\u001b[0;31m \u001b[0mmodel\u001b[0m\u001b[0;34m.\u001b[0m\u001b[0mfit\u001b[0m\u001b[0;34m(\u001b[0m\u001b[0mX_train\u001b[0m\u001b[0;34m,\u001b[0m \u001b[0my_train\u001b[0m\u001b[0;34m)\u001b[0m\u001b[0;34m\u001b[0m\u001b[0;34m\u001b[0m\u001b[0m\n\u001b[0m",
      "\u001b[0;32m/usr/local/lib/python3.7/dist-packages/sklearn/ensemble/_gb.py\u001b[0m in \u001b[0;36mfit\u001b[0;34m(self, X, y, sample_weight, monitor)\u001b[0m\n\u001b[1;32m   1439\u001b[0m         \u001b[0;31m# Since check_array converts both X and y to the same dtype, but the\u001b[0m\u001b[0;34m\u001b[0m\u001b[0;34m\u001b[0m\u001b[0;34m\u001b[0m\u001b[0m\n\u001b[1;32m   1440\u001b[0m         \u001b[0;31m# trees use different types for X and y, checking them separately.\u001b[0m\u001b[0;34m\u001b[0m\u001b[0;34m\u001b[0m\u001b[0;34m\u001b[0m\u001b[0m\n\u001b[0;32m-> 1441\u001b[0;31m         \u001b[0mX\u001b[0m \u001b[0;34m=\u001b[0m \u001b[0mcheck_array\u001b[0m\u001b[0;34m(\u001b[0m\u001b[0mX\u001b[0m\u001b[0;34m,\u001b[0m \u001b[0maccept_sparse\u001b[0m\u001b[0;34m=\u001b[0m\u001b[0;34m[\u001b[0m\u001b[0;34m'csr'\u001b[0m\u001b[0;34m,\u001b[0m \u001b[0;34m'csc'\u001b[0m\u001b[0;34m,\u001b[0m \u001b[0;34m'coo'\u001b[0m\u001b[0;34m]\u001b[0m\u001b[0;34m,\u001b[0m \u001b[0mdtype\u001b[0m\u001b[0;34m=\u001b[0m\u001b[0mDTYPE\u001b[0m\u001b[0;34m)\u001b[0m\u001b[0;34m\u001b[0m\u001b[0;34m\u001b[0m\u001b[0m\n\u001b[0m\u001b[1;32m   1442\u001b[0m         \u001b[0mn_samples\u001b[0m\u001b[0;34m,\u001b[0m \u001b[0mself\u001b[0m\u001b[0;34m.\u001b[0m\u001b[0mn_features_\u001b[0m \u001b[0;34m=\u001b[0m \u001b[0mX\u001b[0m\u001b[0;34m.\u001b[0m\u001b[0mshape\u001b[0m\u001b[0;34m\u001b[0m\u001b[0;34m\u001b[0m\u001b[0m\n\u001b[1;32m   1443\u001b[0m \u001b[0;34m\u001b[0m\u001b[0m\n",
      "\u001b[0;32m/usr/local/lib/python3.7/dist-packages/sklearn/utils/validation.py\u001b[0m in \u001b[0;36mcheck_array\u001b[0;34m(array, accept_sparse, accept_large_sparse, dtype, order, copy, force_all_finite, ensure_2d, allow_nd, ensure_min_samples, ensure_min_features, warn_on_dtype, estimator)\u001b[0m\n\u001b[1;32m    576\u001b[0m         \u001b[0;32mif\u001b[0m \u001b[0mforce_all_finite\u001b[0m\u001b[0;34m:\u001b[0m\u001b[0;34m\u001b[0m\u001b[0;34m\u001b[0m\u001b[0m\n\u001b[1;32m    577\u001b[0m             _assert_all_finite(array,\n\u001b[0;32m--> 578\u001b[0;31m                                allow_nan=force_all_finite == 'allow-nan')\n\u001b[0m\u001b[1;32m    579\u001b[0m \u001b[0;34m\u001b[0m\u001b[0m\n\u001b[1;32m    580\u001b[0m     \u001b[0;32mif\u001b[0m \u001b[0mensure_min_samples\u001b[0m \u001b[0;34m>\u001b[0m \u001b[0;36m0\u001b[0m\u001b[0;34m:\u001b[0m\u001b[0;34m\u001b[0m\u001b[0;34m\u001b[0m\u001b[0m\n",
      "\u001b[0;32m/usr/local/lib/python3.7/dist-packages/sklearn/utils/validation.py\u001b[0m in \u001b[0;36m_assert_all_finite\u001b[0;34m(X, allow_nan, msg_dtype)\u001b[0m\n\u001b[1;32m     58\u001b[0m                     \u001b[0mmsg_err\u001b[0m\u001b[0;34m.\u001b[0m\u001b[0mformat\u001b[0m\u001b[0;34m\u001b[0m\u001b[0;34m\u001b[0m\u001b[0m\n\u001b[1;32m     59\u001b[0m                     (type_err,\n\u001b[0;32m---> 60\u001b[0;31m                      msg_dtype if msg_dtype is not None else X.dtype)\n\u001b[0m\u001b[1;32m     61\u001b[0m             )\n\u001b[1;32m     62\u001b[0m     \u001b[0;31m# for object dtype data, we only check for NaNs (GH-13254)\u001b[0m\u001b[0;34m\u001b[0m\u001b[0;34m\u001b[0m\u001b[0;34m\u001b[0m\u001b[0m\n",
      "\u001b[0;31mValueError\u001b[0m: Input contains NaN, infinity or a value too large for dtype('float32')."
     ]
    }
   ],
   "source": [
    "# model.fit(X_train, y_train)"
   ]
  },
  {
   "cell_type": "code",
   "execution_count": null,
   "metadata": {
    "executionInfo": {
     "elapsed": 41,
     "status": "aborted",
     "timestamp": 1628478370625,
     "user": {
      "displayName": "정재환",
      "photoUrl": "",
      "userId": "00289451058434735723"
     },
     "user_tz": -540
    },
    "id": "v55t-B-QKt8r"
   },
   "outputs": [],
   "source": [
    "# from xgboost import XGBRegressor"
   ]
  },
  {
   "cell_type": "code",
   "execution_count": null,
   "metadata": {
    "executionInfo": {
     "elapsed": 42,
     "status": "aborted",
     "timestamp": 1628478370626,
     "user": {
      "displayName": "정재환",
      "photoUrl": "",
      "userId": "00289451058434735723"
     },
     "user_tz": -540
    },
    "id": "htTIffCVyLaX"
   },
   "outputs": [],
   "source": [
    "# xgb_predictions = xgb_reg.predict(X_test)"
   ]
  },
  {
   "cell_type": "code",
   "execution_count": null,
   "metadata": {
    "executionInfo": {
     "elapsed": 42,
     "status": "aborted",
     "timestamp": 1628478370627,
     "user": {
      "displayName": "정재환",
      "photoUrl": "",
      "userId": "00289451058434735723"
     },
     "user_tz": -540
    },
    "id": "KNHiHqMFca87"
   },
   "outputs": [],
   "source": [
    "# best_param = xgb_search.best_params_"
   ]
  },
  {
   "cell_type": "code",
   "execution_count": null,
   "metadata": {
    "executionInfo": {
     "elapsed": 42,
     "status": "aborted",
     "timestamp": 1628478370628,
     "user": {
      "displayName": "정재환",
      "photoUrl": "",
      "userId": "00289451058434735723"
     },
     "user_tz": -540
    },
    "id": "yiEWw4vX8CAY"
   },
   "outputs": [],
   "source": []
  },
  {
   "cell_type": "code",
   "execution_count": null,
   "metadata": {
    "executionInfo": {
     "elapsed": 42,
     "status": "aborted",
     "timestamp": 1628478370629,
     "user": {
      "displayName": "정재환",
      "photoUrl": "",
      "userId": "00289451058434735723"
     },
     "user_tz": -540
    },
    "id": "CVAhXELu8Bkz"
   },
   "outputs": [],
   "source": []
  },
  {
   "cell_type": "code",
   "execution_count": null,
   "metadata": {
    "executionInfo": {
     "elapsed": 42,
     "status": "aborted",
     "timestamp": 1628478370630,
     "user": {
      "displayName": "정재환",
      "photoUrl": "",
      "userId": "00289451058434735723"
     },
     "user_tz": -540
    },
    "id": "H7Pd136dOD5-"
   },
   "outputs": [],
   "source": [
    "# X = train_agg\n",
    "# y = train_agg['등록차량수']\n",
    "\n",
    "# X_train, X_valid, y_train, y_valid = train_test_split(X, y)"
   ]
  },
  {
   "cell_type": "code",
   "execution_count": null,
   "metadata": {
    "executionInfo": {
     "elapsed": 43,
     "status": "aborted",
     "timestamp": 1628478370631,
     "user": {
      "displayName": "정재환",
      "photoUrl": "",
      "userId": "00289451058434735723"
     },
     "user_tz": -540
    },
    "id": "HPRKI22WZwFs"
   },
   "outputs": [],
   "source": [
    "# X_train.head()"
   ]
  },
  {
   "cell_type": "code",
   "execution_count": null,
   "metadata": {
    "executionInfo": {
     "elapsed": 43,
     "status": "aborted",
     "timestamp": 1628478370632,
     "user": {
      "displayName": "정재환",
      "photoUrl": "",
      "userId": "00289451058434735723"
     },
     "user_tz": -540
    },
    "id": "KAXwK7dqoMdj"
   },
   "outputs": [],
   "source": [
    "# X_train = X_train.fillna(-1)\n",
    "# y"
   ]
  },
  {
   "cell_type": "code",
   "execution_count": null,
   "metadata": {
    "executionInfo": {
     "elapsed": 43,
     "status": "aborted",
     "timestamp": 1628478370632,
     "user": {
      "displayName": "정재환",
      "photoUrl": "",
      "userId": "00289451058434735723"
     },
     "user_tz": -540
    },
    "id": "36oVNIytHMJ1"
   },
   "outputs": [],
   "source": [
    "# y= train_agg['등록차량수']\n",
    "# X = train_agg.drop('등록차량수', axis=1)\n",
    "# X_train, X_test, y_train, y_test = train_test_split(X, y, test, test_size = 0.2, random_state=2021)\n",
    "# print(X_train.shape, X_test.shape)"
   ]
  },
  {
   "cell_type": "code",
   "execution_count": null,
   "metadata": {
    "executionInfo": {
     "elapsed": 43,
     "status": "aborted",
     "timestamp": 1628478370633,
     "user": {
      "displayName": "정재환",
      "photoUrl": "",
      "userId": "00289451058434735723"
     },
     "user_tz": -540
    },
    "id": "mvClFRJsu4qn"
   },
   "outputs": [],
   "source": [
    "# xgb_model = XGBRegressor(n_estimators=500)\n",
    "# xgb_model.fit(x_train, y_train)\n",
    "\n",
    "# xgb_predictions = xgb_model.predict()"
   ]
  },
  {
   "cell_type": "code",
   "execution_count": null,
   "metadata": {
    "executionInfo": {
     "elapsed": 44,
     "status": "aborted",
     "timestamp": 1628478370634,
     "user": {
      "displayName": "정재환",
      "photoUrl": "",
      "userId": "00289451058434735723"
     },
     "user_tz": -540
    },
    "id": "cWwN8X0Fuo_A"
   },
   "outputs": [],
   "source": [
    "# from sklearn.metrics import mean_absolute_error"
   ]
  },
  {
   "cell_type": "code",
   "execution_count": null,
   "metadata": {
    "executionInfo": {
     "elapsed": 44,
     "status": "aborted",
     "timestamp": 1628478370635,
     "user": {
      "displayName": "정재환",
      "photoUrl": "",
      "userId": "00289451058434735723"
     },
     "user_tz": -540
    },
    "id": "mmkgTfzYaOAi"
   },
   "outputs": [],
   "source": [
    "# xgb_model = XGBRegressor(n_estimators=500)\n",
    "# xgb_model.fit(x_train, y_train,\n",
    "#               early_stopping_rounds=5,\n",
    "#               eval_set=[(X_valid, y_valid)],\n",
    "#               verbose=False)\n",
    "\n",
    "# predictions = xgb_model.predict(X_valid)\n",
    "# print(\"Mean Absolute Error: \" + str(mean_absolute_error(predictions, y_valid)))"
   ]
  },
  {
   "cell_type": "code",
   "execution_count": null,
   "metadata": {
    "executionInfo": {
     "elapsed": 44,
     "status": "aborted",
     "timestamp": 1628478370635,
     "user": {
      "displayName": "정재환",
      "photoUrl": "",
      "userId": "00289451058434735723"
     },
     "user_tz": -540
    },
    "id": "RuboQ6Ctu_yn"
   },
   "outputs": [],
   "source": [
    "# xgb_model = XGBRegressor(n_estimators=1000, learning_rate=0.05)\n",
    "# xgb_model.fit(X_train, y_train,\n",
    "#               early_stopping_rounds=5,\n",
    "#               eval_set=[(X_valid, y_valid)],\n",
    "#               verbose=False)\n",
    "\n",
    "# predictions = xgb_model.predict(X_valid)\n",
    "# print(\"Mean Absolute Error: \" + str(mean_absolute_error(predictions, y_valid)))"
   ]
  },
  {
   "cell_type": "code",
   "execution_count": null,
   "metadata": {
    "executionInfo": {
     "elapsed": 45,
     "status": "aborted",
     "timestamp": 1628478370636,
     "user": {
      "displayName": "정재환",
      "photoUrl": "",
      "userId": "00289451058434735723"
     },
     "user_tz": -540
    },
    "id": "AvKe0Wo0wAYG"
   },
   "outputs": [],
   "source": [
    "# submission"
   ]
  },
  {
   "cell_type": "code",
   "execution_count": null,
   "metadata": {
    "executionInfo": {
     "elapsed": 45,
     "status": "aborted",
     "timestamp": 1628478370637,
     "user": {
      "displayName": "정재환",
      "photoUrl": "",
      "userId": "00289451058434735723"
     },
     "user_tz": -540
    },
    "id": "Xx83IF2qwCMf"
   },
   "outputs": [],
   "source": [
    "# predictions"
   ]
  },
  {
   "cell_type": "code",
   "execution_count": null,
   "metadata": {
    "executionInfo": {
     "elapsed": 46,
     "status": "aborted",
     "timestamp": 1628478370638,
     "user": {
      "displayName": "정재환",
      "photoUrl": "",
      "userId": "00289451058434735723"
     },
     "user_tz": -540
    },
    "id": "aMUN18zqveEt"
   },
   "outputs": [],
   "source": [
    "# submission['num']=predictions"
   ]
  },
  {
   "cell_type": "code",
   "execution_count": null,
   "metadata": {
    "executionInfo": {
     "elapsed": 47,
     "status": "aborted",
     "timestamp": 1628478370639,
     "user": {
      "displayName": "정재환",
      "photoUrl": "",
      "userId": "00289451058434735723"
     },
     "user_tz": -540
    },
    "id": "cTMybx9P9Jdp"
   },
   "outputs": [],
   "source": [
    "# for n_fold, (trn_idx, val_idx) in enumerate(folds.split(train_agg1)):\n",
    "#   trn_x, trn_y = x_train.ix[trn_idx], y_train[trn_idx]\n",
    "#   val_x, val_y = x_train.ix[val_idx], y_train[val_idx]\n",
    "\n",
    "#   param = {'max_depth':10, \n",
    "#          'subsample':1,\n",
    "#          'min_child_weight':0.5,\n",
    "#          'eta':0.3,\n",
    "#          'num_rounds':500,\n",
    "#          'seed':1,\n",
    "#          'silent':0,\n",
    "#          'eval_metric':'rmse',\n",
    "#          'tree_method':'gpu_hist' }"
   ]
  },
  {
   "cell_type": "code",
   "execution_count": null,
   "metadata": {
    "id": "C5dIxw_l4htf"
   },
   "outputs": [],
   "source": []
  }
 ],
 "metadata": {
  "colab": {
   "authorship_tag": "ABX9TyOpAxTvLGD2gcPuIfNQ2VC4",
   "collapsed_sections": [
    "bI8RnHnt6st3",
    "ei8esOj_GhpD",
    "nVRfQVlZHrlU",
    "eEqkG6ZCJPdS",
    "jfrh9fnULec4"
   ],
   "mount_file_id": "1o2IwvJQUinc8wgnpKv6fbCfizjkqJGGp",
   "name": "Untitled25.ipynb",
   "provenance": []
  },
  "kernelspec": {
   "display_name": "Python 3",
   "language": "python",
   "name": "python3"
  },
  "language_info": {
   "codemirror_mode": {
    "name": "ipython",
    "version": 3
   },
   "file_extension": ".py",
   "mimetype": "text/x-python",
   "name": "python",
   "nbconvert_exporter": "python",
   "pygments_lexer": "ipython3",
   "version": "3.8.8"
  },
  "vp": {
   "base_numbering": 1,
   "nav_menu": {},
   "number_sections": true,
   "sideBar": true,
   "title_cell": "VisualPython",
   "title_sidebar": "VisualPython",
   "vpPosition": {
    "height": "calc(100% - 180px)",
    "right": "10px",
    "top": "110px",
    "width": "50%"
   },
   "vp_cell": false,
   "vp_section_display": true,
   "vp_window_display": false
  }
 },
 "nbformat": 4,
 "nbformat_minor": 1
}
